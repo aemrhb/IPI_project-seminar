{
  "nbformat": 4,
  "nbformat_minor": 0,
  "metadata": {
    "colab": {
      "provenance": [],
      "authorship_tag": "ABX9TyPVcfrfcFGRfyiEs6yy+hHp",
      "include_colab_link": true
    },
    "kernelspec": {
      "name": "python3",
      "display_name": "Python 3"
    },
    "language_info": {
      "name": "python"
    }
  },
  "cells": [
    {
      "cell_type": "markdown",
      "metadata": {
        "id": "view-in-github",
        "colab_type": "text"
      },
      "source": [
        "<a href=\"https://colab.research.google.com/github/aemrhb/IPI_project-seminar/blob/main/yoloV8_deepsort_wrapper.ipynb\" target=\"_parent\"><img src=\"https://colab.research.google.com/assets/colab-badge.svg\" alt=\"Open In Colab\"/></a>"
      ]
    },
    {
      "cell_type": "code",
      "execution_count": null,
      "metadata": {
        "colab": {
          "base_uri": "https://localhost:8080/"
        },
        "id": "5yWjFR7ikinN",
        "outputId": "5009024b-b40f-4b07-e316-38c89dcd44b5"
      },
      "outputs": [
        {
          "output_type": "stream",
          "name": "stdout",
          "text": [
            "Mounted at /content/gdrive\n"
          ]
        }
      ],
      "source": [
        "from google.colab import drive\n",
        "drive.mount(\"/content/gdrive\")"
      ]
    },
    {
      "cell_type": "code",
      "source": [
        "%cd gdrive/My Drive/ps-ss23"
      ],
      "metadata": {
        "colab": {
          "base_uri": "https://localhost:8080/"
        },
        "id": "3fAhaIIZkoww",
        "outputId": "694c22c9-4919-4191-96c8-472341c78854"
      },
      "execution_count": null,
      "outputs": [
        {
          "output_type": "stream",
          "name": "stdout",
          "text": [
            "/content/gdrive/My Drive/ps-ss23\n"
          ]
        }
      ]
    },
    {
      "cell_type": "code",
      "source": [
        "!git clone https://github.com/computervisioneng/deep_sort.git"
      ],
      "metadata": {
        "colab": {
          "base_uri": "https://localhost:8080/"
        },
        "id": "LvgfyxiaoIiF",
        "outputId": "935472db-0f0b-49f6-abac-2bcd94c8d6c8"
      },
      "execution_count": null,
      "outputs": [
        {
          "output_type": "stream",
          "name": "stdout",
          "text": [
            "fatal: destination path 'deep_sort' already exists and is not an empty directory.\n"
          ]
        }
      ]
    },
    {
      "cell_type": "code",
      "source": [
        "import os\n",
        "import random\n",
        "import cv2\n",
        "\n",
        "! pip install ultralytics\n",
        "from ultralytics import YOLO"
      ],
      "metadata": {
        "colab": {
          "base_uri": "https://localhost:8080/"
        },
        "id": "dL9rAT9Cc4_d",
        "outputId": "67eb2b50-c44d-433d-a4ba-935b6e6a0a7a"
      },
      "execution_count": null,
      "outputs": [
        {
          "output_type": "stream",
          "name": "stdout",
          "text": [
            "Looking in indexes: https://pypi.org/simple, https://us-python.pkg.dev/colab-wheels/public/simple/\n",
            "Collecting ultralytics\n",
            "  Downloading ultralytics-8.0.104-py3-none-any.whl (585 kB)\n",
            "\u001b[2K     \u001b[90m━━━━━━━━━━━━━━━━━━━━━━━━━━━━━━━━━━━━━━\u001b[0m \u001b[32m585.5/585.5 kB\u001b[0m \u001b[31m10.4 MB/s\u001b[0m eta \u001b[36m0:00:00\u001b[0m\n",
            "\u001b[?25hRequirement already satisfied: matplotlib>=3.2.2 in /usr/local/lib/python3.10/dist-packages (from ultralytics) (3.7.1)\n",
            "Requirement already satisfied: opencv-python>=4.6.0 in /usr/local/lib/python3.10/dist-packages (from ultralytics) (4.7.0.72)\n",
            "Requirement already satisfied: Pillow>=7.1.2 in /usr/local/lib/python3.10/dist-packages (from ultralytics) (8.4.0)\n",
            "Requirement already satisfied: PyYAML>=5.3.1 in /usr/local/lib/python3.10/dist-packages (from ultralytics) (6.0)\n",
            "Requirement already satisfied: requests>=2.23.0 in /usr/local/lib/python3.10/dist-packages (from ultralytics) (2.27.1)\n",
            "Requirement already satisfied: scipy>=1.4.1 in /usr/local/lib/python3.10/dist-packages (from ultralytics) (1.10.1)\n",
            "Requirement already satisfied: torch>=1.7.0 in /usr/local/lib/python3.10/dist-packages (from ultralytics) (2.0.0+cu118)\n",
            "Requirement already satisfied: torchvision>=0.8.1 in /usr/local/lib/python3.10/dist-packages (from ultralytics) (0.15.1+cu118)\n",
            "Requirement already satisfied: tqdm>=4.64.0 in /usr/local/lib/python3.10/dist-packages (from ultralytics) (4.65.0)\n",
            "Requirement already satisfied: pandas>=1.1.4 in /usr/local/lib/python3.10/dist-packages (from ultralytics) (1.5.3)\n",
            "Requirement already satisfied: seaborn>=0.11.0 in /usr/local/lib/python3.10/dist-packages (from ultralytics) (0.12.2)\n",
            "Requirement already satisfied: psutil in /usr/local/lib/python3.10/dist-packages (from ultralytics) (5.9.5)\n",
            "Collecting sentry-sdk (from ultralytics)\n",
            "  Downloading sentry_sdk-1.23.1-py2.py3-none-any.whl (205 kB)\n",
            "\u001b[2K     \u001b[90m━━━━━━━━━━━━━━━━━━━━━━━━━━━━━━━━━━━━━━\u001b[0m \u001b[32m205.1/205.1 kB\u001b[0m \u001b[31m24.4 MB/s\u001b[0m eta \u001b[36m0:00:00\u001b[0m\n",
            "\u001b[?25hRequirement already satisfied: contourpy>=1.0.1 in /usr/local/lib/python3.10/dist-packages (from matplotlib>=3.2.2->ultralytics) (1.0.7)\n",
            "Requirement already satisfied: cycler>=0.10 in /usr/local/lib/python3.10/dist-packages (from matplotlib>=3.2.2->ultralytics) (0.11.0)\n",
            "Requirement already satisfied: fonttools>=4.22.0 in /usr/local/lib/python3.10/dist-packages (from matplotlib>=3.2.2->ultralytics) (4.39.3)\n",
            "Requirement already satisfied: kiwisolver>=1.0.1 in /usr/local/lib/python3.10/dist-packages (from matplotlib>=3.2.2->ultralytics) (1.4.4)\n",
            "Requirement already satisfied: numpy>=1.20 in /usr/local/lib/python3.10/dist-packages (from matplotlib>=3.2.2->ultralytics) (1.22.4)\n",
            "Requirement already satisfied: packaging>=20.0 in /usr/local/lib/python3.10/dist-packages (from matplotlib>=3.2.2->ultralytics) (23.1)\n",
            "Requirement already satisfied: pyparsing>=2.3.1 in /usr/local/lib/python3.10/dist-packages (from matplotlib>=3.2.2->ultralytics) (3.0.9)\n",
            "Requirement already satisfied: python-dateutil>=2.7 in /usr/local/lib/python3.10/dist-packages (from matplotlib>=3.2.2->ultralytics) (2.8.2)\n",
            "Requirement already satisfied: pytz>=2020.1 in /usr/local/lib/python3.10/dist-packages (from pandas>=1.1.4->ultralytics) (2022.7.1)\n",
            "Requirement already satisfied: urllib3<1.27,>=1.21.1 in /usr/local/lib/python3.10/dist-packages (from requests>=2.23.0->ultralytics) (1.26.15)\n",
            "Requirement already satisfied: certifi>=2017.4.17 in /usr/local/lib/python3.10/dist-packages (from requests>=2.23.0->ultralytics) (2022.12.7)\n",
            "Requirement already satisfied: charset-normalizer~=2.0.0 in /usr/local/lib/python3.10/dist-packages (from requests>=2.23.0->ultralytics) (2.0.12)\n",
            "Requirement already satisfied: idna<4,>=2.5 in /usr/local/lib/python3.10/dist-packages (from requests>=2.23.0->ultralytics) (3.4)\n",
            "Requirement already satisfied: filelock in /usr/local/lib/python3.10/dist-packages (from torch>=1.7.0->ultralytics) (3.12.0)\n",
            "Requirement already satisfied: typing-extensions in /usr/local/lib/python3.10/dist-packages (from torch>=1.7.0->ultralytics) (4.5.0)\n",
            "Requirement already satisfied: sympy in /usr/local/lib/python3.10/dist-packages (from torch>=1.7.0->ultralytics) (1.11.1)\n",
            "Requirement already satisfied: networkx in /usr/local/lib/python3.10/dist-packages (from torch>=1.7.0->ultralytics) (3.1)\n",
            "Requirement already satisfied: jinja2 in /usr/local/lib/python3.10/dist-packages (from torch>=1.7.0->ultralytics) (3.1.2)\n",
            "Requirement already satisfied: triton==2.0.0 in /usr/local/lib/python3.10/dist-packages (from torch>=1.7.0->ultralytics) (2.0.0)\n",
            "Requirement already satisfied: cmake in /usr/local/lib/python3.10/dist-packages (from triton==2.0.0->torch>=1.7.0->ultralytics) (3.25.2)\n",
            "Requirement already satisfied: lit in /usr/local/lib/python3.10/dist-packages (from triton==2.0.0->torch>=1.7.0->ultralytics) (16.0.3)\n",
            "Requirement already satisfied: six>=1.5 in /usr/local/lib/python3.10/dist-packages (from python-dateutil>=2.7->matplotlib>=3.2.2->ultralytics) (1.16.0)\n",
            "Requirement already satisfied: MarkupSafe>=2.0 in /usr/local/lib/python3.10/dist-packages (from jinja2->torch>=1.7.0->ultralytics) (2.1.2)\n",
            "Requirement already satisfied: mpmath>=0.19 in /usr/local/lib/python3.10/dist-packages (from sympy->torch>=1.7.0->ultralytics) (1.3.0)\n",
            "Installing collected packages: sentry-sdk, ultralytics\n",
            "Successfully installed sentry-sdk-1.23.1 ultralytics-8.0.104\n"
          ]
        }
      ]
    },
    {
      "cell_type": "code",
      "source": [
        "from deep_sort.deep_sort.tracker import Tracker \n",
        "from deep_sort.deep_sort import nn_matching\n",
        "from deep_sort.tools import generate_detections as gdet\n",
        "from deep_sort.deep_sort.detection import Detection"
      ],
      "metadata": {
        "id": "6aHMVx9Fc-bI"
      },
      "execution_count": null,
      "outputs": []
    },
    {
      "cell_type": "code",
      "source": [
        "# Definition of the parameters\n",
        "max_cosine_distance = 0.5\n",
        "nn_budget = None\n",
        "nms_max_overlap = 1.0\n",
        "\n",
        "#initialize deep sort\n",
        "model_filename = 'model_data/mars-small128.pb'\n",
        "encoder = gdet.create_box_encoder(model_filename, batch_size=1)\n",
        "metric = nn_matching.NearestNeighborDistanceMetric(\"cosine\", max_cosine_distance, nn_budget)\n",
        "tracker = Tracker(metric)"
      ],
      "metadata": {
        "id": "V46pNNdudbNq"
      },
      "execution_count": null,
      "outputs": []
    },
    {
      "cell_type": "code",
      "source": [
        "model = YOLO(\"yolov8n.pt\")"
      ],
      "metadata": {
        "id": "7r7TRsaqdzBP"
      },
      "execution_count": null,
      "outputs": []
    },
    {
      "cell_type": "code",
      "source": [
        "video_path = os.path.join('.', 'data', 'people.mp4')\n",
        "video_out_path = os.path.join('.', 'out.mp4')"
      ],
      "metadata": {
        "id": "4Iaij7WPdgOW"
      },
      "execution_count": null,
      "outputs": []
    },
    {
      "cell_type": "code",
      "source": [
        "cap = cv2.VideoCapture(video_path)\n",
        "ret, frame = cap.read()"
      ],
      "metadata": {
        "id": "PZfHhpcRdl1O"
      },
      "execution_count": null,
      "outputs": []
    },
    {
      "cell_type": "code",
      "source": [
        "cap_out = cv2.VideoWriter(video_out_path, cv2.VideoWriter_fourcc(*'MP4V'), cap.get(cv2.CAP_PROP_FPS),\n",
        "                          (frame.shape[1], frame.shape[0]))"
      ],
      "metadata": {
        "colab": {
          "base_uri": "https://localhost:8080/",
          "height": 204
        },
        "id": "J8uIwD3KdtIa",
        "outputId": "644cf2f0-7492-4942-a96d-22c5fe215d76"
      },
      "execution_count": null,
      "outputs": [
        {
          "output_type": "error",
          "ename": "AttributeError",
          "evalue": "ignored",
          "traceback": [
            "\u001b[0;31m---------------------------------------------------------------------------\u001b[0m",
            "\u001b[0;31mAttributeError\u001b[0m                            Traceback (most recent call last)",
            "\u001b[0;32m<ipython-input-25-1757435ed5eb>\u001b[0m in \u001b[0;36m<cell line: 1>\u001b[0;34m()\u001b[0m\n\u001b[1;32m      1\u001b[0m cap_out = cv2.VideoWriter(video_out_path, cv2.VideoWriter_fourcc(*'MP4V'), cap.get(cv2.CAP_PROP_FPS),\n\u001b[0;32m----> 2\u001b[0;31m                           (frame.shape[1], frame.shape[0]))\n\u001b[0m",
            "\u001b[0;31mAttributeError\u001b[0m: 'NoneType' object has no attribute 'shape'"
          ]
        }
      ]
    },
    {
      "cell_type": "code",
      "source": [
        "import numpy as np"
      ],
      "metadata": {
        "id": "rmfr_o2oeKz5"
      },
      "execution_count": null,
      "outputs": []
    },
    {
      "cell_type": "code",
      "source": [
        "# colors = [(random.randint(0, 255), random.randint(0, 255), random.randint(0, 255)) for j in range(10)]\n",
        "ret, frame = cap.read()\n",
        "detection_threshold = 0.5\n",
        "while ret:\n",
        "\n",
        "    results = model(frame)\n",
        "\n",
        "    for result in results:\n",
        "        detections = []\n",
        "        for r in result.boxes.data.tolist():\n",
        "          x1, y1, x2, y2, score, class_id = r\n",
        "          # print(r)\n",
        "          x1 = int(x1)\n",
        "          x2 = int(x2)\n",
        "          y1 = int(y1)\n",
        "          y2 = int(y2)\n",
        "          class_id = int(class_id)\n",
        "          if score > detection_threshold:\n",
        "              detections.append([x1, y1, x2, y2, score])\n",
        "\n",
        "        bboxes = np.asarray([d[:-1] for d in detections])\n",
        "        # print(bboxes.shape)\n",
        "        bboxes[:, 2:] = bboxes[:, 2:] - bboxes[:, 0:2]\n",
        "        # print(bboxes.shape)\n",
        "        scores = [d[-1] for d in detections]\n",
        "        features = encoder(frame, bboxes)\n",
        "        dets = []\n",
        "        for bbox_id, bbox in enumerate(bboxes):\n",
        "          # print(bbox,'s',scores[bbox_id],'f',features[bbox_id])\n",
        "          dets.append(Detection(bbox, scores[bbox_id], features[bbox_id]))\n",
        "          # dets.append([bbox,scores[bbox_id],features[bbox_id]])\n",
        "        print((dets[0:2]))\n",
        "        print(type(dets),\"class\")\n",
        "        \n",
        "        # print(type(dets))\n",
        " \n",
        "        tracker.predict()\n",
        "        tracker.update(dets)\n",
        "\n",
        "        result = []\n",
        "        for track in tracker.tracks:\n",
        "            if not track.is_confirmed() or track.time_since_update > 1:\n",
        "                continue\n",
        "            bbox = track.to_tlbr()\n",
        "            id = track.track_id\n",
        "\n",
        "            result.append([ id, bbox[0], bbox[1], bbox[2], bbox[3]])\n",
        "        print(result)\n",
        "\n",
        "\n",
        "      \n",
        "\n",
        "\n",
        "\n",
        "        # for track in tracker.tracks:\n",
        "        #     bbox = track.bbox\n",
        "        #     x1, y1, x2, y2 = bbox\n",
        "        #     track_id = track.track_id\n",
        "\n",
        "        #     cv2.rectangle(frame, (int(x1), int(y1)), (int(x2), int(y2)), (colors[track_id % len(colors)]), 3)\n",
        "\n",
        "    cap_out.write(frame)\n",
        "    ret, frame = cap.read()\n",
        "\n",
        "cap.release()\n",
        "cap_out.release()\n",
        "cv2.destroyAllWindows()"
      ],
      "metadata": {
        "colab": {
          "base_uri": "https://localhost:8080/"
        },
        "id": "tmYCg_UGduIh",
        "outputId": "e5240278-fc77-4870-ed63-dfba5a659301"
      },
      "execution_count": null,
      "outputs": [
        {
          "output_type": "stream",
          "name": "stderr",
          "text": [
            "\n",
            "0: 384x640 34 persons, 3 birds, 167.1ms\n",
            "Speed: 7.5ms preprocess, 167.1ms inference, 2.4ms postprocess per image at shape (1, 3, 640, 640)\n",
            "\n"
          ]
        },
        {
          "output_type": "stream",
          "name": "stdout",
          "text": [
            "[<deep_sort.deep_sort.detection.Detection object at 0x7f003548aec0>, <deep_sort.deep_sort.detection.Detection object at 0x7f01681645b0>]\n",
            "<class 'list'> class\n",
            "[[1, 774.745783237894, 99.33784399910525, 813.1876458959503, 182.74619282627964], [16, 621.2257470490289, 444.19530720034084, 674.3474289011314, 570.5562309326368], [34, 592.3556034103308, 53.90533497321037, 625.7029957208724, 135.62721313184346], [36, 924.2619156480716, 4.184273313742715, 952.8676839272682, 98.76456237154392], [42, 701.7067738978182, 31.244225677872613, 724.5998403335216, 109.14203891478402], [50, 852.4574133101303, -0.5191084962784771, 884.56116890275, 79.5501221680589], [54, 497.8267201523639, 61.277915874328286, 532.9818268022713, 155.08129656292266], [58, 76.87915082347686, 172.25723316701828, 129.51378685816778, 266.39489561890844], [60, 620.9175663460251, 116.55351196109969, 660.4697738047682, 207.46382980134058], [61, 1027.256982103082, 11.833225962786202, 1071.0514809853553, 96.06722380330143], [70, 507.152654589893, 251.89971680477947, 552.1266219038594, 354.27076502751277], [75, 503.72914710308663, 296.800295545696, 551.6553810755863, 407.03323931502285], [77, 9.57595447862392, 86.05123798962995, 47.38456501271802, 168.1841679297229], [78, 1041.8142728712558, 374.8621184448163, 1096.055587374845, 493.96543329657715], [79, 674.4981412224273, 111.94812362427177, 705.830338806901, 197.01189616757887], [82, 1195.5657181115378, 10.426745728069413, 1240.5429040490899, 129.6691117501349], [84, 654.9315363618587, 376.8722078905368, 700.4070327060407, 486.1034152922001], [86, 1114.631852073885, 4.534028741422404, 1159.283478116914, 83.7618663138453], [87, 1173.250053984823, -0.11067248747583847, 1204.937964616792, 60.40613220503209], [89, 1072.8716507150602, 8.731086525308605, 1101.0976645374933, 83.94979360504388], [94, 942.2456412668826, 480.55649543788843, 1007.7287850510875, 602.2040344255844], [98, 2.818757036873169, 245.70168292087502, 48.90230725707478, 353.0414377665258], [100, 50.63754424415618, 469.3683847685062, 116.83858738306995, 596.7390441316373], [102, 1193.0749014534965, 94.00332891659386, 1236.0203444518897, 179.888684696241], [105, 747.0067295003428, 623.2677266077824, 835.2284796539051, 720.0018903801268], [107, 914.2532110279972, 611.2072629330967, 995.9403355592856, 719.865991766251], [109, 1232.1972032326623, 171.70461518011498, 1279.3304171912932, 293.12527256383504]]\n"
          ]
        },
        {
          "output_type": "stream",
          "name": "stderr",
          "text": [
            "0: 384x640 35 persons, 3 birds, 191.6ms\n",
            "Speed: 4.4ms preprocess, 191.6ms inference, 1.5ms postprocess per image at shape (1, 3, 640, 640)\n",
            "\n"
          ]
        },
        {
          "output_type": "stream",
          "name": "stdout",
          "text": [
            "[<deep_sort.deep_sort.detection.Detection object at 0x7f00354f4c10>, <deep_sort.deep_sort.detection.Detection object at 0x7f00354f4310>]\n",
            "<class 'list'> class\n",
            "[[1, 773.2638071152488, 98.91341623639869, 810.847009693011, 185.1084310740822], [34, 592.5695583845835, 55.710149798881005, 625.5326409136021, 137.93010577253062], [60, 617.4792614841631, 119.47651070134808, 656.4913593698303, 209.61674256608023], [75, 500.73415115366356, 293.6011219299929, 546.5320801514135, 398.26291896720215], [86, 1112.576125028343, 6.806615437100582, 1158.2592929399248, 90.03553755197487], [89, 1074.8710241384667, 10.011322230215477, 1102.3366613857477, 83.56877683394518], [94, 941.6982695048036, 474.5677116398874, 1007.5301579229698, 596.8652800564385], [102, 1193.8054629630278, 98.58028617506778, 1235.4261911810113, 182.88013355732687], [105, 748.9394392477259, 622.4672917499169, 836.4107687138475, 720.0016471459113]]\n"
          ]
        },
        {
          "output_type": "stream",
          "name": "stderr",
          "text": [
            "0: 384x640 36 persons, 2 birds, 217.0ms\n",
            "Speed: 6.3ms preprocess, 217.0ms inference, 1.8ms postprocess per image at shape (1, 3, 640, 640)\n",
            "\n"
          ]
        },
        {
          "output_type": "stream",
          "name": "stdout",
          "text": [
            "[<deep_sort.deep_sort.detection.Detection object at 0x7f013411be50>, <deep_sort.deep_sort.detection.Detection object at 0x7f01681662c0>]\n",
            "<class 'list'> class\n",
            "[[1, 773.4574202461104, 97.86204025143059, 809.932167866582, 184.45740166202165], [34, 593.5076447673989, 56.95857055546771, 625.8972785399967, 138.6972204899661], [54, 526.4857324133117, 49.6114218184548, 558.0964040508113, 135.01910393931462], [60, 616.1343076692749, 120.48608507560994, 655.1547156464258, 211.69554585664537], [75, 499.4578193290061, 291.12790197008826, 544.9689865886915, 394.9138357500165], [86, 1111.6168180710665, 7.120133798756385, 1157.4694474758958, 92.61640175228207], [89, 1076.2602029818465, 10.517445668676714, 1103.5976998992912, 84.15386049060338], [94, 939.4172378349808, 468.9040991882143, 1006.3758987267796, 591.1199182607171], [102, 1194.2737224357866, 101.3675121514826, 1235.6260833846882, 185.86844586375844], [105, 749.3718265081848, 620.3234428189155, 837.1670193290691, 720.0014848497955], [113, 137.52835066692182, 23.415009574105028, 178.29749352965908, 101.20750478705251], [114, 800.7003670658107, 78.2012033976392, 836.3158010643568, 170.1850352674718], [115, 25.660721316766626, 533.8160965134721, 95.6750835668413, 660.2160419599018], [116, 170.21636080090744, 294.7770179943609, 215.75046832222066, 405.4625494497142], [117, 726.4380937597724, 32.01639670927153, 755.7823508871004, 101.79595206239858], [118, 472.48320259361884, 150.61220213093378, 510.55049660624906, 246.4193678205785], [120, 568.1248482950656, 45.217081327978676, 595.0760864878567, 129.98385345494376], [122, 759.0293407519179, 328.61996941516065, 808.1983316321807, 425.78459406212426], [123, 968.92354043416, 215.7959520623986, 1013.6683636906371, 323.0163967092716], [124, 978.0234655908214, 319.79829187796656, 1033.3714100430782, 431.7820831895889], [125, 449.1917275352246, 419.3345049712726, 495.8388363707801, 542.4602755091088]]\n"
          ]
        },
        {
          "output_type": "stream",
          "name": "stderr",
          "text": [
            "0: 384x640 37 persons, 2 birds, 169.6ms\n",
            "Speed: 4.4ms preprocess, 169.6ms inference, 1.3ms postprocess per image at shape (1, 3, 640, 640)\n",
            "\n"
          ]
        },
        {
          "output_type": "stream",
          "name": "stdout",
          "text": [
            "[<deep_sort.deep_sort.detection.Detection object at 0x7f01681645b0>, <deep_sort.deep_sort.detection.Detection object at 0x7f00354f63e0>]\n",
            "<class 'list'> class\n",
            "[[1, 774.1708292934594, 97.28919676211592, 809.6408348807515, 183.36023541526447], [5, 658.0416002334216, 68.98398810500223, 692.240818355433, 161.93042355569605], [34, 594.9025988606318, 59.281109549614996, 626.3006042071153, 138.84659454800087], [54, 531.1027212908385, 47.81517114786012, 561.8918362567094, 131.91361202686144], [60, 615.4122217383871, 120.79667989614123, 654.2903358465456, 212.41721475250583], [75, 499.3042791501113, 287.7431115013175, 544.767854500644, 391.2681022408078], [86, 1111.889438847746, 7.225462606403035, 1157.9018052549654, 94.21461287400558], [89, 1077.2160850095436, 10.718115112963474, 1104.3340949360224, 84.40509624299312], [94, 936.5931318604189, 467.0162603322727, 1004.301390633942, 588.6040048752102], [102, 1194.687679710029, 102.9301731933397, 1236.1708682068752, 188.20009823142027], [105, 749.1270109367163, 616.3869375544488, 837.8641053854989, 719.3609335080104], [113, 138.8718389149227, 22.100077210898498, 179.56766702342853, 100.17152753011962], [114, 801.1557206344845, 77.92800981693007, 835.8909287220599, 167.5860772100565], [115, 26.154192409744184, 534.8870721891077, 95.87631252397195, 660.7454812213662], [116, 169.87748960845238, 295.02226986462995, 215.260773497485, 405.0013215223847], [117, 726.2535658927644, 32.806780772827665, 755.7218705370044, 102.83134434305887], [118, 472.8339289814948, 148.98312738927123, 511.0198676150443, 245.1024267179796], [120, 568.0697154353666, 44.974141718491175, 594.8570854578418, 129.1910977504288], [122, 759.3472018579754, 326.3303193713216, 806.8992658464113, 420.081271356161], [123, 970.335692127638, 216.83649751121104, 1015.1034397462228, 323.81268446551076], [124, 978.2827551608219, 320.83662360965633, 1033.168047804124, 432.02512346457013], [125, 449.48071177706976, 416.3727067036679, 494.8155938975442, 535.5499796681514], [126, 1126.7112736126192, 111.81511384583287, 1171.6209822189326, 199.5817623891171]]\n"
          ]
        },
        {
          "output_type": "stream",
          "name": "stderr",
          "text": [
            "0: 384x640 37 persons, 2 birds, 212.5ms\n",
            "Speed: 7.0ms preprocess, 212.5ms inference, 1.4ms postprocess per image at shape (1, 3, 640, 640)\n",
            "\n"
          ]
        },
        {
          "output_type": "stream",
          "name": "stdout",
          "text": [
            "[<deep_sort.deep_sort.detection.Detection object at 0x7f003548af20>, <deep_sort.deep_sort.detection.Detection object at 0x7f0168166e30>]\n",
            "<class 'list'> class\n",
            "[[1, 774.7354817856453, 96.24082814569509, 809.0836735411388, 182.14339950766623], [5, 657.3077406871212, 72.1005173051056, 691.9005679171746, 166.12184345512543], [34, 596.0199766298465, 59.38913191148313, 627.1803601741061, 138.74492625002654], [54, 532.7741884378519, 47.23380626977056, 562.9069270643199, 130.23467728950132], [60, 615.9511654032215, 121.503045113266, 654.561509242853, 212.6294761116767], [75, 499.3445538240947, 284.7397200753546, 544.6868703795806, 388.22655587412646], [86, 1112.7282976807498, 7.249458545353583, 1158.7334272229916, 95.41615499483578], [89, 1077.9385464138904, 10.806560740487406, 1104.952980862669, 84.53419209648968], [94, 935.0290181269955, 466.44685491025774, 1003.4748149569052, 587.8004270895947], [102, 1194.7837155843088, 103.37710725357596, 1236.480591497497, 189.62649125169912], [105, 748.7748548665155, 612.3889540054492, 839.0184730001544, 719.747520021008], [113, 140.29821663317873, 20.997359663732958, 180.4101317319715, 98.39613733971075], [114, 801.2836816423218, 77.87492539055063, 835.7605183506091, 166.80553285409303], [115, 26.506050882809078, 535.1835070383887, 95.69767457191314, 660.1859483353429], [116, 169.46348619645826, 296.5660102333202, 214.6938272028564, 405.6245116947349], [117, 726.4432270804742, 33.052921921823234, 756.2065150410023, 103.872538580928], [118, 472.81138502907214, 148.55161662613713, 511.28862230352905, 245.46502776766664], [120, 567.9541125386216, 44.17616618516922, 594.915978200665, 128.94688081642371], [122, 759.1699067833922, 324.18529522201624, 806.0257732332625, 416.177520809043], [123, 971.3805252406099, 217.87726156189603, 1015.6432555967951, 323.31505760102834], [124, 979.2097844899248, 323.3608644995969, 1032.9089942544565, 432.0831171458939], [125, 449.846060797844, 413.3064657567907, 494.97560229554, 531.5036724822943], [126, 1127.0716083070079, 112.50534579965544, 1172.0544949694176, 200.4150055467934]]\n"
          ]
        },
        {
          "output_type": "stream",
          "name": "stderr",
          "text": [
            "0: 384x640 35 persons, 3 birds, 205.4ms\n",
            "Speed: 5.2ms preprocess, 205.4ms inference, 1.4ms postprocess per image at shape (1, 3, 640, 640)\n",
            "\n"
          ]
        },
        {
          "output_type": "stream",
          "name": "stdout",
          "text": [
            "[<deep_sort.deep_sort.detection.Detection object at 0x7f01681662c0>, <deep_sort.deep_sort.detection.Detection object at 0x7f00354891b0>]\n",
            "<class 'list'> class\n",
            "[[1, 775.2670695209002, 95.77884956460443, 808.2148190371793, 180.26072898323943], [20, 1226.1311148649686, 440.5031575290633, 1286.1554472486027, 572.2465726975905], [34, 596.9308834850045, 56.71335724139419, 628.3163694048163, 137.94818240482147], [54, 533.2207242604779, 46.42685842441915, 563.2097073482672, 129.74523321749453], [60, 615.9263450792987, 123.0277724140557, 654.3142731052585, 213.97794997872919], [75, 499.15236853607126, 282.53069377558467, 544.1475249296997, 386.0520279461038], [86, 1113.2809196730677, 7.243079192908006, 1158.928818308706, 95.81991434395243], [89, 1078.632895147363, 10.850865043625447, 1105.4570635156979, 84.6127706239908], [94, 932.8065589266178, 468.3976804437646, 1001.5534300630911, 588.9890687237666], [102, 1194.7990645240973, 104.08674217302598, 1237.322248596822, 192.05142908896948], [105, 748.4079224293394, 607.7340707511235, 840.3240936888814, 719.9017759144172], [113, 141.10852456328132, 19.889360364177342, 181.28524367803539, 97.41318384266646], [114, 801.3045894948625, 77.15366664282949, 835.7329560214589, 165.89251153463732], [115, 26.797688924016924, 535.9606238172292, 95.42450081814415, 660.0028407425201], [116, 169.10674588763084, 299.94511938492997, 214.75439286393146, 409.460135719512], [117, 726.8611298512801, 33.827679831908675, 756.7394277527927, 104.90091477879642], [118, 472.6230782328956, 147.77510333312733, 511.53515301000823, 245.64021406995937], [120, 568.0307458762305, 43.925519255468565, 594.8399553223602, 128.16956356113656], [122, 759.0271115664158, 322.11979263503895, 805.8580340663775, 413.6402353550051], [123, 972.2081121066676, 219.62981140096227, 1016.6966288456076, 325.294886166849], [124, 979.1296259666553, 324.8818800635445, 1031.701753738669, 431.3598989950363], [125, 450.5971197592888, 410.2474108107231, 495.8521951732131, 528.2892538265962]]\n"
          ]
        },
        {
          "output_type": "stream",
          "name": "stderr",
          "text": [
            "0: 384x640 35 persons, 2 birds, 201.1ms\n",
            "Speed: 4.2ms preprocess, 201.1ms inference, 1.4ms postprocess per image at shape (1, 3, 640, 640)\n",
            "\n"
          ]
        },
        {
          "output_type": "stream",
          "name": "stdout",
          "text": [
            "[<deep_sort.deep_sort.detection.Detection object at 0x7f003548af20>, <deep_sort.deep_sort.detection.Detection object at 0x7f00354f6140>]\n",
            "<class 'list'> class\n",
            "[[1, 772.8864744512389, 96.7502830331099, 805.6237590722727, 180.69833210083272], [20, 1229.4682717567302, 439.67231566671427, 1283.9755853533616, 565.3706221549403], [34, 598.1450690327534, 55.639959116324796, 629.1575674504795, 136.9180198348813], [36, 925.2055891327796, 0.29925689664216293, 961.4105750832666, 119.81760140311557], [54, 533.3689765347747, 46.20093027968416, 562.4667297082958, 127.66421290154695], [60, 616.0631923397078, 124.86567926943701, 653.4782882150467, 213.77045290213732], [75, 499.5226657930979, 280.5895755718593, 543.357854975218, 383.48986577485783], [86, 1113.7983967208247, 8.51824586746968, 1158.7922047694283, 97.20246767677725], [89, 1079.3421086508092, 10.876938438550653, 1105.8827997156693, 84.00406926958631], [94, 930.5909405599929, 469.32878375961485, 999.6185611957109, 589.6174109516835], [102, 1195.2642472625353, 104.25360733644987, 1238.52869250373, 192.87205165929186], [105, 746.4630017917443, 601.5538817251277, 840.7265895443393, 719.9635766841669], [113, 146.05666959739557, 18.963825115772273, 186.30188341753686, 96.9057288161053], [114, 800.3403537829919, 75.51214274755999, 835.9852800775036, 167.75291336090947], [115, 27.827741190115574, 536.9000139776525, 95.78460356888881, 659.9486816250085], [116, 166.50972970723325, 303.17501925197945, 214.47046640495756, 417.79397027741686], [117, 727.5966640099433, 34.77975219440607, 757.0364550052577, 104.5288417419559], [118, 472.21130973985385, 145.4807867456745, 511.9471906704307, 245.73376770884448], [120, 567.5344191775902, 42.45626558808583, 594.6509014050714, 127.91635335218022], [122, 759.497449189202, 318.665194629076, 806.7329820780734, 410.8160291425771], [123, 973.5101465900625, 223.00182849212834, 1017.3696160880294, 326.66355295095116], [124, 981.9229908872442, 326.04723216029345, 1034.1257589566592, 431.8169916634935], [125, 449.6765891379997, 405.0676465372459, 496.5985637299999, 527.4457972368805]]\n"
          ]
        },
        {
          "output_type": "stream",
          "name": "stderr",
          "text": [
            "0: 384x640 34 persons, 2 birds, 192.8ms\n",
            "Speed: 7.1ms preprocess, 192.8ms inference, 1.5ms postprocess per image at shape (1, 3, 640, 640)\n",
            "\n"
          ]
        },
        {
          "output_type": "stream",
          "name": "stdout",
          "text": [
            "[<deep_sort.deep_sort.detection.Detection object at 0x7f003548aec0>, <deep_sort.deep_sort.detection.Detection object at 0x7f00354f4c10>]\n",
            "<class 'list'> class\n",
            "[[20, 1229.591253101045, 435.35435443971335, 1282.9631699798013, 562.6801851478672], [34, 599.1718736877832, 55.14172726440852, 629.5488820711021, 135.10160751189633], [36, 925.4166757163159, 0.11287402636676802, 962.1891365706389, 121.50450333965088], [54, 533.0607234364552, 46.205623252741205, 561.6293590009863, 127.02015631510442], [60, 616.1767892316046, 126.15533471305213, 653.1742572614969, 214.30121874363635], [75, 499.6919933501961, 278.73321099843, 542.8299451638715, 382.11185336269784], [86, 1113.9501780594755, 8.347757874066247, 1158.866449805242, 98.32334866503305], [89, 1079.808817428525, 10.895641423178688, 1106.5241130377174, 84.46641429325317], [94, 929.1136708858268, 469.8360966326875, 998.2795508877701, 590.0013218316101], [102, 1196.000071827717, 104.8727521379339, 1239.115255243788, 192.4219188987148], [105, 744.9866196291715, 596.673890272112, 840.315750344953, 719.9881596685475], [113, 149.27872360636303, 18.671350257645862, 189.4213834648521, 96.7076070051356], [114, 800.2688538208366, 74.84970089869971, 835.9673945604366, 167.22921398792113], [115, 29.22058404970599, 538.5882443458925, 95.55365667345623, 658.5467790111953], [116, 165.9700427795334, 306.30429924502823, 214.69029632362574, 422.0550405096553], [117, 727.6903589949196, 35.09940284030166, 757.3052099026241, 105.04212333894938], [118, 472.22641908792707, 144.70055894837665, 511.9183860314217, 245.1088757722776], [120, 567.2924596957849, 41.95311893472418, 594.6606288786386, 128.529748285989], [122, 759.7893515758815, 316.8487141693009, 806.9291726383942, 408.58271129560364], [123, 974.71204610583, 225.54185558105667, 1019.5702327271476, 331.3047417330281], [124, 982.023296735164, 327.7901612380507, 1035.8050711726166, 436.8594705168048], [125, 449.90391459835666, 402.673536212055, 497.66706185556995, 527.2970346406692], [128, 482.9550247148813, 0.0, 510.6133193669374, 60.9839466807288]]\n"
          ]
        },
        {
          "output_type": "stream",
          "name": "stderr",
          "text": [
            "0: 384x640 36 persons, 2 birds, 208.1ms\n",
            "Speed: 3.6ms preprocess, 208.1ms inference, 1.5ms postprocess per image at shape (1, 3, 640, 640)\n",
            "\n"
          ]
        },
        {
          "output_type": "stream",
          "name": "stdout",
          "text": [
            "[<deep_sort.deep_sort.detection.Detection object at 0x7f003548af20>, <deep_sort.deep_sort.detection.Detection object at 0x7f00354f74f0>]\n",
            "<class 'list'> class\n",
            "[[5, 657.2345194134544, 75.15603525340535, 693.0994128132969, 170.51935479843866], [20, 1229.8499358569893, 432.45558259687994, 1282.3743223406364, 561.0262815511675], [34, 599.5829524063971, 56.59166377593907, 630.0794386085558, 136.87124011810874], [54, 532.9376725599409, 46.26754943500307, 561.1720300459913, 126.8833220353576], [60, 616.1477792263044, 126.57362298677202, 653.1866009664842, 215.12325486968763], [75, 499.7850456757888, 276.87572085822103, 542.9533076740411, 381.79617914230346], [86, 1114.3792798280808, 8.267973309610788, 1159.2318193782544, 99.34759101351656], [89, 1079.7031820032032, 10.908900829741206, 1106.385727827552, 83.99555563999795], [94, 929.4423957714216, 470.1647912537119, 997.6273961485166, 588.9548511684991], [102, 1196.3400729848404, 105.00476673032017, 1239.9598815273491, 192.8127669684576], [105, 744.7195853296525, 592.3107544944605, 839.1804959717517, 718.1024828195275], [113, 151.12257998717075, 17.729497257262587, 191.35062619744284, 95.93174666178825], [114, 785.1584415505367, 87.70448825123954, 817.102881352067, 170.1582260689484], [115, 31.12184738802113, 538.460692875754, 97.50307246290274, 658.0524948859427], [116, 165.20984492353787, 308.74632895230934, 214.70825723218024, 425.5665818186409], [117, 728.0624144676773, 35.19263551684839, 757.7304255880392, 105.20200047792775], [118, 472.26818995213023, 143.8028838873052, 511.85718657202773, 244.21937737451066], [120, 566.8456481285579, 41.118189070930654, 594.360173131434, 128.7713911912208], [122, 760.0667100842003, 315.6102630092357, 807.5223448769516, 407.93084936742605], [123, 975.4863529160629, 227.74812760031364, 1021.297303424366, 335.63338170340955], [124, 982.4270714698878, 329.72192851431305, 1038.0202023107724, 442.6995554250203], [125, 449.4439097087948, 399.90120178983847, 498.58737210238894, 528.0948756051092], [126, 1124.5060049660128, 62.81090562861753, 1195.8700120475737, 203.99158984565366], [128, 483.16017323679984, 0.0, 510.8917315742655, 60.953587847712875]]\n"
          ]
        },
        {
          "output_type": "stream",
          "name": "stderr",
          "text": [
            "0: 384x640 33 persons, 2 birds, 195.1ms\n",
            "Speed: 3.9ms preprocess, 195.1ms inference, 1.4ms postprocess per image at shape (1, 3, 640, 640)\n",
            "\n"
          ]
        },
        {
          "output_type": "stream",
          "name": "stdout",
          "text": [
            "[<deep_sort.deep_sort.detection.Detection object at 0x7f013411be50>, <deep_sort.deep_sort.detection.Detection object at 0x7f00354f6560>]\n",
            "<class 'list'> class\n",
            "[[5, 656.7400171826482, 77.57023884546345, 692.9244609318183, 173.78772172045524], [20, 1229.9040368483588, 431.35672883738494, 1281.5359613267315, 559.730872463315], [54, 534.6976377477549, 45.01471684157595, 562.6186300408407, 124.74203554573604], [60, 616.4286746774617, 127.33907527226451, 652.945090968659, 214.7281199827355], [75, 499.60625078030046, 275.6646658359234, 542.836839933815, 381.8423660858449], [77, 57.649233188977306, 84.08672347408822, 94.80369607864506, 166.13330816190194], [86, 1115.1202488462172, 8.871280485275747, 1159.5073653944335, 100.33389865893677], [89, 1080.186050479795, 10.256138714988694, 1107.142982802429, 83.83798234799515], [94, 928.9977827764809, 470.42384715488333, 996.7112084733012, 588.687428438539], [102, 1196.2305981593347, 104.9818376189454, 1239.8551653211448, 192.22842404118234], [105, 744.1183041824042, 589.4317738038236, 836.6666263156187, 716.0717609967584], [113, 154.285073580005, 16.957682658900204, 194.96690624990595, 95.83178864830964], [114, 782.8400042111751, 89.06773271454239, 814.2538603664765, 170.15194858975497], [115, 33.3938424154214, 540.4318031936707, 99.30157674123942, 658.575262914317], [116, 164.22705910472612, 310.24518424534926, 214.7833845378174, 428.77333649176245], [117, 728.4393005074585, 35.881235729865296, 757.6307882660504, 104.55935966939202], [118, 472.8533788103102, 143.5258646025596, 511.9260102378335, 242.56427421351637], [120, 566.581746644801, 40.492609554172496, 594.2413820610756, 128.60809535654704], [122, 759.9977780021536, 315.24640295846996, 807.9062190520596, 408.4929911713847], [123, 975.8394557663574, 230.50810789415317, 1021.7850266293094, 338.5135276466557], [124, 983.1729288384212, 333.0534567925604, 1038.8563527054002, 446.1555578111254], [125, 449.8123796080223, 397.65167752609074, 499.70403548483574, 527.8387243064435], [126, 1124.2164319036697, 55.533943569073756, 1199.6986852257373, 204.86183401006429], [128, 483.5145801353879, 0.0, 511.39306269023007, 60.954336795677804]]\n"
          ]
        },
        {
          "output_type": "stream",
          "name": "stderr",
          "text": [
            "0: 384x640 34 persons, 2 birds, 177.1ms\n",
            "Speed: 2.7ms preprocess, 177.1ms inference, 1.4ms postprocess per image at shape (1, 3, 640, 640)\n",
            "\n"
          ]
        },
        {
          "output_type": "stream",
          "name": "stdout",
          "text": [
            "[<deep_sort.deep_sort.detection.Detection object at 0x7f00354891b0>, <deep_sort.deep_sort.detection.Detection object at 0x7f003548bdc0>]\n",
            "<class 'list'> class\n",
            "[[5, 657.0475360548412, 76.86071224088337, 693.5193525597996, 172.30822560701682], [20, 1230.276485757127, 429.6375570225465, 1281.5196484452447, 559.2318920765103], [36, 923.9076247093241, -0.0637036914983895, 961.0308922358882, 121.79440859756265], [54, 532.0034418533496, 44.740997052182806, 560.197842440844, 126.07971531664121], [60, 616.4469919560123, 127.5646842270267, 652.9938706123722, 215.20087587998427], [75, 499.3956454738237, 274.6915697583623, 542.5485132218527, 382.0170765408641], [77, 60.216701390181974, 83.99133430117189, 96.6495012939564, 165.32360915562396], [86, 1115.6107916920612, 10.392777978495936, 1158.8158921422717, 100.654928291451], [89, 1080.4435331355596, 10.01808097909052, 1107.350029301166, 83.13399624438105], [94, 927.3990533458414, 470.6250580601001, 994.5574412726546, 588.6921586144675], [102, 1196.8817820319082, 104.89634435210755, 1240.4522508501152, 191.93451614421184], [105, 743.2294545723297, 585.8715052667967, 835.0370571307238, 715.2723723920504], [113, 156.02119325659018, 15.327411907556936, 197.11763035969446, 95.04705988573758], [115, 36.272210697709056, 541.1156560420413, 102.61799049472464, 658.7835547712918], [116, 164.56916219448001, 313.3856712592709, 215.4630885827487, 431.86018521706075], [117, 727.9116114169169, 35.43736300545603, 757.5626134014494, 104.97253260129932], [118, 473.0260935552232, 142.1352181869366, 511.98848070512616, 241.29587288601093], [122, 760.7880133495768, 314.5170476692362, 809.2443120786118, 408.8016301442151], [123, 975.3184278019612, 232.8048194545546, 1022.5244566924472, 343.53104991336886], [124, 983.1203945349104, 334.92014226054147, 1039.4302089414691, 449.3905987891655], [125, 449.8359465651191, 395.59714360878445, 500.2199267671985, 527.1861612440027], [126, 1126.8547470299789, 58.05199546266594, 1199.5630109964989, 203.0721270277508], [128, 483.71117333269655, 0.0, 511.4514919827055, 60.24382629288764], [130, 247.1056121434954, 2.0, 283.69033991890313, 83.22044464687295], [131, 380.6907205847174, 196.0814456412808, 419.2940266676286, 284.2102466214702]]\n"
          ]
        },
        {
          "output_type": "stream",
          "name": "stderr",
          "text": [
            "0: 384x640 33 persons, 2 birds, 211.9ms\n",
            "Speed: 2.9ms preprocess, 211.9ms inference, 1.8ms postprocess per image at shape (1, 3, 640, 640)\n",
            "\n"
          ]
        },
        {
          "output_type": "stream",
          "name": "stdout",
          "text": [
            "[<deep_sort.deep_sort.detection.Detection object at 0x7f01681645b0>, <deep_sort.deep_sort.detection.Detection object at 0x7f003548af20>]\n",
            "<class 'list'> class\n",
            "[[5, 657.1030442184256, 77.65313611167818, 693.5820932485472, 171.6858538087785], [20, 1229.8237312551853, 427.0370035066371, 1280.7959156850357, 557.0771557646465], [36, 923.6968433581044, -0.07076899722115115, 960.7855113932496, 120.99819937777531], [54, 531.5060091977751, 43.19414029999716, 559.9323266466736, 126.13991825038177], [60, 615.7267350713838, 127.60227265698398, 653.1108565566158, 218.0011663561691], [75, 498.29740673683347, 271.8164289838415, 541.7184690847974, 381.55989982680694], [77, 61.289674496148876, 84.62578831628491, 97.06873818327963, 165.06112000781093], [86, 1115.9909795856443, 11.619896000683298, 1158.4120764966585, 101.36996321667812], [89, 1080.7904340628195, 9.936582140897002, 1107.8397162600625, 82.88650040050541], [94, 923.6542097531851, 472.7805363613084, 989.01673352034, 588.7891657426136], [102, 1197.591862875996, 106.12785024182583, 1241.5375865120902, 194.41894175124378], [105, 740.5560907176191, 580.7565340522398, 832.897022161586, 714.9702604498365], [113, 158.01422058502126, 14.315450160679681, 199.27361166259283, 94.35120251247389], [115, 40.114435377636745, 542.6801432225267, 106.37134894609389, 657.5161825409683], [116, 163.168126768095, 317.15045155930545, 214.63260094320205, 436.23043519327916], [117, 727.3097150655085, 37.265586241616305, 757.2668218214791, 107.11620527782019], [118, 473.1074047649627, 139.6595563216933, 511.3163838918776, 236.84519032538816], [120, 565.7399558408265, 39.03519108224885, 593.4142088378902, 128.04102877634173], [122, 760.4731642247622, 310.9746751984755, 809.6756893432932, 406.99641407170003], [123, 977.0485723965778, 234.91785828406557, 1024.1206978515931, 344.663497408594], [124, 984.4990512979585, 338.8720044094035, 1041.5043896414861, 455.16899978164975], [125, 449.33539654128884, 390.96268785009283, 500.2364956248975, 524.3819343606569], [126, 1127.8834322805326, 59.02756841377928, 1199.4609214064951, 203.25391055457575], [128, 484.0513823570544, 0.0, 511.6833952568756, 60.008615840310384], [130, 248.42287202868695, 1.232944944178037, 283.41426743360887, 79.14100517107877], [131, 380.87260327211516, 199.03828372990426, 418.9306154614072, 285.922214424604]]\n"
          ]
        },
        {
          "output_type": "stream",
          "name": "stderr",
          "text": [
            "0: 384x640 34 persons, 3 birds, 268.8ms\n",
            "Speed: 7.4ms preprocess, 268.8ms inference, 1.8ms postprocess per image at shape (1, 3, 640, 640)\n",
            "\n"
          ]
        },
        {
          "output_type": "stream",
          "name": "stdout",
          "text": [
            "[<deep_sort.deep_sort.detection.Detection object at 0x7f00354f6140>, <deep_sort.deep_sort.detection.Detection object at 0x7f00354f5450>]\n",
            "<class 'list'> class\n",
            "[[5, 656.7734677621489, 79.65742052925953, 693.4457072808009, 174.19149726184685], [20, 1228.8690262838302, 424.7560991428059, 1279.9882252048567, 555.6033092490813], [36, 923.5790203147343, -0.07417435470362932, 960.7533385023473, 120.73855006617353], [54, 531.3034072150712, 42.00256346948229, 559.8320669923432, 126.18657115648853], [60, 615.0654802009456, 128.2388045120851, 652.9174454092308, 220.32948620897514], [61, 1055.4293948664929, 11.797197049062135, 1090.49747877796, 83.12377334971245], [75, 498.540957849074, 269.5259284981284, 541.5876212806407, 379.52605911565973], [77, 61.24024366617262, 83.53301154253829, 96.78217249028884, 164.3032169813178], [86, 1116.9985541570056, 13.381063523536682, 1158.7518567776017, 102.24692259529132], [89, 1080.8623952325604, 9.913758469197042, 1108.0764714290556, 82.81142300702854], [94, 920.9240138583705, 473.023598051794, 985.0021199148823, 588.2591591791294], [102, 1198.4812175166387, 107.8573854164875, 1242.6325060090364, 196.6205658601993], [105, 739.4906840979281, 576.951445492062, 831.4575399958454, 714.8619992080701], [115, 42.7808837496812, 543.8935481984412, 109.79241471139153, 657.057614758796], [116, 162.69526012058054, 319.14827911489726, 214.2915089173241, 437.7648914373704], [117, 726.4052643797573, 38.602592232780026, 757.1577492033704, 109.90358122787829], [118, 473.2449182572527, 136.0965637390788, 510.94412971922327, 231.8480041135417], [120, 565.8036183111618, 38.80732037538454, 593.091769245332, 127.26651196546587], [122, 760.1731660156979, 308.38428552330635, 810.0044356081041, 406.3869698061913], [123, 978.5100683979038, 236.29733511497142, 1025.847161896122, 346.310727720942], [124, 985.4304169617362, 340.9570521484293, 1043.1385221239188, 459.2451233088194], [125, 449.12519496829776, 387.99505357018654, 499.58174161811223, 520.7624648346247], [126, 1128.4676151588073, 58.81380240012861, 1200.465336758667, 205.23731482655216], [130, 249.07666245411534, 0.964398060536432, 283.453138668411, 77.5033461094931]]\n"
          ]
        },
        {
          "output_type": "stream",
          "name": "stderr",
          "text": [
            "0: 384x640 33 persons, 4 birds, 268.5ms\n",
            "Speed: 5.3ms preprocess, 268.5ms inference, 2.1ms postprocess per image at shape (1, 3, 640, 640)\n",
            "\n"
          ]
        },
        {
          "output_type": "stream",
          "name": "stdout",
          "text": [
            "[<deep_sort.deep_sort.detection.Detection object at 0x7f0168166e30>, <deep_sort.deep_sort.detection.Detection object at 0x7f003548b850>]\n",
            "<class 'list'> class\n",
            "[[20, 1227.1804106145535, 422.6079411570754, 1279.043245593589, 555.0559231668931], [36, 923.4972137167523, -0.07113478320214739, 960.7644366627183, 120.60687336623664], [54, 531.2762450070135, 40.93684307768534, 559.680360285077, 125.59859806665379], [60, 615.265767980207, 129.75111085581827, 653.0781546265323, 222.49064213841496], [61, 1057.2858367848778, 11.897347480639233, 1090.6903719891077, 82.78555591678298], [75, 499.2466319377884, 266.806001660286, 541.8054772363682, 376.8938843140372], [77, 61.09008628269913, 83.79064923450709, 96.61065555755081, 164.689606356367], [86, 1117.3404079092097, 14.027072448514815, 1158.9625842352034, 103.18647341905464], [89, 1080.8353404945963, 9.912351039683749, 1108.2121194608992, 82.7998550873944], [94, 918.4727857449295, 473.1757980341073, 981.7296922751283, 588.1355725611478], [102, 1198.7788382027752, 109.77580401930888, 1242.4185550943062, 198.05859171768768], [105, 738.8897462006322, 574.3015665503494, 829.8184009148064, 714.8312113088845], [114, 798.891307180407, 65.7636585927018, 833.6660577301471, 155.87411395441768], [115, 42.84765468296089, 544.9714472720295, 110.45736958656093, 656.9046921811228], [116, 162.28382267581117, 320.47237574052605, 213.7667039204866, 438.21953888288624], [117, 725.2320282926349, 39.08343532997337, 756.6291936583015, 111.58373429939506], [118, 472.54472479643414, 133.4909943586298, 509.5378776768125, 227.36573691983006], [120, 565.8902757883804, 38.06882043550447, 592.9214042829306, 126.3353727160447], [122, 761.34165354793, 305.4974243557503, 810.8083103084089, 403.5882685313146], [123, 980.6790262492054, 238.73006918303986, 1027.4515383817518, 346.8427579505891], [124, 986.2070517033923, 342.3323814964522, 1043.9292884066117, 461.3535771768226], [125, 448.91681553334746, 385.00641411185774, 498.77610679793656, 516.8267633953925], [126, 1128.4245051132073, 59.5129296135939, 1200.407180168513, 207.9017414974353], [130, 250.33095819046545, 0.09030093850529397, 283.5681404346844, 74.24211109642008], [131, 379.33870684414075, 200.30866756431075, 418.75106189615883, 289.9592439597292]]\n"
          ]
        },
        {
          "output_type": "stream",
          "name": "stderr",
          "text": [
            "0: 384x640 34 persons, 4 birds, 292.2ms\n",
            "Speed: 2.6ms preprocess, 292.2ms inference, 1.8ms postprocess per image at shape (1, 3, 640, 640)\n",
            "\n"
          ]
        },
        {
          "output_type": "stream",
          "name": "stdout",
          "text": [
            "[<deep_sort.deep_sort.detection.Detection object at 0x7f00354f63e0>, <deep_sort.deep_sort.detection.Detection object at 0x7f00354f6bc0>]\n",
            "<class 'list'> class\n",
            "[[1, 779.7140458519583, 84.54293010764765, 811.85035440746, 166.481482812897], [20, 1225.2629477869464, 420.5173388671773, 1278.0077318446654, 554.2085087313362], [36, 923.4343338673466, -0.06523591026560638, 960.7851124864666, 120.52012055009186], [54, 531.2121732635063, 39.91907039018312, 559.6128065665067, 125.42752099958281], [60, 615.67124189274, 131.6020480699355, 652.8454379249638, 223.27095800499205], [61, 1058.4511621922763, 11.73206947948455, 1091.5128647813783, 81.89285080764887], [75, 501.0444133020807, 265.2331566145375, 541.8540615383315, 371.3920553393993], [77, 63.286031021010366, 83.6845281631955, 98.78572778330977, 164.53666926813713], [86, 1117.6902091528593, 14.246426367214532, 1158.8476267692017, 102.83815634885147], [89, 1080.5028310071107, 10.580613755891271, 1107.915502899179, 82.81060159721508], [94, 916.9097219531668, 472.6231853209961, 979.9542643967826, 588.8218710263945], [102, 1198.9102464183131, 111.10435584058774, 1242.2998801412325, 199.86375856347212], [105, 738.0836284756693, 570.8306383925128, 827.8529060799722, 714.190055614984], [114, 800.6209313185473, 62.66693883584429, 835.2128097444047, 152.78310534845534], [115, 43.29622498209093, 545.3240565780835, 112.16244974291948, 656.86299429993], [116, 161.76577091292776, 322.6175242000291, 213.43633518304964, 440.7939070303154], [117, 724.8762604284997, 39.89970486858777, 756.3400562516644, 112.18895292030575], [118, 471.98016069424267, 131.24934687338356, 508.6445289745724, 224.43238135500985], [120, 565.6950282739156, 37.815714273919134, 592.4377226162763, 125.33563046598806], [122, 761.3780387197305, 303.1554602318199, 810.8504581984732, 401.92949304713227], [123, 982.0137626720058, 240.23064598493045, 1028.1169398812153, 346.2763625982767], [124, 987.6525488254682, 342.7776108131816, 1044.9830412995639, 461.3903374999526], [125, 448.6361499323067, 381.3468029237691, 497.99776474819123, 512.1207289213892], [126, 1128.3574695829063, 59.336638672286725, 1200.327613144506, 210.20791229793804], [130, 250.63621186361343, -0.08446854959781547, 283.56236557851946, 73.52998480669858], [131, 378.543469165474, 202.06956683439955, 417.9176577391985, 291.2307873185687]]\n"
          ]
        },
        {
          "output_type": "stream",
          "name": "stderr",
          "text": [
            "0: 384x640 33 persons, 3 birds, 276.3ms\n",
            "Speed: 2.7ms preprocess, 276.3ms inference, 2.2ms postprocess per image at shape (1, 3, 640, 640)\n",
            "\n"
          ]
        },
        {
          "output_type": "stream",
          "name": "stdout",
          "text": [
            "[<deep_sort.deep_sort.detection.Detection object at 0x7f01681662c0>, <deep_sort.deep_sort.detection.Detection object at 0x7f003548af20>]\n",
            "<class 'list'> class\n",
            "[[1, 780.485312231881, 83.9614259094808, 812.567359425519, 165.83508581673757], [20, 1223.3031764244863, 417.14063147564354, 1276.8961120801882, 551.2821420491068], [36, 922.5393658629803, -0.05861326467769601, 959.680454176416, 119.7971203543787], [54, 531.2370017995506, 39.57562075148831, 559.4876930588653, 125.40716359897314], [60, 616.1787208779396, 132.92302244597616, 653.0974693746548, 224.17426186605735], [75, 501.8366358456353, 262.7810774320851, 541.3092959667642, 365.42002960186613], [77, 60.82518537411077, 83.90806746118275, 95.88808599336434, 164.08367662938736], [86, 1117.7430505614395, 14.96195454386443, 1158.250405265406, 102.65451122679349], [89, 1080.29843194723, 10.83835463689082, 1107.8753751868032, 82.82935653633263], [94, 915.3297906568895, 472.4602917504804, 977.1073331507204, 587.811468449004], [102, 1199.7398177362857, 112.20930760670787, 1242.7793861177126, 201.14710352010138], [105, 737.6981602602206, 568.9545521987067, 825.2647839825556, 713.3074822408662], [113, 162.10272876232727, 9.107484522515087, 200.9049460153608, 85.55690452810555], [114, 801.3024343629723, 61.56349289532546, 835.730113376133, 151.6737059860418], [115, 43.345931135392675, 545.4142446514952, 113.45514474095532, 656.8600931602606], [116, 161.45037968148256, 322.60373023164357, 211.84544288563148, 437.6101981769446], [117, 724.7053869843214, 40.84581064503653, 756.2741843447525, 113.03929624905314], [118, 471.3835066298052, 129.15041825081153, 508.0420242095512, 222.76093651981964], [120, 565.6477033088065, 37.74568652870814, 592.2467727659259, 124.97349235973144], [122, 762.7110542255978, 302.34611995978184, 810.8463752864324, 398.73265388736024], [123, 983.6142446020033, 241.37672707699917, 1029.1749529120814, 345.31239040361106], [124, 988.779471390365, 344.18778867203287, 1044.7347661877743, 459.97401758502383], [125, 448.7945840631342, 377.43444675086243, 496.77040672250087, 505.1419163749627], [126, 1128.3281488653504, 54.88467225812889, 1202.915509464524, 211.24249072199035], [130, 250.88500074135032, -0.13174658517133508, 283.39171953636907, 72.64034652043824], [131, 379.15243180055927, 205.3753435780261, 417.46676018046975, 291.60583667153014]]\n"
          ]
        },
        {
          "output_type": "stream",
          "name": "stderr",
          "text": [
            "0: 384x640 33 persons, 2 birds, 205.3ms\n",
            "Speed: 2.5ms preprocess, 205.3ms inference, 2.2ms postprocess per image at shape (1, 3, 640, 640)\n",
            "\n"
          ]
        },
        {
          "output_type": "stream",
          "name": "stdout",
          "text": [
            "[<deep_sort.deep_sort.detection.Detection object at 0x7f00354891b0>, <deep_sort.deep_sort.detection.Detection object at 0x7f00354f4c10>]\n",
            "<class 'list'> class\n",
            "[[1, 780.339503457111, 83.30226542398913, 812.2943044986818, 164.8566881686642], [20, 1220.9352902297494, 412.61654348474195, 1274.8406524930822, 544.9340917527005], [36, 921.8092248177451, -0.05195074113250797, 958.9779034604977, 119.49056275321243], [54, 531.008944039096, 38.83076817876337, 558.9710171508583, 124.78495284573879], [60, 616.2892926222581, 134.6982980258227, 653.2951686368918, 226.45141081933997], [75, 502.52637839266754, 259.3066315714479, 540.8572321300358, 358.6368154674726], [77, 60.003010427596735, 83.26825697595376, 95.24480743586585, 163.96733495336434], [86, 1117.8386312020446, 15.20658235906852, 1157.9714740163392, 102.54150478176172], [89, 1080.5305497703246, 10.936754377410615, 1108.2121462629934, 82.84804476222729], [94, 909.361310397705, 471.78685348564704, 970.9314083130157, 587.4874012772918], [102, 1200.1611580713989, 113.88943273693509, 1242.8386102559043, 202.89247555937823], [105, 736.06549999823, 562.5536028232281, 821.9057115063491, 708.4572127180671], [113, 164.77743414319147, 5.876615774335541, 203.37714411856993, 83.37846309039233], [114, 801.4726949642619, 59.90004613691424, 835.9670836674018, 150.65899166491317], [115, 44.16048294858608, 546.7506406981175, 115.03001341824599, 657.539634064434], [116, 160.28029059707734, 323.4769621852823, 209.77087580095298, 436.43624230738897], [117, 724.8941931466683, 42.49990328153216, 756.6675534768315, 114.64657174517271], [118, 469.3929116271098, 127.10654346457892, 506.27233594636357, 221.55371157996336], [120, 565.3621273222661, 37.74118166499199, 591.7963165335955, 124.18990638568118], [122, 764.111956126091, 299.47107517577206, 809.9299700907903, 390.9320745456099], [123, 983.837375635819, 243.06407096487118, 1031.1862336944246, 350.92300109061966], [124, 991.3599573064672, 346.64001120512626, 1046.397813413283, 459.9904902945066], [125, 449.78549063155106, 372.75634244416506, 495.37479210364074, 493.9473692143547], [130, 251.79006741530483, -0.13246846585418126, 283.8708364154762, 71.71150475412841], [131, 378.7618317495926, 207.1587871869587, 416.56627132539, 291.6487782643849]]\n"
          ]
        },
        {
          "output_type": "stream",
          "name": "stderr",
          "text": [
            "0: 384x640 32 persons, 2 birds, 180.4ms\n",
            "Speed: 3.8ms preprocess, 180.4ms inference, 1.4ms postprocess per image at shape (1, 3, 640, 640)\n",
            "\n"
          ]
        },
        {
          "output_type": "stream",
          "name": "stdout",
          "text": [
            "[<deep_sort.deep_sort.detection.Detection object at 0x7f0168166e30>, <deep_sort.deep_sort.detection.Detection object at 0x7f003548af20>]\n",
            "<class 'list'> class\n",
            "[[5, 656.9710866048322, 82.55972474193516, 694.7292816157561, 178.63559578009426], [20, 1219.4822977626125, 409.6285802201195, 1273.3267676588425, 539.2367883056555], [36, 919.6622261500157, -0.04597351022967189, 955.9665315862535, 118.69194695436506], [54, 530.7984410716757, 39.24744389455362, 558.1984101931325, 124.58802616002873], [60, 616.2563591688063, 135.9825667303909, 653.4605793908745, 228.58202606981493], [75, 502.30866401068886, 256.8012040200166, 540.6164279205703, 355.61693550592383], [77, 59.43190006462411, 83.04534350182823, 94.59847826621484, 163.9289939621862], [82, 1139.8060087513475, 125.66861180308666, 1177.0530382380061, 217.88391823771616], [86, 1117.6939540012877, 15.27438867656143, 1157.4060669409312, 101.80235995902612], [89, 1080.8483445091565, 10.974526856531355, 1108.767888481992, 83.52850975073638], [94, 904.991650303371, 472.23532568668776, 966.2636484150506, 587.4131676774958], [102, 1199.9010664806867, 115.12876006840185, 1242.6022010551483, 204.8137083932557], [105, 735.8291517031502, 558.2532605149817, 818.3148936109515, 702.0664760659238], [113, 167.49349780137348, 4.174970809838825, 205.66741057738957, 81.33794883853075], [114, 800.9064534294924, 59.33572033506533, 835.3307264446119, 150.33301806132556], [115, 45.137154423369836, 547.2129537081438, 117.5052304819737, 658.4715728057125], [116, 159.21434742637564, 325.08778879648133, 208.386920497587, 437.33645494814357], [117, 725.2868589815657, 43.09773732697227, 757.1652901733712, 115.21776399102995], [118, 468.3084873441121, 126.40960880396916, 505.30514930364427, 221.1790126987308], [120, 565.2449688222414, 37.76054983984962, 591.6542436139949, 123.91221438481914], [122, 763.9994812344089, 296.46224907182085, 809.5174219634418, 387.4300477798076], [123, 984.15692473608, 245.6103972814003, 1032.9462800655838, 356.8733828452198], [124, 993.1657476790056, 348.81910908375573, 1047.4368905171866, 459.91642669414006], [125, 449.8479290101952, 369.13672823741376, 494.4866089194537, 487.89466703781585], [130, 252.47050169234805, -0.1191763009908513, 284.34444495518, 71.45216480575735], [131, 378.548358257404, 207.70157376302006, 416.34448037817765, 291.6002351172401]]\n"
          ]
        },
        {
          "output_type": "stream",
          "name": "stderr",
          "text": [
            "0: 384x640 34 persons, 2 birds, 210.2ms\n",
            "Speed: 4.0ms preprocess, 210.2ms inference, 1.4ms postprocess per image at shape (1, 3, 640, 640)\n",
            "\n"
          ]
        },
        {
          "output_type": "stream",
          "name": "stdout",
          "text": [
            "[<deep_sort.deep_sort.detection.Detection object at 0x7f01681662c0>, <deep_sort.deep_sort.detection.Detection object at 0x7f00354f4e20>]\n",
            "<class 'list'> class\n",
            "[[1, 778.5036679618721, 77.74782462275405, 810.9158748127592, 161.28507273386776], [5, 656.6947900578651, 83.29955387698558, 694.477125285124, 178.7634564705673], [20, 1219.1402678259697, 407.91131107447393, 1271.9438949259286, 531.1612141507253], [36, 919.0924773806682, -0.04045213281604987, 955.2476501630939, 119.02929029514755], [54, 530.7933465351017, 39.446509804329125, 557.7937494149174, 124.55301427141733], [60, 616.5709453961534, 136.4236858368519, 653.8678946873829, 229.3400761878961], [75, 502.2212351833845, 254.64774891423244, 540.6248361931052, 353.30606886224257], [77, 59.32646227395493, 82.9666638458771, 94.14967144722131, 163.25971689285757], [82, 1137.6165644286666, 128.88788498488208, 1176.2471450500557, 219.82925996329828], [86, 1117.7952380899221, 15.275611243294343, 1157.057966667257, 100.82699248113397], [89, 1080.7482671285168, 10.98906158704002, 1109.1904144880084, 85.11149337219126], [94, 900.2965504132005, 471.12002966124834, 962.4336399730576, 587.4338050700949], [102, 1200.010099778752, 116.20192616453328, 1242.2896567997248, 205.48296378913773], [105, 736.180838993851, 554.1287291350229, 815.2375054659975, 695.031194398354], [113, 169.90222286395064, 2.9267011512760917, 208.32351113164663, 79.96390969180108], [114, 800.0161859662786, 57.87480590601971, 835.0630347241872, 150.92682468848275], [115, 44.92772706156028, 547.3521422576213, 119.55929337178503, 660.8185778055688], [116, 157.76915823731275, 326.2852332649976, 207.64119416117077, 440.9480002666075], [117, 725.5338432452116, 43.95409570754236, 757.2606572396874, 115.39560684522021], [118, 467.14371428115845, 125.55748714733325, 504.40511797018655, 221.1159439176762], [120, 564.9002832591842, 37.78488253857355, 591.2552116627646, 123.16132904902466], [122, 763.1487050257728, 294.77075151433115, 808.156717345669, 384.9080760165866], [123, 984.8171820523895, 247.8258867152492, 1034.306807986581, 360.38574647543015], [124, 994.797683996737, 350.8930436162009, 1048.1166440294487, 459.1480680718156], [125, 450.1867041034883, 367.2746876681669, 494.52984967994195, 484.51197237799437], [130, 253.1843607770806, -0.10435356106572868, 285.378258266643, 72.10075850263453], [131, 378.4572225493354, 208.4949852309962, 416.305841893057, 291.5329227237451]]\n"
          ]
        },
        {
          "output_type": "stream",
          "name": "stderr",
          "text": [
            "0: 384x640 31 persons, 2 birds, 1 dog, 288.5ms\n",
            "Speed: 5.8ms preprocess, 288.5ms inference, 1.9ms postprocess per image at shape (1, 3, 640, 640)\n",
            "\n"
          ]
        },
        {
          "output_type": "stream",
          "name": "stdout",
          "text": [
            "[<deep_sort.deep_sort.detection.Detection object at 0x7f00354891b0>, <deep_sort.deep_sort.detection.Detection object at 0x7f00354f7280>]\n",
            "<class 'list'> class\n",
            "[[1, 778.1814543172122, 76.64960912467376, 810.5729071666441, 160.1393061480132], [5, 657.0521576737347, 84.87914300608927, 694.60756369666, 179.4791241218376], [20, 1216.9749247278323, 406.0121700787406, 1269.4884997548486, 526.1900786958911], [36, 918.9551948532137, -0.03581427688055783, 954.9226151681261, 119.1422552087938], [54, 530.7724356664245, 38.892166401619704, 557.6341175782982, 124.57287835127852], [60, 616.8204645778517, 137.20175037710632, 653.9060618598986, 229.5742995626612], [75, 501.4079896257664, 252.6235996682465, 540.163885308075, 351.923547717746], [77, 59.260017834766515, 82.94283121895165, 93.91196619072497, 163.01371958160274], [82, 1136.6349848181949, 129.31487731111358, 1176.8353581325541, 220.54702202784898], [86, 1118.225459313102, 15.254278811040315, 1157.221558186091, 100.43493988951482], [89, 1080.6208308407865, 10.994734879803403, 1109.4326399207805, 86.36650567632604], [94, 891.9310303954794, 472.05136872766826, 954.5950646492428, 586.8179748343949], [102, 1200.1047206586459, 117.21094909721329, 1242.102530545009, 206.33295324010504], [105, 736.6891336518975, 550.734171573977, 811.7906173072711, 687.126342792558], [113, 172.8259978114661, 2.513025287415715, 211.80862745081276, 79.50516483455452], [114, 799.814278645825, 57.37451064759022, 834.8020159431186, 150.54077158764545], [115, 46.4380514759501, 548.110119693726, 120.74940303042354, 661.0895725893619], [116, 156.6050458669713, 329.97227181975563, 207.37573619782785, 447.51175769291206], [117, 725.8415110835865, 43.58316816497147, 757.7478994494377, 115.42381978804453], [118, 467.4873428184288, 124.63889554557869, 504.6421432324992, 220.496477584736], [120, 564.7313722384459, 37.81032548954034, 591.1628194099244, 122.89715865495953], [122, 762.3199441096718, 292.89133486975356, 807.479233214845, 383.4119371783257], [123, 985.5228446212079, 251.22379734476914, 1034.9436700420301, 362.95490790939556], [124, 993.4188474215476, 351.581858435117, 1048.2431409482251, 462.8300317040448], [125, 449.6308419784758, 365.3776080372663, 494.56031290677237, 483.44448863298885], [130, 254.08243132565815, -0.09135784929431168, 286.43228087226953, 72.38232178189416], [131, 378.1942142924928, 205.99149073858788, 417.22722288835536, 290.78385341760736]]\n"
          ]
        },
        {
          "output_type": "stream",
          "name": "stderr",
          "text": [
            "0: 384x640 33 persons, 1 bird, 1 dog, 281.5ms\n",
            "Speed: 2.8ms preprocess, 281.5ms inference, 4.5ms postprocess per image at shape (1, 3, 640, 640)\n",
            "\n"
          ]
        },
        {
          "output_type": "stream",
          "name": "stdout",
          "text": [
            "[<deep_sort.deep_sort.detection.Detection object at 0x7f013411be50>, <deep_sort.deep_sort.detection.Detection object at 0x7f003548af20>]\n",
            "<class 'list'> class\n",
            "[[5, 657.3261581226251, 86.08294294805341, 695.183806563462, 181.01317389713688], [20, 1215.364473841969, 403.3705361590945, 1267.4611625080142, 520.4373346254968], [36, 918.780680798137, -0.03161592083169751, 954.2891609845316, 118.51084865496287], [54, 530.461128141552, 38.710199375892806, 557.198100898366, 124.60785245737853], [60, 616.9195532694682, 137.45007192363522, 653.9257613162152, 229.6092559988781], [75, 501.0009669348794, 251.30711673460524, 540.1742785054929, 351.5370201521527], [77, 58.67399485735237, 82.93896707345517, 92.98428631997265, 162.2669609679358], [82, 1136.5946030384623, 129.25884007044067, 1177.643401549933, 219.28010154628083], [86, 1118.290176728067, 15.228500559618979, 1157.3968710779097, 100.93528633059273], [89, 1079.6469226289032, 10.997054153241926, 1109.1331697613118, 87.49790199659628], [94, 886.1286461921961, 472.4459280193108, 950.495208992856, 587.9558036063754], [102, 1200.701316820384, 117.53805978615972, 1242.120370309147, 205.93657029963302], [105, 737.776268137545, 546.96011076917, 809.0118066920785, 677.5621191013909], [113, 175.2073773121363, 3.0742720881578194, 214.34125167746524, 78.72478501500339], [114, 799.4726198606128, 57.25132171847905, 834.2802169952523, 150.4438879685285], [116, 156.2853036535382, 333.2762582488499, 207.20360851102006, 451.9032618375655], [117, 726.0825742617387, 44.078684216761864, 757.8041277154936, 115.40547970072964], [118, 466.5866855999044, 123.03310540482613, 503.8237067617314, 218.34242874262992], [120, 563.879598536118, 36.504092861947804, 590.6059111570859, 122.15171798787031], [122, 762.1606805205074, 291.6047376728656, 807.0781408175892, 381.6220007082116], [123, 986.0813613654758, 255.08242824452793, 1035.4635338635942, 365.81193228937775], [124, 994.0202921832722, 354.4282680221266, 1051.0973984919517, 470.73266408647487], [125, 449.01961879375233, 362.78722975759484, 494.98358957928707, 483.1952268757346], [130, 255.01655261313965, -0.07938416571826679, 286.8519365024249, 71.1841252152332], [131, 378.0113763670665, 204.36502597492685, 418.33309885443526, 291.15227326175517]]\n"
          ]
        },
        {
          "output_type": "stream",
          "name": "stderr",
          "text": [
            "0: 384x640 32 persons, 1 bird, 1 dog, 281.7ms\n",
            "Speed: 4.5ms preprocess, 281.7ms inference, 1.9ms postprocess per image at shape (1, 3, 640, 640)\n",
            "\n"
          ]
        },
        {
          "output_type": "stream",
          "name": "stdout",
          "text": [
            "[<deep_sort.deep_sort.detection.Detection object at 0x7f003c922500>, <deep_sort.deep_sort.detection.Detection object at 0x7f00354f7340>]\n",
            "<class 'list'> class\n",
            "[[5, 657.2824973092977, 87.43152922631896, 695.2222983949342, 182.57022020615028], [20, 1209.289119334557, 399.7794975689326, 1262.8295816347609, 517.0943244132625], [36, 918.3920956563891, -0.08191917077614619, 953.9901757511132, 118.760076647986], [54, 530.1907233162204, 38.00997132843408, 556.5065655719121, 123.3296320704775], [60, 617.3551225743557, 137.50213243946436, 654.2022839944956, 228.91681545544208], [75, 501.3077118793413, 249.58761390806012, 541.1169580351311, 351.5111663460232], [77, 58.42267191190844, 82.27793867507611, 92.59624799884152, 161.33071324900774], [82, 1134.7384519146015, 133.30338355054772, 1175.2532315669694, 222.15235876235096], [86, 1117.9427487338128, 15.865256238015633, 1157.1859176486807, 102.4314267422268], [89, 1080.06478908952, 11.652038066290345, 1109.5301356379996, 87.92319034078758], [94, 880.6111243974806, 473.2756939450398, 945.2819673764475, 587.0873858661336], [102, 1201.7791315501354, 118.26932539796128, 1242.5890287496197, 205.73017448902704], [105, 738.2474444728405, 541.0240633760193, 805.9901453048394, 666.0348779439232], [113, 177.23800214006462, 2.0070050595450013, 217.3219036928532, 78.48979276284595], [114, 798.0689979120623, 56.60506397090556, 832.7046049185208, 149.79291051344575], [116, 155.5849892426249, 337.0927315470231, 205.80430898149714, 454.8084833532264], [117, 726.6664940353137, 44.902141501145984, 757.9922568111986, 115.36662130065531], [118, 466.67573406633704, 119.83863246503572, 503.7844503639175, 214.27601156434423], [120, 563.6433953502528, 35.36582192153503, 590.9933886614476, 122.55042897447817], [122, 761.8091325579605, 289.2086102391776, 807.8897151739936, 381.72270502340274], [123, 986.5178469258332, 257.11971570227223, 1037.335186977868, 371.4230223220678], [124, 994.7608676513375, 358.0559535823953, 1053.5630284829665, 478.8730059077529], [125, 448.03109289874624, 359.27869602275604, 495.2469773357284, 483.22933381719895], [130, 256.90476535724827, -0.06787267856805101, 287.4403994937331, 68.07860895252826], [131, 378.52214333410296, 203.7173845767569, 420.1663424402154, 292.58937673027543]]\n"
          ]
        },
        {
          "output_type": "stream",
          "name": "stderr",
          "text": [
            "0: 384x640 33 persons, 1 bird, 1 dog, 222.5ms\n",
            "Speed: 13.2ms preprocess, 222.5ms inference, 1.4ms postprocess per image at shape (1, 3, 640, 640)\n",
            "\n"
          ]
        },
        {
          "output_type": "stream",
          "name": "stdout",
          "text": [
            "[<deep_sort.deep_sort.detection.Detection object at 0x7f01681645b0>, <deep_sort.deep_sort.detection.Detection object at 0x7f00354891b0>]\n",
            "<class 'list'> class\n",
            "[[20, 1204.7483405366202, 397.2012383788831, 1259.5401181101208, 514.6433758565662], [54, 530.1432462895962, 37.77236806090274, 556.1741750473402, 122.87154785561924], [60, 617.6559186528037, 137.48093126217987, 654.83851410022, 229.27497933445056], [75, 501.6150827604431, 247.71067628278823, 541.9989977508671, 351.60086220900075], [77, 58.30665444260568, 82.0353835940821, 92.42293800745205, 160.99176246925578], [82, 1138.6398795621592, 131.41840184398785, 1179.4154523638717, 217.7420602969616], [86, 1117.750189428531, 16.268975225110694, 1157.0426215132516, 102.94423086576319], [89, 1081.3750366930346, 12.561231902420175, 1110.5038891697457, 86.75909467486677], [94, 877.9071169060967, 472.950637356927, 943.5652963176589, 586.7891332211507], [102, 1202.6383711189028, 118.49392594226234, 1242.9623176625782, 204.93992251993382], [105, 737.7267336646305, 536.9792222976832, 804.9868292639636, 661.9314106284262], [113, 178.40031313155004, 0.9838075318842527, 219.20569032404657, 78.44103083539518], [114, 797.3023954458139, 57.070121186831955, 831.6688518720665, 149.58498457030137], [115, 47.69594352005554, 548.265158477345, 122.89228135053048, 662.8779404432803], [116, 154.93125715611663, 339.7834044248376, 205.05302286660265, 457.7919895022352], [117, 726.7605432327209, 45.850789959553964, 758.1843334822171, 116.65378842191538], [118, 466.4811963222023, 118.03582759733317, 503.3738400957832, 212.14610381888653], [120, 563.4362699589468, 34.29506741376028, 591.2755586953455, 122.71579192941357], [122, 761.4679815761177, 287.7192485196067, 808.4045189866683, 381.82538745882675], [123, 988.0057990644241, 258.4755879073126, 1039.2646003527125, 374.10069233751676], [124, 995.4299873353486, 360.68913233884, 1054.7137226423222, 483.2339853455008], [125, 447.47226069741146, 356.0861873217133, 495.5387546244693, 482.695971334932], [130, 257.421360595556, -0.056845544092013256, 287.0986520677049, 65.61048451227077], [131, 378.53342561097764, 204.3017048005163, 420.24681265959526, 293.32131852434384]]\n"
          ]
        },
        {
          "output_type": "stream",
          "name": "stderr",
          "text": [
            "0: 384x640 33 persons, 1 bird, 1 dog, 202.6ms\n",
            "Speed: 3.7ms preprocess, 202.6ms inference, 1.5ms postprocess per image at shape (1, 3, 640, 640)\n",
            "\n",
            "0: 384x640 33 persons, 1 bird, 1 dog, 168.5ms\n"
          ]
        },
        {
          "output_type": "stream",
          "name": "stdout",
          "text": [
            "[<deep_sort.deep_sort.detection.Detection object at 0x7f003548bca0>, <deep_sort.deep_sort.detection.Detection object at 0x7f013411be50>]\n",
            "<class 'list'> class\n",
            "[[20, 1200.1144659192287, 394.3259808931913, 1257.3870923036047, 513.8553045041928], [54, 529.7989265499647, 37.04673452402875, 555.7055749277844, 122.06417424769023], [60, 617.3426324663734, 138.10187916407875, 654.8436847516269, 230.0385599990626], [75, 501.63679992380526, 247.08389330215104, 541.8223024725241, 351.06831721462544], [77, 57.86270259343199, 81.95105830113897, 92.05274066016796, 160.87816262184793], [82, 1137.6966125843635, 134.63565459093334, 1177.8298922018432, 219.59825119417172], [86, 1117.3964134351552, 16.92744995923325, 1157.4832162505868, 106.21467243920824], [89, 1081.4866152414656, 13.570137605075558, 1110.591401318757, 86.30166126003755], [94, 875.8215229144688, 472.84435780068395, 942.275494507634, 586.7028638135536], [102, 1203.7512798629023, 119.19607387187807, 1243.623802740556, 204.60235377304195], [105, 735.7960644678254, 533.6334183094002, 803.7571172132368, 660.5725322019273], [113, 179.80606443073935, -0.022983081900250113, 220.11475756366005, 75.82720807317646], [114, 797.3245902217453, 57.29895230082292, 830.9605857057996, 148.22514275708684], [115, 48.637109117164, 548.9421066845614, 122.94444939339293, 662.3946288806114], [116, 153.87255459439015, 342.69258696430154, 204.31560483732042, 462.1186519434098], [117, 726.80640915378, 46.843178320046185, 758.2390040691114, 117.77376328411583], [118, 466.38633600470206, 116.76283277545355, 502.6121993255621, 209.42857687814376], [120, 563.4279071704625, 33.906313380528296, 591.3298982816881, 122.1363090203732], [122, 761.4614338687174, 286.57136997586366, 808.4798711926926, 380.63196493379064], [123, 989.485930585451, 260.2171287477308, 1040.3295707409907, 375.02024242058275], [124, 995.8873882972155, 364.235886174642, 1054.8802253825122, 486.7666715902892], [125, 447.37450327319937, 353.01364451428196, 496.19785421006213, 481.94821004006116], [130, 257.6790976503553, -0.04814797896790779, 286.848582407501, 63.406442427879156]]\n"
          ]
        },
        {
          "output_type": "stream",
          "name": "stderr",
          "text": [
            "Speed: 2.6ms preprocess, 168.5ms inference, 1.4ms postprocess per image at shape (1, 3, 640, 640)\n",
            "\n"
          ]
        },
        {
          "output_type": "stream",
          "name": "stdout",
          "text": [
            "[<deep_sort.deep_sort.detection.Detection object at 0x7f00354891b0>, <deep_sort.deep_sort.detection.Detection object at 0x7f00354f5f00>]\n",
            "<class 'list'> class\n",
            "[[20, 1195.0507275436594, 392.00856783106883, 1255.4262143227477, 514.9849162773006], [54, 529.5194541177151, 35.47493796984164, 555.6733017781518, 121.78611233146336], [60, 616.8721537783242, 138.96566829321156, 654.5355615352703, 230.95543088703585], [75, 501.7946042694565, 245.6246452769595, 542.3131426017393, 350.9601371143427], [77, 57.65405069052989, 81.92621893713971, 91.91913290787278, 160.84882603419993], [86, 1117.7097440117993, 17.786637353131624, 1157.821063244637, 107.6740332786687], [89, 1081.226020393195, 13.938981159790352, 1110.9124286044232, 88.1265273679478], [94, 874.2756139021513, 472.81986652353845, 940.8340588785333, 586.0332546055832], [102, 1204.1640056160386, 120.08135939626453, 1244.5183613467964, 206.44206551029725], [105, 734.529931180474, 530.5405231299874, 803.2561677343807, 659.5448843941442], [113, 180.78924973224764, 0.3099083250853454, 220.48324166283734, 74.87748122015866], [114, 797.0894786032543, 55.44014410596316, 830.2778023162438, 145.75737852479114], [115, 49.78879498810068, 549.5073581932746, 123.90812938883423, 662.6726961190076], [116, 152.56127752738263, 344.36831270225906, 203.68485395404338, 466.2874767234316], [117, 726.8327906509754, 47.85221648116683, 758.243328566332, 118.83118095137843], [118, 467.17248539695004, 115.02518872463195, 502.87340141112816, 206.486893111612], [120, 563.4029623874331, 33.78133346951303, 591.3897537087375, 121.92807938930444], [122, 761.2917471493533, 284.89572314796413, 808.6776768157484, 379.5956092028663], [123, 990.9357455435226, 262.76979937169443, 1041.0808251830265, 375.91032889115564], [124, 996.8960205938516, 367.48226021008065, 1055.3386551910617, 489.3133720183316], [125, 447.2714183340186, 351.29439220253676, 496.52436782309593, 481.7600482745256], [126, 1133.8605464708078, 66.98537513582112, 1205.0283224276586, 220.97561863452245], [130, 258.3317082682146, -0.040921582307898774, 287.51831003520647, 61.988755393352676]]\n"
          ]
        },
        {
          "output_type": "stream",
          "name": "stderr",
          "text": [
            "0: 384x640 35 persons, 1 bird, 195.6ms\n",
            "Speed: 7.8ms preprocess, 195.6ms inference, 1.4ms postprocess per image at shape (1, 3, 640, 640)\n",
            "\n"
          ]
        },
        {
          "output_type": "stream",
          "name": "stdout",
          "text": [
            "[<deep_sort.deep_sort.detection.Detection object at 0x7f003548b850>, <deep_sort.deep_sort.detection.Detection object at 0x7f00354f44c0>]\n",
            "<class 'list'> class\n",
            "[[1, 774.4790079360134, 64.3282931671055, 805.7790231941278, 148.28519423336178], [20, 1191.600314798575, 391.21000201557086, 1253.7444719443151, 515.4974974952684], [54, 529.73391961103, 34.90678674291519, 555.9971951397479, 121.703907276905], [60, 616.4778143050308, 139.2614589171701, 655.2961970065113, 233.9118858510277], [75, 502.29850215227043, 243.1782544972546, 542.7446516892778, 349.0203444908687], [77, 57.53979866162131, 81.92327190824446, 91.87550563031306, 160.8500689689142], [86, 1118.420002212215, 19.40475636970948, 1158.0108417618471, 108.18745919631326], [89, 1081.1255231494256, 14.068259229938391, 1111.0266664771464, 88.79478470369519], [94, 872.8458489902512, 472.1621014776117, 939.4154346176535, 585.1418167433726], [102, 1204.5216649489344, 121.03747328773932, 1244.6233866996238, 207.1000054782313], [105, 733.6008827854789, 528.2007141350259, 802.9389314655293, 659.2986472992766], [113, 182.01171117793808, -0.19267253282851016, 221.61249278352557, 73.90387508228628], [114, 796.8848754186262, 54.7832436497548, 829.4839893950929, 144.20960154783157], [115, 50.31733946872674, 550.798287072476, 124.07684448088469, 663.7717847649504], [116, 151.81736680230605, 345.5800021837052, 203.08680263279004, 468.43066160768217], [117, 727.3542675317768, 48.866212914197504, 758.3877447185372, 119.20200963517497], [118, 466.82666320600686, 113.1105351394615, 502.30803372024144, 204.13541459879684], [120, 563.26891262897, 34.414271415316506, 590.8909340231353, 121.20270671169197], [122, 761.2491967678469, 283.03988424170126, 808.6955102206063, 377.86045966695156], [123, 992.2221407983592, 264.3127886604617, 1041.8610856975572, 376.1393367354344], [124, 997.8295545360321, 370.60469059760493, 1056.205278307277, 492.79238363853676], [125, 448.29596696670194, 349.4405560233778, 496.24518342323114, 475.89636286046834], [126, 1134.088432637012, 71.22673226580592, 1203.0226982072325, 224.26190193184613], [130, 258.7343368759061, -0.03511093000264509, 288.23094610177884, 61.5394390109966]]\n"
          ]
        },
        {
          "output_type": "stream",
          "name": "stderr",
          "text": [
            "0: 384x640 34 persons, 1 bird, 265.9ms\n",
            "Speed: 5.7ms preprocess, 265.9ms inference, 1.9ms postprocess per image at shape (1, 3, 640, 640)\n",
            "\n"
          ]
        },
        {
          "output_type": "stream",
          "name": "stdout",
          "text": [
            "[<deep_sort.deep_sort.detection.Detection object at 0x7f003548bdc0>, <deep_sort.deep_sort.detection.Detection object at 0x7f003548aec0>]\n",
            "<class 'list'> class\n",
            "[[1, 774.8330396400719, 63.61651327596119, 805.6165492401661, 148.29686334735487], [5, 657.7292819237641, 90.29155035536957, 695.2343272476211, 182.58355681139807], [20, 1187.1236029803488, 388.36827526981233, 1251.1780304294919, 515.1313714668919], [54, 529.7404647258147, 34.06136846155571, 556.194647247151, 121.69768789141992], [60, 616.313486977686, 141.96263998807098, 655.5994457659551, 237.60685451748853], [61, 1059.8324013581168, 15.921943071312612, 1090.4650020316265, 83.83992693044688], [75, 503.71551102513257, 240.3551862747367, 542.3747530403856, 341.12564594415943], [77, 57.342889283470015, 81.26594870468762, 91.98848198613689, 160.86152379543478], [86, 1117.66708708304, 20.66098754093163, 1157.7914839673997, 110.99084682367483], [89, 1082.0612984756146, 14.765819435900362, 1111.4012405238668, 88.37982654629576], [94, 869.6188454455108, 471.2655901197385, 935.1796203741058, 583.5050430912391], [102, 1204.4810750400625, 122.68275402073736, 1246.134328717724, 211.9552432007498], [105, 731.7957245825284, 524.8265721211219, 802.3781901706501, 659.3338080629175], [113, 183.5203784815164, -0.34659139188125465, 222.17617778961616, 72.25359475875521], [114, 796.7348121717605, 53.74703369988193, 829.2811259327489, 143.02861362636847], [115, 51.88113387824158, 552.4964265844586, 124.91279700182858, 664.7210957714476], [116, 151.44361828497938, 348.57511001853436, 201.69468324523234, 469.13854511041717], [117, 727.8567038603547, 50.54526525875647, 758.7936470797029, 120.63770544130747], [118, 466.98871021678116, 111.13098627786903, 502.4972283305565, 202.67371560020203], [120, 563.1186041900307, 34.01167289062719, 590.8152743891112, 120.94209496282619], [122, 761.5397034835455, 281.817987488076, 807.6655158751594, 373.697153374075], [123, 995.0081101009129, 268.12477535068297, 1043.0806352900688, 375.46852458101137], [124, 999.6933301360858, 374.3291187902521, 1056.9269981762714, 494.00125540061305], [125, 450.43572497143344, 344.2198239070866, 496.39408949471243, 465.10484943689016], [126, 1133.0496336918648, 72.90958682951637, 1201.6915770933101, 227.20048504451083], [130, 260.75114487509575, -0.03049443386440842, 289.2868034506156, 58.04257497916308]]\n"
          ]
        },
        {
          "output_type": "stream",
          "name": "stderr",
          "text": [
            "0: 384x640 34 persons, 1 bird, 273.1ms\n",
            "Speed: 11.2ms preprocess, 273.1ms inference, 1.8ms postprocess per image at shape (1, 3, 640, 640)\n",
            "\n"
          ]
        },
        {
          "output_type": "stream",
          "name": "stdout",
          "text": [
            "[<deep_sort.deep_sort.detection.Detection object at 0x7f003548b850>, <deep_sort.deep_sort.detection.Detection object at 0x7f00354f73d0>]\n",
            "<class 'list'> class\n",
            "[[1, 774.8574020201814, 62.7069614579712, 804.9859388722969, 147.62665458368315], [5, 657.6957435397181, 91.09153069060044, 696.0052575686002, 183.84209853642352], [20, 1183.9714181422946, 385.39998721765136, 1249.1959462706823, 513.7509862681386], [36, 916.67793279761, -0.02173781031645916, 951.3366170475687, 117.18441257760657], [54, 529.6742295706688, 33.1102837432635, 556.3352871549434, 121.7159717794251], [60, 615.8624256970999, 143.62717664748845, 655.4500090468694, 239.6408966630261], [61, 1060.3888807229712, 16.05402841364424, 1090.5216809329254, 84.60567825385039], [75, 504.02684852475164, 237.37466559681798, 542.5062395331815, 337.521396646022], [77, 57.37566928097346, 81.68375689958322, 91.90482758241842, 160.87474137439648], [86, 1117.9616518353207, 21.112776432134282, 1158.446459875851, 112.66752595818876], [89, 1082.8563898584562, 15.020572436659961, 1111.7572071597558, 86.87930738758223], [94, 867.2487107805217, 470.943838236327, 931.6605206308221, 582.9160516727778], [102, 1205.0748349150065, 125.2268458875717, 1246.7217235500789, 214.38888717518995], [105, 730.5791801187279, 521.7073293335527, 802.1095568385845, 659.448941809389], [113, 182.81197962606467, -0.3670157798992193, 220.8285118661457, 70.34682685077402], [114, 797.4825738100845, 51.37124994602292, 828.4442994278484, 136.48593955006635], [115, 52.31551264344598, 553.0843044086482, 125.95489023070417, 667.045566964937], [116, 151.0964832235478, 350.2866883189237, 200.77082889530934, 469.27841176197927], [117, 728.7945821753851, 51.14419875082546, 759.513230675115, 121.14790438851637], [118, 466.99447096922063, 109.7915116183994, 502.6452956293484, 202.2030027720976], [120, 562.9705403800305, 33.21339468424981, 590.8910809446274, 120.85755685422018], [122, 761.6995325088438, 280.00868608762846, 807.3343192712698, 370.5421316633074], [123, 996.699023105194, 270.80481485762016, 1044.8090081431176, 377.7931336185199], [124, 1001.8174176149264, 376.3053509749947, 1058.3589411946364, 494.3222230561411], [125, 451.8114221807891, 341.0521445128106, 496.5490304089495, 458.5000571286296], [126, 1133.1375824617721, 73.53595046689195, 1201.3747915768233, 228.8957533989049], [130, 261.78910677850996, -0.0815144740103122, 289.5662612290262, 56.44786990902917]]\n"
          ]
        },
        {
          "output_type": "stream",
          "name": "stderr",
          "text": [
            "0: 384x640 34 persons, 1 bird, 270.1ms\n",
            "Speed: 7.5ms preprocess, 270.1ms inference, 1.9ms postprocess per image at shape (1, 3, 640, 640)\n",
            "\n"
          ]
        },
        {
          "output_type": "stream",
          "name": "stdout",
          "text": [
            "[<deep_sort.deep_sort.detection.Detection object at 0x7f003548af20>, <deep_sort.deep_sort.detection.Detection object at 0x7f0168166e30>]\n",
            "<class 'list'> class\n",
            "[[1, 774.4018834278033, 61.28725306353669, 804.5624785473627, 146.30648142249294], [5, 657.4314708558613, 92.02810975713422, 696.5048177199376, 185.58785737847126], [20, 1183.2811068993485, 383.69171496453055, 1248.099636778072, 510.6739344059957], [36, 916.8465622888656, 0.6851164487849601, 950.9441974297104, 117.05538034416969], [54, 529.6714203562847, 32.77541256862823, 556.3630720355407, 121.7413924045443], [60, 615.0930966772277, 144.882642394196, 654.677443830077, 241.02232068090004], [61, 1060.3676735408285, 16.75742433425394, 1090.0939535060847, 86.1933525807568], [75, 503.84431785706516, 235.69065931967512, 542.1983620376677, 335.62030274522925], [77, 57.36224012249676, 81.85020269099698, 91.87865883968638, 160.88921371430303], [82, 1141.1035312918314, 134.82598537389143, 1187.556983245291, 231.8458472040792], [86, 1118.6520451304425, 21.261362934579573, 1158.7786753458145, 111.9613417794701], [89, 1083.078874718553, 15.103313567294691, 1111.9495455484782, 86.30644116113132], [94, 864.7447498196844, 470.83963872356077, 928.2083963398987, 582.7239287278006], [102, 1205.427168542035, 126.82090416398981, 1247.4488323997573, 216.5897859290564], [105, 729.6943131036708, 519.3355980540084, 801.8452889860827, 659.5901315183171], [113, 182.5336982566086, -0.3414032826058673, 220.202278569869, 69.01985667303926], [114, 796.8881311108534, 50.05869341016472, 826.9158511480116, 132.84163319967487], [115, 52.69872011780697, 553.9389150564635, 127.37804985034927, 670.5254941120501], [116, 151.66352501815697, 351.5052420581468, 201.11151587134827, 469.23102096313573], [117, 729.1874351043062, 51.998272302850644, 759.730471341633, 121.97175221355462], [118, 466.9473358094897, 108.69076702718968, 502.76980545305145, 202.09874660150285], [120, 563.0116606183294, 33.585572703370254, 590.8346257841362, 120.8383060785496], [122, 761.6056087831757, 277.40289152164144, 807.370400457712, 367.47366412534086], [123, 997.122955608081, 273.0436683690812, 1046.2224905658247, 381.9127832451935], [124, 1002.7951267595523, 376.94692924968814, 1059.3015000472506, 494.9958347781735], [125, 451.92550555920326, 337.993270223405, 495.6392221340819, 452.8593467338596], [126, 1133.0941918567444, 73.36158037654346, 1202.0734647903005, 230.4111405907465], [130, 263.55011102866246, 0.7856199956429357, 291.82007347279347, 56.59362074582387]]\n"
          ]
        },
        {
          "output_type": "stream",
          "name": "stderr",
          "text": [
            "0: 384x640 34 persons, 1 bird, 294.5ms\n",
            "Speed: 2.6ms preprocess, 294.5ms inference, 2.0ms postprocess per image at shape (1, 3, 640, 640)\n",
            "\n"
          ]
        },
        {
          "output_type": "stream",
          "name": "stdout",
          "text": [
            "[<deep_sort.deep_sort.detection.Detection object at 0x7f00354891b0>, <deep_sort.deep_sort.detection.Detection object at 0x7f003548bca0>]\n",
            "<class 'list'> class\n",
            "[[5, 657.1251196864856, 93.00486597726079, 696.8949420928835, 187.52649426073043], [20, 1182.8688095167524, 381.8164952237583, 1247.3785234918362, 508.2517159768893], [36, 916.9729033024818, 0.912405513719051, 950.7379523963322, 117.01383601679892], [54, 529.6789159538878, 32.67678990006543, 556.3616460362812, 121.11197930588871], [60, 614.8858063256251, 147.95059434686962, 653.6440636051931, 242.15142390806267], [61, 1060.5022202607522, 17.671770860966816, 1089.7754962191461, 87.44734922603762], [75, 504.0768179124837, 233.8190553850285, 542.4623443969222, 333.6808766111777], [77, 57.2111852062929, 81.25549978870994, 91.99882497555049, 160.90215504063656], [82, 1141.4415750347152, 132.9398496957889, 1190.02010191953, 234.6437963098964], [86, 1119.042211446897, 21.94981593994587, 1158.783881925998, 111.6411749841763], [89, 1083.3541543745596, 15.123554414365849, 1112.4770896700768, 86.76008845688332], [94, 862.5039412648573, 471.4791048195308, 925.7931123024692, 584.6679033365289], [102, 1205.558246176086, 128.03651269724978, 1247.6959685558775, 217.3715302548481], [105, 729.1606369143607, 516.5997154668232, 801.3578503502354, 658.4327852346037], [113, 182.4296831323549, -0.3054213501947274, 219.87013548442297, 67.91132887701067], [114, 796.7640230758768, 48.86226889568889, 826.5078444872454, 130.86260007955661], [115, 53.60351486501129, 554.6887297909691, 128.4113269751523, 671.4757931337639], [116, 151.73121960361658, 351.87713307012825, 201.4405856584679, 469.12304272103785], [117, 729.2446189231242, 52.28701672165497, 759.8854890317228, 122.91430069877194], [118, 467.3707112006352, 108.33669262189699, 503.05130135627815, 202.12602253646702], [120, 562.9369340269257, 33.74445586941767, 590.916344620388, 121.50597431762986], [122, 761.7179812975465, 275.173373716693, 807.2402697424435, 364.41923214952806], [123, 997.4493684394573, 274.4624934924535, 1047.160133986773, 384.6994557272846], [124, 1005.1104119963865, 378.4236019247313, 1060.9370785066321, 495.15719063594076], [125, 452.92712295534534, 335.6477290295493, 496.3513559950462, 449.59995054421734], [130, 264.56854715700786, 0.9550487098453253, 293.1373932320788, 55.763343377312935]]\n"
          ]
        },
        {
          "output_type": "stream",
          "name": "stderr",
          "text": [
            "0: 384x640 31 persons, 2 birds, 214.1ms\n",
            "Speed: 2.8ms preprocess, 214.1ms inference, 1.3ms postprocess per image at shape (1, 3, 640, 640)\n",
            "\n"
          ]
        },
        {
          "output_type": "stream",
          "name": "stdout",
          "text": [
            "[<deep_sort.deep_sort.detection.Detection object at 0x7f003548b850>, <deep_sort.deep_sort.detection.Detection object at 0x7f00354f74f0>]\n",
            "<class 'list'> class\n",
            "[[5, 657.155657068064, 93.99001427156853, 696.982777324541, 188.6485027297897], [20, 1183.0463109865511, 379.87176113195574, 1246.9382990052388, 505.4305496866252], [36, 917.0878754971858, 0.994511531917496, 950.6146409359667, 116.99896803633284], [54, 529.7276204345775, 33.32782019009707, 556.3118836427818, 120.88916938358506], [60, 614.8724600684031, 149.07319505658816, 653.8578688994895, 243.84535068855942], [61, 1060.9265712189201, 18.008276927154952, 1089.9265668822088, 87.91660553065148], [75, 504.0446947731602, 231.87569471562728, 542.69573836058, 332.38852115539066], [77, 57.14596061503441, 81.03593129194618, 92.03956409311095, 160.91306905657746], [82, 1141.506162564968, 130.8950974310462, 1191.6705127910675, 236.9461897300797], [86, 1119.7122959498852, 22.18650161147624, 1159.5842723536866, 112.14584048520476], [89, 1083.919968871549, 15.122213703783018, 1112.855901797553, 86.26645728373637], [94, 859.6120232900422, 471.7307969435545, 923.8478287956563, 588.7130491344275], [102, 1205.9241492752797, 130.4269703994732, 1248.0990203670965, 218.92861783688323], [105, 729.5851069603943, 513.0674914363517, 800.6110316994713, 654.1581333080168], [113, 182.9448773561386, -0.2685500634849518, 221.12441484638805, 68.22909054702521], [116, 151.636016068052, 353.2652725910152, 201.06616261107905, 468.3427186115937], [117, 729.9672882380919, 53.025568495020764, 760.5450342143839, 123.9004344519704], [118, 467.61528116281954, 108.26531543337663, 503.0897614845393, 202.20019596954106], [120, 562.6333427050328, 33.815753300386625, 590.5728968380195, 121.76664356017397], [122, 761.7130823121681, 273.083084582482, 807.2425421429991, 362.03424654577935], [123, 998.5674960141089, 277.547876330426, 1047.7466560663374, 386.33112965865587], [124, 1006.6472517358018, 380.8775751243074, 1061.468727731037, 495.11689878431883], [125, 452.86897389136715, 332.88964779420377, 496.35765592790455, 447.21459277856235], [130, 265.93658765943155, 1.0111323589187933, 295.2561164197736, 55.51189878707086]]\n"
          ]
        },
        {
          "output_type": "stream",
          "name": "stderr",
          "text": [
            "0: 384x640 31 persons, 2 birds, 205.6ms\n",
            "Speed: 8.3ms preprocess, 205.6ms inference, 1.4ms postprocess per image at shape (1, 3, 640, 640)\n",
            "\n"
          ]
        },
        {
          "output_type": "stream",
          "name": "stdout",
          "text": [
            "[<deep_sort.deep_sort.detection.Detection object at 0x7f01681662c0>, <deep_sort.deep_sort.detection.Detection object at 0x7f003548bca0>]\n",
            "<class 'list'> class\n",
            "[[5, 656.2387767181576, 94.99449429386883, 697.8181496092377, 193.84078087889375], [20, 1182.6448063250648, 376.57726641854714, 1243.432528289061, 495.84532739490714], [36, 916.8805900102778, 1.6856708198633612, 950.1782767839866, 116.99403598006784], [54, 529.7884545138252, 33.59928365145027, 556.2476753866906, 120.16042848352365], [60, 614.4479959953547, 151.42872408276995, 653.0486696484552, 245.09117034781212], [61, 1062.0565435792262, 18.781990633514425, 1090.9827869060748, 88.0823824116415], [75, 504.1407116349458, 228.58098149598266, 542.6859276080395, 328.6868968166094], [77, 57.11348906014133, 80.9585758564785, 92.05007446463442, 160.92316911346404], [82, 1142.5360144085053, 130.69423907984495, 1193.221919117484, 238.41879439819687], [86, 1119.7905210710317, 22.748489586440122, 1159.749573241194, 112.90488580309085], [89, 1085.8056317601365, 15.776531293774191, 1114.629179271834, 87.40871241637495], [94, 854.9267979412381, 471.8328208040827, 919.705834381664, 592.199550722304], [102, 1205.8157509686166, 133.26496212590794, 1249.1275722663881, 223.43285091865653], [105, 730.6679002899109, 507.2549160647896, 799.4795346356732, 645.3815733135818], [113, 183.9236578398724, -0.23813557066254276, 223.39944956636054, 69.05441517580812], [115, 53.865321044785965, 557.7118185013926, 133.79919360124168, 684.8328639225921], [116, 150.73806913707696, 357.7072628775169, 201.16628357827287, 473.30441675418376], [117, 730.1553893555782, 53.934701617512474, 760.8634312082022, 125.56278023178353], [118, 468.3350457260088, 106.97520251820687, 503.8073311254165, 201.62410776495648], [120, 562.7297131946223, 34.51308451220313, 590.2411836269586, 121.21285708541527], [122, 762.4781824022185, 271.71187955745506, 807.8102040263095, 359.9028090246546], [123, 1000.6548730241187, 282.60921048656934, 1048.8606448571302, 388.17809365296387], [124, 1007.8054863887419, 385.0433864676228, 1062.991462063916, 499.6850150639841], [125, 452.92288543255574, 329.97819017416026, 496.9369152639373, 445.8091494012147], [130, 267.9758848082227, 0.35146533039759476, 298.4645053304838, 54.78971745571225]]\n"
          ]
        },
        {
          "output_type": "stream",
          "name": "stderr",
          "text": [
            "0: 384x640 33 persons, 1 bird, 204.4ms\n",
            "Speed: 4.6ms preprocess, 204.4ms inference, 1.5ms postprocess per image at shape (1, 3, 640, 640)\n",
            "\n"
          ]
        },
        {
          "output_type": "stream",
          "name": "stdout",
          "text": [
            "[<deep_sort.deep_sort.detection.Detection object at 0x7f003548aec0>, <deep_sort.deep_sort.detection.Detection object at 0x7f00354f6140>]\n",
            "<class 'list'> class\n",
            "[[5, 656.5460909268421, 96.65787866891588, 698.1696967277514, 195.7968382932906], [20, 1182.4314939444657, 373.4192971113753, 1241.6908291658615, 489.6131268853734], [36, 916.2401335814315, 1.2783195155626572, 949.9336508214578, 116.99285549642084], [54, 529.7640811054293, 33.72130305389165, 556.2681471878961, 119.90294848529413], [60, 614.392371434156, 152.9327204442054, 652.647529318558, 245.50346878436432], [61, 1062.4477329652266, 19.060323779716278, 1091.4055400456898, 88.79445865786192], [75, 504.0579952289629, 226.76164190508135, 542.8114557477836, 327.385084341627], [77, 57.094569774917076, 80.93530171903946, 92.0495858959986, 160.93221222350314], [82, 1142.5330077351266, 131.6161265608027, 1193.7974739969934, 240.56868687502123], [86, 1121.232324733446, 24.624387884359066, 1160.2749330328197, 112.36992269197106], [89, 1086.4654417242105, 15.351482478168968, 1115.3128022114436, 87.83498936847161], [94, 852.7374007167236, 472.5293266804664, 916.1017111557865, 592.2344917990118], [102, 1206.460560896561, 135.59377015682253, 1250.114176390783, 225.7251057785133], [105, 731.7816718266829, 503.8616003825573, 797.0963387717393, 635.5143171934085], [113, 185.08238631896756, -0.6280882928729596, 224.29965619083993, 68.21055255122546], [115, 55.10337521280504, 558.8670434190824, 135.47925470268328, 688.2835436845846], [116, 149.4641218562999, 360.6139412066726, 201.51456752212385, 478.39994701229506], [117, 729.6511909642636, 54.90793484236959, 760.8822610741862, 128.13383818264282], [118, 468.9645492304061, 105.21956659663901, 504.38508297683484, 200.13621885454313], [120, 563.4451393492932, 34.78830031167461, 590.7769750595357, 121.0088830730162], [122, 763.5245290951857, 270.61108290297983, 808.5981872447418, 357.8667320555475], [123, 1001.2124245904915, 285.74546462575125, 1051.4136940938847, 394.80343361988264], [124, 1006.9026851656315, 387.83337907052066, 1064.1464929436127, 507.2764433494514], [125, 452.6200659820463, 327.6719676029639, 497.4630627169788, 446.0783308078472], [130, 269.4815579382088, 0.33298437425359495, 299.3612870667198, 53.68391297009025]]\n"
          ]
        },
        {
          "output_type": "stream",
          "name": "stderr",
          "text": [
            "0: 384x640 31 persons, 2 birds, 206.4ms\n",
            "Speed: 14.2ms preprocess, 206.4ms inference, 1.3ms postprocess per image at shape (1, 3, 640, 640)\n",
            "\n"
          ]
        },
        {
          "output_type": "stream",
          "name": "stdout",
          "text": [
            "[<deep_sort.deep_sort.detection.Detection object at 0x7f003548bdc0>, <deep_sort.deep_sort.detection.Detection object at 0x7f0168166e30>]\n",
            "<class 'list'> class\n",
            "[[5, 656.5108269524392, 97.71518986956428, 698.360335509416, 197.3929916347334], [20, 1182.065680811627, 370.336615599264, 1240.8093818318046, 486.11007579802254], [36, 915.2790862019004, 1.1211465248883954, 949.259217794399, 116.99295806785952], [54, 529.7113205759779, 33.7823923984146, 556.3172856255632, 119.82307491222167], [60, 613.9719931870479, 153.44255063877512, 652.247088048182, 245.6028504066455], [61, 1062.8910002519813, 19.151111588038503, 1091.9084810297738, 89.05005416240003], [75, 504.4049209852529, 226.16095930042093, 543.1488521689747, 326.98571268649744], [77, 57.081648351157, 80.93208834209767, 92.04545213499942, 160.9402039711193], [86, 1122.2021599254806, 25.785172014066674, 1161.1407503969072, 112.99809405905451], [89, 1086.534405915541, 16.50059588466663, 1115.0581024126614, 87.9915505295586], [94, 847.4040240326159, 474.1222138356344, 912.2347275299217, 598.1393019242593], [102, 1207.685401205989, 135.76147453016665, 1252.1148031371852, 226.5288184692323], [105, 732.7429373834801, 500.74619350556736, 795.0586893817401, 626.5566049790032], [115, 57.274699213408624, 559.9261003658248, 136.2936494941814, 688.8697077036784], [116, 148.57277295632824, 364.26348976762307, 202.0902605501283, 484.1894379546104], [117, 729.7763489084906, 56.55777073570724, 761.2102836825773, 130.38398563468303], [118, 468.68118464033824, 103.94572090453613, 503.8102948187615, 198.95980927386944], [120, 563.7242447592766, 35.55937411336226, 590.9750013136633, 121.6027668803402], [122, 764.6563470526049, 269.60856206252674, 810.1484544393998, 357.1998384783308], [123, 1001.8043221656098, 287.4896183440243, 1053.217809052062, 398.47691090327345], [124, 1006.3534061649925, 390.76791620398086, 1065.3877629446783, 514.6064320741541], [125, 452.3236717953559, 326.2460067774838, 497.8305424872069, 446.95196610050937]]\n"
          ]
        },
        {
          "output_type": "stream",
          "name": "stderr",
          "text": [
            "0: 384x640 33 persons, 1 bird, 221.5ms\n",
            "Speed: 7.2ms preprocess, 221.5ms inference, 1.5ms postprocess per image at shape (1, 3, 640, 640)\n",
            "\n"
          ]
        },
        {
          "output_type": "stream",
          "name": "stdout",
          "text": [
            "[<deep_sort.deep_sort.detection.Detection object at 0x7f003548af20>, <deep_sort.deep_sort.detection.Detection object at 0x7f003548b9a0>]\n",
            "<class 'list'> class\n",
            "[[20, 1181.6319258958088, 367.2864653731155, 1240.237114079453, 483.60422244276975], [36, 914.7870840131957, 0.3970925841284938, 949.1579672483552, 116.99351892860074], [54, 529.6518292012789, 33.818857689800616, 556.3734721423541, 119.80897622000057], [60, 613.771464531267, 153.58214448137014, 652.1556535556707, 245.5927870502532], [61, 1063.3233937067594, 19.170948132443165, 1092.4724377517548, 89.13330695464725], [75, 503.9656148997474, 225.35817744466237, 543.1922242771634, 327.58585389518146], [77, 57.071687848105974, 80.93591673036283, 92.04041185714624, 160.94725038176497], [86, 1122.6255495701707, 26.84469984433909, 1161.3480694185728, 113.20785287704845], [89, 1087.4507509003647, 16.930111934765478, 1116.020590911309, 88.70924390697733], [94, 842.1288234080334, 475.3691045126728, 907.7199277662758, 601.6380966174152], [102, 1209.8369756473805, 135.7677818430047, 1254.4359541425054, 226.11114893663736], [105, 732.5238459355918, 496.378268850894, 793.5941592459347, 619.3719088914557], [115, 58.71851386641746, 560.298806474648, 136.56965178798288, 689.01075426497], [116, 148.17292383796152, 367.5371330089664, 203.0597672260336, 488.9285122797635], [117, 729.9516001319839, 58.469695816069546, 761.1922338345946, 131.86037389542315], [118, 468.97364466729033, 103.51554096783153, 503.18984911149647, 196.58416460784917], [120, 563.9267227896969, 36.51405379393969, 590.9553190056117, 121.83195030204328], [122, 765.6134652018849, 268.6343134340316, 811.5019085587786, 357.0299633515578], [123, 1003.1946574493119, 289.3660911605549, 1055.9294838544777, 403.05815284462216], [124, 1007.3615423725864, 393.7595130000928, 1067.1715157740778, 519.9260876145537], [125, 452.04687872598726, 324.49517747937017, 498.12125520921273, 447.3927821670411]]\n"
          ]
        },
        {
          "output_type": "stream",
          "name": "stderr",
          "text": [
            "0: 384x640 32 persons, 1 bird, 206.8ms\n",
            "Speed: 2.5ms preprocess, 206.8ms inference, 1.4ms postprocess per image at shape (1, 3, 640, 640)\n",
            "\n"
          ]
        },
        {
          "output_type": "stream",
          "name": "stdout",
          "text": [
            "[<deep_sort.deep_sort.detection.Detection object at 0x7f003548bca0>, <deep_sort.deep_sort.detection.Detection object at 0x7f003548aec0>]\n",
            "<class 'list'> class\n",
            "[[20, 1180.824231300519, 365.57951779324713, 1239.4584717359703, 482.79345369429507], [36, 913.9909190137156, 0.7833553829673363, 948.4360535524456, 116.99416381600727], [54, 529.593500407075, 33.84448329971618, 556.4288261848185, 119.81823566660498], [60, 613.6581717161515, 154.24945403336875, 652.1758631872854, 246.20886692687836], [61, 1063.8393151056744, 19.825458141802663, 1092.9701674783441, 89.15187019510063], [75, 502.94312418856856, 223.80923948490954, 542.7541018353887, 327.881684744612], [77, 57.18674368403517, 80.94186043995998, 91.91213907503877, 160.2930336112816], [86, 1122.8856761912455, 27.87603668800962, 1161.9663925809543, 114.59389312147026], [89, 1088.1907561450905, 17.080196761114628, 1116.6128568651432, 88.31018915144347], [94, 838.2036547004537, 477.7984288884679, 902.8901262063541, 602.308562722797], [102, 1212.0431722241865, 135.71035070897543, 1257.1845397844613, 225.88295928920664], [105, 732.0369589125979, 494.2530598569942, 792.1751992506248, 614.9059879803793], [113, 200.81230496292972, -0.19454293003941103, 240.11028133020363, 68.6406545150482], [115, 60.5861356555046, 561.7164701602667, 136.5859695440477, 688.9920562952105], [116, 147.7233517297886, 370.00868687960644, 203.7599320467524, 492.6035135465289], [117, 729.6373396216176, 60.481254012793244, 760.8898856287858, 133.69274379670324], [118, 469.2404445441737, 102.08348183396944, 502.798947349752, 193.7421765893653], [120, 564.0012005931676, 36.87299106793933, 590.9515372458455, 121.92218001585445], [122, 765.6698654756594, 267.66836241581893, 812.2897956325373, 357.7006742252619], [123, 1005.2300093072155, 291.3001723338657, 1057.984618561725, 404.7086744614294], [124, 1009.2309956428205, 398.72574991249627, 1068.263011191418, 523.8139609003584], [125, 452.1108745464054, 323.2694591640145, 498.0508040254152, 446.3442316946456]]\n"
          ]
        },
        {
          "output_type": "stream",
          "name": "stderr",
          "text": [
            "0: 384x640 35 persons, 2 birds, 188.6ms\n",
            "Speed: 8.3ms preprocess, 188.6ms inference, 1.5ms postprocess per image at shape (1, 3, 640, 640)\n",
            "\n"
          ]
        },
        {
          "output_type": "stream",
          "name": "stdout",
          "text": [
            "[<deep_sort.deep_sort.detection.Detection object at 0x7f013411be50>, <deep_sort.deep_sort.detection.Detection object at 0x7f003548bdc0>]\n",
            "<class 'list'> class\n",
            "[[20, 1179.3113209752153, 363.04592404853463, 1237.8370982602037, 481.28179851381526], [36, 913.9247702863786, 2.254660391153948, 947.9554705576164, 116.99483872345075], [54, 529.9175938987318, 33.864586619470835, 556.7638340584651, 119.83473315850884], [60, 613.3441667259141, 155.78120421266536, 652.4706970589813, 249.05123506026752], [61, 1064.1965923382968, 20.17787696682752, 1093.2968002281868, 89.43328526706827], [75, 502.03171832054596, 222.6321610818912, 541.8065159845272, 327.40120729732973], [77, 57.09096472572023, 80.94843395408361, 91.99568967410175, 160.71208324113604], [86, 1122.7913742479711, 28.232603283701224, 1163.0296199937695, 117.73868404563655], [89, 1087.996900060299, 17.78781328493985, 1117.2706835237288, 90.80523388682323], [94, 835.7322827245162, 480.7057665002742, 898.9820607439227, 603.1693235896937], [102, 1214.2390886357778, 136.96039621480662, 1259.440013190942, 226.4023915512491], [105, 729.5509382896236, 489.5776176545592, 791.3255079912149, 614.1336355171845], [113, 205.1220779804556, -0.133307651551128, 244.1536171318685, 68.7150613900663], [115, 61.45430350729661, 562.6506605235218, 137.8952139551359, 690.665006560671], [116, 146.89815645263877, 373.4813315031827, 204.70729339476793, 499.14044759252454], [117, 729.3948189546718, 62.521803217557775, 760.8851022506199, 135.6573127935801], [118, 469.87066395057644, 98.93449201948141, 502.7904187750799, 188.74002212098077], [120, 564.1308646486531, 36.33953764233206, 591.512621084398, 122.62173233819877], [122, 766.0668406410829, 266.12861459436255, 812.6673137735997, 356.1233016142247], [123, 1007.0891761758944, 293.9106072232004, 1059.563244379589, 406.53087035901393], [124, 1011.8268414238056, 403.16291625027407, 1070.666881466457, 528.4479841286104], [125, 452.1227017855942, 320.2764562069868, 497.36702102457684, 441.43429868445793], [126, 1146.275300776773, 85.44375284135685, 1211.0274735255425, 242.0211758273491]]\n"
          ]
        },
        {
          "output_type": "stream",
          "name": "stderr",
          "text": [
            "0: 384x640 38 persons, 1 bird, 214.3ms\n",
            "Speed: 2.5ms preprocess, 214.3ms inference, 1.6ms postprocess per image at shape (1, 3, 640, 640)\n",
            "\n"
          ]
        },
        {
          "output_type": "stream",
          "name": "stdout",
          "text": [
            "[<deep_sort.deep_sort.detection.Detection object at 0x7f01681662c0>, <deep_sort.deep_sort.detection.Detection object at 0x7f003548af20>]\n",
            "<class 'list'> class\n",
            "[[20, 1177.2563202525198, 361.52286877879595, 1235.5137417386418, 480.16002938947906], [36, 913.5744881723277, 2.429365474248648, 947.5506867742313, 116.98653502475591], [54, 530.0352256543445, 33.881336174878456, 556.8926627536704, 119.85245507736211], [60, 612.9795359887049, 157.6350491006825, 652.8404957043186, 252.71571872294476], [75, 502.19689768058754, 221.59840989350295, 540.9408151733456, 323.99828751020317], [77, 56.674736199771864, 80.95406712599339, 91.74200506277577, 160.87351645750084], [86, 1123.0772827750593, 28.99343933854974, 1163.4015211173657, 118.69128098791782], [89, 1087.1050528557766, 17.387053436241715, 1116.9971460322254, 91.72713127113808], [94, 834.0939210860843, 482.4508853815026, 896.4964247466243, 604.1092340886651], [102, 1216.1029132440626, 137.3856856932516, 1261.8306974509746, 227.20898377377185], [105, 727.5225957876909, 487.30346941528654, 789.5386109623179, 613.2975185244137], [113, 207.6238213385777, -0.11165859447365278, 245.79459150175802, 67.41232411686345], [115, 64.2120179988268, 566.2287804872266, 141.55203638044577, 696.7213799359607], [116, 146.4973567525541, 376.67597422697276, 205.17333405088468, 503.4811268356217], [117, 728.5687412814066, 63.910111379536616, 760.2881786196332, 137.010124671219], [118, 469.5307094311586, 97.14541435048613, 502.02674690112804, 185.60172862241882], [120, 564.2567757019488, 36.13643459499376, 591.6445465312712, 122.22519981881162], [123, 1009.2078059903406, 295.4650084718861, 1061.2796282173572, 406.45059464018067], [124, 1013.4137861389398, 406.05526286275, 1072.2094665418483, 531.3892821695046], [125, 451.1265844369411, 316.5935336903635, 496.7709371708417, 439.65774758478324], [126, 1148.5601549418277, 86.79512632463485, 1211.219912317004, 245.98566462676507], [131, 382.95961626714535, 227.79624706606774, 427.89243510014865, 324.7175747629591]]\n"
          ]
        },
        {
          "output_type": "stream",
          "name": "stderr",
          "text": [
            "0: 384x640 32 persons, 2 birds, 206.8ms\n",
            "Speed: 5.8ms preprocess, 206.8ms inference, 3.4ms postprocess per image at shape (1, 3, 640, 640)\n",
            "\n"
          ]
        },
        {
          "output_type": "stream",
          "name": "stdout",
          "text": [
            "[<deep_sort.deep_sort.detection.Detection object at 0x7f01681645b0>, <deep_sort.deep_sort.detection.Detection object at 0x7f003548bca0>]\n",
            "<class 'list'> class\n",
            "[[20, 1175.6714285435687, 359.7202949850158, 1234.234997305411, 480.5042470127816], [54, 530.1626006965969, 33.89570816699438, 556.8540220728167, 119.20785506624938], [60, 612.7368663141316, 158.9529907253139, 653.0965737964297, 255.3725220548177], [75, 501.96488601653834, 220.62335210107753, 539.596800469158, 320.108630473115], [77, 56.49007260140256, 80.95934206832248, 91.66853215127207, 160.9376278594633], [82, 1151.0621963567955, 137.94095132113412, 1203.8133987365136, 251.17093994624094], [86, 1125.492176630731, 30.71960632864449, 1163.0884034051514, 113.72052071933356], [89, 1088.0161094161995, 17.222038526464438, 1118.2260226807634, 92.71888263927556], [94, 832.597951864755, 483.7414309700459, 893.3863531396972, 603.7601790584116], [102, 1217.28584188929, 138.82446606047918, 1263.48542781997, 229.4490704112328], [105, 726.1068631256298, 485.9275799564925, 788.2537288350549, 613.1509799736882], [113, 210.00906506723095, -0.09544068707149478, 246.75512733586277, 64.9428119961309], [115, 66.17357739280807, 567.8090112983516, 143.2817937254374, 698.9435100342622], [116, 145.87508936482823, 379.76705622813034, 204.53561131142317, 505.6771415856234], [117, 728.6428118646317, 63.069696371622065, 761.6473618683463, 138.78914203438484], [118, 469.38296906121684, 95.87288465615842, 501.76564231439676, 183.84697663645744], [120, 564.1954816256253, 36.05668789448358, 591.8010902727202, 122.73414306594819], [122, 770.0715856605242, 263.00767067289996, 813.3479701616016, 346.24441153089225], [123, 1011.0348879564159, 297.94123987883796, 1062.7743653928958, 407.6351240405879], [124, 1014.9335569163986, 407.0432343488159, 1073.7605015321687, 532.3706452620531], [125, 451.5368580349795, 313.98280720783737, 496.4208643872768, 435.1284958576621], [126, 1149.3936265643763, 87.69405034242696, 1212.3780272711401, 247.71006329929867], [131, 383.00852397480156, 227.71619400312466, 428.1687430956388, 326.194888641037], [132, -2.101808775713149, 78.65567620544638, 21.496624555336773, 120.0]]\n"
          ]
        },
        {
          "output_type": "stream",
          "name": "stderr",
          "text": [
            "0: 384x640 32 persons, 2 birds, 215.9ms\n",
            "Speed: 4.0ms preprocess, 215.9ms inference, 1.4ms postprocess per image at shape (1, 3, 640, 640)\n",
            "\n"
          ]
        },
        {
          "output_type": "stream",
          "name": "stdout",
          "text": [
            "[<deep_sort.deep_sort.detection.Detection object at 0x7f0168166e30>, <deep_sort.deep_sort.detection.Detection object at 0x7f003548aec0>]\n",
            "<class 'list'> class\n",
            "[[20, 1174.532724678736, 358.46212072852416, 1233.0830749366792, 480.71475881155135], [54, 530.5768897946804, 33.90877402386592, 557.131668687115, 118.97446960423518], [60, 612.7854105507487, 160.06599457434606, 653.0642516696, 256.33314647958355], [75, 502.10712932794087, 218.32602388151474, 538.8849411981947, 315.38264999705234], [77, 56.397089444169154, 80.9641059196069, 91.66225287148089, 160.9639609750845], [82, 1152.6277935781102, 142.42269947679807, 1203.5465469277524, 251.66822428027282], [86, 1126.0152009129795, 31.58088785443659, 1163.373437656222, 114.05677524173711], [89, 1089.1581459543274, 17.803766179640746, 1119.183803675576, 93.08119336221195], [94, 831.8028018195874, 484.85961611789764, 891.3840990989858, 604.2461099253852], [102, 1218.7968261030962, 139.32828617646533, 1265.5925236220667, 231.56847583406284], [105, 725.0347137747239, 484.2185885553424, 787.7211369481593, 613.8969906582495], [113, 211.95235297611677, -0.08112363766638353, 247.85197028507247, 64.04995639683297], [115, 68.00245959686302, 569.6718614750952, 144.05406748668912, 699.7089841394682], [116, 144.83904514797715, 382.1588338395429, 203.13501730395032, 507.03336613139163], [117, 729.2435568017576, 63.37659940458185, 762.2311728367206, 138.77011724722757], [118, 469.1290321132486, 95.45867583582556, 501.2054132420186, 182.60701434062833], [120, 564.2522914238103, 36.68497689175079, 591.7769645311082, 122.92552475050606], [122, 771.2587540913377, 261.13700493068063, 812.8905996178719, 340.4766949680252], [123, 1012.5010657168295, 302.09779013692514, 1064.4306124878249, 411.9697231044684], [124, 1017.6797469280941, 409.9384805756664, 1075.375781079767, 532.6093215143896], [125, 451.45783258696554, 311.7783759563189, 495.1983394642713, 430.1878740756232], [131, 383.2419345703141, 229.65437072690446, 428.04855923400254, 328.01501916737806], [132, -3.8027708439396744, 70.52230375139288, 24.12985006277853, 120.00000000000001]]\n"
          ]
        },
        {
          "output_type": "stream",
          "name": "stderr",
          "text": [
            "0: 384x640 34 persons, 2 birds, 204.1ms\n",
            "Speed: 8.2ms preprocess, 204.1ms inference, 1.5ms postprocess per image at shape (1, 3, 640, 640)\n",
            "\n"
          ]
        },
        {
          "output_type": "stream",
          "name": "stdout",
          "text": [
            "[<deep_sort.deep_sort.detection.Detection object at 0x7f003c922500>, <deep_sort.deep_sort.detection.Detection object at 0x7f003548ace0>]\n",
            "<class 'list'> class\n",
            "[[20, 1174.078069030221, 356.0985167110111, 1232.7776763151232, 480.22120396209056], [54, 530.7447510854423, 33.91980426303953, 557.2182875888001, 118.8976272961618], [60, 612.9806748714243, 161.75758006931878, 653.5443379810179, 258.60990702390046], [75, 501.3336896641996, 215.53137626384884, 538.8008386613767, 314.3847339769645], [77, 56.34154549986325, 80.96833587697152, 91.67977724307224, 160.9755243925731], [82, 1153.2645280880286, 145.9122589659626, 1203.3407486555407, 253.170636702247], [89, 1089.870193900406, 18.01827999786282, 1119.899909145262, 93.85658361421422], [94, 831.0528183406556, 485.2468477069681, 889.3321113199019, 603.7297454406096], [102, 1219.6226482442437, 140.7912864109341, 1266.7086559961851, 234.29192408054513], [105, 723.7768347886949, 481.7123298159544, 787.1304945872932, 614.2877284459543], [113, 213.7497608998954, -0.07063476790186485, 248.33879427331564, 62.410008389785546], [115, 69.29998811468252, 570.990472534689, 144.29865475153446, 699.917819496291], [116, 144.18645150681039, 383.62087751854676, 202.22703331445905, 507.4190329093722], [117, 729.0321115527175, 64.76400179034434, 761.5789639640427, 138.6967490143809], [118, 468.82292596299123, 94.69689412408744, 501.2141408267914, 182.89477736168257], [120, 564.2569929411437, 36.92237086368465, 591.7810158069158, 122.99614396122809], [122, 770.7884794478917, 259.1757493641454, 815.641675186945, 345.4747600513648], [123, 1012.8493121734907, 304.8882329137585, 1065.805279174678, 416.8136845567456], [124, 1021.7187789838799, 411.5806483480974, 1078.8599670305157, 532.5500587582342], [125, 451.38772452044503, 309.0618624442814, 494.1132266558483, 425.10847885752327], [131, 382.84228553550014, 231.6590165247756, 427.15068868804343, 329.29495114098887], [132, -4.913772998321109, 67.21636700308403, 24.885212958565305, 120.0]]\n"
          ]
        },
        {
          "output_type": "stream",
          "name": "stderr",
          "text": [
            "0: 384x640 33 persons, 2 birds, 213.3ms\n",
            "Speed: 3.1ms preprocess, 213.3ms inference, 1.6ms postprocess per image at shape (1, 3, 640, 640)\n",
            "\n"
          ]
        },
        {
          "output_type": "stream",
          "name": "stdout",
          "text": [
            "[<deep_sort.deep_sort.detection.Detection object at 0x7f003548b850>, <deep_sort.deep_sort.detection.Detection object at 0x7f01681645b0>]\n",
            "<class 'list'> class\n",
            "[[20, 1172.3400376135346, 352.65707268148844, 1231.054847884946, 478.1377897652725], [54, 530.8177722750526, 33.92938415351922, 557.2338968040436, 118.8791539427841], [60, 612.8147626974508, 164.9816160146897, 653.973508433766, 263.35829523286554], [75, 501.16145875843404, 211.91341625700528, 538.6752254459743, 310.77411120800105], [77, 56.302302197813205, 80.97207272098936, 91.70456567362895, 160.98122811484208], [82, 1155.3325052008865, 149.143121409819, 1205.3716657993732, 256.98957694272167], [89, 1090.330444056834, 18.264248871475417, 1120.4722203762562, 94.38519208907115], [94, 827.8829487255996, 486.68545125171676, 885.0470356761298, 603.4999860795889], [102, 1220.4053671570393, 143.92917450979786, 1267.88308495418, 238.55415463399004], [105, 721.7715874132605, 478.90185593166404, 785.2339509637959, 613.8792613521911], [113, 216.80862964110273, -0.060818364349294995, 248.62362585415232, 57.78962861836998], [114, 774.455000394727, 50.760490716094445, 804.1096418798854, 133.6096110164956], [115, 70.17194567886024, 572.7597365805526, 143.9065184459273, 699.9213489913926], [116, 142.87884917862218, 385.3926823310438, 199.66981196861622, 506.7838483302142], [117, 729.8769558758975, 65.25134486325985, 761.7177746850415, 137.95022387859743], [118, 468.5207008573782, 93.13425431617094, 501.41358149697993, 183.06172446959323], [120, 565.2780940215107, 37.6698492087469, 592.7446379186365, 123.02032735230063], [122, 771.8473865134387, 256.5435071852067, 816.0224459633887, 341.9763304641344], [123, 1012.8683815106408, 308.4795872563699, 1067.6515517911787, 425.1145670879158], [124, 1024.499466941857, 414.0820761967885, 1080.77639258572, 531.7500867537118], [125, 452.4699998782717, 304.81388011669424, 494.613888471343, 418.65725242405887], [131, 382.9614262782397, 233.07940938570601, 427.43542490883567, 331.08026265026], [133, 382.6753848203308, 173.54296585856412, 421.3246151796692, 244.8054772042649]]\n"
          ]
        },
        {
          "output_type": "stream",
          "name": "stderr",
          "text": [
            "0: 384x640 35 persons, 2 birds, 204.6ms\n",
            "Speed: 4.0ms preprocess, 204.6ms inference, 1.9ms postprocess per image at shape (1, 3, 640, 640)\n",
            "\n"
          ]
        },
        {
          "output_type": "stream",
          "name": "stdout",
          "text": [
            "[<deep_sort.deep_sort.detection.Detection object at 0x7f003548ace0>, <deep_sort.deep_sort.detection.Detection object at 0x7f00354f73d0>]\n",
            "<class 'list'> class\n",
            "[[20, 1172.0273085468657, 350.11412563149435, 1230.1455595844016, 475.4447148548523], [54, 530.941892854798, 34.59980932224349, 557.1359419125768, 118.88177623236547], [60, 613.164350229824, 166.81405664221384, 654.3822356320783, 265.1025350139587], [75, 500.16128814720804, 209.9559068324841, 537.6003585329019, 308.16779144760295], [77, 56.271033380430325, 80.97537006405912, 91.7304296501805, 160.98452780044764], [82, 1156.5243598179034, 152.93533764907713, 1205.6509307599345, 258.348000167558], [86, 1122.9951006384565, 36.71212094974194, 1163.5951037715686, 126.68669876343955], [89, 1093.1810473558332, 19.663786943103894, 1121.8790492095873, 93.43190522357631], [94, 825.0271923786497, 487.85756713838464, 881.3410993427025, 603.3824802492775], [102, 1221.268301429789, 146.39543376513612, 1268.9857287619595, 241.43470126887857], [105, 720.2713687758943, 475.3215876314928, 784.0061903616781, 613.1598857515085], [113, 218.21126985179646, -0.04994295934868376, 249.57995204073777, 57.515411872491455], [114, 773.8040128869641, 50.87179379974483, 803.377678642553, 134.44713881878502], [115, 70.83986005867801, 574.7007810797652, 143.31590631712703, 699.8504369179304], [116, 140.86004762701987, 387.2837453678632, 196.94037375652712, 507.08857395911264], [117, 730.612897937252, 66.06030507009913, 762.0073275114527, 138.29220798819318], [118, 468.2384539641276, 91.93313055270713, 501.66495594253735, 183.83789037879507], [120, 565.5243571022189, 37.94727130928089, 593.2428578341231, 123.69025173193702], [122, 772.0051628835695, 254.93258688317675, 815.7015820996431, 340.02507849986534], [123, 1014.2321576800325, 313.0109680045219, 1068.8628563130203, 430.12276026733593], [124, 1026.7926435034592, 416.91013388893543, 1082.107768740901, 530.6616379347797], [125, 452.70629462330197, 302.0059479272929, 494.97424232805565, 415.72364465394713], [133, 382.6612905634328, 174.17190181382878, 421.3387094365672, 245.48638796208414]]\n"
          ]
        },
        {
          "output_type": "stream",
          "name": "stderr",
          "text": [
            "0: 384x640 35 persons, 2 birds, 275.3ms\n",
            "Speed: 6.4ms preprocess, 275.3ms inference, 2.3ms postprocess per image at shape (1, 3, 640, 640)\n",
            "\n"
          ]
        },
        {
          "output_type": "stream",
          "name": "stdout",
          "text": [
            "[<deep_sort.deep_sort.detection.Detection object at 0x7f01681662c0>, <deep_sort.deep_sort.detection.Detection object at 0x7f003548bca0>]\n",
            "<class 'list'> class\n",
            "[[20, 1171.2015551966704, 347.91955499188464, 1228.642728266388, 472.51622983153106], [54, 530.9880599009248, 34.85683774422348, 557.0924064986267, 118.89201876709431], [60, 613.6558162608384, 168.1136449248799, 654.8429700307313, 266.3496258859683], [75, 500.03442359001286, 208.63798991106265, 537.6340430311864, 306.61513084765215], [77, 56.24437050831026, 80.97827902064274, 91.75515205491996, 160.9867720068496], [82, 1157.6853932871088, 154.9634861080925, 1206.2976272092178, 258.7669535971062], [86, 1123.0537093439095, 37.82711678240523, 1163.8243931269462, 128.18039531800318], [89, 1094.8267612261488, 20.0082497753353, 1122.669564838131, 93.25819838683736], [94, 822.6967997731222, 487.5930864436192, 878.1221308318911, 601.3143928428648], [102, 1222.3456511075292, 147.83695808247393, 1270.3045363102262, 243.3570710708881], [105, 719.7797704514957, 473.4006317264888, 781.5753731425516, 608.4051730764091], [113, 220.4226951950759, -0.04388940342644787, 251.47738118413994, 56.77394987807756], [114, 773.4382218122254, 52.22616512478138, 802.638537389813, 134.75342634460935], [115, 71.35161773137864, 575.3742911818371, 143.40380861335163, 699.7594191630584], [116, 140.08606596367596, 389.89156585366123, 194.65984738030158, 506.4429359237381], [117, 730.9818679124768, 66.99178995960983, 762.6737946243181, 140.37760883805532], [118, 467.81079056322153, 90.86814556939217, 501.43319148692285, 183.5266106381883], [120, 565.5771665696802, 38.04491158912815, 593.458148768937, 123.93817626046682], [122, 772.1157908330485, 253.0687066986342, 815.4820807069553, 338.0395727005596], [123, 1015.6883420977553, 317.2769733213781, 1069.5973940797837, 433.88956389690554], [124, 1028.8272904961188, 419.18810196105983, 1084.6337648104427, 532.1797557205125], [125, 452.5642503204216, 300.40202116098817, 494.671208922815, 413.43096478730763], [132, -6.147700725781608, 46.389090926642446, 34.00744200197772, 119.11294747456617], [135, 703.3257178223173, 666.6612994796772, 757.4423481572742, 720.0]]\n"
          ]
        },
        {
          "output_type": "stream",
          "name": "stderr",
          "text": [
            "0: 384x640 38 persons, 2 birds, 270.7ms\n",
            "Speed: 7.2ms preprocess, 270.7ms inference, 2.0ms postprocess per image at shape (1, 3, 640, 640)\n",
            "\n"
          ]
        },
        {
          "output_type": "stream",
          "name": "stdout",
          "text": [
            "[<deep_sort.deep_sort.detection.Detection object at 0x7f01681645b0>, <deep_sort.deep_sort.detection.Detection object at 0x7f003548b850>]\n",
            "<class 'list'> class\n",
            "[[5, 657.3108108528963, 112.90420860660134, 698.7043999998732, 211.10355799641593], [20, 1170.7404585059774, 345.8593131297366, 1226.3439778757609, 466.8637573531339], [54, 531.384034821372, 34.95382379490503, 557.3546772728237, 118.90333029610113], [60, 613.8476672836533, 169.20796770976608, 655.0123617193585, 267.4091868036112], [75, 500.0413229213911, 207.5576047264574, 537.6201308094828, 304.7938829416557], [77, 56.598866460009745, 80.9808452252966, 92.06071265086865, 160.988495199522], [82, 1158.69434458863, 156.30770740516044, 1207.2261809574518, 259.5135955136958], [86, 1123.119339145027, 38.98710031501863, 1163.1404936244905, 127.59589741025948], [89, 1095.4635072104659, 21.45394784546273, 1122.8607539463214, 94.52424255286772], [94, 818.8061406383043, 488.1248900169093, 874.8405057327576, 602.5252836133612], [105, 719.411092942663, 470.1613853023235, 779.5983285269259, 602.698773073166], [113, 222.6561622919749, -0.03807873846982446, 253.96517255412996, 56.55458851069807], [114, 773.5452752001469, 52.74777805853713, 802.2330537480235, 133.55406601941795], [115, 72.34215445675775, 576.7076227833932, 144.34463980973692, 701.0071481252397], [116, 138.48039174562004, 391.4309295613498, 193.85141922611376, 510.12460194074345], [117, 730.8873438111742, 67.9688465874717, 762.4847777627252, 141.7856648232767], [118, 466.81894324189125, 88.5424370422793, 500.86711027030395, 182.1418706370277], [120, 565.9343864152447, 38.73545065929297, 593.850008317807, 124.026833983432], [122, 771.6791328325634, 251.77234473514494, 815.1755867589776, 337.36707321124214], [123, 1015.6261424061912, 319.4499385059769, 1069.7304170130715, 436.50285064117963], [124, 1028.9534592715618, 421.2672677058482, 1087.390799302964, 538.6936653737057], [125, 452.17364489406395, 298.58168793306623, 494.8946863821722, 412.7119900615748], [132, -7.012743380299627, 41.645185476832204, 35.697226267861204, 118.99602573083817], [135, 701.7195171300814, 663.6166349713585, 758.5623733719633, 720.0]]\n"
          ]
        },
        {
          "output_type": "stream",
          "name": "stderr",
          "text": [
            "0: 384x640 37 persons, 1 bird, 279.9ms\n",
            "Speed: 8.1ms preprocess, 279.9ms inference, 2.0ms postprocess per image at shape (1, 3, 640, 640)\n",
            "\n"
          ]
        },
        {
          "output_type": "stream",
          "name": "stdout",
          "text": [
            "[<deep_sort.deep_sort.detection.Detection object at 0x7f013411be50>, <deep_sort.deep_sort.detection.Detection object at 0x7f003548b9a0>]\n",
            "<class 'list'> class\n",
            "[[5, 657.3575448491638, 114.19113124913522, 698.776580480635, 212.45148339135753], [20, 1169.9227049277235, 343.85192716301515, 1224.2341124080642, 461.4784562759831], [36, 917.7730082045996, 28.09304213295539, 944.9418095474039, 116.99712147849866], [54, 531.5569561437118, 34.989920220725196, 557.4229294397211, 118.91422042200733], [60, 614.5819568390278, 169.56678748823617, 655.7285466579405, 267.74183328361073], [75, 499.591474793212, 206.56541280914564, 537.4294366387323, 304.1995700939252], [77, 56.3673719241086, 80.98310893445768, 91.88021119536253, 160.98991654325903], [82, 1159.6468024000621, 158.19802805668047, 1208.0701820355189, 261.17173378615826], [86, 1123.1804044286787, 40.10642546778554, 1163.280122781249, 128.88960220985734], [89, 1096.222147745319, 21.31515438323155, 1123.6852221667175, 95.64567599969547], [94, 816.1985965900215, 488.9592325592386, 872.3385336588055, 602.9635312675541], [105, 719.2032324460313, 465.74205899726803, 777.6890460472605, 594.6786600836133], [113, 225.94179716435568, -0.03318317536064441, 257.64050353524846, 55.844185240726645], [114, 772.955628844003, 52.27660370860923, 801.4926801633961, 132.44118948423161], [116, 137.70629855256394, 395.23443340611254, 193.78927255649867, 516.0424448826911], [117, 730.7965404267482, 68.96335292234002, 762.4509198022126, 143.59973177738874], [118, 466.0500898796565, 86.3936878888405, 500.39758729343225, 180.34404150769012], [120, 566.138115883047, 38.96781280525325, 594.0219482870053, 124.16196588002458], [122, 771.5473934088722, 250.6870129813561, 814.997099623658, 336.5210890132471], [123, 1015.939190227719, 320.82298229287346, 1070.0088797653293, 438.0235821517995], [124, 1028.3212483444493, 422.6262971458201, 1090.3112404654307, 547.5982949592396], [125, 451.5456227973504, 296.6700202940528, 495.46174730874213, 413.87886139646906], [135, 700.0513046010959, 659.8051877430195, 760.0458500526476, 720.0]]\n"
          ]
        },
        {
          "output_type": "stream",
          "name": "stderr",
          "text": [
            "0: 384x640 36 persons, 1 bird, 276.4ms\n",
            "Speed: 8.3ms preprocess, 276.4ms inference, 2.0ms postprocess per image at shape (1, 3, 640, 640)\n",
            "\n"
          ]
        },
        {
          "output_type": "stream",
          "name": "stdout",
          "text": [
            "[<deep_sort.deep_sort.detection.Detection object at 0x7f00354891b0>, <deep_sort.deep_sort.detection.Detection object at 0x7f003548af20>]\n",
            "<class 'list'> class\n",
            "[[1, 793.6957273571302, 31.045854531086206, 823.7727453691043, 116.06340048332578], [20, 1168.219741161344, 341.1916489393419, 1220.937877578541, 454.8893231858567], [36, 916.7377463092545, 28.501390341823907, 944.6295873921401, 116.99870992889288], [54, 531.6858301378279, 35.008443565205354, 557.5001614726676, 118.77556248140529], [60, 615.0253884623687, 169.64861447993044, 656.4880401654584, 268.4612076010546], [61, 1074.317335148575, 23.018312427296244, 1104.3000826351702, 94.92820306839735], [75, 498.6799303288652, 203.61141895137925, 537.4610250675056, 304.05326350681776], [77, 56.390714273206285, 80.98510565092604, 91.6990797660341, 160.33040555227308], [86, 1124.0531490338205, 41.83405480248332, 1162.874240458969, 126.89660996364283], [89, 1098.289779200723, 21.906183172705333, 1125.452549733905, 96.05104111934779], [94, 805.2361978264737, 490.57135741166894, 863.0185079214583, 603.7779478912666], [105, 719.0221769467242, 460.2045984415421, 774.504591695997, 581.7715040521008], [113, 229.9308824595045, -0.02867559296549871, 262.7873203512996, 55.62676965826986], [114, 771.805333848558, 48.77304199855884, 800.9064797280813, 130.70680672090958], [115, 76.38577335365716, 578.2092571638595, 146.2411031594305, 697.9901264460213], [116, 135.94109533221012, 399.21947880794636, 193.98728191288464, 525.4366159101692], [117, 731.3314429316172, 71.93494975109985, 762.5135538428286, 146.219983479939], [118, 467.25998068101654, 84.9712652242916, 500.701427297854, 176.41786652146612], [122, 770.8618302207717, 249.68116386096625, 814.8766773498305, 336.9295676189947], [123, 1018.1039521828098, 325.179427144124, 1070.6091314593862, 439.1293748803858], [124, 1029.1542591620816, 428.885261905738, 1092.1969543083508, 556.0731685143913], [125, 450.7824411560719, 294.7198248097247, 496.20352083149527, 415.71699738605184], [132, 2.3455357238936614, 46.39589730527506, 42.88403803850789, 118.951962247866], [135, 696.8767521536437, 653.7520517213526, 761.7951038201877, 720.0]]\n"
          ]
        },
        {
          "output_type": "stream",
          "name": "stderr",
          "text": [
            "0: 384x640 37 persons, 1 bird, 1 dog, 263.8ms\n",
            "Speed: 2.6ms preprocess, 263.8ms inference, 1.4ms postprocess per image at shape (1, 3, 640, 640)\n",
            "\n"
          ]
        },
        {
          "output_type": "stream",
          "name": "stdout",
          "text": [
            "[<deep_sort.deep_sort.detection.Detection object at 0x7f003548aec0>, <deep_sort.deep_sort.detection.Detection object at 0x7f00354f44c0>]\n",
            "<class 'list'> class\n",
            "[[1, 793.8477884474325, 30.511994607869404, 823.8669674192982, 116.21719245904782], [20, 1167.2978033266877, 338.2853121528128, 1219.4541242915463, 450.5522633827111], [36, 916.1762605765744, 28.028941947441986, 944.8389994897091, 116.99897048267451], [60, 615.5757820938287, 170.29070337249112, 657.0397583868568, 268.67663635888425], [61, 1074.6626980019332, 23.103373984027172, 1104.7462462031149, 95.80638871091026], [75, 498.870022844587, 203.21274822483116, 537.6140852205125, 304.0543388832193], [77, 56.376044729178474, 80.98695281866426, 91.6534902544173, 160.08208103781112], [82, 1163.4108983258932, 161.14632390849428, 1209.3364098827026, 258.970042661054], [86, 1124.126035348174, 42.31760562590169, 1162.9223783618138, 127.27052394198118], [89, 1099.7696227736035, 22.114375899368774, 1126.697750633271, 96.1844396824145], [94, 799.0940421979911, 491.14467243886855, 858.473654111769, 604.068011729677], [105, 717.9002495657609, 457.6206101970064, 772.4527953330971, 575.7625532005694], [113, 231.79328127928144, -0.02499718153070063, 265.4418782099831, 54.91223241264503], [114, 771.8885366435002, 46.81945591881189, 800.9019904668372, 128.1017194519055], [115, 79.03723749767443, 579.1290945463272, 147.97715928859463, 696.1208535740348], [116, 134.67408295489523, 403.2529823690308, 193.40980513150166, 532.1563002908497], [117, 732.3943273895591, 75.01025475843794, 762.9865168461333, 148.49294649767455], [118, 467.8383622999576, 83.1672184507411, 500.7249890131883, 172.9777803632352], [122, 770.7723833486449, 248.6990063502636, 815.2997994191942, 337.13652522507186], [123, 1021.0060794104038, 328.0427344389698, 1071.9861037194164, 438.7296431230025], [124, 1029.5242819708496, 432.54835705423596, 1093.3984281302735, 561.8788864308798], [125, 451.67542317274575, 292.7541753511837, 495.95547261008426, 409.98057952191385], [131, 385.820905775989, 244.80455977525523, 429.0537239050407, 337.27560652078216], [132, 2.60780032368298, 46.38719663821051, 43.088581799159385, 118.95361533447591], [135, 695.2530262845384, 648.9317995630265, 763.5315725732125, 720.0]]\n"
          ]
        },
        {
          "output_type": "stream",
          "name": "stderr",
          "text": [
            "0: 384x640 38 persons, 1 bird, 1 dog, 197.1ms\n",
            "Speed: 7.5ms preprocess, 197.1ms inference, 1.4ms postprocess per image at shape (1, 3, 640, 640)\n",
            "\n"
          ]
        },
        {
          "output_type": "stream",
          "name": "stdout",
          "text": [
            "[<deep_sort.deep_sort.detection.Detection object at 0x7f003548bca0>, <deep_sort.deep_sort.detection.Detection object at 0x7f00354f7280>]\n",
            "<class 'list'> class\n",
            "[[1, 793.5431906891774, 30.315820322338304, 823.614686576031, 116.24141746012813], [20, 1165.9458294667716, 335.9666521522563, 1218.6905893668218, 449.08608604068644], [36, 916.2331033801029, 27.802966361945387, 945.3481677226022, 116.9991286597103], [54, 531.5543888883649, 34.15990104107095, 557.5371025323961, 118.92326002976208], [60, 615.9704353454033, 171.80653220487366, 657.0495588152687, 268.6975369285065], [61, 1075.1937858816946, 24.447492117529364, 1105.1465631626154, 96.76325247108896], [75, 499.00741681183047, 202.48159850626658, 537.6354629039212, 303.47261381390035], [77, 56.348839026165756, 80.98851879461628, 91.6582233225962, 159.99233533475268], [82, 1164.0275036426176, 160.88524917810497, 1210.1812581983027, 259.31403471265196], [86, 1124.6604080075008, 42.47514086278139, 1163.093672001607, 126.72618108760446], [89, 1100.6312913745965, 22.83745577997464, 1127.4601378641535, 96.87702283568237], [94, 795.3927389338112, 491.9907995317435, 855.8150919156956, 604.1603382122116], [102, 1224.4691222444735, 155.0033079701607, 1271.2455302801634, 249.29450799982442], [105, 717.3271861532971, 454.78336547666555, 771.9741003286091, 572.4103473669813], [113, 233.68164437534892, -0.021643063261631568, 268.37528675612197, 54.686075022388735], [114, 770.9256479098851, 46.26500812975396, 799.8785398220531, 127.37770697334622], [115, 81.25070767138389, 580.1009124034931, 150.58018250955757, 696.1685971713366], [116, 133.9927969871256, 406.01798968492403, 192.78993265397665, 535.9398841169493], [117, 733.5186252429879, 77.45059097109419, 763.7542908849201, 150.62480591597142], [118, 467.87419595679535, 81.88632589288763, 500.25654943700755, 169.75760443410343], [120, 569.3239401814328, 38.18825266716332, 597.0300904920822, 122.290295442851], [122, 770.4721316820279, 247.0701993922978, 815.7100233063688, 337.2670064532997], [123, 1023.0022471929825, 330.32461181705565, 1073.4968234708585, 439.7920922793396], [124, 1030.602695481733, 436.4605105434688, 1094.1092863216381, 565.2826982283578], [125, 452.6653054275248, 291.45717960795514, 495.8859270435219, 405.1897521643268], [131, 385.7277094778743, 245.4287253603889, 430.1121893562488, 338.20035111219846], [132, 4.141491051699745, 46.93943215107943, 43.70995133796035, 118.3011992752863], [135, 693.724185404988, 644.5649658492312, 764.4757931047279, 720.0], [136, 222.9564226929564, 322.2204446468729, 264.2804186631881, 424.0]]\n"
          ]
        },
        {
          "output_type": "stream",
          "name": "stderr",
          "text": [
            "0: 384x640 41 persons, 1 bird, 1 dog, 200.4ms\n",
            "Speed: 8.9ms preprocess, 200.4ms inference, 2.1ms postprocess per image at shape (1, 3, 640, 640)\n",
            "\n"
          ]
        },
        {
          "output_type": "stream",
          "name": "stdout",
          "text": [
            "[<deep_sort.deep_sort.detection.Detection object at 0x7f0168166e30>, <deep_sort.deep_sort.detection.Detection object at 0x7f003548ace0>]\n",
            "<class 'list'> class\n",
            "[[1, 794.2633216654508, 28.92290441631605, 824.3629928033338, 114.93875812412142], [20, 1161.2746502968687, 334.52771413448295, 1215.3578306131062, 449.32121380797906], [36, 915.9742655240221, 28.332803592267943, 945.1514966649166, 116.9992602519336], [54, 531.583104783373, 34.02830160815711, 557.4955544962962, 118.94495572924845], [60, 615.101493596783, 172.99578702536135, 656.0614912266644, 269.31129077495524], [61, 1075.6226593344459, 24.94595420573185, 1105.6692194408556, 97.10654952862227], [75, 498.8998615663372, 200.95232092415463, 537.8232552604118, 303.312655215777], [77, 56.31888224333557, 80.98988326264217, 91.68007169053689, 159.96256333335862], [82, 1165.2924814209782, 160.81162560220474, 1211.4097125432884, 260.1013097507142], [86, 1124.6107524485276, 42.4927065938318, 1163.397620177118, 127.82117780261885], [89, 1101.8060690824036, 23.09453684105712, 1128.15119589817, 96.46009599643887], [94, 792.7358066320367, 492.2747843505175, 854.4093337471769, 604.1786749557021], [102, 1225.25315693672, 156.44141204057854, 1272.1187440640092, 250.91237382194407], [105, 715.5124959552936, 451.1804134560783, 771.4773018606576, 570.6782944023702], [113, 234.69862297771863, 0.6514977888272, 269.61365702542787, 53.96478516002176], [115, 83.12007633349886, 581.0850076733835, 153.7264152048872, 697.5119784037619], [116, 134.02882211946874, 408.2820162983976, 192.97164090631395, 539.2160655694074], [117, 734.3700009995366, 78.31414954047295, 764.2561659570002, 151.3717238358958], [118, 468.2184156658008, 80.80263879617051, 500.42722583851736, 167.96029050487408], [120, 570.1220467875557, 38.777097460426525, 597.6351113365497, 122.06415270869405], [122, 770.3991469854224, 246.50066199378725, 815.809717979798, 337.3583354211893], [123, 1024.1001038500792, 333.72994651860154, 1073.6013491541992, 440.089808773192], [124, 1031.6539138232597, 439.8167782569941, 1095.5855018080617, 569.7106560953682], [125, 453.40388161034275, 289.06523273122394, 496.82758750279027, 403.50715963124384], [131, 384.8327447263236, 244.3257816852419, 430.64837805750807, 339.1881450518911], [132, 7.45451232217486, 47.92176416412656, 46.36950661381765, 118.05355102768746], [135, 691.745085443492, 639.7561091605612, 764.9553048088621, 720.0], [136, 222.95441223654856, 321.97558069475804, 264.0689011342653, 423.239817101997]]\n"
          ]
        },
        {
          "output_type": "stream",
          "name": "stderr",
          "text": [
            "0: 384x640 40 persons, 1 bird, 1 dog, 198.6ms\n",
            "Speed: 7.7ms preprocess, 198.6ms inference, 1.5ms postprocess per image at shape (1, 3, 640, 640)\n",
            "\n"
          ]
        },
        {
          "output_type": "stream",
          "name": "stdout",
          "text": [
            "[<deep_sort.deep_sort.detection.Detection object at 0x7f003548bca0>, <deep_sort.deep_sort.detection.Detection object at 0x7f00354f42e0>]\n",
            "<class 'list'> class\n",
            "[[1, 792.9681696449258, 26.33073532544082, 823.9169866930766, 115.4889990144614], [20, 1156.8703219772449, 333.41143357521855, 1212.2420583696353, 448.85430454506036], [36, 916.1222245917331, 27.79679190374413, 945.5206252577082, 116.9993721851852], [54, 531.6232197103296, 33.983324634730465, 557.4496380356609, 118.95331049183041], [60, 614.6162586753351, 174.0598617085724, 655.8380896836934, 270.8219772097191], [61, 1076.116349768189, 25.119268402633296, 1106.1378829433434, 97.21548329033695], [75, 499.4777876400354, 199.11731293001856, 538.6018811912949, 302.64471971349553], [77, 56.28972985795728, 80.99108530905286, 91.7065582473698, 159.9552343625631], [82, 1164.8204712096206, 160.73448610761415, 1212.0764931505478, 263.013676273755], [86, 1124.2610783805383, 43.12835139300024, 1163.8331858225001, 130.1849223050861], [89, 1103.0405735922968, 22.510459001760466, 1128.8748909117871, 94.95682402072964], [94, 792.0152682528131, 493.01416333597956, 853.9026511020779, 603.5073769123352], [105, 713.5935941348133, 448.6308861252102, 771.2923377247149, 570.8467673447726], [113, 236.01737834828808, 0.9031028993431072, 271.60396971338787, 53.73396659432203], [115, 85.3869225341639, 582.7394429670787, 157.87779598300324, 699.9927454009334], [116, 133.00800853001178, 411.0080683759765, 192.17450154974128, 542.9507572655518], [117, 734.724245587085, 79.72519180498452, 764.6036751572459, 152.76646297796424], [118, 468.8839678689648, 79.7889884345557, 501.2926563954831, 167.36463913606167], [120, 571.2194759175994, 39.64125792358478, 598.3401990132098, 121.32107981654451], [122, 770.2683545992062, 245.03076640925127, 815.9345047770646, 336.78176603256543], [123, 1024.8724131511267, 336.88764804163657, 1074.503008841085, 442.7765513046436], [124, 1032.6876524146276, 442.2976795348815, 1096.065739662065, 571.2615741983244], [125, 454.24234278171343, 286.9292381113862, 497.9240206317714, 402.3041511046755], [131, 384.66380873107823, 245.20025172296934, 431.32949073053413, 340.8333849135705], [132, 9.438997089940045, 47.111452940999165, 48.578865150753, 117.96392158844546], [135, 690.6188389818886, 635.4145772076504, 765.4886437227098, 720.0000000000001], [136, 222.962269418636, 321.91634768681706, 264.00061850188877, 422.9938554652647]]\n"
          ]
        },
        {
          "output_type": "stream",
          "name": "stderr",
          "text": [
            "0: 384x640 37 persons, 1 bird, 1 dog, 209.1ms\n",
            "Speed: 8.0ms preprocess, 209.1ms inference, 1.5ms postprocess per image at shape (1, 3, 640, 640)\n",
            "\n"
          ]
        },
        {
          "output_type": "stream",
          "name": "stdout",
          "text": [
            "[<deep_sort.deep_sort.detection.Detection object at 0x7f01681662c0>, <deep_sort.deep_sort.detection.Detection object at 0x7f00354891b0>]\n",
            "<class 'list'> class\n",
            "[[1, 791.7461450325709, 25.60319400305928, 822.9018415762515, 115.4708239843811], [20, 1151.5793393681683, 331.0942386254546, 1208.8711803257072, 448.78452876239476], [36, 916.9257393993557, 28.230347479414583, 946.2564954616303, 116.99945708899841], [54, 531.3834902284686, 33.30879797069193, 557.0222174176162, 118.29888533760305], [60, 613.7939275366458, 175.0775797460967, 655.7287200945117, 273.32841767948594], [61, 1077.7856645208717, 26.49031407829468, 1106.7581545426024, 96.57634694496963], [75, 500.7445849980944, 196.51094299928107, 539.1759443100947, 298.5070973911424], [77, 56.10639359964199, 80.99214546728996, 91.22767083640392, 159.29444157846086], [82, 1164.5703901737459, 163.94601132062755, 1212.3421810157138, 267.3520967831221], [86, 1124.9306950364703, 43.338501742489484, 1165.156193136885, 131.70597962875325], [89, 1104.4633091857322, 22.939581228931317, 1130.109915859059, 95.04281626293493], [94, 790.7774422324408, 492.59255199221747, 852.3197186873717, 602.5748644802462], [105, 712.4772404204076, 445.80890139566674, 771.699865732779, 571.0477306005519], [113, 237.67761929339184, 0.9927072598667586, 272.99916052091345, 53.005667941408504], [115, 86.93097649628783, 585.305281196971, 160.610404745951, 702.2276166343819], [116, 131.50219458217788, 415.87368332717574, 189.77014264111062, 546.2084878511027], [118, 469.67596012137034, 78.79878349395707, 502.3989817604495, 167.2075233119183], [120, 572.4266166834694, 40.623780927656206, 599.1014143681945, 120.3815818496663], [122, 770.9202825252714, 242.5576069745052, 816.5757291916209, 334.63391813014596], [123, 1026.2060424693248, 339.8422900588638, 1075.5218680962232, 445.0594434509893], [124, 1035.021455535389, 445.0970185750544, 1096.8228794356405, 571.0371808670428], [125, 455.4881289173337, 282.24665133458944, 498.053799622748, 394.6803225367007], [131, 384.10026723320465, 246.14173184834948, 432.72766752358916, 345.36563031961924], [132, 12.330694312708754, 46.231129485178045, 51.11487754565856, 116.63380270092104], [135, 687.8116640769358, 630.0033882005622, 764.9198033032968, 720.0], [136, 223.21887745871797, 321.1945571303836, 264.4486426395124, 422.9250043054864]]\n"
          ]
        },
        {
          "output_type": "stream",
          "name": "stderr",
          "text": [
            "0: 384x640 37 persons, 2 birds, 1 dog, 173.3ms\n",
            "Speed: 2.7ms preprocess, 173.3ms inference, 1.5ms postprocess per image at shape (1, 3, 640, 640)\n",
            "\n"
          ]
        },
        {
          "output_type": "stream",
          "name": "stdout",
          "text": [
            "[<deep_sort.deep_sort.detection.Detection object at 0x7f003548b9a0>, <deep_sort.deep_sort.detection.Detection object at 0x7f00354f5c90>]\n",
            "<class 'list'> class\n",
            "[[1, 791.3890751190262, 24.71471123643218, 822.4191670265802, 114.1708349190427], [20, 1149.2402470835684, 329.63662500472844, 1207.42943308325, 448.17956775692284], [36, 917.5918358626155, 27.682094262697156, 946.8388220018354, 116.32859295977462], [54, 531.2554668550752, 32.397135370027954, 556.8944778935925, 118.05512579563997], [60, 613.2058484442413, 176.73569637972014, 655.3067913469295, 274.88808522605785], [61, 1078.826235784014, 27.661121072737394, 1107.1882693312214, 96.97840442413377], [75, 500.8889273070846, 194.26181091239823, 539.0857794995426, 295.65412793666735], [77, 56.95195261061461, 80.32941525133259, 92.12400711019865, 159.04883359478836], [82, 1165.0946521985568, 165.1277762085535, 1213.7249205881928, 270.938354718757], [86, 1125.09722943189, 44.12420026191558, 1165.4297357827536, 132.7271196245193], [89, 1105.4450164679065, 23.26226703721266, 1131.0341432015607, 95.20423555564815], [94, 790.2896477786909, 491.7426405190078, 852.0032961348797, 602.2208736097266], [105, 711.6666137056957, 442.8828381217209, 772.3211623514022, 571.2464033386791], [113, 238.59040194530493, 0.34921627658698995, 273.70018429871135, 52.09392971132954], [115, 87.46521935163331, 586.8865810313708, 162.21240011544467, 703.7041386982535], [116, 130.28588776176903, 418.94204210566943, 188.23203709249415, 547.9614157458562], [118, 469.9673888253494, 77.81615175554771, 502.81571018226305, 166.54860675233067], [120, 572.8033430804666, 40.978649176501456, 599.4116772385263, 120.04039759319903], [122, 771.6307384765084, 240.35500876939057, 817.002080446046, 331.8821731566977], [124, 1036.9652183426956, 446.69378020437443, 1097.9228929240496, 570.7890019504471], [125, 456.0583465178665, 279.2374533054238, 497.9836588608922, 389.8897309272804], [131, 384.7271349446086, 248.41704254924787, 433.0522189428277, 347.030627141643], [132, 14.45619655260488, 45.99006932734756, 52.30108378891539, 115.46776221715376], [133, 380.92541882015126, 187.9365944393222, 422.0829918124174, 264.8931470810222], [135, 685.5679171311104, 625.4270851939793, 763.9389783295643, 720.0000000000001], [136, 223.26546255345158, 320.9553418335445, 264.651347683983, 423.6109145351984]]\n"
          ]
        },
        {
          "output_type": "stream",
          "name": "stderr",
          "text": [
            "0: 384x640 36 persons, 1 bird, 1 dog, 185.7ms\n",
            "Speed: 3.0ms preprocess, 185.7ms inference, 1.5ms postprocess per image at shape (1, 3, 640, 640)\n",
            "\n"
          ]
        },
        {
          "output_type": "stream",
          "name": "stdout",
          "text": [
            "[<deep_sort.deep_sort.detection.Detection object at 0x7f0168166e30>, <deep_sort.deep_sort.detection.Detection object at 0x7f00354f4a30>]\n",
            "<class 'list'> class\n",
            "[[1, 791.4229640096939, 23.77436786230193, 822.0385453725705, 111.73456049617381], [20, 1147.4689450564274, 327.19124720645925, 1206.6165048181715, 447.3760702147993], [36, 917.4545599201019, 27.447182285982436, 946.7652445802964, 116.08072167440717], [54, 530.8789812190821, 32.05916930362837, 556.5151402058744, 117.96817685001596], [60, 612.7679699294207, 179.30007126221756, 654.7006058287415, 276.7471344515809], [61, 1079.3020826479246, 27.409267766424257, 1107.8683613208277, 97.78053147172832], [75, 501.1588399716113, 191.49763778581712, 538.8359898979054, 291.3350966132237], [77, 56.6432700719033, 80.0827601686168, 91.76326307788307, 158.96228230207896], [82, 1166.3660278700465, 166.83646813240307, 1215.0858825001749, 273.5528581829385], [86, 1124.8518811384754, 46.52973232911728, 1165.3657010079212, 133.94335902922847], [94, 789.1380268068224, 492.0674591174097, 849.7571179353139, 601.4233985808339], [102, 1227.5694556783662, 157.44079374362857, 1273.6852265362515, 251.5417883079738], [105, 711.2743856135988, 441.2225366058859, 772.7136395745584, 571.4294768821715], [113, 239.61807072499, 0.1112130221749581, 273.7780333554153, 50.445212292052084], [115, 87.86222848432044, 588.754294785717, 163.14676706006276, 704.886421089638], [116, 129.35824211149279, 420.6482170652689, 186.86574668225333, 548.4859229201953], [117, 736.3422011409369, 80.45033003222774, 765.5933131150917, 151.67699707122847], [118, 469.57580417206543, 76.1747681034874, 502.8024940425249, 166.35933075741707], [120, 573.063993621718, 40.42861430246527, 600.0316851385837, 119.92452186360822], [122, 772.6958076561671, 238.2589101651789, 817.0115757584923, 327.5826709760685], [123, 1029.1378354925403, 347.6710528758687, 1079.4865932236219, 453.35996612200165], [124, 1038.2834455108728, 448.5075692502189, 1098.2988602244784, 570.5745404752297], [125, 456.35414339991445, 276.88476513168297, 497.8503898178402, 386.2280694103674], [131, 384.9707459003086, 247.92742974928328, 433.81210127059734, 347.5954215960804], [132, 15.91382149315503, 45.332153197518274, 52.653785183047404, 114.3727434633011], [133, 381.1052014276696, 188.37763642681313, 421.87146680210645, 265.5148348887257], [135, 683.8183193006516, 621.8148503237132, 762.5193666060592, 720.0], [136, 223.35642312158453, 320.8846618882638, 264.647031140526, 423.8653486319743]]\n"
          ]
        },
        {
          "output_type": "stream",
          "name": "stderr",
          "text": [
            "0: 384x640 39 persons, 1 bird, 207.0ms\n",
            "Speed: 4.1ms preprocess, 207.0ms inference, 1.5ms postprocess per image at shape (1, 3, 640, 640)\n",
            "\n"
          ]
        },
        {
          "output_type": "stream",
          "name": "stdout",
          "text": [
            "[<deep_sort.deep_sort.detection.Detection object at 0x7f01681645b0>, <deep_sort.deep_sort.detection.Detection object at 0x7f00354f4cd0>]\n",
            "<class 'list'> class\n",
            "[[1, 791.8921713754778, 22.81321634732374, 822.0790539798778, 109.52688941370269], [5, 660.6599353605783, 122.11105097484558, 701.1989303735435, 217.2231597076742], [20, 1145.7541975962547, 326.3372901958951, 1204.8781209750935, 446.48441082678147], [36, 917.6692946158317, 26.667456597285984, 947.1305111533692, 115.99199503069408], [54, 530.7566973366412, 31.939598273139254, 556.350876863741, 117.94085419100911], [60, 612.5714717342997, 181.54530562791564, 654.5076522762354, 278.71912776776884], [61, 1080.0429346113765, 27.88097067732612, 1108.5847809895647, 98.19465381643266], [75, 501.17395405266564, 190.5303634946448, 538.1634367299099, 288.44949166562463], [77, 56.17868177258761, 79.99300000066751, 91.31005560265261, 158.93570018470132], [82, 1167.9170415124033, 168.74813116223737, 1216.448634559872, 276.45301420069336], [86, 1125.0128430875675, 47.48121934175076, 1165.5681095382301, 134.98446727239792], [94, 787.893345618672, 492.170392614065, 847.2954497847389, 601.1214429862798], [102, 1228.7553986039563, 159.52513204370274, 1274.1427103377719, 252.8901833652642], [105, 710.8112709116824, 440.04903404448237, 772.5947135867691, 570.9502969161404], [113, 241.69632693424577, 0.07233548533202949, 275.30500429154023, 49.593642683271014], [115, 88.18756743914875, 589.3996994486365, 165.18297748418541, 707.2859219450203], [116, 128.33396680798404, 422.5009095455015, 185.11225396061764, 548.5534344191448], [117, 736.0706623403662, 81.16071230802692, 765.4444820958897, 152.1733815362538], [118, 469.84177364126964, 75.60109779055713, 503.0310555269154, 166.33502948113772], [120, 573.0833325899395, 40.214930774552116, 600.3008987184102, 119.8908634750416], [122, 772.9404059304683, 236.20438547142246, 816.4875424004911, 324.0107026999693], [123, 1030.5451129506894, 350.83137694759154, 1080.666639263946, 456.0430547537891], [124, 1039.9322040587551, 451.73771529441063, 1098.5019405175224, 570.3783222408474], [125, 456.82560402598335, 274.77669335487076, 498.0853929840783, 382.99102333842154], [126, 1162.3394028860212, 108.91005847516001, 1204.0196406008022, 210.8483433538332], [131, 385.32349503895296, 248.35671081196742, 433.8180942132989, 347.09586915137527], [132, 17.5372869800494, 44.498611151050305, 53.58158921741699, 113.97081888269273], [133, 380.95001409824243, 189.54042085692586, 421.9503198206608, 267.1204801850421], [135, 682.5471966909809, 618.5987727566321, 761.2787726863077, 719.9999999999999], [136, 223.34022523380742, 320.1941071400133, 264.6906869637876, 423.9601747403047]]\n"
          ]
        },
        {
          "output_type": "stream",
          "name": "stderr",
          "text": [
            "0: 384x640 37 persons, 1 bird, 196.7ms\n",
            "Speed: 7.9ms preprocess, 196.7ms inference, 1.4ms postprocess per image at shape (1, 3, 640, 640)\n",
            "\n"
          ]
        },
        {
          "output_type": "stream",
          "name": "stdout",
          "text": [
            "[<deep_sort.deep_sort.detection.Detection object at 0x7f00354f5de0>, <deep_sort.deep_sort.detection.Detection object at 0x7f00354f6140>]\n",
            "<class 'list'> class\n",
            "[[1, 792.1219941347301, 21.523600548706476, 822.3083461753483, 108.24576811944476], [5, 660.8916970369517, 123.74303593171653, 701.9045688549711, 220.12190420001832], [20, 1144.2469406322498, 323.46259904944367, 1203.2588247398667, 443.5855573572214], [36, 918.1450706178379, 25.694467723476507, 947.5276258315753, 115.29897134909085], [54, 530.7303857751112, 31.90326719327026, 556.271793463133, 117.9358461185929], [60, 611.5648416217842, 182.33787013476092, 654.0536751751868, 280.72983580619143], [75, 501.5506342473024, 188.2448470568401, 538.20789543614, 285.45089942864627], [77, 56.0371711460991, 79.96307411540249, 91.1044219523194, 158.2705340813863], [82, 1169.2234306100072, 171.38969643930716, 1217.5005112479341, 278.80066482825913], [94, 787.1501575598202, 492.85715464424703, 844.8613510734818, 600.3465494410225], [102, 1229.761326164535, 161.55028156412013, 1274.3508543361265, 253.33945570782606], [105, 710.2543749895582, 437.7470550226772, 772.3385511792899, 569.5501435270545], [115, 88.3967697147074, 590.2545833810588, 167.07441761574904, 710.1247632118867], [116, 127.75020197809413, 423.7476185793383, 184.06380415974087, 547.7890548392648], [117, 735.7028395684566, 81.39874352833272, 765.6770165804235, 153.0072537303974], [118, 470.28333734016286, 74.77647813850393, 503.42614323183614, 165.71798255147797], [120, 573.6299690586616, 40.377446214972025, 600.715344927977, 119.66618056622022], [122, 773.3104239928435, 234.17077048921442, 816.6577259569862, 321.40925310817045], [124, 1042.5796320010481, 454.1658126371288, 1100.4511128566974, 570.8617978433058], [125, 456.7159751159655, 272.0900368187936, 498.4363061746285, 381.24983471768303], [126, 1161.5615953927747, 110.03088576442451, 1204.5851104311141, 212.32972143524785], [131, 386.07940754165605, 250.45480806806893, 433.832892598769, 347.4970002655813], [132, 19.725162369115917, 43.589927098838004, 54.88694424728858, 112.5229132436675], [135, 681.405687492668, 614.9106342855972, 760.1847824107333, 720.0], [136, 223.53417087898518, 319.95132794705194, 264.5030794109516, 423.32209087814863]]\n"
          ]
        },
        {
          "output_type": "stream",
          "name": "stderr",
          "text": [
            "0: 384x640 37 persons, 1 bird, 1 horse, 196.9ms\n",
            "Speed: 6.9ms preprocess, 196.9ms inference, 1.9ms postprocess per image at shape (1, 3, 640, 640)\n",
            "\n"
          ]
        },
        {
          "output_type": "stream",
          "name": "stdout",
          "text": [
            "[<deep_sort.deep_sort.detection.Detection object at 0x7f003c922500>, <deep_sort.deep_sort.detection.Detection object at 0x7f00354f5060>]\n",
            "<class 'list'> class\n",
            "[[1, 791.5444933949275, 19.267603622193626, 821.0821178293777, 103.85977873799635], [5, 660.8084909616664, 125.60610425905958, 702.9561757467104, 225.03480984335727], [20, 1143.217570650238, 319.154218508278, 1201.9394012154494, 439.2601438761432], [36, 918.5488204196154, 24.6508050773407, 948.105936514065, 115.04287867338485], [54, 531.0195614706462, 31.897896058453895, 556.6063527423266, 117.9387782275845], [60, 611.0507687851932, 184.56111716507954, 653.3714083905427, 282.09270269705416], [61, 1082.4301097073126, 27.280738743576833, 1111.1916881186753, 99.84964164691445], [75, 501.82501518866127, 185.46603811837528, 538.0916126910116, 281.08738229634497], [77, 52.643379733602586, 78.62962492532137, 89.06488920464068, 158.0250434576869], [82, 1171.3356653141166, 174.31328762208756, 1218.8474077203837, 278.9613044498076], [86, 1128.9148166434786, 47.3604839097561, 1168.0733238256282, 130.219661853079], [89, 1106.7943277805005, 24.962074108722092, 1134.4689448872214, 101.47818143056497], [94, 783.4750146024448, 493.0975139098274, 841.5559527507957, 603.3961409395109], [102, 1230.5103473642887, 162.7767470270691, 1275.0151333021165, 254.39158939745937], [105, 710.2242492007603, 433.6940474245507, 771.4605287557875, 563.8552830091844], [115, 89.07431768092155, 591.844558690318, 167.743122274014, 711.8143603006557], [116, 126.38766024842933, 427.43526806119183, 181.56518768174183, 547.3910843406328], [117, 734.7845682943499, 82.77827733187854, 766.5272328787041, 157.91703356670826], [118, 472.10426934129487, 73.85262317049433, 504.54723378122975, 162.8926650578646], [122, 774.4144388956354, 231.4828646310287, 817.0661744451658, 317.8493758534898], [123, 1032.3455432412209, 357.0219822560103, 1087.1319436847325, 471.32401857211863], [124, 1043.7748999193202, 458.3050822778726, 1104.867700437327, 581.6795927115359], [125, 457.25697180813626, 269.1896686135609, 499.9566990558527, 380.71244457864464], [126, 1162.2142816905682, 111.08133777449441, 1204.6590543752511, 209.5621601696244], [131, 386.36110268196137, 251.6066931674987, 434.16970016377866, 348.7607041099015], [132, 20.8789262446833, 41.98775912719791, 56.57043517458307, 111.95931847890799], [135, 678.3172859864318, 610.3991959757584, 757.3686197332958, 720.0], [136, 223.67471472307437, 319.87603112133814, 264.36119323094937, 423.08281674291027]]\n"
          ]
        },
        {
          "output_type": "stream",
          "name": "stderr",
          "text": [
            "0: 384x640 37 persons, 1 bird, 176.8ms\n",
            "Speed: 9.0ms preprocess, 176.8ms inference, 1.5ms postprocess per image at shape (1, 3, 640, 640)\n",
            "\n"
          ]
        },
        {
          "output_type": "stream",
          "name": "stdout",
          "text": [
            "[<deep_sort.deep_sort.detection.Detection object at 0x7f003548bca0>, <deep_sort.deep_sort.detection.Detection object at 0x7f003548af20>]\n",
            "<class 'list'> class\n",
            "[[1, 791.026717300216, 17.959830122145405, 820.55347403697, 102.76032761915938], [5, 660.0410411656788, 126.92372103582872, 702.7593419585725, 228.13897691107007], [20, 1143.3452760055643, 316.28548381787164, 1200.4123408966339, 433.7407311634175], [36, 918.7141147873389, 24.25172578959797, 948.2976365981755, 114.95305528291425], [54, 531.1199027916464, 31.903443105226216, 556.7451192332577, 117.94419638298493], [60, 610.8119932909497, 186.01123912757026, 653.1705519928935, 283.2076146097583], [61, 1083.2289039884545, 27.595069493470533, 1112.0621721655702, 100.34804953998744], [75, 500.87717469204813, 182.5002370125039, 537.7620717743655, 279.54912051489896], [77, 40.00775289326564, 55.10208543045479, 88.49276915989074, 159.25583738466258], [82, 1173.1588269386502, 176.01852734220384, 1220.2504161540933, 278.9299734320554], [86, 1129.6901306504512, 47.33587657168001, 1169.678911801715, 130.8765471954765], [89, 1106.2114486578732, 25.10566909930391, 1134.7415359962863, 102.72397080296815], [94, 780.956647610695, 493.83248737960116, 838.3444899972966, 604.5207361134401], [105, 709.4764723720484, 429.6194675857713, 770.604810729875, 559.7888293941797], [115, 89.76784805052756, 592.3983748456958, 168.76276685092245, 713.0638334253118], [116, 124.10614490531485, 430.71315916925363, 179.13087129162713, 549.1484013005955], [117, 733.981934586533, 83.92076086430905, 766.6436413838242, 160.3763545664492], [118, 472.6881407370445, 72.22595292882363, 505.0672810585338, 161.20282718961928], [122, 775.1671187466928, 229.88038707552704, 816.8602022532149, 314.5950712348668], [123, 1033.665876134707, 360.1690827048368, 1088.713256707144, 475.0153088358585], [124, 1044.9600692636966, 463.0241025618699, 1107.6304176451044, 590.129346044784], [125, 457.05046668410205, 266.8699417462266, 500.2591622306602, 379.29303324668365], [126, 1163.3206741984507, 111.36635995062437, 1205.928081636708, 207.97296004374874], [131, 385.83383307025167, 251.38503030199607, 433.6367446577729, 347.66217621920646], [135, 676.8904979634015, 607.4502813526758, 755.2177279095512, 719.9999999999999], [136, 224.08575351874413, 319.86134760450875, 264.6155937292804, 422.9967338324745]]\n"
          ]
        },
        {
          "output_type": "stream",
          "name": "stderr",
          "text": [
            "0: 384x640 39 persons, 1 bird, 224.7ms\n",
            "Speed: 2.8ms preprocess, 224.7ms inference, 1.6ms postprocess per image at shape (1, 3, 640, 640)\n",
            "\n"
          ]
        },
        {
          "output_type": "stream",
          "name": "stdout",
          "text": [
            "[<deep_sort.deep_sort.detection.Detection object at 0x7f01681645b0>, <deep_sort.deep_sort.detection.Detection object at 0x7f003548ace0>]\n",
            "<class 'list'> class\n",
            "[[1, 790.9638741208084, 16.85785510255961, 820.2532789178396, 101.06684426175548], [5, 660.2823566987482, 128.03888606574537, 702.7810684789524, 229.27321224062456], [20, 1144.3631816612733, 314.63538679359874, 1199.0355752108012, 427.7485139834364], [36, 918.7868562126611, 24.09769248752997, 948.3450505328071, 114.92609693199529], [54, 531.6112354957783, 31.912308684361015, 557.0049371364706, 117.28994567950775], [60, 609.984527404055, 186.50086325456667, 651.8652046264718, 282.2460858078181], [75, 500.39736185728253, 180.80508536638013, 537.7720358154315, 279.0537825696954], [77, 35.95762577781883, 46.771069928855226, 89.02731065681826, 159.68068678807384], [82, 1175.0107461753648, 176.58726491323551, 1221.5179600113127, 277.51913316049587], [86, 1129.7209542992935, 47.335233739333376, 1172.4271508118316, 135.75586165473754], [89, 1106.2721116555856, 25.153781098347544, 1135.214417811985, 103.15844775051045], [94, 779.1388508229664, 494.7558450725877, 836.8701149973816, 607.5817178884084], [105, 710.8016807574083, 425.5530516355305, 770.0455800759454, 551.7597325104585], [115, 90.49839131855197, 591.901984619722, 170.55619462311267, 714.8030232099957], [116, 121.84624203990283, 432.48593047020586, 179.07470030620178, 555.0765838381816], [117, 733.0768570871846, 84.9764590189908, 766.6091695799646, 162.584535787891], [118, 472.80134562409575, 69.67528791363782, 505.3429518993057, 159.2944466013917], [122, 775.7108280894814, 228.69111740729505, 817.1640655864865, 313.46666748463224], [124, 1045.018757608841, 466.69481949588726, 1108.9780825415817, 597.1934468268355], [125, 457.13847141398026, 265.4297779354217, 501.4981963162205, 380.83973750626666], [126, 1164.038068697644, 110.69335012641082, 1207.416496224301, 207.51382648292127], [131, 385.1827082492143, 252.80446240173677, 433.43119690763206, 349.57450597479493], [135, 676.0398912802963, 604.5025407863081, 753.4225635521406, 720.0], [136, 223.86909415886004, 319.2007359794869, 264.41107256449595, 422.9683185303541]]\n"
          ]
        },
        {
          "output_type": "stream",
          "name": "stderr",
          "text": [
            "0: 384x640 36 persons, 1 bird, 205.8ms\n",
            "Speed: 2.6ms preprocess, 205.8ms inference, 1.4ms postprocess per image at shape (1, 3, 640, 640)\n",
            "\n"
          ]
        },
        {
          "output_type": "stream",
          "name": "stdout",
          "text": [
            "[<deep_sort.deep_sort.detection.Detection object at 0x7f003548bdc0>, <deep_sort.deep_sort.detection.Detection object at 0x7f00354f4c10>]\n",
            "<class 'list'> class\n",
            "[[1, 790.8489312166288, 15.834561730608534, 820.2302517898897, 100.49525933101688], [5, 660.1774386838222, 129.0749948826122, 702.9705331332141, 230.9556016386087], [20, 1144.512468426893, 311.43903767177073, 1198.2444452187658, 422.9340656927585], [36, 918.8232037321616, 24.03830505100239, 948.3397377541284, 114.92238943989216], [54, 531.8059749058631, 31.922143900326652, 557.0937934834902, 117.04639575407839], [60, 609.7668826082939, 187.28867139618978, 651.2986585134184, 281.8213785607406], [75, 500.4223637474544, 180.2413667978995, 537.574930596277, 277.633585719757], [77, 34.94684034743943, 43.20760404214738, 89.8245165592069, 159.25877351351204], [82, 1175.7364154816232, 178.73237141642818, 1221.8663679224724, 277.5957171711136], [86, 1129.8718529544933, 47.325536560029555, 1173.9251986199713, 138.18183554402785], [89, 1106.6918177730413, 25.16038091540147, 1135.6018099479065, 102.6438025745357], [94, 779.1501050818907, 495.74437199907373, 833.8188047272145, 602.8200921663446], [105, 711.2017996727121, 422.8141903925112, 768.0055795864414, 543.4915183274146], [115, 92.1500403455052, 592.3304051961818, 171.73680571676823, 715.4157183219659], [116, 119.93643838958178, 435.04330701521394, 179.53668291646756, 562.4520750054746], [117, 732.6299775316189, 85.9974185218318, 766.6828821842918, 164.03272079883524], [118, 472.67800081288937, 67.44268159177481, 504.92927873425117, 155.986523911154], [120, 601.2784387582026, 15.320972491509472, 628.099876734525, 94.21662634752752], [122, 776.2552407960158, 227.64844276481577, 817.5769798697511, 312.4594636285393], [124, 1045.8833998700577, 469.29957638001633, 1110.490034498654, 601.7347351105714], [125, 456.66640777833925, 263.6565204838411, 501.79749898922466, 381.4997642212678], [126, 1164.7919173682244, 111.11471222904369, 1208.779743477428, 208.81349749805645], [131, 384.75991885745316, 255.93814296771185, 432.88592681305573, 352.2185680167977], [135, 675.4814959786898, 600.9147952660214, 751.7190714567257, 718.7300957207815], [136, 224.22864329480643, 318.96367731598804, 264.5527507659648, 422.9611024494836]]\n"
          ]
        },
        {
          "output_type": "stream",
          "name": "stderr",
          "text": [
            "0: 384x640 39 persons, 1 bird, 275.9ms\n",
            "Speed: 8.0ms preprocess, 275.9ms inference, 2.3ms postprocess per image at shape (1, 3, 640, 640)\n",
            "\n"
          ]
        },
        {
          "output_type": "stream",
          "name": "stdout",
          "text": [
            "[<deep_sort.deep_sort.detection.Detection object at 0x7f01681645b0>, <deep_sort.deep_sort.detection.Detection object at 0x7f00354f6560>]\n",
            "<class 'list'> class\n",
            "[[1, 790.0620270928903, 14.837994927771554, 819.6405324432595, 100.33671486113772], [5, 660.1291196831056, 130.0821823675885, 703.0375861728131, 232.192228213754], [20, 1144.6150437996891, 308.3433184179779, 1198.0172086386424, 419.9386836758021], [36, 919.1264865038164, 24.015385227959456, 948.6961511037204, 114.92678602938841], [54, 531.885298078518, 31.931074018191985, 557.1175553120845, 116.96072410952465], [60, 609.4895283425105, 188.19550688345134, 650.6430127969841, 281.61608320806505], [61, 1084.939201733595, 29.83197909596185, 1112.439942891135, 100.21184781999483], [75, 500.1914463144654, 179.4528194081813, 537.7481639178866, 277.85038333683394], [77, 34.88939995289883, 41.239838266922426, 90.52367343332921, 158.45401420713716], [82, 1176.9336097401758, 180.4012356239619, 1222.8158977127052, 278.73237372461205], [86, 1131.0263892294186, 47.297897799175644, 1175.313282366978, 138.44092300483516], [89, 1107.2890110015917, 25.440016513737085, 1136.3115928665234, 103.22518019210534], [94, 778.1851224251507, 496.770535577077, 831.8913540822393, 601.6059714366334], [105, 711.8826809744113, 420.59170783774243, 766.7719740915455, 536.5173859230334], [115, 93.082251707824, 592.4517599877747, 172.4409632648235, 716.2510740256663], [116, 118.45094038423807, 437.886363162522, 179.89765514217518, 569.0846743240496], [117, 732.3534099179091, 86.35059540131707, 766.8080039054587, 165.18533324652208], [118, 472.6945071487588, 65.32708035744578, 504.6809627978705, 152.7996168410969], [120, 603.4375655785856, 13.717172443826286, 630.2168132590406, 93.287062073827], [122, 777.3207959050857, 226.6604379456719, 817.5096540599778, 308.84158780163557], [123, 1039.0207379188419, 364.677591663391, 1092.8686411099193, 475.4600653462614], [124, 1047.1769676581177, 472.1407889175028, 1111.9529586652463, 605.2906672446976], [125, 457.22409894356286, 263.0628889704807, 501.8013027951604, 379.2193965168027], [126, 1165.3437541454036, 112.60678703623222, 1208.9346408259642, 209.33335487337513], [131, 384.42664662669995, 258.39954545557094, 432.84457805952155, 355.15649527778316], [135, 673.6961746985032, 597.069418721895, 750.1227707936868, 719.5004083957834], [136, 224.4505044314546, 318.88660705874463, 264.5168800072024, 422.96170349088555], [138, 635.8112994437712, 8.983890783747192, 659.2048097724816, 81.1843610304488]]\n"
          ]
        },
        {
          "output_type": "stream",
          "name": "stderr",
          "text": [
            "0: 384x640 36 persons, 289.1ms\n",
            "Speed: 2.4ms preprocess, 289.1ms inference, 2.2ms postprocess per image at shape (1, 3, 640, 640)\n",
            "\n"
          ]
        },
        {
          "output_type": "stream",
          "name": "stdout",
          "text": [
            "[<deep_sort.deep_sort.detection.Detection object at 0x7f00354891b0>, <deep_sort.deep_sort.detection.Detection object at 0x7f00354f63e0>]\n",
            "<class 'list'> class\n",
            "[[1, 789.3108632968472, 14.51034632059745, 819.2148835892971, 100.98876109984168], [5, 660.4914610818116, 131.07863211536628, 703.3277914241567, 233.25902836039654], [20, 1143.9521416923824, 304.6218787344279, 1197.400772322644, 417.61029616926584], [36, 919.0322179832532, 24.00649865086804, 948.3659010692049, 114.27257179963648], [54, 531.9200746665265, 31.939095393511792, 557.1174519182186, 116.93458496964817], [60, 609.436849176848, 189.81596709284685, 651.7079230709019, 285.50011908241237], [61, 1086.0997618078127, 30.776460672057645, 1113.5300276542478, 101.56276698663441], [75, 499.3344955435383, 177.8998820664475, 537.2705585680266, 277.3371203917412], [77, 37.829912570520406, 45.01674996124371, 91.09230673423843, 157.49703947759377], [82, 1179.6692112106514, 180.438345620806, 1226.2500609245308, 279.1840179932203], [86, 1132.7105113016516, 47.26444941633251, 1177.1793648922358, 139.14991161848724], [89, 1110.504956802413, 25.93689182270814, 1139.1235988704168, 103.18156153636619], [94, 776.7255387222507, 499.13634439579386, 829.1091204338051, 600.4934317547542], [102, 1233.931859103344, 170.86283538841886, 1279.975774957884, 266.5179885068332], [105, 711.2520152139208, 417.1999506994743, 765.8990185719612, 532.1040946043735], [115, 94.59176328487334, 593.1196096709727, 172.77118295760215, 715.8638505463107], [116, 118.58808180889366, 442.7891286508078, 180.71073047220074, 574.7846444272091], [117, 732.7117934317919, 86.45030635656441, 767.0401551673763, 165.57277223077529], [118, 472.26753539547684, 63.262893952205246, 504.3356918617707, 151.00552125652845], [120, 603.6630583757784, 13.836363027238292, 630.776749734149, 94.95548460668029], [122, 777.809960274898, 225.0788768816912, 817.7223446426641, 306.69481184844346], [123, 1041.7069097702636, 367.8146765770155, 1096.033925997426, 478.76166466979413], [124, 1051.212571199889, 477.68960420340557, 1115.3979929010252, 609.7695342656326], [125, 457.23253521784693, 260.30323902485827, 501.3211301426372, 375.12394371888445], [126, 1166.1210956676534, 116.53834418829541, 1208.3515806503297, 209.56803535007845], [131, 383.6887759087969, 259.27641836518853, 432.77651921032145, 358.1925734687815], [135, 673.3158014513851, 591.2202435534138, 746.0568294572874, 711.5615096196749], [136, 224.7892782788959, 318.2068104635128, 264.9058441679198, 422.9648379230828], [138, 636.3715100290505, 5.874840129488405, 660.2139068955556, 79.34372445742432]]\n"
          ]
        },
        {
          "output_type": "stream",
          "name": "stderr",
          "text": [
            "0: 384x640 36 persons, 272.8ms\n",
            "Speed: 2.5ms preprocess, 272.8ms inference, 3.5ms postprocess per image at shape (1, 3, 640, 640)\n",
            "\n"
          ]
        },
        {
          "output_type": "stream",
          "name": "stdout",
          "text": [
            "[<deep_sort.deep_sort.detection.Detection object at 0x7f01681645b0>, <deep_sort.deep_sort.detection.Detection object at 0x7f00354f5060>]\n",
            "<class 'list'> class\n",
            "[[1, 788.652530705667, 14.432386434664089, 818.7762557075298, 101.28187800716893], [5, 660.4210143644822, 131.41287683310557, 703.6340017384945, 234.9218259268153], [20, 1142.9668628508132, 302.6593885758887, 1196.0115691674332, 416.1868289676411], [36, 918.9035340540822, 23.340041692454797, 948.3204805078769, 114.03083269125153], [54, 532.316271355285, 31.946257841960936, 557.3917050033996, 116.93051173323332], [60, 608.6421947076192, 191.03791650635483, 652.2358570545233, 289.53861726650376], [61, 1086.852055454863, 31.26208678439994, 1114.268453825355, 102.01618521255392], [75, 498.29361765413347, 176.71761258542148, 535.8395292322116, 275.2335061310948], [77, 39.21931911432033, 42.13095093980801, 93.14978577424252, 157.11917874644845], [82, 1181.0685927277523, 181.92393009629495, 1227.44927408997, 280.2437335054764], [86, 1133.3755035320105, 47.88985599983796, 1177.8145698671742, 140.03943194714566], [89, 1111.537156866593, 26.077434875920275, 1140.2701311669198, 103.90265113668481], [94, 774.3907826784032, 502.0093748032707, 825.3545818638787, 600.0870779537149], [102, 1234.6342162353396, 172.26178657583733, 1280.8028689848202, 268.17625595533576], [105, 709.841998239279, 414.05809450137446, 765.4614415083444, 531.3236498500607], [115, 95.44649408047185, 593.3368919956247, 173.17282742943883, 716.3244608750815], [116, 117.56866982855553, 445.88774031172585, 180.88333656845464, 580.1214337340867], [117, 733.9328711581923, 87.1077896991795, 767.3503229280374, 164.35597221604502], [118, 472.10497964915845, 62.54819025937232, 504.19727579095974, 150.39916880573895], [120, 603.9856176111704, 14.597196041689067, 631.247155020507, 96.29691530102093], [123, 1042.6174432471073, 370.85579718509143, 1099.7118775913893, 488.4970838120471], [124, 1053.5281611563514, 479.6907264960975, 1117.8006962929278, 611.9786866288564], [125, 457.3805760859106, 256.7001650246393, 501.63459301178995, 372.33242441861887], [126, 1166.571898189122, 118.62079918419359, 1208.5949683737497, 210.38066833960147], [131, 383.0024410640822, 260.21760847164893, 432.502308096054, 360.59770674167953], [135, 673.4884571941208, 586.4601376314641, 743.5469747122535, 705.7695698549128], [136, 225.2601090651176, 317.9612884564746, 265.3640957240517, 422.96838890854275], [138, 636.6884837671746, 4.657347881162849, 660.5698392550383, 78.24628068597607]]\n"
          ]
        },
        {
          "output_type": "stream",
          "name": "stderr",
          "text": [
            "0: 384x640 37 persons, 1 bird, 233.2ms\n",
            "Speed: 6.6ms preprocess, 233.2ms inference, 1.6ms postprocess per image at shape (1, 3, 640, 640)\n",
            "\n"
          ]
        },
        {
          "output_type": "stream",
          "name": "stdout",
          "text": [
            "[<deep_sort.deep_sort.detection.Detection object at 0x7f00354891b0>, <deep_sort.deep_sort.detection.Detection object at 0x7f00354f5de0>]\n",
            "<class 'list'> class\n",
            "[[1, 788.0047534571037, 13.789093858069442, 818.3590677941505, 100.77634648783601], [5, 660.6640795220812, 132.15764183292035, 703.468610009655, 234.84329176248178], [20, 1142.151987203748, 301.3597534333465, 1194.7013894585705, 415.1056600733963], [36, 918.8644768212816, 23.091113937996717, 948.2854927379083, 113.9467103466402], [54, 532.4943938846562, 31.95261427587245, 557.4620058657061, 116.93421458365206], [60, 608.0801604052309, 192.1125399729216, 652.7129310476258, 292.98896084471585], [75, 497.42709064339004, 174.35516347609362, 535.1144850718168, 273.1790612524646], [77, 40.91460033355448, 41.09331700578824, 94.69676535872608, 156.98012475267288], [82, 1179.5789905035936, 182.29355237661255, 1229.8617940869651, 288.98054901824344], [86, 1133.6844334791135, 49.424414596056515, 1178.595529232931, 142.31004727348576], [89, 1112.199253096036, 25.464618909912573, 1141.0147926709105, 104.15098738515177], [94, 771.6876807711152, 503.700994887625, 826.7074424463465, 609.4382052195672], [105, 708.6875795173457, 411.6702819591267, 765.3127525558306, 531.8223704605962], [115, 96.72590056371533, 594.0475033763626, 173.59847131369523, 716.4597993432616], [116, 116.90167374968314, 448.92890663513, 180.6369897665519, 583.9886707357657], [117, 734.4266860385175, 87.31997443677123, 767.4362951181134, 163.82568083228], [118, 471.37932823912894, 61.67801415436186, 503.47502920530786, 149.57663104195382], [120, 603.8393096969988, 15.619467593740382, 630.8416620863487, 96.88277040587066], [123, 1043.4496217296821, 374.5193522357828, 1101.8109410123504, 495.89598827361937], [124, 1056.3473769586126, 482.95922771917037, 1119.2721217814553, 612.0159739146268], [125, 457.57580784368577, 254.7678318787036, 501.59610072570064, 370.0415880934749], [126, 1166.3441036888544, 119.31242984162654, 1209.0295895719623, 212.05392305207334], [131, 382.650615653732, 261.1820229659598, 433.14178656642645, 364.7300459204176], [133, 383.93615625299776, 199.03498047885097, 424.8277366487012, 277.15903421476037], [135, 674.0093198562068, 582.8132636084054, 740.9056429692884, 699.6607950710707], [136, 225.8410941972861, 317.88082110935295, 265.7872524821005, 422.97196892056786]]\n"
          ]
        },
        {
          "output_type": "stream",
          "name": "stderr",
          "text": [
            "0: 384x640 38 persons, 1 bird, 191.6ms\n",
            "Speed: 4.1ms preprocess, 191.6ms inference, 1.4ms postprocess per image at shape (1, 3, 640, 640)\n",
            "\n"
          ]
        },
        {
          "output_type": "stream",
          "name": "stdout",
          "text": [
            "[<deep_sort.deep_sort.detection.Detection object at 0x7f01681662c0>, <deep_sort.deep_sort.detection.Detection object at 0x7f00354f5210>]\n",
            "<class 'list'> class\n",
            "[[1, 787.5260427035774, 12.26660420890974, 818.448454000242, 100.62051694882331], [5, 660.7699085971374, 132.39770737421154, 703.378249913737, 234.74720037034422], [20, 1141.405334711569, 299.6446437178438, 1194.0783735905388, 414.80681830438846], [36, 919.2364720456944, 22.33938065613893, 948.5379907138457, 113.26146744488753], [54, 532.6694765135164, 31.958232615095973, 557.3742706375745, 116.27905285685384], [60, 607.8783374239673, 193.13100472197476, 652.898991655884, 294.9095185784067], [61, 1089.863286973752, 31.18911479251811, 1118.3856673627522, 103.8348608671382], [75, 496.76771702772504, 173.5284940127634, 533.8764528503771, 270.48844963048896], [77, 41.87937610532273, 39.49401668784995, 95.68359334898011, 156.9320605553264], [82, 1179.8867703612304, 183.22525005587465, 1231.406743674856, 292.2725430090156], [86, 1133.9917216712122, 50.64673031410243, 1179.300861667513, 144.4487896610083], [89, 1113.5166259746832, 25.22514561147173, 1142.1358987812596, 104.22718187973442], [94, 765.5821002541317, 504.944764576406, 827.1493614565145, 625.0885610345802], [105, 708.2363069536837, 408.90132543767135, 765.3191044793926, 530.8209942831212], [115, 97.77756167755555, 594.2849721067142, 174.42220281492104, 717.1316760190246], [116, 115.74658606240521, 451.29459517151884, 179.54763525893026, 586.6362432983382], [117, 734.5076890175669, 87.36953448580175, 767.5606057886107, 164.25170658963185], [118, 471.18139101300335, 60.083954580138, 503.7818665922317, 149.329701822075], [120, 603.5326314432363, 16.736057650857234, 630.088695598181, 97.16981462189972], [122, 780.3447295413389, 219.14093054704546, 822.9832402280699, 307.181843073472], [123, 1044.745600504486, 377.1403630742593, 1103.4723377882858, 500.59680158024617], [124, 1058.6225788099232, 484.72489464160145, 1121.128259512024, 612.5139961255877], [125, 457.8159807176808, 251.48790748754317, 500.7357018389373, 363.9776583916667], [126, 1166.4384396782268, 120.86325547082326, 1208.9770794499127, 212.66605821776454], [131, 382.29954457087473, 262.8090103567039, 432.9556226948487, 367.54785451449624], [133, 383.9571694426608, 200.0387557616341, 424.38681536649665, 278.1359445023875], [135, 673.7915603927624, 579.6048195036633, 738.4331007050537, 695.3831056334022], [136, 226.2168518630031, 317.8623526901861, 265.7799932028476, 422.3147603666984]]\n"
          ]
        },
        {
          "output_type": "stream",
          "name": "stderr",
          "text": [
            "0: 384x640 39 persons, 1 bird, 190.5ms\n",
            "Speed: 8.9ms preprocess, 190.5ms inference, 1.5ms postprocess per image at shape (1, 3, 640, 640)\n",
            "\n"
          ]
        },
        {
          "output_type": "stream",
          "name": "stdout",
          "text": [
            "[<deep_sort.deep_sort.detection.Detection object at 0x7f01681645b0>, <deep_sort.deep_sort.detection.Detection object at 0x7f00354891b0>]\n",
            "<class 'list'> class\n",
            "[[1, 788.1824654738455, 11.72601712741153, 818.9709922174795, 99.9345192343288], [5, 660.9363207550039, 132.45070962299957, 703.2064624461018, 234.00059291453238], [20, 1139.859891869098, 298.42358240602357, 1192.5558754212684, 414.78258669291097], [36, 919.409708109089, 22.0595450478679, 948.5931066438013, 113.0098802258449], [54, 532.7496887370124, 31.963416256212618, 557.3200252717977, 116.03643308303808], [60, 608.4382652645102, 195.43588670760403, 653.0041418071819, 296.2346357649929], [61, 1090.658363371524, 31.184024197353253, 1120.0697713378497, 104.79968621108814], [75, 496.6071385578325, 172.6276252331541, 533.3463556948973, 268.2148794182031], [77, 43.08005027047378, 38.31193570063899, 96.55219372973664, 156.91910320471544], [82, 1180.5930888098126, 184.84114322175296, 1232.6343448744556, 294.7598409096137], [86, 1134.0975070442025, 51.74703313032961, 1179.5257623259788, 145.87906813512694], [89, 1114.382114058048, 25.36924140196397, 1143.1169138454845, 104.69041454957716], [94, 765.1166605112813, 506.66386139083914, 825.494061043965, 624.7613737893369], [105, 707.7731931593996, 407.30375374089925, 765.0049621186467, 530.5659300974921], [115, 99.02221719624063, 595.0058238941789, 175.12152091011808, 718.0109413223112], [116, 115.49437950491047, 453.399960519857, 179.0051110330976, 588.15961723051], [117, 735.3061498554944, 88.0219033328774, 767.4869909099141, 163.06204535887292], [118, 471.09420165593957, 58.875303562183106, 503.90864046222276, 149.28708380804193], [120, 603.3783670207639, 17.210457640077102, 629.6825015888396, 97.33094853360146], [122, 781.0516077441474, 217.81325570590565, 823.1487494543373, 305.24350894750097], [123, 1045.7644877697837, 379.3482165981886, 1104.124494701515, 502.2740353464841], [124, 1060.5789882751617, 486.5953854558403, 1122.5702097831984, 612.5760187460659], [125, 458.7240314180912, 249.0177974701709, 500.2384332401208, 357.77992349576886], [126, 1165.9723635730063, 122.05528834368198, 1209.4176679914497, 215.595499965795], [131, 382.2707276252883, 264.6933538614334, 432.1265820943885, 368.56117235514836], [133, 384.0630079561398, 200.37701597179887, 424.82022414070286, 280.4637089474453], [135, 672.7207464425504, 575.9039808174787, 737.2511638381847, 693.8174657224471], [136, 226.39083467705981, 317.86688171938175, 265.7307268967003, 422.0681498803361]]\n"
          ]
        },
        {
          "output_type": "stream",
          "name": "stderr",
          "text": [
            "0: 384x640 38 persons, 1 bird, 1 dog, 177.8ms\n",
            "Speed: 2.5ms preprocess, 177.8ms inference, 1.5ms postprocess per image at shape (1, 3, 640, 640)\n",
            "\n"
          ]
        },
        {
          "output_type": "stream",
          "name": "stdout",
          "text": [
            "[<deep_sort.deep_sort.detection.Detection object at 0x7f00354f7e20>, <deep_sort.deep_sort.detection.Detection object at 0x7f003548ace0>]\n",
            "<class 'list'> class\n",
            "[[1, 788.0173008663429, 10.719446096821187, 818.8753375651199, 99.13715329638019], [5, 661.8916458218314, 133.75817368320153, 703.5624630023069, 233.6716126232136], [20, 1136.4741289252875, 296.7306134344124, 1189.6015598007705, 414.8593704162787], [36, 919.5943755133663, 21.960284594065847, 948.4856993173232, 112.26304881251545], [54, 533.0758980387103, 31.305115305610897, 557.6602217430908, 115.28925428835548], [60, 608.8242455249413, 198.24430642037586, 652.8898899692658, 297.3265945071095], [61, 1091.7325291332475, 31.179300387145993, 1121.8217430970449, 105.13317350977752], [75, 496.07250680796903, 169.68984614823006, 532.3212587539032, 263.4412976916229], [77, 46.15467053464174, 37.93929807166118, 98.17878683551675, 156.27275686001872], [82, 1181.2036687324537, 188.0239887081637, 1233.3323943047938, 297.59841691283657], [86, 1134.537423102279, 53.45535360480084, 1179.8107320071947, 147.03589138886437], [94, 761.2921333641686, 509.91246325110546, 823.5339372228741, 633.5633406826737], [102, 1239.83913012208, 173.43515451368484, 1284.8522487673958, 272.25166604152525], [105, 705.3617827616529, 404.8337647429121, 762.5634326211597, 529.2659075795857], [115, 100.52567204567853, 597.8891979913799, 174.92894954710616, 718.9690492735836], [116, 114.67572637970913, 458.6941888850837, 176.30083183197593, 588.5960634757053], [117, 735.4196281475622, 88.90397288202035, 768.3008408943526, 165.90029841330053], [118, 470.91247645487306, 56.4992628653619, 504.10376730690484, 148.6651644469997], [120, 603.3863387260748, 18.08922450290143, 629.3385226777598, 97.43300328481017], [122, 782.2885622684282, 215.3908270161401, 822.8588655588393, 299.2932311715576], [123, 1047.100836441354, 382.1370417263311, 1105.9423865154668, 506.0768954123336], [124, 1064.646845408512, 489.1701298925791, 1125.6156015537924, 611.8065528874222], [125, 459.6526839743218, 246.19002041600274, 500.1198583765845, 352.22825044238976], [126, 1166.451128841314, 123.11607295007894, 1212.2347646473802, 221.9870861388572], [131, 382.0346154058493, 266.06093725832443, 432.1743831528914, 370.5201779129783], [133, 384.11295978745, 201.13111746815724, 425.61696285010464, 283.91260481025034], [135, 671.2682329419894, 571.3631606925186, 735.3157237823509, 692.6297706709214], [136, 226.54029890995767, 317.6395622310545, 265.9176996847258, 421.94023420171845]]\n"
          ]
        },
        {
          "output_type": "stream",
          "name": "stderr",
          "text": [
            "0: 384x640 37 persons, 1 bird, 1 dog, 212.3ms\n",
            "Speed: 2.6ms preprocess, 212.3ms inference, 1.5ms postprocess per image at shape (1, 3, 640, 640)\n",
            "\n"
          ]
        },
        {
          "output_type": "stream",
          "name": "stdout",
          "text": [
            "[<deep_sort.deep_sort.detection.Detection object at 0x7f0168166e30>, <deep_sort.deep_sort.detection.Detection object at 0x7f00354f5060>]\n",
            "<class 'list'> class\n",
            "[[5, 662.6108824445603, 134.8808929087667, 703.9921189502192, 234.17174694625726], [20, 1133.8950638039737, 294.1985785611399, 1187.2386300725411, 413.6495179856878], [36, 919.6809419703293, 21.92990516196165, 948.4189457709018, 111.9906669306454], [54, 533.4675141192607, 31.060514882897735, 558.1751768904162, 115.01579135483692], [60, 608.5352018125202, 199.91405348345808, 653.2932253229742, 300.3200311176188], [61, 1092.206614970051, 31.165597731032967, 1122.346953963579, 104.58153598267958], [75, 495.83090717045576, 167.322295582678, 532.0139012104264, 260.40379333852445], [77, 47.68432341235125, 37.23522626585492, 98.48309735710409, 156.02743058198695], [82, 1181.337031717221, 189.19136766405245, 1233.6099904701834, 298.6050091182621], [86, 1134.897457281341, 54.08010016813053, 1180.3302533185408, 148.08670232802405], [94, 757.4301905676253, 511.7546695716867, 818.8795857154983, 636.1913274378112], [102, 1241.3339378936555, 172.78099678066178, 1285.5039113174662, 275.26477784716366], [105, 704.7371492373605, 402.0271660686553, 762.0460932192548, 528.2141137549715], [115, 102.01949619354681, 600.2796685426599, 175.16532586145004, 719.9575983424933], [116, 113.76403105128067, 461.9144923242934, 173.9455107158135, 587.9218314160323], [117, 735.357818375402, 91.17953725211697, 768.0385810412905, 167.58288428470638], [118, 471.4904542958141, 54.991249141473084, 504.18321940310585, 146.50963801087497], [120, 603.3520942095021, 18.45570335245739, 629.1247593329165, 97.51170841549383], [122, 782.4098346419387, 213.21475064031483, 822.3681001542901, 295.77318119064], [123, 1050.2827051295806, 387.29502469325416, 1108.845278516786, 510.74310002592193], [124, 1066.9278997960614, 493.3549311899933, 1127.1755733128864, 612.732634631868], [125, 460.1624472118877, 243.9038687403788, 500.5663160924043, 349.6399967983334], [126, 1167.4337139637191, 124.1322134584673, 1213.7604634892268, 224.34377921906037], [133, 384.7994777470789, 202.03725644530596, 425.89334477316015, 284.532555910586], [135, 670.8887912292971, 567.1509076278528, 734.4648221712995, 692.2322211036253]]\n"
          ]
        },
        {
          "output_type": "stream",
          "name": "stderr",
          "text": [
            "0: 384x640 38 persons, 1 bird, 1 dog, 195.1ms\n",
            "Speed: 7.4ms preprocess, 195.1ms inference, 1.4ms postprocess per image at shape (1, 3, 640, 640)\n",
            "\n"
          ]
        },
        {
          "output_type": "stream",
          "name": "stdout",
          "text": [
            "[<deep_sort.deep_sort.detection.Detection object at 0x7f003548b850>, <deep_sort.deep_sort.detection.Detection object at 0x7f003548af20>]\n",
            "<class 'list'> class\n",
            "[[5, 662.6440249674739, 136.5948309074687, 704.3733973383245, 236.9839657063888], [20, 1131.6585255465175, 289.38032945738445, 1185.7272761225681, 411.2908744738989], [36, 919.7286633728239, 21.924703332509942, 948.3707086294387, 111.89936023442618], [54, 533.5752420214403, 30.973388554328857, 558.4001206178607, 114.9221865960937], [60, 608.4346430919802, 201.14864309377424, 654.0992333006621, 303.35516473626933], [61, 1092.7831145480095, 31.808187761909814, 1122.7270816681523, 104.34874916884564], [75, 496.0196577522914, 165.84360446332508, 531.6536747020933, 257.36196540552436], [77, 49.02770433244652, 37.03944874112834, 98.48442009392576, 155.94014227621938], [82, 1181.707072981094, 190.23564213929455, 1233.9724800891006, 298.9088804352368], [86, 1136.187409184028, 54.94616687238687, 1180.6411499540397, 147.1271935684329], [94, 755.6734745421081, 513.0698851523879, 816.1657692958922, 637.7494547879721], [102, 1242.41973726178, 174.5240870351277, 1285.164096197462, 278.25035021953033], [105, 704.2457431756219, 399.7471945909626, 761.5026453090586, 526.592329187815], [115, 103.11119324622473, 601.403243995376, 176.12888817712536, 720.8715727811838], [116, 112.81392474554906, 464.3240171385353, 171.75019572392836, 586.8740470595312], [117, 735.691381975666, 92.68313407927381, 768.2221553830426, 168.8504497264812], [118, 472.4636741433281, 54.478070633103435, 504.12043777008876, 143.75497203637465], [120, 602.8375159295313, 19.281875514744314, 628.7855413092917, 98.90040211849778], [122, 782.4232214123953, 211.14175049084665, 822.1796203565981, 293.2153067554739], [123, 1051.7956103452116, 390.3131292931585, 1110.7702201017005, 514.6295117988861], [124, 1069.1397924530347, 496.3824880127923, 1128.9903361210768, 614.9730527176293], [125, 460.2276383755149, 241.14722572805675, 500.83679049901656, 346.80106153886163], [126, 1167.6687552008318, 125.12650130975656, 1213.1441194891015, 223.2414376500102], [131, 382.9701714445419, 273.16097717008506, 429.32526211353087, 369.03802759171657], [133, 385.258186394842, 203.00182668679594, 425.7914677584939, 284.6977162978578], [135, 670.9101988966607, 564.3557132097853, 733.4005404167643, 692.1372521044777]]\n"
          ]
        },
        {
          "output_type": "stream",
          "name": "stderr",
          "text": [
            "0: 384x640 38 persons, 1 bird, 213.8ms\n",
            "Speed: 5.9ms preprocess, 213.8ms inference, 1.5ms postprocess per image at shape (1, 3, 640, 640)\n",
            "\n"
          ]
        },
        {
          "output_type": "stream",
          "name": "stdout",
          "text": [
            "[<deep_sort.deep_sort.detection.Detection object at 0x7f0168166e30>, <deep_sort.deep_sort.detection.Detection object at 0x7f003548bdc0>]\n",
            "<class 'list'> class\n",
            "[[5, 662.8610002199083, 137.59864493682426, 704.6013783886176, 238.01542103004098], [20, 1131.0505919034674, 287.6212134602848, 1183.7040548646207, 406.53916995582136], [36, 919.7602369823206, 21.92841208650338, 948.3317452917828, 111.87580070841707], [54, 533.6617438597165, 30.945867807985543, 558.4279622724042, 114.23451023591292], [60, 608.7776733105088, 202.22030850578133, 654.684007975734, 304.4458156889889], [61, 1093.9733525211907, 32.03985866594624, 1123.8079006406442, 104.24313270551235], [75, 494.9883480382548, 164.0291393064754, 531.3168555581001, 256.9959359231435], [77, 49.67557878311649, 35.732272791501956, 98.33702051867789, 155.91403432510532], [82, 1182.0053309040247, 190.57434339014762, 1234.5327600103774, 298.9453034070945], [86, 1136.680370413191, 55.905763314576525, 1180.7019701750737, 147.36957748503775], [94, 754.1706560091486, 514.1751863215409, 813.5152376337801, 638.8933704188537], [102, 1243.1210867487544, 175.46916835455477, 1286.187700542207, 279.97891287137946], [105, 704.277838417171, 397.012918524775, 761.1332162212977, 524.0954292619338], [114, 887.1356998976489, 0.2158540870722092, 913.1628044415513, 71.25670261325752], [115, 103.73925398359141, 602.8973299509593, 174.97576441546533, 719.6044041085723], [116, 110.72062754997766, 465.0870747755892, 169.40471229088877, 587.0473273697846], [117, 735.9445592196016, 94.53832156964141, 768.1503088404634, 169.95193625076388], [118, 472.5651772362793, 53.06221800972575, 504.2100966172771, 142.30602625700826], [120, 603.078184236447, 18.949762340799126, 628.8070732532437, 98.12416567523869], [122, 781.7423823186489, 209.1073068259929, 822.0939548506177, 292.34404114781205], [124, 1068.8049665748597, 499.08582814799115, 1134.0185364716763, 627.323599701977], [125, 460.35068603410394, 239.55043442023927, 501.48738189919436, 345.8697277760457], [126, 1167.9629076843125, 125.44805480289017, 1212.6459377330352, 221.42611481418777], [131, 383.0299085697703, 272.8678507803759, 429.66376089104733, 368.7326247742109], [133, 385.8718728539756, 204.6503332168707, 425.2949497384209, 284.0380859240099], [135, 670.4800970537298, 561.4712932946644, 731.5701935262796, 690.8699219800509], [142, 782.1551110551413, 671.1787603144808, 844.3733848190662, 720.0]]\n"
          ]
        },
        {
          "output_type": "stream",
          "name": "stderr",
          "text": [
            "0: 384x640 38 persons, 1 bird, 198.6ms\n",
            "Speed: 8.3ms preprocess, 198.6ms inference, 1.6ms postprocess per image at shape (1, 3, 640, 640)\n",
            "\n"
          ]
        },
        {
          "output_type": "stream",
          "name": "stdout",
          "text": [
            "[<deep_sort.deep_sort.detection.Detection object at 0x7f013411be50>, <deep_sort.deep_sort.detection.Detection object at 0x7f00354f7e20>]\n",
            "<class 'list'> class\n",
            "[[1, 790.1823273379642, 4.24322089725635, 818.5331368055101, 85.98869169369297], [20, 1130.7642325270056, 285.7385332999367, 1182.4637325070426, 402.8018156559976], [36, 919.7844334979145, 21.934894561514092, 948.298331724212, 111.8769005942228], [54, 534.0319262464782, 30.940895094328333, 558.7528181327654, 113.98467593182377], [60, 609.5120530641371, 202.57016615559533, 655.6244451809126, 304.7845505485378], [61, 1094.914244311745, 32.34125381774511, 1124.7554147867704, 104.56282513287702], [75, 494.187254457265, 162.7520024172902, 530.9759618221008, 256.9296400177858], [77, 50.94732328159276, 35.9454433650726, 98.54216882340924, 155.91033750472698], [82, 1183.5261906489877, 191.30868126299865, 1235.2443807784935, 297.572920789095], [86, 1137.38129462652, 56.89880141502099, 1180.8235270774226, 147.42518489361623], [94, 753.0750058536124, 513.8945727005812, 811.8841599207537, 639.8832501467901], [105, 704.4563652648634, 394.1030307907018, 760.2238585903173, 519.288757891587], [114, 888.2361361632215, 0.17014497881402235, 914.8468324056768, 70.33087681997799], [115, 104.87257407590602, 604.7033390082817, 175.28286206481124, 720.089460749214], [116, 109.06564411255056, 465.93401195245923, 167.5049748798994, 587.0331884611556], [117, 736.5499178505909, 95.86241366901929, 768.9257728670955, 172.31719247821218], [120, 603.9976862037884, 18.530796151046587, 629.6802425811765, 97.56259216663416], [122, 782.1389613214542, 207.26174796715884, 822.4030178941384, 290.3181364069362], [123, 1055.8815666034548, 394.3708848045263, 1113.188135808832, 514.4843256162923], [124, 1068.5108190302863, 502.6859791911933, 1136.4840461884316, 636.1852769488362], [125, 460.68282719645424, 238.38190737784942, 500.76311575025034, 340.9907916164374], [126, 1167.7697141290173, 126.1864530515897, 1212.7223195503977, 222.04294199238285], [131, 383.2689429419545, 274.13991200356253, 429.54571573150724, 367.98784628712843], [133, 386.0503468228603, 205.69201095710312, 425.52315627192826, 285.1800004935558], [135, 670.2634945819934, 559.1957224406686, 729.6915716917624, 689.7845950129914], [142, 781.2248736221009, 667.5206665601374, 848.0480269821585, 720.0], [143, 3.0716086465825985, 331.2822191656465, 27.023271826226775, 439.50955151201066]]\n"
          ]
        },
        {
          "output_type": "stream",
          "name": "stderr",
          "text": [
            "0: 384x640 39 persons, 1 bird, 191.6ms\n",
            "Speed: 8.4ms preprocess, 191.6ms inference, 1.7ms postprocess per image at shape (1, 3, 640, 640)\n",
            "\n"
          ]
        },
        {
          "output_type": "stream",
          "name": "stdout",
          "text": [
            "[<deep_sort.deep_sort.detection.Detection object at 0x7f003548ace0>, <deep_sort.deep_sort.detection.Detection object at 0x7f003548b850>]\n",
            "<class 'list'> class\n",
            "[[1, 790.5560317689142, 1.582113235501545, 819.0717082739133, 84.08926750484011], [5, 662.231984690615, 141.6293310206378, 704.9774178031329, 245.0830287876663], [20, 1129.673820546859, 282.4693582036492, 1180.442116225346, 397.5033941294554], [36, 919.804730814335, 21.941849516942483, 948.2688625203923, 111.88627463810425], [54, 534.1571821310349, 30.943514965336043, 558.8773966193501, 113.90160876617014], [60, 609.9910148683498, 203.3070388721661, 655.7798468374601, 304.18569725746306], [61, 1112.4720318273887, 29.02002991808706, 1142.9834013413943, 103.41360530278459], [75, 493.02045708364295, 161.0155654485946, 530.4230467402282, 256.9832315158582], [77, 55.14295951355626, 43.301709784697934, 100.13348513797231, 155.91581129785925], [82, 1186.534572263373, 191.52904297121057, 1238.319582124014, 297.6435836936449], [86, 1135.1970561204128, 57.90428320454597, 1179.2837228597352, 149.4032568323825], [94, 750.7201005117149, 516.9996981057386, 807.4888072190492, 640.174428615159], [105, 705.7468307012133, 390.4627482275619, 758.0506442336081, 506.96334491089766], [114, 893.2242340838673, -1.758789351319578, 919.6395101413931, 67.88658139406544], [115, 105.91878955066264, 605.9392479622894, 175.97576946098897, 720.7464361246854], [116, 105.44654513645816, 470.1479979553057, 167.2263824521358, 598.9678857768698], [117, 737.5020873015694, 96.98134504127941, 769.7931934238559, 173.8243353045981], [118, 472.67088104727526, 49.18867662340577, 503.50661539018955, 135.67590682146255], [123, 1060.3772629455405, 398.4449489442929, 1115.22390022126, 512.3571246630175], [124, 1069.362089515291, 507.8541825388843, 1138.3025907536276, 643.3013712168104], [125, 460.35773093696105, 236.7178926475835, 500.91358009630034, 339.9692407575838], [126, 1167.349115096804, 126.42255180583649, 1213.735671418766, 224.90305665901943], [131, 381.99004676810307, 271.19132317019717, 430.8797823470317, 369.67416333015177], [132, 57.5070890357549, 74.93077532893378, 98.81149609467013, 155.03301307155448], [135, 670.0439231468941, 553.2590857316923, 727.8807203952279, 684.8753515984841], [142, 778.0929854687158, 660.1095280211186, 852.8336995895595, 719.3120940471154], [143, 6.26600074691283, 336.64168902480895, 31.028029880930653, 446.0139753186816]]\n"
          ]
        },
        {
          "output_type": "stream",
          "name": "stderr",
          "text": [
            "0: 384x640 42 persons, 182.5ms\n",
            "Speed: 10.8ms preprocess, 182.5ms inference, 1.6ms postprocess per image at shape (1, 3, 640, 640)\n",
            "\n"
          ]
        },
        {
          "output_type": "stream",
          "name": "stdout",
          "text": [
            "[<deep_sort.deep_sort.detection.Detection object at 0x7f003548bca0>, <deep_sort.deep_sort.detection.Detection object at 0x7f003548bdc0>]\n",
            "<class 'list'> class\n",
            "[[1, 790.2111218867287, 0.06788549956295498, 819.0275416829018, 83.46461321033618], [5, 662.109800191547, 142.94731328849952, 705.0651106809115, 247.55217862578505], [20, 1128.91827213382, 280.00863287337825, 1178.8171426897356, 392.95181341786275], [36, 919.9121179732686, 21.94845497813133, 948.1529904545357, 111.23635159434176], [54, 534.1907016093662, 30.94852628140761, 558.9256631449907, 113.88076490013738], [60, 610.2284029794968, 203.53119084809245, 655.7752745654004, 303.22547715967494], [61, 1116.961317387529, 28.311059725700524, 1147.358522585714, 102.52343976005031], [75, 492.33570877483726, 159.76165265396497, 529.8315577639137, 256.41172196009575], [77, 55.62288469732791, 42.66971299212277, 100.80979025931984, 155.77814333486856], [82, 1189.1765505471249, 192.8921784933218, 1239.862426289865, 296.3012858270096], [86, 1135.4880774795863, 58.74187524728351, 1179.6200095803217, 150.33462574653143], [89, 1098.345269333718, 30.775287611202245, 1125.0576075752283, 103.23983011891376], [94, 748.652455838291, 520.1234802540283, 803.1950254970448, 639.5099262284904], [102, 1246.341789797762, 190.29856318108972, 1285.0909925292358, 289.3992863705363], [105, 705.5047945672823, 385.8427352101703, 756.674648714466, 499.0238434091615], [115, 106.76674187562162, 607.8246316631224, 175.58059215723472, 720.2983766798802], [116, 103.8823088925746, 474.2468287885474, 166.7551258896599, 605.8922569404815], [117, 738.202703833953, 97.3644565967017, 770.4245344114746, 174.3515500438025], [118, 472.3360922677291, 47.205682605669345, 503.05484906321215, 133.26244537116264], [123, 1062.5735128593276, 401.1308453830734, 1117.2107388206127, 513.628493374473], [124, 1070.0474104985842, 511.69452351562154, 1139.1520965872392, 647.2112543686726], [125, 460.16829478968475, 234.8463770771376, 501.02909969214403, 338.3553832731075], [126, 1168.1573471362142, 128.4488796370341, 1215.0943698660094, 227.91284464622657], [131, 380.9192507091546, 272.71407713324913, 430.66652135907293, 372.2297521255526], [132, 58.20217913494607, 67.72860907200823, 104.25572040506609, 155.6988189157225], [133, 386.9267432475224, 209.660589140372, 425.1322803502569, 285.37590484460713], [135, 671.2053548372568, 549.7973903445642, 726.6635181409143, 679.7824516156934], [142, 775.0372673906041, 655.4485625141507, 855.1719598370784, 719.7041112873251], [143, 8.001736633458025, 339.2679279100983, 33.75916467258994, 449.6149518873668]]\n"
          ]
        },
        {
          "output_type": "stream",
          "name": "stderr",
          "text": [
            "0: 384x640 41 persons, 210.1ms\n",
            "Speed: 4.6ms preprocess, 210.1ms inference, 1.6ms postprocess per image at shape (1, 3, 640, 640)\n",
            "\n"
          ]
        },
        {
          "output_type": "stream",
          "name": "stdout",
          "text": [
            "[<deep_sort.deep_sort.detection.Detection object at 0x7f003548b9a0>, <deep_sort.deep_sort.detection.Detection object at 0x7f003548b850>]\n",
            "<class 'list'> class\n",
            "[[1, 789.4203925793216, -0.4476454441786686, 818.3475928223147, 83.28661241410265], [5, 662.1710998472656, 144.16699026483218, 705.2956761610233, 249.1857627303185], [20, 1127.470230241048, 277.85493084537205, 1176.8242570412808, 389.3601324517241], [36, 919.9536526641402, 21.954723630111957, 948.1034900181263, 110.99896884522617], [54, 534.1906516911022, 30.953998229030326, 558.9447996216941, 113.88247701079791], [60, 610.3329322728448, 203.5663828411872, 655.748802593227, 302.80958160411274], [61, 1118.4259177967301, 28.055200974592886, 1148.9857695320172, 102.85614605675528], [75, 492.13902300901276, 159.35032377221725, 529.5789383888335, 256.2601184043473], [77, 60.91739149733098, 39.65352336839413, 107.9822572661119, 154.35292598793689], [82, 1190.3530688393475, 194.02249424763346, 1240.8302287158956, 296.40534037152185], [86, 1136.2700593514303, 59.12821886509519, 1179.6713914681852, 149.5013971775588], [89, 1097.7551604549224, 31.07118581861019, 1124.8699063406182, 103.81739568936737], [94, 746.4010936180583, 522.5729748129266, 799.2540191473965, 638.494379962758], [102, 1248.111287756311, 193.49354018064474, 1284.154014083175, 289.7480341437827], [105, 704.8220341948136, 382.93607484551615, 756.1448532284907, 495.63657231585364], [115, 107.99003363443919, 611.0983432263771, 175.3067571119722, 720.2618857714002], [116, 101.97561912379382, 477.6894575722547, 166.02627992906838, 612.3833996581222], [117, 739.3870094325191, 98.12752361554995, 771.040125361665, 173.8458486527726], [118, 472.8827254003188, 46.54687925109562, 503.5821732066097, 132.4605965989557], [123, 1064.122891537126, 404.69009105864507, 1119.7336090077745, 518.7039047105319], [124, 1070.7325304175458, 517.6247782468072, 1139.5629233050688, 652.4729627737695], [125, 460.63580736373154, 232.9010630555194, 501.1864140196572, 335.2045130969867], [126, 1168.1642537937496, 130.49966889621155, 1215.8870312031659, 231.6557658326477], [131, 380.4227659531265, 275.2325470447663, 430.67342191544395, 375.14314059159716], [132, 60.33083750406249, 68.51543927684551, 107.10486056303907, 157.8619289120025], [133, 387.1260601903478, 210.9682283661, 425.70243021536453, 286.789929154491], [135, 671.8516009455349, 545.998908541219, 724.7771589236715, 673.2957245090324], [142, 772.7748403803422, 651.8123065187424, 856.4312478606621, 719.8707411542141], [143, 8.547900466181222, 341.5484711030383, 35.27310380205182, 452.14000171954615]]\n"
          ]
        },
        {
          "output_type": "stream",
          "name": "stderr",
          "text": [
            "0: 384x640 40 persons, 1 bird, 198.0ms\n",
            "Speed: 9.9ms preprocess, 198.0ms inference, 1.6ms postprocess per image at shape (1, 3, 640, 640)\n",
            "\n"
          ]
        },
        {
          "output_type": "stream",
          "name": "stdout",
          "text": [
            "[<deep_sort.deep_sort.detection.Detection object at 0x7f01681645b0>, <deep_sort.deep_sort.detection.Detection object at 0x7f00354f4310>]\n",
            "<class 'list'> class\n",
            "[[1, 788.8452728750261, -0.5868944764396673, 817.7041329341363, 83.28196196809014], [5, 662.7301334541445, 145.86185308516517, 705.2155029384535, 249.40978921903132], [20, 1124.9881576345992, 276.4829355285199, 1174.1335691837385, 386.80377427048046], [36, 919.6864544837262, 21.960120194271155, 947.7011140349367, 110.91898507450767], [54, 534.0945722953512, 30.29731531084969, 559.0373846824966, 113.89168652077649], [60, 610.3238097128544, 204.8632901232424, 655.1156446878564, 302.6114573041665], [61, 1118.7906243399618, 28.62114515554255, 1149.595065596324, 104.29316358896467], [75, 492.1251628921611, 158.5986940177671, 529.4599498206694, 255.60374809645327], [77, 62.41711190585198, 43.63458958424321, 109.34612340226036, 154.02497428931835], [82, 1192.1461610625665, 197.0642900516127, 1242.405369749772, 299.7441463046609], [86, 1137.2007711499027, 58.61447008484994, 1180.3476834649446, 148.7193630224719], [89, 1096.9883917291736, 31.532323615553686, 1123.9885538429996, 103.97109226561045], [94, 744.6431370196304, 524.7565624835098, 796.9021393539838, 639.3745680151412], [102, 1248.9467218402583, 194.52932668557867, 1283.5934812115543, 290.5450266084797], [105, 704.6447148026748, 379.9711554569666, 756.5949821850579, 493.20372218584873], [115, 108.99751683922813, 613.5573015539911, 175.26761853875968, 720.236579310421], [116, 101.36930449101663, 480.21320067866424, 165.7125736594537, 616.056196862206], [117, 739.4522087510318, 99.03711322384629, 770.9636180643736, 174.26826934842654], [118, 474.01938183885227, 46.35607531717746, 504.83514124512317, 132.22755807577155], [123, 1066.0906120224206, 407.69574484366996, 1121.5818035937332, 521.4640945544699], [124, 1072.1851573001522, 521.2140091620425, 1141.411478694933, 656.8375019073412], [125, 460.4170715881479, 230.92768539391622, 501.6281034019762, 334.80664112635634], [126, 1167.892084583408, 133.20421609382134, 1216.4319066071168, 236.30836844921615], [131, 380.7221935044384, 279.44405883294394, 430.85834398431365, 378.17874175665423], [133, 387.4008822075958, 212.2107007478554, 425.84529143061445, 287.7730768511175], [135, 673.024095682083, 542.0673807229363, 723.2135679682755, 664.3040761684895], [142, 770.9253129009585, 648.5960573080123, 857.1845184070455, 719.9414453914196], [143, 8.558648296940143, 345.76067596773237, 35.80407153968818, 454.28602855995587]]\n"
          ]
        },
        {
          "output_type": "stream",
          "name": "stderr",
          "text": [
            "0: 384x640 41 persons, 1 bird, 295.3ms\n",
            "Speed: 2.9ms preprocess, 295.3ms inference, 2.1ms postprocess per image at shape (1, 3, 640, 640)\n",
            "\n"
          ]
        },
        {
          "output_type": "stream",
          "name": "stdout",
          "text": [
            "[<deep_sort.deep_sort.detection.Detection object at 0x7f00354891b0>, <deep_sort.deep_sort.detection.Detection object at 0x7f003548bca0>]\n",
            "<class 'list'> class\n",
            "[[1, 787.9965564828544, -0.5890404722729485, 816.7746606110765, 83.33528219887413], [5, 662.839609357841, 147.12913491702767, 705.4166256448715, 250.90216165341658], [20, 1122.9867563730377, 275.39988000592325, 1172.3256614361915, 385.30231490686583], [36, 919.6122452132614, 21.964849959201615, 947.5209455047951, 110.89787960933509], [54, 533.6787659024936, 30.053694548191558, 558.7835209419579, 113.90213275491367], [60, 609.6218326609012, 205.97381280267172, 654.9007416710433, 305.1581779872141], [61, 1121.2573516150799, 28.538480568264156, 1152.1867005023016, 104.52005988184581], [75, 491.95782885243483, 157.05317545837184, 529.611811532674, 255.4084402340825], [77, 63.6166144041902, 43.27908055001814, 110.57613989900617, 153.7428086767949], [82, 1192.867637774685, 199.47896791086052, 1243.5116394643426, 303.60758549629327], [86, 1137.938130502363, 59.08759613230546, 1180.8280285642543, 149.09923566546627], [94, 742.1432802112655, 526.8349432748047, 794.7306503425231, 641.6420835567184], [102, 1249.616589866501, 196.53331450003185, 1284.186609871419, 292.3389374043884], [105, 704.4999603635706, 378.3182485486502, 756.2190590771304, 489.7837655669386], [115, 109.27426638290252, 615.0661027195138, 175.2850345950746, 720.2099248781622], [116, 101.01922520486397, 484.339005533341, 165.15716472225915, 619.9386458098613], [117, 739.6826059292213, 100.66755736975259, 770.6997319393472, 174.3912569588935], [118, 474.12394248279213, 45.012197096407824, 504.95532879145026, 130.21523623194466], [122, 779.9411379683938, 202.66607707644357, 819.6687524712006, 282.81095893920576], [123, 1065.2552221993917, 410.93534514458463, 1123.5000908631353, 529.5328837887056], [125, 460.205749069785, 229.60177788289437, 501.91238440178046, 334.74221374954664], [126, 1168.1772450447431, 134.84681259400782, 1216.8735594956693, 238.68448967611494], [131, 380.1556481693124, 280.33051330325986, 431.6229905246286, 381.25880493354873], [133, 386.51411319038453, 213.8832867053879, 425.054453441197, 288.9479692061253], [135, 673.5359213496365, 538.0838035268395, 721.9741349024168, 657.0067274896506], [136, 225.96183093660193, 315.01878454535745, 265.18010616545746, 420.0249641320348], [138, 765.3188123196886, 14.80007439821614, 790.7560851660988, 91.78593802052859], [142, 767.2393898791496, 642.37206720397, 859.1243514081629, 719.9713130300048], [143, 8.14355118756195, 349.28596580319913, 36.225074232755475, 456.9860670039785]]\n"
          ]
        },
        {
          "output_type": "stream",
          "name": "stderr",
          "text": [
            "0: 384x640 39 persons, 1 bird, 260.9ms\n",
            "Speed: 6.8ms preprocess, 260.9ms inference, 2.1ms postprocess per image at shape (1, 3, 640, 640)\n",
            "\n"
          ]
        },
        {
          "output_type": "stream",
          "name": "stdout",
          "text": [
            "[<deep_sort.deep_sort.detection.Detection object at 0x7f003548aec0>, <deep_sort.deep_sort.detection.Detection object at 0x7f01681662c0>]\n",
            "<class 'list'> class\n",
            "[[1, 786.8618446058862, -0.5456172524062097, 815.264333513385, 82.74094444990135], [20, 1117.3111042897328, 272.4176703998012, 1168.7106929100148, 384.85327455783727], [36, 919.9879501121769, 21.969023721845538, 947.7114839514768, 110.89822678546594], [54, 533.4942266168529, 29.966881428829318, 558.706216159764, 113.91290369397683], [60, 608.6415590995232, 208.33149834386228, 654.8793128315402, 310.0298773145454], [75, 491.9630661747374, 153.89462805422227, 529.627915992942, 252.75453902313893], [82, 1191.8741302676217, 201.65434934104417, 1243.783820165269, 308.97127519729554], [86, 1138.9036328767245, 60.56624452537679, 1180.9519576347268, 149.2206891224484], [94, 731.5904805970038, 528.2088954737118, 789.1170003969014, 651.7232396340717], [105, 703.3029100692892, 375.1537524536376, 756.5996798026342, 488.6768056853979], [115, 109.79831740544282, 616.9004583016142, 175.48621209427435, 720.1846063935936], [116, 100.31480360623644, 491.0558010167167, 162.98678328748042, 623.2466453035797], [117, 739.1208827373241, 101.90559296939287, 770.5499602248025, 175.7338331863882], [118, 473.98704441394636, 43.89615029678875, 505.16103748404555, 129.52454960949785], [120, 605.268375089328, 24.516448393557248, 632.1317920307903, 108.20295282448689], [122, 780.0147093868351, 201.2226143922686, 819.5664182546672, 281.0126896256594], [123, 1066.9302945826832, 413.96723938492767, 1125.3343864473864, 532.8885091516249], [125, 461.2671650126562, 225.22280662308114, 502.845124936266, 330.1947446896837], [126, 1168.4721151537603, 138.04405962757892, 1217.4806860586195, 242.80152177261814], [131, 379.9795918337079, 281.79493984419804, 431.6100512340491, 383.0427325447439], [132, 55.56282184705943, 74.45983558595688, 96.93878962963655, 156.2248136311149], [133, 385.1228885492755, 215.73685206070326, 424.7537028901934, 292.7108624574056], [135, 673.0453400038307, 534.0826609206689, 720.2533391535095, 650.4212047811096], [136, 226.34766308715743, 314.92326290282585, 265.3965457257928, 419.95156578583897], [138, 767.6682930805806, 13.712823137666838, 792.9891081785466, 89.4082285366886], [142, 762.8260845319546, 634.9900206692854, 860.9590965879127, 719.9836513792266], [143, 7.592458487766233, 349.7942440094795, 37.33116307354953, 459.8918367871323], [145, 436.61059001866573, 671.4146292849697, 505.60828859354666, 719.2480726717121]]\n"
          ]
        },
        {
          "output_type": "stream",
          "name": "stderr",
          "text": [
            "0: 384x640 40 persons, 3 birds, 269.5ms\n",
            "Speed: 2.6ms preprocess, 269.5ms inference, 2.0ms postprocess per image at shape (1, 3, 640, 640)\n",
            "\n"
          ]
        },
        {
          "output_type": "stream",
          "name": "stdout",
          "text": [
            "[<deep_sort.deep_sort.detection.Detection object at 0x7f003548bdc0>, <deep_sort.deep_sort.detection.Detection object at 0x7f00354f6140>]\n",
            "<class 'list'> class\n",
            "[[1, 786.098220753907, -0.487376089390672, 814.3852087456571, 82.56200457622376], [20, 1113.1784079556585, 271.37598499304465, 1166.2067414240373, 385.424025200651], [36, 920.1773341181962, 21.972706158066522, 947.7356578657362, 110.90580468362839], [54, 533.4861137729627, 29.939803483634698, 558.6106919318048, 113.26274500353964], [60, 608.7302868456138, 211.80457807768397, 655.0671590883951, 313.79648122573116], [75, 492.2436240521348, 151.43215184783324, 529.3844181241626, 249.16144533174014], [82, 1193.1555396092738, 203.7350834809542, 1244.7699681656907, 310.2944899849033], [86, 1139.1638024017645, 62.428649754922816, 1181.0677870243073, 151.24075301409718], [94, 726.393612315272, 532.5573149221955, 785.851865442331, 658.6301785335982], [105, 702.9466531790869, 373.41339848152154, 757.3475321146442, 488.37800708162047], [115, 109.91269176018483, 618.1807560158509, 175.58348751322148, 720.1604468239153], [116, 98.19839906479206, 495.47632735246606, 159.46514904581204, 624.3383841890732], [117, 738.726169324453, 102.32823295672839, 771.3250784737884, 178.19368712780698], [118, 473.8787458422124, 43.526384790479554, 505.28248659903676, 129.32371253578054], [120, 605.824654349409, 24.79838267366341, 632.7881481013087, 108.79668669646665], [125, 461.9618923009396, 221.6590467936984, 503.55732183791713, 326.576171685535], [126, 1168.6052717961645, 139.21252528627477, 1217.66232508878, 244.30396526629607], [131, 380.5124659210173, 284.6079702396899, 432.90210153778634, 386.5105150843555], [132, 54.96023325582351, 74.44923155870904, 95.00201669068244, 155.7661522714639], [133, 383.3948228576459, 216.3718363296107, 423.91461588675617, 295.32969715194133], [135, 672.0607856559324, 531.4168556266033, 719.1440364215857, 647.4662233854957], [136, 226.61309040689954, 315.5526372040789, 265.3280487004255, 419.9257429363546], [138, 775.5865595682906, 14.047644339213704, 800.9397840104424, 89.83991582540239], [142, 760.8691496170078, 629.6081208264889, 862.4676368093969, 719.9890841967003], [143, 6.707127161747996, 347.2329860464257, 38.33671107435642, 460.86188910646825], [145, 434.467135199089, 666.8283906691779, 509.17225799179573, 718.9864026079949]]\n"
          ]
        },
        {
          "output_type": "stream",
          "name": "stderr",
          "text": [
            "0: 384x640 38 persons, 3 birds, 290.2ms\n",
            "Speed: 6.6ms preprocess, 290.2ms inference, 2.1ms postprocess per image at shape (1, 3, 640, 640)\n",
            "\n"
          ]
        },
        {
          "output_type": "stream",
          "name": "stdout",
          "text": [
            "[<deep_sort.deep_sort.detection.Detection object at 0x7f00354f5450>, <deep_sort.deep_sort.detection.Detection object at 0x7f0168166e30>]\n",
            "<class 'list'> class\n",
            "[[1, 785.7279619861355, -1.283441687240682, 813.9601077970138, 81.61531581230409], [20, 1109.4345737781814, 270.40698148340914, 1163.6322757533276, 385.73361815958214], [36, 920.2909761846671, 21.975951135098313, 947.7006584457155, 110.91526728748457], [54, 533.4553688246359, 29.93538296023854, 558.5988647527215, 113.02268635342818], [60, 608.7783059561846, 214.40442219869516, 655.1300091423398, 316.49742275296694], [75, 492.61698315493635, 149.90169822232605, 529.0539635759131, 245.2044330600439], [82, 1194.1190381849678, 205.78605452405168, 1246.5641147045271, 314.01852838875266], [86, 1139.1683130788579, 63.75774876344426, 1181.1744995810081, 153.29847205806325], [94, 723.2000390172997, 534.8511644709426, 784.0281879219503, 663.1976579099041], [105, 702.6877207507682, 371.54425572407933, 758.4511405132422, 489.0548091529009], [115, 110.07018769380338, 619.9309697633663, 175.45487722022503, 720.1395359543486], [116, 96.65168823733347, 497.65798255008593, 157.66645254486681, 625.2617789787039], [117, 737.7528003429807, 103.11158692095867, 771.7707969684623, 181.70756279656595], [118, 474.0639490761393, 42.774682526391196, 505.7517596317745, 129.30626339070213], [120, 606.2364836099341, 25.799113196873932, 632.9438171553653, 109.86684927621737], [122, 779.797748102808, 195.47094691897453, 821.852623386096, 280.4940167883779], [125, 462.4098615124505, 219.0816603627598, 503.6206658238731, 323.3248112859895], [126, 1168.427942698144, 140.9112549724524, 1217.2731974462863, 245.45533508611587], [131, 380.7694072704305, 288.0858534060264, 433.04472625903105, 388.8255660234779], [132, 55.05735592346969, 74.47339502057373, 94.18802106826288, 155.66202250889177], [133, 383.1868275031328, 217.64579850830538, 423.80564865745004, 296.7966575440779], [135, 671.263498260217, 529.235880112699, 719.2291150836827, 647.8522979484662], [136, 226.65980600595253, 315.39603153148965, 265.37484960428594, 419.76945647775085], [142, 758.6697598414873, 623.8065436761485, 863.8564568833688, 719.9918038082967], [143, 5.649916651600968, 342.9061876409218, 39.36180147183626, 461.131507591384], [145, 432.45385719972353, 663.2140704811084, 512.3677834284085, 719.5902616498909]]\n"
          ]
        },
        {
          "output_type": "stream",
          "name": "stderr",
          "text": [
            "0: 384x640 37 persons, 3 birds, 211.2ms\n",
            "Speed: 3.4ms preprocess, 211.2ms inference, 2.2ms postprocess per image at shape (1, 3, 640, 640)\n",
            "\n"
          ]
        },
        {
          "output_type": "stream",
          "name": "stdout",
          "text": [
            "[<deep_sort.deep_sort.detection.Detection object at 0x7f003548bca0>, <deep_sort.deep_sort.detection.Detection object at 0x7f00354f6bc0>]\n",
            "<class 'list'> class\n",
            "[[5, 663.3985325684789, 149.28071160206633, 704.7330021962583, 249.69089514991427], [20, 1107.6211143680434, 268.80244066754415, 1162.54717950879, 385.2723541879571], [36, 920.3717008962647, 21.978808606588338, 947.6471704193299, 110.92466801838913], [54, 533.3329511386734, 29.938540431849027, 558.7029921144863, 113.60199885914821], [60, 608.4052215356396, 216.65258231921894, 654.2304246125675, 317.4561282959726], [75, 492.93371896413714, 148.73336268662683, 528.7797688956921, 241.78213131567543], [77, 85.72681912927779, 31.002265555579484, 119.32147362332908, 109.02478198264576], [82, 1194.027836397081, 207.81618155046243, 1246.9683488817395, 317.32560106600823], [86, 1138.3094695999043, 64.22576385426532, 1181.3872546258065, 156.68689316925713], [94, 721.4948443960456, 537.6141542673247, 782.7298318060929, 666.1499058749638], [105, 701.2354218180532, 368.96199045204196, 758.9361507462897, 490.7232871776593], [115, 111.01336230232548, 621.5565897641441, 175.48828607446237, 720.3704756969883], [116, 95.54566961244137, 500.33805014774214, 156.2997841743108, 626.1480571243154], [117, 737.4280754676973, 104.67985413282736, 771.8805353943802, 183.66162659234942], [118, 473.84219957320465, 42.534401046008426, 505.54894729218404, 129.34783918160906], [120, 606.8242054166695, 26.720860995469025, 633.2848205770798, 110.16549653831876], [122, 779.7975931073063, 193.9140817095359, 821.4793053347477, 278.3330623251991], [123, 1070.6022384359312, 426.5457707083214, 1131.4892268965116, 548.3026195684661], [124, 1084.4550862353556, 534.3858266499676, 1148.3282705526785, 657.6943082742296], [125, 462.7087938825408, 217.54378605076445, 503.49169499664924, 320.878074095469], [126, 1168.20700885717, 141.4980450784544, 1217.24801943495, 246.47282737916777], [131, 381.4516841413778, 290.6246544347463, 433.16866633526075, 388.94958257943927], [132, 55.253670896103, 73.78596496760335, 94.3362895757578, 156.2494736124358], [135, 670.5249395447206, 527.2197422244773, 719.0960039892034, 648.1118945951335], [142, 757.8552220756242, 619.0822419880108, 864.9567931879507, 719.9932338051647], [143, 5.137581368600216, 341.86730695138226, 39.79771023808129, 460.49979340478427], [145, 431.081168516889, 659.9856858255355, 514.8195804710492, 719.8344618040451]]\n"
          ]
        },
        {
          "output_type": "stream",
          "name": "stderr",
          "text": [
            "0: 384x640 36 persons, 3 birds, 189.4ms\n",
            "Speed: 5.6ms preprocess, 189.4ms inference, 1.6ms postprocess per image at shape (1, 3, 640, 640)\n",
            "\n"
          ]
        },
        {
          "output_type": "stream",
          "name": "stdout",
          "text": [
            "[<deep_sort.deep_sort.detection.Detection object at 0x7f003c922500>, <deep_sort.deep_sort.detection.Detection object at 0x7f003548af20>]\n",
            "<class 'list'> class\n",
            "[[5, 662.1625513839906, 150.0873621917028, 703.8361824171382, 250.86457591074637], [20, 1105.6675322095934, 266.29527200305176, 1161.5933465084213, 384.5078511917021], [36, 920.43630750031, 21.98132441188735, 947.5904094808114, 110.93335488661342], [54, 533.2718313913056, 29.943710321022806, 558.7554909931359, 113.82571326209582], [60, 608.4925947825433, 217.4396168735613, 654.9868105563477, 320.3925586633646], [75, 492.4317150121414, 147.0300868326779, 527.9807159593066, 238.57913446947106], [77, 88.35354283065809, 30.714104077541762, 120.7392337421709, 105.72545933236357], [82, 1196.8007139579029, 208.52906832911586, 1249.4756148623146, 318.5125609928841], [86, 1137.9287166837576, 65.02898124000792, 1181.506339068236, 159.23932675894662], [94, 721.8438047493646, 539.2534473173516, 781.4738548181097, 664.5457834336701], [105, 700.7162822641671, 367.4107416166867, 759.1074348829093, 490.7834525383397], [116, 93.41177022336099, 502.53735180601535, 154.2879752471286, 627.6846094493287], [117, 737.3494238572357, 106.55713116431045, 771.8599344018588, 185.01805484821602], [118, 473.97444253747886, 41.4912890776903, 505.66659552292344, 128.26489657840773], [120, 607.3578584175857, 27.127114824156898, 633.8812342202832, 110.76977098314651], [122, 779.8101843678782, 192.7294254172928, 820.6657687729447, 275.60145960846467], [123, 1073.3176166353278, 429.968785761274, 1134.5771163920385, 550.6879597758742], [124, 1085.9623086448103, 536.4422484210139, 1149.4028714727422, 657.2108743177808], [125, 462.4461386615465, 216.39824945858155, 503.131772639147, 319.40168243670587], [126, 1168.1174665981819, 142.32364360915702, 1217.2232662743254, 247.44771627421864], [131, 382.02169590900166, 293.50126605798084, 432.8980093823942, 388.2474888418412], [132, 55.453415823479006, 73.50063246123518, 94.21515122817206, 156.43299967625404], [135, 669.2489339290864, 523.9554682469467, 718.7859075028282, 648.3337169504557], [136, 226.7589629598036, 315.8595768176369, 265.274978281049, 419.91684712453986], [142, 757.7746120460511, 614.1819151534926, 866.4001430153922, 719.9941406093994], [143, 4.67506409310921, 340.7762868203579, 40.150251226536824, 459.49163612535534], [145, 429.6946432682913, 656.2558983938818, 517.2424740563713, 719.9342465617335]]\n"
          ]
        },
        {
          "output_type": "stream",
          "name": "stderr",
          "text": [
            "0: 384x640 39 persons, 1 bird, 197.7ms\n",
            "Speed: 6.7ms preprocess, 197.7ms inference, 1.6ms postprocess per image at shape (1, 3, 640, 640)\n",
            "\n"
          ]
        },
        {
          "output_type": "stream",
          "name": "stdout",
          "text": [
            "[<deep_sort.deep_sort.detection.Detection object at 0x7f0168166e30>, <deep_sort.deep_sort.detection.Detection object at 0x7f00354f5450>]\n",
            "<class 'list'> class\n",
            "[[5, 661.497741413158, 153.0217375934181, 703.8195696513774, 255.2454107597564], [20, 1103.5780630534389, 263.4463497693943, 1158.7985058068239, 380.34752280554517], [36, 920.4915719911281, 21.983539664206603, 947.5358529383391, 110.9411616012512], [54, 533.2353125857878, 29.94960433535818, 558.7870704379912, 113.91460254305872], [60, 606.6785489261947, 219.65348057009015, 653.1884449292339, 322.7471159946435], [75, 491.22285130075625, 145.12595236314556, 526.7199962494619, 236.1365294409019], [77, 90.05396583283485, 29.85453810333854, 121.64745756378647, 103.29021975201545], [82, 1198.9681712382733, 209.3920452625435, 1251.2166442090022, 318.2268617341275], [86, 1137.9863187271808, 66.61174791736863, 1181.3270986126627, 160.83184532974667], [94, 721.0121950273832, 542.4330170109191, 779.5869587126645, 666.4272763567673], [105, 701.660610306741, 364.304759201213, 759.3614386707794, 486.9778612164856], [116, 90.4060589488605, 505.23008060791483, 151.19685993337305, 629.4793079812979], [117, 736.212942456422, 108.54976003073821, 771.6284967437697, 188.77374651338135], [118, 473.76262680999247, 38.54048306602545, 505.43406327984434, 125.4817090928313], [122, 780.0826033093849, 191.68845927185902, 820.0871968796534, 273.3088291444761], [123, 1075.0695313056276, 433.3318094613653, 1136.5042317716875, 554.3955054687658], [124, 1083.310175703904, 541.8775975649451, 1152.232757793712, 674.076572723777], [125, 462.6538087132694, 214.0658043760819, 503.9997572711985, 318.9479811042608], [126, 1169.1292849247927, 143.89876995767537, 1217.4638163754037, 247.091354526183], [131, 382.2274492036246, 295.4915022470932, 432.8489070454209, 389.76249598827985], [132, 55.73971318970845, 74.68479581905413, 93.24265414480118, 155.8009941608447], [135, 667.1028587892514, 519.5617431161796, 717.116909909891, 646.5563358008332], [136, 226.80206222142638, 315.7826937278532, 265.3061260303736, 419.80776912459544], [142, 759.002307647349, 607.9641188232202, 869.465760019934, 719.9947709059636], [143, 4.0872657673515, 340.34403295736183, 40.63746762818846, 460.3493338809304], [145, 427.74334725961967, 649.7700339812297, 522.1350332903955, 719.9745618283641]]\n"
          ]
        },
        {
          "output_type": "stream",
          "name": "stderr",
          "text": [
            "0: 384x640 40 persons, 186.6ms\n",
            "Speed: 5.9ms preprocess, 186.6ms inference, 1.8ms postprocess per image at shape (1, 3, 640, 640)\n",
            "\n"
          ]
        },
        {
          "output_type": "stream",
          "name": "stdout",
          "text": [
            "[<deep_sort.deep_sort.detection.Detection object at 0x7f003548bdc0>, <deep_sort.deep_sort.detection.Detection object at 0x7f003548b9a0>]\n",
            "<class 'list'> class\n",
            "[[5, 661.4222420354384, 154.2273594092138, 703.7743881108304, 256.52559242974314], [20, 1102.8416954755317, 262.4414421526587, 1157.1843286414894, 378.16084143442106], [36, 920.5403913095317, 21.985490712973167, 947.4852734249936, 110.94809784295387], [54, 533.2953409302555, 30.61547085669539, 558.7237276080475, 113.95105065127319], [60, 605.7502069720955, 221.09573147214493, 652.0772169576688, 323.57213501734213], [75, 490.3438537874988, 143.81581781633858, 526.0408005966599, 235.3136044750227], [77, 91.41911766729598, 29.611031086182457, 123.10362215847556, 103.3283956593761], [82, 1199.757304108909, 210.9746326706875, 1251.8196941178342, 318.6920886111426], [86, 1137.6880745905362, 68.49904396760559, 1180.9021590542413, 162.70521334820782], [94, 720.0638407624215, 544.8710549954733, 775.741878229851, 663.7281080118744], [105, 702.2681588342216, 361.9019112752385, 759.241754904149, 483.624472976932], [115, 115.05224825974571, 626.9435634021128, 177.5922674407182, 720.1059195541045], [116, 88.2931160976229, 508.10939755852456, 149.14964165235415, 632.039102434235], [117, 735.5942778911432, 110.57074577189529, 771.0753491570994, 190.79514439253438], [118, 474.43018548470707, 37.09640999131003, 506.041903566112, 123.39607711335873], [122, 780.1180308273576, 190.09864817455215, 820.0447553929012, 271.5602666036397], [124, 1083.811719688707, 547.6650983102274, 1155.0354283286597, 685.150570635253], [125, 462.5232522001223, 211.94814297156998, 504.5188711469837, 318.8545677561868], [126, 1169.2274162555095, 145.1009219261898, 1217.1582660004883, 246.8782247037704], [132, 56.04851374716438, 74.44167241983266, 93.27974762864287, 156.1820571159061], [135, 666.0301013077867, 517.3412175244775, 715.4740718813274, 644.0125285519055], [142, 760.9276346274596, 603.7050728542913, 870.5171457323255, 719.3736155245133], [143, 4.459095907736348, 340.50037758649125, 41.40498614209035, 461.8046993632857], [145, 426.63652643617274, 643.5184117835781, 526.8895373274419, 719.9906602560968]]\n"
          ]
        },
        {
          "output_type": "stream",
          "name": "stderr",
          "text": [
            "0: 384x640 41 persons, 2 birds, 173.8ms\n",
            "Speed: 16.0ms preprocess, 173.8ms inference, 1.6ms postprocess per image at shape (1, 3, 640, 640)\n",
            "\n"
          ]
        },
        {
          "output_type": "stream",
          "name": "stdout",
          "text": [
            "[<deep_sort.deep_sort.detection.Detection object at 0x7f01681662c0>, <deep_sort.deep_sort.detection.Detection object at 0x7f00354891b0>]\n",
            "<class 'list'> class\n",
            "[[1, 762.9777385168513, 9.912959079887074, 789.1443582808832, 86.32372264255757], [20, 1102.4320723467067, 260.8194148827195, 1155.5482216746354, 374.76159411581057], [36, 920.5841451880774, 21.9872094838085, 947.4390523499162, 110.95423160655426], [54, 533.2997103848852, 30.870395926926278, 558.7167437665892, 113.96719301696916], [60, 605.7356067671035, 222.8989668568408, 651.335476556251, 323.80814337361437], [75, 489.74098895109773, 143.3881327282955, 525.4293359282146, 235.08453580652704], [77, 92.78369196134575, 29.570222339996874, 124.63732308422775, 103.48867882129439], [82, 1201.3672995766049, 212.8354929403452, 1252.6232057778054, 318.1353288469142], [86, 1137.6019662508704, 69.8383469104212, 1180.6987923875638, 164.02509791544054], [94, 718.0947118337723, 547.027770071542, 772.7980516377551, 664.5857081765383], [105, 703.0765759897605, 360.431650386898, 758.6353839954758, 479.7986798743653], [115, 116.332471673237, 630.9979660735356, 177.6544596006157, 720.0703359033903], [116, 86.31975820089919, 510.39594384238933, 147.70124096248463, 634.8886651199485], [117, 735.7171263275635, 111.29853121651206, 771.1541105830102, 191.5055256099979], [118, 474.54445609584616, 35.94341659656558, 505.7129400598432, 120.68690628022895], [123, 1083.4568435005294, 440.00909719042704, 1142.2745474012224, 554.3853443691402], [124, 1085.0193946428803, 551.3046998574644, 1156.886024201579, 690.0307144907936], [125, 461.9096501903868, 209.9109962129636, 504.6083726443145, 318.8977811722766], [126, 1170.2318744153993, 145.4964809326156, 1218.0490043517912, 246.74046931356983], [132, 56.66423713056736, 74.99354637982142, 92.7611236129631, 154.97752400605356], [135, 665.495180266516, 514.6621192962529, 714.3789904266297, 641.1682272539583], [138, 786.5724589853261, 0.8767515146998903, 811.6724484877201, 74.06095604291541], [142, 762.2017672599618, 600.8803565363951, 869.8197290345938, 719.1194646094422], [143, 3.787274600104208, 345.5573744862018, 42.44093150788734, 470.0123125817272], [145, 426.78949376237136, 639.2030920035154, 530.0624228398406, 719.9972715914536]]\n"
          ]
        },
        {
          "output_type": "stream",
          "name": "stderr",
          "text": [
            "0: 384x640 39 persons, 1 horse, 183.7ms\n",
            "Speed: 6.5ms preprocess, 183.7ms inference, 1.5ms postprocess per image at shape (1, 3, 640, 640)\n",
            "\n"
          ]
        },
        {
          "output_type": "stream",
          "name": "stdout",
          "text": [
            "[<deep_sort.deep_sort.detection.Detection object at 0x7f0168166e30>, <deep_sort.deep_sort.detection.Detection object at 0x7f00354f6140>]\n",
            "<class 'list'> class\n",
            "[[1, 760.7945689951971, 10.43884892616019, 786.7353718639384, 86.19945787194567], [20, 1102.1774731490884, 258.29572656382595, 1154.532861913069, 371.56748000887546], [36, 920.245352978822, 21.98872395603715, 947.1142662137285, 110.95964525162546], [54, 532.9055356591492, 30.965880292106583, 558.446787449307, 113.9750112677001], [60, 605.4980390849979, 224.17708390532616, 650.649177076203, 323.82205376089837], [75, 489.1565201955781, 142.62720569187314, 524.9287298930584, 235.0767770184397], [77, 95.92148619427667, 29.598032992757076, 127.8492453765457, 102.31369382338661], [82, 1203.3023158154451, 214.13637640128167, 1254.160168211459, 317.8535869260539], [86, 1137.6468551837368, 70.89973445467157, 1180.881495317229, 165.3881310373405], [94, 715.7056716307803, 548.4107725261426, 770.2230960842201, 666.1671626180298], [105, 703.605235447388, 358.6559966556284, 758.1981084104318, 476.4560790559698], [115, 116.64218496722954, 632.2992059278527, 178.45259222823867, 720.0571519483905], [116, 85.61770997703691, 513.1272433640811, 147.24712999906143, 637.1832088994976], [117, 736.1537417343305, 111.52654384384773, 771.4532136634242, 191.7128401802467], [118, 474.26622325703676, 34.23039016710318, 505.2328547351611, 118.39629840466826], [123, 1085.722590412298, 443.36737957888926, 1144.3490095175218, 557.370870508809], [124, 1085.3408145033206, 554.2188735064237, 1158.1143364069721, 695.7475549103885], [125, 461.370380192816, 208.55754336799188, 504.93203135969924, 320.2923245397475], [126, 1171.3582913702717, 146.25766051717463, 1218.9387151848807, 246.64121526041413], [132, 56.95642051914113, 75.17757107903165, 92.46153212125617, 154.48599168282666], [135, 664.2243185695041, 511.1386082027032, 713.1281461497568, 638.2096596059873], [138, 791.4777717417003, -0.05165967623611323, 816.519972708516, 72.96400720390041], [142, 762.5837186582075, 598.0103305673878, 869.0180003001685, 719.6499756135033], [143, 4.269014114912494, 350.0666753462578, 44.15791747874882, 475.3831454492065], [145, 425.8614413041538, 634.4472536373642, 532.3154193174737, 719.999934434513]]\n"
          ]
        },
        {
          "output_type": "stream",
          "name": "stderr",
          "text": [
            "0: 384x640 38 persons, 197.6ms\n",
            "Speed: 6.4ms preprocess, 197.6ms inference, 1.6ms postprocess per image at shape (1, 3, 640, 640)\n",
            "\n"
          ]
        },
        {
          "output_type": "stream",
          "name": "stdout",
          "text": [
            "[<deep_sort.deep_sort.detection.Detection object at 0x7f003548ace0>, <deep_sort.deep_sort.detection.Detection object at 0x7f003548bdc0>]\n",
            "<class 'list'> class\n",
            "[[20, 1102.532387275713, 256.09856600629297, 1153.8427215493637, 367.79807259432], [36, 920.1987800553557, 22.65107059303687, 946.9097006791002, 110.96441970245218], [54, 532.7167897179146, 31.000654296634423, 558.3853272469069, 113.97946795715967], [60, 605.1048736662569, 224.5919055994286, 650.0566618980793, 323.76421922167935], [75, 488.7878580969276, 141.7342338282964, 524.9235570199688, 235.79940977398883], [77, 98.87854930146753, 29.648915122905876, 132.5009561452536, 103.3851180917611], [82, 1204.0221684253609, 215.2262233289308, 1255.3042509863292, 319.02902144910195], [94, 713.5207513040085, 550.1751440171234, 768.0890726494645, 668.6790602965738], [105, 704.778323896016, 355.4273063239483, 757.7349228123752, 469.9839429007896], [115, 116.735031985431, 632.0193575034072, 180.06683667989802, 720.0491951418917], [116, 84.63258594843548, 516.6905347313724, 146.60554923493225, 640.5952025019346], [117, 736.3559504709102, 111.5672113941607, 771.530385234894, 191.73323721619414], [118, 473.2813045717031, 32.97517620649687, 504.5982517928418, 118.26587024814309], [122, 779.6761756093168, 187.7015291813861, 820.33966487936, 272.2528777132595], [123, 1085.6920640873375, 447.74607583368544, 1146.7885121516597, 566.4769381757832], [124, 1087.0369525567794, 559.259620953612, 1159.7495616029398, 701.5694043064461], [125, 461.2190030357158, 207.4610221084438, 504.9897014433135, 320.23255862518295], [126, 1172.3720894563708, 147.82216027678874, 1219.3204778188854, 246.5579209260996], [131, 376.3942064728991, 297.52039851955055, 430.388350293229, 398.7437323380304], [132, 56.83974316427414, 75.22594027600155, 91.87880607245205, 154.28617058113588], [135, 665.0293964022524, 507.94953751517255, 712.7465037619584, 631.9271348573313], [142, 764.2085234664386, 595.1089061630659, 869.1031604870809, 719.8632532039423], [143, 4.559277852409011, 351.6984138539324, 45.95865782112487, 478.6096344401417], [145, 422.4736763914206, 630.7626218156419, 531.2094457650825, 720.0009415855745]]\n"
          ]
        },
        {
          "output_type": "stream",
          "name": "stderr",
          "text": [
            "0: 384x640 36 persons, 200.3ms\n",
            "Speed: 5.0ms preprocess, 200.3ms inference, 1.6ms postprocess per image at shape (1, 3, 640, 640)\n",
            "\n"
          ]
        },
        {
          "output_type": "stream",
          "name": "stdout",
          "text": [
            "[<deep_sort.deep_sort.detection.Detection object at 0x7f003548b850>, <deep_sort.deep_sort.detection.Detection object at 0x7f003c922500>]\n",
            "<class 'list'> class\n",
            "[[5, 658.7473206798302, 161.74095326830476, 703.490981714636, 271.09086515248043], [20, 1103.5380367728956, 254.0247189549988, 1152.8576143230757, 362.4776049168074], [36, 920.1711251528816, 22.901613150288206, 946.8442237268633, 110.96881450346854], [54, 532.6102649572152, 31.012376685559055, 558.3997111975327, 113.982474812515], [60, 605.2497601549119, 226.01646749146056, 650.2326836122576, 325.0175019580206], [75, 488.3524109787983, 140.38152706716926, 524.4859613822457, 234.4452047551248], [77, 103.72373732112084, 31.037272724636395, 138.33362067563976, 103.84303429471227], [82, 1203.7741374943141, 217.56860531489394, 1257.4844682120217, 326.7233385210096], [94, 708.707313899634, 554.068575351322, 766.8369324615555, 681.4650671466056], [105, 705.1521736707257, 351.6440458877347, 756.2987289499467, 461.6425712781145], [115, 117.425949791308, 637.2357032446916, 178.60395320712828, 720.0431080699376], [116, 83.91799829643308, 523.8819962025283, 145.5022053613988, 645.0901891356178], [117, 737.0889357861023, 112.85785826331822, 771.5594670510907, 191.6879655293829], [118, 472.648540639641, 31.88986585996262, 503.9663483994701, 117.60670206032168], [122, 780.3103070732826, 186.78718098526133, 821.0429346208396, 272.37941171961154], [123, 1086.4354065933292, 453.7486085986, 1150.437156115054, 579.4118091345543], [124, 1089.7128818100214, 564.9561508546878, 1162.1609737002275, 707.5239039514158], [125, 460.54255011893616, 205.8136202317255, 503.00602936789204, 315.6958542397748], [126, 1172.5016344715157, 149.6921828468551, 1221.0155912104572, 252.49093247905884], [131, 374.4439116131187, 299.65251555979097, 429.5798767493471, 404.8616876080217], [132, 57.00422267200873, 74.56058045217017, 92.09151339599538, 154.8628313831818], [135, 665.6379970376613, 504.2263410226316, 710.3978134862999, 619.6796355101475], [142, 765.5751881015804, 587.7595311586203, 871.5694958575875, 719.3154250727201], [143, 6.149321540263436, 354.24057265331567, 49.037817545101205, 481.05970376061265], [145, 418.1036637763893, 625.0172921763633, 530.5568515271173, 719.3755817126744]]\n"
          ]
        },
        {
          "output_type": "stream",
          "name": "stderr",
          "text": [
            "0: 384x640 37 persons, 200.8ms\n",
            "Speed: 2.5ms preprocess, 200.8ms inference, 1.6ms postprocess per image at shape (1, 3, 640, 640)\n",
            "\n"
          ]
        },
        {
          "output_type": "stream",
          "name": "stdout",
          "text": [
            "[<deep_sort.deep_sort.detection.Detection object at 0x7f003548aec0>, <deep_sort.deep_sort.detection.Detection object at 0x7f01681662c0>]\n",
            "<class 'list'> class\n",
            "[[5, 657.9003054711143, 162.39070992503392, 702.7203837795978, 273.0753941810106], [20, 1102.923666597406, 251.99821690761232, 1151.6101238724173, 359.924220354048], [36, 920.0657541471548, 22.993288502126028, 946.9170521586491, 111.63504880744824], [54, 532.4507141287384, 31.015441235315045, 558.5273326590165, 114.64616135980845], [60, 605.1578193087779, 228.48454906997245, 650.4706808900878, 328.0909440797856], [75, 488.5157920721106, 139.78383141114782, 523.4764908695865, 232.2428385548966], [77, 106.25854375226012, 30.903727108946917, 142.24589174385835, 104.10400834915532], [82, 1204.9241178155132, 221.65426068702112, 1259.6004828120444, 332.7914339502041], [94, 704.9194406991489, 557.4108173545072, 765.874297602686, 691.3122261325433], [105, 704.9441972776858, 348.32929252239194, 756.119896760429, 458.01442770324235], [115, 117.47940641581934, 640.4670641939978, 177.48783737912495, 720.0356141495495], [116, 83.60888299310824, 528.4616129687951, 145.92934390647662, 649.3359949600554], [117, 737.5579574560244, 113.96757918632707, 772.0397718683438, 192.941987449692], [118, 472.173519317009, 31.52926622142555, 503.30527142184684, 116.75205662574763], [122, 780.5074890053336, 185.16162186415286, 821.3113240772713, 271.7724247502912], [123, 1088.3043776339848, 457.1733612441599, 1152.7077562545967, 584.020441976003], [124, 1092.1262572989122, 568.3006748699648, 1164.197074666507, 710.265155142843], [125, 461.0818831260324, 204.61219886682153, 501.4272529110963, 309.3719365897736], [126, 1172.8986618390086, 151.00546404034333, 1222.5762700429598, 257.25680775723674], [131, 373.0725637356222, 300.40490485564175, 428.67823319546727, 408.32337880922023], [132, 57.465554184285665, 74.29893010485063, 92.41207421874337, 155.06780941779408], [135, 666.8467930906705, 500.9687019422515, 709.9889435284251, 611.8164936803448], [142, 767.6196431629777, 583.0745320922879, 872.2786214386828, 718.4711582983374], [143, 6.538123421983151, 355.1743082604612, 51.050397116631096, 482.55539894428625], [145, 416.88233310525874, 622.1846592370041, 529.7245513041051, 719.1234213698109]]\n"
          ]
        },
        {
          "output_type": "stream",
          "name": "stderr",
          "text": [
            "0: 384x640 37 persons, 211.4ms\n",
            "Speed: 5.4ms preprocess, 211.4ms inference, 1.6ms postprocess per image at shape (1, 3, 640, 640)\n",
            "\n"
          ]
        },
        {
          "output_type": "stream",
          "name": "stdout",
          "text": [
            "[<deep_sort.deep_sort.detection.Detection object at 0x7f013411be50>, <deep_sort.deep_sort.detection.Detection object at 0x7f003548ace0>]\n",
            "<class 'list'> class\n",
            "[[5, 657.4600551003239, 165.22678241839358, 701.2845502514407, 273.1065820705856], [20, 1102.2401125422655, 250.6570378038747, 1151.0385246192013, 359.0803562616909], [36, 920.0256741740816, 23.024903054333656, 946.947226212358, 111.88606485328046], [54, 532.369898329647, 31.015446918365804, 558.5987424927968, 114.89618019414087], [60, 604.3187518136908, 230.01799930844464, 650.7240553987313, 332.5002575430442], [75, 487.90302864224657, 137.4830788622486, 522.4559475291933, 230.25596375731905], [77, 107.6798730220251, 30.19597898040687, 144.99527128581585, 104.25382821180301], [82, 1205.4234020246756, 224.4838789927963, 1260.272559984458, 336.37702092689784], [94, 702.2299329074294, 559.9291466717016, 766.2335848125193, 700.8507606083093], [105, 704.0353388471281, 345.8739780604666, 756.2276125594959, 457.4826327207213], [115, 118.68548784633117, 642.6760844802847, 177.07457849637098, 720.0964395142482], [116, 82.84992739242787, 533.3575592853873, 147.49259892927233, 657.4554155873334], [117, 737.7802035943295, 115.66742260890084, 772.8263532628903, 196.01346707998925], [118, 471.79229939334226, 30.78258030030139, 503.2649137799662, 117.14593835451777], [122, 780.9482277320553, 183.93576866297445, 821.696973883654, 270.9219537224229], [123, 1090.0372382609562, 460.9591445774423, 1154.370259552398, 588.2304628807616], [124, 1094.5345408489497, 571.3968805857447, 1165.9923495353103, 711.1129284570671], [125, 460.5397281932027, 202.2392031845842, 500.2355792819595, 305.7265082284547], [126, 1173.2930222508357, 153.41561043471435, 1222.8999460267423, 260.33576965738973], [131, 372.5255363163139, 301.94013394794115, 427.7306975814801, 410.88008171634647], [132, 57.30138856127265, 74.84701658738751, 91.53185290434422, 154.47254143572533], [135, 667.147715128789, 497.88857304862785, 710.0356412805902, 607.794858971521], [142, 769.935029536036, 578.1855084656682, 871.6764325545196, 714.9674579868044], [143, 6.839021742425924, 356.79452436914465, 53.570567354213324, 486.3084055497989], [145, 416.3581833602933, 618.6697704008909, 530.0134745945242, 719.0220145865461]]\n"
          ]
        },
        {
          "output_type": "stream",
          "name": "stderr",
          "text": [
            "0: 384x640 41 persons, 198.7ms\n",
            "Speed: 5.7ms preprocess, 198.7ms inference, 2.0ms postprocess per image at shape (1, 3, 640, 640)\n",
            "\n"
          ]
        },
        {
          "output_type": "stream",
          "name": "stdout",
          "text": [
            "[<deep_sort.deep_sort.detection.Detection object at 0x7f003548af20>, <deep_sort.deep_sort.detection.Detection object at 0x7f0168166e30>]\n",
            "<class 'list'> class\n",
            "[[5, 657.0095246863384, 166.25185797551725, 700.3752567008568, 273.02267224236476], [20, 1101.2663875868557, 249.5664670195205, 1150.312767701807, 358.8613307655295], [36, 920.010431901888, 23.033808433314817, 946.9610998221748, 111.97973460436907], [54, 532.3211316380201, 31.014312415935407, 558.646614223568, 114.9889321157933], [60, 603.9436147803239, 231.20159978038413, 650.8941461186602, 335.41704398352465], [75, 486.96232106339284, 135.37010858302352, 521.5116382308136, 229.58010832851062], [77, 110.51854395299829, 31.277733680864756, 147.497625009109, 103.02490473627931], [82, 1206.3744759356434, 226.8084689514592, 1260.983889563046, 338.9704168431258], [94, 700.6655789214608, 562.7589054920765, 765.7620876149705, 706.3851521221144], [105, 703.2490318998539, 344.39030648397704, 756.0647802701394, 457.3970761714801], [114, 876.5620610894362, -0.21034424674367358, 904.6425746171527, 69.73412191611848], [116, 80.88290275895498, 536.385535226902, 148.51053887363884, 665.6327173137307], [117, 737.8698219492755, 116.92832412093549, 773.1076120742774, 197.78584357044002], [118, 471.6260953629992, 29.656439798297562, 503.1093922854401, 116.04925780130012], [122, 781.9549603148602, 182.86264611621252, 822.3117723346045, 269.3230330118969], [123, 1091.3539054682187, 464.23369416220373, 1155.5066158683662, 591.6321482986212], [124, 1098.1323912266087, 575.7202698526619, 1167.824162046651, 709.9075078763262], [125, 460.89164711409126, 200.10020305106372, 499.92616577932614, 301.79885646169464], [126, 1173.6582502140013, 155.60397039195664, 1222.767125488797, 262.1065717549195], [131, 372.0443677112402, 303.7817750725486, 427.0207824108797, 413.73347179585136], [132, 57.060921712777045, 75.04409395168989, 91.34982075980334, 154.89656156716268], [135, 666.9453043026589, 494.869862801893, 711.0796388163008, 608.5133370366117], [142, 772.3516696952986, 573.8516932135801, 869.905152356301, 709.7381389280395], [143, 6.7985259309482196, 357.37092006769177, 55.93263993832153, 489.6124263923044], [145, 416.68616951686124, 615.4956991712069, 530.2089559642945, 718.9833235576414]]\n"
          ]
        },
        {
          "output_type": "stream",
          "name": "stderr",
          "text": [
            "0: 384x640 39 persons, 205.5ms\n",
            "Speed: 5.1ms preprocess, 205.5ms inference, 1.6ms postprocess per image at shape (1, 3, 640, 640)\n",
            "\n"
          ]
        },
        {
          "output_type": "stream",
          "name": "stdout",
          "text": [
            "[<deep_sort.deep_sort.detection.Detection object at 0x7f003548b850>, <deep_sort.deep_sort.detection.Detection object at 0x7f003548aec0>]\n",
            "<class 'list'> class\n",
            "[[5, 656.8566160206691, 166.58193532103775, 700.041742460052, 272.9251863764339], [20, 1100.7599620570393, 248.56677595253097, 1150.274763754556, 358.86851629286707], [36, 920.0902664892417, 23.034355187732757, 946.8828861510152, 111.35254622448474], [54, 532.3746861849982, 31.01288171917019, 558.595109993023, 114.36137346757891], [60, 604.0286094063046, 232.2507747927991, 651.4038111978128, 337.7756716088636], [75, 486.00778747966564, 133.310035342358, 520.4782007716148, 228.71540548731986], [77, 111.85930607434148, 31.029925124194804, 149.23995125666715, 102.62325634244921], [82, 1207.2130624946142, 229.58994603326903, 1261.347439105318, 341.17653566696083], [94, 700.4037825230065, 565.715750974112, 766.056528603869, 709.6887329427016], [105, 702.1487668677817, 342.6103906659961, 756.1592038089933, 458.8073826399071], [114, 876.1244721635476, -0.27698278059443737, 904.1956224761648, 69.64379454781427], [116, 79.06128119467063, 540.0242533463406, 148.08319889537057, 671.2239513492729], [117, 738.1614123249306, 118.02309426203539, 773.6020224434409, 199.723727493806], [122, 782.646935838342, 181.18921078267388, 822.8878891629614, 267.43504926684807], [123, 1093.125896720092, 466.6562691309165, 1157.7972354389296, 596.0374535496143], [124, 1100.6552055440527, 577.8431158209155, 1169.8723485439455, 709.2328263509874], [125, 460.8427771448818, 198.71529935590945, 499.33477164396726, 299.09568957855186], [126, 1174.3678725168515, 158.35650761354552, 1222.7624456586368, 264.02002912960063], [131, 371.66145219473896, 306.39165568269664, 425.6817936554639, 416.048622317283], [132, 56.97472811556146, 75.10788004739543, 91.26582219648884, 155.04692685711126], [135, 667.3176159635802, 492.53026776390084, 711.7017559145536, 607.5597643184303], [142, 774.6761276683894, 569.0988160117219, 867.1466045513137, 701.88173235543], [143, 7.162158174367036, 360.799300645151, 57.04836777132219, 490.79315564610704], [145, 417.3721106904985, 613.7213432458398, 529.7218947417136, 719.6010444444729]]\n"
          ]
        },
        {
          "output_type": "stream",
          "name": "stderr",
          "text": [
            "0: 384x640 39 persons, 204.4ms\n",
            "Speed: 2.9ms preprocess, 204.4ms inference, 1.6ms postprocess per image at shape (1, 3, 640, 640)\n",
            "\n"
          ]
        },
        {
          "output_type": "stream",
          "name": "stdout",
          "text": [
            "[<deep_sort.deep_sort.detection.Detection object at 0x7f0168166e30>, <deep_sort.deep_sort.detection.Detection object at 0x7f003548ace0>]\n",
            "<class 'list'> class\n",
            "[[5, 657.0373694064428, 167.31414288396763, 699.7031725919157, 272.16653432745136], [20, 1099.1589054441654, 246.93739027175957, 1149.1183342446325, 358.29111173263675], [36, 919.743299290135, 23.03185077838691, 946.5699333739738, 111.775888146711], [54, 531.9937304442278, 31.01138989072939, 558.3169015696141, 114.12110404445698], [60, 604.8969179364033, 235.86696416255776, 652.0887833043616, 341.22353179939057], [61, 1109.1991378588946, 43.774198681830484, 1138.2588958570068, 115.8943974165986], [75, 485.37224652893497, 131.92442946103876, 518.4280465697489, 223.84322377054096], [77, 113.57178007641357, 31.615791586457135, 150.4824830827347, 101.84572353191945], [82, 1208.1891305682334, 231.670165066572, 1262.5320547633594, 343.68455879449454], [86, 1140.1815460657388, 77.06376158052201, 1183.6324370017692, 170.23641702629698], [94, 697.8936419619301, 570.6667810138122, 764.219247300298, 714.6920640756213], [105, 701.8206135346056, 340.709560520013, 756.1218527091394, 458.1150399850568], [115, 123.96237559459058, 649.9395359542235, 178.61580918320425, 720.0242006935708], [116, 76.63632015540816, 544.5497242276409, 147.75790311788705, 679.7523948776658], [117, 738.5555869765324, 121.0220266128476, 773.4941919901911, 201.7209600754922], [118, 471.9324592803719, 29.594102711498806, 502.0819319719795, 112.2901962702984], [120, 609.3410931211281, 38.81958156298381, 636.8458005278169, 126.76648216357509], [122, 782.7418404079104, 178.62777795657348, 821.9390874089893, 262.8051750328598], [123, 1097.020536045257, 471.3745322302034, 1161.1918353163317, 600.1760425776672], [124, 1105.5273610789939, 583.8375959849371, 1171.9011420117602, 707.5065381466154], [125, 460.4534839945878, 196.27191325511552, 498.8289751641061, 296.1862761323355], [126, 1174.8471470331092, 160.6604168594943, 1223.8331443956822, 268.62919117439674], [131, 371.6310533777107, 309.95574368825106, 423.7832359574283, 416.84496593932545], [132, 56.28421806730539, 75.12156360739733, 90.55848128588056, 155.09441409371522], [135, 666.9222546955833, 488.47043974130935, 711.8529067130802, 606.6923091861968], [142, 775.6784791497947, 561.5675367678043, 864.6246369696016, 692.9774818256774], [143, 6.649840157333426, 358.78332367309673, 58.04661871685485, 489.80737127368263], [145, 419.76929892182415, 609.3436002180588, 532.4636061971185, 719.8507099821836]]\n"
          ]
        },
        {
          "output_type": "stream",
          "name": "stderr",
          "text": [
            "0: 384x640 38 persons, 1 backpack, 287.4ms\n",
            "Speed: 4.8ms preprocess, 287.4ms inference, 2.0ms postprocess per image at shape (1, 3, 640, 640)\n",
            "\n"
          ]
        },
        {
          "output_type": "stream",
          "name": "stdout",
          "text": [
            "[<deep_sort.deep_sort.detection.Detection object at 0x7f003548aec0>, <deep_sort.deep_sort.detection.Detection object at 0x7f00354f73d0>]\n",
            "<class 'list'> class\n",
            "[[5, 656.6614344742404, 169.5271129146284, 698.7187781680701, 272.48126439056927], [20, 1097.4383115515168, 245.06818649721015, 1147.9021173463705, 357.48512528092385], [36, 919.6394088806916, 23.02887641036167, 946.4286733478771, 111.9346980410019], [54, 531.8047694539977, 31.010066317913825, 558.2606445922589, 114.03115408463044], [60, 605.1724595018391, 238.50755577637563, 653.0804648751148, 345.7509812609046], [61, 1108.5815678661452, 44.165134375310636, 1137.616000153254, 116.87207564641378], [75, 484.53241898961414, 130.80455500813255, 516.9575829635235, 220.70030829443138], [77, 114.50496035504025, 31.841812559072892, 151.09427846522388, 101.6052439745847], [86, 1139.898966613843, 78.00842369479918, 1184.1986356103523, 171.77149243899186], [94, 698.5397105978003, 574.4365226018849, 760.7462714945493, 707.3458933684659], [105, 701.3655825878948, 339.4221285040314, 755.7992261554109, 457.9443505789858], [115, 125.48354921834495, 652.2198396673624, 178.3847525596539, 720.0564949147154], [116, 74.58261009343533, 548.1110345183213, 146.87742393798928, 685.4694534912213], [117, 739.1343173705606, 122.78143378344188, 774.3308542684424, 204.4048250582379], [118, 471.872065286121, 28.90397030558338, 502.031827494985, 111.70658397745083], [120, 609.0593149118608, 39.90426002803095, 636.5174763017516, 127.99359947545746], [122, 782.0782127126938, 177.05057777150927, 820.2601131629026, 259.76716683390384], [123, 1100.7441714456254, 475.6701083749104, 1163.3940762599912, 601.5820286526625], [124, 1108.4344328275877, 587.2403251947734, 1175.458952253306, 710.082203244588], [125, 460.2945427444192, 194.77161337757593, 498.6691655866311, 294.53739209640247], [126, 1174.920142362068, 162.13006011502767, 1224.3140141527485, 271.60523743582144], [131, 371.6325926666099, 311.911830214268, 422.4322294061027, 417.0416955430339], [132, 56.02757483064718, 75.11724811174449, 90.27949363917315, 155.10355012027264], [135, 666.4749743957317, 485.7316510183795, 711.5744449747037, 606.4729443744159], [142, 777.1136672503796, 558.201093805349, 863.884159326654, 689.6306193445054], [143, 6.5128975920425205, 358.6381202952381, 58.965221960454386, 490.01601119915216], [145, 421.7448096903208, 607.0810204762488, 532.5093617680855, 719.9495744792239]]\n"
          ]
        },
        {
          "output_type": "stream",
          "name": "stderr",
          "text": [
            "0: 384x640 36 persons, 260.8ms\n",
            "Speed: 8.6ms preprocess, 260.8ms inference, 1.9ms postprocess per image at shape (1, 3, 640, 640)\n",
            "\n"
          ]
        },
        {
          "output_type": "stream",
          "name": "stdout",
          "text": [
            "[<deep_sort.deep_sort.detection.Detection object at 0x7f013411be50>, <deep_sort.deep_sort.detection.Detection object at 0x7f003548b850>]\n",
            "<class 'list'> class\n",
            "[[5, 656.3609720845777, 170.90918707895656, 698.3269715539245, 273.64160983441343], [20, 1096.5396910993827, 243.1081762690465, 1147.1145091820638, 355.92942489343676], [36, 919.6250220287492, 23.02575466824004, 946.3547994783537, 111.99342372910536], [54, 531.6932155087163, 31.008889384906553, 558.2844734164057, 113.99845661044313], [60, 605.4412902312313, 240.10492697922098, 653.2941414816411, 347.3931906756775], [61, 1108.5968487523905, 44.309278361615455, 1137.874895617257, 117.8527767714176], [75, 483.8380615508253, 129.1104975537732, 516.181426673668, 218.26927548605764], [77, 114.9253045659528, 31.928045314378195, 150.39401326503344, 100.88486583762092], [82, 1210.2529725841418, 234.29121905713674, 1263.9128805363123, 344.74778948298274], [86, 1139.7063923104283, 76.9998108063341, 1185.8177951633033, 174.26856877853515], [94, 697.7147871711587, 577.7572513486831, 758.0421340956553, 705.5127857607703], [105, 700.9163015731518, 337.05105733515796, 755.9696838314657, 457.95884394495147], [116, 73.21013168653977, 551.8567177071949, 146.07959994580483, 690.3055392422052], [117, 739.5057249499127, 124.0549610475804, 774.4767839178847, 205.36103591324522], [118, 471.8594736412582, 28.006286041881843, 502.0067028846931, 110.84252001569845], [120, 609.2740170361261, 40.799909165527254, 636.831490283709, 129.20807956982904], [122, 781.5236121154695, 175.85436225883416, 819.2649901238304, 258.02936470998486], [123, 1103.28306695995, 478.4714018582539, 1164.914132760778, 602.5838009041016], [124, 1109.6755344763862, 591.0307138155672, 1179.0896185420866, 716.9740964832522], [125, 460.1135997589071, 192.95572796329105, 498.74639662235114, 293.35559804481164], [126, 1175.1337020597493, 163.9373435966547, 1224.2762186906282, 273.31708660974334], [131, 371.40036425823075, 312.5770368027216, 421.54205820845823, 417.0324603373231], [132, 55.9370007879264, 75.10718707844283, 90.16604523758656, 155.09905181985158], [135, 666.4229416938896, 484.14814910335843, 711.3718783342323, 606.5015923742658], [142, 777.3198677125215, 553.8198629187619, 863.919184795383, 688.4282109963744], [143, 7.111169694112267, 359.57779108094513, 59.96146597080231, 491.95198107804754], [145, 423.37834297158383, 603.7738337787129, 532.9317092959864, 719.9888771768939]]\n"
          ]
        },
        {
          "output_type": "stream",
          "name": "stderr",
          "text": [
            "0: 384x640 36 persons, 287.1ms\n",
            "Speed: 8.0ms preprocess, 287.1ms inference, 2.0ms postprocess per image at shape (1, 3, 640, 640)\n",
            "\n"
          ]
        },
        {
          "output_type": "stream",
          "name": "stdout",
          "text": [
            "[<deep_sort.deep_sort.detection.Detection object at 0x7f00354f53c0>, <deep_sort.deep_sort.detection.Detection object at 0x7f00354f4310>]\n",
            "<class 'list'> class\n",
            "[[5, 654.9523362289239, 172.06273656023475, 697.4775244711009, 275.74194573915213], [20, 1095.2910084991936, 241.1139012307156, 1145.8369638317065, 354.74491419157397], [36, 919.6426202267301, 23.022813451524826, 946.3087063970455, 112.01384431656862], [54, 531.6149753155496, 31.00784277504443, 558.3346367186134, 113.9874978412603], [60, 606.0055641966977, 241.95855983364515, 654.2285740067343, 349.8965929200473], [61, 1108.2594293738002, 45.00431439271983, 1137.5455531476966, 118.57124129825746], [75, 483.15747016990576, 127.87153364275508, 516.3709463420332, 218.10761962645398], [77, 115.91901420555078, 31.291287995283447, 151.1301457085209, 101.32845222909643], [82, 1211.8156555618718, 235.38403593698152, 1265.6320082059165, 345.5885061725427], [86, 1139.8915015084003, 77.74659219774733, 1186.22387457621, 175.48145197458626], [94, 696.3901031596172, 580.2064834609841, 756.2102550438264, 706.0847052903002], [105, 700.8847064769316, 334.9191706356244, 755.9113946458131, 456.72104172035415], [117, 739.6628566557835, 125.14372514577289, 774.4970621302208, 206.3178171116649], [118, 471.768661601679, 27.119757874909943, 501.82229665286513, 109.69896985724674], [122, 781.7762409724584, 175.46434196968397, 819.1023453317418, 256.7802737519107], [123, 1105.6883655526274, 480.042218036744, 1166.514179480704, 602.1403827065423], [124, 1111.0938264209392, 594.9582022562236, 1180.6543796973347, 720.0772414189777], [125, 459.93598618482264, 191.02086368393466, 498.8989472300389, 292.339793948722], [126, 1175.7890752659418, 165.87601905068152, 1224.306492983629, 273.88021082237094], [131, 371.59124082669257, 313.4237476473778, 420.9761971612785, 416.295012177273], [132, 55.90948812352919, 75.09593667937793, 90.11687215067704, 155.09028184084087], [135, 666.7212348266248, 482.3522257058983, 711.0000109299865, 604.6545171512074], [142, 777.8560073201904, 550.3432926731917, 864.1029172981372, 688.0358389217786], [145, 424.58342280085355, 600.6737531252975, 532.513541876848, 720.0038108887397]]\n"
          ]
        },
        {
          "output_type": "stream",
          "name": "stderr",
          "text": [
            "0: 384x640 36 persons, 210.2ms\n",
            "Speed: 7.8ms preprocess, 210.2ms inference, 1.9ms postprocess per image at shape (1, 3, 640, 640)\n",
            "\n"
          ]
        },
        {
          "output_type": "stream",
          "name": "stdout",
          "text": [
            "[<deep_sort.deep_sort.detection.Detection object at 0x7f01681645b0>, <deep_sort.deep_sort.detection.Detection object at 0x7f003548af20>]\n",
            "<class 'list'> class\n",
            "[[5, 654.3233286926724, 173.81191805094363, 697.5361715799527, 279.02899530409906], [20, 1094.6539871268221, 240.4233768979969, 1144.2851028121029, 353.0414924753898], [36, 919.3877277810525, 23.020155273291756, 945.8969207646778, 112.01976892400901], [54, 531.5528310196271, 31.006915331965693, 558.390952030861, 113.98469929227605], [60, 606.5476853602862, 243.25519057483507, 654.2534603973783, 350.1095521519326], [75, 483.48501229938034, 126.7986836376341, 516.5681942752944, 215.46268345253804], [77, 118.57638397354269, 31.72326548724454, 152.97356195599866, 101.51782761276073], [82, 1213.5104248580424, 237.07671154758012, 1267.0351846238643, 345.20425701156324], [94, 693.6307393066296, 583.0101273961593, 755.2760146028292, 713.559907558091], [105, 701.0316659417709, 332.8794920574458, 755.7481842902969, 454.34975022600145], [117, 740.5169924082584, 126.16355177642524, 775.0117011010561, 206.62023882611368], [118, 472.5529523746967, 26.050556952171718, 502.08195239849834, 107.33716665005568], [122, 781.3636507628048, 174.7105256742127, 818.8882096571687, 256.38112459019317], [123, 1107.8900498108978, 483.4435707718604, 1168.6735876770022, 605.4563014724242], [124, 1111.8389656833324, 598.2712255958514, 1180.834708036407, 721.104543594678], [125, 459.26837613708324, 190.363486301187, 498.9087208244589, 294.0251388086301], [126, 1176.3100830721564, 166.54338294576803, 1224.671264514328, 274.0011048590806], [131, 371.4418577020751, 314.3378387160555, 420.37009219551163, 415.9424402140162], [132, 55.90549137852509, 75.08511568405851, 90.09294855071388, 155.0807146953236], [133, 379.43041993173625, 239.99206045815205, 423.5536759317548, 328.9172255780096], [135, 667.2260570356345, 480.47150831386, 710.4911828356122, 601.418980099436], [142, 778.353675462216, 547.86392128021, 863.8620811189569, 687.9590027077749], [145, 425.3110516706798, 597.0198564952756, 532.0666560799484, 720.0090258172442]]\n"
          ]
        },
        {
          "output_type": "stream",
          "name": "stderr",
          "text": [
            "0: 384x640 36 persons, 1 dog, 197.4ms\n",
            "Speed: 2.6ms preprocess, 197.4ms inference, 1.8ms postprocess per image at shape (1, 3, 640, 640)\n",
            "\n"
          ]
        },
        {
          "output_type": "stream",
          "name": "stdout",
          "text": [
            "[<deep_sort.deep_sort.detection.Detection object at 0x7f003548aec0>, <deep_sort.deep_sort.detection.Detection object at 0x7f003548bdc0>]\n",
            "<class 'list'> class\n",
            "[[5, 653.7510286852915, 175.73183158673567, 697.91824527769, 283.47319704307006], [20, 1092.7227327671224, 238.25183496851966, 1141.5116120655246, 349.81570222278117], [36, 919.3359665514063, 23.01778876616188, 945.7017342251879, 112.02034344184239], [54, 531.49986736914, 31.006095925833513, 558.446047642163, 113.98486890584505], [60, 606.794285370436, 244.33566804020316, 654.215553098124, 350.09331781503556], [75, 484.10346655999933, 125.7930495311186, 517.5467017325418, 213.2055540507859], [77, 122.81181475852104, 31.22493776804344, 156.93807563972345, 100.95560915929383], [82, 1217.106951559017, 238.96803217277449, 1269.83688803319, 344.31538593748223], [94, 689.5372228334157, 587.2535099974262, 750.8890468554256, 718.8609906549727], [105, 700.8349897945569, 328.9024463286336, 754.6408216630318, 448.9088154191795], [116, 68.49596097196391, 562.1371197944339, 138.35386424707286, 696.2303035483393], [117, 740.4615205089102, 126.4952320262574, 774.903962977062, 206.67400332183303], [118, 472.13252988297455, 22.99782805656824, 502.0272908688666, 105.33663681726543], [122, 780.6906322368117, 173.15010301119716, 818.6699718807547, 255.62552190288858], [124, 1114.3234900661041, 605.371303513335, 1180.5173153185308, 721.3453385022191], [125, 458.5857459009536, 188.2082425378705, 498.6982695388039, 294.06940639217476], [126, 1176.7235219373515, 167.39240444940285, 1224.5596981548163, 273.31124079631456], [131, 370.89945930655375, 315.94905349084434, 420.6747652253974, 418.41597759741086], [132, 55.90987837039191, 75.07523566401733, 90.07920972482248, 155.07158092950124], [133, 379.5229906099144, 242.44310171662846, 422.7196926662476, 330.9220810147575], [135, 667.6396726191249, 473.9282678069669, 710.7591437514784, 596.3239617248594], [142, 779.0427055076972, 543.1811700485988, 864.5440980679961, 687.354244667718], [143, 14.889805810401125, 362.926852638425, 69.39502721396585, 492.6984801229513], [145, 424.35947525397523, 590.6008899072615, 531.8278979245349, 720.0104320529713]]\n"
          ]
        },
        {
          "output_type": "stream",
          "name": "stderr",
          "text": [
            "0: 384x640 37 persons, 183.9ms\n",
            "Speed: 2.5ms preprocess, 183.9ms inference, 2.2ms postprocess per image at shape (1, 3, 640, 640)\n",
            "\n"
          ]
        },
        {
          "output_type": "stream",
          "name": "stdout",
          "text": [
            "[<deep_sort.deep_sort.detection.Detection object at 0x7f01681645b0>, <deep_sort.deep_sort.detection.Detection object at 0x7f00354f5570>]\n",
            "<class 'list'> class\n",
            "[[5, 653.2986127116642, 177.18927251460366, 697.6100779373331, 285.284334967096], [20, 1091.3467450276153, 236.17497370658003, 1139.219600678708, 346.0150871647603], [36, 919.3578639298033, 23.01569342871013, 945.5932957239007, 112.01906056555251], [54, 531.4531496353994, 31.00537318186003, 558.497436636396, 113.98603111889284], [60, 607.0555632243705, 245.99942414260056, 653.3624228506746, 348.6823832722098], [75, 484.1366458809083, 124.80758542148465, 518.1501901964115, 211.7723042133133], [77, 126.60407350126391, 31.706242507753792, 160.7153777247727, 100.77057076724691], [82, 1217.9731082431306, 240.26506455308328, 1271.2592710401746, 345.9187840668352], [94, 687.3713432302543, 590.0815326233135, 747.3235088569551, 719.4486070085053], [105, 702.1018014146391, 326.82279256033047, 752.8948011002936, 439.64421998755824], [115, 131.38692393133385, 656.3161357334423, 183.41890239040728, 720.0090412818331], [116, 66.90145461564092, 566.6335786414234, 137.8425842809301, 704.9604376673832], [117, 740.2519019023441, 127.23365163703181, 774.370250338297, 206.64372895854473], [118, 471.8902575681523, 21.286502242031226, 502.1062738889698, 104.65538055971038], [122, 780.721467482075, 171.9494181654017, 819.632327688262, 256.055103314121], [123, 1111.8945393970116, 495.1270672179001, 1173.1488244749314, 617.1030752459449], [124, 1116.0543791708758, 609.8590046261743, 1180.7439802221193, 721.2689632298866], [125, 458.3366072280787, 186.1407116444685, 498.6195380264435, 292.83850601864077], [126, 1177.2330143839843, 168.31010731867806, 1224.792750366703, 272.973927673747], [131, 370.7834478428032, 319.80439384409675, 421.3984825326438, 422.5971692190132], [132, 55.634448522430155, 75.0663986234496, 89.69132359419973, 155.063263462352], [133, 379.56199346186247, 244.60769651124878, 422.4227986081913, 333.5835323969907], [135, 668.0038774695582, 470.2544093512131, 710.0079289300569, 590.5579481270195], [142, 779.3524359054503, 538.9281580574328, 863.4562751108319, 684.5979565229736], [143, 17.23358516277415, 369.52010837548903, 72.54496162845804, 494.7456649857826], [145, 424.43699397805165, 585.6399049264096, 531.2602392389197, 720.0105000696426]]\n"
          ]
        },
        {
          "output_type": "stream",
          "name": "stderr",
          "text": [
            "0: 384x640 37 persons, 183.5ms\n",
            "Speed: 7.5ms preprocess, 183.5ms inference, 1.7ms postprocess per image at shape (1, 3, 640, 640)\n",
            "\n"
          ]
        },
        {
          "output_type": "stream",
          "name": "stdout",
          "text": [
            "[<deep_sort.deep_sort.detection.Detection object at 0x7f00354891b0>, <deep_sort.deep_sort.detection.Detection object at 0x7f003548b850>]\n",
            "<class 'list'> class\n",
            "[[20, 1090.258356578544, 233.46970727040386, 1137.7046404345922, 342.66585946800194], [36, 919.320453438685, 22.353160953274845, 945.6048902021511, 112.0172402094071], [54, 531.4112977373296, 31.00473617074966, 558.5444772095643, 113.98744425905252], [60, 607.5952759810098, 247.21972184280764, 653.257024119806, 348.0633497454943], [75, 483.0117487141821, 123.82650494562823, 517.5397788061923, 210.6445042328134], [77, 129.6084481749032, 31.890388859712083, 163.70319622943765, 100.06068917862223], [82, 1218.338683160303, 242.01250697836667, 1272.3118096222674, 349.11921444344034], [94, 687.1107260335965, 592.3516591529842, 743.6055179937658, 714.195385206933], [105, 702.036160784173, 324.1406733994539, 752.1294461445552, 434.8830645037258], [115, 132.88533325054752, 657.878261484585, 183.65172204253366, 720.0207960679378], [116, 65.4355310968061, 570.1306652738232, 137.91429574284052, 713.7632699981551], [117, 739.8230587475636, 127.46353210748521, 774.5002074955197, 207.9104521723088], [118, 471.8146492698694, 20.025366770512186, 502.1264371624881, 103.78644991387995], [122, 781.37561857104, 170.88367814546984, 820.6733200847042, 254.94999585816137], [123, 1113.899722560271, 499.6941522084458, 1175.2199960325083, 620.2948842524772], [124, 1117.8219953723176, 614.7087386717355, 1180.8936976674715, 721.1347423940479], [125, 458.38492520177164, 184.10705044565034, 498.4615829637669, 291.1152467576952], [126, 1177.461674728465, 168.59407560836308, 1224.8110373375002, 272.12176189581095], [131, 369.8943091128454, 319.8779628861781, 423.21613655887825, 427.4250879641187], [132, 55.681278091487144, 75.05856159490742, 89.3958239489867, 154.39491696157296], [133, 379.69388270463463, 246.03230293311546, 422.20339788768973, 335.1801515398282], [135, 669.6069497985909, 468.33073794133344, 709.5991782380227, 583.8371387747846], [142, 780.6203567632942, 534.8442499724853, 862.50395480041, 680.3448760409457], [143, 18.748393965804652, 371.0828918001631, 74.04614277289076, 496.27693002597067], [145, 425.487058787027, 581.8830327715677, 530.6227841830621, 720.0099154585567], [150, 153.2197665754788, -0.016766607164449, 182.58834892030586, 58.0]]\n"
          ]
        },
        {
          "output_type": "stream",
          "name": "stderr",
          "text": [
            "0: 384x640 37 persons, 1 backpack, 213.0ms\n",
            "Speed: 3.7ms preprocess, 213.0ms inference, 2.0ms postprocess per image at shape (1, 3, 640, 640)\n",
            "\n"
          ]
        },
        {
          "output_type": "stream",
          "name": "stdout",
          "text": [
            "[<deep_sort.deep_sort.detection.Detection object at 0x7f003548aec0>, <deep_sort.deep_sort.detection.Detection object at 0x7f0168166e30>]\n",
            "<class 'list'> class\n",
            "[[5, 652.5369583764568, 180.85658248210294, 697.3649892562967, 289.82495738350985], [20, 1089.2647627881856, 231.86376082185774, 1135.8340029184437, 338.83655391232634], [36, 919.1496008547273, 22.762029958380197, 945.1132214663472, 112.01545871101305], [54, 531.465778776309, 31.004174857006127, 558.4949800888287, 113.3278177905843], [60, 607.613177369884, 247.60793554031932, 653.3943785127358, 348.4458028523103], [75, 482.90754407182504, 122.84573030147206, 518.3528130969878, 210.2934550270563], [77, 133.2885567728008, 31.292065954765924, 168.74866992646636, 100.48851379122067], [82, 1220.2759191985547, 244.5859147309875, 1275.4343645371616, 354.22555914570523], [94, 684.5385322011175, 595.0773421737935, 741.5380678091094, 718.8186756419457], [105, 701.7953784815368, 321.23627704271445, 751.4153019906176, 430.57683928835513], [116, 64.85162296331876, 574.5947755878773, 136.74248957682403, 718.9143608854035], [117, 739.6666375841241, 128.83130901603775, 775.1937302077521, 210.9827792000329], [118, 471.73966485460244, 18.807824379744112, 502.044732923639, 102.55053104051234], [122, 781.0937969295636, 170.53031170394996, 820.2895022590766, 253.91825123299594], [123, 1114.924885709034, 503.2226038265657, 1178.2174263287857, 626.0211953648483], [124, 1118.9365441951277, 618.3172170264826, 1180.994923780704, 720.9792648551731], [125, 459.58512111388427, 184.05856722981196, 498.54865791211483, 287.88805659098944], [126, 1177.485083116743, 171.30531759596718, 1224.8491902509045, 273.7467640720183], [131, 369.46996702025064, 321.8149972214075, 424.00384695221703, 431.13289921637585], [132, 55.87988392199986, 74.38817686293724, 89.77047807300411, 154.13857979789623], [133, 379.8258094928483, 247.17494075908834, 422.04927291779336, 335.7121047797392], [135, 670.60563998141, 465.0768616538213, 709.0689906268451, 576.7521266524793], [142, 781.8371772583113, 529.5231474347315, 861.3879411735143, 674.2029682129642], [143, 22.801751171802607, 380.0092248756888, 77.88101323910388, 497.95918032565805], [145, 426.5493652342456, 577.9786525820904, 529.7043039435476, 719.3736142838759], [150, 153.51517737762603, -0.19976550293038997, 182.9763951999484, 58.0]]\n"
          ]
        },
        {
          "output_type": "stream",
          "name": "stderr",
          "text": [
            "0: 384x640 36 persons, 2 backpacks, 184.8ms\n",
            "Speed: 5.9ms preprocess, 184.8ms inference, 1.9ms postprocess per image at shape (1, 3, 640, 640)\n",
            "\n"
          ]
        },
        {
          "output_type": "stream",
          "name": "stdout",
          "text": [
            "[<deep_sort.deep_sort.detection.Detection object at 0x7f01681645b0>, <deep_sort.deep_sort.detection.Detection object at 0x7f00354f5060>]\n",
            "<class 'list'> class\n",
            "[[5, 652.2447982757361, 182.1239741800385, 697.4960870083872, 291.911931684793], [20, 1087.8739870396391, 230.00619690605046, 1134.2611986548036, 336.15759939193845], [36, 919.0580409324463, 22.258070444165305, 944.9596646668231, 112.0136409355276], [54, 531.4584914536566, 31.003656938147444, 558.5070371390331, 113.07978924976892], [60, 606.9436697679752, 248.36180113671278, 653.4508738505663, 350.5378107516798], [75, 482.56707543907726, 121.86286760820514, 518.9836733873627, 210.88599806583392], [77, 136.00668092237672, 31.214030800255948, 171.25963391154048, 100.0051743170695], [82, 1221.4032373057128, 246.8094565465821, 1278.0976116708896, 359.3738078574531], [94, 682.7047041809024, 597.3182894776429, 739.1538649016954, 720.4190841033314], [105, 701.5455827076785, 319.5899426995174, 750.663704090414, 427.1015075345697], [116, 65.46696313062776, 578.1354218607302, 136.204146761667, 721.3611541403407], [117, 739.3569523283487, 129.96883177502502, 775.6975586227084, 213.41671224916712], [122, 780.6124920702692, 169.12352866789888, 819.8537180386078, 252.91393732435978], [123, 1115.5354081705452, 507.7086409467054, 1180.9493930265903, 633.2924011782202], [124, 1121.1725850277091, 622.8521179831242, 1181.800889114736, 720.8401538076957], [125, 459.91841585809715, 182.13236591307214, 498.72627261313426, 286.061172386909], [126, 1177.461201135941, 173.59693069902852, 1225.5337317870603, 276.97370835569956], [131, 369.5133780404162, 323.8073373892241, 424.77962585130734, 433.79313503711745], [132, 55.79309095630707, 74.79515264693126, 89.41475724644509, 154.04234669707103], [133, 380.14140232204824, 248.87050643281552, 421.73612143008137, 336.49673493492355], [135, 670.8397841059459, 461.9876925396618, 708.3406658137001, 570.9261324689471], [142, 783.5136411663998, 525.6832095039118, 859.0755594343301, 665.3766099411982], [143, 24.434116605234586, 383.50549599256163, 81.02708395809293, 499.8498209421441], [145, 428.18847658695626, 574.0145829244576, 528.1025125342893, 716.5717533485298]]\n"
          ]
        },
        {
          "output_type": "stream",
          "name": "stderr",
          "text": [
            "0: 384x640 37 persons, 1 bird, 1 backpack, 211.6ms\n",
            "Speed: 2.8ms preprocess, 211.6ms inference, 2.4ms postprocess per image at shape (1, 3, 640, 640)\n",
            "\n"
          ]
        },
        {
          "output_type": "stream",
          "name": "stdout",
          "text": [
            "[<deep_sort.deep_sort.detection.Detection object at 0x7f003548bca0>, <deep_sort.deep_sort.detection.Detection object at 0x7f003548b850>]\n",
            "<class 'list'> class\n",
            "[[5, 650.5327348761372, 183.8729515821492, 695.8612963209007, 293.283539420853], [20, 1085.0135308886738, 226.71944840823662, 1132.1233460295791, 333.919973795479], [36, 919.1499964741487, 22.728197556411573, 944.7829789965308, 111.35295000404355], [54, 531.1461429757308, 31.003217604165272, 558.1608809276702, 112.99033339221698], [60, 605.4466075024981, 251.23517936255308, 653.3935434395031, 357.22054025793034], [75, 481.98010007742994, 119.56131513077075, 519.0406062985597, 209.18563699075872], [82, 1220.1323143181687, 251.50866928170836, 1276.1514172751533, 361.9189355148545], [86, 1138.919157118055, 84.90105763482632, 1184.4350974801084, 180.19396589816466], [94, 680.2596292228515, 601.3696121760206, 734.8743668715352, 720.9182439755699], [105, 701.0965663090013, 315.7260556398815, 751.4377234050246, 425.9516584555873], [116, 65.72821270336661, 583.9396692911193, 134.10084539281712, 722.0931430893803], [117, 738.3551597866397, 134.28998372754225, 774.7998254341486, 217.56995208953174], [122, 779.8109384909943, 167.31732753317138, 818.9932327945561, 251.25849797698228], [123, 1117.5272998790197, 511.695950560823, 1183.1298383549204, 637.6406619447774], [124, 1123.535484047376, 627.1071447889908, 1182.42979474284, 722.2910760747295], [125, 460.5902700120023, 178.16551432727198, 498.90991375076976, 280.80954570463814], [126, 1176.1972793781629, 175.05995553246794, 1226.3602001634783, 282.7618743244047], [131, 369.4849919167859, 326.47340782120597, 425.14285879598253, 436.036374991351], [132, 55.65472518132054, 73.6233990588394, 89.38732988463025, 153.34385862846227], [133, 379.39205407075895, 252.1045034096487, 420.5063945447721, 336.72194982189126], [135, 670.0496306548231, 456.2624376945294, 708.280904371809, 566.9304816213437], [142, 786.0251514721137, 519.1106291102936, 856.2958844772124, 650.1477800290357], [143, 24.742056690041288, 386.6771317954359, 84.30870176903179, 506.5407115039338], [145, 431.8490589671323, 567.4589383011639, 525.7196680607185, 706.4772054228985]]\n"
          ]
        },
        {
          "output_type": "stream",
          "name": "stderr",
          "text": [
            "0: 384x640 36 persons, 1 bird, 201.3ms\n",
            "Speed: 6.1ms preprocess, 201.3ms inference, 1.6ms postprocess per image at shape (1, 3, 640, 640)\n",
            "\n"
          ]
        },
        {
          "output_type": "stream",
          "name": "stdout",
          "text": [
            "[<deep_sort.deep_sort.detection.Detection object at 0x7f003c922500>, <deep_sort.deep_sort.detection.Detection object at 0x7f003548ace0>]\n",
            "<class 'list'> class\n",
            "[[5, 649.6848328695905, 185.13711008964523, 694.8122493510425, 293.7314112553315], [20, 1082.0015011382905, 224.90033230389008, 1130.062724994226, 333.16894957738043], [36, 918.8090399623298, 22.909145878885646, 944.437578187027, 111.76452657025709], [54, 531.3139451127881, 31.00283487176629, 558.4104193475866, 112.96081597110097], [60, 604.9392472966663, 254.88379105015645, 652.663450093729, 360.99718083992934], [61, 1116.8233909437788, 49.053374808583484, 1148.3057096698908, 124.01088090723435], [75, 481.8412863675012, 118.7340528570103, 518.3381566523191, 205.95603666040756], [82, 1220.8841855656974, 253.9004799699539, 1277.9728100285492, 366.097286801793], [86, 1139.2980236409999, 86.64447410685935, 1183.8244779477373, 180.3296469931901], [94, 678.8095317557983, 606.1202662666512, 731.3225192160048, 720.9925011449229], [105, 700.5517847356407, 313.71720212181543, 752.1167366477788, 426.93719972806736], [116, 65.77938521202029, 590.6402309029424, 131.45163165397184, 722.1414303203503], [117, 738.0524658337783, 136.56098974140215, 775.0195406429625, 221.0772961097818], [118, 471.2763262023318, 17.673221087245096, 501.7597806973488, 102.52246473515554], [122, 779.9388270554939, 166.02000838941416, 818.2414976629345, 248.03727119406244], [125, 461.06046143786654, 176.07503362513376, 498.767489815729, 276.9066669813461], [126, 1175.6945426650977, 177.52123985139895, 1226.6837137974385, 286.84116561974525], [131, 369.04851129243355, 328.08371276333423, 425.7220324062324, 438.7744200707314], [132, 55.010937119917116, 73.18355644167286, 89.31189898284563, 154.40363114019226], [133, 378.7253702146419, 253.92536266725773, 419.093886716185, 336.7268865366826], [135, 668.7640962470929, 453.6071807572841, 707.9343079441154, 566.921937738952], [142, 787.4398625930536, 513.4840169017621, 854.7603721512426, 639.8332902232308], [143, 24.173552689427062, 389.74960730003073, 86.09291145648226, 512.8835915826651], [145, 434.4939831178947, 563.7519988036067, 524.2075762371594, 701.2018491754754]]\n"
          ]
        },
        {
          "output_type": "stream",
          "name": "stderr",
          "text": [
            "0: 384x640 36 persons, 1 bird, 211.7ms\n",
            "Speed: 2.6ms preprocess, 211.7ms inference, 1.7ms postprocess per image at shape (1, 3, 640, 640)\n",
            "\n"
          ]
        },
        {
          "output_type": "stream",
          "name": "stdout",
          "text": [
            "[<deep_sort.deep_sort.detection.Detection object at 0x7f01681645b0>, <deep_sort.deep_sort.detection.Detection object at 0x7f00354f6560>]\n",
            "<class 'list'> class\n",
            "[[5, 649.0828525994035, 186.21638115616582, 694.072759763931, 293.8283360747132], [20, 1079.5035599044231, 223.62912645412416, 1128.780898061971, 333.6330967893557], [36, 918.704047637754, 22.97653099369836, 944.2934635893093, 111.91970691048641], [54, 531.0711397368458, 31.002497845831414, 558.1526437638785, 112.95370521582183], [60, 604.6941314874892, 256.88596208891977, 652.4334114470511, 363.6911107005609], [61, 1117.4250481121508, 49.63083617406267, 1148.9557182198275, 124.70537684170398], [75, 481.40640284997096, 117.81683179632174, 517.8087172231858, 204.12360413800047], [82, 1223.671601802682, 255.38506423267634, 1281.3241792255587, 370.2066473123706], [86, 1139.589841409963, 86.53417458428277, 1184.131858292751, 179.71515933271763], [94, 677.5688734950207, 609.0901152619322, 728.9062368610579, 720.9208582109931], [105, 700.5433386221382, 312.38893719173274, 752.8492780490462, 427.41074104639574], [116, 65.89449449959753, 594.2987096049495, 130.46938537811155, 721.9534254969084], [117, 737.822222371471, 137.37213585256308, 775.2167831413857, 222.9991765379683], [118, 470.9019322394442, 16.903024055842472, 501.36824883110603, 101.88424982654908], [122, 780.122654763096, 163.58606746482087, 817.8333342340487, 244.20338248524362], [125, 461.43226770812214, 174.70596797766638, 498.5188966149121, 273.53170717151687], [126, 1175.6031354499307, 181.0255921218926, 1226.6838819699863, 290.3042173200148], [131, 368.8257848382608, 331.25390109422074, 425.3532203014176, 440.3880919045154], [132, 55.068594581235644, 73.02088989777303, 89.64272016440417, 154.80505298076469], [133, 377.5186538012602, 254.53043232232912, 418.88162393464216, 339.3554701213776], [135, 668.5590684891083, 452.06814849259916, 708.1962404751633, 566.3950791057903], [142, 789.2175901630119, 509.5947782977214, 854.9550800918593, 634.2421264128841], [143, 24.46476012944463, 391.478206530708, 87.44589916011252, 515.8624595533853], [145, 434.9278382193379, 560.5231297854795, 523.5322155078873, 700.5376210672734]]\n"
          ]
        },
        {
          "output_type": "stream",
          "name": "stderr",
          "text": [
            "0: 384x640 35 persons, 203.6ms\n",
            "Speed: 5.8ms preprocess, 203.6ms inference, 1.8ms postprocess per image at shape (1, 3, 640, 640)\n",
            "\n"
          ]
        },
        {
          "output_type": "stream",
          "name": "stdout",
          "text": [
            "[<deep_sort.deep_sort.detection.Detection object at 0x7f01681662c0>, <deep_sort.deep_sort.detection.Detection object at 0x7f00354891b0>]\n",
            "<class 'list'> class\n",
            "[[5, 648.5305595750825, 187.67172311758873, 693.5540375388038, 295.3649106973271], [20, 1078.089127670481, 222.56078876087219, 1128.2240064784864, 333.88275796416184], [36, 918.9688339964024, 22.34032708029065, 944.6051287313959, 111.31742810837784], [54, 530.6985948480286, 31.002200708129408, 557.6777503337854, 112.29302008550215], [60, 604.6864945694583, 259.55140513209454, 652.2693036089405, 366.6072169407911], [75, 481.91697789573294, 115.52527547358594, 517.6269986894755, 199.50656621655423], [82, 1225.6515717705397, 256.53045987097846, 1282.9048495918478, 372.3362052141874], [86, 1139.3725318727934, 87.12986877489558, 1183.900384418948, 180.1311600930755], [94, 675.6325936401814, 610.7176470039691, 726.3188169981734, 720.8216809407758], [105, 700.4413821908518, 311.32079977754955, 753.2446282458678, 427.68985176106713], [116, 64.46095042988924, 597.4900249130663, 128.29847331614448, 721.7406571234447], [117, 737.7523174744133, 138.28189226788174, 775.2726567611311, 224.3184136464292], [118, 471.375437253539, 16.642954483043994, 501.29563387988924, 100.34572104792763], [122, 780.1794012271409, 161.39645316850397, 817.7053927511881, 241.50051267778133], [125, 461.03091942673456, 172.26938104160075, 498.2955966066118, 271.7027323249773], [126, 1175.0271554313022, 182.30264496491168, 1226.5489659646914, 292.2026511189762], [131, 368.74053215078914, 334.3744045570405, 424.56197406671976, 440.90284204480236], [132, 55.08581525589895, 72.30645893054641, 89.78016202108361, 154.30008744621426], [133, 376.0186537704051, 255.3702058165774, 418.5599228436184, 342.9200162707382], [135, 667.6987707111566, 450.95749682769434, 707.7754663781643, 566.3411123114867], [142, 789.9594662722177, 506.3326077934729, 855.5926089695795, 632.390120877686], [143, 25.302626037047762, 392.03160521436513, 87.75667438030575, 514.9174242057264], [145, 436.16011883242555, 556.8187117502586, 523.4879574733789, 699.6793123374543]]\n"
          ]
        },
        {
          "output_type": "stream",
          "name": "stderr",
          "text": [
            "0: 384x640 35 persons, 1 bird, 210.6ms\n",
            "Speed: 2.5ms preprocess, 210.6ms inference, 2.0ms postprocess per image at shape (1, 3, 640, 640)\n",
            "\n"
          ]
        },
        {
          "output_type": "stream",
          "name": "stdout",
          "text": [
            "[<deep_sort.deep_sort.detection.Detection object at 0x7f003548b9a0>, <deep_sort.deep_sort.detection.Detection object at 0x7f003548bca0>]\n",
            "<class 'list'> class\n",
            "[[5, 648.8911468193907, 186.6874842536804, 693.6721397912429, 293.0775899739733], [20, 1077.916936245387, 221.5682107023564, 1128.4245143617175, 333.3902853932865], [36, 919.0634844144942, 22.099640455295578, 944.7371702092381, 111.08992359072806], [54, 531.0991610118626, 30.33823183010648, 558.2897603942225, 112.04761440669606], [60, 604.3854903351049, 261.15376252826366, 651.8570196625567, 368.2913743208162], [75, 481.6338662154854, 113.38224637260124, 517.3880578592191, 197.18181997519667], [82, 1227.1138922805833, 256.88760920289656, 1283.3606670031509, 372.3938126646924], [86, 1139.5427765511483, 87.98465814596818, 1184.224508809819, 180.9257251512496], [94, 674.4756463143193, 614.5660015336715, 723.9852304938095, 720.7238535823873], [105, 701.9496311430199, 311.00118272855116, 753.8273610089594, 425.9102422608676], [116, 63.913827361607005, 599.8345655807326, 127.61092705980505, 721.5223825238355], [117, 738.240528678945, 138.57508708920196, 775.4331690594504, 224.0947343445801], [118, 470.915253990612, 15.255101402342412, 500.58805135622504, 98.47458306306825], [122, 779.9035970611862, 159.30459753128102, 817.2998671616298, 239.22965761476047], [125, 460.5856197343919, 169.44203444744448, 498.51046395234994, 270.44251628824475], [126, 1174.5029929212214, 182.72118953097993, 1226.7903946431506, 294.15421736155434], [131, 369.23269266233945, 336.8014940469584, 424.4170614788266, 440.9992282842001], [132, 55.08755678671312, 72.03982629795352, 89.84107277813979, 154.10554752471842], [133, 374.96620248597156, 255.6381619047754, 418.9465160428667, 346.8354369573572], [135, 667.2541642426947, 448.01752194558105, 708.4079532630722, 565.7816597837656], [142, 789.3798819263529, 503.2879774932743, 855.9985802522954, 632.5386423629233], [143, 26.256492382060653, 392.128674121788, 89.08755632271038, 515.7595261230503], [145, 436.8634648415898, 553.5814134758958, 523.2258044057688, 699.3963912689229]]\n"
          ]
        },
        {
          "output_type": "stream",
          "name": "stderr",
          "text": [
            "0: 384x640 35 persons, 178.9ms\n",
            "Speed: 2.7ms preprocess, 178.9ms inference, 2.1ms postprocess per image at shape (1, 3, 640, 640)\n",
            "\n"
          ]
        },
        {
          "output_type": "stream",
          "name": "stdout",
          "text": [
            "[<deep_sort.deep_sort.detection.Detection object at 0x7f013411be50>, <deep_sort.deep_sort.detection.Detection object at 0x7f003548b850>]\n",
            "<class 'list'> class\n",
            "[[5, 648.7325988651198, 189.32205987025142, 692.4776556356516, 292.70868940140303], [20, 1076.6812068329755, 218.62914326323227, 1127.81835943718, 331.950960358028], [36, 919.7540967849133, 22.01073766424389, 945.4596767621462, 111.00620078512094], [54, 531.2314859035957, 30.09053702071902, 558.541522295129, 111.96121911242571], [60, 604.0363586000805, 263.665184151307, 651.2867494767228, 370.8208901917654], [75, 480.3993614710282, 111.30937163564792, 516.4471658756871, 196.394858706369], [82, 1228.2223056881462, 257.60002218148713, 1283.5310744673661, 372.9652094957486], [86, 1140.0844629849128, 87.60778007703864, 1186.525291820217, 185.1859985592859], [94, 671.2305173052881, 619.2431699805201, 718.6791725196202, 719.2563583259075], [105, 702.6564123308425, 307.0081528923344, 755.2552239311555, 423.9924410830224], [116, 61.92529065478452, 604.5776822333418, 124.51108322616226, 721.323513278263], [117, 739.333997549871, 139.2896574318091, 775.903299459817, 223.93444312886226], [118, 470.76472006421784, 12.780379236743762, 500.30953964036485, 95.82150907499047], [120, 611.7177663354233, 53.970871547254326, 639.3192617652815, 141.074780129384], [122, 779.5307651446576, 157.9160032905882, 816.764557426739, 237.78656461618357], [123, 1132.6492811076055, 531.9735009793656, 1199.5228582062614, 659.0275419900072], [125, 460.39762158329404, 168.45044971254302, 498.61371278076047, 270.04996547314136], [126, 1174.8318409906403, 185.43724029718197, 1226.9994821939554, 296.12777417608766], [131, 368.41509564345534, 336.9556996005533, 423.3744158210035, 440.2839199859431], [132, 55.08363926428922, 71.94594414502916, 89.87150732169246, 154.0315519504698], [133, 374.4109868335625, 256.97854862238006, 418.68919715956406, 348.7938102748691], [135, 666.0783055576711, 443.0728108247305, 708.3598828063117, 563.6991083077819], [142, 789.6512074643399, 499.00126769337515, 856.9607232057103, 631.4295902682853], [143, 28.973703881799253, 393.40889180502853, 90.42447031191999, 514.0180648979177], [145, 437.50014953655705, 549.8775192881749, 523.3859607091126, 699.3346793205116]]\n"
          ]
        },
        {
          "output_type": "stream",
          "name": "stderr",
          "text": [
            "0: 384x640 34 persons, 208.3ms\n",
            "Speed: 5.5ms preprocess, 208.3ms inference, 1.5ms postprocess per image at shape (1, 3, 640, 640)\n",
            "\n"
          ]
        },
        {
          "output_type": "stream",
          "name": "stdout",
          "text": [
            "[<deep_sort.deep_sort.detection.Detection object at 0x7f00354f6170>, <deep_sort.deep_sort.detection.Detection object at 0x7f00354f4a30>]\n",
            "<class 'list'> class\n",
            "[[5, 647.3314503407195, 190.89396300351873, 691.4087636369319, 294.56565412127617], [20, 1074.4043794758063, 216.92081775090585, 1125.5599905813488, 330.8026958194615], [36, 919.265836575126, 21.318961339174713, 945.1628235054297, 110.97735359517219], [54, 530.6036268131262, 29.999869132109446, 557.9946395699085, 111.93477273733069], [60, 603.3139233910241, 265.2048690482819, 650.354771259243, 372.3556033996412], [61, 1121.3419865361059, 51.08121783105565, 1154.259767148441, 128.86905435430174], [75, 479.0868243618652, 109.26528744841403, 515.6472151466182, 196.82700211187222], [82, 1229.1233769507514, 260.4330135527024, 1282.356586864147, 372.4348511483975], [86, 1140.1944007472418, 88.29379049330058, 1186.826556560198, 186.27393822968114], [94, 668.7687993887563, 622.1586397083609, 716.2037566409963, 720.0390942909675], [105, 702.5721889234533, 304.26687508666225, 755.4785088628659, 422.6765288633131], [116, 59.70946772915713, 607.4942086385732, 121.54966255820935, 721.122836761276], [117, 739.6521277889027, 139.5099037939854, 775.5122966624205, 223.14810261751694], [118, 470.634103971243, 11.669972454609912, 500.14093627374575, 94.60465662625316], [120, 611.925111379031, 54.95902306573649, 639.5230437644306, 142.0517831397908], [122, 779.1651934425552, 156.79164764896979, 816.8028929571162, 237.98130380093338], [123, 1133.8965572448853, 535.9967591037246, 1203.17853089316, 668.6271101915713], [125, 459.9311356104751, 168.15513281516866, 498.39047183783566, 269.9887245589748], [126, 1174.7871259210622, 187.72690449970415, 1226.5826781924761, 296.7910899360769], [131, 367.6527443575117, 338.9371047204506, 421.460987045256, 439.9533404181559], [132, 54.700679741268814, 71.91781021979014, 89.60766866861117, 154.0040617815133], [135, 666.0748306269995, 439.9810985165915, 708.562030034419, 561.0371634847386], [142, 790.0841814865031, 495.5576091661155, 858.2899743524231, 631.8096634491817], [143, 30.574249589996455, 395.13134181216344, 90.89639159101652, 513.25103160409], [145, 437.14976104487164, 546.635105732644, 522.7357319198119, 699.3528623730467]]\n"
          ]
        },
        {
          "output_type": "stream",
          "name": "stderr",
          "text": [
            "0: 384x640 33 persons, 276.3ms\n",
            "Speed: 2.6ms preprocess, 276.3ms inference, 2.2ms postprocess per image at shape (1, 3, 640, 640)\n",
            "\n"
          ]
        },
        {
          "output_type": "stream",
          "name": "stdout",
          "text": [
            "[<deep_sort.deep_sort.detection.Detection object at 0x7f003548ace0>, <deep_sort.deep_sort.detection.Detection object at 0x7f00354891b0>]\n",
            "<class 'list'> class\n",
            "[[5, 646.4375258688254, 192.75613799732395, 691.4316606741672, 297.87029910659885], [20, 1073.6240173088713, 215.68331748346014, 1124.0565545787294, 328.45285735313934], [36, 919.1628351047083, 21.061460476555496, 944.9690856112682, 110.31017826842229], [54, 530.6345961652356, 29.308211905007134, 558.1823380667057, 111.93059476596073], [60, 602.3212867131998, 265.0557853383231, 649.4172179360155, 372.853174325079], [61, 1121.9190131921707, 51.18616938200903, 1155.1526731407187, 129.89959069604248], [75, 478.66614848592667, 107.67921660715496, 515.2227073608628, 195.2339886892833], [82, 1230.807297257814, 261.43103598211667, 1282.4438630640507, 371.4601254708587], [86, 1139.685796109813, 87.44995248810548, 1187.4124215345553, 188.6277013960742], [94, 666.8649729834991, 623.7525503314587, 714.4971072303163, 720.2836949234061], [105, 703.1574459185991, 301.99278783904253, 755.5927727876905, 419.6247020544737], [116, 57.2674712095324, 609.7447201467797, 118.82775060063639, 720.9630629543959], [117, 740.3416966069781, 140.20809830611796, 775.4484614766902, 222.79537430563227], [122, 779.0903123869206, 155.7621851059398, 816.7681208785582, 237.45227179266675], [123, 1134.5938310957656, 540.0047125478725, 1206.148677921165, 677.7199079871207], [125, 459.21824739417457, 166.79679185728114, 498.1848364787047, 270.043049014816], [126, 1174.9353067192974, 189.18408792368996, 1226.2492791004508, 296.2899197679721], [131, 366.39654490881264, 340.9365424610026, 419.7254762943643, 441.1002263770839], [132, 54.646586557946364, 71.91412890401537, 89.41931221628747, 153.3350215058196], [135, 665.6136913414342, 437.6064461224519, 707.8086454335772, 557.4952761415781], [142, 792.4864456189794, 492.4310118142614, 859.7993603995642, 628.8222392726409], [143, 31.59928109555582, 396.36007793289065, 91.18886097771957, 512.8969344839845], [145, 439.30154245482873, 544.2173310270455, 523.3989261044645, 698.7550028114526]]\n"
          ]
        },
        {
          "output_type": "stream",
          "name": "stderr",
          "text": [
            "0: 384x640 33 persons, 1 bird, 284.0ms\n",
            "Speed: 12.9ms preprocess, 284.0ms inference, 2.4ms postprocess per image at shape (1, 3, 640, 640)\n",
            "\n"
          ]
        },
        {
          "output_type": "stream",
          "name": "stdout",
          "text": [
            "[<deep_sort.deep_sort.detection.Detection object at 0x7f01681662c0>, <deep_sort.deep_sort.detection.Detection object at 0x7f0168166e30>]\n",
            "<class 'list'> class\n",
            "[[5, 645.9105096000578, 194.19171198062259, 690.8588104421862, 299.1986971268078], [20, 1073.0404531649006, 213.96742238357757, 1122.5693506605803, 324.9766703144209], [36, 919.036030194517, 20.308122822594157, 944.9850044966917, 110.05979957549911], [54, 530.5737676944732, 28.392722578534674, 558.3300742805025, 111.93383061102334], [60, 602.1416892201195, 265.59131521816505, 648.8865131862136, 372.9658006459748], [61, 1122.3433028584261, 51.879662544466655, 1155.232354191304, 129.59545089677096], [82, 1232.5698590169022, 263.0648473594629, 1283.2527970464077, 373.02602479724294], [86, 1139.3086946706087, 87.32703902292778, 1187.1852318609583, 189.94898814003045], [94, 664.7156264307756, 624.8791456200656, 712.8243537121048, 720.3380330880166], [105, 704.1675410729957, 299.24064884997983, 755.5004317399737, 414.57869080536], [116, 56.85174339102247, 613.7995365776073, 117.49457455554094, 720.8284907969008], [117, 740.5128678946777, 141.75514279113426, 774.8390928690642, 223.28000483692156], [120, 611.9577689300299, 55.273108382806704, 639.2215080453302, 139.70640445577422], [122, 778.5755698935087, 154.11062154582925, 816.5967423825012, 237.3133471678615], [123, 1135.807761308767, 543.361289243742, 1207.4863706784888, 681.7035115666725], [125, 458.959400769701, 165.68687340024184, 498.1030433602626, 269.4655541483214], [126, 1175.117889193888, 188.99238821317388, 1226.6551293397501, 296.0197608954473], [131, 364.68850669258364, 342.27287672959596, 418.35375079924836, 443.477892091313], [132, 54.21240956681197, 71.91956988203991, 89.10455965308157, 153.08266896342587], [133, 373.5010401223854, 260.9999640529128, 416.5807449262728, 350.57630544746416], [135, 665.6325673215442, 435.5099119085435, 706.68346360926, 551.6334926962592], [142, 793.5208750226622, 488.7777488351477, 860.2495318977725, 625.8411183554693], [143, 32.12906218474743, 397.4084445876939, 92.3726591051489, 515.3848643651346], [145, 441.558532594378, 540.1812141014155, 524.8126265078006, 697.2661230825618]]\n"
          ]
        },
        {
          "output_type": "stream",
          "name": "stderr",
          "text": [
            "0: 384x640 33 persons, 1 handbag, 280.8ms\n",
            "Speed: 12.9ms preprocess, 280.8ms inference, 2.0ms postprocess per image at shape (1, 3, 640, 640)\n",
            "\n"
          ]
        },
        {
          "output_type": "stream",
          "name": "stdout",
          "text": [
            "[<deep_sort.deep_sort.detection.Detection object at 0x7f003548b850>, <deep_sort.deep_sort.detection.Detection object at 0x7f00354f4cd0>]\n",
            "<class 'list'> class\n",
            "[[5, 643.6389226434005, 195.13794975584128, 689.9481309261979, 303.2362552263496], [20, 1072.469098382783, 212.06553339636477, 1121.1478048744457, 321.7392181148783], [36, 918.990480569874, 20.030782748060993, 944.9913599521423, 109.97047600245261], [54, 530.6722921723178, 28.05229407034085, 558.267851148957, 111.28224205044017], [60, 602.5013625186338, 267.0480166223657, 648.2832324677067, 372.2696496287344], [61, 1123.0412702067254, 52.36621961964009, 1156.0282755945984, 130.31526725646535], [75, 477.252224323118, 106.60823067897581, 513.9361211027868, 196.22177499629106], [82, 1234.453098978592, 266.9270338600362, 1283.5738226566064, 375.5413878355603], [86, 1139.1591882357939, 87.92626627124633, 1186.4535602000456, 190.40828234958968], [94, 662.1432025852592, 627.2017717157036, 710.1363240478933, 720.3266808835227], [105, 705.1698110315747, 298.2964393098406, 754.8339848860793, 410.09602567211255], [116, 55.742442342906244, 616.4684001846373, 116.06608324475002, 720.7003887350002], [117, 741.2023037763047, 142.95715812414383, 775.3070328920311, 224.75151780240807], [118, 470.2255732435444, 7.151026857322165, 498.8734056675716, 88.3332568649168], [120, 611.667840792512, 55.33330406769961, 639.4785853680876, 140.77175585072004], [122, 778.6002756754374, 152.22370422857222, 816.980710577012, 237.3083108397118], [123, 1137.4588920724989, 548.412601552887, 1208.5753098153277, 684.9892152760791], [125, 458.3203966068503, 164.0143163861212, 497.30496895958424, 267.3333741553494], [126, 1175.9520791161303, 190.18644164814123, 1227.3592840056303, 295.86092550483994], [131, 362.57591210831083, 342.7058192695576, 417.37208954635247, 446.9646253672905], [132, 54.208782415296845, 71.92717606641295, 88.83197911902954, 152.3297998741017], [133, 372.6250253696034, 262.10434787345145, 415.0546491099014, 350.6642627489214], [135, 666.2923301738754, 432.18762539718307, 706.2941711496807, 544.8650323967647], [142, 794.937569116273, 485.5683269238193, 860.671327764796, 622.2023760322095], [143, 32.769992750592806, 399.06203205217855, 93.60451164604578, 518.9110471332675], [145, 442.7156816319483, 536.8042337980485, 524.4047932714852, 694.1363921263891]]\n"
          ]
        },
        {
          "output_type": "stream",
          "name": "stderr",
          "text": [
            "0: 384x640 33 persons, 1 dog, 291.3ms\n",
            "Speed: 13.2ms preprocess, 291.3ms inference, 2.0ms postprocess per image at shape (1, 3, 640, 640)\n",
            "\n"
          ]
        },
        {
          "output_type": "stream",
          "name": "stdout",
          "text": [
            "[<deep_sort.deep_sort.detection.Detection object at 0x7f01681662c0>, <deep_sort.deep_sort.detection.Detection object at 0x7f003548b9a0>]\n",
            "<class 'list'> class\n",
            "[[5, 642.9262416320145, 196.52089286202727, 689.3369715407475, 304.85603873747357], [20, 1072.0575251781993, 208.76441731226942, 1118.9259365648534, 314.6167883813556], [36, 918.9756942336662, 19.934120125422382, 944.9941269148355, 109.94221902850283], [54, 531.0111913530378, 27.932471378844788, 558.606175121793, 111.69866813523024], [60, 603.5737147070565, 268.86202823195487, 648.4782396216832, 371.9279041960867], [75, 476.73964118786375, 105.23008049086658, 513.5035614885106, 195.0417828144815], [77, 147.12017260267965, 0.6088579744879752, 196.3168055387069, 95.9736934027613], [82, 1236.248980718952, 276.9638477513997, 1283.8439358014716, 384.41134712244275], [86, 1139.0821208187929, 88.40038115016088, 1186.6891691984915, 191.56035546788496], [94, 659.1302333462025, 631.32812406565, 706.6773152439005, 720.2915499854346], [105, 706.611127208616, 295.3675685812758, 754.1729246702159, 401.82264827213714], [116, 55.896514836938124, 622.7384571684305, 114.44152947547086, 720.5986200617522], [117, 742.3711554234442, 144.69054513828482, 776.5486541808503, 227.25192973006818], [118, 470.0816987861276, 5.926377584371615, 498.64318923163285, 86.86431617833284], [120, 611.7765812924364, 56.02210586864196, 640.0263025821087, 143.12475677919122], [122, 778.5307549214087, 149.5960517227298, 817.2184495239918, 236.04436196890325], [123, 1139.4682404615526, 552.4726950482894, 1211.051218726403, 689.9441927081359], [125, 457.6905588683499, 160.80365371006008, 496.7381016769528, 264.60237220755266], [126, 1177.4059844022904, 190.57081249028022, 1228.4728119150675, 295.0715689508504], [131, 360.31278997967536, 344.7811480068547, 416.5483110092657, 452.81404743397405], [132, 54.119229350356306, 71.8081505621557, 88.71620369523646, 152.15041141003957], [133, 371.45523084688443, 264.473397652566, 414.76471580157, 355.3668882686399], [135, 667.9594995579554, 426.3844171187899, 706.7613398930599, 535.7766834475239], [142, 797.5196699274754, 479.89607604237756, 860.7215002841347, 612.3865849035025], [143, 33.084474762680834, 402.2573545377718, 96.538910442847, 528.7530563203816], [145, 445.88757264297595, 529.7826101740416, 526.0407648086571, 687.7548328561634]]\n"
          ]
        },
        {
          "output_type": "stream",
          "name": "stderr",
          "text": [
            "0: 384x640 33 persons, 205.1ms\n",
            "Speed: 5.9ms preprocess, 205.1ms inference, 2.8ms postprocess per image at shape (1, 3, 640, 640)\n",
            "\n"
          ]
        },
        {
          "output_type": "stream",
          "name": "stdout",
          "text": [
            "[<deep_sort.deep_sort.detection.Detection object at 0x7f003548af20>, <deep_sort.deep_sort.detection.Detection object at 0x7f00354f6170>]\n",
            "<class 'list'> class\n",
            "[[20, 1071.737375765599, 206.93708366148672, 1117.711917486557, 310.68816515930035], [36, 918.9724757777045, 19.906034756459064, 944.9954526722523, 109.93681142341322], [54, 531.187733744707, 27.8959874723471, 558.686398866247, 111.8609238695441], [60, 603.7501848758949, 270.8113362997514, 648.7994047961434, 373.74246163407935], [75, 476.25486710810077, 103.96812752525872, 512.024544432555, 193.18550318318742], [77, 148.31042729106738, -0.5727999079457007, 199.39140617138784, 95.8319505682353], [82, 1237.447421218652, 279.87948330647396, 1284.8754272913413, 386.9496728251398], [94, 656.926355364089, 634.0650311882617, 704.7091861134014, 720.249113901302], [105, 706.9360985987905, 292.35411565106597, 754.1207496279127, 397.52181808554377], [116, 56.65191595448682, 628.9762168764614, 113.31773434103627, 719.7997580346389], [117, 743.4348595066159, 147.28084166206594, 777.6985608202947, 230.13319965290998], [120, 611.8328843229166, 56.914894889839, 640.205489597445, 144.6392041677293], [122, 778.8729294945645, 148.6430929362412, 817.6045946643055, 235.6025029549168], [123, 1142.2170843565088, 559.988911972465, 1213.5576477660375, 697.2981724779903], [125, 456.4452831690565, 158.336760571703, 495.5700773828447, 262.9713773151112], [126, 1178.1210413298743, 191.32078908432527, 1229.3684918935926, 296.056584065922], [131, 358.6949736156352, 348.12175846272356, 415.0843625267528, 457.5906994068371], [133, 370.6971982084503, 265.9671264141425, 414.3552276352952, 358.36531981356165], [135, 668.6913995152261, 423.02386262015284, 706.8354182601629, 530.5512833335914], [142, 798.9193456046575, 473.9225811344146, 859.6032642838054, 601.4685918358276], [143, 33.8942767644719, 405.35719101854124, 98.18573129897794, 534.9923491734369], [145, 449.51992937744683, 525.2628064691429, 526.8276567283324, 680.1355553948641]]\n"
          ]
        },
        {
          "output_type": "stream",
          "name": "stderr",
          "text": [
            "0: 384x640 33 persons, 206.8ms\n",
            "Speed: 5.4ms preprocess, 206.8ms inference, 1.6ms postprocess per image at shape (1, 3, 640, 640)\n",
            "\n"
          ]
        },
        {
          "output_type": "stream",
          "name": "stdout",
          "text": [
            "[<deep_sort.deep_sort.detection.Detection object at 0x7f003548ace0>, <deep_sort.deep_sort.detection.Detection object at 0x7f01681645b0>]\n",
            "<class 'list'> class\n",
            "[[20, 1071.2399259360277, 204.99863760176908, 1117.0758090013776, 308.6730525680483], [36, 918.7728823231023, 19.903298761784434, 944.5366571653221, 109.27948315380826], [54, 531.0162030265983, 27.891067523847298, 558.295909821231, 111.92636173304571], [60, 603.1375554000776, 272.14270737783573, 648.9449934645334, 376.3615423140244], [75, 476.0505581181968, 102.19470419019078, 511.0251211299168, 191.30391446217754], [77, 149.23306948675122, -0.9468415439962001, 201.96639182300294, 95.79768468682246], [94, 655.7597721852236, 636.9767597824138, 703.9127714027251, 720.2138382949412], [105, 706.185543919016, 289.9985714169319, 753.6128195270538, 395.4052438239987], [116, 57.031521723420354, 633.0636186336559, 113.65603952042031, 720.1675920699967], [117, 744.6131884184217, 148.87514676490616, 778.6577098830446, 231.17729465121192], [120, 611.602074659989, 57.88523198237738, 639.8526979968213, 145.84240165293383], [122, 778.5313959597283, 147.685087255989, 816.9259650408458, 234.16923759944794], [123, 1144.3245786052366, 563.4556894858845, 1215.7855543627315, 700.8158555680557], [125, 456.0470992182842, 154.8390968327366, 495.07292104797506, 259.7847605634639], [126, 1177.515052957129, 192.87766682748253, 1229.8890491433829, 300.36300066111727], [131, 357.18529994729187, 350.6532356676621, 413.5065510339896, 461.3136635871852], [133, 370.66982338468733, 267.7944210245576, 413.9753391528969, 359.44628866864855], [135, 669.3395082398489, 421.2475873775881, 707.1602446345026, 528.1224238899233], [142, 800.6592974845126, 470.53754125160805, 858.5810773953401, 592.2022538806912], [143, 35.008633061004666, 407.14130854370654, 99.22561359762182, 537.9786923160873], [145, 453.3515697176648, 521.7218537913994, 526.6197137491779, 669.3668299147655]]\n"
          ]
        },
        {
          "output_type": "stream",
          "name": "stderr",
          "text": [
            "0: 384x640 31 persons, 196.5ms\n",
            "Speed: 12.6ms preprocess, 196.5ms inference, 1.5ms postprocess per image at shape (1, 3, 640, 640)\n",
            "\n"
          ]
        },
        {
          "output_type": "stream",
          "name": "stdout",
          "text": [
            "[<deep_sort.deep_sort.detection.Detection object at 0x7f01681662c0>, <deep_sort.deep_sort.detection.Detection object at 0x7f00354f6bc0>]\n",
            "<class 'list'> class\n",
            "[[20, 1070.7099491654135, 203.68623882211077, 1116.6079680628768, 308.02433586220434], [36, 918.7173032511962, 19.90989851010152, 944.3457365407914, 109.03568036557871], [54, 531.2052686598022, 27.23804185907064, 558.5519833908438, 111.95398423355601], [60, 602.6117353206299, 274.56600760454023, 649.3066499810977, 380.59298277216334], [75, 475.792221402604, 100.92754530688079, 510.2123997006014, 189.9970931904502], [77, 149.7568917402945, -1.0215415180284921, 203.9698754933479, 95.79818521231061], [94, 656.2267405834972, 641.3268281576937, 704.3367171395381, 720.1821073500568], [105, 706.1462814939547, 287.8805064975586, 753.8454870503003, 393.4082094371687], [116, 58.412725158253025, 637.7822655685961, 114.70227774417407, 720.2637916170021], [117, 745.4701301266253, 150.08565241346432, 779.9052634303507, 233.50311989950853], [120, 611.5525956066987, 59.54483345132577, 639.6693788785582, 147.58425996952417], [122, 779.0983648894314, 146.06543584182884, 817.2912326073364, 232.3501934472069], [123, 1146.8656733316307, 566.6002814425744, 1218.0145406234133, 703.3070790244344], [125, 456.45768589373233, 152.26625335072765, 495.0058669756347, 256.0056781910688], [126, 1177.7130589858382, 194.73204140155246, 1230.2948359420236, 303.24857718898295], [131, 356.8255570622301, 352.8610404883478, 412.7494371346554, 463.9574303322356], [133, 370.02876900260384, 270.4128924291982, 413.18831529288906, 361.75561086893015], [135, 669.7750786814015, 419.377747294253, 707.7530919092123, 527.38502910076], [142, 801.0384188286386, 465.4226405428393, 859.0881842394346, 586.9764667312285], [143, 36.91317882022895, 409.70801925647135, 100.00971460103992, 539.0190348953074], [145, 456.5631961977029, 519.2394671580219, 526.045543290359, 659.3552138558969]]\n"
          ]
        },
        {
          "output_type": "stream",
          "name": "stderr",
          "text": [
            "0: 384x640 30 persons, 182.0ms\n",
            "Speed: 8.1ms preprocess, 182.0ms inference, 1.5ms postprocess per image at shape (1, 3, 640, 640)\n",
            "\n"
          ]
        },
        {
          "output_type": "stream",
          "name": "stdout",
          "text": [
            "[<deep_sort.deep_sort.detection.Detection object at 0x7f0168166e30>, <deep_sort.deep_sort.detection.Detection object at 0x7f00354f6560>]\n",
            "<class 'list'> class\n",
            "[[20, 1069.8225863244043, 201.9395911761168, 1115.8805505505625, 307.21165422524484], [36, 918.9985400980155, 19.91861849022795, 944.6384507992433, 108.95066801879435], [54, 531.3187511981146, 26.99855084675699, 558.6070993362125, 111.96650302516241], [60, 602.5167320543684, 276.7400282655994, 649.3507435736313, 382.7950055188983], [75, 475.8941394433846, 99.84154933906122, 509.08602085714324, 186.2526513119712], [77, 149.86444681124186, -0.988407679398982, 205.36429294927692, 95.81017071534916], [94, 656.3932449653109, 644.1213356946314, 705.4132103244417, 720.1517574596385], [105, 705.581874644778, 286.5166936980117, 754.4750643016118, 394.12033672189267], [116, 58.598927203806554, 642.0217624178565, 114.75687131451224, 720.2617446976174], [117, 746.3085371912251, 151.81033044044884, 780.4827381498926, 234.3290872351465], [120, 612.0547837292801, 60.802519600068166, 640.3934583019576, 150.18869096491005], [122, 779.976141414381, 144.1907625488904, 817.4329754010984, 229.07057784838784], [123, 1148.9983019156837, 570.7841867755742, 1220.4445982446082, 708.0613488081536], [125, 456.77517495707565, 150.71327872385987, 494.185864953178, 251.33631998985385], [126, 1177.863361123598, 197.35972547248554, 1231.0081134299173, 307.5809704432445], [131, 357.0340609457038, 355.5976943307216, 412.1859386838555, 466.1824829358479], [133, 369.5458687688801, 271.3451446641121, 413.1701864848264, 363.8783140813369], [135, 670.3750374981569, 418.7912263886196, 708.1941148289811, 527.2449814172693], [142, 801.1018646740488, 462.3690793550716, 859.3101171513672, 583.9122541569852], [143, 38.12647044276878, 412.5833835044101, 101.69614619952378, 543.2402208328961], [145, 458.73821271296566, 515.8022198029295, 525.4374438328286, 649.7129006775547]]\n"
          ]
        },
        {
          "output_type": "stream",
          "name": "stderr",
          "text": [
            "0: 384x640 29 persons, 207.9ms\n",
            "Speed: 5.6ms preprocess, 207.9ms inference, 1.5ms postprocess per image at shape (1, 3, 640, 640)\n",
            "\n"
          ]
        },
        {
          "output_type": "stream",
          "name": "stdout",
          "text": [
            "[<deep_sort.deep_sort.detection.Detection object at 0x7f00354f63e0>, <deep_sort.deep_sort.detection.Detection object at 0x7f00354f5f00>]\n",
            "<class 'list'> class\n",
            "[[20, 1068.4291174294176, 200.6913458173797, 1114.7638637233279, 306.9932034386069], [36, 918.8133172757922, 19.927471511824514, 944.3826979423037, 108.92547339350523], [54, 531.027128731674, 26.258589047036395, 558.3035210882169, 111.97321501716968], [60, 601.5131418245888, 279.47956474471556, 648.3686822360572, 385.5396996483393], [75, 475.555562713761, 97.4914060284157, 507.75010389208995, 181.5516635676912], [77, 151.26000798177978, -2.595051066400842, 207.5091946143425, 95.5072277286398], [94, 655.9981163623395, 650.5089228801385, 704.3141162932985, 720.1285470064726], [105, 704.3432372339548, 284.10287232122346, 754.41186030938, 394.4798497333251], [116, 59.208387545970695, 648.9047742767871, 112.88332291553974, 719.5283642231792], [117, 746.3436662857331, 152.4081640320456, 780.9429281821891, 235.9050576389504], [118, 467.5869556851719, 1.8598968556842195, 495.6588570210177, 80.90558975983234], [120, 611.8474627925638, 61.90337489105529, 640.3994158308825, 153.10405475177424], [122, 780.5280122382123, 142.8803257937749, 815.9472565275836, 223.23724880577362], [125, 456.521428412791, 148.2183809541047, 493.6078767932176, 247.6627154092854], [126, 1177.846735807068, 200.27315572068474, 1231.3310338785232, 311.78840505116943], [131, 356.67637960791797, 358.53759337191775, 410.50688790791173, 466.93024819941087], [133, 367.80428953764437, 273.61321114289683, 412.13191761928056, 368.5529872912327], [135, 669.8985949237153, 415.36912139616356, 708.3903527774073, 526.6697146702766], [142, 800.8509769589448, 458.0645417222512, 860.9594285381532, 584.3126852082518], [143, 39.674791108624476, 416.2187366812554, 103.77779622169595, 548.0148887742034], [145, 457.61824532744475, 512.000448116376, 523.6467036687988, 642.9801763231505]]\n"
          ]
        },
        {
          "output_type": "stream",
          "name": "stderr",
          "text": [
            "0: 384x640 29 persons, 1 bird, 201.8ms\n",
            "Speed: 15.0ms preprocess, 201.8ms inference, 1.4ms postprocess per image at shape (1, 3, 640, 640)\n",
            "\n"
          ]
        },
        {
          "output_type": "stream",
          "name": "stdout",
          "text": [
            "[<deep_sort.deep_sort.detection.Detection object at 0x7f003c922500>, <deep_sort.deep_sort.detection.Detection object at 0x7f00354f5570>]\n",
            "<class 'list'> class\n",
            "[[20, 1067.109022765736, 199.62887785156835, 1113.8968150547278, 306.9904595633414], [36, 918.7606104391339, 19.93576213456047, 944.2717789161736, 108.92238075224734], [54, 530.9844166940892, 25.987357666674185, 558.1198800471209, 111.97730595743592], [60, 601.5472625755953, 281.1089802775869, 649.5750737244739, 390.4664230854865], [75, 475.1953137316236, 96.67744468069071, 506.8631269074686, 179.2055048394002], [94, 656.3821302863049, 654.7133622931144, 705.0112091044874, 720.1030983314997], [105, 703.4857488540641, 282.6095983430992, 754.1173294885241, 394.70046487769343], [116, 58.68541971610714, 653.1641272266146, 112.31789308675465, 719.9598934884357], [117, 747.3697206899232, 153.24599579677698, 782.0432510058353, 237.10770936315618], [118, 466.8333492746467, 0.9430596254551489, 495.33708746735937, 80.56064122532726], [120, 611.8542379514981, 62.290530500597214, 640.307134195923, 154.17036922059538], [122, 781.0061568203639, 141.79233298806008, 815.7908454667544, 221.1056434941112], [125, 456.78714727464336, 146.70515674543958, 493.72301483596254, 245.7256855376131], [126, 1178.5623917163632, 201.98374996883012, 1232.018509871051, 313.9790872790667], [131, 356.78128698780904, 360.22952568606644, 409.70060246214825, 467.1049276878522], [133, 367.2755722772013, 275.0774542731903, 411.63775983185826, 370.9173726779715], [135, 669.8843194192644, 411.54612517338074, 708.9484163703233, 525.8925693365445], [142, 801.2282552118882, 455.26874825714265, 862.3845605032207, 584.5824575029026], [143, 41.11720727263315, 418.1822770296655, 104.93564263427203, 549.7317078474796], [145, 455.7030942004682, 508.7410577598961, 523.0911262149909, 641.4025862217579], [152, 572.5835041645064, 28.75965183299725, 599.1595081800061, 114.44741735703589]]\n"
          ]
        },
        {
          "output_type": "stream",
          "name": "stderr",
          "text": [
            "0: 384x640 30 persons, 1 bird, 184.6ms\n",
            "Speed: 2.8ms preprocess, 184.6ms inference, 1.5ms postprocess per image at shape (1, 3, 640, 640)\n",
            "\n"
          ]
        },
        {
          "output_type": "stream",
          "name": "stdout",
          "text": [
            "[<deep_sort.deep_sort.detection.Detection object at 0x7f003548bdc0>, <deep_sort.deep_sort.detection.Detection object at 0x7f00354f4e20>]\n",
            "<class 'list'> class\n",
            "[[20, 1066.028538388467, 197.9748997393696, 1113.571736255901, 307.0604043324182], [36, 919.1208413135611, 19.943266376462944, 944.5150255138171, 108.26573717812833], [54, 531.4070173391224, 25.895419674322326, 558.2698852662002, 111.98035142268974], [60, 601.9236848815428, 283.6265903977158, 650.3263869235908, 394.2138240753875], [75, 475.4519113430714, 95.76376609108864, 506.8620745210406, 177.74630312634605], [94, 654.9150968761724, 658.8030201896928, 703.42235044736, 720.084895401654], [105, 703.4955815761131, 281.46779937233134, 754.3230708367324, 394.2142187352677], [116, 58.03928813188219, 657.2226236810087, 111.22450032644582, 720.0871824127773], [117, 747.8777278435473, 154.17257247382756, 782.3041473231822, 237.51028735467773], [118, 467.0251947053812, -0.030375767004628074, 495.45275762202533, 79.10570727469863], [120, 612.2045080224757, 62.40230105527031, 640.5710154661481, 154.52497556721607], [122, 780.9675611990752, 140.77624202594077, 815.27846263097, 219.05560327384848], [125, 456.8920039312283, 145.55484551997324, 493.7811712640215, 244.4320769168819], [126, 1178.8843954710135, 205.19783998801785, 1231.5530041205022, 316.046155459899], [131, 356.09076710693654, 360.116762856453, 408.8657851635698, 467.0816394224916], [133, 367.19902876714025, 275.57850588463464, 411.36669797641605, 371.74184250835464], [135, 670.2846139639124, 408.8792103494819, 709.4006154310141, 524.387215013745], [142, 802.0787195924827, 453.0467087743772, 863.4937664591215, 584.1947560678112], [143, 42.595280289855936, 419.4991231017459, 105.6595028301441, 549.6087877491562], [145, 454.7871108945669, 506.337578047519, 523.7424023139299, 641.64180894448], [152, 572.9077881127859, 28.976256247733687, 599.0229672702313, 113.18454252080966]]\n"
          ]
        },
        {
          "output_type": "stream",
          "name": "stderr",
          "text": [
            "0: 384x640 30 persons, 1 dog, 212.3ms\n",
            "Speed: 8.2ms preprocess, 212.3ms inference, 1.5ms postprocess per image at shape (1, 3, 640, 640)\n",
            "\n"
          ]
        },
        {
          "output_type": "stream",
          "name": "stdout",
          "text": [
            "[<deep_sort.deep_sort.detection.Detection object at 0x7f013411be50>, <deep_sort.deep_sort.detection.Detection object at 0x7f00354f7100>]\n",
            "<class 'list'> class\n",
            "[[5, 639.1074134196208, 207.98377264663776, 683.8407484456636, 312.2270437285676], [20, 1064.9997154053497, 196.0955393671622, 1112.8310242392179, 305.83348046054664], [36, 918.9556454780808, 19.950251806748973, 944.2489049560986, 108.02369074687294], [54, 531.2723331707984, 25.871542087399597, 557.9651114466672, 111.98280708374182], [60, 602.3666300092013, 285.83343478600614, 650.329361465904, 395.5685376489944], [75, 475.36682938714495, 94.14132541870075, 507.0823892894372, 176.6127344779773], [77, 171.885808834694, 22.411683481128357, 212.76644786142083, 94.07978045771091], [94, 652.9488628981023, 660.7194834296455, 702.3321506536786, 720.0695007692728], [105, 703.2760056631489, 279.8014267367755, 754.6299677005717, 394.10540195803816], [116, 56.068624148428, 660.4964767813318, 109.09057326280367, 720.1126894564292], [117, 747.9114882230477, 155.7954475883283, 781.8551340638819, 237.60643989939413], [118, 467.4074121476195, -0.3548935123681076, 495.2121628061793, 77.28089372783687], [120, 612.4620400404978, 63.06829543741195, 640.5405352900651, 154.6086359214994], [122, 780.6988125259104, 139.78881422677807, 814.6757729816201, 217.03464052555628], [123, 1160.8579574733685, 589.7742132188931, 1228.9320811614018, 717.9174998962068], [124, 1156.5250928365595, 590.2098718809491, 1235.4155026983833, 719.0542829662173], [125, 456.66195756360514, 145.20192866683635, 493.42581389625514, 243.37578658962116], [126, 1178.6552739910587, 206.35366602372363, 1231.6984885458464, 318.7255522679207], [131, 355.67268958253936, 360.66592823538167, 408.1088988937456, 467.0019662740277], [133, 367.16412782572314, 277.02035807364746, 410.6576964063808, 371.9723272223057], [135, 670.3412995458866, 406.6583657070522, 709.0061761655983, 521.9484642539481], [142, 802.1502703049107, 449.72898583234735, 864.128909379256, 583.5371086797376], [143, 43.26054623549078, 421.2282520517119, 105.7221259938984, 550.1021318902002], [145, 453.9286085682987, 503.5851746346122, 523.8129585892721, 641.8859014649536], [152, 572.3896918057497, 28.288416698075757, 598.854649863779, 113.57701366825196]]\n"
          ]
        },
        {
          "output_type": "stream",
          "name": "stderr",
          "text": [
            "0: 384x640 34 persons, 1 bird, 199.0ms\n",
            "Speed: 9.1ms preprocess, 199.0ms inference, 1.5ms postprocess per image at shape (1, 3, 640, 640)\n",
            "\n"
          ]
        },
        {
          "output_type": "stream",
          "name": "stdout",
          "text": [
            "[<deep_sort.deep_sort.detection.Detection object at 0x7f003548bdc0>, <deep_sort.deep_sort.detection.Detection object at 0x7f00354f4cd0>]\n",
            "<class 'list'> class\n",
            "[[5, 638.0614239859311, 208.41059549591057, 683.855594803586, 315.2461931683889], [20, 1063.6144352610875, 194.7870993956072, 1111.6505145026688, 304.76795714213745], [36, 918.8200134018978, 19.956218165697358, 944.2241929008097, 108.60297664318975], [54, 531.2693721556403, 25.872613666762874, 557.8011120704783, 111.98487851837183], [60, 603.0622880290996, 288.5763470013388, 650.4692883530423, 397.3024227473843], [75, 475.7746925368941, 92.92276289852623, 508.0871218037815, 176.25928698734822], [77, 173.54782073567878, 23.050257979628526, 213.23299408985207, 94.71188995699481], [94, 652.1889874762197, 665.4429342511718, 700.0501730077688, 720.0587228911983], [105, 703.1172157069464, 278.5840711632298, 754.82488543963, 394.1248190439028], [116, 54.1337443997036, 663.5177750862387, 106.86238020232943, 720.1070404365262], [117, 747.8635246970913, 158.35193973496627, 781.7000105859958, 239.58435411524565], [118, 467.75711921671746, -0.4316009701845047, 495.61097925426037, 77.31994171354908], [120, 612.2031400244572, 63.289851273117236, 640.2170806577614, 154.59049470713364], [122, 780.6006677552315, 138.81027859821307, 815.1263144267177, 217.03599982141964], [123, 1163.349109470665, 594.1579344183243, 1231.1894261236628, 721.8598043566569], [124, 1158.3823974134143, 588.6544197144763, 1238.194665186766, 719.0023358048362], [125, 456.1533190850266, 145.1475364261261, 493.06611620014, 243.73783100271555], [126, 1178.5243512887378, 207.38700290339006, 1231.780272297184, 320.9753097786958], [131, 356.16108328168167, 363.45090884303426, 407.9043640248405, 467.5600699651559], [133, 366.95137164775156, 278.1688674061836, 410.6320434145093, 373.95264691238424], [135, 671.1152035369863, 404.6089592605366, 709.4065073897225, 519.8024020850594], [142, 802.213779814071, 447.28846229154897, 864.2932261758914, 582.7480941057217], [143, 44.40168537566642, 422.45801172132815, 106.0778745629474, 549.5257144249767], [145, 455.15961990716124, 501.3564793915264, 524.8932267734313, 642.1153183924071], [150, 143.46846559062428, -0.009838574035960335, 178.60173070009887, 68.97322997460898], [152, 572.2093986350483, 28.05953282287122, 598.8115760380775, 113.73758263818605]]\n"
          ]
        },
        {
          "output_type": "stream",
          "name": "stderr",
          "text": [
            "0: 384x640 31 persons, 1 bird, 181.4ms\n",
            "Speed: 5.6ms preprocess, 181.4ms inference, 1.8ms postprocess per image at shape (1, 3, 640, 640)\n",
            "\n"
          ]
        },
        {
          "output_type": "stream",
          "name": "stdout",
          "text": [
            "[<deep_sort.deep_sort.detection.Detection object at 0x7f013411be50>, <deep_sort.deep_sort.detection.Detection object at 0x7f003548b9a0>]\n",
            "<class 'list'> class\n",
            "[[5, 636.7355739073295, 209.24579140770447, 683.5039489275997, 318.85946331252933], [20, 1063.3215276148303, 192.38081856541226, 1111.047049118937, 301.7880021811185], [36, 918.784320186545, 19.30100465935797, 944.2024191146953, 108.16640129936684], [54, 531.1381477267399, 24.563690668254615, 557.8703772966969, 111.98667045420717], [60, 603.4829317612605, 290.19912629042153, 650.3670328314693, 397.8679107826012], [75, 476.6063713297211, 90.53081995044711, 509.79852086140755, 174.86838662585086], [77, 176.062662244084, 23.83929635863157, 215.18433807813716, 94.48144677503626], [94, 651.2228093897376, 669.7324727347651, 697.2513007308276, 720.0467437819731], [105, 702.2754306275639, 273.6092598494335, 753.7190591715049, 389.60834349395594], [116, 51.636586619829835, 667.8901330318993, 102.34317333449067, 720.0929285943864], [117, 747.2733685807729, 159.25612009995746, 782.8462457170222, 244.2640315963057], [118, 468.57566201659483, -0.42844400314231734, 495.7503774942469, 75.38482804328027], [120, 612.1863831279105, 64.00433856666032, 640.0058179856599, 154.54243239675145], [122, 779.3654604269706, 136.5021687435481, 815.1699237257056, 217.75986013569218], [125, 455.5574601957572, 143.86251169741064, 493.35397915781914, 244.6096848726042], [126, 1179.4831240536905, 209.02720966865954, 1232.094030778734, 321.752845429428], [131, 356.1797574214653, 366.4274046139493, 408.0616681118251, 469.699531314763], [133, 366.8195353798385, 279.86623481778355, 410.0504972491846, 374.63575417547446], [135, 673.4638465184845, 400.6437528843659, 710.1271031660656, 510.52127909347035], [142, 802.8274227758727, 442.57177023180486, 865.0300653424392, 579.2947296623558], [143, 46.60739074220704, 423.4991271434719, 107.65772547198236, 549.2119742770618], [145, 454.7741442483102, 496.6979137770407, 524.8271805220131, 641.0148384528843], [150, 143.21774458139032, -0.0034291450708323623, 179.2630834683719, 70.4872898049039], [152, 571.7623748185296, 27.98372848949353, 598.488842462713, 113.81745198962011]]\n"
          ]
        },
        {
          "output_type": "stream",
          "name": "stderr",
          "text": [
            "0: 384x640 35 persons, 1 bird, 211.7ms\n",
            "Speed: 2.7ms preprocess, 211.7ms inference, 1.5ms postprocess per image at shape (1, 3, 640, 640)\n",
            "\n"
          ]
        },
        {
          "output_type": "stream",
          "name": "stdout",
          "text": [
            "[<deep_sort.deep_sort.detection.Detection object at 0x7f003c922500>, <deep_sort.deep_sort.detection.Detection object at 0x7f00354f5de0>]\n",
            "<class 'list'> class\n",
            "[[5, 636.9772685494278, 211.4847407161736, 683.9794838669077, 322.7905513213706], [20, 1063.1105630369912, 190.8741585405967, 1110.3411349597436, 299.3952804029976], [36, 918.7850818785063, 19.056254538693608, 944.1831190803404, 108.00584382640385], [54, 531.5111278883737, 24.078350793075792, 558.131029915819, 111.33260326619694], [60, 604.3485458403793, 291.39456957369816, 650.9446848271474, 397.99396559607175], [75, 476.70003660394866, 89.67939175029807, 510.6823955733323, 174.40417518535668], [77, 179.97904398634574, 23.31220788686992, 216.77422938737377, 92.43159496563482], [86, 1136.5542664230375, 58.95776049741634, 1170.024312293413, 131.99624598650811], [94, 651.5046364064341, 673.4543694018682, 694.2103945731839, 720.1339460600562], [105, 702.8922379605846, 271.78284174541506, 753.6732110942628, 386.6274995112399], [116, 49.96621882498846, 672.0094943880167, 98.88860014901911, 720.0755329427747], [117, 746.7233717847768, 162.16506149715656, 782.9353679800968, 248.56635579563925], [118, 468.8753946599007, -0.38690260009629185, 495.8296149534386, 74.0407032130647], [120, 612.5350487035314, 64.90741062461473, 640.2269209239057, 154.48449281160094], [122, 778.921370277545, 135.67750855142117, 815.173757954649, 218.0753856619132], [123, 1170.2769125663383, 607.3060646502721, 1234.5911997761389, 721.3325113199647], [125, 455.31969607579424, 142.77298391565233, 493.49140544017655, 244.33501646884662], [126, 1180.0750397182749, 210.90250427354525, 1231.9695564834008, 321.9567895807207], [131, 355.3464946134843, 367.46264206999535, 409.0085031286459, 473.76609747841326], [133, 366.5398825413872, 281.1136590840176, 409.43798221055874, 374.81532726317056], [135, 674.6095793490583, 395.915950362754, 710.8090092021359, 504.41684580924175], [142, 802.922039604916, 438.93838846462745, 864.7589856564256, 575.4638867363302], [143, 48.74174282250159, 425.80452465504334, 108.84236829835292, 549.0151033680908], [145, 454.5001003258837, 494.3838777075432, 524.2542730954784, 640.6939784451718], [150, 142.80249142727308, -0.00325109183017247, 179.14553921165856, 71.06966264108911], [152, 571.5799491309422, 27.961937771316485, 598.4053910951203, 113.86179878504521]]\n"
          ]
        },
        {
          "output_type": "stream",
          "name": "stderr",
          "text": [
            "0: 384x640 35 persons, 1 bird, 206.9ms\n",
            "Speed: 6.3ms preprocess, 206.9ms inference, 1.5ms postprocess per image at shape (1, 3, 640, 640)\n",
            "\n"
          ]
        },
        {
          "output_type": "stream",
          "name": "stdout",
          "text": [
            "[<deep_sort.deep_sort.detection.Detection object at 0x7f0168166e30>, <deep_sort.deep_sort.detection.Detection object at 0x7f003548b9a0>]\n",
            "<class 'list'> class\n",
            "[[5, 636.316813466112, 213.60522619776555, 683.653581774117, 326.20094646538337], [20, 1062.4006628887869, 189.05044495929758, 1108.7966815415432, 295.9087860292956], [36, 918.7984732882869, 18.9690457538589, 944.1657681963144, 107.95091349594361], [54, 531.6726045475353, 23.90653507605891, 558.2139366854757, 111.0832271112657], [60, 605.253949299265, 292.43044809293417, 651.2420194252151, 397.29762506657323], [61, 1167.739933315694, 55.06838452533699, 1196.0279671888645, 121.34591610865795], [75, 476.96477135253804, 88.09387726760733, 511.45634909247354, 172.31086463731782], [77, 184.1362132699532, 23.97575224677872, 219.07117034416956, 91.98487349887404], [86, 1136.2455230261007, 57.841193014508015, 1169.6331134560526, 130.5027246813351], [105, 703.2635103123569, 269.8590232432659, 752.2102454147177, 380.28400611236174], [116, 48.801050262301246, 676.0408306265465, 95.63052442893809, 720.0605472353169], [117, 746.7150105599158, 163.8913649482385, 782.733073243355, 249.51537046365564], [118, 469.30915191088957, -0.342170532258109, 496.21541543872206, 73.59561086907607], [120, 612.3275192651406, 66.54529781836216, 639.9812485875258, 155.0909718566199], [122, 778.1764632870135, 134.763020573728, 815.103731215336, 218.25617975205984], [123, 1173.1875682423715, 612.1387679010546, 1236.514373491633, 724.4126696653321], [125, 455.113815485123, 140.44340906386552, 493.67724910337995, 242.97522624767555], [126, 1180.6714052107238, 212.8682236086045, 1231.527213625559, 321.2865096458215], [131, 354.31992726310915, 368.4517277933997, 410.10621894539463, 478.5066230008746], [133, 366.0359954590451, 282.18840282093134, 408.9799309016518, 375.476214132644], [135, 675.4923168552571, 392.28296884003373, 711.2386020643287, 498.95906325813576], [142, 803.9061183027688, 435.72540447214215, 863.0072087557631, 565.5789377342512], [143, 50.937062858897065, 428.59053751860523, 110.45624493345281, 549.5318632102556], [145, 454.44686033486147, 491.6654685772098, 523.3068168946382, 638.7154016124996], [152, 570.5250946190876, 26.594777966741965, 598.0131744549506, 114.5713718747526]]\n"
          ]
        },
        {
          "output_type": "stream",
          "name": "stderr",
          "text": [
            "0: 384x640 36 persons, 1 bird, 194.8ms\n",
            "Speed: 6.1ms preprocess, 194.8ms inference, 1.5ms postprocess per image at shape (1, 3, 640, 640)\n",
            "\n"
          ]
        },
        {
          "output_type": "stream",
          "name": "stdout",
          "text": [
            "[<deep_sort.deep_sort.detection.Detection object at 0x7f003c922500>, <deep_sort.deep_sort.detection.Detection object at 0x7f003548bca0>]\n",
            "<class 'list'> class\n",
            "[[5, 636.1369514428793, 214.36408245217996, 683.4957398298344, 327.43318524782006], [20, 1062.2008187167053, 187.10546674789433, 1108.2252226072032, 293.33763813338214], [36, 918.7347644928758, 18.281079451789786, 944.2307403390687, 107.93585041923163], [54, 531.6631893358906, 23.195514356849266, 558.3148010792955, 110.99225052078387], [60, 605.5149713748756, 293.40740226854103, 650.7573526028352, 396.2934156596417], [61, 1169.092562676425, 55.830622612974814, 1198.4704502929076, 123.969012949128], [75, 476.99624791237784, 86.88879207314216, 511.8213595901989, 170.25473604754313], [77, 187.04392713858408, 23.50264781850268, 220.98121332971292, 91.16049136368096], [86, 1136.818549147001, 58.15327260098617, 1170.2114157753165, 129.88043716916025], [105, 703.478067003271, 266.55856140178645, 751.5895059201331, 375.2904719846443], [116, 49.19213669872626, 680.1619955935225, 91.7656723002701, 720.1787674475199], [117, 746.9950460382265, 165.14800998563533, 783.661949596008, 251.7729895816719], [118, 469.4347116219523, -0.3021421438624472, 496.39626674121416, 73.47803294371263], [120, 612.3508563540283, 67.79445150342906, 639.7820028402289, 154.62254658726818], [122, 777.0390366111648, 133.80881160979843, 814.6302649622121, 219.02508876528742], [125, 455.4127608427847, 137.64265281205374, 494.043008401111, 240.53928223720897], [126, 1181.1400168360074, 214.20071908410225, 1231.09317211111, 319.6209535044453], [131, 354.8148148331806, 372.025428430194, 410.9725818279342, 482.2029000934773], [133, 365.9337883490161, 283.8623387605683, 408.75601122448484, 376.32760146554125], [135, 676.9080940459044, 389.71963378941865, 712.2863393907404, 495.0677869415759], [142, 805.361570420972, 431.3433008750478, 861.8726437653028, 554.5676852651213], [143, 53.89872146641699, 432.2224707879468, 113.48908701444213, 551.667894215346], [145, 454.4733685373775, 488.13164195332064, 522.225456044731, 635.4330741474367], [150, 141.71552656008845, -0.00047900796927535794, 179.2650211202474, 73.70786294698301], [152, 570.2341634009672, 26.100386086815952, 597.7873724380173, 114.16695257369526]]\n"
          ]
        },
        {
          "output_type": "stream",
          "name": "stderr",
          "text": [
            "0: 384x640 37 persons, 1 bird, 261.4ms\n",
            "Speed: 5.4ms preprocess, 261.4ms inference, 2.0ms postprocess per image at shape (1, 3, 640, 640)\n",
            "\n"
          ]
        },
        {
          "output_type": "stream",
          "name": "stdout",
          "text": [
            "[<deep_sort.deep_sort.detection.Detection object at 0x7f0168166e30>, <deep_sort.deep_sort.detection.Detection object at 0x7f003548b9a0>]\n",
            "<class 'list'> class\n",
            "[[5, 636.2490054446207, 216.5680020341035, 683.2948730122272, 329.1377123795029], [20, 1062.1749171615843, 185.11642927681507, 1107.368968470398, 289.12986296455256], [36, 919.467677912291, 18.027344936889826, 944.8179713327365, 107.27633409993922], [54, 532.3383543984202, 22.28155339996912, 558.987317569159, 110.30415092800797], [60, 605.7325590755137, 293.6979385802006, 651.1117185164009, 396.5228616182866], [61, 1171.8064420117712, 56.15161480534318, 1201.0183913817907, 123.9062801622608], [75, 477.49396076261917, 85.82860702307642, 512.7994486847238, 168.8802251983072], [77, 190.95228909327216, 21.954321810808146, 225.40217716556418, 90.88227499648002], [86, 1138.038295237614, 58.33566416116327, 1171.529551705434, 129.11097580535895], [105, 703.5797018130784, 264.7552266845297, 750.6806377616628, 370.87119230817154], [117, 747.4303465397893, 166.2275995001785, 784.3190120609711, 252.5640833166911], [118, 469.8343659418048, -0.26607863200307946, 496.77844915949254, 73.47817577884987], [120, 611.6263451146162, 68.22655995412772, 639.7690462598678, 156.4183954198553], [122, 776.3618238581993, 132.83652534161263, 814.0539163954031, 218.6998346214071], [125, 455.4474858982735, 135.3220294100598, 494.2752151544864, 239.00895015627185], [126, 1181.3249532812804, 214.62236076229053, 1231.5705023037253, 319.60526043874], [131, 355.23339069996985, 374.6478557712475, 411.78035087834854, 484.85242279138777], [133, 365.2062339065643, 284.43607009462016, 408.7343922185151, 377.91574777505696], [135, 677.8690464653221, 386.8861591855635, 713.5420491576488, 492.4365883473256], [142, 806.5821774117518, 427.18815395784804, 862.0882928709335, 547.2966968251413], [143, 55.828776080195226, 434.15404602797895, 117.68241492355507, 556.4146789582111], [145, 454.9573702642518, 484.938836640863, 521.985642226238, 632.9616258535591], [150, 141.99039977843233, -2.3912439601758706e-05, 179.50236740393356, 74.14116516156463], [152, 570.7956741568935, 25.257982522700033, 598.3922154415134, 113.3479970037922]]\n"
          ]
        },
        {
          "output_type": "stream",
          "name": "stderr",
          "text": [
            "0: 384x640 34 persons, 275.0ms\n",
            "Speed: 2.5ms preprocess, 275.0ms inference, 2.0ms postprocess per image at shape (1, 3, 640, 640)\n",
            "\n"
          ]
        },
        {
          "output_type": "stream",
          "name": "stdout",
          "text": [
            "[<deep_sort.deep_sort.detection.Detection object at 0x7f003548af20>, <deep_sort.deep_sort.detection.Detection object at 0x7f003c922500>]\n",
            "<class 'list'> class\n",
            "[[5, 634.5679586163792, 220.64810644240404, 682.3438441575785, 334.98154629804714], [20, 1061.9960777934757, 183.77823476641015, 1105.9582598945506, 284.2944241705308], [36, 918.9332859613532, 17.27807104618811, 944.5334886345966, 107.69230728735636], [54, 532.1519722948174, 21.290548924880135, 559.0251598017314, 110.04686662616265], [60, 603.8028241676859, 295.7426704580578, 651.2490418465915, 403.87799571724673], [61, 1173.3291187296918, 57.6870506736466, 1199.9179828408733, 116.0168558553311], [75, 478.13450743277934, 84.82067093238416, 513.3698593495595, 166.435981717863], [77, 196.6669731115277, 22.046243667656128, 231.24877753655812, 90.12933567472953], [86, 1138.2837462402479, 57.26668118272642, 1171.1243112054524, 126.66690624439397], [105, 703.582141636911, 262.17013567655374, 750.3901188128026, 367.3291105943373], [117, 749.1918774146318, 167.23721780728116, 786.2426289292782, 253.44924564239008], [118, 469.98108262897256, -0.23389149530046183, 496.9222837384933, 72.85186304949056], [120, 611.2958006439411, 69.68099384386514, 640.4870426858993, 160.36120106233454], [122, 775.9938446738701, 131.58893632198254, 813.8684699068651, 217.86908099870777], [125, 455.8428212910494, 133.19032822195857, 493.3331902796264, 233.22772690965962], [126, 1181.6552403788437, 217.3878351831398, 1233.4678750466744, 324.8926048120981], [131, 355.2091760934929, 380.1753155476586, 412.95310813748256, 491.6900458373436], [133, 364.4874120659465, 287.2410642009978, 407.88325191098187, 379.7806218330282], [135, 676.9963343215511, 383.9497780512443, 713.8661445255635, 492.261184380509], [142, 809.5064885871744, 422.4491507252251, 863.703795595744, 539.4387880360218], [143, 58.937589217157196, 437.44165765118555, 122.67381105361167, 561.413137216873], [145, 455.94158797803703, 479.90855425261185, 520.4332352536112, 623.5857061132953], [150, 141.88517424148918, 0.00013333965001294246, 179.79491866775183, 75.59854779348493], [152, 571.0059378163214, 24.956512407759014, 598.6371273765965, 113.04684768971194]]\n"
          ]
        },
        {
          "output_type": "stream",
          "name": "stderr",
          "text": [
            "0: 384x640 33 persons, 278.5ms\n",
            "Speed: 7.5ms preprocess, 278.5ms inference, 2.1ms postprocess per image at shape (1, 3, 640, 640)\n",
            "\n"
          ]
        },
        {
          "output_type": "stream",
          "name": "stdout",
          "text": [
            "[<deep_sort.deep_sort.detection.Detection object at 0x7f00354891b0>, <deep_sort.deep_sort.detection.Detection object at 0x7f003548bdc0>]\n",
            "<class 'list'> class\n",
            "[[5, 633.5736901377207, 222.1361254474991, 681.7210258298759, 337.1176422354353], [20, 1060.964420064515, 182.0145837557748, 1105.1279974552162, 282.59771929437693], [36, 918.7537667048484, 17.004100830171282, 944.4035687924387, 107.85383851507451], [54, 532.1639029254671, 20.93095427511639, 558.9503869579538, 109.2986513838232], [60, 603.1664670315516, 297.76794702669105, 651.2194494437206, 407.8668604556408], [61, 1176.0010747277497, 58.16496836367797, 1201.8824999084873, 114.9427896602719], [75, 477.69883793838613, 83.16608292290275, 513.5834687766165, 165.5854529282702], [77, 199.92341057343856, 22.744426039346557, 234.7694547624995, 89.87018269326578], [105, 702.9123725651165, 259.96383374506723, 750.2978091497979, 366.1313959564126], [117, 749.6331742312952, 168.655802823472, 786.7875476129973, 255.10891353344374], [118, 470.45804133107646, -0.20395826168044806, 497.2172791086991, 71.9883428743934], [120, 611.0133037926246, 70.20272871745686, 640.9164028247217, 162.4760390171634], [125, 456.484673596009, 130.4594532623899, 493.16039760462183, 228.4135882379658], [126, 1181.637624042373, 219.68346499689733, 1234.9537630682044, 330.1084013919541], [131, 355.26245087119975, 384.16064652803044, 413.34812567040007, 494.8469637691756], [133, 364.0040745825725, 289.5764201430087, 407.14327783005297, 381.0903948112797], [135, 676.0130951076968, 381.6322263906253, 713.9546100013106, 492.3004176192728], [142, 809.2049417912388, 418.8469300848719, 864.2788773193196, 537.4453943591743], [143, 60.72152387122288, 440.5808726270386, 125.1478641283231, 563.8947232594655], [145, 457.103457544967, 475.4785046686391, 519.7113520510799, 616.1194707481542], [150, 141.66776877174246, 0.0001812750158407539, 180.0946255678076, 77.43005386567668], [152, 571.1722998569581, 24.85925662162842, 598.651340204695, 112.27660794717826]]\n"
          ]
        },
        {
          "output_type": "stream",
          "name": "stderr",
          "text": [
            "0: 384x640 33 persons, 1 bird, 266.4ms\n",
            "Speed: 10.8ms preprocess, 266.4ms inference, 2.1ms postprocess per image at shape (1, 3, 640, 640)\n",
            "\n"
          ]
        },
        {
          "output_type": "stream",
          "name": "stdout",
          "text": [
            "[<deep_sort.deep_sort.detection.Detection object at 0x7f01681645b0>, <deep_sort.deep_sort.detection.Detection object at 0x7f003548b850>]\n",
            "<class 'list'> class\n",
            "[[5, 633.3089683944311, 223.29402988279375, 681.4080815022234, 337.8437073126776], [20, 1058.6276766353403, 179.42515586213844, 1103.5034405709368, 280.72340077402765], [36, 918.7059098363768, 16.91010043997516, 944.3340583576564, 107.91980095320056], [54, 532.3297264371265, 20.813924543180335, 558.7542736594052, 107.70150468555899], [60, 602.7706815380495, 300.4482346862393, 651.3539845204916, 411.95211089689474], [75, 477.827630873062, 81.9344316130423, 514.0238685491084, 164.66095486007094], [77, 200.90714631340848, 22.994674245361985, 236.02789647061306, 89.79661714963666], [105, 702.5042881750423, 257.8967492535228, 750.4356934998247, 365.12141795842274], [118, 470.2377038867277, -0.1774699143544396, 496.3827814788555, 69.69744785743092], [120, 610.6732412471246, 70.3686893719409, 641.3122551251864, 164.5530757035857], [125, 455.4687254302814, 127.51436773712467, 492.3531919501418, 226.0432207796158], [126, 1180.667865871355, 221.8059509571197, 1235.1483158006704, 334.65000177617185], [131, 355.8626552886727, 386.2446715315084, 413.5913525983525, 495.27477665505165], [132, 46.604209840630645, 69.00787941646217, 82.49966375010244, 152.96084784475374], [133, 362.5656377585137, 291.72200953313217, 406.16569883169564, 384.1815779426489], [135, 675.45241336933, 379.54804154243317, 714.1408733036668, 491.7746981344713], [142, 807.70271917697, 415.6548230164364, 864.5117522081272, 538.2024861844909], [143, 60.77100187493829, 443.66289708040387, 127.87189980380404, 571.364274099174], [145, 458.1496877776265, 471.2985892522529, 518.8258961587472, 608.8018899292076], [150, 141.55604630946564, 0.00018730379603226766, 179.6012320160574, 77.46005755512078], [152, 570.9319362245983, 24.838652131318284, 598.2999541422244, 111.99670058433507], [153, 1256.2380070764486, 168.0, 1279.7619929235514, 247.35616471580806]]\n"
          ]
        },
        {
          "output_type": "stream",
          "name": "stderr",
          "text": [
            "0: 384x640 32 persons, 1 bird, 225.6ms\n",
            "Speed: 7.0ms preprocess, 225.6ms inference, 1.6ms postprocess per image at shape (1, 3, 640, 640)\n",
            "\n"
          ]
        },
        {
          "output_type": "stream",
          "name": "stdout",
          "text": [
            "[<deep_sort.deep_sort.detection.Detection object at 0x7f00354891b0>, <deep_sort.deep_sort.detection.Detection object at 0x7f003548ace0>]\n",
            "<class 'list'> class\n",
            "[[5, 632.7765620061512, 224.325456450057, 680.4476229072299, 337.36840626570597], [20, 1056.762259933752, 177.86099159811477, 1102.6299296233071, 280.7768895224376], [36, 918.7070885746632, 16.884552845348416, 944.2899161634554, 107.94814423919487], [54, 532.28272176281, 20.126094684407242, 558.7841553216545, 107.10668359592336], [60, 602.2088100379973, 303.37637690471576, 650.5090225760704, 414.7477365518649], [75, 477.35223372615286, 80.199597299809, 513.3806497278775, 163.05055218977168], [77, 202.3734282726544, 23.747893309975638, 237.8347956370133, 90.45815240604864], [105, 702.4591222385865, 256.54275965566455, 751.054968025388, 365.5038208931652], [117, 752.5199593699808, 171.07783894420268, 788.0684272362408, 253.85710438328235], [118, 470.1922918184189, -0.1519051808426113, 496.02579499241523, 68.21090795372405], [120, 610.2360223967202, 71.70722291919915, 641.1175559181974, 166.60857013829116], [125, 455.689104362876, 127.1525013742634, 492.130748889502, 224.578368210306], [126, 1180.245726376979, 223.20851650880257, 1235.2460142937139, 337.62348497155284], [131, 355.9656794820526, 387.5905531239858, 413.81609283228624, 495.98038865889635], [132, 46.26718751978012, 68.95113078876075, 81.8478818826469, 152.99522011994742], [133, 361.531015827643, 293.7886916507084, 405.67359217296246, 387.2631376788094], [135, 674.3196742302122, 378.2067816618263, 713.7912952574322, 492.33645524815324], [142, 807.3153319332441, 414.58263912942607, 864.3940809238482, 537.3087940030234], [143, 59.93082770126544, 446.7069552874244, 128.3426046720689, 576.6923644755856], [145, 459.6908364937289, 467.8838060389685, 518.009048521605, 600.8806812826676], [150, 141.48492925690238, 0.00017481432055177493, 179.45025230483006, 78.08785139592365], [152, 571.2161642309121, 25.509425864870266, 597.7999471788547, 109.90729131499022], [153, 1256.0180325083643, 168.0, 1279.9819674916357, 248.8402958987719]]\n"
          ]
        },
        {
          "output_type": "stream",
          "name": "stderr",
          "text": [
            "0: 384x640 32 persons, 1 bird, 200.3ms\n",
            "Speed: 3.1ms preprocess, 200.3ms inference, 1.4ms postprocess per image at shape (1, 3, 640, 640)\n",
            "\n"
          ]
        },
        {
          "output_type": "stream",
          "name": "stdout",
          "text": [
            "[<deep_sort.deep_sort.detection.Detection object at 0x7f003548b9a0>, <deep_sort.deep_sort.detection.Detection object at 0x7f00354f6bc0>]\n",
            "<class 'list'> class\n",
            "[[5, 632.3880620178638, 224.64800558983475, 679.6517172975967, 336.43658055276836], [20, 1054.5426779567465, 176.67842331897288, 1100.5922308648546, 279.55691708451013], [36, 918.7253131164923, 16.88416493023066, 944.2572632876688, 107.96154225586997], [54, 532.6192269019626, 19.88470738986217, 559.0985002015326, 106.23707446707816], [60, 601.1836542475655, 305.7422872606724, 649.6830306478569, 417.69682558084213], [75, 477.1963624847304, 78.93591845772195, 513.1033025521375, 162.501394752365], [77, 203.47018931593402, 24.017053731522644, 239.06813533791336, 90.71903080330898], [105, 702.381594618112, 255.45234109896342, 751.3612699774784, 365.0765124402586], [117, 752.8590915483095, 171.44482289815875, 788.3821289882267, 254.32675413693755], [118, 469.8254961785265, -0.13138162495288697, 495.56965601520625, 67.03555148219823], [120, 610.1588516181548, 73.49985601085035, 640.9504447214542, 168.00207280265755], [125, 455.0127337846613, 125.77150789664748, 491.4897887781207, 223.45879932045585], [126, 1180.1401111768619, 225.64047121609394, 1235.2047388657202, 340.640706863201], [131, 355.8857675984405, 388.00340359866186, 414.0220730343139, 496.1495423240893], [132, 46.21974156664953, 69.59258662220284, 81.55860936749895, 153.66728803684018], [133, 361.52473983380617, 294.50966851004137, 404.4856698888894, 385.07625072679315], [135, 673.8453336330151, 376.48647743882145, 713.680147257467, 491.3316021521626], [142, 808.1350476518985, 413.6819331412408, 865.327267244026, 536.4923424837597], [143, 60.25503615139309, 449.0902954583362, 129.03293888492243, 579.9411347210714], [145, 460.6071093927713, 464.7592225670737, 518.0303568881659, 596.7784092827901], [150, 141.56227640071904, 0.00015924015474411135, 179.2999231117932, 78.30027703935066], [152, 571.3063738558089, 25.777776295428886, 597.6375292283933, 109.13324647689097], [154, 850.4051288611762, 0.0, 880.8446647566324, 63.0]]\n"
          ]
        },
        {
          "output_type": "stream",
          "name": "stderr",
          "text": [
            "0: 384x640 32 persons, 204.3ms\n",
            "Speed: 2.6ms preprocess, 204.3ms inference, 1.7ms postprocess per image at shape (1, 3, 640, 640)\n",
            "\n"
          ]
        },
        {
          "output_type": "stream",
          "name": "stdout",
          "text": [
            "[<deep_sort.deep_sort.detection.Detection object at 0x7f013411be50>, <deep_sort.deep_sort.detection.Detection object at 0x7f003548b850>]\n",
            "<class 'list'> class\n",
            "[[5, 632.6349782285658, 226.03436904820086, 679.6662209639572, 336.67794230174144], [20, 1052.2016428441964, 174.31852795309672, 1099.416684153914, 280.5047125037437], [36, 919.6447716677809, 18.211311165383705, 944.6530883953875, 107.30940039129204], [54, 532.7869299118431, 19.149479702785314, 559.1723216818547, 104.5995758657328], [60, 600.319663232675, 309.1974876771473, 649.1968839847824, 422.01171487403866], [75, 477.06340138660846, 77.19121732207779, 512.4092007416893, 161.02959009154057], [77, 205.81267936561824, 22.105340775328727, 242.05183455448756, 90.16070918830715], [105, 701.6731144381697, 253.14480746387673, 751.5081765105879, 365.0001808854256], [117, 753.2972695816069, 174.23675017127908, 789.4968097512244, 259.15011752378865], [118, 469.23423498542735, -0.11395175533400703, 494.5122271965805, 65.30140327107802], [120, 610.6831480667628, 75.46691343177196, 640.9916440604331, 168.47920680844976], [125, 454.78136290080835, 123.99575031270153, 491.24282377921287, 221.79260256401847], [126, 1180.8461823387704, 229.78105176854586, 1235.7335642083099, 344.3278279789477], [131, 355.78738374880095, 390.0562938527413, 412.8460689351294, 495.4621994895817], [132, 46.009531368103325, 69.83965079685638, 81.0098612854259, 153.91933812422752], [133, 359.3246386546455, 296.7030792693244, 404.28324684776493, 392.1654335584809], [135, 674.9489380161497, 373.9646476957548, 714.3030214599466, 487.7566391096957], [142, 809.920410463446, 408.8427950415397, 868.1465265680482, 535.005650220432], [143, 62.36548361937844, 451.87090531008016, 130.45293767590667, 582.3763221269244], [145, 460.1388905310709, 459.7257767309334, 518.1636635878531, 594.7687208240225], [150, 141.95650997957486, 0.0001426498597822956, 179.54433923232583, 78.35260724703929], [152, 571.3201380746408, 25.21256999775901, 597.6040949837749, 108.19792522839754], [154, 850.421340371551, 0.0, 880.8608766001818, 63.0]]\n"
          ]
        },
        {
          "output_type": "stream",
          "name": "stderr",
          "text": [
            "0: 384x640 31 persons, 191.4ms\n",
            "Speed: 4.4ms preprocess, 191.4ms inference, 1.5ms postprocess per image at shape (1, 3, 640, 640)\n",
            "\n"
          ]
        },
        {
          "output_type": "stream",
          "name": "stdout",
          "text": [
            "[<deep_sort.deep_sort.detection.Detection object at 0x7f003548bdc0>, <deep_sort.deep_sort.detection.Detection object at 0x7f01681645b0>]\n",
            "<class 'list'> class\n",
            "[[5, 632.3038979997905, 227.16151349891734, 679.4741463289278, 337.371544964445], [20, 1051.1664712760255, 173.4847568495909, 1098.5485796251562, 280.90899385814737], [36, 919.9880673016063, 18.72458281295483, 944.8114726589258, 107.06407069660625], [54, 532.8862923992768, 19.555612414318936, 559.1571856551875, 104.0031340401959], [60, 600.4974319086433, 311.7524473741758, 649.1749686590136, 424.21975101592005], [75, 476.66720333277027, 75.26406163681824, 511.82951322687796, 160.5263960627293], [77, 207.62905951717184, 21.38843640858149, 243.37410760105573, 89.30104415244546], [105, 701.6979086169678, 251.0298564679297, 751.9332675153886, 364.3796686142007], [117, 753.376507780135, 175.88929712296226, 789.9608347821361, 262.20985469789406], [118, 468.2822313133441, -0.09791034747561866, 493.5095248204084, 64.7136488441657], [120, 611.357425152401, 76.83673427668793, 641.1964989305035, 168.6021408331669], [125, 454.82146567921734, 123.39695847270568, 491.03953938770235, 220.58327343458598], [126, 1181.1021460975717, 231.94685452767834, 1235.9315741361931, 346.29750125321567], [131, 354.85057522606763, 391.40040184205657, 411.29738122996287, 495.1005570964702], [132, 46.01531451907601, 69.93560534637405, 80.74575205009529, 154.01084362926048], [133, 357.4912234619173, 298.12801264797577, 403.9618312250042, 397.3122032522659], [135, 675.2146765452248, 371.7898501912638, 714.024639415531, 483.84121798036927], [142, 812.0076118742154, 405.8167556748982, 869.7177418743295, 531.9273199591595], [143, 63.91840810114047, 454.14786382093826, 130.78009097259374, 583.1820530505277], [145, 458.77780283392366, 456.6555873837269, 517.4119757313457, 594.1562405216469], [150, 142.4359436593016, 0.00012687486878348864, 179.9756106512941, 78.3457713867298], [152, 571.0180857391853, 24.34100067946028, 597.2374417899593, 107.20452958709336], [156, 295.48429811296364, 327.0, 336.53209859630783, 415.0], [157, 221.28256903661403, 315.0, 261.7340477608305, 412.01661679744456]]\n"
          ]
        },
        {
          "output_type": "stream",
          "name": "stderr",
          "text": [
            "0: 384x640 29 persons, 197.8ms\n",
            "Speed: 8.6ms preprocess, 197.8ms inference, 1.5ms postprocess per image at shape (1, 3, 640, 640)\n",
            "\n"
          ]
        },
        {
          "output_type": "stream",
          "name": "stdout",
          "text": [
            "[<deep_sort.deep_sort.detection.Detection object at 0x7f003548ace0>, <deep_sort.deep_sort.detection.Detection object at 0x7f00354f4670>]\n",
            "<class 'list'> class\n",
            "[[5, 631.9731086840837, 228.85590699423747, 678.9815971963643, 337.57810203527146], [20, 1050.6682453684184, 172.5808658578291, 1097.7569786992162, 279.81978556772094], [36, 920.1058292889123, 18.91630169563686, 944.8762282911681, 106.97722319736532], [54, 532.9566396402427, 19.726251699096622, 559.1115738673782, 103.1377650902749], [60, 600.4964157716821, 312.64460939960054, 649.2540653791444, 424.95793792273525], [75, 476.7300064783314, 74.58446622126202, 511.4002087311511, 160.38237408425613], [77, 209.45580046664736, 21.11447990415595, 244.5102041427054, 88.98630619801781], [105, 702.033201600148, 250.29742981059036, 751.778990010754, 362.89919756445096], [117, 753.8196566241727, 177.1217621382781, 790.3366246689271, 263.9747458507908], [118, 468.21517073892306, -0.261336541568177, 493.0731516412602, 63.60101878787972], [120, 612.0037498208414, 77.97350083730562, 641.5429384153525, 168.59836565325577], [125, 454.4569048757701, 122.57951153650262, 490.6961591495779, 220.21016823587286], [126, 1181.4537325612175, 234.00722593956172, 1235.732694151808, 346.9494320188528], [131, 354.20622069311014, 392.48378537073535, 411.0294971643805, 496.90143359594833], [132, 46.09069173450958, 69.97294739139319, 80.60114970528181, 154.04096804258734], [133, 356.62036769324607, 299.76469693064325, 403.4272722791836, 399.66712000980283], [135, 675.197512667502, 368.4216017439513, 714.0187521061595, 479.8036825582013], [142, 813.8188571300769, 402.1640702600532, 871.2359419607883, 528.9065776765946], [143, 64.79754385886324, 454.90863813151867, 131.1452562297319, 584.0244735672447], [145, 458.1202185389156, 454.9729343704151, 516.6047636811011, 592.7614327522699], [150, 142.77134003693084, 0.00011248783913941907, 179.99466997610125, 77.66252331012942], [152, 570.9134832676837, 24.02412987595757, 597.0993935484686, 106.85743387627623], [156, 295.5756186552316, 327.0, 336.623419176759, 415.0], [157, 221.3358751929947, 315.0, 261.8635957158464, 412.199470908841]]\n"
          ]
        },
        {
          "output_type": "stream",
          "name": "stderr",
          "text": [
            "0: 384x640 30 persons, 1 backpack, 202.4ms\n",
            "Speed: 14.2ms preprocess, 202.4ms inference, 1.5ms postprocess per image at shape (1, 3, 640, 640)\n",
            "\n"
          ]
        },
        {
          "output_type": "stream",
          "name": "stdout",
          "text": [
            "[<deep_sort.deep_sort.detection.Detection object at 0x7f003548bdc0>, <deep_sort.deep_sort.detection.Detection object at 0x7f00354891b0>]\n",
            "<class 'list'> class\n",
            "[[5, 630.9334030835057, 230.09973684212707, 678.418048244, 339.59733951921305], [20, 1050.1783749790857, 170.98772673327994, 1097.1923167886857, 278.80325587508054], [36, 920.0441037511035, 18.98685990561178, 945.000664772658, 106.9496460121141], [54, 533.2099994433289, 19.804716285166243, 559.5278617311752, 102.83854173828342], [60, 600.1869549143488, 313.56204104293374, 648.9492160090248, 425.80057087765476], [75, 475.84916756812913, 72.41091034034903, 510.83178094871414, 160.37835225550685], [77, 210.55047829293028, 20.350796645731734, 245.0058826448878, 88.8812079057479], [105, 703.3713469883619, 249.44539146814344, 752.4952750741263, 361.08440455523277], [117, 755.0798777960305, 179.50665837027708, 791.3169392812819, 266.55321174762855], [120, 612.2257929902134, 78.3569139006467, 641.6885340192829, 168.55148065097126], [125, 454.36477632972554, 121.66998326256235, 490.5382876339606, 219.47620493181927], [126, 1181.9671579673482, 235.3652176514496, 1235.9179926517168, 347.09469065430005], [131, 352.78678950644064, 392.8183409571833, 410.80059484767656, 500.1666462171146], [132, 46.18186878483894, 69.9876078281955, 80.50964772000054, 154.0480890394947], [133, 356.2706780441781, 300.32584314749477, 403.4136179979409, 401.2376396043862], [135, 675.9908261547383, 366.5922104959337, 713.8647616106995, 474.41019757788126], [142, 816.3065186598, 398.9296549711313, 871.9257500551445, 522.6154636364901], [143, 66.84323216702809, 455.76685807686164, 131.43886755808217, 582.2656035436978], [145, 458.25585523330534, 451.84180236369644, 517.8955273782888, 593.7083120630741], [150, 143.04882146457578, 9.891870057998631e-05, 180.5153875674685, 78.03824343295173], [152, 570.6869693096297, 23.916197788219137, 596.5784939399882, 106.08690668984022], [157, 221.49825797352875, 315.0, 261.54852751090345, 411.16915645665665]]\n"
          ]
        },
        {
          "output_type": "stream",
          "name": "stderr",
          "text": [
            "0: 384x640 30 persons, 1 backpack, 214.7ms\n",
            "Speed: 12.0ms preprocess, 214.7ms inference, 1.5ms postprocess per image at shape (1, 3, 640, 640)\n",
            "\n"
          ]
        },
        {
          "output_type": "stream",
          "name": "stdout",
          "text": [
            "[<deep_sort.deep_sort.detection.Detection object at 0x7f003548b850>, <deep_sort.deep_sort.detection.Detection object at 0x7f00354f73d0>]\n",
            "<class 'list'> class\n",
            "[[5, 630.4013698770975, 231.1758785982753, 678.3849305787616, 341.62963376006064], [20, 1050.0866212105136, 169.78527272054396, 1096.3073006447087, 276.4961056234323], [36, 919.880461959426, 18.348695632893943, 945.1821513251346, 106.94405529360222], [54, 533.5152639762847, 19.179863185928255, 560.1312917434927, 102.75026854879762], [60, 600.0698298848254, 313.83480933318833, 648.8471672864027, 426.0308332842897], [75, 475.0767424077106, 70.32739432535084, 510.4095497266515, 160.4119274318668], [77, 212.21269279651983, 19.40807974177647, 245.76162015238634, 87.53363821469259], [105, 704.3064089303774, 248.53706984354878, 752.3413660671024, 357.81868641711094], [117, 755.7774809299024, 180.35813215378857, 792.087538247246, 268.7836177720901], [120, 612.5718242414146, 78.46019004898237, 642.1359251940991, 168.49596725506427], [125, 453.99338545168257, 120.72500134601493, 490.1707435341859, 218.6049792335666], [126, 1181.7477384033025, 236.45839107451735, 1235.7183566649517, 347.0613897857482], [131, 351.48219746154695, 394.19858207855646, 410.84860689227696, 505.27300493141405], [132, 46.270325856176484, 69.9934913116057, 80.44401371976298, 154.04692433925902], [133, 355.73304727239037, 301.9527482942555, 403.0610159479758, 403.8392139872743], [135, 676.0213947084068, 363.34696804299426, 713.3888064451747, 469.147505504442], [142, 818.0885818690327, 395.8576734846265, 871.9415662926789, 516.3712083472167], [143, 68.75805023799272, 455.9878741235944, 132.27826578377574, 580.8149827237783], [145, 459.4715803742569, 448.8047606079181, 519.1793610048712, 592.8522764583895], [150, 143.65425463502262, 8.785539738909165e-05, 180.8690626747468, 77.50715994568208], [152, 570.4457524497902, 23.220544377927716, 596.54875053353, 106.48935038793638], [156, 295.9618543155427, 327.0, 337.00700216284196, 415.0], [157, 221.55326835177948, 315.0, 261.48415487797894, 411.0083052817469]]\n"
          ]
        },
        {
          "output_type": "stream",
          "name": "stderr",
          "text": [
            "0: 384x640 31 persons, 1 backpack, 211.3ms\n",
            "Speed: 5.9ms preprocess, 211.3ms inference, 2.1ms postprocess per image at shape (1, 3, 640, 640)\n",
            "\n"
          ]
        },
        {
          "output_type": "stream",
          "name": "stdout",
          "text": [
            "[<deep_sort.deep_sort.detection.Detection object at 0x7f003548af20>, <deep_sort.deep_sort.detection.Detection object at 0x7f003548ace0>]\n",
            "<class 'list'> class\n",
            "[[5, 630.5741753572945, 234.8284357504505, 678.6946159870336, 345.6459277502979], [20, 1050.387751248211, 166.75024768915364, 1095.062659917441, 270.3849256125933], [36, 920.1494810715399, 17.44771381676854, 945.5753864179522, 106.28550582972329], [54, 534.0664439656923, 18.29430503083382, 561.2356145581614, 102.7374926390658], [60, 601.552861314779, 316.50511973171103, 649.2734197309547, 426.0352690022172], [75, 475.02992904211055, 68.92781925825369, 510.0079018745831, 159.1601980909458], [77, 215.7688202855973, 19.057166870741412, 248.90679494072947, 87.03603677171641], [105, 707.0095489127365, 244.94378695693968, 753.2572325252921, 350.00161160274376], [117, 758.4773254820315, 183.9036261168987, 793.8310579010312, 270.2217592873749], [120, 612.7518395037561, 79.12414718444586, 642.2448105688047, 169.10377204143873], [125, 455.2281757907872, 119.10246968147375, 490.65788852354785, 214.37063360768803], [126, 1182.4066958097078, 238.11892826653605, 1236.2113114712874, 347.6336453522882], [131, 349.44112508312537, 396.6213766684373, 410.4783850024345, 513.0173268738904], [132, 46.62538933867059, 69.99596510071075, 80.77916395773411, 154.0430593494267], [133, 355.7400116122566, 303.1707088453908, 401.4434401755895, 401.47014914953525], [135, 678.5756146480545, 359.56994200354285, 714.6744914229569, 461.9645858245444], [142, 820.0131889031134, 390.8385655914556, 871.9475702275342, 506.8320733681221], [143, 70.6101546891104, 459.31513876417296, 134.00671038980988, 584.8519922043283], [145, 460.7268762197806, 446.45979707708307, 520.1935571667399, 591.3303961392219], [150, 144.27841785581222, 0.6602642024042282, 181.92857451102353, 79.26747809723781], [152, 570.3961425635772, 22.30998199547544, 596.5068237123453, 105.99677125870535], [156, 296.0962855944743, 327.0, 337.1414334732321, 415.0], [157, 221.61845143309472, 315.00000000000006, 261.48984384027415, 410.86526038537914]]\n"
          ]
        },
        {
          "output_type": "stream",
          "name": "stderr",
          "text": [
            "0: 384x640 31 persons, 207.7ms\n",
            "Speed: 5.0ms preprocess, 207.7ms inference, 1.5ms postprocess per image at shape (1, 3, 640, 640)\n",
            "\n"
          ]
        },
        {
          "output_type": "stream",
          "name": "stdout",
          "text": [
            "[<deep_sort.deep_sort.detection.Detection object at 0x7f003c922500>, <deep_sort.deep_sort.detection.Detection object at 0x7f013411be50>]\n",
            "<class 'list'> class\n",
            "[[5, 630.2336513755712, 238.13782688148137, 677.2734361823507, 345.7919809205223], [20, 1050.4404615966507, 165.0073116689533, 1094.0778013550394, 266.8063953847702], [36, 919.9908680932022, 15.12678942136099, 945.9791987153653, 106.04079284469432], [54, 534.2949879544627, 17.312833850754252, 562.2783794184437, 103.41122638516805], [60, 602.2262610923115, 318.107345569309, 649.3428310475321, 425.9440858300735], [75, 474.86498810268233, 68.45002847719091, 509.36040111194745, 158.060838804161], [77, 219.52018171196275, 19.59694500443907, 252.15046305539212, 86.86543214867206], [105, 708.0906611444008, 242.33395005650806, 752.8497040155303, 343.79794364286005], [117, 759.7458166802701, 185.86232402139052, 794.2151216190689, 270.02021986280954], [120, 612.9203460724917, 80.66400479891716, 642.1740664426545, 169.9637198865663], [125, 455.61869470351144, 117.21793307421368, 491.61066093992173, 213.50853064223588], [126, 1183.3093687988076, 239.33114267154141, 1237.0538008147655, 348.4415741273639], [131, 348.8172139520145, 399.43614777447726, 409.5527825838159, 517.8589390775837], [132, 46.77287406537228, 69.99710053668234, 80.90939325339451, 154.03857655786015], [133, 355.51016044645104, 304.2278262966961, 401.11626036051507, 402.43964816281056], [135, 679.8112383403361, 356.93907341129244, 715.5248011703634, 458.7712737521255], [142, 819.6249638683743, 385.7548144070767, 871.6175972310318, 501.44378192980776], [143, 71.3722792005913, 461.80840321678, 135.8042860850831, 590.26086408654], [145, 461.92126914729755, 444.3804243203604, 521.1707857913391, 589.5439431537486], [150, 143.51571681392898, 0.9078283338338196, 182.0067065640111, 81.22877639511857], [152, 570.32592350537, 21.316852530105194, 596.5533503627577, 105.83001839237583]]\n"
          ]
        },
        {
          "output_type": "stream",
          "name": "stderr",
          "text": [
            "0: 384x640 29 persons, 1 suitcase, 185.4ms\n",
            "Speed: 5.7ms preprocess, 185.4ms inference, 1.5ms postprocess per image at shape (1, 3, 640, 640)\n",
            "\n"
          ]
        },
        {
          "output_type": "stream",
          "name": "stdout",
          "text": [
            "[<deep_sort.deep_sort.detection.Detection object at 0x7f003548b850>, <deep_sort.deep_sort.detection.Detection object at 0x7f00354f53c0>]\n",
            "<class 'list'> class\n",
            "[[5, 630.0506105822693, 239.31756003598684, 676.8238478042233, 345.7644240480123], [20, 1050.053185893625, 162.42416367414265, 1093.5236988940853, 264.22183909488007], [36, 920.0597664434574, 14.755939777319384, 946.1036958957104, 105.86667787466867], [54, 534.5817121785188, 16.299273279412454, 563.1121324362925, 103.68041559630336], [60, 603.0806178571929, 319.96656038651395, 650.1017032321857, 427.8417139790472], [75, 474.9848029123178, 67.67012438501983, 508.94565536960215, 156.36437631778466], [77, 222.9252317257152, 19.145398512702783, 255.8496485228724, 86.81894239244878], [105, 707.7699109400417, 240.1074755866798, 752.0427404326175, 340.280111525302], [117, 759.9549809282794, 185.8573122567351, 794.5585987954353, 270.53712801864083], [120, 612.9865332576005, 81.87200811884725, 642.7973487635564, 172.91195720339434], [125, 455.2623501508649, 115.24497290232739, 491.1420789418527, 210.59857565588135], [126, 1183.8831142694526, 239.71435991261635, 1237.776966406899, 348.6808624174617], [131, 348.7303468473657, 402.4132823757301, 408.41891326361593, 520.9425953087385], [132, 47.22269696679492, 69.99769844745798, 81.23815174389534, 154.03422181623256], [133, 355.0816067772335, 305.89426482277173, 400.7167786521898, 404.0641777003338], [135, 680.3881276254227, 355.4046584224541, 715.6818413258264, 457.06252425404597], [142, 819.3975943166153, 382.6851710370329, 871.5295030845994, 498.2924848363054], [143, 71.95955461588561, 463.33383145338667, 138.71070550602434, 597.4715427989547], [145, 463.3473709046498, 441.7406063555069, 521.8683193725197, 585.6795359225057], [150, 143.5943051321117, 0.9995588914134643, 182.31041272946368, 81.95803817058999], [152, 569.6825403176294, 20.297395301459183, 595.8789667572391, 105.12585332460793]]\n"
          ]
        },
        {
          "output_type": "stream",
          "name": "stderr",
          "text": [
            "0: 384x640 29 persons, 218.2ms\n",
            "Speed: 6.4ms preprocess, 218.2ms inference, 1.5ms postprocess per image at shape (1, 3, 640, 640)\n",
            "\n"
          ]
        },
        {
          "output_type": "stream",
          "name": "stdout",
          "text": [
            "[<deep_sort.deep_sort.detection.Detection object at 0x7f003548b9a0>, <deep_sort.deep_sort.detection.Detection object at 0x7f01681662c0>]\n",
            "<class 'list'> class\n",
            "[[5, 629.1413060996401, 240.3548257423161, 676.8644889985023, 349.0349652442493], [20, 1049.3174054640995, 160.20009818587144, 1092.643058641886, 262.01082034827743], [36, 919.0573523478041, 7.887179569797183, 947.0229634115312, 105.93080706395118], [54, 534.8291442330651, 16.58455985352554, 563.2721001705004, 103.13999894389067], [60, 603.1777240974764, 321.9214118944197, 650.6027955462071, 431.14453919155886], [75, 474.7106836182504, 66.76953025531117, 508.46449577165544, 155.10056152324006], [77, 226.4421576991904, 18.982975372978245, 260.1085750556789, 86.81492036354393], [105, 707.6482142173278, 238.02546818608477, 752.4082170456816, 339.10663643634234], [117, 761.3339482320287, 187.79002742572047, 795.3211692261473, 270.01935408766576], [120, 612.6366318181949, 82.95054134936863, 642.7382527640533, 175.2986892519088], [125, 454.6726173630634, 112.5684847549775, 490.75632154928564, 208.24304349213503], [126, 1183.7451371428401, 240.45392375095835, 1238.3767973570073, 350.7008748373506], [131, 348.26783148478825, 404.79623873903506, 406.4878194175635, 522.0171423481737], [132, 47.42751538985051, 69.99806995807904, 81.33679998987827, 154.03023525260915], [133, 354.6515807207379, 308.448161792585, 400.2196061212574, 406.59176108644596], [135, 680.5616115151394, 352.9367320750745, 716.4146513075523, 457.233622353522], [142, 819.2584564166324, 381.01891908761917, 872.1602250476585, 497.961844299032], [143, 72.62073075545499, 467.0935968032908, 139.9442429454987, 604.0267473446733], [145, 464.60124468235284, 438.883136923245, 522.7170981854257, 582.3330685858776], [150, 143.7796707338964, 1.685732153544869, 182.26420096015732, 82.21314447484545], [152, 569.3898825834838, 19.268763611033208, 595.6813545641671, 104.87676130316211], [157, 221.85737511899964, 314.0824272659628, 261.16907673066487, 409.1183759147229]]\n"
          ]
        },
        {
          "output_type": "stream",
          "name": "stderr",
          "text": [
            "0: 384x640 30 persons, 211.4ms\n",
            "Speed: 2.9ms preprocess, 211.4ms inference, 1.5ms postprocess per image at shape (1, 3, 640, 640)\n",
            "\n"
          ]
        },
        {
          "output_type": "stream",
          "name": "stdout",
          "text": [
            "[<deep_sort.deep_sort.detection.Detection object at 0x7f003548b850>, <deep_sort.deep_sort.detection.Detection object at 0x7f00354f6560>]\n",
            "<class 'list'> class\n",
            "[[5, 628.5701882970795, 241.34839196414347, 676.4801377856146, 350.20376995750223], [20, 1048.5935210363566, 158.7734095866099, 1091.4989274494908, 259.27543781550855], [36, 919.0576736658252, 5.638401232023973, 947.6816278580475, 105.92441809976447], [54, 535.4337604795055, 16.05563930239201, 564.1185839419388, 102.94484663998448], [60, 603.1083857683429, 325.230032012322, 650.8901618944763, 436.28173319722833], [75, 474.9582319987452, 65.15923757098344, 507.94804560435784, 151.3631708189126], [77, 228.96257426510687, 17.606973866112966, 263.6354757729343, 86.1660653229249], [105, 706.616296292674, 235.3305242643067, 751.5202543275936, 336.77509517979576], [117, 761.3714579936058, 187.10898759453383, 796.0243672594953, 270.4188445983393], [120, 612.2545131619169, 83.98098548095471, 642.2972143116195, 176.8242341746115], [125, 454.5376794085548, 110.96344763949025, 490.5325158915735, 206.1063810124931], [126, 1184.408824558679, 242.65459835791754, 1239.8408452931933, 354.70558208296643], [131, 348.04669775977857, 406.28567467990763, 405.8310677299212, 524.2797037764077], [132, 47.64722431695778, 69.9983372748193, 81.2372384397485, 153.36570166176207], [133, 354.16914312389406, 310.0165491270209, 400.396222814958, 409.4608711277321], [135, 680.428956153086, 351.4401930156451, 716.1981489742676, 456.07377497786695], [142, 819.5387984432093, 379.1978688360124, 873.3423549933489, 497.987904343723], [143, 73.83271283721068, 470.42546614091674, 140.6543065440418, 607.7646808104163], [145, 463.80796765967665, 433.95980161856676, 522.9532114091471, 579.8518445613017], [150, 143.48030028114843, 2.602912406483007, 181.94973208186386, 82.94177562969796], [152, 569.2169017221098, 18.898631922097387, 595.0239672564527, 103.48425133716054], [156, 257.24840794676004, 311.9498011371683, 311.8661999995274, 430.0501988628316], [157, 221.44751720513577, 313.28574288203635, 260.86695612513716, 408.94127139150714]]\n"
          ]
        },
        {
          "output_type": "stream",
          "name": "stderr",
          "text": [
            "0: 384x640 30 persons, 203.8ms\n",
            "Speed: 2.8ms preprocess, 203.8ms inference, 1.5ms postprocess per image at shape (1, 3, 640, 640)\n",
            "\n"
          ]
        },
        {
          "output_type": "stream",
          "name": "stdout",
          "text": [
            "[<deep_sort.deep_sort.detection.Detection object at 0x7f003548b9a0>, <deep_sort.deep_sort.detection.Detection object at 0x7f00354f5210>]\n",
            "<class 'list'> class\n",
            "[[5, 627.1525209560635, 242.9790258712967, 676.2480313501997, 355.20962139091114], [20, 1047.6256975852648, 157.65034089790828, 1090.5029284629418, 258.3403799656901], [36, 919.7019669165002, 4.81743609798739, 948.5773461813201, 105.92565474786807], [54, 535.804654502858, 15.871479168006083, 564.2722469251493, 102.22314752707524], [60, 602.9415370500845, 328.3872748700062, 650.4752641111644, 439.47321459081064], [75, 475.05170036287853, 62.60904925748124, 507.77307276024425, 147.99719882205378], [77, 231.62128422192328, 17.096900200656712, 267.0195840997843, 85.93350971476698], [105, 705.4630108954572, 233.07199379848396, 751.2769519125806, 336.6764594199334], [117, 761.0901842294245, 188.14124921855364, 796.5351758477302, 272.51555789867643], [120, 612.3534883697693, 85.65039297790696, 642.5329616867574, 179.33239048913896], [122, 773.8623225094834, 111.02928655392513, 806.1620571079047, 182.36559796155137], [125, 454.17583379771634, 108.43531697684796, 490.10440426576764, 203.38822801898164], [126, 1184.772126687699, 245.40307259093564, 1241.5710937061003, 360.76305244788637], [131, 347.446685719872, 409.4020613983943, 403.5159151047434, 525.0437170803291], [132, 47.632157773034336, 69.33551674274479, 81.30191151528673, 153.11290879242546], [133, 353.56165294191294, 311.6135399223281, 399.9466719028049, 411.3981524639137], [135, 680.4017576176195, 348.3333795455067, 716.7171796405818, 455.0960113708362], [142, 819.0624882542032, 376.65423767406924, 873.6658940739239, 497.4745610616087], [143, 76.67732075984534, 474.8916074774201, 143.01492724018146, 612.3456501732508], [145, 465.43967571182213, 428.9305291060544, 523.0508421723167, 569.8320300113654], [150, 142.59198508301162, 3.6027315648042304, 181.28099302448433, 83.85322263988631], [152, 568.4466643738334, 17.45707897368169, 594.1685738196717, 101.6484768408821], [156, 254.43515354905875, 310.6951037130012, 309.3457888393633, 430.6834368215572], [157, 221.6179326771849, 312.3529394778796, 261.1357508985249, 408.88308898696744]]\n"
          ]
        },
        {
          "output_type": "stream",
          "name": "stderr",
          "text": [
            "0: 384x640 30 persons, 282.3ms\n",
            "Speed: 4.4ms preprocess, 282.3ms inference, 2.0ms postprocess per image at shape (1, 3, 640, 640)\n",
            "\n"
          ]
        },
        {
          "output_type": "stream",
          "name": "stdout",
          "text": [
            "[<deep_sort.deep_sort.detection.Detection object at 0x7f0168166e30>, <deep_sort.deep_sort.detection.Detection object at 0x7f00354f42e0>]\n",
            "<class 'list'> class\n",
            "[[5, 625.9748845969484, 244.19888607012734, 676.1792288987218, 359.6525863555483], [20, 1046.8215985710567, 155.9692423344546, 1089.9740287821405, 257.4073750738408], [36, 919.4946417086762, 3.8923935723999605, 948.7220608072765, 105.93110047609596], [54, 535.943043347162, 15.818989488064211, 564.3057117361653, 101.96129004099339], [60, 603.1182425763191, 330.1706037571943, 651.3861269642789, 443.89883443119567], [75, 474.24156859073867, 62.376538437513, 506.5733457685631, 146.79889231117355], [77, 233.40898857941787, 16.915914735705613, 269.295420530073, 85.85914218156582], [105, 705.2928611055856, 232.29745025200944, 751.5840590057047, 337.3839478204884], [117, 760.2975777826125, 189.14242137888738, 797.3625313920095, 276.5594279777017], [120, 612.3353743953727, 86.24747963047412, 642.6737303711508, 180.89557649230585], [122, 773.1429898586773, 109.92263444437674, 806.7090958056791, 183.0967289507186], [125, 453.378239263283, 106.88876520060265, 489.28898603441473, 201.78113044180904], [126, 1184.9720890844646, 247.04677356977624, 1242.1384980504074, 363.65467127461017], [131, 348.23327749636456, 411.16934340384563, 402.98412422468977, 524.5501962951673], [132, 47.64990191845653, 69.0880309888117, 81.30541293855552, 153.01952462197454], [133, 351.89567843440534, 315.37410155808783, 398.6543382622741, 416.177748151125], [135, 680.5229818840302, 345.93305173617114, 716.7575264305569, 453.50217576381743], [142, 819.0117586387513, 373.834237264766, 874.2717720115133, 496.74485078403256], [143, 78.933300031789, 479.12983612974693, 144.61060102319306, 615.9364024912063], [145, 466.8368795731494, 425.827342200865, 522.9485881801575, 560.0989239713039], [150, 142.43166932712754, 3.9721302363530313, 181.50674213401396, 84.8334509783702], [152, 567.7783087008166, 16.937519208243884, 593.5816841191156, 100.9820931199469], [153, 1188.6406111636918, 64.91104551546067, 1214.5332359427673, 151.0348601162222], [154, 833.7518360920374, 0.0, 861.5015617638844, 57.041496557485296], [156, 253.7988671421644, 309.6315686728018, 308.79833278810685, 430.8484795807378], [157, 221.8730015519437, 312.01678799171475, 261.0444508281003, 408.2060791895775]]\n"
          ]
        },
        {
          "output_type": "stream",
          "name": "stderr",
          "text": [
            "0: 384x640 31 persons, 296.0ms\n",
            "Speed: 3.9ms preprocess, 296.0ms inference, 2.0ms postprocess per image at shape (1, 3, 640, 640)\n",
            "\n"
          ]
        },
        {
          "output_type": "stream",
          "name": "stdout",
          "text": [
            "[<deep_sort.deep_sort.detection.Detection object at 0x7f003c922500>, <deep_sort.deep_sort.detection.Detection object at 0x7f003548bdc0>]\n",
            "<class 'list'> class\n",
            "[[5, 625.3712677363982, 245.26313627655654, 675.6869807267814, 361.29039289108346], [20, 1046.277394704766, 155.40188287372342, 1089.4196184546531, 257.13246468205125], [36, 919.6278196916192, 4.877047782815694, 948.553202285395, 105.28685582870786], [54, 536.0859321960362, 15.814161194244186, 564.203265465623, 101.21431125957452], [60, 603.2920850280568, 331.432434835274, 651.6167676213157, 446.1471542443878], [75, 473.95087715349416, 61.68176323114529, 506.1288730414007, 145.74843635378224], [77, 234.57285377201305, 16.200807956913557, 270.7826516647656, 85.84408376201037], [105, 705.4329546477645, 230.76712304716392, 752.1576579947963, 337.084219914607], [117, 760.0479656575853, 190.7867869346974, 798.2405309285393, 280.0001598647], [120, 612.3682281940328, 87.09203734204849, 642.6825055481754, 182.0965762807537], [122, 772.7260732989967, 108.19219220907408, 807.0376994638954, 182.4510214931651], [125, 453.3655933685367, 106.37525935541781, 489.3713198150145, 201.25509457843742], [126, 1185.2420387871937, 250.2279092681506, 1242.7798018146152, 367.9508335231387], [131, 348.89063018653127, 413.74267717271374, 402.47346424478013, 524.928009377727], [132, 47.578642302376394, 68.99752359604038, 81.38717247056817, 152.98638020563322], [133, 351.76240785335875, 315.721221148932, 399.3491966659201, 418.80587114597483], [135, 681.3071887355533, 343.8010421725051, 717.3231994989776, 451.67834359355163], [142, 818.7655882309109, 370.252267095897, 874.6904314451469, 495.9220130680545], [143, 80.7724152526245, 482.61742461376, 146.09645053166395, 619.1433570032207], [145, 468.8344993289671, 424.1614543852758, 523.4183173768773, 551.2379455284442], [150, 142.0704738402631, 4.757644247625251, 181.23748946722583, 85.83765167650832], [152, 566.9289719088654, 16.76628660454589, 592.6570271013557, 100.0962160831626], [153, 1187.5442712312627, 63.1169719083666, 1213.8350985023196, 148.57696032939228], [154, 832.5179178386484, 0.0, 860.3473502592618, 56.88626002568973], [156, 253.95076607766586, 309.913402639613, 308.4379400148662, 430.8537003234949], [157, 221.78996211916098, 311.23684583544156, 261.18914749537015, 408.62904533781335]]\n"
          ]
        },
        {
          "output_type": "stream",
          "name": "stderr",
          "text": [
            "0: 384x640 29 persons, 293.4ms\n",
            "Speed: 3.9ms preprocess, 293.4ms inference, 2.0ms postprocess per image at shape (1, 3, 640, 640)\n",
            "\n"
          ]
        },
        {
          "output_type": "stream",
          "name": "stdout",
          "text": [
            "[<deep_sort.deep_sort.detection.Detection object at 0x7f0168166e30>, <deep_sort.deep_sort.detection.Detection object at 0x7f00354f4670>]\n",
            "<class 'list'> class\n",
            "[[5, 625.3079226673993, 246.26481757686338, 674.7126683816552, 359.8698771085602], [20, 1045.1159603165108, 153.27059269168637, 1088.9090236717725, 257.1041822376838], [36, 919.5579162005339, 4.648752214832065, 948.596061364468, 105.04271078053378], [54, 536.97769308642, 15.164049782198411, 564.6285167632416, 98.95707112057238], [60, 604.4754070694388, 332.4907949394844, 653.855766149253, 450.1875924682263], [75, 474.53458633767, 60.14257236240093, 506.62263793022726, 143.4202870499905], [77, 236.01699026599627, 15.942674673033451, 272.13040026798967, 85.19173526597022], [105, 704.4535865853504, 229.60171246320567, 751.4388247973582, 337.0458857553332], [117, 759.9532684351342, 192.67814880876224, 798.5334414719107, 281.920362222972], [120, 612.3268913428018, 87.375271834199, 642.7344644383277, 183.15858762327002], [122, 772.5295177133036, 106.93762003681093, 807.2246127356968, 181.61162548153925], [125, 453.2335045013534, 104.9231188265188, 489.54627015253044, 200.46987172510433], [126, 1185.849677454533, 253.34325513941977, 1243.1399792210073, 371.470725741473], [131, 348.9440350227521, 415.28739178719957, 401.85258307243026, 524.980402086054], [132, 47.5194232815067, 68.96698542567609, 81.45246454591975, 152.97613004545482], [133, 351.7643161553252, 317.1341143536635, 398.90640968783293, 419.71894536675416], [135, 682.7126322937413, 342.4290774919566, 718.3813575577577, 449.76197534685764], [142, 818.8121109531551, 367.6866770904809, 874.6754200710484, 494.39840118594543], [143, 82.79212086185598, 484.4947550780063, 147.85509325465014, 620.8879691664921], [145, 468.48166127609045, 421.66798132994774, 523.2642590045419, 546.1551450498808], [150, 141.32195152209536, 5.701873447881631, 180.43233095753826, 86.19315562393922], [152, 566.9628661641366, 16.063384287780593, 592.6441285005208, 99.12703885956834], [153, 1187.5564982186206, 62.315458623701176, 1214.2821015990787, 147.6100403580205], [154, 832.0758679607364, 0.0, 860.0062508700953, 56.826907599993], [156, 250.25508256478378, 308.4249997882515, 306.04176785857027, 432.24973223461217], [157, 221.83122111483715, 310.95682704770434, 261.1701708683358, 408.79722692767456]]\n"
          ]
        },
        {
          "output_type": "stream",
          "name": "stderr",
          "text": [
            "0: 384x640 30 persons, 290.8ms\n",
            "Speed: 9.7ms preprocess, 290.8ms inference, 2.1ms postprocess per image at shape (1, 3, 640, 640)\n",
            "\n"
          ]
        },
        {
          "output_type": "stream",
          "name": "stdout",
          "text": [
            "[<deep_sort.deep_sort.detection.Detection object at 0x7f003548b9a0>, <deep_sort.deep_sort.detection.Detection object at 0x7f00354f7100>]\n",
            "<class 'list'> class\n",
            "[[5, 625.3630934895187, 247.2422722462298, 673.642971773381, 357.90254307729384], [20, 1044.7934943746848, 152.52153675362538, 1088.6550441878082, 256.49188970430686], [36, 919.5984532361052, 4.592423602736076, 948.5365232661435, 104.95610248603684], [54, 537.8574218925897, 14.266938266812836, 565.5541091856693, 98.1245083772188], [60, 605.6497716708167, 334.13414844307187, 655.2725184731648, 452.29551680185523], [75, 474.488231887671, 57.618858050453156, 507.0963191673379, 141.94315104580667], [77, 237.04489352825874, 15.198970461588928, 273.279913977397, 84.95512123185492], [105, 704.5548944888463, 227.91585167547933, 752.0056802278208, 337.0985140585244], [117, 760.0562607112954, 195.32217119259371, 799.1164884365888, 285.211381008036], [120, 612.4344049508818, 88.10354860404149, 642.6265136163714, 182.8576906034272], [122, 772.5494000942978, 106.53239791822304, 807.2252516688046, 180.70167700026633], [125, 452.4752933317046, 103.1145494212559, 489.6739189052197, 200.89940101017925], [126, 1186.5692585755498, 254.4630454359101, 1244.065608807515, 374.03190589644043], [131, 349.6786835468424, 415.77996782438277, 402.2782727137405, 524.2560627691087], [132, 47.847279523116974, 68.95903303850427, 81.78936371510767, 152.9743947505399], [133, 351.8462487668403, 318.2649017319816, 398.6993421308218, 420.63311625913883], [135, 684.029657916781, 340.6857566939045, 719.2908021250014, 447.1478215866893], [142, 819.732375911689, 364.8596646302012, 875.0393055050837, 491.2980952884414], [143, 84.71426765464153, 486.4178479383047, 148.5652225982081, 620.7624137165558], [145, 467.1717788750483, 418.8550923542583, 523.0027894631561, 543.149307813554], [150, 140.84741894386474, 6.045733757561116, 180.32039424474783, 86.95925902069143], [152, 566.8913623613935, 15.158896349136292, 592.7512096471572, 98.79125475670355], [153, 1188.31762414543, 62.226792968255936, 1215.951104465732, 148.11365066438003], [154, 830.9398618384284, 0.0, 858.6860034993529, 56.45204415210402], [157, 222.1972198886472, 310.86532181000325, 261.4729008450189, 408.869879789926]]\n"
          ]
        },
        {
          "output_type": "stream",
          "name": "stderr",
          "text": [
            "0: 384x640 30 persons, 187.1ms\n",
            "Speed: 3.2ms preprocess, 187.1ms inference, 1.7ms postprocess per image at shape (1, 3, 640, 640)\n",
            "\n"
          ]
        },
        {
          "output_type": "stream",
          "name": "stdout",
          "text": [
            "[<deep_sort.deep_sort.detection.Detection object at 0x7f003c922500>, <deep_sort.deep_sort.detection.Detection object at 0x7f003548bdc0>]\n",
            "<class 'list'> class\n",
            "[[5, 624.825656436059, 249.5475618716709, 672.5087339238969, 358.42288686499904], [20, 1043.3601482893234, 150.32696819482237, 1087.2994701004684, 255.0052887865508], [36, 921.7477356583639, 1.3167321471011277, 951.626918041094, 104.27249867958994], [54, 539.3008055602025, 13.947185098973698, 566.7469883791466, 97.17272286395686], [60, 607.2539284873026, 335.346203782716, 656.609615513377, 452.34692289533143], [75, 474.13088862297974, 54.74208399143997, 507.6244411836715, 140.78477078348334], [77, 239.42157425498883, 14.931904636264107, 274.8527828533816, 84.21894496757066], [86, 1148.3246158117424, 122.8148883286704, 1195.5950867348965, 223.68929993913918], [105, 704.9646208610114, 223.41241951067252, 753.1637012135837, 335.2113023182019], [117, 760.9006559650758, 198.2438563696117, 799.8077301250901, 287.7081962498158], [120, 612.5302465529411, 90.32385980093433, 642.525551971546, 183.3460461006752], [122, 772.390454116234, 105.77178528975753, 807.4125631341561, 180.43285861692448], [125, 452.18550280798405, 101.8287983264399, 489.7373375388752, 200.45752917964688], [126, 1187.2814283827663, 257.4366626219102, 1244.599805547856, 376.8779598264637], [131, 351.03815758898986, 419.8859645112495, 404.0549311949333, 527.9198763998387], [132, 47.9701708841022, 68.95931968771615, 81.9185189103757, 152.97567167952172], [133, 351.2973055762378, 319.8516452043732, 398.3410090216098, 422.6370241436223], [135, 685.1950120520842, 336.14693458241186, 718.9287760575293, 437.64361154921926], [142, 821.3157964867651, 359.95776351794996, 873.9131472055137, 479.69732663388487], [143, 86.24039120737932, 487.6948212123639, 149.2293644326239, 620.5753738051178], [145, 466.54722922900874, 415.25492691932646, 523.6995274669964, 541.5523104082065], [150, 140.38533343194285, 7.476927017701847, 179.25436519230118, 86.56530537925758], [152, 567.2445354577965, 14.841040009971813, 593.0945081278728, 98.03085823300566], [153, 1189.7958886802362, 63.737920161043135, 1217.6441602513332, 148.50406114742754], [157, 222.21204962761948, 310.5410502861888, 261.5566646944011, 408.717643989448]]\n"
          ]
        },
        {
          "output_type": "stream",
          "name": "stderr",
          "text": [
            "0: 384x640 30 persons, 175.3ms\n",
            "Speed: 10.4ms preprocess, 175.3ms inference, 1.5ms postprocess per image at shape (1, 3, 640, 640)\n",
            "\n"
          ]
        },
        {
          "output_type": "stream",
          "name": "stdout",
          "text": [
            "[<deep_sort.deep_sort.detection.Detection object at 0x7f00354891b0>, <deep_sort.deep_sort.detection.Detection object at 0x7f003548ace0>]\n",
            "<class 'list'> class\n",
            "[[5, 623.9369183964734, 251.6827864010085, 672.148756719344, 361.897519335916], [20, 1042.0339415914868, 148.2381532250999, 1086.3108729851479, 253.8384365884267], [36, 922.0016463558038, 0.29775699135124256, 952.1131651797544, 104.05592395972045], [54, 540.1220430824777, 13.17946930567306, 567.5501991014224, 96.1751336346361], [60, 608.4823365094456, 335.73253412153247, 657.791869761225, 451.59964333065216], [75, 474.82703410769807, 53.70672824471556, 508.3159037409452, 138.4309111121209], [77, 241.60972964462124, 14.185580773457211, 275.9645363348975, 83.29095928049537], [86, 1148.8385319051415, 122.66380410466738, 1196.9547291187773, 226.97836754365784], [105, 705.2984786382207, 222.40817530203424, 752.1265073170185, 331.2842293467619], [117, 761.4803689667582, 199.29996400579094, 800.4332679258347, 288.5837787179196], [120, 612.8499073722636, 91.78828585165515, 642.8639375065666, 183.4819758316441], [122, 772.1810107701515, 104.86860496498457, 807.6463891526889, 180.3866898177805], [125, 452.7308597666428, 100.74339845551583, 490.43284480950035, 199.68975164289702], [126, 1188.4970491477018, 259.8133327126151, 1245.1343662032994, 377.8643141396064], [131, 350.8793170564736, 422.00688329547023, 406.06932472864344, 533.2190998327477], [132, 48.0145207878671, 68.96237902733947, 81.96779494688076, 152.97787638110924], [133, 352.1157893611315, 321.8740907327671, 396.82391133682944, 418.71304265571615], [135, 686.3497182667166, 331.8512288208367, 719.3710485785551, 430.7939862554635], [142, 822.4890259913261, 354.8855837414667, 873.5370722720838, 470.67751986332786], [143, 87.86608872921839, 490.06324303212955, 149.6325527344138, 620.3946742577136], [145, 466.5545175577418, 412.03707284295507, 525.030396736413, 541.1135856246079], [150, 140.14681680992874, 8.003221985555165, 178.9235850692871, 86.38224471183537], [152, 567.7353302315214, 14.746494402835339, 593.5540477666186, 97.77188213907787], [153, 1191.1292342443157, 64.54487835745226, 1219.7947409787719, 150.2037161595785]]\n"
          ]
        },
        {
          "output_type": "stream",
          "name": "stderr",
          "text": [
            "0: 384x640 31 persons, 197.6ms\n",
            "Speed: 5.0ms preprocess, 197.6ms inference, 1.6ms postprocess per image at shape (1, 3, 640, 640)\n",
            "\n"
          ]
        },
        {
          "output_type": "stream",
          "name": "stdout",
          "text": [
            "[<deep_sort.deep_sort.detection.Detection object at 0x7f00354f4310>, <deep_sort.deep_sort.detection.Detection object at 0x7f00354f7e20>]\n",
            "<class 'list'> class\n",
            "[[5, 623.3915304536941, 253.08708257428174, 672.2646778653254, 365.12272853796134], [20, 1041.693155793857, 146.84835734771272, 1085.8339082067637, 252.13530226168805], [54, 540.8672782121126, 12.908243483826709, 568.038959837374, 95.16304829929068], [60, 608.8189664583749, 336.4702764212639, 658.3270027274951, 451.8887206047999], [75, 474.86022725860914, 52.72186466123787, 508.8279715057735, 137.6002016710916], [77, 244.07466099698868, 13.919394858770694, 277.22120379823036, 82.29448931313607], [86, 1149.2243828130468, 122.77086518843976, 1197.9420436188054, 229.3136968749385], [105, 704.8367617093603, 219.47619632931668, 751.6469086284096, 328.50924400041544], [117, 762.1506843796827, 199.63929337365863, 800.8390945017778, 288.18280850390886], [120, 612.6588268978833, 92.95979033880413, 642.631695527699, 183.49093222276946], [122, 772.5015476733372, 104.57480006504773, 808.0107610431792, 179.75282429125576], [125, 452.9390487010281, 99.73283012143068, 490.71043450436383, 198.79185216492516], [126, 1189.59705753323, 261.9559101267817, 1245.31806666953, 378.13130724073403], [131, 350.23787691056634, 423.3916258830833, 408.0596282616817, 539.0713877431637], [132, 48.02896194578072, 68.96615585914802, 81.98640744250909, 152.98023502599023], [133, 352.54077944766306, 323.1565559884756, 396.8561738250537, 418.65449257921756], [135, 687.6731966986202, 329.03680716980494, 720.6097911257117, 427.07385546042764], [142, 822.9776729318731, 351.1400149680093, 873.3071748541903, 464.8306715133339], [143, 89.54409113892751, 492.1806976028256, 150.5896162035142, 620.2184873643384], [145, 466.4542568195868, 409.62084359617086, 525.6133217976867, 541.0921294119552], [150, 139.99894247415727, 8.179627334918727, 178.87537266364313, 86.29355311580275], [152, 567.9216605198404, 14.07074765960867, 593.7404883023614, 97.03875807222127], [153, 1193.5735626222659, 65.6428905670171, 1222.109503215767, 150.30098263655827], [156, 256.47111801793494, 320.72421142195833, 306.6409810734266, 429.97931598043357]]\n"
          ]
        },
        {
          "output_type": "stream",
          "name": "stderr",
          "text": [
            "0: 384x640 30 persons, 1 bird, 202.2ms\n",
            "Speed: 2.5ms preprocess, 202.2ms inference, 1.4ms postprocess per image at shape (1, 3, 640, 640)\n",
            "\n"
          ]
        },
        {
          "output_type": "stream",
          "name": "stdout",
          "text": [
            "[<deep_sort.deep_sort.detection.Detection object at 0x7f003548b850>, <deep_sort.deep_sort.detection.Detection object at 0x7f00354f5210>]\n",
            "<class 'list'> class\n",
            "[[5, 623.3633225765232, 254.87703721891342, 672.1684370949313, 366.943969195166], [20, 1041.3416387237326, 145.727239054632, 1085.2838494076213, 250.22602243724347], [54, 541.5074354900223, 12.824822381551357, 568.484573611533, 94.81142207352924], [60, 609.4441651361342, 337.3482105121902, 658.6480092267249, 451.2641849064341], [75, 475.93017867316536, 52.40671350448238, 509.9472304379691, 136.0227619621762], [77, 245.28092698830017, 13.836226538731943, 277.9070774708865, 82.59958080591295], [86, 1149.6839900132022, 125.54097340206167, 1199.105875779998, 233.6245784476519], [105, 705.0273775225353, 217.78906847319524, 751.10640137941, 325.55538188120624], [117, 763.2514706784664, 199.70553205160357, 801.4258691001806, 287.29560092378176], [120, 612.495177679129, 93.35405266824532, 642.6315662065074, 183.4560130476131], [122, 772.1718141146861, 103.84749990648095, 807.9457555708759, 179.56221578164076], [125, 453.5002698896583, 98.09007344583392, 490.9985801681007, 196.52510235949222], [126, 1190.7968334640486, 263.3439931571507, 1245.8838158347774, 378.1325286427367], [131, 350.90231176956695, 425.1541246098301, 409.85724526175477, 542.5287652433436], [132, 48.146140309000295, 68.96990109699917, 81.87932440595011, 152.32174741135782], [133, 352.37111961241277, 324.24680783023166, 396.51682111724705, 418.6234294450792], [135, 687.7867617974541, 326.0953856926211, 720.7233458366095, 423.83091219855737], [142, 824.3896304613755, 348.5559814611541, 873.9732009645725, 460.1618300532911], [143, 90.9527657935891, 493.53686949461337, 151.3808759548394, 619.3941672059326], [145, 465.53631982891625, 408.1633641143515, 524.7173261010996, 541.2195307683821], [150, 139.51112593644513, 8.225998144681327, 178.64290271188236, 86.24243649511236], [152, 568.7416165208932, 13.837161073706397, 594.3951171217784, 96.12614416932476], [153, 1195.499641417735, 66.88747134787346, 1223.4923196742718, 149.8199199064404], [156, 258.2270305925119, 323.8307670346705, 307.4704147791269, 428.74423851918425]]\n"
          ]
        },
        {
          "output_type": "stream",
          "name": "stderr",
          "text": [
            "0: 384x640 30 persons, 1 bird, 190.5ms\n",
            "Speed: 2.6ms preprocess, 190.5ms inference, 1.7ms postprocess per image at shape (1, 3, 640, 640)\n",
            "\n"
          ]
        },
        {
          "output_type": "stream",
          "name": "stdout",
          "text": [
            "[<deep_sort.deep_sort.detection.Detection object at 0x7f003548aec0>, <deep_sort.deep_sort.detection.Detection object at 0x7f003548bdc0>]\n",
            "<class 'list'> class\n",
            "[[5, 622.9038490432428, 255.49591188913115, 672.6227549864021, 370.2070051570561], [20, 1041.660027765493, 144.70695801114942, 1084.6886224810667, 246.91683556661636], [54, 541.9432940338087, 12.145252952651617, 569.0780832413054, 94.70727575164851], [60, 609.9773700328102, 338.2792612342957, 659.089321697621, 450.9528129834166], [75, 477.0856011575141, 52.351208546207666, 510.94971671544477, 134.16228460149992], [77, 248.2088860812975, 13.818585826018975, 280.16725351618226, 82.7291428652295], [105, 705.7986274998741, 216.57390590007907, 750.8688348025139, 321.8643222529009], [117, 764.4586173800999, 200.33658526443187, 802.1381294920517, 286.8970889807048], [120, 611.9703421490802, 94.1252419879972, 642.4274114036069, 184.07593654430792], [122, 771.771240812882, 102.9502788135826, 807.5425248638372, 178.86623125589], [125, 453.92943423430177, 96.20448403113485, 490.8959145865276, 193.7340196629753], [126, 1191.3651433903856, 263.1202813230063, 1246.5964998481086, 378.04819686283423], [131, 351.73964172420074, 427.0598694229455, 411.92829349759694, 546.3765461131112], [132, 48.17810376401769, 68.97352924316553, 81.84876324622809, 152.07445722939576], [133, 352.2299344734062, 325.2587855900407, 396.49744450649035, 419.2363955003476], [135, 687.0084804917622, 324.44367553253556, 720.2025652174185, 422.76704211653635], [142, 825.0007796772978, 345.7292834921432, 874.7683906426103, 457.27375286216153], [143, 93.3528794308577, 494.6110695460713, 153.69761399693016, 619.0086482215289], [145, 464.6989817377665, 405.7518656839913, 524.1854880120986, 541.3917090950906], [150, 139.25527693361252, 8.224965256490947, 178.6444997915477, 86.20731697967497], [152, 569.51013862709, 13.771526155573625, 594.8543789700892, 95.14554049813775], [153, 1196.6477978677651, 66.81548704249924, 1225.0418231815343, 150.43438106793764], [156, 256.6442745005926, 324.09205887132794, 306.0353777678754, 429.32022434657824]]\n"
          ]
        },
        {
          "output_type": "stream",
          "name": "stderr",
          "text": [
            "0: 384x640 29 persons, 1 bird, 196.1ms\n",
            "Speed: 3.5ms preprocess, 196.1ms inference, 1.5ms postprocess per image at shape (1, 3, 640, 640)\n",
            "\n"
          ]
        },
        {
          "output_type": "stream",
          "name": "stdout",
          "text": [
            "[<deep_sort.deep_sort.detection.Detection object at 0x7f003548b850>, <deep_sort.deep_sort.detection.Detection object at 0x7f00354f4310>]\n",
            "<class 'list'> class\n",
            "[[5, 624.4926042950618, 258.95171037746934, 671.7127874834314, 368.1114354506428], [20, 1042.8037791512595, 143.7251955602156, 1084.1743808273238, 241.0701945548838], [36, 933.538462117418, -0.3626821388000465, 967.8769204316354, 104.82621342332578], [54, 543.040740163506, 10.582439314887779, 570.3120310222752, 94.03040771306486], [60, 609.3846215440786, 340.56355255623896, 659.3397591546328, 454.76185021817867], [75, 477.45623297580823, 50.38141132226768, 511.3752982686057, 131.52614700527812], [77, 253.52332722356115, 13.825911772898728, 285.24589661952973, 82.13259477181552], [105, 706.7125268746739, 213.53729532225753, 750.1609140255981, 313.89110153947695], [117, 765.4331128630878, 203.17971790812388, 802.5033956742074, 288.02269357164784], [120, 610.2441011110964, 94.37512408070108, 641.8873664199592, 187.5984118714926], [122, 771.2811590386748, 100.00315345134874, 807.7369405603462, 177.31732042846204], [125, 454.3562410193665, 93.5652506010054, 490.59263440366345, 189.42412365303858], [126, 1191.371874328446, 264.9539886147393, 1246.3640287651162, 377.94883800811164], [131, 351.28773886701185, 428.37116005276624, 413.4791918616124, 551.6682495063449], [132, 48.557607933207144, 68.97666801343053, 82.13017502550662, 151.98558505008333], [133, 351.2087254089352, 327.57710949906004, 397.4854835861687, 425.42432905044956], [135, 686.9588300562416, 321.27054577679877, 721.0600790773426, 422.49784160541253], [142, 824.7606278769729, 343.4740049448286, 875.4915176869981, 457.034606673926], [143, 95.04540774258919, 496.77626424855265, 155.02670218542784, 620.4239550539693], [145, 462.48423616897355, 402.3161733840574, 522.5982392610381, 540.2436387571875], [150, 139.0945566743577, 8.207951186925705, 178.72680331601978, 86.1801018665067], [152, 570.3801343929496, 13.102140546136056, 595.7760437217366, 94.80598490834589], [153, 1195.9358083450004, 64.6316018480149, 1224.3322341768903, 148.25745696539644], [156, 257.2524666180722, 320.1036396498969, 308.23471204376574, 427.5970788309577]]\n"
          ]
        },
        {
          "output_type": "stream",
          "name": "stderr",
          "text": [
            "0: 384x640 29 persons, 1 bird, 208.0ms\n",
            "Speed: 4.8ms preprocess, 208.0ms inference, 1.5ms postprocess per image at shape (1, 3, 640, 640)\n",
            "\n"
          ]
        },
        {
          "output_type": "stream",
          "name": "stdout",
          "text": [
            "[<deep_sort.deep_sort.detection.Detection object at 0x7f003548b9a0>, <deep_sort.deep_sort.detection.Detection object at 0x7f00354891b0>]\n",
            "<class 'list'> class\n",
            "[[5, 625.4139848112417, 261.5520016844167, 671.1067272872302, 367.1775516486787], [20, 1043.0470958988076, 142.08293416401693, 1084.2386203460603, 238.29013202844237], [36, 934.8696966766611, -0.3396474950101265, 972.6465857943182, 103.54616160388139], [54, 543.4749220542086, 9.350629015572572, 570.716739218803, 93.1384214725777], [60, 608.7297234492529, 342.6864668756477, 659.8348614670548, 459.4288404064489], [75, 478.0175278995504, 47.697203686136234, 512.4250726609074, 129.94324137594123], [77, 257.9328575044983, 14.505548179083341, 289.9021608415551, 81.9210012570287], [105, 706.6811007379114, 210.47123113116947, 750.2717752630708, 310.3425013461215], [117, 765.7364175973197, 206.19633524171647, 802.6506608321027, 290.3978660032577], [120, 609.4872039689708, 95.09737747981494, 641.8052138465206, 190.1926928569428], [122, 770.8454852169073, 97.61564960678956, 807.4130382025922, 174.79515067237682], [125, 454.2562859019513, 90.63986533537349, 490.07248624887603, 185.8700839047708], [126, 1191.274606741775, 266.9024575670619, 1246.9884167207717, 380.49823191700256], [131, 352.4561199732069, 433.3435815308426, 413.3581322730419, 553.6067284000584], [132, 48.43144705349904, 68.97942709407701, 81.84047948407232, 151.95659374573506], [133, 351.1949903357324, 330.3602629369645, 398.15563862636895, 428.9868687161362], [135, 686.3804459729671, 319.5094823743258, 721.2578165191736, 423.1471697805464], [142, 825.135130084461, 342.08253672355863, 876.5879290382701, 457.7393719732619], [145, 462.39294330792677, 400.45146767088335, 522.5412515995145, 539.2426997948612], [150, 138.17034593593746, 8.848880522408471, 178.31360446630765, 87.48170632763942], [152, 570.7136092865569, 12.207053859643615, 596.1039832891224, 94.04201802461185], [156, 256.3831997453402, 317.92325853356266, 308.7012033643124, 427.2900742233557]]\n"
          ]
        },
        {
          "output_type": "stream",
          "name": "stderr",
          "text": [
            "0: 384x640 30 persons, 177.3ms\n",
            "Speed: 2.5ms preprocess, 177.3ms inference, 1.4ms postprocess per image at shape (1, 3, 640, 640)\n",
            "\n"
          ]
        },
        {
          "output_type": "stream",
          "name": "stdout",
          "text": [
            "[<deep_sort.deep_sort.detection.Detection object at 0x7f01681645b0>, <deep_sort.deep_sort.detection.Detection object at 0x7f00354f5de0>]\n",
            "<class 'list'> class\n",
            "[[5, 624.2447091054659, 263.11146109151576, 671.0720433170821, 371.4866283801625], [20, 1042.5186362607492, 140.8660524182784, 1083.5731825611401, 236.01448935946024], [36, 935.1738884381895, -0.3335346240200323, 976.3771897729814, 103.11868018062786], [54, 543.9350045715497, 8.905399794377814, 571.1875672609524, 92.82461855438345], [60, 608.867749037603, 345.4031437763761, 660.9158039147865, 464.4118276831064], [61, 1167.7978838854701, 71.99958711000828, 1202.239746898417, 149.98154588109344], [75, 478.2778590050917, 46.08347414473795, 512.7451016540538, 129.41009729574756], [77, 261.1027381591146, 13.441775152700487, 294.5960402030402, 82.52177355536953], [105, 706.1881306018599, 208.75933703186493, 750.1247773498626, 308.47862067157916], [117, 765.6709071959204, 207.26176084451654, 803.5047144432771, 293.8988451656157], [120, 608.9129152000653, 95.99417414964344, 641.4141723843242, 191.80298021688674], [122, 770.9219331310901, 96.09398227639343, 807.7176184740119, 173.21308709592836], [125, 453.7084925888534, 88.94806269457564, 489.0598451118046, 183.28644875575247], [126, 1191.2116421856038, 268.8912689547733, 1248.5364793359827, 385.3634306448143], [131, 352.85586917531555, 436.5168244157436, 412.67318684386055, 554.2070906919364], [132, 48.53517936592365, 68.98186648086518, 81.57616776460458, 151.28823661131736], [133, 349.50696304692656, 332.0236534897982, 399.46450550729946, 437.5270926267402], [135, 686.528484208431, 318.2800241140245, 721.5895831805022, 422.8427584060377], [142, 825.8465821097517, 340.3536476358208, 877.7150341463934, 457.47747531912853], [143, 103.08820334977794, 505.28367250044664, 169.1473082567761, 638.402280664794], [145, 462.27235685638027, 398.53783151333397, 521.9601636462721, 537.6418969046412], [150, 137.92167216774055, 9.077299349439677, 178.73379310300464, 88.61940020482282], [152, 570.844377389928, 11.22720699371537, 596.2103683895239, 93.11872205146051], [153, 1199.4751202160608, 69.36897799616523, 1227.7664064116093, 150.7700088524868], [156, 255.83976860851382, 317.14935627239504, 308.48114088166847, 426.514448257997]]\n"
          ]
        },
        {
          "output_type": "stream",
          "name": "stderr",
          "text": [
            "0: 384x640 30 persons, 182.1ms\n",
            "Speed: 2.5ms preprocess, 182.1ms inference, 1.6ms postprocess per image at shape (1, 3, 640, 640)\n",
            "\n"
          ]
        },
        {
          "output_type": "stream",
          "name": "stdout",
          "text": [
            "[<deep_sort.deep_sort.detection.Detection object at 0x7f003548bdc0>, <deep_sort.deep_sort.detection.Detection object at 0x7f003548b850>]\n",
            "<class 'list'> class\n",
            "[[5, 623.5858850700781, 264.95674550887503, 670.6483632995544, 373.6764895063296], [20, 1041.2119661895492, 138.4647861236066, 1083.1383935269887, 235.26283283953177], [36, 934.8264458971472, -0.31112295494066444, 979.4423761131665, 103.62712428420676], [54, 544.186655129976, 8.760997872117592, 571.2433556190825, 92.0707220232365], [60, 608.5480078267873, 347.6917284971342, 661.019317989258, 467.5527159873955], [61, 1167.818292474427, 73.28601505604436, 1202.085495030793, 150.6302427816746], [75, 478.888605706131, 46.18624648449131, 512.9896344783842, 128.61057866525334], [77, 263.3023204659745, 13.053974880054554, 297.13335761262965, 81.43957957550073], [105, 705.3523917182116, 207.5403867941884, 750.0569012862368, 308.5642805640547], [117, 765.9526913806035, 208.9274222602441, 804.14140672101, 296.47017873531706], [120, 608.8112489237483, 98.27021389359894, 641.1589834477634, 193.02785839634043], [122, 771.5395370606155, 94.9099424244178, 807.9162468111438, 170.67897369332587], [125, 453.64364062423033, 87.72067443698414, 488.54260877558227, 181.0688078727016], [126, 1190.521279117773, 270.2382561304829, 1249.753077468613, 391.0665148443361], [131, 353.3737238783128, 439.6121011795846, 412.01882098713594, 554.3172732213078], [132, 48.598039028059446, 68.98412291406075, 81.45048785639295, 151.04064425068833], [133, 349.2183174300796, 333.9025016231187, 399.6183062816243, 440.68532131352123], [135, 686.3249731331088, 317.2553298753198, 721.2927202439339, 422.1688288636484], [142, 826.7870590371488, 337.83509223683654, 878.7509949911589, 456.18192124651125], [143, 104.7470775205856, 508.63041080514034, 172.24575042521792, 641.8110948149566], [145, 462.3536033302594, 395.9437746824566, 520.964849399592, 533.8347600510835], [150, 137.63793504389614, 9.15023532976165, 179.09970508960404, 89.69245194030742], [152, 571.6467619065129, 10.878960388204035, 596.8076173480596, 92.13589420044383], [153, 1201.103592265556, 70.11986479658577, 1229.31178905335, 149.78835915131043], [156, 255.3299344299123, 316.87548050734233, 308.1255860632047, 426.21064460343126]]\n"
          ]
        },
        {
          "output_type": "stream",
          "name": "stderr",
          "text": [
            "0: 384x640 31 persons, 177.7ms\n",
            "Speed: 2.5ms preprocess, 177.7ms inference, 1.6ms postprocess per image at shape (1, 3, 640, 640)\n",
            "\n"
          ]
        },
        {
          "output_type": "stream",
          "name": "stdout",
          "text": [
            "[<deep_sort.deep_sort.detection.Detection object at 0x7f003548aec0>, <deep_sort.deep_sort.detection.Detection object at 0x7f00354891b0>]\n",
            "<class 'list'> class\n",
            "[[5, 623.3237561204627, 266.24655582454375, 670.5247783846348, 375.10583603646296], [20, 1040.036134572094, 137.62654783012616, 1082.3806003896314, 235.05307754018907], [36, 936.33424650184, -0.8283574448114948, 981.1185940167095, 103.48881139156208], [54, 544.2581257929263, 8.068598369581537, 571.2419797566893, 91.14826878696907], [60, 608.2430227350183, 349.8139830757759, 660.5527224041335, 469.32396076803013], [61, 1168.0924950029557, 74.55089902054097, 1202.3929219066645, 151.35829107137886], [75, 479.2481137650686, 44.89193608244181, 513.2763640990773, 127.14248679274453], [77, 263.4657032994748, 12.918305945963056, 297.8671438921288, 81.03526480234231], [105, 705.1451288468089, 206.49693927455698, 750.5940211064301, 308.6885082560929], [117, 766.4258541567099, 210.81853085657252, 804.6330967860301, 298.70652975342074], [120, 608.8279286690272, 100.4236686550114, 641.0235539055409, 194.10194595311003], [122, 771.4765151339938, 93.85598272350511, 807.6340428381152, 168.44214330128347], [125, 454.4159344982, 86.66679549613202, 488.89419490995726, 178.9907808588784], [126, 1191.1010718184505, 272.6456291001462, 1251.2910456081354, 395.7723465570905], [131, 353.324621437391, 439.34196661676367, 411.99065719873477, 553.5807646037675], [132, 48.643197129953215, 68.98603776357729, 81.38063483809896, 150.95426732118042], [133, 348.2340031971337, 335.21849370171725, 399.91944245555163, 445.7173288839176], [135, 685.0696207700327, 314.3284362457764, 720.3594124814662, 420.6833267749134], [142, 827.3996976594921, 335.66898308111104, 879.5054621911574, 455.13816702874726], [143, 105.87738095367804, 511.76700212161677, 174.71594746108758, 644.9600003348371], [145, 463.03722496110476, 393.08617856340203, 520.6056522956646, 529.8357976677624], [150, 137.8781929846162, 9.821359385933619, 179.56183289325733, 90.73849654174177], [152, 572.6075642436743, 10.107714962570938, 597.688295115456, 91.1308731190278], [153, 1201.8988324942718, 71.05530228188837, 1230.257596374575, 149.4715022522807], [156, 255.13963810714426, 316.7922523283444, 308.0644142885807, 426.09172881268927]]\n"
          ]
        },
        {
          "output_type": "stream",
          "name": "stderr",
          "text": [
            "0: 384x640 30 persons, 1 bird, 219.8ms\n",
            "Speed: 4.8ms preprocess, 219.8ms inference, 2.2ms postprocess per image at shape (1, 3, 640, 640)\n",
            "\n"
          ]
        },
        {
          "output_type": "stream",
          "name": "stdout",
          "text": [
            "[<deep_sort.deep_sort.detection.Detection object at 0x7f003548bdc0>, <deep_sort.deep_sort.detection.Detection object at 0x7f003548af20>]\n",
            "<class 'list'> class\n",
            "[[5, 621.5910202551096, 267.9876013408651, 670.153776741026, 379.5508465264601], [20, 1038.2844747448792, 136.04781503399363, 1081.4600022745062, 235.05572866487245], [54, 545.0186370640162, 7.167632177060028, 571.7932186670002, 89.50180904320509], [60, 607.9006718933146, 354.50140473632786, 660.5708129365752, 474.51053449895215], [61, 1168.2607871572995, 75.0490557286121, 1203.7387983517233, 152.8640207791901], [75, 476.15270013717026, 42.34787491797257, 510.6264318800808, 126.71135619310164], [77, 265.7021307184123, 13.540805675671507, 299.73821446833125, 80.23382415816562], [86, 1153.2413366235337, 140.34673543685784, 1200.2616358665227, 241.67336041484336], [105, 704.6291206643245, 204.19764072420912, 751.2408371929839, 308.8251346467674], [117, 767.5692691727838, 212.79490408607734, 806.4490754179809, 302.78492607045445], [120, 608.2119130731887, 102.51892554386599, 640.9483938119807, 197.76832884391644], [122, 771.4747130005627, 91.51636827983509, 808.1784827560629, 166.9949611009884], [125, 454.3345464135199, 85.00805082592865, 488.7370565289347, 176.96553349999732], [126, 1192.5182144861276, 276.7665003981276, 1252.6097982715287, 400.1069328151508], [131, 353.089929224953, 439.8265262210568, 411.51514132965895, 553.2292079669178], [132, 48.396085417788385, 68.98770493662073, 80.95513392656318, 150.92846241858356], [133, 348.3505424811953, 338.8997050675458, 399.55254483150634, 449.5043937365115], [135, 685.0981815357951, 311.3331542035777, 719.4863623580657, 415.60601991752173], [142, 828.396690153894, 330.3512815079137, 880.954473768813, 451.5558767218681], [143, 108.10066116463531, 514.5008823805605, 177.1186702474091, 648.0397708584228], [145, 463.6243011087021, 388.80552020608974, 518.8322051917518, 520.4844229265111], [150, 137.54529415909258, 10.7217882527545, 179.51911449115215, 92.4308373155462], [152, 573.6223935574582, 8.513817266790568, 598.6712307401571, 89.45654091050677], [153, 1203.5673116443127, 70.7609180072734, 1232.5765306789935, 150.07587411534033], [156, 254.5445471700598, 317.4408663914262, 307.31171652542764, 426.04454743313244]]\n"
          ]
        },
        {
          "output_type": "stream",
          "name": "stderr",
          "text": [
            "0: 384x640 29 persons, 1 bird, 175.6ms\n",
            "Speed: 12.0ms preprocess, 175.6ms inference, 2.6ms postprocess per image at shape (1, 3, 640, 640)\n",
            "\n"
          ]
        },
        {
          "output_type": "stream",
          "name": "stdout",
          "text": [
            "[<deep_sort.deep_sort.detection.Detection object at 0x7f003548aec0>, <deep_sort.deep_sort.detection.Detection object at 0x7f00354891b0>]\n",
            "<class 'list'> class\n",
            "[[5, 620.4035405850115, 268.5888962239107, 669.918581432672, 381.82082442914725], [20, 1037.4837380041797, 134.84710844333375, 1081.2994680285472, 235.11888090449304], [54, 545.3689287083305, 6.851639372500458, 571.898614913609, 88.24520851020128], [60, 607.1052827967785, 356.86639609160426, 660.566520118161, 478.36007148656194], [61, 1168.2017437619786, 75.22969536839517, 1204.389630151018, 153.4205880702404], [75, 475.48180372341926, 39.63316841700817, 509.4228014577436, 123.77617000030719], [77, 266.29380615247027, 13.12061341600375, 300.4750653836742, 79.94681699294398], [86, 1152.5421482305949, 138.63017461582444, 1200.215968242026, 241.28729526463724], [105, 703.6331903190621, 202.73796622407806, 750.9786388870735, 308.9447090270573], [117, 768.4246403947002, 214.14510758049886, 807.3289250475041, 304.9214152628842], [120, 607.9882965763502, 103.26595188554234, 640.925495101184, 199.09701200210696], [122, 771.8239013579109, 90.03080521343875, 808.6942961281685, 165.84331218962785], [125, 453.69316193231873, 83.1215366500046, 488.6277201937534, 176.29104856186433], [126, 1192.5923033641466, 280.24755325826567, 1252.891928304606, 404.29057419104123], [131, 352.65804115695465, 439.9251366057795, 410.99742246342373, 553.0159796683139], [132, 47.96745308893658, 68.98917150599918, 80.46855972347377, 150.9250010604535], [133, 348.03044393776247, 341.57252429803316, 398.4901234050258, 451.5149301664318], [135, 685.4398107718166, 308.96763557535155, 718.8075210192404, 410.4359162966848], [142, 829.710273116087, 327.1186388914399, 880.527203319383, 443.73531915339987], [145, 464.5141918651763, 384.6354514314529, 517.5072608109709, 511.0331513227198], [150, 137.31271679833372, 11.050002673443785, 179.61820966557295, 93.7068190535023], [152, 573.5254269687877, 7.27591201723731, 598.8312515612203, 88.85826860547775], [153, 1203.9585979317953, 70.03827637777205, 1232.847801934375, 149.02489877958777], [156, 254.83146044171465, 318.3665480857743, 307.2441505251402, 426.02510773965685]]\n"
          ]
        },
        {
          "output_type": "stream",
          "name": "stderr",
          "text": [
            "0: 384x640 27 persons, 1 bird, 195.6ms\n",
            "Speed: 12.0ms preprocess, 195.6ms inference, 1.5ms postprocess per image at shape (1, 3, 640, 640)\n",
            "\n"
          ]
        },
        {
          "output_type": "stream",
          "name": "stdout",
          "text": [
            "[<deep_sort.deep_sort.detection.Detection object at 0x7f01681645b0>, <deep_sort.deep_sort.detection.Detection object at 0x7f00354f5f00>]\n",
            "<class 'list'> class\n",
            "[[5, 620.647189598006, 270.06452185198145, 669.8161263861745, 381.9618753139961], [20, 1036.8993958189649, 133.78913885772823, 1080.9123357277813, 234.54499607126564], [36, 918.7550799476647, 12.966780078481001, 956.1476536326727, 103.8916562802751], [54, 545.563105208761, 6.0921700938202505, 572.5013123239775, 88.47082456777505], [60, 606.1078053095647, 359.00088871948265, 659.9355586933727, 481.0392310372637], [61, 1168.0060341690814, 75.78425572072355, 1204.5119264127209, 154.66182998930407], [75, 474.9614339725971, 37.36157130667965, 508.6047377969241, 122.08487092711411], [77, 267.8329526011644, 12.308240302998591, 301.92241225625924, 79.1904596175593], [86, 1152.431112226578, 135.59713486123374, 1201.4970072425403, 241.97878417933467], [105, 703.4973010778484, 201.59810860772748, 751.2929032928049, 309.06070608115965], [117, 769.4694440867271, 215.25522650583153, 808.2109413687996, 306.31927917097505], [120, 607.5362107964992, 103.50253726368089, 640.6422480876815, 199.54542972223214], [122, 771.8385343382952, 88.59833756664611, 808.7142370441826, 164.42159843826744], [125, 453.3268567076971, 81.81304761921507, 488.7189298335723, 176.10730259007653], [126, 1192.8720586010875, 283.4637183470902, 1252.7029860319708, 407.09184535724023], [131, 351.59718529766195, 440.55358766717836, 411.0268180308998, 556.1872588722997], [132, 47.82143055809981, 68.99046310810309, 80.27312063074586, 150.9293424080102], [133, 347.66081386928624, 342.5258249097203, 397.68992395788314, 452.1712044976555], [135, 686.063570157053, 306.18128508434677, 718.7183848392746, 405.2583514923586], [142, 830.2583965383412, 322.69331124308894, 880.9166380178614, 438.8499421759263], [143, 106.45613106966746, 519.1540701314842, 176.6865891514048, 654.8726443768076], [145, 465.669774235461, 381.1983938104473, 517.5593424035544, 504.31497860727035], [150, 137.22416595645592, 11.814889673209741, 179.66530573993842, 95.47653886164511], [152, 573.3716510888021, 5.516413226728808, 598.98243904472, 88.00438858264096], [153, 1203.6316218357292, 71.42146159591177, 1234.2539270727575, 152.70125098979315], [156, 255.08495467166557, 319.39125289555585, 307.13690986897996, 426.01660282674885]]\n"
          ]
        },
        {
          "output_type": "stream",
          "name": "stderr",
          "text": [
            "0: 384x640 29 persons, 1 bird, 268.0ms\n",
            "Speed: 4.8ms preprocess, 268.0ms inference, 2.3ms postprocess per image at shape (1, 3, 640, 640)\n",
            "\n"
          ]
        },
        {
          "output_type": "stream",
          "name": "stdout",
          "text": [
            "[<deep_sort.deep_sort.detection.Detection object at 0x7f003548b9a0>, <deep_sort.deep_sort.detection.Detection object at 0x7f003548ace0>]\n",
            "<class 'list'> class\n",
            "[[5, 620.0774784415531, 270.5591827415464, 669.818798674243, 383.24907107274953], [20, 1036.3021957662525, 132.12650171910138, 1080.533204963498, 233.72419837478017], [36, 917.1907885642471, 13.972456111264037, 952.9478434149548, 103.95368800071701], [54, 545.6881150678844, 5.828322980401758, 572.6434264078401, 87.91956038039237], [60, 606.5611313994084, 362.3593163803731, 659.5028748256073, 481.9576980200382], [75, 475.28881026124736, 36.56294790440215, 508.4432149632259, 121.50169102412674], [77, 269.3026970103096, 12.011326445895698, 303.39240660731923, 78.92113704783219], [86, 1152.921174257644, 136.39044786194532, 1201.4166920748562, 241.5255203299542], [105, 704.1051332269702, 201.23280755325305, 751.4162314597413, 307.8554055755636], [117, 770.7210517053542, 216.93103492667555, 808.957256368246, 306.77655361091206], [120, 607.725287853346, 103.54680550954961, 640.846805263553, 199.65900321438122], [122, 772.2590546279285, 88.59567453054345, 809.4295321907052, 165.33863849379037], [125, 453.28650196346655, 81.3800437832464, 488.6622562986987, 175.44851434837486], [126, 1193.03262358774, 285.92031982491727, 1252.5309647112886, 409.3597093739949], [131, 350.3978921272403, 442.0512566847155, 411.17974037862933, 561.2626555526906], [132, 47.8941793234233, 69.65330414979286, 80.07791858826025, 150.93599599766213], [133, 347.61338948960696, 343.47404112242936, 397.311001459586, 452.97338209929177], [135, 686.5550479085624, 304.576414635648, 718.4210057543687, 400.76873161503863], [142, 831.0454382790848, 319.8348804285087, 880.4347167738515, 432.5106753249205], [143, 106.4351844903973, 521.2612182922309, 176.39724885775712, 656.650808975633], [145, 465.89615212865885, 378.0405938679388, 517.7866801784842, 500.6771464354586], [150, 137.29887503289808, 12.74594353331559, 179.58363676076502, 96.7776122201303], [152, 573.6634765749045, 4.879740576362018, 599.3237533733901, 87.05404230560072], [153, 1202.1126943772244, 72.32122674142411, 1234.7399393668336, 156.75861088094857], [156, 255.21800054017586, 319.1177321724719, 307.77848098660405, 426.01245249082484]]\n"
          ]
        },
        {
          "output_type": "stream",
          "name": "stderr",
          "text": [
            "0: 384x640 28 persons, 1 bird, 269.0ms\n",
            "Speed: 9.9ms preprocess, 269.0ms inference, 1.9ms postprocess per image at shape (1, 3, 640, 640)\n",
            "\n"
          ]
        },
        {
          "output_type": "stream",
          "name": "stdout",
          "text": [
            "[<deep_sort.deep_sort.detection.Detection object at 0x7f0168166e30>, <deep_sort.deep_sort.detection.Detection object at 0x7f003548aec0>]\n",
            "<class 'list'> class\n",
            "[[5, 619.784390754047, 271.35148983807926, 669.2664785117684, 383.0161465012856], [20, 1035.981362867531, 130.8908365631065, 1079.8733170296664, 232.14701744152507], [36, 917.0479969539363, 14.292562796465113, 951.6481947401361, 103.97015920568745], [54, 545.3102946371963, 5.0907114493722005, 572.4224797092572, 87.73987443648508], [60, 606.8145757935213, 364.87319083502194, 659.2507998971863, 482.846586004519], [75, 475.6277919430326, 35.6630995028474, 508.83882532261714, 121.99721590769131], [77, 270.48275496385526, 11.91019662494653, 304.47822961761494, 79.49823926665309], [86, 1153.4932489986343, 136.62063012640104, 1201.6118222937407, 241.2227784829197], [105, 704.7511324379246, 199.8512349557115, 751.7174616410861, 306.1375729505835], [117, 771.2895293779618, 218.16566709108477, 809.0920336041736, 306.8682208832959], [120, 608.1874856660213, 104.18117730228718, 641.2084630033191, 199.65028691066], [122, 772.3088306993, 87.31515218984401, 809.531358931145, 164.1654640606044], [125, 452.7719715584174, 80.62153883080984, 488.48654529748984, 175.26959915385652], [126, 1193.5597483888264, 287.42426608786593, 1252.6182109280835, 410.1103598456636], [131, 349.003030115127, 444.5252694499658, 410.2199785035253, 565.7411001430346], [132, 47.926453701341046, 69.90367429294754, 80.00667643895028, 150.9433047561725], [133, 347.5336532945553, 345.08015004955195, 395.9362228275291, 451.8680485366678], [135, 686.9773797455828, 301.39641999794515, 718.7373027146483, 397.2146066218576], [142, 831.4987153073348, 316.8969498688864, 880.0372650331472, 426.92827944562686], [143, 107.2489368325392, 523.9530325669717, 176.1020046649105, 657.2409647920982], [145, 466.1791108949242, 375.655885319227, 518.345572772731, 498.82951803530364], [150, 137.8477939557565, 13.740505122668537, 179.69647750474562, 97.2415998319641], [152, 574.2965733944819, 4.012490617460934, 600.2282873092327, 86.72755707947698], [153, 1201.8956529401198, 73.29977886724689, 1235.8853011673873, 159.51844111276375], [156, 255.19117052662781, 319.01717018444106, 308.1363576097648, 426.01019037635274]]\n"
          ]
        },
        {
          "output_type": "stream",
          "name": "stderr",
          "text": [
            "0: 384x640 29 persons, 284.6ms\n",
            "Speed: 15.5ms preprocess, 284.6ms inference, 2.2ms postprocess per image at shape (1, 3, 640, 640)\n",
            "\n"
          ]
        },
        {
          "output_type": "stream",
          "name": "stdout",
          "text": [
            "[<deep_sort.deep_sort.detection.Detection object at 0x7f003548af20>, <deep_sort.deep_sort.detection.Detection object at 0x7f00354f74f0>]\n",
            "<class 'list'> class\n",
            "[[5, 619.5157042354275, 272.91438292332526, 669.2448770891352, 384.83998699489905], [20, 1035.1254405037619, 128.49946064275204, 1079.0871812283808, 230.93934532030394], [36, 917.2757135552307, 14.377355797096882, 950.9694216765258, 103.97757428881242], [54, 545.0680037433578, 4.833776153445967, 572.4117276880474, 88.35628848163933], [60, 607.4853874646692, 367.0553420454266, 659.2394460744644, 483.0825487264645], [75, 475.50337870537703, 34.71823081436179, 508.5940146979426, 122.22939547288084], [77, 273.1397440493419, 11.222380852128254, 306.4852440373812, 79.06887507632857], [86, 1153.8474114305234, 138.63738790324777, 1201.5089218887642, 242.35153830946848], [105, 706.6185104117775, 196.7523205729056, 752.8492036364131, 301.58436242632496], [117, 772.1080872816659, 219.23224256360942, 809.1446227063815, 305.5076988357359], [120, 608.9140793927501, 105.7041739166308, 641.4685557867689, 198.9364593534537], [125, 452.47963313657687, 79.72940317527457, 487.86681804146224, 173.27951525681027], [126, 1194.3702465958481, 288.56406178699007, 1253.322991705558, 410.2828874475829], [131, 348.01225576611995, 449.9878928598693, 410.30541253827477, 575.2199338669839], [132, 48.05470163479467, 69.99502305769687, 79.87015578809991, 150.286799772597], [133, 347.6152726309, 346.94069620835785, 393.99669420481064, 449.34084654111354], [135, 687.2167020708664, 297.6417728882785, 719.4304430356862, 394.68477931979874], [142, 831.7820077290637, 313.2540767499149, 880.4005094211983, 423.6766621449512], [143, 110.83636775107844, 527.515528541197, 177.89120211827515, 657.3469806428668], [145, 466.2373927371013, 372.8859962420251, 518.6024587559153, 496.965356310648], [150, 138.48665970148724, 14.099735589082009, 179.97722186222563, 97.38133535425916], [152, 574.7781274324273, 3.7158154735013653, 600.9617068470334, 86.63428604825184], [153, 1202.7710560434643, 74.99095829984785, 1237.302839838498, 161.2311293279402], [156, 254.68946309936132, 319.64359698963534, 307.47681658341946, 426.00866414387167]]\n"
          ]
        },
        {
          "output_type": "stream",
          "name": "stderr",
          "text": [
            "0: 384x640 30 persons, 283.2ms\n",
            "Speed: 14.3ms preprocess, 283.2ms inference, 2.1ms postprocess per image at shape (1, 3, 640, 640)\n",
            "\n"
          ]
        },
        {
          "output_type": "stream",
          "name": "stdout",
          "text": [
            "[<deep_sort.deep_sort.detection.Detection object at 0x7f013411be50>, <deep_sort.deep_sort.detection.Detection object at 0x7f003548aec0>]\n",
            "<class 'list'> class\n",
            "[[5, 619.3907593638339, 275.431128267737, 668.627385692203, 385.47132301876894], [20, 1034.784236985186, 126.99065141589153, 1078.1947001437052, 229.2152026354126], [36, 916.5219938068476, 15.13796219386569, 949.9201838481129, 103.94482675576701], [54, 545.3559471078903, 4.757189342891635, 572.6628013069324, 88.6107015488194], [60, 607.9410712093159, 367.7797872498313, 659.0258890288478, 481.7433389529438], [75, 475.3414691874941, 34.41086057247554, 507.967263843104, 121.70732675289321], [77, 275.49819381158886, 10.971864782959216, 307.7207738892077, 77.5981776485285], [86, 1154.1022019763163, 141.99851124774392, 1201.3105483629795, 244.69393525386386], [105, 706.6558839213511, 193.65881152861584, 752.6178701096134, 298.59780257385137], [117, 771.5539820315662, 221.57076123416778, 808.628654375176, 306.9295987064804], [120, 609.9812510316702, 107.57081281820902, 642.1171179471322, 198.61689267653878], [122, 773.9564649892528, 86.65689163695177, 811.4543557217664, 164.5140514593393], [125, 451.9595173799099, 78.78821206280256, 487.387681706949, 172.58675282599813], [126, 1195.123895317349, 290.2303919457128, 1253.7668820769495, 410.24504514086703], [131, 347.6714102665784, 453.3171828046042, 409.6621943416238, 579.4121385897671], [132, 48.09643490271274, 70.02603936033952, 79.83159592785523, 150.0440257847374], [133, 347.3917047026949, 348.9004616992883, 392.20963213573066, 447.62032857455307], [135, 687.569119329369, 295.67140720733374, 720.0781571325053, 393.85232161179243], [142, 832.0800394889193, 311.3544876641542, 880.9727772038252, 421.9443656313908], [143, 113.22825364279353, 530.075926398538, 178.7294682429516, 656.6004584992924], [145, 465.57780798816964, 369.3075429735075, 519.3796497977281, 497.7432742149633], [150, 138.79796967920592, 14.215146451227064, 180.0171336796689, 97.40208808361513], [152, 575.1857360061418, 2.9761216026826673, 601.6462639092581, 86.62909997216326], [153, 1203.6175643043714, 76.30755540007922, 1238.6293664325474, 163.1921499262536], [156, 253.91344145748204, 319.8827357328388, 306.5221540019146, 426.0074651170722]]\n"
          ]
        },
        {
          "output_type": "stream",
          "name": "stderr",
          "text": [
            "0: 384x640 29 persons, 201.0ms\n",
            "Speed: 7.1ms preprocess, 201.0ms inference, 1.5ms postprocess per image at shape (1, 3, 640, 640)\n",
            "\n"
          ]
        },
        {
          "output_type": "stream",
          "name": "stdout",
          "text": [
            "[<deep_sort.deep_sort.detection.Detection object at 0x7f003548af20>, <deep_sort.deep_sort.detection.Detection object at 0x7f00354f7e20>]\n",
            "<class 'list'> class\n",
            "[[5, 619.2716886512163, 277.6529934040217, 668.4959386861979, 386.9721063254333], [20, 1034.9037571300082, 125.81796729922682, 1076.9971625299654, 225.31504437010824], [54, 545.584794637905, 4.748939695236537, 572.6165005000546, 88.06741551504595], [60, 608.8365293287884, 368.62523932050726, 659.5493153017425, 481.15766126574], [75, 475.28725796962607, 33.693652272300085, 507.7276736224779, 120.893593801408], [77, 277.10941746514476, 10.890495796586166, 309.2891311515054, 78.38427133144526], [86, 1154.7184169196883, 145.19862610620328, 1202.009702668784, 248.161922838249], [105, 707.1204936980378, 191.90529860214247, 752.0693497897146, 294.9018076211444], [117, 771.3185230938955, 223.04743746308705, 809.7567479766592, 310.0750757462989], [120, 610.2902099586194, 108.8927199580477, 642.4497059753127, 199.1297424898304], [122, 774.1476848565015, 85.56267423995118, 811.7346580448218, 163.60474298005778], [125, 451.78419833444013, 77.16115726806876, 487.20122615986395, 171.0573052091751], [126, 1196.1971903500078, 292.0999502649971, 1254.432664602727, 410.1332535774062], [131, 347.9808188265007, 457.7883049880743, 408.9850158686964, 583.5239344756615], [132, 47.992561742359584, 70.03456651604687, 79.9417792623274, 150.62313047593108], [133, 348.16586904049814, 350.8958718158201, 392.7539358976433, 448.27150935518785], [135, 687.999043406389, 294.36592668276273, 720.6736752101882, 393.65259607384667], [142, 831.9566403196864, 310.10175372772255, 881.3840203919858, 422.1081390589102], [143, 114.97311641980988, 532.9247136530697, 179.39370571272553, 656.8925265749774], [145, 464.94738914756886, 367.40184991951946, 519.3978009825074, 498.13172358704594], [150, 138.73953602034715, 14.898523616996492, 179.54899085891296, 97.38056308224759], [152, 575.3144730576959, 2.7244094965147667, 601.9027592730426, 86.65209892351963], [153, 1205.016426022965, 77.46181658612116, 1239.99400923775, 163.92147477458082], [156, 253.514239930616, 319.30933976322643, 306.3055172214688, 426.0065111844958]]\n"
          ]
        },
        {
          "output_type": "stream",
          "name": "stderr",
          "text": [
            "0: 384x640 29 persons, 220.3ms\n",
            "Speed: 5.2ms preprocess, 220.3ms inference, 1.5ms postprocess per image at shape (1, 3, 640, 640)\n",
            "\n"
          ]
        },
        {
          "output_type": "stream",
          "name": "stdout",
          "text": [
            "[<deep_sort.deep_sort.detection.Detection object at 0x7f003548aec0>, <deep_sort.deep_sort.detection.Detection object at 0x7f01681662c0>]\n",
            "<class 'list'> class\n",
            "[[5, 620.4570442531428, 281.7438277908332, 668.5705967511752, 387.4786604358781], [20, 1035.4267560402952, 124.11032826882655, 1076.790319865227, 221.8955518528076], [54, 545.8778632055283, 4.765837689687245, 573.0308457461243, 88.53955554100585], [60, 609.9830936191973, 371.5291626050501, 660.2572431671509, 482.87721616032786], [75, 475.31246840349917, 33.4705258368963, 507.60109222214953, 120.62331859501519], [77, 279.6550173843434, 10.868950135985706, 311.75918604063844, 78.68720272285614], [86, 1154.9684085042263, 146.33627189445212, 1202.8851611493267, 250.7163184259881], [105, 706.9148023542737, 189.99584079886444, 750.898666368578, 290.92524457328796], [117, 771.6102582337346, 224.86627704797132, 811.7419412500285, 314.49390902116926], [120, 610.0131424532557, 110.00758107794363, 642.9590016273437, 201.95942570592473], [125, 451.9507620555216, 75.27585949501467, 486.9130696449929, 167.89073658642025], [126, 1198.0404653317512, 294.7146353451586, 1255.198169003604, 409.33896255871093], [131, 348.4646587643301, 461.38485866686597, 408.3769940068472, 586.2867705126466], [132, 48.1651394679867, 70.69610958102987, 79.77575679326574, 150.84480704511282], [133, 348.20108681659616, 352.9018472856793, 392.5583730516635, 449.13734763624205], [135, 687.7359886344517, 293.9661870010224, 720.6501043151989, 394.3395890599238], [142, 831.2873139297707, 308.41527063199123, 881.4674613796658, 422.2901098784942], [143, 115.84062266739406, 535.2099990586047, 181.97338467978125, 662.2850721347714], [145, 464.95054884263845, 366.1339214852908, 519.813587011728, 498.40351712139693], [150, 139.01791049376027, 15.137576248457556, 179.73180190352244, 97.34373261627044], [152, 575.7085943208244, 2.6584575980746337, 602.2827587775366, 86.0269827941072], [153, 1206.2727043167363, 79.21342493162314, 1241.0739889709537, 164.83486269693572], [156, 253.03818414855579, 319.2749664617843, 305.85166262288095, 426.01690295155834]]\n"
          ]
        },
        {
          "output_type": "stream",
          "name": "stderr",
          "text": [
            "0: 384x640 30 persons, 202.8ms\n",
            "Speed: 4.7ms preprocess, 202.8ms inference, 1.3ms postprocess per image at shape (1, 3, 640, 640)\n",
            "\n"
          ]
        },
        {
          "output_type": "stream",
          "name": "stdout",
          "text": [
            "[<deep_sort.deep_sort.detection.Detection object at 0x7f003548b9a0>, <deep_sort.deep_sort.detection.Detection object at 0x7f00354f74f0>]\n",
            "<class 'list'> class\n",
            "[[5, 620.3583536309353, 283.63352927635447, 668.2254810053887, 388.8239492566348], [20, 1035.2375747187982, 122.19936414005582, 1076.476524867048, 220.02274748575667], [54, 545.985853822347, 4.787024798120875, 573.1700103400137, 88.73083182473835], [60, 610.3936441538046, 374.5342012983946, 661.8579789275698, 488.8010934386343], [75, 475.74885372899456, 33.432013446833125, 507.79520761200564, 119.89894062359973], [77, 282.09605017695037, 12.189999791509713, 313.70735145963386, 78.81347426578384], [86, 1155.560037729887, 149.99365353437665, 1202.6879312219423, 252.26637238317636], [105, 708.3003355859969, 189.36302332890602, 750.9954382402083, 286.8573425915798], [117, 770.6218425934288, 228.11860612564976, 811.597581905308, 318.72952637402693], [120, 609.5550682572756, 111.04624446074644, 643.4977221291666, 205.6207204405609], [125, 452.1913481822722, 73.95606895325258, 487.30789649942045, 166.75491160615888], [126, 1199.1725859725384, 295.59991297750867, 1256.334466599698, 409.628973839832], [131, 348.6022463849154, 463.97605023515797, 407.55066043002813, 587.869124397577], [132, 48.16193524889955, 70.28007915281438, 79.78591756670345, 150.93192998978915], [133, 347.7240785816712, 354.91175328638826, 392.3312234461739, 451.4237442237212], [135, 688.12818760822, 293.9017235558674, 720.7909462251567, 394.0324985599075], [142, 831.1943268082789, 307.2196459628571, 881.9671173788252, 422.46720719854966], [143, 116.14138289490954, 536.6369194925621, 185.4936821874319, 670.1418865836786], [145, 465.38960884747814, 365.1031463322768, 520.1911676587271, 497.9548622975609], [150, 138.83017968784833, 15.208634464003943, 179.43217465011588, 97.30659733248132], [152, 575.3382115774791, 2.001745430774271, 602.2552857309458, 86.47392553219242], [153, 1207.349608803607, 79.86761181699643, 1242.1607122496443, 165.15743537407343]]\n"
          ]
        },
        {
          "output_type": "stream",
          "name": "stderr",
          "text": [
            "0: 384x640 30 persons, 215.6ms\n",
            "Speed: 2.9ms preprocess, 215.6ms inference, 1.9ms postprocess per image at shape (1, 3, 640, 640)\n",
            "\n"
          ]
        },
        {
          "output_type": "stream",
          "name": "stdout",
          "text": [
            "[<deep_sort.deep_sort.detection.Detection object at 0x7f003548bdc0>, <deep_sort.deep_sort.detection.Detection object at 0x7f003548af20>]\n",
            "<class 'list'> class\n",
            "[[5, 620.8458676764811, 287.4765218796926, 669.5496623538577, 393.97899322553974], [20, 1035.1768828746854, 120.87971752684041, 1075.7233530645462, 217.40041428485296], [54, 546.0230879329412, 4.8097005769698455, 573.2056312362675, 88.81551128200033], [60, 610.5917766787277, 378.21847592256853, 663.7027233433977, 496.86452831949003], [75, 476.02212686240733, 31.47886066150869, 507.7706113260283, 117.01622678503503], [77, 288.00509708491984, 12.703566663449116, 320.59195017169685, 79.53722214987963], [86, 1156.2865874353463, 154.63929439459477, 1203.4011476179476, 256.08765143841134], [105, 708.1196458647727, 187.1936944865048, 751.0505649231427, 284.7778271625134], [117, 771.1748218937109, 232.58373614073423, 812.5278408698465, 322.9075837089034], [120, 608.6137318936884, 114.02002086964919, 643.1548692154114, 209.58805816679472], [125, 452.0865207787072, 71.5269269799995, 486.99888990199634, 163.73937155294774], [126, 1199.2868623445147, 299.1899518747041, 1259.0100898783544, 418.35659189543105], [131, 349.4885555415078, 468.8174522997563, 405.7590954887932, 587.0248560638205], [132, 47.72181488171159, 70.12007440573939, 79.5713289585133, 151.6266380902611], [133, 345.37323194818816, 357.58809621510767, 392.4431800955376, 460.227842139579], [135, 688.504885672638, 291.9844233588009, 721.2620611323217, 392.68308539747454], [142, 830.7433295640675, 304.23638296003634, 881.8888860231808, 420.66509799792675], [143, 116.38578742314527, 542.3024518416901, 189.85384861108605, 684.7260772581849], [145, 465.45459239830996, 362.18703453960404, 521.093648425484, 497.87665487523805], [150, 138.6351537345218, 15.878811090798862, 179.44308646568803, 98.59424061166817], [152, 575.19076074226, 1.7761983639849745, 602.2305680436051, 86.65890210901094], [153, 1208.835370639096, 80.09906623850883, 1243.4253679850951, 165.25590397339], [156, 224.51748878323264, 308.88859426417906, 274.16310788681886, 411.63613775138424]]\n"
          ]
        },
        {
          "output_type": "stream",
          "name": "stderr",
          "text": [
            "0: 384x640 30 persons, 212.6ms\n",
            "Speed: 3.8ms preprocess, 212.6ms inference, 1.5ms postprocess per image at shape (1, 3, 640, 640)\n",
            "\n"
          ]
        },
        {
          "output_type": "stream",
          "name": "stdout",
          "text": [
            "[<deep_sort.deep_sort.detection.Detection object at 0x7f003c922500>, <deep_sort.deep_sort.detection.Detection object at 0x7f003548aec0>]\n",
            "<class 'list'> class\n",
            "[[5, 620.836005461236, 289.86543541007785, 669.2295909961242, 395.24199397658776], [20, 1034.7091768811417, 119.7833094343665, 1075.261504774512, 216.49263205005917], [54, 545.282489109275, 4.1714468314087085, 572.6348498120442, 88.85771263865402], [60, 611.6469620562384, 382.8046161034518, 664.0511128675766, 499.85270000800165], [75, 475.6320756058469, 30.1209044100951, 507.5972264088188, 115.96692338333301], [77, 290.8395636178223, 13.557875733664176, 324.3550064900083, 80.47333944010786], [86, 1156.1909542652015, 155.6316696628333, 1204.0023553767876, 258.1001892021971], [105, 707.3601907125524, 185.79270806869977, 751.0905758281377, 284.7666725006054], [117, 770.9570440273415, 234.8773502961668, 812.6163188336017, 325.07781009497364], [120, 607.911095160953, 116.4296867302304, 642.7010806959378, 211.71614620407252], [122, 776.9151882510816, 79.19257475700621, 812.8882050988472, 154.5257522014613], [125, 451.6540894863906, 70.00479137401237, 486.62179532041216, 162.6668987311345], [126, 1199.268938924923, 301.7739849217686, 1260.6770096393248, 424.79633553475577], [131, 349.4541032251718, 470.52943843321157, 404.7993244402318, 586.5401027846286], [132, 47.69651179787793, 70.71576630187904, 79.35317430062335, 151.88919017152267], [133, 343.20232924134746, 359.1892796680345, 392.5039532500033, 467.98228877178616], [135, 688.4770145373271, 289.35481927373735, 721.5948416648318, 390.9263599829888], [142, 830.1951927736397, 301.8823240319318, 881.5546584677155, 419.41300246221056], [143, 117.36661876381002, 546.3397764788753, 191.84450397572095, 691.5417846630859], [145, 466.90897103147637, 359.8580327977749, 521.3065207400921, 492.6932166735546], [150, 138.87150167858383, 16.774461284640694, 179.79765039193796, 99.71957656440979], [152, 575.0361641336615, 1.0577103641364474, 602.2954592012518, 86.74713676596303], [153, 1210.5525031922964, 80.17059267259815, 1244.6763252771889, 165.271050340734], [156, 221.19509319840424, 307.8122799104942, 270.66308756768586, 410.19216730066887], [161, -0.7154168989559189, 382.5426914941226, 35.2411133573447, 487.0397091337163]]\n"
          ]
        },
        {
          "output_type": "stream",
          "name": "stderr",
          "text": [
            "0: 384x640 30 persons, 206.6ms\n",
            "Speed: 5.8ms preprocess, 206.6ms inference, 1.5ms postprocess per image at shape (1, 3, 640, 640)\n",
            "\n"
          ]
        },
        {
          "output_type": "stream",
          "name": "stdout",
          "text": [
            "[<deep_sort.deep_sort.detection.Detection object at 0x7f00354891b0>, <deep_sort.deep_sort.detection.Detection object at 0x7f013411be50>]\n",
            "<class 'list'> class\n",
            "[[5, 621.2986138985882, 291.3339334122659, 667.9865104507572, 391.64484279194085], [20, 1034.3552696979239, 118.76567854150905, 1075.3047115289462, 216.2219085799154], [36, 918.001496652931, 14.263393762694875, 950.3805994643726, 103.98837427083508], [54, 545.2907416103693, 3.941681271687777, 572.7747454724064, 88.88164011649656], [60, 611.5026024279047, 386.4570142106131, 664.0385645681748, 504.18558331484013], [75, 475.5661512446226, 28.991395813602608, 507.456729117415, 114.29189891693692], [77, 293.03774939025135, 14.540811883633502, 327.095638341297, 80.82894490817597], [86, 1155.851597638835, 155.92902722108744, 1204.5013422068878, 259.4380630221665], [105, 706.8946675796411, 184.67074893163303, 751.2834825666415, 284.84355529849176], [117, 770.881037846407, 235.6678134931363, 813.2665808967784, 327.13028433896], [120, 607.271325728002, 117.95481760680183, 642.2395152984769, 213.12284665183466], [122, 776.4205693117443, 78.67705538237112, 811.6159408139749, 153.04236801484245], [125, 451.25524149869017, 69.48862812803435, 486.06651109104484, 161.6648951498899], [126, 1200.18754527071, 304.64418900900876, 1262.2908399687076, 429.7963810401311], [131, 349.2800757891465, 471.059434718591, 404.62677799214987, 586.9422161168145], [132, 47.42333227395767, 70.9402091415158, 78.87866442792546, 151.98696046536156], [133, 342.8148313307378, 361.6795323189555, 392.74211959573006, 472.8476245981268], [135, 688.723069697273, 287.11517436231173, 722.1058785591131, 389.6721981788448], [142, 829.5520764010951, 298.456342175448, 881.1867244778738, 417.05431129750554], [143, 117.92098089154146, 551.0527889849027, 191.0282350900951, 694.7115211652217], [145, 467.6884794626284, 357.0979596932541, 522.4874134752378, 491.44647885991674], [150, 138.82253868271323, 17.09614969325788, 180.07226418240165, 100.78293100960755], [152, 575.6356084728706, 0.8069341570253243, 602.9556654415169, 86.79440037377456], [153, 1211.8949267472383, 81.50336505391192, 1245.0580400040014, 165.2565808108692], [156, 219.2632421483474, 306.9468530097771, 267.341380701587, 408.9493150234799], [161, -0.24665685169050633, 383.444446725803, 35.42083018910077, 487.11217193139066]]\n"
          ]
        },
        {
          "output_type": "stream",
          "name": "stderr",
          "text": [
            "0: 384x640 30 persons, 209.5ms\n",
            "Speed: 2.8ms preprocess, 209.5ms inference, 2.7ms postprocess per image at shape (1, 3, 640, 640)\n",
            "\n"
          ]
        },
        {
          "output_type": "stream",
          "name": "stdout",
          "text": [
            "[<deep_sort.deep_sort.detection.Detection object at 0x7f0168166e30>, <deep_sort.deep_sort.detection.Detection object at 0x7f003548b850>]\n",
            "<class 'list'> class\n",
            "[[5, 620.4422428240601, 293.127802726973, 669.23906882834, 396.985013169986], [20, 1033.6727649202865, 118.43710810777176, 1074.5832304422415, 215.5230087912953], [36, 918.6171092751504, 14.174990476754871, 949.966437730003, 103.99253896953995], [54, 545.1853590999531, 3.2089065644836126, 572.9259364831845, 88.89843532621865], [60, 611.6670199078657, 389.71433777151134, 665.1030875799576, 509.66794543528647], [75, 475.9000255416848, 27.94837305800646, 507.71395579822354, 112.37853748730308], [77, 293.77151790233205, 14.244398216680153, 328.6750449346485, 80.9622819375147], [86, 1155.8966478436744, 155.96526100611862, 1205.144502180823, 259.86413783768694], [105, 705.7693069591357, 183.6530731175682, 750.9828645957962, 285.6133793359148], [117, 771.4365307013139, 237.866138980832, 813.5554653987366, 328.48487343565586], [120, 606.2121777447023, 119.13683429911165, 641.5681217838918, 214.91207116720557], [122, 776.3410419718566, 77.83041947069924, 811.1332801857925, 151.88365588691198], [125, 450.9959314243915, 68.69207618705421, 485.9788581185354, 161.3536827068508], [126, 1200.4763743008787, 306.97246811315694, 1262.920041314493, 433.57890494954216], [131, 349.4903573190679, 471.8303787759497, 404.97206670735164, 587.6782907723122], [132, 47.253245099083784, 71.02057238525964, 78.77359449197883, 152.6822521882823], [133, 341.91140687135396, 364.5249123649348, 392.33176037602067, 477.8897601923481], [135, 689.2859437820086, 286.33826378160296, 721.8146319661281, 386.63741297382785], [142, 829.4759306305446, 295.2785804087027, 880.8644424872041, 413.61560520059703], [143, 118.73633066976214, 555.3777172121968, 191.26997969752074, 699.0206146572431], [145, 468.8049667234829, 353.5183677729566, 523.4027107001097, 487.7658668056677], [150, 138.6773582453611, 17.199795349293566, 180.30179165277158, 101.81926091515037], [152, 575.5842428233865, 0.734989084153824, 602.8109295718241, 86.82548936480116], [153, 1213.25352111558, 82.65675809193493, 1245.6109032274428, 165.2301292673735], [156, 218.87788755945513, 306.6472137532836, 265.87517295412056, 408.5304911697362], [161, 0.1482635114823303, 384.0152378508353, 35.89224252053768, 487.83088148673966]]\n"
          ]
        },
        {
          "output_type": "stream",
          "name": "stderr",
          "text": [
            "0: 384x640 30 persons, 206.7ms\n",
            "Speed: 2.9ms preprocess, 206.7ms inference, 1.5ms postprocess per image at shape (1, 3, 640, 640)\n",
            "\n"
          ]
        },
        {
          "output_type": "stream",
          "name": "stdout",
          "text": [
            "[<deep_sort.deep_sort.detection.Detection object at 0x7f00354891b0>, <deep_sort.deep_sort.detection.Detection object at 0x7f00354f4a30>]\n",
            "<class 'list'> class\n",
            "[[5, 619.4990338902624, 295.05387299894267, 669.667429206786, 400.84041148116063], [20, 1032.8778910142723, 117.70830399664548, 1074.2215340270059, 215.9886348900788], [36, 918.3616608958989, 14.42304578494683, 949.6226123418737, 103.98235815718664], [54, 544.7618957567136, 2.286574828810785, 572.7006017841553, 88.2539251207591], [60, 611.6185740302274, 392.1659769193859, 665.590019459435, 513.605687105006], [75, 475.9639224067969, 28.26662904755608, 507.87883654520766, 112.37080948277787], [77, 294.0217039713922, 13.467334273379429, 329.77646197931443, 81.01000206020663], [86, 1156.224699258594, 157.6565213756308, 1205.575216353076, 261.7718544940796], [105, 704.9279733665481, 182.670004837648, 750.6283012693209, 285.9692117211421], [117, 772.1118407568412, 239.28408765795047, 813.8279857913966, 328.90449739208896], [120, 605.3893261107817, 119.53215204649047, 641.0891705665931, 216.18793765006353], [122, 776.3631540345341, 77.55803090906534, 810.8929518092127, 151.50349861665984], [125, 450.52989517020717, 68.44261216906804, 485.6682113019286, 161.29183132026253], [126, 1200.4307742707256, 309.74136832033713, 1263.2566244565014, 437.532640658166], [131, 350.14481604318695, 473.3552075200324, 405.8732300756713, 588.5385733474918], [132, 47.23940151220252, 71.04661853318834, 78.69180546158262, 152.94048378339545], [133, 341.43992781408093, 366.8529421543413, 391.67719637993963, 481.0317408833017], [135, 689.7171279375519, 283.4800391506106, 722.1298886631482, 384.2320845429542], [142, 830.0902571559889, 293.5134230287843, 880.0881967473633, 408.44403652009134], [143, 119.28962489961091, 558.8750317447617, 191.67187625869292, 703.1260039380758], [145, 468.13378580654035, 350.28150483925367, 522.8512289650218, 484.4758947019411], [150, 138.40816937106678, 18.53450644853347, 179.94508053819334, 102.84397091248857], [152, 575.5890514374863, 0.7294403316374201, 602.7106703501973, 86.84866220627009], [153, 1213.0528039142212, 83.06875455664309, 1245.1287338456514, 165.20337581953947], [156, 218.66562938658464, 306.558429744793, 264.8749740368861, 408.4056363048531], [157, 259.18993881981237, 315.9281289482557, 306.3765756230067, 427.8755095922682], [161, 0.483567634107569, 385.0114445943616, 36.5121934018928, 489.471910520847]]\n"
          ]
        },
        {
          "output_type": "stream",
          "name": "stderr",
          "text": [
            "0: 384x640 30 persons, 184.0ms\n",
            "Speed: 2.4ms preprocess, 184.0ms inference, 1.8ms postprocess per image at shape (1, 3, 640, 640)\n",
            "\n"
          ]
        },
        {
          "output_type": "stream",
          "name": "stdout",
          "text": [
            "[<deep_sort.deep_sort.detection.Detection object at 0x7f013411be50>, <deep_sort.deep_sort.detection.Detection object at 0x7f00354f44c0>]\n",
            "<class 'list'> class\n",
            "[[5, 619.3954904616916, 297.02461332284645, 670.2405644656093, 403.560542102645], [20, 1031.8364047443706, 116.81930120826493, 1073.5443212561843, 216.21162176010063], [54, 544.5692896802434, 1.2923337590817567, 572.6376647755117, 87.3570986651671], [60, 613.179402636176, 394.3104893947055, 666.7841352046903, 514.993643155163], [75, 476.4271892079814, 27.09993222467554, 508.167452039778, 109.75987608260928], [77, 296.04703637232194, 13.170481191799695, 331.38369940127006, 80.36769790599006], [105, 704.2955801565226, 181.0425546014574, 750.8107577388333, 286.1639103755726], [117, 773.3405816560846, 239.7407900505615, 814.9113591993976, 329.63930458282823], [120, 604.24741444246, 120.94530349731605, 639.7818384219878, 217.26996931532426], [122, 775.8954913621942, 76.8351812804805, 810.603649074059, 151.41317846842554], [125, 450.23148102817925, 67.07755092032593, 485.68853133575675, 160.66221501008565], [126, 1200.3119020840018, 313.98568393842856, 1264.0832751449614, 444.1620369678343], [131, 350.02560445420715, 477.8286836538255, 407.25688298497147, 594.7706244403477], [132, 47.011372211570965, 71.05208168981994, 78.23293368303129, 152.3734462244342], [133, 341.17596179708744, 370.2792542435775, 390.8889565532022, 484.0791122499637], [135, 691.1395148446219, 279.17893543370553, 722.2907036268665, 375.47902377040697], [142, 830.5375728581735, 288.9707431579261, 878.9041583776154, 399.2564339821932], [143, 120.14005900887082, 563.3640096013777, 191.74327657825376, 706.4996949725518], [145, 469.3293693461315, 347.18055820564336, 521.1681761241136, 472.11483107860727], [150, 137.76966387110843, 19.685121463424494, 179.02382441643184, 103.20526154205088], [152, 575.7023345345455, 0.7469184189356923, 602.5433444821947, 86.20876349718361], [153, 1214.1319895734312, 83.20192874429353, 1245.7292407945183, 164.5150080799507], [156, 218.3259033538921, 306.55952198456697, 263.6518353231468, 408.4053078395889], [157, 260.8134123477563, 316.1666746389973, 308.2462909748656, 428.6981495285165], [161, 0.333894140835028, 387.4931774724637, 38.33744698459206, 497.6176824702415]]\n"
          ]
        },
        {
          "output_type": "stream",
          "name": "stderr",
          "text": [
            "0: 384x640 29 persons, 185.6ms\n",
            "Speed: 2.6ms preprocess, 185.6ms inference, 1.5ms postprocess per image at shape (1, 3, 640, 640)\n",
            "\n"
          ]
        },
        {
          "output_type": "stream",
          "name": "stdout",
          "text": [
            "[<deep_sort.deep_sort.detection.Detection object at 0x7f0168166e30>, <deep_sort.deep_sort.detection.Detection object at 0x7f003548af20>]\n",
            "<class 'list'> class\n",
            "[[5, 619.9209523548843, 299.6718241574075, 670.5622141249097, 405.1807140916145], [20, 1031.3691584207484, 115.2121418798397, 1073.3968302165424, 215.6849425275771], [54, 544.8462486285923, 0.931769446080331, 572.9170789794763, 87.02512500174672], [60, 614.2123220255116, 395.67610189664765, 668.0918416362484, 516.705203915175], [75, 476.7226829378723, 26.703117368988053, 508.1567262353883, 107.49182524059358], [77, 297.69234085204647, 13.056110576274875, 332.25636302948186, 79.45900748984333], [105, 703.8739981945658, 179.82287758032948, 750.4156513220097, 285.63092211838705], [117, 774.2516688602192, 241.16747599964393, 814.8354380462509, 329.18711164646027], [120, 604.0432768939446, 122.74967247181087, 639.0719670072517, 217.61755720026161], [122, 775.4865896359768, 75.94037230235483, 810.721864266979, 152.084697091314], [125, 450.1155598163797, 65.9477504251301, 485.715042271718, 159.81154933334957], [126, 1200.583489869221, 317.4809229289996, 1264.0348736031701, 447.2369725512325], [131, 349.94889128233723, 481.4025043853748, 408.46790887457814, 599.6679626458802], [132, 46.649337405203546, 71.04983389009814, 77.68162068638412, 152.15236490275478], [133, 341.70784666216065, 372.82482285289564, 389.9885372346072, 483.164321864629], [135, 691.6285577900624, 276.2998875376762, 722.3806366053502, 370.8972233909741], [142, 829.9293010136128, 285.37725423104735, 877.884670540164, 393.9345950201661], [143, 121.27855896519426, 566.9217812805317, 191.5104712495232, 707.615008955149], [145, 469.8379203622832, 344.8044607589394, 521.1199235922535, 466.8290494301084], [150, 137.685951276714, 22.084042766448363, 178.51857990028074, 103.97335508830446], [152, 575.6684405796844, 0.11129545429356114, 602.5399467267391, 85.9757733394716], [153, 1215.0533284125117, 84.56230245827089, 1246.045987687091, 164.2440166133096], [156, 215.83716806608416, 305.79057143147395, 261.042392630992, 407.36533971909944], [161, 0.15232846050798088, 389.07678965255155, 39.76416373027544, 503.86742184997684]]\n"
          ]
        },
        {
          "output_type": "stream",
          "name": "stderr",
          "text": [
            "0: 384x640 29 persons, 226.8ms\n",
            "Speed: 2.6ms preprocess, 226.8ms inference, 1.5ms postprocess per image at shape (1, 3, 640, 640)\n",
            "\n"
          ]
        },
        {
          "output_type": "stream",
          "name": "stdout",
          "text": [
            "[<deep_sort.deep_sort.detection.Detection object at 0x7f003548b9a0>, <deep_sort.deep_sort.detection.Detection object at 0x7f003548bdc0>]\n",
            "<class 'list'> class\n",
            "[[5, 620.2949631203081, 301.91718327203193, 671.1795615210686, 407.70067899047166], [20, 1030.5904989954877, 113.98910315541377, 1072.6670992878246, 214.8691519763941], [54, 544.9522187418216, 0.15471194430826074, 573.0178265347155, 86.25111116673712], [60, 615.306778260373, 397.41386445727045, 668.5026314106988, 516.58608477926], [75, 476.83400086889475, 26.59756637794934, 508.1495785499331, 106.03180965448365], [77, 298.5459292615336, 12.349260730155862, 332.8373172813417, 79.117070891196], [105, 703.17075940022, 177.44856482754358, 750.1608593955614, 284.8185805046173], [117, 774.7225350138419, 242.96112175947806, 815.3017712870568, 331.59473455120116], [120, 603.5946240904087, 123.37747411301044, 638.5401487135763, 217.68409957282782], [122, 775.3812374934583, 74.98022745941842, 810.714327399065, 151.7159788513664], [125, 449.8559083942877, 64.24798850806849, 485.9566656001118, 159.53562198781134], [126, 1201.771764015859, 320.03630913756047, 1264.8422585896549, 448.9327034352924], [131, 348.774403846127, 483.32418006150084, 410.07148096606636, 606.7037805982511], [132, 46.489080069854545, 71.13444989048276, 77.50541228541364, 152.1968657868807], [133, 341.5089471036031, 374.36117552550746, 388.7641593520142, 482.0004659644729], [135, 691.6583199436956, 273.98899459252925, 722.5410955627781, 367.9829609417489], [142, 829.9010234336126, 281.4850385676233, 878.6598905828039, 391.4442421931661], [143, 122.55387207963739, 569.4542153054006, 191.80234639497246, 707.8623965574753], [145, 470.2215733209234, 343.3678995056575, 520.8891866085202, 461.68269479204565], [150, 137.4193529988892, 22.961917347554675, 178.57134165010956, 104.89805706322953], [152, 575.6758329091051, -0.11283580225812528, 602.5061286125439, 85.89789362853122], [153, 1215.5160102412547, 85.04977898705064, 1246.6534435420199, 165.47221810688166], [161, 0.4726079707255515, 392.32250423866435, 40.53460807585135, 508.1522572927714]]\n"
          ]
        },
        {
          "output_type": "stream",
          "name": "stderr",
          "text": [
            "0: 384x640 28 persons, 178.9ms\n",
            "Speed: 2.5ms preprocess, 178.9ms inference, 1.5ms postprocess per image at shape (1, 3, 640, 640)\n",
            "\n"
          ]
        },
        {
          "output_type": "stream",
          "name": "stdout",
          "text": [
            "[<deep_sort.deep_sort.detection.Detection object at 0x7f01681662c0>, <deep_sort.deep_sort.detection.Detection object at 0x7f00354f42e0>]\n",
            "<class 'list'> class\n",
            "[[5, 620.3546172190445, 304.0175990318735, 671.191594362855, 409.69678123087226], [20, 1030.86243846235, 113.57132811410628, 1072.5178774907347, 213.2839909786103], [54, 545.3587813240782, -0.12111007745988189, 572.6838346814334, 83.33198695081464], [60, 616.3272794719096, 399.2909798368214, 668.6684218646678, 515.7513272541244], [75, 476.9380176613642, 25.924201609272934, 508.7516101591683, 105.54809582846434], [77, 299.33987672203716, 11.42636346989351, 333.1020845027553, 78.99346088786024], [86, 1160.8128647120482, 159.48447826804684, 1209.6362204907161, 261.7508786460284], [105, 703.0984865514976, 175.94448995161136, 749.8805523169463, 283.24122303224857], [117, 774.8283767372928, 245.55435690677808, 815.5122955820028, 335.0791863081982], [120, 603.5124421810349, 124.22518502003513, 638.2820824758302, 217.65805872969275], [122, 775.9363682287361, 74.6532999235004, 811.4292049059462, 151.61141402523197], [125, 450.25709487053365, 62.991767127035274, 486.2170911735169, 158.15770827049064], [126, 1203.7820630062324, 323.53977566041306, 1265.5169866008698, 449.44384410621973], [131, 348.2629825484975, 485.9304750929914, 410.7407582057566, 611.2287524026715], [132, 46.775821552882036, 73.38860336863027, 77.14899458263652, 152.8332122072694], [133, 341.29144726500783, 375.5129042953413, 388.484785087055, 482.7893182698254], [135, 691.2814914937495, 272.5544948764242, 722.2986856541651, 366.34854267858447], [142, 829.8377291598518, 280.14411112070377, 879.0009966813537, 390.637539303067], [143, 123.09334051075462, 572.2622419894913, 191.0973254789879, 707.801962862354], [145, 469.01000740961507, 342.2835814018369, 520.1103733270342, 459.95707025770633], [150, 136.67641164557264, 23.923156715740376, 178.5803449270503, 107.20393859532082], [152, 575.7845201653616, -0.18101872857814527, 602.3752288829113, 85.21951957875467], [153, 1215.4958383845951, 85.8740082897441, 1247.0241265511759, 167.24389320932403], [161, 1.1504343891026139, 397.5427437381867, 41.54643153715465, 513.6481065810877]]\n"
          ]
        },
        {
          "output_type": "stream",
          "name": "stderr",
          "text": [
            "0: 384x640 29 persons, 217.0ms\n",
            "Speed: 2.5ms preprocess, 217.0ms inference, 1.8ms postprocess per image at shape (1, 3, 640, 640)\n",
            "\n"
          ]
        },
        {
          "output_type": "stream",
          "name": "stdout",
          "text": [
            "[<deep_sort.deep_sort.detection.Detection object at 0x7f003548bdc0>, <deep_sort.deep_sort.detection.Detection object at 0x7f00354891b0>]\n",
            "<class 'list'> class\n",
            "[[5, 620.0728287986792, 303.68647975077147, 673.4027142830967, 415.0517208933579], [20, 1030.571938343253, 112.14115220478001, 1072.2384323611025, 212.0630243396018], [54, 545.5742566041033, -0.20120585450550976, 572.4884138486348, 81.56851324513838], [60, 616.9788666938518, 401.22580239452475, 668.4125364935445, 514.6605932144164], [75, 477.23764175004624, 25.038436380438867, 509.37465634242005, 104.75100385252233], [77, 301.52193680731733, 11.740338995226068, 333.8184592525049, 78.29371246958685], [86, 1161.6567029494013, 161.6140020760749, 1210.25502887336, 262.29678357011096], [105, 703.0933989968973, 174.11887324953375, 749.1093768692829, 280.0541369673306], [117, 774.803296206807, 247.78727174347114, 815.6220107984293, 338.307499997794], [120, 603.1830204402388, 124.49255656963457, 637.8490346894433, 216.9343686961226], [122, 776.2828377174109, 73.90860089405876, 812.2217289863186, 151.60442334727685], [125, 450.6458599549173, 61.90503730391775, 486.0950630532641, 156.35751133582454], [126, 1205.6206573518482, 326.08393630889515, 1266.6319085247126, 449.49333934265053], [131, 348.5205648200064, 489.4508687712484, 411.8419886306245, 616.1220535676133], [132, 46.73157854027066, 73.90519780474895, 77.14639273383277, 152.98095307684173], [133, 341.5748177754905, 377.1934132529401, 388.0481651646424, 482.3421021111993], [135, 690.4079937471525, 272.1094137387112, 721.5892219096087, 365.852239218603], [142, 829.1031466680005, 279.0948664653678, 879.179126348009, 391.7952474580281], [143, 123.8705486362568, 574.5096112143386, 190.83461616936427, 707.634062447002], [145, 466.9062700048766, 339.29148641082963, 519.467149946992, 459.4634263553383], [150, 135.86343330814367, 24.25701660989381, 178.46862120581426, 108.70006951483805], [152, 575.92194484191, -0.18991910983228877, 602.2177851229358, 84.3111560515812], [153, 1215.5193112516172, 86.16278663466207, 1247.7438658634599, 169.21886127577966], [161, 1.9159668294724277, 400.18222937217854, 42.700218182047564, 516.2903140112436]]\n"
          ]
        },
        {
          "output_type": "stream",
          "name": "stderr",
          "text": [
            "0: 384x640 30 persons, 2 birds, 301.6ms\n",
            "Speed: 2.5ms preprocess, 301.6ms inference, 2.0ms postprocess per image at shape (1, 3, 640, 640)\n",
            "\n"
          ]
        },
        {
          "output_type": "stream",
          "name": "stdout",
          "text": [
            "[<deep_sort.deep_sort.detection.Detection object at 0x7f003548ace0>, <deep_sort.deep_sort.detection.Detection object at 0x7f003548b9a0>]\n",
            "<class 'list'> class\n",
            "[[5, 620.0841694265149, 305.53087015776964, 673.6586588889433, 417.4014875974214], [20, 1030.6608970840832, 111.64538407053685, 1070.6483976496656, 207.0245441619304], [54, 545.9939100961648, -0.21234504364745277, 572.7392092677426, 80.27197300625454], [60, 617.4952885678046, 403.18533341188214, 668.663843465044, 514.8312551220687], [61, 1180.8615309952006, 87.96669141522185, 1218.708947940372, 171.089535145994], [75, 477.32257334720816, 21.414488904077295, 510.293205841696, 102.50823359663963], [77, 303.2786294366737, 11.609531604558882, 335.54327842891684, 78.09707497781575], [86, 1162.3425236927485, 162.95354251472435, 1210.8512050942952, 263.4500857628327], [105, 703.1975330989051, 171.5075651359337, 747.4039964452024, 273.6020192464717], [117, 774.7356011119848, 251.85405313691106, 815.6892859524753, 343.40588541107866], [120, 601.946455853344, 126.5393749015872, 636.8321279317659, 219.28020762996346], [122, 776.9173596431274, 72.34532575231832, 812.6677771430678, 149.00056846093156], [125, 452.12455112722586, 59.56036539187784, 486.7105478597565, 151.7524790201769], [126, 1208.6664175506132, 328.92516666027865, 1268.6264836996477, 449.39410408055346], [131, 350.02625508624527, 493.9752206467563, 413.4635747304557, 620.4927139086362], [132, 46.34274739244148, 73.41435407079686, 77.52317335283908, 154.36307322063647], [133, 342.18430044881325, 379.07023808192923, 388.0873520284424, 482.0767261437407], [135, 689.453289737908, 270.697170698885, 721.2734237752732, 366.43818901690634], [142, 829.2209195306141, 277.47707142567043, 879.5108313887504, 391.0144234365489], [143, 126.08254640131602, 577.887912708494, 191.41076819503854, 707.4483410484493], [145, 465.14042300064915, 336.2767573189735, 518.2363315156467, 458.0628474214834], [150, 134.87321592521033, 25.010289470290587, 177.8053113328926, 109.89135309821123], [152, 575.9542183998099, -0.1781476728231155, 601.5043783463651, 81.99072935728157], [153, 1216.5270425592657, 87.56425982853823, 1248.9436857998712, 171.26022082036803], [161, 3.345193527069757, 405.1015562654737, 44.59228600948754, 520.46438171803]]\n"
          ]
        },
        {
          "output_type": "stream",
          "name": "stderr",
          "text": [
            "0: 384x640 28 persons, 290.7ms\n",
            "Speed: 2.7ms preprocess, 290.7ms inference, 2.0ms postprocess per image at shape (1, 3, 640, 640)\n",
            "\n"
          ]
        },
        {
          "output_type": "stream",
          "name": "stdout",
          "text": [
            "[<deep_sort.deep_sort.detection.Detection object at 0x7f003548bdc0>, <deep_sort.deep_sort.detection.Detection object at 0x7f01681662c0>]\n",
            "<class 'list'> class\n",
            "[[5, 621.264377970061, 310.9656871913763, 675.8432926957412, 424.6024817604709], [20, 1030.8359590973844, 109.502840775489, 1070.621759670505, 203.81362146345037], [54, 546.0779414883967, -0.19947122578769694, 572.8979810871255, 79.82147191413313], [60, 616.7053296071144, 405.1578151454406, 669.0259271919185, 518.8411166500733], [61, 1182.5578730521563, 88.89428425605145, 1219.1370747526262, 170.58510030404813], [75, 477.8594066158612, 20.091567929589516, 510.78185436454766, 101.05309616945975], [77, 307.49622969763016, 11.104545741015514, 340.0413438522089, 79.54148899834107], [86, 1162.6207279247653, 167.20375352972093, 1210.6962582407768, 266.48520728761525], [105, 703.9436374313592, 170.59674634086218, 746.7416280428166, 269.2176533853328], [117, 775.3150282790493, 254.6429670243409, 816.3932857329353, 347.2364487641901], [120, 601.3258641340891, 127.26174732572369, 637.3013558593478, 222.77015902071605], [122, 776.8026320142027, 71.12577042845201, 812.5203827659236, 147.3739434049204], [125, 452.90542281861167, 58.063680070687504, 486.728588633437, 148.06549854267232], [126, 1210.7615386168566, 330.5407372441175, 1270.3488222446545, 449.2451090502446], [131, 350.46044995819335, 496.9200763308803, 413.5618914290766, 622.0342745412521], [132, 46.09069812741735, 73.88228619100633, 77.77773872257723, 155.52577354496592], [133, 342.61383356220017, 381.0236844893747, 387.93260508009627, 481.23077126700196], [135, 688.8190038763371, 268.9157848945327, 721.4308582890616, 366.73112404403633], [142, 829.8112847224073, 275.64712926714645, 880.4113512144498, 390.822377123294], [143, 128.40727869699734, 581.6941167702196, 192.73388239763835, 707.9310592728242], [145, 462.91980572862536, 335.2349920815066, 516.6934612442004, 459.6428057200867], [150, 134.61864121365787, 25.92502955461522, 177.4432698314245, 110.30739137066585], [152, 576.4309094191597, -0.1582523413040633, 601.4305970175924, 79.79577823049424], [153, 1217.0757451834847, 88.07698321040891, 1249.848328709295, 172.6724818166224], [161, 4.35278728893929, 406.92372628069074, 46.11880657557107, 521.2627398636148]]\n"
          ]
        },
        {
          "output_type": "stream",
          "name": "stderr",
          "text": [
            "0: 384x640 28 persons, 293.2ms\n",
            "Speed: 7.7ms preprocess, 293.2ms inference, 2.4ms postprocess per image at shape (1, 3, 640, 640)\n",
            "\n"
          ]
        },
        {
          "output_type": "stream",
          "name": "stdout",
          "text": [
            "[<deep_sort.deep_sort.detection.Detection object at 0x7f003548ace0>, <deep_sort.deep_sort.detection.Detection object at 0x7f003548b9a0>]\n",
            "<class 'list'> class\n",
            "[[5, 622.9389321720168, 312.38551546889096, 676.9589947484889, 424.46907290803466], [20, 1031.1827391405518, 108.09147158294778, 1070.3591163011877, 200.69128917841658], [54, 546.5187594321486, -0.180521073671585, 573.2068183219393, 79.0175561589375], [60, 615.7084655787419, 406.4787873222584, 670.4980659911233, 525.5525348777163], [61, 1183.7619558284337, 89.19137969710403, 1219.9565839277618, 171.12639314855113], [75, 477.91692880656575, 18.312729688984724, 511.100032025745, 100.55732460406037], [77, 310.99083488962464, 10.97817963851606, 342.8743281917939, 79.17176258587665], [86, 1163.2709990510746, 168.85773420888293, 1211.2028052429846, 267.84180274484544], [105, 704.8388068870248, 169.6600703876188, 746.5733516667326, 265.66164048676956], [117, 776.2709294290655, 256.28346861374393, 817.2104429536661, 349.2634358295883], [120, 600.7068659102569, 128.15177389175204, 637.2335999385767, 225.35097819579585], [122, 777.5065523808772, 70.04260394168594, 813.0287685614301, 145.4735698041746], [125, 453.17748776039457, 56.89427279192143, 486.7505503002521, 146.09011775293447], [126, 1212.3156730837648, 332.3720183479882, 1271.4649060579875, 449.1005486597637], [131, 351.8925218381636, 499.90748275695097, 414.28819695218937, 622.4790670174328], [132, 45.65807785757315, 74.05123806301383, 77.56323965617824, 155.95927092794915], [133, 342.22909456972445, 383.0063545549238, 387.7746583824211, 482.19053357638904], [135, 688.175799345827, 266.9966288484278, 721.2375334385862, 366.26046705139663], [142, 830.6170389885543, 273.07252472808125, 880.8252703947983, 388.8649166046748], [143, 130.37590398554144, 584.9831086177028, 196.7465641651729, 714.0754532103903], [145, 462.7528733280386, 334.27053304664213, 516.779751782594, 460.3379762588764], [150, 133.69316260214325, 25.58119780880898, 176.8337428572949, 110.42464040216237], [152, 576.3687849418283, -0.13840421856573215, 600.9646058584337, 78.33678572147352], [153, 1217.43139426335, 88.24798047066182, 1250.6536090835903, 173.83630188512683], [161, 5.046512782749449, 408.2076837454796, 47.6477659359404, 522.093818343246]]\n"
          ]
        },
        {
          "output_type": "stream",
          "name": "stderr",
          "text": [
            "0: 384x640 30 persons, 287.0ms\n",
            "Speed: 9.0ms preprocess, 287.0ms inference, 2.1ms postprocess per image at shape (1, 3, 640, 640)\n",
            "\n"
          ]
        },
        {
          "output_type": "stream",
          "name": "stdout",
          "text": [
            "[<deep_sort.deep_sort.detection.Detection object at 0x7f003c922500>, <deep_sort.deep_sort.detection.Detection object at 0x7f00354f5210>]\n",
            "<class 'list'> class\n",
            "[[5, 624.4231505005259, 314.8321565500747, 677.7942771296307, 425.0160816952134], [20, 1031.4347641853637, 106.27789144776183, 1070.8434947641772, 199.60388269169863], [54, 546.6382730549639, -0.15955337510513345, 573.3585042587194, 78.74922472137864], [60, 616.3822424036617, 408.2184222016696, 671.9319848322713, 528.6664484769533], [61, 1185.4625130900781, 89.9449412917962, 1220.9498713090563, 171.29807600585085], [75, 478.47305327792805, 16.369084514276715, 511.3292123054762, 99.09946196914532], [77, 314.38515286882745, 10.936420227654502, 346.30760450749597, 79.69915847787084], [105, 705.1520612140044, 168.034702559309, 746.545228156701, 263.10001275733526], [117, 777.7379213824931, 257.4827220641499, 818.3599907855065, 350.59680176500206], [120, 600.3086886834233, 129.75727121726243, 637.3986311106967, 228.2523445496228], [122, 777.717808520026, 67.68355967996797, 813.2613242379084, 142.80615042942077], [125, 453.258256686749, 55.84547324206061, 486.7727412190219, 144.7591900485924], [126, 1213.5115827401644, 334.9555825149472, 1272.5083096172514, 450.30189153893366], [131, 353.3745646551706, 502.2468292480552, 414.92588082551373, 621.8445616275536], [132, 45.35978532704172, 73.44631108258692, 77.62433879347117, 156.11020303170915], [133, 340.97696511399585, 385.00016906092367, 387.5074114725852, 485.1732891568649], [135, 687.846964104595, 265.0247217732353, 721.2489916508654, 365.49500366492225], [142, 831.782306815532, 271.5275446388599, 881.4334277521635, 386.8893950081988], [143, 132.7836898045538, 588.7438091426943, 200.42515615375214, 718.894705392042], [145, 462.07863704812945, 333.3352247913921, 516.1461747569988, 460.0392167594933], [150, 133.33434817555775, 26.245359004678775, 176.57138340233826, 111.27835905147678], [152, 576.3245922170429, -0.12096252395058826, 600.8090948511673, 77.83119612616125], [153, 1217.4443308688747, 89.60094252680489, 1251.0351118182214, 174.90374487229133], [161, 5.401536480397361, 409.28823913049007, 48.729615946122934, 522.2931317358118]]\n"
          ]
        },
        {
          "output_type": "stream",
          "name": "stderr",
          "text": [
            "0: 384x640 30 persons, 1 bird, 179.8ms\n",
            "Speed: 8.4ms preprocess, 179.8ms inference, 2.1ms postprocess per image at shape (1, 3, 640, 640)\n",
            "\n"
          ]
        },
        {
          "output_type": "stream",
          "name": "stdout",
          "text": [
            "[<deep_sort.deep_sort.detection.Detection object at 0x7f003548ace0>, <deep_sort.deep_sort.detection.Detection object at 0x7f003548bdc0>]\n",
            "<class 'list'> class\n",
            "[[5, 625.4393663244967, 316.9949276987693, 679.6054419195278, 428.4409797012474], [20, 1031.1495893219949, 104.98723984804852, 1070.757102211229, 199.26374738520997], [54, 546.6402021941634, -0.14063722488550923, 573.447264574792, 78.67847264881581], [60, 614.9214350219048, 409.4558470673653, 672.2124433886532, 533.6974349407942], [61, 1186.1546799289392, 90.86849373287563, 1221.2020427828338, 171.9969798195679], [75, 478.4199550696988, 14.360973214030565, 511.0065867804464, 97.93574576088483], [77, 317.82733256199725, 11.583360842796083, 349.8853816192935, 79.89802803678464], [105, 704.0389099769845, 166.1554906527154, 745.7621046014857, 262.2493486095554], [117, 778.5035526561692, 259.1739482335303, 818.554869311426, 351.6681138247121], [120, 600.162416036538, 131.63772928381957, 637.484614555701, 229.96159659443992], [122, 778.4087154882939, 66.1764385654821, 814.0477102695913, 141.18630632233618], [125, 453.1618154405158, 54.84057393109453, 486.9013020715323, 144.33218555691974], [126, 1213.5414431847678, 335.81282263649183, 1275.2255113260696, 456.03145542317475], [131, 353.98600161842603, 504.3393990092136, 415.07673363179396, 622.1495924777969], [132, 44.74913949163019, 73.20909086048401, 77.49756951669193, 156.8117406057226], [133, 339.57973684505356, 387.66226917554224, 387.0345457436614, 488.88543738644495], [135, 688.0234232111179, 262.3776284102988, 721.6115544542607, 363.9555175062152], [142, 832.1968928492213, 269.05885462348664, 881.6823125453607, 384.9061614903907], [143, 134.38553278519956, 592.0619494121097, 201.8155384461173, 721.8046019107737], [145, 461.37822602844903, 331.0905389548544, 515.7247021540315, 459.34999713457177], [152, 576.6664379048373, -0.1062194971017405, 601.0604709068454, 77.00726900286494], [153, 1219.7488197273515, 91.41105556203532, 1253.438125541972, 176.59283959688258], [161, 6.012155220337988, 410.95511534172454, 49.918580175259564, 522.2575392051134]]\n"
          ]
        },
        {
          "output_type": "stream",
          "name": "stderr",
          "text": [
            "0: 384x640 30 persons, 204.2ms\n",
            "Speed: 2.9ms preprocess, 204.2ms inference, 1.5ms postprocess per image at shape (1, 3, 640, 640)\n",
            "\n"
          ]
        },
        {
          "output_type": "stream",
          "name": "stdout",
          "text": [
            "[<deep_sort.deep_sort.detection.Detection object at 0x7f01681645b0>, <deep_sort.deep_sort.detection.Detection object at 0x7f00354f4e20>]\n",
            "<class 'list'> class\n",
            "[[5, 625.0535831736921, 319.0510038215275, 681.670768146546, 436.21831548618286], [20, 1030.227828614825, 103.22813600316127, 1070.2364209780965, 198.53920164232352], [54, 546.6985139784329, -0.12376047093498244, 573.4127502072272, 78.01362073980816], [60, 615.0179447730527, 417.0088110222148, 672.2893517022703, 540.7283336230223], [61, 1186.6009922146914, 91.85394820842231, 1221.707887905521, 173.5654039704716], [75, 478.81908954236025, 11.676827902795324, 511.10695853452563, 96.22686101260766], [77, 320.3400664297248, 11.835749603460073, 352.49908245131576, 78.65248950052494], [105, 703.5739333543773, 162.85648074557497, 746.2038513714932, 261.34824867224825], [117, 779.7849278235628, 261.0557044062897, 818.9157450491151, 351.32097008543883], [120, 600.317517839202, 134.93977424530345, 637.9936111560376, 233.8375495690277], [122, 780.2886445008115, 63.66729112830522, 816.0188218692612, 139.3009748729737], [125, 452.63263555274045, 53.18722190224182, 486.77418880818976, 143.571717975572], [126, 1212.8357829990339, 340.0066714546017, 1277.5429998137197, 466.6043144990706], [131, 354.8102571667312, 507.012054859244, 414.5013431335394, 620.8300342896905], [132, 43.73949610619455, 73.11344809471296, 76.92515067180196, 157.06576469749493], [133, 337.4142024285302, 391.23421364226397, 387.86141723451783, 498.1631101517949], [135, 688.1422260556786, 259.47394349907114, 721.0488389358367, 359.4986752294623], [142, 833.4086561475764, 266.2364536887077, 880.7053573218813, 376.99345368697385], [143, 137.06368755296373, 596.6479179442152, 202.76097815727604, 721.0246803666371], [145, 462.47930412550573, 328.3445729405916, 516.1986226029201, 456.53135600473695], [152, 576.4555481630777, -0.0925913045494724, 600.8199796126216, 76.73460084854926], [153, 1220.0876129307474, 92.72907788342673, 1254.1740086594339, 177.8566934465594], [161, 6.7412794680583765, 412.5440164594686, 50.86871016489903, 524.4065848303914]]\n"
          ]
        },
        {
          "output_type": "stream",
          "name": "stderr",
          "text": [
            "0: 384x640 28 persons, 178.4ms\n",
            "Speed: 3.1ms preprocess, 178.4ms inference, 1.9ms postprocess per image at shape (1, 3, 640, 640)\n",
            "\n"
          ]
        },
        {
          "output_type": "stream",
          "name": "stdout",
          "text": [
            "[<deep_sort.deep_sort.detection.Detection object at 0x7f003548bdc0>, <deep_sort.deep_sort.detection.Detection object at 0x7f00354f7340>]\n",
            "<class 'list'> class\n",
            "[[5, 625.4938362917059, 320.42281763764566, 682.4822013788807, 439.0838076771104], [20, 1029.2825984588621, 101.95374628452983, 1069.9982335544578, 198.98526195107803], [54, 546.6759912012619, -0.10806391639604129, 573.4341499787976, 77.7909186890204], [60, 614.6361551553283, 420.51341406196167, 672.7049595635159, 545.3052452727466], [61, 1186.6651926876762, 92.19546455230324, 1221.9405319317823, 174.78819121371333], [75, 478.0707637609972, 8.740093183082053, 510.7203705135435, 95.62357860802177], [77, 322.082729527298, 11.934178946064577, 355.14662742555186, 78.84614416184414], [105, 703.5354253724955, 161.01794328604714, 746.2482808223723, 260.4226596630433], [117, 780.768906223885, 262.34536839913466, 819.1722970832928, 350.4241985626008], [120, 600.353824501595, 136.80069262542327, 638.2309660853182, 235.90238999068097], [122, 781.0222778216591, 62.769007520766614, 816.0488729884987, 137.3197918164416], [125, 452.5880249236611, 51.952286033363116, 487.22796554598705, 143.34349167332428], [126, 1212.8868049539135, 343.4806146121182, 1278.0406112770886, 471.2152640425727], [131, 354.08629150187255, 508.55665492936674, 414.6032034080032, 622.9206893326915], [132, 42.79739878798827, 73.07240377938115, 76.61933304439438, 157.80513455170873], [133, 336.50831618716154, 394.46564691108375, 387.63729969919785, 502.22598611871166], [135, 688.2285269195677, 257.1272609137542, 720.1346159221471, 353.8934253352206], [142, 833.8671970880911, 261.9272597772901, 880.3119331774113, 370.7190173071823], [143, 138.84515986894584, 600.1048783066874, 204.04086250575364, 723.5305624759065], [145, 462.2553799834871, 326.72188797778824, 515.0860148824638, 454.21131322233634], [152, 577.1142461476941, -0.08107220109075541, 601.3264071743504, 75.99618150442859], [153, 1219.965453165106, 93.19737222994627, 1254.6436761844277, 178.95677721149497], [161, 8.238250013642443, 415.59254722042385, 51.60664191126376, 520.6488627352705]]\n"
          ]
        },
        {
          "output_type": "stream",
          "name": "stderr",
          "text": [
            "0: 384x640 28 persons, 203.3ms\n",
            "Speed: 14.5ms preprocess, 203.3ms inference, 1.5ms postprocess per image at shape (1, 3, 640, 640)\n",
            "\n"
          ]
        },
        {
          "output_type": "stream",
          "name": "stdout",
          "text": [
            "[<deep_sort.deep_sort.detection.Detection object at 0x7f0168166e30>, <deep_sort.deep_sort.detection.Detection object at 0x7f003548aec0>]\n",
            "<class 'list'> class\n",
            "[[5, 625.8709148250833, 322.16991878785177, 682.5437454369472, 440.72798989062846], [20, 1028.7772031325253, 101.51911911700958, 1069.4223758000876, 198.54785173045303], [54, 546.6274374830545, -0.09480569926017068, 573.4741667835314, 77.73191166298395], [60, 614.1061830320061, 423.06383278424255, 671.9163365861133, 546.9303521673814], [61, 1187.0576352343198, 93.61968520563744, 1221.6044507456252, 174.556225177913], [75, 477.64958414641524, 7.022586610764449, 510.049899510909, 94.78321823098105], [77, 323.50387737983465, 12.633540959954637, 357.18098849438996, 78.92132352645888], [105, 703.987068137144, 159.73091619627104, 746.4748180873502, 259.49283961973083], [117, 780.9594349522376, 264.0819012272999, 819.3974220380899, 351.34848289809315], [120, 599.9593658909566, 137.45266973671414, 638.0915322775579, 237.27428749157625], [122, 781.4797915316954, 62.48805556480081, 816.5059608031112, 137.2927803665173], [125, 452.7127688927294, 51.534224280849976, 487.91445456996024, 143.97020188813994], [126, 1213.2717000730001, 346.6890171888493, 1278.4204435447377, 474.8402478058837], [131, 352.4845899891189, 510.37178612706924, 414.62463387190166, 627.6194390082208], [132, 42.363596509482335, 73.05347834257728, 76.59601278560041, 158.072523040218], [133, 335.83766428085386, 396.93709482277546, 387.9052270617582, 506.31480809203725], [135, 688.8179784786754, 255.66914352024293, 719.9062739287748, 349.8595424866952], [142, 833.86372675475, 258.42959832108437, 879.6554397930981, 365.8469305950379], [145, 461.7766209553268, 324.21067358721115, 513.7645667903334, 451.4264664174229], [152, 577.2409281837768, -0.07058183212382829, 601.6316302250589, 76.42079456627135], [153, 1220.461731523854, 93.34469796143856, 1255.5412058999161, 179.3363750839893], [161, 8.84866226810654, 417.1046698506686, 54.413550648677656, 522.7390421295947]]\n"
          ]
        },
        {
          "output_type": "stream",
          "name": "stderr",
          "text": [
            "0: 384x640 28 persons, 183.6ms\n",
            "Speed: 7.7ms preprocess, 183.6ms inference, 1.5ms postprocess per image at shape (1, 3, 640, 640)\n",
            "\n"
          ]
        },
        {
          "output_type": "stream",
          "name": "stdout",
          "text": [
            "[<deep_sort.deep_sort.detection.Detection object at 0x7f003548bdc0>, <deep_sort.deep_sort.detection.Detection object at 0x7f01681645b0>]\n",
            "<class 'list'> class\n",
            "[[5, 626.967116871107, 323.41482705578073, 683.5322501172743, 442.54998765479655], [20, 1028.3352641776132, 101.40927505089334, 1068.8208133893745, 198.43478047171007], [54, 546.5729004186011, -0.08331920197473863, 573.518296782588, 77.73201494374112], [60, 613.344975542039, 424.5884751387968, 671.4890116643274, 548.7297726355138], [61, 1187.4567180292338, 94.79694380199888, 1221.8286785200082, 175.0939422012254], [75, 477.534188149025, 5.772217344548004, 509.73565407154723, 94.50779586360576], [77, 324.17927541869864, 12.233558512868093, 358.93928862711334, 79.6171219084724], [105, 704.4260261777503, 158.65345598981983, 746.9667100680036, 259.214616428716], [117, 780.5233931484531, 266.65512225756413, 819.2796705770442, 353.6320902452978], [120, 600.588884309154, 138.30285098792248, 638.5876438551927, 237.72755516177227], [122, 781.9120551480592, 61.76505803473815, 817.045736811136, 137.33017377548816], [125, 452.7137116613972, 50.76575840530958, 488.21715617004975, 143.59859685304062], [126, 1213.4380082573357, 349.7833647535478, 1279.1229196844645, 479.37793983016445], [131, 349.76685758239125, 512.2867524410096, 414.7618201488452, 635.2319935955497], [132, 41.75681788135259, 73.70003168655418, 76.39196204048622, 158.81594116288034], [133, 334.7692773648126, 399.10459838653185, 387.5439595978156, 509.7365233996706], [135, 689.0291355545196, 253.20392988901312, 719.8361780365642, 345.77981034234233], [142, 833.7458648608222, 255.23180397158768, 879.5148678883976, 362.8303385385259], [143, 140.85458098584414, 608.72309714151, 201.26476119328328, 721.1939196061443], [145, 461.6578768462539, 321.3617787356886, 512.5730995587121, 447.1487290106085], [152, 577.3595269679633, -0.0622504835171398, 601.6665234386447, 75.93791366207293], [153, 1221.4840483625942, 93.3700358568394, 1256.9697494668894, 179.44169739811719], [161, 8.823706419511563, 418.9424023733994, 56.91109582228488, 526.1056779841325]]\n"
          ]
        },
        {
          "output_type": "stream",
          "name": "stderr",
          "text": [
            "0: 384x640 29 persons, 180.1ms\n",
            "Speed: 12.7ms preprocess, 180.1ms inference, 1.5ms postprocess per image at shape (1, 3, 640, 640)\n",
            "\n"
          ]
        },
        {
          "output_type": "stream",
          "name": "stdout",
          "text": [
            "[<deep_sort.deep_sort.detection.Detection object at 0x7f01681662c0>, <deep_sort.deep_sort.detection.Detection object at 0x7f003548b850>]\n",
            "<class 'list'> class\n",
            "[[5, 627.6354598604588, 323.8174797260214, 683.616767365588, 441.8337438030363], [20, 1027.8240155691883, 100.75480128178765, 1068.3059672667277, 198.4372404708488], [54, 546.9974801087434, -0.07326357471901446, 573.7471815549179, 77.08822659592349], [60, 612.8513007348498, 425.7292108492764, 670.8628425257848, 549.2978474124365], [61, 1187.954282385979, 95.87118301123485, 1222.184226152499, 175.26630310757577], [75, 477.53780003965085, 4.700475181987763, 509.5651635839438, 94.44488048211758], [77, 324.5481872232533, 11.425045195522443, 359.9952581728885, 79.8772704013166], [105, 704.9291059442348, 157.65066731377692, 747.4814873472575, 259.17322691602817], [117, 779.8735158123744, 269.53773921151895, 819.6850658538891, 357.75030323617426], [120, 600.4589835647012, 139.22855885312342, 638.505555147536, 238.48536692042154], [122, 782.1591884435371, 61.534270302173184, 817.1328872391374, 136.72880716298022], [125, 452.2947998537752, 49.86209379758765, 488.0865785670772, 142.84282336550183], [126, 1213.6648569863892, 352.1759284040002, 1279.8152474496796, 482.94958318163765], [131, 348.26395650297576, 515.5409495299585, 414.6332548459075, 641.2879328361879], [132, 41.557072970652825, 73.9427887964978, 76.30354481802271, 158.42581587364884], [133, 333.9769667708048, 401.15560469272697, 387.1662159550189, 512.2470937817675], [135, 689.040068730088, 250.3648537399847, 719.8821127793817, 343.033648674053], [142, 833.7199919567736, 253.47983537543064, 879.4361244788458, 361.16688801819885], [143, 141.53379937391696, 611.3904015472377, 201.17078078797397, 720.8397171058571], [145, 461.4411816640009, 319.047134615792, 511.003879190609, 442.3010486033203], [150, 133.35647651832906, 30.955820943434652, 175.48158099846688, 114.13779782397205], [152, 578.2258860828367, -0.05435362923974907, 602.1819531239665, 74.44918965929989], [153, 1221.8636859940502, 94.0107570493002, 1257.4657627670078, 179.44569685591568], [161, 9.471071334795358, 422.21395434907623, 59.1017073128054, 528.6241049852889]]\n"
          ]
        },
        {
          "output_type": "stream",
          "name": "stderr",
          "text": [
            "0: 384x640 29 persons, 181.8ms\n",
            "Speed: 3.1ms preprocess, 181.8ms inference, 2.3ms postprocess per image at shape (1, 3, 640, 640)\n",
            "\n"
          ]
        },
        {
          "output_type": "stream",
          "name": "stdout",
          "text": [
            "[<deep_sort.deep_sort.detection.Detection object at 0x7f003548b9a0>, <deep_sort.deep_sort.detection.Detection object at 0x7f003548aec0>]\n",
            "<class 'list'> class\n",
            "[[5, 628.5456333078725, 325.8672260573465, 684.2612566211372, 443.4223698869271], [20, 1027.1085091241976, 97.91461957636932, 1068.0038563473672, 197.1592879850807], [54, 547.8117169848808, -0.06400067194825709, 574.5031026132101, 76.20027156381488], [60, 612.9884054663096, 430.01956996970614, 668.972013331756, 548.7346956386109], [61, 1188.4963096887393, 96.90629477363612, 1223.2494346200763, 176.63672392067315], [75, 477.98606386229125, 5.6540142078416835, 509.0522129384205, 93.80660540256517], [77, 326.54758629504573, 11.344197541431683, 362.06307644231, 79.92730920284384], [105, 705.0645661237677, 156.6735425898664, 747.0778431258848, 257.90092936656765], [117, 777.6784138375922, 272.52721612173474, 819.7806948112581, 365.17140669735613], [120, 601.1551356442701, 140.18695613483328, 639.0583504893743, 238.70893868061836], [122, 783.4037064845674, 61.49374410744928, 817.9634250364209, 135.88545073978307], [125, 451.9642172962923, 48.24601559222053, 488.2021239755512, 141.93750594767687], [126, 1214.7930377703865, 356.9155096222405, 1280.280617629754, 486.8047252345333], [131, 346.48891664091576, 521.2678134420044, 413.81921394258063, 649.3877338178005], [132, 40.623565175072955, 74.02963222726234, 75.8291213030119, 158.92095798050883], [133, 333.3532515406907, 403.8171170546276, 386.06608774206256, 513.7506829492046], [135, 688.9464147614514, 247.39386015953988, 720.0000549250997, 340.7820059706382], [142, 833.1046536627107, 250.93812237141339, 879.3402422109838, 360.00714617396955], [143, 144.92848033097286, 617.0243896114711, 202.07006389236446, 720.0480060176051], [145, 462.87844504823784, 314.93775303201113, 509.60144609002816, 431.24136607437333], [150, 133.16338323503675, 31.203871460009694, 176.3654459578463, 117.04122807550458], [152, 579.2711783968319, -0.04697147821071468, 602.9847934628342, 73.24850408235127], [153, 1224.1728812365313, 94.888225697423, 1259.395257914364, 179.41246345347088], [156, 219.4467971984207, 305.8491954968172, 261.50208141323156, 403.8461796413177], [161, 9.900360892408465, 426.0383297365184, 62.32019664600609, 534.8196723510257]]\n"
          ]
        },
        {
          "output_type": "stream",
          "name": "stderr",
          "text": [
            "0: 384x640 29 persons, 200.4ms\n",
            "Speed: 11.9ms preprocess, 200.4ms inference, 1.5ms postprocess per image at shape (1, 3, 640, 640)\n",
            "\n"
          ]
        },
        {
          "output_type": "stream",
          "name": "stdout",
          "text": [
            "[<deep_sort.deep_sort.detection.Detection object at 0x7f0168166e30>, <deep_sort.deep_sort.detection.Detection object at 0x7f003548bca0>]\n",
            "<class 'list'> class\n",
            "[[5, 629.8032236902079, 327.89346866613687, 686.1832906322916, 447.22955871191067], [20, 1026.3757100173104, 96.22271748330607, 1067.0682507240763, 195.39818518291716], [54, 547.2711100123252, -0.05580642475397468, 574.2876259088731, 77.22230481009092], [60, 613.0988344188914, 432.87297392494094, 667.5174229332275, 547.7066815381074], [61, 1189.365811225546, 98.58802873143553, 1224.2651404334558, 177.78617359942], [75, 478.3661177059631, 6.754364951666268, 508.64688548672683, 92.94615251547324], [77, 327.74559232479595, 11.05901864570776, 361.3027549891448, 78.44313822378757], [105, 706.1207223268175, 155.0467911297585, 747.239056234377, 254.83652505496985], [117, 776.3946897540591, 275.54451420299245, 819.6137228757547, 369.84878944195236], [120, 601.6068163186511, 141.15858182509467, 639.0897691209154, 238.06918795635997], [122, 784.0175003207097, 60.856190671921716, 818.7609426036857, 135.61122976087188], [125, 451.81108915127214, 47.018543433624686, 487.6130300826881, 140.3166650553389], [126, 1214.453555484775, 358.621223609172, 1279.8433885153545, 488.7964754916619], [131, 344.9491412667272, 525.3354351233472, 413.0660446644863, 655.6442779720209], [132, 39.829065042138296, 74.05736762709498, 75.45465132233109, 159.09530268334848], [133, 332.1790422777607, 405.3976314841214, 384.64200869985507, 514.863036584972], [135, 688.8226437030215, 245.7016038233424, 720.1357792210048, 340.7009739817926], [142, 832.2515411529865, 250.0789497505217, 878.6016440180761, 359.01857143696327], [143, 146.73611070001482, 620.9444173816988, 203.0806613016432, 720.3792120200875], [145, 463.51039963196666, 311.4789041236427, 509.7171798112046, 426.5492153229343], [150, 132.89697569692933, 31.301270567874248, 176.8398914854519, 119.29247398304935], [152, 579.2269174486329, -0.04078084403936799, 603.0266901202131, 73.5037755039065], [153, 1225.5121836635828, 95.85559644145553, 1260.2574325155044, 179.36938872737403], [156, 219.17186747180554, 305.7168680827631, 261.11615554507534, 403.4555661324323], [161, 11.275601050602766, 429.37577077407815, 66.18377665203292, 540.3540175293772]]\n"
          ]
        },
        {
          "output_type": "stream",
          "name": "stderr",
          "text": [
            "0: 384x640 30 persons, 191.1ms\n",
            "Speed: 2.6ms preprocess, 191.1ms inference, 1.6ms postprocess per image at shape (1, 3, 640, 640)\n",
            "\n"
          ]
        },
        {
          "output_type": "stream",
          "name": "stdout",
          "text": [
            "[<deep_sort.deep_sort.detection.Detection object at 0x7f003548ace0>, <deep_sort.deep_sort.detection.Detection object at 0x7f01681662c0>]\n",
            "<class 'list'> class\n",
            "[[5, 629.6687367621935, 329.9087950227051, 686.8202527769483, 451.20832230831087], [20, 1025.9943494503832, 95.6272840980259, 1066.186676295492, 194.10713877286304], [54, 547.1708638259483, -0.04968545588553752, 574.0979669674721, 76.9547058296271], [60, 614.0561252812847, 435.8355261943884, 667.4141809504912, 547.2284660434372], [61, 1189.4698262783877, 99.18482591489152, 1224.8225305097833, 178.18852932166965], [75, 478.35530874805306, 7.887875025954244, 507.9837696250903, 91.99730005678632], [77, 329.59318033499073, 10.95705981928269, 363.147386884262, 78.33466496021892], [105, 706.5496071699821, 153.83212413583135, 746.6081968335329, 251.74690252030953], [117, 776.0718931158904, 277.9337949818845, 820.0056378438971, 372.8696247350618], [120, 601.7292525265775, 142.13612811587177, 639.1540504620104, 238.43221593492814], [122, 785.2641397875434, 59.988509124592966, 819.9900558867141, 134.88278488209653], [125, 451.5576287102688, 45.279735477095855, 486.9213073686093, 137.76101857698245], [126, 1215.822616314702, 361.13624206683653, 1280.0934219490002, 489.4263823911717], [131, 343.6734665127196, 528.1010465952945, 412.1736700706399, 659.8701195320798], [132, 39.186817734947454, 74.72146657418689, 75.01874120005013, 159.14790585829695], [133, 331.90060635891535, 406.56759701175747, 383.9784626909177, 515.1816698250657], [135, 688.4735958572825, 245.14377949171583, 719.8328485867427, 340.7586287231446], [142, 832.1264820349037, 248.5378388349651, 879.445440959062, 360.74981081278224], [143, 148.88737578218505, 623.5454514989262, 205.26808878379921, 720.4487087514426], [145, 463.57532996076253, 309.6432993952088, 509.2723801359933, 423.6328177593267], [150, 132.8838628287497, 31.970395268874597, 176.94051753176308, 120.7679933720265], [152, 579.1972206220704, -0.03600492111513631, 603.038759601119, 73.62201216497787], [153, 1225.9942116879556, 96.19115816099578, 1260.5314365824388, 179.32630652899968], [161, 12.270603334912444, 431.87945696744674, 69.06558688820454, 544.3399141004071]]\n"
          ]
        },
        {
          "output_type": "stream",
          "name": "stderr",
          "text": [
            "0: 384x640 33 persons, 202.4ms\n",
            "Speed: 4.7ms preprocess, 202.4ms inference, 1.5ms postprocess per image at shape (1, 3, 640, 640)\n",
            "\n"
          ]
        },
        {
          "output_type": "stream",
          "name": "stdout",
          "text": [
            "[<deep_sort.deep_sort.detection.Detection object at 0x7f013411be50>, <deep_sort.deep_sort.detection.Detection object at 0x7f003548aec0>]\n",
            "<class 'list'> class\n",
            "[[5, 630.1613721857758, 331.9200636125429, 687.7764197228993, 454.5993968099967], [20, 1025.6112621271413, 94.79305724302317, 1064.8060188846546, 191.01813308176037], [54, 547.322680037426, -0.04358401843983728, 573.8266591053344, 75.5418151382548], [60, 613.9519184672895, 436.813249971563, 668.5159658392109, 550.3418790932064], [61, 1190.2922172259516, 99.37136817027125, 1226.1932513024663, 178.30952169596986], [75, 478.91465037356, 9.022282921767939, 507.84047723300415, 91.0145228346229], [77, 331.4153501603867, 10.18067839960407, 363.0986851265736, 75.68167755321946], [105, 707.9674585553925, 153.44059968961045, 747.1096979764009, 249.3230982897901], [117, 775.6857729921227, 279.4188263657341, 819.7555697603499, 373.92327296360423], [120, 601.6177949366192, 142.45506843841326, 639.3366281587757, 239.18715684346824], [122, 786.3966340691782, 59.03423035621301, 821.0737105230002, 133.9834968915422], [125, 451.77900122509425, 44.00862762554868, 487.0059121915659, 136.17696825914123], [126, 1216.5053472566738, 362.63740008597455, 1279.965086072353, 489.52252079904713], [131, 342.79682965144195, 531.0125439736482, 410.9346379330646, 662.654650801582], [132, 38.83885651944105, 74.96813798482631, 74.98548553931926, 159.15417762038976], [133, 332.22151907172145, 407.58256675364936, 383.34746741679805, 513.8785442792599], [135, 688.5740614079413, 243.6998185629074, 720.1465881269303, 340.8723952582145], [142, 832.1973381274647, 248.0286955679806, 879.6454031840841, 361.4653347826598], [143, 150.21340053480523, 625.683899672706, 206.75017048322445, 720.4297026371552], [145, 463.68111992342824, 307.7257267673796, 509.7245655719108, 422.70218291976875], [150, 132.6850676165325, 32.858520303802855, 176.52769714605085, 121.94957497374781], [152, 578.6000698244541, -0.03168715680920542, 602.2824978909731, 73.02531594714506], [153, 1226.1536301405818, 96.95393603974303, 1260.588299119459, 179.95200636849796], [161, 13.98623487233171, 433.4067934370661, 72.0097972863129, 546.4170471849559]]\n"
          ]
        },
        {
          "output_type": "stream",
          "name": "stderr",
          "text": [
            "0: 384x640 33 persons, 186.0ms\n",
            "Speed: 3.1ms preprocess, 186.0ms inference, 1.6ms postprocess per image at shape (1, 3, 640, 640)\n",
            "\n"
          ]
        },
        {
          "output_type": "stream",
          "name": "stdout",
          "text": [
            "[<deep_sort.deep_sort.detection.Detection object at 0x7f003548bdc0>, <deep_sort.deep_sort.detection.Detection object at 0x7f00354f53c0>]\n",
            "<class 'list'> class\n",
            "[[5, 630.0229194477603, 333.9295075124645, 688.4210364335436, 458.41623711675976], [20, 1025.1902895814396, 93.20011221128249, 1063.2700337572337, 186.56878781298275], [36, 918.4833467239658, 14.036575452732357, 947.4487134224576, 102.01208329394777], [54, 547.555060552682, -0.03778069145027274, 573.5416233654184, 73.69004259268692], [60, 612.3759374412152, 438.4284089312852, 669.1282074938205, 556.7285099097586], [61, 1190.5828030228154, 98.74297808381434, 1227.3424139531935, 178.32719873164342], [75, 479.01039773858605, 7.466738085893596, 507.90224721759216, 89.34873852979698], [77, 333.4175042527659, 10.687571214916971, 365.2696099222512, 77.83671553349704], [105, 709.1819414078234, 152.68773922221794, 747.9438191032506, 247.82525629464214], [117, 776.2398493350615, 280.5531872495701, 820.2653243691785, 374.21413057114114], [120, 601.0387082817215, 143.19348131067323, 639.2817513106897, 241.41374393088034], [122, 786.9720697222084, 57.386307843431204, 821.9495589034385, 133.01885926613824], [125, 452.1928544311307, 42.25457721810606, 486.7109023146563, 132.31987263888246], [126, 1217.807223568432, 364.42181107039704, 1280.1409046920742, 489.44162093910757], [131, 342.5728073117154, 533.3263462053018, 409.71963405086257, 663.5679494047155], [132, 38.354752395114545, 75.71515766481903, 74.69187976162578, 159.14523207943625], [133, 332.60270805093376, 409.8699791297108, 382.8993279179891, 513.9495626577259], [135, 688.0377776441994, 243.22276053820212, 719.5305447592567, 340.9837579635166], [142, 830.1036182442461, 246.6149961900752, 877.2538255424969, 359.8598390486395], [143, 151.26226167748604, 627.6642141053054, 207.95865702635712, 720.3840206393412], [145, 464.13652535011465, 305.77179827860033, 510.16143616410983, 420.4817950248239], [150, 133.22219927645284, 33.8305063885837, 176.42156685459855, 122.35898590533992], [152, 578.641353110881, -0.027648468444432694, 602.3842684611142, 72.82432064431859], [153, 1226.075083959124, 97.21433672051498, 1260.6853432799417, 180.82940047536326], [161, 15.662860964329944, 435.2144596207057, 73.9773601544259, 547.1001119067694]]\n"
          ]
        },
        {
          "output_type": "stream",
          "name": "stderr",
          "text": [
            "0: 384x640 33 persons, 182.4ms\n",
            "Speed: 2.6ms preprocess, 182.4ms inference, 1.6ms postprocess per image at shape (1, 3, 640, 640)\n",
            "\n"
          ]
        },
        {
          "output_type": "stream",
          "name": "stdout",
          "text": [
            "[<deep_sort.deep_sort.detection.Detection object at 0x7f00354891b0>, <deep_sort.deep_sort.detection.Detection object at 0x7f01681645b0>]\n",
            "<class 'list'> class\n",
            "[[5, 631.4065629446093, 338.5472459941203, 689.7944647348526, 463.0428333403323], [20, 1024.1373365573847, 89.97578714551375, 1062.2973910384876, 183.62633490957066], [36, 918.4939877086925, 14.008931349082012, 946.7613327714771, 102.65824558821066], [54, 547.4144455398388, -0.0326323779054718, 572.9856042502678, 72.35066738106272], [60, 612.0327231171528, 442.886587855641, 671.0714766502365, 566.9041521469139], [61, 1191.8417324638988, 99.13980394331912, 1229.2198593359124, 178.97158285485204], [75, 478.66201713498225, 5.584526315422913, 507.6432505831082, 87.43745857854731], [77, 337.1985596437207, 11.519422224232592, 368.1836090459228, 77.25352435757003], [105, 709.8322405375516, 149.79161628588128, 748.7057231189416, 244.67112753078175], [117, 778.6655430935831, 282.8773831236013, 820.8782666763622, 372.24225021933114], [120, 600.240997536783, 145.4063964935208, 639.1842415291937, 245.5014625555129], [122, 787.5469805718666, 54.82218514535358, 822.5339506448493, 130.71251950746753], [125, 451.93087326818943, 40.31391274017827, 486.35359318984626, 130.25281714862163], [126, 1219.6033341689342, 366.98132047426327, 1280.1739843798375, 489.3003860179491], [131, 342.7949160258844, 538.0426119886085, 407.66675367147826, 663.76005847895], [132, 37.67329698947711, 75.98907299417758, 74.44458421009145, 159.130877894464], [133, 332.1739689990583, 413.31221512831235, 382.0096696297061, 515.9010471035672], [135, 687.6259015599986, 241.80183423643092, 718.8483362895125, 339.7820500607964], [142, 830.3736644546603, 244.18627110905305, 876.5877165657819, 355.3708788284758], [143, 152.83163627486906, 632.3350920268757, 208.45007072418318, 720.3341834073191], [145, 464.11464653604224, 303.1395174247319, 511.20480382717085, 420.44962027980523], [150, 134.17853877856493, 34.834062340584715, 176.2990087615857, 121.81114629733835], [152, 578.8115755207684, -0.07250430179742295, 602.4024099947121, 72.31264780472394], [153, 1225.7111731454768, 98.60905865353354, 1261.0038585730633, 183.7806570018243], [156, 219.71617118811662, 307.77045929860304, 261.0099739768755, 406.583195383577], [161, 17.644783084198608, 437.131902418932, 75.24312565971252, 545.9228192165838], [162, 505.14077476330874, 667.8657291133366, 571.3568851808437, 719.9999999999999]]\n"
          ]
        },
        {
          "output_type": "stream",
          "name": "stderr",
          "text": [
            "0: 384x640 34 persons, 223.5ms\n",
            "Speed: 2.6ms preprocess, 223.5ms inference, 1.5ms postprocess per image at shape (1, 3, 640, 640)\n",
            "\n"
          ]
        },
        {
          "output_type": "stream",
          "name": "stdout",
          "text": [
            "[<deep_sort.deep_sort.detection.Detection object at 0x7f003548bdc0>, <deep_sort.deep_sort.detection.Detection object at 0x7f003548bca0>]\n",
            "<class 'list'> class\n",
            "[[5, 632.3191508564615, 341.5583748007907, 691.2029016810578, 467.3308692709337], [20, 1023.8923709199082, 88.83494728076906, 1061.8363264269303, 181.9367470799756], [36, 918.6531460649982, 13.999597654669017, 946.3736574385432, 102.87650172858122], [54, 548.0124725919859, -0.02835827925740375, 573.4693418492308, 71.88257266397093], [60, 612.174375724963, 446.46402577999334, 672.1922681630615, 573.3145547943153], [61, 1192.609127837494, 99.77817945259314, 1229.9674812856465, 179.56686856713634], [75, 478.22383355875263, 4.244798132085741, 507.1901888467974, 85.43437585851592], [77, 340.9287337457526, 11.841609944122837, 372.1685537081496, 77.70180817559675], [105, 710.0033401138126, 147.4333935518877, 749.0410717366859, 242.2355279976328], [117, 779.9046459914306, 284.3247426985557, 820.7854218936808, 370.6946247703345], [120, 600.3373974205884, 147.51865760843768, 639.4059325286995, 247.66506781930968], [122, 787.8991850150068, 53.88771017845037, 822.5709851270403, 129.2148580851468], [125, 452.02152321130256, 38.313183441433424, 486.6998802225612, 128.87747335803613], [126, 1222.0694987827294, 368.4999340520146, 1281.0068671925126, 488.4755599721302], [131, 343.0433952137402, 540.3677619011033, 406.7663694795887, 663.6628599594039], [132, 36.6208512600499, 76.08229699638036, 73.85000531348757, 159.1165717804387], [133, 331.40624816647085, 415.1755039311299, 382.32579029666005, 519.8970817992745], [135, 687.3728559678517, 240.67232932986684, 718.0348680846727, 338.07067614571525], [142, 829.5830836043849, 240.69894110723789, 875.2570632115854, 350.42759804500776], [143, 154.05271639398558, 637.3122933684317, 208.52162471829507, 720.2795305845652], [145, 462.87428651328383, 300.9157906764612, 511.51509909439375, 422.5065326848354], [150, 134.6255590569383, 35.18517783393286, 176.17527516583405, 121.56032260470153], [153, 1225.8009923017387, 99.76931430422285, 1261.509800955409, 186.1843324050219], [156, 220.00387217696658, 307.2743827792648, 260.7923592081846, 406.88251981749863], [161, 18.974326189800923, 439.0927365219595, 76.33922000097215, 545.3606021572155], [162, 500.14530916680815, 662.156022136317, 573.0669958314822, 720.0]]\n"
          ]
        },
        {
          "output_type": "stream",
          "name": "stderr",
          "text": [
            "0: 384x640 32 persons, 291.8ms\n",
            "Speed: 2.6ms preprocess, 291.8ms inference, 2.0ms postprocess per image at shape (1, 3, 640, 640)\n",
            "\n"
          ]
        },
        {
          "output_type": "stream",
          "name": "stdout",
          "text": [
            "[<deep_sort.deep_sort.detection.Detection object at 0x7f01681645b0>, <deep_sort.deep_sort.detection.Detection object at 0x7f00354f5450>]\n",
            "<class 'list'> class\n",
            "[[5, 632.3953995787789, 343.2822356342267, 692.6140105877305, 472.7807971919225], [20, 1023.4403571519372, 87.13562471827154, 1061.4083971991115, 180.04567043974936], [36, 918.8239710285867, 13.99648635996138, 946.1237887484158, 102.95966123928208], [54, 548.3147277949264, -0.02486247014123677, 573.5633332006445, 71.06733028459374], [60, 612.9821575958954, 449.70586675224223, 673.1726548320055, 577.6338803097213], [75, 478.66735446299043, 3.1113999688144034, 507.7476638664991, 84.06404899788816], [77, 343.6968198536559, 12.623172816748912, 375.4396799108937, 78.53496348594336], [105, 709.6488148309196, 145.28081913960472, 749.5621358776287, 242.06561150457128], [117, 780.316672099101, 286.36144117161183, 820.9571930609877, 372.2223826918849], [120, 600.949075347769, 150.25310256767656, 639.5813449197339, 249.08939025367698], [122, 787.868622872241, 53.580635895543544, 822.0340513779904, 128.02957745675482], [125, 451.94299401487154, 36.95272657437261, 486.94543682238964, 128.41967953230304], [126, 1223.3142059870681, 370.9702649330636, 1281.59612620315, 490.76278822061005], [131, 343.12917591536956, 542.449323708726, 406.47727829818007, 664.8433815229616], [132, 36.20111816874793, 76.10779331006952, 73.6788584275788, 159.10323321389626], [133, 330.70918164419305, 418.4383158586769, 382.8835141110163, 525.933524293231], [135, 687.3814001962915, 238.99289570928443, 717.6330922901891, 336.1632383097651], [142, 829.2318540059879, 237.48339150617932, 874.1696132774415, 345.34019461705793], [143, 155.3310760177723, 641.6843704812658, 208.9653566598996, 720.2317158372707], [145, 463.1612907806278, 298.84279209772575, 512.839842917192, 423.3629151094258], [150, 134.99971158454161, 35.953342348408945, 175.92418958191527, 121.4361361866504], [153, 1225.6302952099165, 100.8405079131951, 1261.8641688479977, 188.3799273805334], [156, 220.37398248671127, 307.76933348484454, 260.4457659757244, 406.98351970360153], [161, 19.102856834979466, 440.4037021547477, 77.65810022699313, 547.0722549227012], [162, 497.42542620482504, 658.7871605182211, 573.8733251378608, 720.0000000000001]]\n"
          ]
        },
        {
          "output_type": "stream",
          "name": "stderr",
          "text": [
            "0: 384x640 31 persons, 278.8ms\n",
            "Speed: 2.6ms preprocess, 278.8ms inference, 1.9ms postprocess per image at shape (1, 3, 640, 640)\n",
            "\n"
          ]
        },
        {
          "output_type": "stream",
          "name": "stdout",
          "text": [
            "[<deep_sort.deep_sort.detection.Detection object at 0x7f003548bdc0>, <deep_sort.deep_sort.detection.Detection object at 0x7f003548bca0>]\n",
            "<class 'list'> class\n",
            "[[5, 633.1507804876255, 345.17013265327114, 693.0293252674401, 474.76048116823847], [20, 1022.3669169345734, 85.89090144316599, 1060.8688689677385, 180.0724026220692], [36, 918.9779160120042, 13.995725903750866, 945.9475200938505, 102.99087919398735], [54, 548.3977845224032, -0.021662676428604755, 573.6211829599465, 70.79252614751168], [60, 614.186736338679, 453.46365623944536, 674.6082321386946, 582.4238525833609], [75, 478.5022220374854, 2.7234879183810605, 507.62655607537994, 82.93524408924222], [77, 346.001712482037, 12.252850816570657, 378.5494822460828, 78.85069995046707], [105, 708.9969500480156, 143.87027082163624, 749.6001650259644, 242.06294022200086], [117, 781.1650385006466, 288.0834068091199, 822.3861603243341, 375.52867393409605], [120, 600.172610390947, 151.89992879852605, 639.3375182994038, 252.2121432961862], [122, 787.4798788237512, 53.51030659249393, 821.4974126355542, 127.62900571015068], [125, 451.7452095216948, 37.1515377488251, 486.5486935629395, 128.3039055367334], [126, 1223.0509024785697, 373.12935419442255, 1282.4779549893442, 496.8717325912243], [131, 343.43842940539383, 543.1141984261983, 406.79319052757404, 665.1785911949538], [132, 35.326415466484754, 76.10850262351565, 73.03891092262023, 159.09114402869113], [133, 329.6944813936682, 421.56450937673895, 382.5660150118996, 530.7668631722961], [135, 687.9224510883045, 237.76276420079913, 716.9575256934313, 331.5408620949864], [142, 828.5530804422498, 234.3727704283902, 873.0031212513164, 340.8703481319911], [143, 155.84397156759437, 646.529803713384, 208.2369463307666, 720.1926428132498], [145, 463.09099697072566, 296.82823333426205, 513.5401072440972, 423.77400575659476], [150, 135.47157612323483, 36.21481706094456, 176.16391107764915, 121.36045396702383], [153, 1225.625946346794, 102.53085843642158, 1261.8981267587258, 190.48978933479236], [156, 220.62793665706334, 307.2909169739495, 260.21297744561554, 406.3563984566403], [161, 19.193158968840432, 442.1466910354628, 79.334624626983, 550.2971988669018], [162, 494.93203986809533, 655.6898103523467, 574.3587017891396, 720.0000000000001]]\n"
          ]
        },
        {
          "output_type": "stream",
          "name": "stderr",
          "text": [
            "0: 384x640 34 persons, 292.3ms\n",
            "Speed: 8.4ms preprocess, 292.3ms inference, 2.1ms postprocess per image at shape (1, 3, 640, 640)\n",
            "\n"
          ]
        },
        {
          "output_type": "stream",
          "name": "stdout",
          "text": [
            "[<deep_sort.deep_sort.detection.Detection object at 0x7f003548af20>, <deep_sort.deep_sort.detection.Detection object at 0x7f00354f53c0>]\n",
            "<class 'list'> class\n",
            "[[5, 633.3848163693857, 347.77179902908915, 691.8779417789141, 474.7307774149145], [20, 1021.6019695495429, 85.47456574972118, 1060.4103032536264, 180.14072635829467], [36, 919.1094128894146, 13.995805874900185, 945.8143729890361, 103.00209224337068], [54, 548.5943839422176, -0.05713859255045861, 573.5993538408333, 70.14730616899236], [60, 615.6475099075086, 456.1097204937167, 676.1027994720002, 585.4309580477002], [75, 478.2542198734644, 1.949984897879915, 507.76868079477185, 82.56388557253375], [77, 347.5843206152311, 13.428299585175218, 379.50111553239105, 77.64974842113986], [86, 1165.387930056237, 190.0631082580937, 1216.7219009894752, 296.94484727407746], [105, 708.3118071475126, 142.73876104912577, 749.3752596350125, 242.1285869120377], [117, 781.1780611650852, 290.70344778955706, 822.9278357220619, 379.78796973513266], [120, 600.0526344894637, 153.12773332216335, 639.7348826153437, 255.29852962058644], [122, 787.3148536780272, 53.521709233299006, 821.2807373998567, 127.5206763573152], [125, 451.69105359930535, 36.62481671996173, 486.3782488923075, 127.65859138005027], [126, 1223.1796049702946, 375.1775074353471, 1284.5032930483862, 505.6414229295727], [131, 344.5313742619146, 545.2478014269078, 407.29527127040154, 665.2041714120103], [132, 34.66551099518654, 76.10077075094688, 72.49882400790116, 159.08035669884958], [133, 329.222778785505, 423.32946805104945, 382.55931288067177, 533.833318728566], [135, 688.4713046001077, 234.70031881028075, 717.0457791906102, 327.8553806658392], [142, 828.1483579853717, 231.97451710237024, 872.0838239281749, 336.64715829267334], [143, 156.00471462971407, 650.1294879170814, 207.88388110513765, 720.1581713632686], [145, 463.28846874406923, 295.4860897663732, 514.2382222523883, 423.99882887101694], [150, 135.66557263474076, 36.28714473848465, 176.2359126841218, 121.30872177565857], [153, 1225.9234688493418, 103.14597349775372, 1262.2289803346196, 191.25209069769627], [156, 220.92440193555657, 307.7700955730544, 259.9353975547375, 406.11828516995905], [161, 19.443375115378306, 444.0495005202883, 81.62964133173364, 554.7386734101021], [162, 493.66694948418797, 653.337148181907, 574.9027921325116, 719.9999999999999]]\n"
          ]
        },
        {
          "output_type": "stream",
          "name": "stderr",
          "text": [
            "0: 384x640 34 persons, 1 handbag, 278.6ms\n",
            "Speed: 2.5ms preprocess, 278.6ms inference, 2.2ms postprocess per image at shape (1, 3, 640, 640)\n",
            "\n"
          ]
        },
        {
          "output_type": "stream",
          "name": "stdout",
          "text": [
            "[<deep_sort.deep_sort.detection.Detection object at 0x7f003548aec0>, <deep_sort.deep_sort.detection.Detection object at 0x7f00354f7100>]\n",
            "<class 'list'> class\n",
            "[[5, 633.9298142241678, 349.33435307571307, 692.2363074143794, 475.89539704846834], [20, 1020.3630083301802, 84.71242850271979, 1059.251891871847, 179.56838810552506], [36, 919.3009266679821, 13.996154493411346, 945.6281491580077, 102.34243830074644], [60, 617.4155786529061, 461.5972344430663, 676.7521606201396, 588.4033287382683], [75, 478.10323932390287, 0.36677782343155485, 507.88242433369595, 80.4794154100299], [77, 349.66773547449606, 13.204370299223832, 382.1631675993518, 77.85716259199512], [86, 1165.5567067920017, 191.35278983001658, 1217.0759310323865, 298.6198176860646], [105, 708.8260495210303, 142.36832025438903, 749.8134804214674, 241.55544113018883], [117, 781.2593381117526, 293.58325240045997, 823.6918472826834, 384.573013307499], [120, 600.0054854699039, 154.8523700393885, 639.2376212517922, 256.4113325728234], [122, 787.2598702241723, 52.89774168739384, 821.8262186937892, 128.18158265190274], [125, 451.5826809089091, 35.81236004841667, 486.4055469535897, 127.46504965720666], [126, 1222.471443279468, 380.4191621118097, 1284.048053662029, 513.4305815288637], [131, 344.9511307898089, 549.2745521974144, 408.8432335771726, 670.4517306939682], [132, 34.21640655795802, 76.26808205611778, 72.03239410775043, 159.20915245028044], [133, 328.73105404987945, 427.84507665759486, 382.2462341517701, 538.8326656147258], [135, 688.5337854378798, 230.96821703189053, 716.5615426829335, 321.9074054635538], [142, 827.3023228638526, 228.5064985211842, 871.1342609357285, 331.8505667472315], [143, 157.80777544859845, 658.2244323931047, 205.93098477355264, 720.1314301357856], [145, 463.290593868404, 291.79285995255793, 514.5797855980061, 421.5359953600016], [150, 136.16826090036102, 36.95326165244197, 176.4930307868763, 121.26854827517133], [153, 1227.1581543509067, 104.00361368365367, 1263.170519786687, 192.15258855084676], [156, 221.10343596587717, 307.9493286042525, 259.77377561198006, 406.0289018618623], [161, 18.661343790086434, 447.97801631799575, 83.9401159021565, 563.5555114410762], [162, 491.7960472288, 648.673349158722, 577.2047099777391, 720.0]]\n"
          ]
        },
        {
          "output_type": "stream",
          "name": "stderr",
          "text": [
            "0: 384x640 32 persons, 1 handbag, 197.7ms\n",
            "Speed: 2.6ms preprocess, 197.7ms inference, 1.5ms postprocess per image at shape (1, 3, 640, 640)\n",
            "\n"
          ]
        },
        {
          "output_type": "stream",
          "name": "stdout",
          "text": [
            "[<deep_sort.deep_sort.detection.Detection object at 0x7f003c922500>, <deep_sort.deep_sort.detection.Detection object at 0x7f003548ace0>]\n",
            "<class 'list'> class\n",
            "[[5, 634.6269294734324, 350.50431927667455, 692.4954678231109, 476.2340623367679], [20, 1019.4229607303495, 83.81447854267125, 1058.672028873227, 179.40607590304944], [36, 919.4160780530351, 13.996583518916907, 945.5205284141107, 102.09352631521452], [60, 618.3523506960803, 464.23677461473574, 677.3660477564141, 590.0380108251564], [75, 478.6881862292068, -0.1936684659712853, 508.615651152881, 79.741807107022], [77, 351.1147214308178, 13.11761170522491, 384.3139560372927, 77.9349617605732], [105, 709.1115236584236, 142.29133322503802, 749.8805796076871, 241.3948168356857], [117, 782.1185643427032, 296.56757253204364, 824.4377821553228, 387.6207064124825], [120, 599.6704462421288, 155.45268053429595, 638.7079214554211, 256.7567989145024], [122, 787.5066341019801, 52.69018013181867, 822.3997374753916, 128.45734800959727], [125, 451.5702100056349, 34.88887656336935, 486.3911954582004, 126.77576704148173], [126, 1222.1560568773716, 383.02497488097697, 1283.8385277876555, 518.3046959206102], [131, 344.23022222648723, 553.3278690735564, 410.30300190645596, 678.2775241865651], [133, 328.2661116845762, 429.4809035161293, 382.4361860263861, 542.604474412737], [135, 688.5258615407436, 228.98147604007988, 716.4219814465541, 319.10661097587547], [142, 826.518724621312, 225.9810331293063, 871.2894875228526, 330.86587264680634], [143, 160.56903123830344, 663.6581305221503, 206.63710703877726, 720.1003809539108], [145, 463.6128982133671, 288.4990325572576, 515.038378975958, 418.6864698564285], [150, 136.3311593922188, 37.84499519334795, 176.61203884176985, 121.89819627612414], [153, 1227.9753141238825, 104.29671103308858, 1263.803436442048, 192.4497488780944], [156, 221.2273083188477, 307.3502294173627, 259.66478253840637, 405.3334872988053], [161, 18.968066958826135, 451.35767442074575, 86.73141926546288, 570.7249184458639], [162, 490.2591866823519, 645.0337789748672, 578.3125574274248, 720.0]]\n"
          ]
        },
        {
          "output_type": "stream",
          "name": "stderr",
          "text": [
            "0: 384x640 32 persons, 1 handbag, 213.0ms\n",
            "Speed: 2.5ms preprocess, 213.0ms inference, 1.5ms postprocess per image at shape (1, 3, 640, 640)\n",
            "\n"
          ]
        },
        {
          "output_type": "stream",
          "name": "stdout",
          "text": [
            "[<deep_sort.deep_sort.detection.Detection object at 0x7f003548bca0>, <deep_sort.deep_sort.detection.Detection object at 0x7f0168166e30>]\n",
            "<class 'list'> class\n",
            "[[5, 635.0167869644345, 351.5243841107605, 692.4209843514374, 476.25695022825613], [20, 1018.6994980485579, 82.86191842680674, 1058.2116322773436, 178.73230198898332], [36, 919.2216579568271, 13.996981985095161, 945.0582832781375, 102.00290972499167], [60, 618.8382291179928, 465.11588391933185, 678.0863647053346, 590.5210581866589], [75, 479.3345635256927, -0.36769236467976896, 509.1275798595137, 78.84903671904048], [77, 352.0259599620302, 12.417341086423882, 385.9106030155921, 77.96605508023399], [105, 707.9704257690568, 140.3368623338912, 749.1632579476818, 241.38345528707373], [117, 782.4699524026976, 300.255447644129, 824.6696446126035, 391.3259686332507], [120, 599.587044311514, 156.2842765065914, 638.4698420554854, 256.8204752838549], [122, 787.8422124950868, 51.98408481546582, 823.0097524145043, 127.93379027777095], [125, 451.591539979206, 33.92306163993609, 486.3635683942396, 125.89793929762521], [126, 1222.0241898890874, 385.2350339034455, 1283.0705125800137, 520.7046655533541], [131, 343.31627720671594, 556.7293437217644, 411.4983030523903, 685.714891432272], [133, 328.20797929322276, 431.9786987974234, 382.4163534304041, 545.8958857339065], [135, 688.1109586533659, 227.6556531229251, 716.1233694072139, 317.50171981037795], [142, 826.2578533338175, 224.46651381248682, 871.3493540926044, 329.9384667561137], [143, 162.4357101921253, 667.3589035215617, 207.266560775748, 720.0794150757365], [145, 464.30114777396494, 286.67165807657693, 514.6443466080658, 413.72655703413363], [150, 135.85006963665006, 38.81997616908434, 176.52834568761529, 123.44488951962579], [153, 1229.3006710651048, 105.03415522890421, 1264.3060398664325, 191.86069596285006], [156, 221.16533199521126, 307.36260886259896, 259.55323553523647, 405.22032067722756], [161, 20.34709470578114, 455.1799370070968, 88.40643126334422, 574.051830337723], [162, 489.292266260311, 641.1633818967748, 579.7855729231142, 720.0]]\n"
          ]
        },
        {
          "output_type": "stream",
          "name": "stderr",
          "text": [
            "0: 384x640 32 persons, 1 dog, 1 handbag, 200.3ms\n",
            "Speed: 6.3ms preprocess, 200.3ms inference, 1.5ms postprocess per image at shape (1, 3, 640, 640)\n",
            "\n"
          ]
        },
        {
          "output_type": "stream",
          "name": "stdout",
          "text": [
            "[<deep_sort.deep_sort.detection.Detection object at 0x7f00354f74f0>, <deep_sort.deep_sort.detection.Detection object at 0x7f00354f5c90>]\n",
            "<class 'list'> class\n",
            "[[5, 636.9902833230212, 353.153464246476, 693.1689486176975, 474.8455082151837], [20, 1017.7321606823556, 81.88818522740488, 1057.4635542474234, 178.5223139405682], [36, 919.4025593910168, 13.997340686679614, 945.2985528468689, 102.6353464027467], [60, 619.9529188950409, 465.9961894179289, 678.707485225062, 589.2568686147863], [75, 479.5374946446425, -0.396494920386921, 509.35503314209274, 78.56252999240624], [77, 352.68457558462825, 12.150795125209143, 386.70276610635216, 77.97892475149], [105, 707.5898304793147, 138.98791733260248, 748.182488082769, 239.4509946794824], [117, 782.0836638780708, 302.2252056589087, 825.9038240688556, 397.9114961469676], [120, 598.7397970164224, 155.88299991035166, 637.881243407745, 257.44103404261926], [122, 787.4002028415978, 51.08546613000315, 823.1260224317584, 127.76013749824921], [125, 452.0010125887809, 32.280275652560576, 486.61524809223994, 124.2868994017869], [126, 1222.2716312618795, 387.8389560062645, 1283.75766003963, 524.2854935277765], [131, 342.8138111898776, 559.2355749304419, 412.7613835952918, 691.7083387652473], [133, 328.1878668019326, 434.1522581482384, 381.78223595599303, 547.040802032976], [135, 687.9994297865547, 226.5726930382563, 715.9796315351025, 316.33720572520326], [142, 826.0348838325524, 223.3333425856394, 871.534398804402, 329.70607259704997], [143, 163.06210159306258, 671.2349007208683, 206.63226363747344, 720.0643640536318], [145, 465.80212601828055, 285.4213007783596, 513.9099681465063, 405.9382190270789], [150, 135.64458984123473, 39.16277031225697, 177.1775865558331, 125.32888425898064], [153, 1229.6462819909837, 104.61698251989219, 1264.609005077618, 191.59118737690528], [161, 21.780027298409905, 458.5332796881081, 90.6671168472145, 578.4689038582795], [162, 488.7080309768086, 638.4644546893294, 579.9789316777321, 720.0]]\n"
          ]
        },
        {
          "output_type": "stream",
          "name": "stderr",
          "text": [
            "0: 384x640 32 persons, 1 handbag, 189.9ms\n",
            "Speed: 3.0ms preprocess, 189.9ms inference, 1.4ms postprocess per image at shape (1, 3, 640, 640)\n",
            "\n"
          ]
        },
        {
          "output_type": "stream",
          "name": "stdout",
          "text": [
            "[<deep_sort.deep_sort.detection.Detection object at 0x7f003548af20>, <deep_sort.deep_sort.detection.Detection object at 0x7f00354f42e0>]\n",
            "<class 'list'> class\n",
            "[[5, 638.0869890777382, 355.01658254513563, 693.7188533603434, 474.88084305816193], [20, 1017.4165944693846, 80.90473945055581, 1057.1789300321384, 177.82495034959896], [36, 919.5847695778125, 13.997645521097041, 945.2798563437865, 102.21446036991468], [60, 621.1555241060527, 467.5372998379431, 679.444771077641, 588.6438685636077], [75, 480.0729258677884, -0.3771145094457182, 509.6363930165205, 77.16937545729733], [77, 353.41684006722346, 11.389054353053844, 387.6801743906653, 78.64469258193375], [105, 707.9337954166483, 138.52952379096126, 747.9706816125907, 238.09626225616674], [117, 782.8507712507866, 303.5596496291944, 826.7300618067326, 400.3149191888043], [120, 598.681024932762, 156.3485690736431, 637.4099659079235, 256.9685757760041], [122, 787.5740442588393, 49.45741768974279, 823.4628188301601, 125.74502820096723], [125, 452.7930979900105, 31.041522077687624, 486.7358623216264, 121.73805499325124], [131, 342.9247710125862, 563.3462534353631, 413.59416387266947, 697.1405494462206], [132, 30.525985980957675, 76.08154721399455, 67.87305245974875, 159.06301698445836], [133, 328.91578828966703, 436.85824497571593, 381.4924014472368, 547.3486494962858], [135, 687.8731057138068, 224.9116509227031, 716.0221425528374, 315.332109355234], [142, 825.1772052196259, 222.33518210057375, 871.089211618013, 329.71850497464726], [143, 163.25739450588569, 672.979891991045, 207.06681244126625, 720.0512537724306], [145, 466.39555319474056, 283.05054864956696, 513.5956971398076, 400.40634546972404], [150, 135.5346722291145, 39.92695589687937, 177.4510243432986, 126.67465310007404], [153, 1229.89763380523, 105.09535232310716, 1264.5612923185518, 191.46106311710838], [161, 22.614066130906757, 462.3374667931526, 91.1495645815649, 580.6880317674386], [162, 488.61355070164973, 634.9765305720443, 581.2177400122018, 719.9999999999999]]\n"
          ]
        },
        {
          "output_type": "stream",
          "name": "stderr",
          "text": [
            "0: 384x640 31 persons, 1 handbag, 195.6ms\n",
            "Speed: 2.5ms preprocess, 195.6ms inference, 1.4ms postprocess per image at shape (1, 3, 640, 640)\n",
            "\n"
          ]
        },
        {
          "output_type": "stream",
          "name": "stdout",
          "text": [
            "[<deep_sort.deep_sort.detection.Detection object at 0x7f01681645b0>, <deep_sort.deep_sort.detection.Detection object at 0x7f00354f5c90>]\n",
            "<class 'list'> class\n",
            "[[5, 639.4437804882466, 358.9720687450297, 696.261541008, 481.4999544698968], [20, 1016.8997888536304, 79.91731959844257, 1056.2031586196474, 176.28250697385795], [36, 919.6748472378396, 13.997937140499943, 945.2557840038944, 102.05530689893519], [60, 621.8584711812072, 470.00819680548386, 680.086982540144, 589.6416836452726], [61, 1196.4479926870986, 107.9229994155566, 1237.6207782639078, 194.68671814850074], [75, 481.1872350710155, -0.3380947521620783, 510.1548079194434, 74.68762972430913], [77, 355.6444569178583, 10.44825904840829, 389.25213310470343, 78.2405838954212], [105, 708.7965320259127, 136.42549326937402, 748.4831184632554, 234.98412512481946], [117, 785.7101841760347, 305.93493826816865, 828.3699178333308, 400.47469549607257], [120, 598.5859835544138, 157.80077943581557, 637.3182074969169, 258.05233824467257], [122, 787.7080691781871, 48.207952524975596, 823.4993831712673, 123.02089881319547], [125, 453.94580281381707, 28.629505880613543, 486.59295542602666, 116.17148021666185], [126, 1225.932193758807, 393.0076779261648, 1286.23086176997, 531.0733582290882], [131, 343.1808241158002, 566.7803534636386, 415.00595999569225, 703.0059617792757], [132, 29.88292217055597, 76.17123701227413, 67.22075332112463, 159.1318294077803], [133, 328.9358411985374, 439.77116745846683, 381.0047139369947, 548.6682035644883], [135, 686.5315519395549, 222.3696275509742, 715.3550388882281, 315.0394875582389], [142, 824.7510968077939, 219.40579912497887, 871.0521934915623, 327.835799659013], [143, 165.20219497177112, 677.686761805183, 205.9869311852518, 719.3248508687417], [145, 466.4150018697261, 280.2531677076188, 512.3240210758195, 393.11368082800294], [150, 134.9514755443812, 40.851752638127984, 177.43335277290794, 128.4752062657863], [152, 625.5552081418638, -0.012012909185223464, 650.2568521832499, 69.93535294376031], [153, 1230.4784703130294, 106.57412950951887, 1264.675729696243, 192.0434752277036], [161, 26.975774684671485, 465.6658059016622, 93.76083850778238, 580.7314271185421], [162, 487.58881535797195, 628.6403303022383, 583.989650418248, 719.9999999999999]]\n"
          ]
        },
        {
          "output_type": "stream",
          "name": "stderr",
          "text": [
            "0: 384x640 32 persons, 1 handbag, 187.2ms\n",
            "Speed: 2.7ms preprocess, 187.2ms inference, 1.4ms postprocess per image at shape (1, 3, 640, 640)\n",
            "\n"
          ]
        },
        {
          "output_type": "stream",
          "name": "stdout",
          "text": [
            "[<deep_sort.deep_sort.detection.Detection object at 0x7f003548ace0>, <deep_sort.deep_sort.detection.Detection object at 0x7f00354f6140>]\n",
            "<class 'list'> class\n",
            "[[5, 640.2038666598812, 362.35223609210635, 698.2181147172599, 487.8420530362709], [20, 1016.5283376185666, 78.26710522527682, 1055.399613775583, 173.75502205335584], [36, 919.7266566768086, 13.998187205613469, 945.2313591500165, 101.99750430049343], [60, 621.7946023752644, 472.8312953825936, 681.2700137675188, 593.9261089180961], [61, 1197.0138149445604, 108.73299200696931, 1238.4166982600743, 195.98023904471188], [75, 481.70467627566046, -0.29390092586380945, 510.23085964088045, 73.1405910590668], [77, 358.0392206311635, 10.748041298429278, 390.1398253402517, 78.0838740361227], [105, 709.1258905937822, 134.35819656876066, 748.6716895281617, 231.8717616934065], [117, 786.9837587047072, 307.4068339908586, 828.7953124292644, 400.3947927298903], [120, 598.628946599138, 159.62974574050958, 637.2189287792266, 259.0769151539969], [122, 787.8642049671378, 47.771886846983215, 823.3828677906444, 120.69214485415654], [125, 454.2972498319468, 27.106549636988497, 486.61653775806053, 114.13900236974894], [126, 1226.3913927050883, 395.60796718966304, 1287.102255045433, 534.6194764845825], [131, 344.27731363000737, 570.5958513823948, 415.19233925135836, 705.1169017048767], [133, 329.01292578113447, 442.09429459223355, 380.1105730037423, 548.3965604339647], [135, 686.0395820875308, 221.4744654933185, 715.1043845085791, 314.9959736827923], [142, 825.0373481511049, 216.40183910008957, 871.9365601823422, 326.545071319556], [143, 167.83726984311338, 681.736459050496, 204.61356149847728, 719.2799838806225], [145, 466.126709946894, 278.64952315772854, 511.4609828504069, 388.52909835832736], [150, 134.97194737493626, 41.83599863209963, 177.83711872720122, 129.78569647204066], [152, 626.9740586791767, -0.006670583738632274, 653.1019786715223, 70.56859416301828], [153, 1230.2854911472418, 107.1041871640106, 1263.7619960667396, 190.24342187166445], [161, 28.776665665768057, 467.47463535331434, 94.49008614147002, 579.9332171587505], [162, 487.34611784703407, 623.7011931910508, 585.5656813067735, 720.0]]\n"
          ]
        },
        {
          "output_type": "stream",
          "name": "stderr",
          "text": [
            "0: 384x640 31 persons, 1 handbag, 202.7ms\n",
            "Speed: 15.2ms preprocess, 202.7ms inference, 1.5ms postprocess per image at shape (1, 3, 640, 640)\n",
            "\n"
          ]
        },
        {
          "output_type": "stream",
          "name": "stdout",
          "text": [
            "[<deep_sort.deep_sort.detection.Detection object at 0x7f0168166e30>, <deep_sort.deep_sort.detection.Detection object at 0x7f00354891b0>]\n",
            "<class 'list'> class\n",
            "[[5, 639.9740587830224, 366.18040248470174, 698.7686927842686, 494.10060837373794], [20, 1016.4971672160176, 77.02730711326119, 1054.3772664709707, 170.19395974578225], [36, 919.680629491064, 13.998404614215687, 945.2897206302574, 102.64011753638601], [60, 619.6828722072794, 475.78158535798, 681.1137493277242, 600.731560165663], [75, 481.94587768188217, -0.256176181025495, 510.1884836928341, 71.95089295594835], [77, 360.43303627290146, 10.869995074540888, 391.48781470689784, 78.02392589951742], [86, 1171.7124333911363, 196.21853323323003, 1223.8032774124006, 303.36640091433185], [105, 709.0585158587501, 130.97966073244402, 748.9284247077243, 228.76737543654528], [117, 787.9859093819306, 308.53603774241606, 829.0450506704756, 400.26536410296524], [120, 598.4986409341095, 161.6006898143223, 637.341998478575, 261.4054201670599], [122, 788.2690043327412, 46.308908039540015, 823.6392779951326, 117.8560544919036], [125, 454.8487035043888, 25.925497236523604, 486.8625264936144, 112.11919497328907], [131, 346.09351959189513, 574.5666215938431, 415.8326623101622, 706.4035087199204], [133, 329.1630000651598, 444.19334566107136, 379.67921551826043, 548.1876033355716], [135, 685.121570539254, 219.89251979398787, 714.4418631486486, 314.39955479377545], [142, 825.5297816243723, 215.34056121532583, 871.9138159018487, 324.8188898724165], [145, 464.9028158143798, 277.48392691586787, 510.9097768855194, 388.3600600889974], [150, 135.29876774454192, 42.84253523456682, 178.32704813622217, 130.90759806006375], [152, 627.0040096043118, -0.004948614935202045, 654.5256396316933, 72.10158832868227], [153, 1230.9576258724344, 107.93959409986533, 1264.6391653801677, 191.54608216142395], [161, 31.110784484740677, 468.0403686310929, 96.97939138067214, 580.1842109962948], [162, 487.71839451376877, 620.5605952201765, 585.7546957028892, 719.9999999999999]]\n"
          ]
        },
        {
          "output_type": "stream",
          "name": "stderr",
          "text": [
            "0: 384x640 31 persons, 1 bird, 1 horse, 1 handbag, 209.3ms\n",
            "Speed: 12.2ms preprocess, 209.3ms inference, 1.4ms postprocess per image at shape (1, 3, 640, 640)\n",
            "\n"
          ]
        },
        {
          "output_type": "stream",
          "name": "stdout",
          "text": [
            "[<deep_sort.deep_sort.detection.Detection object at 0x7f003438e800>, <deep_sort.deep_sort.detection.Detection object at 0x7f003438f280>]\n",
            "<class 'list'> class\n",
            "[[5, 640.2290202119437, 368.86986412628977, 699.2274345580032, 497.7059763523734], [20, 1016.7582170435993, 75.27742241326033, 1053.7772450191462, 166.23565634904986], [36, 919.6849973500513, 13.998586942397132, 945.2915636887544, 102.88323932779835], [60, 618.3532060682618, 478.1228556633522, 682.2110522765547, 607.7916840230789], [61, 1195.5633834676073, 110.89574335158028, 1236.5893607826422, 196.4136733534122], [75, 482.08029243361403, -0.22307683509533405, 510.1081392539017, 70.89289183089627], [77, 362.1809691818112, 10.920660076357073, 392.33747341276404, 78.00185527706697], [86, 1172.328467711639, 197.05865572111873, 1224.5915849304295, 304.1558276512258], [105, 708.7092214000694, 128.44744281670606, 748.6810828358343, 225.680577738438], [117, 788.0352759400015, 309.53950960526504, 828.7501183743748, 400.1275721976859], [120, 598.9754927860209, 163.61779848548503, 638.1949326247233, 264.21776156508633], [122, 789.4636608624169, 45.13174712778384, 824.6788415755728, 115.51280761295236], [125, 455.15090546306857, 25.53879796473891, 486.8484206070973, 110.77067751559522], [131, 346.72246802815926, 576.6049646381405, 416.1192009432233, 707.3887753649534], [133, 329.64481346046716, 446.21019973282074, 379.11756190221536, 546.6810276627641], [135, 684.7090868570107, 218.04338928117957, 714.2731767834971, 313.5792850926565], [142, 826.5728970411911, 213.7137062265701, 872.3954485754709, 322.26702829172905], [145, 463.68961975522944, 275.7919472929807, 510.1482992502255, 387.73507243294785], [150, 135.01782428807428, 43.856107977772155, 178.25569726036989, 131.95590427043777], [152, 627.0318581681369, -0.004076650571008145, 655.5102036052155, 73.3355848955678], [153, 1230.6928965522866, 108.88776934690864, 1264.7861905149266, 193.33828648570997], [161, 33.11290758201776, 469.4890672483109, 98.65082928195275, 580.1902567753325], [162, 486.9606376716605, 615.6460051008985, 586.1229653703537, 719.9999999999999]]\n"
          ]
        },
        {
          "output_type": "stream",
          "name": "stderr",
          "text": [
            "0: 384x640 31 persons, 1 handbag, 208.8ms\n",
            "Speed: 2.6ms preprocess, 208.8ms inference, 1.5ms postprocess per image at shape (1, 3, 640, 640)\n",
            "\n"
          ]
        },
        {
          "output_type": "stream",
          "name": "stdout",
          "text": [
            "[<deep_sort.deep_sort.detection.Detection object at 0x7f003548bca0>, <deep_sort.deep_sort.detection.Detection object at 0x7f003548af20>]\n",
            "<class 'list'> class\n",
            "[[5, 640.7568946359388, 371.1170601786729, 700.2225424988646, 501.59179826143793], [20, 1016.2525727547956, 72.66688561480576, 1053.539083488544, 164.15844583650244], [36, 919.7061778349173, 13.998753343822813, 945.2742268525125, 102.97453154637697], [60, 617.4284977955896, 481.53342197219604, 681.7230386949083, 611.6975687688991], [61, 1195.7448075481782, 111.9224643241266, 1236.5651125688141, 196.47748399889366], [75, 482.55579533432507, -0.19383281546945597, 510.3079223875827, 69.88278316516818], [77, 364.50723114651134, 11.603683741652652, 394.15778623466974, 78.65437071667307], [86, 1172.9109952138615, 198.0201847071524, 1225.2479230168965, 305.26778881594123], [105, 708.203498780385, 126.23302291601331, 748.2919480525023, 223.26106138724103], [117, 787.5083042448487, 310.49933202712714, 828.469611129038, 400.660059854294], [120, 599.4711051907304, 166.3088585243916, 638.2098137857342, 265.23060265364114], [122, 791.0723865002584, 44.73281390467064, 825.8860911387352, 114.0285766159177], [125, 454.84974415931134, 24.779370961396772, 486.5768861990673, 110.34185659535032], [131, 347.3439590760054, 578.5764017992433, 415.81849278039397, 706.9654603805626], [133, 329.37599604724693, 448.19602511126254, 379.38267300772736, 548.7365959779642], [135, 684.7578413814178, 216.74825686929734, 714.0256367588286, 311.3578402321257], [142, 827.3798423083222, 211.19992514113247, 872.1823384933382, 317.41348117974013], [145, 461.5957387407435, 273.9105388082149, 509.5231974049471, 389.6153926970876], [150, 135.02637833801242, 44.62206219239251, 178.36554212651714, 132.92832774942735], [152, 626.824166656506, -0.0034889984514165917, 655.8870188113945, 73.80714514787498], [153, 1231.104789053421, 109.21735574509994, 1265.62243666753, 194.65280691192459], [161, 35.40303554994966, 472.5968747028893, 100.27124051242555, 580.7600558011761], [162, 487.7604465014631, 611.9038382918201, 585.8017827927852, 718.7450684200691]]\n"
          ]
        },
        {
          "output_type": "stream",
          "name": "stderr",
          "text": [
            "0: 384x640 28 persons, 2 backpacks, 216.0ms\n",
            "Speed: 5.4ms preprocess, 216.0ms inference, 1.4ms postprocess per image at shape (1, 3, 640, 640)\n",
            "\n"
          ]
        },
        {
          "output_type": "stream",
          "name": "stdout",
          "text": [
            "[<deep_sort.deep_sort.detection.Detection object at 0x7f0168166e30>, <deep_sort.deep_sort.detection.Detection object at 0x7f003548b9a0>]\n",
            "<class 'list'> class\n",
            "[[5, 642.3448170948193, 373.849004914008, 702.4329788323621, 506.2328198916406], [20, 1015.0039259843836, 71.08516855011928, 1052.5585942334462, 163.45075995418284], [36, 919.7317628161014, 13.998901271751421, 945.2513843185152, 103.0074169384116], [60, 616.773318183506, 488.64102664187, 681.1408395690179, 618.3082005399006], [61, 1197.0801496289519, 112.93201995990178, 1237.2744189349721, 196.49518961424377], [75, 482.7941451353933, -0.16816193544098468, 510.3015815815932, 68.88922443130181], [77, 368.0844737939636, 12.52452306884684, 397.9556578444455, 79.56119497196852], [86, 1172.4494809217242, 203.68127818187233, 1225.0759194458653, 312.3302572447046], [105, 707.5080190981346, 124.80640452794387, 747.3238252997941, 221.10045945825397], [117, 786.3148226069202, 315.4338033994212, 828.6569472777533, 407.4313830633564], [120, 600.2062159891086, 169.26634140372036, 638.3387866025129, 266.87929649163016], [122, 792.7594477781553, 43.28186816312531, 827.2232743082561, 112.19610931563848], [125, 454.93441674424366, 23.875167104721108, 486.9354603854695, 110.24303875820132], [131, 347.5862583607817, 582.5150136418364, 413.674664805653, 705.3317324256575], [133, 327.4784021476873, 452.852612070255, 379.95736244565353, 558.1237791321988], [135, 685.0554861667667, 213.68679996996886, 713.6783107737078, 305.9500304193775], [142, 827.3477611227244, 207.67896590752633, 870.4506180705769, 309.6776845421593], [145, 461.1984417465971, 271.9563079192174, 509.58033542711956, 389.7389691930036], [152, 627.0524756053699, -0.0030245968242397225, 657.4844793339199, 76.61292141890786], [153, 1231.461944965679, 109.9733837605944, 1267.0277314493417, 197.76055289981343], [161, 40.756282386926635, 474.99775967338525, 105.61737957042772, 582.2214958122711], [162, 487.1976001860688, 607.3719607497452, 585.9356620592846, 718.8692859114865]]\n"
          ]
        },
        {
          "output_type": "stream",
          "name": "stderr",
          "text": [
            "0: 384x640 27 persons, 202.8ms\n",
            "Speed: 4.6ms preprocess, 202.8ms inference, 1.6ms postprocess per image at shape (1, 3, 640, 640)\n",
            "\n"
          ]
        },
        {
          "output_type": "stream",
          "name": "stdout",
          "text": [
            "[<deep_sort.deep_sort.detection.Detection object at 0x7f013411be50>, <deep_sort.deep_sort.detection.Detection object at 0x7f01681645b0>]\n",
            "<class 'list'> class\n",
            "[[5, 643.5285012004842, 376.76575672477856, 703.3000029252989, 508.54650361612914], [20, 1013.8209822425837, 70.54349300831082, 1051.6246028503547, 163.2494688567641], [36, 919.7572168091302, 13.999031516026875, 945.2280888816347, 103.01804597942649], [60, 616.6330170059395, 492.5679004820536, 682.1033984339743, 624.6442973232326], [61, 1198.1191292575086, 113.93994361240986, 1237.6311655394716, 195.80278228709665], [75, 482.3606774239626, -0.14577232973703502, 509.45634252183953, 67.90055281774141], [77, 369.7467228429023, 12.211356730583745, 400.2609273307633, 79.90095780555514], [86, 1172.6386805208886, 206.3925060761994, 1225.546175513631, 316.04340203668306], [105, 707.1887080635287, 125.00667688685732, 746.3550487504485, 219.70282634177156], [117, 785.0872347603021, 317.2143500506669, 830.1413972660997, 414.5005778030424], [120, 600.331432976686, 170.97711111606816, 637.8716557491213, 267.4396403191191], [122, 794.4504064014606, 42.77985590673192, 828.6162581633824, 111.57402384152425], [125, 454.86141929642724, 23.57797244266341, 487.167470344403, 110.92403609174944], [131, 347.2866977769095, 584.5204344263198, 412.55483929639087, 704.56707113608], [133, 326.84486152311445, 456.47374320043684, 381.4237698940503, 566.1126980420066], [135, 684.7797500660823, 211.27344201207757, 713.294059366173, 302.64492615612437], [142, 827.3179260521074, 205.11824780945472, 869.8291619942095, 305.55197827687107], [145, 461.42775494188135, 270.6317413783839, 509.90705260335585, 389.8750109904017], [152, 627.5494645351239, -0.00271543796151974, 658.852053468505, 77.66420286206221], [153, 1231.6709446473417, 110.8903571951471, 1267.4595220235888, 198.91028458979025], [161, 44.63152510882565, 477.79899231231315, 110.23581337403755, 585.3623815809532], [162, 487.84241069629206, 603.7885599625802, 587.0163320187778, 719.551154619348]]\n"
          ]
        },
        {
          "output_type": "stream",
          "name": "stderr",
          "text": [
            "0: 384x640 27 persons, 1 bird, 202.1ms\n",
            "Speed: 5.9ms preprocess, 202.1ms inference, 1.4ms postprocess per image at shape (1, 3, 640, 640)\n",
            "\n"
          ]
        },
        {
          "output_type": "stream",
          "name": "stdout",
          "text": [
            "[<deep_sort.deep_sort.detection.Detection object at 0x7f003548b9a0>, <deep_sort.deep_sort.detection.Detection object at 0x7f003548af20>]\n",
            "<class 'list'> class\n",
            "[[5, 645.005635400898, 379.7556721002659, 703.8537628098684, 509.2966108261489], [20, 1011.5709572653328, 70.39465548913981, 1049.8170479407274, 163.23814217769387], [36, 919.7810110897042, 13.99914610048328, 945.2060950753133, 103.02034405256902], [60, 616.0481784683486, 495.26114883553214, 681.6830827533927, 628.2256563235321], [61, 1198.581983725911, 114.28004255553898, 1237.6532356460843, 195.5052620056994], [75, 482.70709904607094, -0.12631767638903568, 509.2975505446796, 66.2391780444685], [77, 371.5560101207865, 12.090374032277232, 402.44002530692785, 79.36586941020343], [86, 1173.0506209578684, 207.98930110849932, 1226.1328046532687, 318.00169107734934], [105, 706.1646667790228, 124.48901028761517, 745.5706030141431, 219.9297716714711], [117, 783.8943781473837, 319.12772224505846, 830.1246212977585, 418.40031559204976], [120, 600.6818698416118, 172.2159993423211, 638.0578454229126, 268.92537279883396], [122, 795.9234205573977, 42.62924373294394, 830.2417127129022, 112.06581578191114], [125, 454.8435440256329, 22.846677693032916, 487.2374468974228, 110.57138739699013], [131, 346.0991336285894, 587.1558671550771, 411.8689663691186, 707.5631735154863], [133, 325.98270375830674, 459.0744089807659, 381.97364708365154, 571.6911094408832], [135, 684.7300279756283, 209.11586835293866, 713.1175211145855, 299.4976822281976], [142, 827.1678798001997, 202.925330916703, 869.754442643548, 303.4841270178469], [145, 461.1721146833187, 269.54641999419925, 509.74489729202395, 390.001911748665], [152, 627.5472304307466, -0.0024055280035284454, 659.3987060352182, 78.05505608888674], [153, 1232.2445455892803, 111.21354126366828, 1268.409441168172, 199.9688118841952], [161, 47.049399014539844, 480.0817785962838, 114.80332263141914, 590.447926773468], [162, 487.99422987992835, 600.5846419158456, 586.9318290880508, 719.8269754366733]]\n"
          ]
        },
        {
          "output_type": "stream",
          "name": "stderr",
          "text": [
            "0: 384x640 25 persons, 3 birds, 194.8ms\n",
            "Speed: 2.8ms preprocess, 194.8ms inference, 1.8ms postprocess per image at shape (1, 3, 640, 640)\n",
            "\n"
          ]
        },
        {
          "output_type": "stream",
          "name": "stdout",
          "text": [
            "[<deep_sort.deep_sort.detection.Detection object at 0x7f003c922500>, <deep_sort.deep_sort.detection.Detection object at 0x7f0168166e30>]\n",
            "<class 'list'> class\n",
            "[[5, 647.5752979276257, 382.7721079346008, 704.6297833070728, 508.12108142099316], [20, 1010.7613764656279, 70.38930044782867, 1049.1496127785174, 162.629551968596], [36, 919.765621448265, 13.997781989259458, 945.2009569688707, 103.05787187120629], [60, 616.3142479473471, 497.4819714628873, 681.6714302455246, 630.1015899898077], [61, 1199.8226732668563, 114.37324428154238, 1238.5556739562467, 195.36919406377388], [75, 482.46691940437074, -0.10848627481592388, 508.9217177303704, 66.35590411491944], [77, 372.39681214635635, 12.703218404831283, 403.6122962949766, 79.81624934038626], [105, 705.4073188503296, 123.6837018355051, 745.0091168074886, 220.07275749926484], [117, 783.0106914801959, 321.73700748377206, 829.8558328579153, 421.11258090034795], [120, 601.7624401276561, 173.94501197309253, 638.5020845315446, 269.43081389027935], [122, 796.8229288786217, 41.82445984701512, 830.9676131747395, 110.90930951751069], [125, 455.12792246809556, 22.609565206941006, 487.62480608841605, 110.48356984199981], [131, 344.5065394720924, 590.6911268901677, 412.1078435044846, 714.5910992669701], [133, 325.6202659366955, 461.798473288604, 381.9514173443199, 575.0988800649096], [135, 684.0960476578512, 207.7201051526476, 712.355982677761, 297.0758041617987], [142, 826.8654160227754, 200.86612035201517, 869.9872825353043, 302.829971699262], [145, 460.9654539774896, 267.89246682612344, 509.8135606211216, 390.1145893317881], [152, 627.1568718714336, -0.0021252966057048184, 659.8373764586653, 78.84041322730988], [153, 1231.9908910611923, 111.31039204106351, 1269.2101502789903, 202.30326614439053], [161, 49.55538869783203, 482.5076049899177, 117.2759951715924, 592.8187185388387], [162, 489.1465608673739, 598.1669077077788, 587.0748198443599, 719.9380951152594]]\n"
          ]
        },
        {
          "output_type": "stream",
          "name": "stderr",
          "text": [
            "0: 384x640 26 persons, 1 bird, 295.1ms\n",
            "Speed: 8.3ms preprocess, 295.1ms inference, 2.0ms postprocess per image at shape (1, 3, 640, 640)\n",
            "\n"
          ]
        },
        {
          "output_type": "stream",
          "name": "stdout",
          "text": [
            "[<deep_sort.deep_sort.detection.Detection object at 0x7f003548af20>, <deep_sort.deep_sort.detection.Detection object at 0x7f003548aec0>]\n",
            "<class 'list'> class\n",
            "[[5, 648.7657835676491, 383.7924367998807, 705.2876622934687, 507.5427542436825], [20, 1009.6052657540178, 69.77231271556364, 1048.488834144474, 162.4537972904546], [36, 919.8043351722148, 13.999208621393784, 945.183746097324, 103.02107613150315], [60, 616.3474732633977, 500.17872934559284, 681.0694134972741, 631.3195185727233], [61, 1200.6780509346443, 115.04170648223126, 1238.4645520303725, 195.2962386515575], [75, 482.4181777461144, -0.09538716213155851, 508.7413749662452, 66.43725765032418], [77, 373.6068476400719, 13.593399569451236, 404.99500893945026, 79.98214308163347], [105, 705.4433220692478, 122.77192473263123, 745.1554040959601, 220.1858849849042], [117, 782.6685208939398, 324.6221809400263, 830.3863082463462, 424.6583709623442], [120, 602.5888765333178, 175.19283466945888, 638.9130917074943, 270.2293072205171], [125, 454.9147211622286, 20.576623865927772, 488.08431351243087, 109.83130441731778], [131, 343.6201739949575, 593.8915379929016, 411.18051546546604, 718.4458771184642], [133, 324.6676077975321, 463.3511536389418, 381.6061620525907, 578.1168524399712], [135, 684.4832740208093, 206.61024178925126, 712.8016956042793, 295.5960232791097], [142, 826.2725041405373, 199.51678258276334, 869.9045916610546, 302.68626531259963], [145, 461.12767578322195, 266.0190452730723, 509.6178648020443, 388.2478834297561], [152, 626.5449714751408, -0.0018912195464722004, 659.6841704901327, 79.12293238213971], [153, 1232.122519157938, 111.9780601701653, 1269.9092969413398, 203.80771275034778], [162, 489.9884112041851, 596.7011401927854, 586.1149031868389, 719.9822457622339]]\n"
          ]
        },
        {
          "output_type": "stream",
          "name": "stderr",
          "text": [
            "0: 384x640 28 persons, 2 birds, 294.9ms\n",
            "Speed: 2.4ms preprocess, 294.9ms inference, 2.0ms postprocess per image at shape (1, 3, 640, 640)\n",
            "\n"
          ]
        },
        {
          "output_type": "stream",
          "name": "stdout",
          "text": [
            "[<deep_sort.deep_sort.detection.Detection object at 0x7f01681662c0>, <deep_sort.deep_sort.detection.Detection object at 0x7f00354891b0>]\n",
            "<class 'list'> class\n",
            "[[5, 649.1520294433935, 385.41054242618617, 705.514002625015, 507.9089456295338], [20, 1008.9294962303635, 67.59594297437971, 1047.8811853274813, 160.4485325809569], [36, 919.7923241845288, 13.99813730557186, 945.1796390462712, 103.05080617250862], [60, 616.1916411695473, 503.0618855371974, 679.6788734723231, 631.6306591605157], [61, 1202.5819370374006, 115.92768849987212, 1239.4693183635823, 195.2478689402296], [75, 482.3205125172465, -0.0837191568119664, 508.7507698585807, 67.17558226857436], [77, 376.4874668461669, 13.261584486244722, 408.91110720038836, 81.36655324256793], [105, 706.0421323159605, 122.47641998596349, 745.3053216047693, 219.62298364511332], [117, 784.2879654060496, 328.9144750854624, 831.4434202024069, 427.21586974852255], [120, 602.0413139891859, 176.26159708701815, 639.2461697989216, 273.806179582074], [125, 454.60092248909655, 18.529652118812116, 487.82624693558273, 108.3046494013567], [131, 343.14188257556464, 598.9500581389517, 408.3350602427994, 719.139645412797], [133, 324.2420041117414, 465.96081281651993, 381.55790452573984, 581.4865527804134], [135, 684.5933582943044, 204.93665928570454, 713.022781623565, 294.4651816169946], [142, 825.7867589630469, 198.43286810822346, 870.1479477598207, 304.0523174435981], [145, 460.32176453244836, 263.40388248955264, 509.1173501092824, 386.93191415425144], [152, 625.7861301405093, -0.0016769066131203658, 659.3666937023771, 79.21175725011179], [153, 1231.6120259752338, 112.86452111053936, 1270.051758248339, 205.65005015417728], [162, 488.1266759638119, 592.4167326394635, 584.0897971608058, 719.9992716750196]]\n"
          ]
        },
        {
          "output_type": "stream",
          "name": "stderr",
          "text": [
            "0: 384x640 26 persons, 3 birds, 268.0ms\n",
            "Speed: 8.6ms preprocess, 268.0ms inference, 1.9ms postprocess per image at shape (1, 3, 640, 640)\n",
            "\n"
          ]
        },
        {
          "output_type": "stream",
          "name": "stdout",
          "text": [
            "[<deep_sort.deep_sort.detection.Detection object at 0x7f003548ace0>, <deep_sort.deep_sort.detection.Detection object at 0x7f003548aec0>]\n",
            "<class 'list'> class\n",
            "[[5, 649.2785979789776, 386.58520673918144, 705.5406836538674, 507.9614199666567], [20, 1008.5420081042267, 66.15318389865863, 1047.186434433006, 158.41382635822538], [36, 919.8278260246437, 13.999374144423484, 945.1627552854325, 103.01717923048776], [60, 616.5462417163218, 506.01763743859146, 678.7344788771054, 631.6023245777717], [61, 1204.048432540867, 116.89560074768805, 1240.3815179766664, 195.87922582299194], [75, 482.45502413516897, -0.2203524275165023, 508.654258493747, 66.45352187814659], [77, 377.68813357779834, 12.478962264970242, 410.79064092145177, 81.87596410648894], [105, 708.6534759703511, 122.41756368263954, 747.6256844845161, 218.80098076189955], [117, 785.3575100773304, 331.12411947605375, 832.0498812793014, 428.06674747191647], [120, 601.3705152190593, 177.2712509003697, 639.1712194509438, 276.4109698150445], [125, 454.5453683777292, 17.132208741138513, 486.9970378744867, 105.12927108538676], [131, 343.6894315582236, 603.4065575565413, 406.5419763183977, 719.2501529269329], [133, 323.8184613758206, 470.4601591895381, 378.14278580562734, 579.5234585617055], [135, 684.8539546136138, 203.05119871958362, 713.5627441238373, 294.12013363251583], [142, 825.4116702693995, 197.43898748539476, 869.7880955737122, 303.987819439678], [145, 459.64995727542464, 261.82132429506413, 508.00059478221283, 384.51699613193625], [152, 625.226257896373, -0.001485046188896888, 659.4047198834662, 79.88347448531337], [153, 1231.681431145978, 115.79431304921161, 1269.8106524533962, 206.96528863435583], [162, 487.2860749685899, 588.2938165062798, 582.7766766877569, 720.005500259462]]\n"
          ]
        },
        {
          "output_type": "stream",
          "name": "stderr",
          "text": [
            "0: 384x640 28 persons, 3 birds, 1 handbag, 293.6ms\n",
            "Speed: 7.1ms preprocess, 293.6ms inference, 2.0ms postprocess per image at shape (1, 3, 640, 640)\n",
            "\n"
          ]
        },
        {
          "output_type": "stream",
          "name": "stdout",
          "text": [
            "[<deep_sort.deep_sort.detection.Detection object at 0x7f01681662c0>, <deep_sort.deep_sort.detection.Detection object at 0x7f003548bca0>]\n",
            "<class 'list'> class\n",
            "[[5, 649.3315836223406, 388.93114784820403, 706.1414210886438, 510.5707340785317], [20, 1007.4965009339741, 64.99186105961903, 1045.8999368229643, 157.03244067793776], [36, 919.8479334666273, 13.999528321428961, 945.1449695607387, 103.01305174889197], [60, 617.7274877101266, 508.3337876853882, 678.6695480958455, 630.7934486092536], [61, 1204.2553288707068, 117.89260083745975, 1240.3453939176186, 197.43097109335739], [77, 378.9420185108129, 12.829347804065023, 411.877957550744, 82.06072590016693], [105, 708.7895969922594, 120.4545544847845, 747.3752495078429, 216.55090135943615], [117, 786.8822559328856, 332.52380912933364, 833.1214415421038, 428.2754597329314], [120, 601.0173088210496, 177.59901857104137, 639.229279958729, 277.34870878890246], [122, 799.3425411557266, 36.216086949722545, 835.5987516527301, 110.60879316541272], [125, 454.93105846583944, 15.3228026680925, 486.9305863123539, 102.63473471789058], [131, 343.01736148309516, 606.9323657041319, 404.08787055387575, 719.1746987104734], [133, 323.4032522979648, 473.25095497477525, 377.761599601177, 582.3819820692214], [135, 684.6415835801403, 201.74528739434624, 713.4279430356169, 294.05869739704156], [142, 825.0940324359931, 195.8263571624889, 869.181675314098, 302.72797674235073], [145, 459.37918433893384, 259.318643189795, 506.95114638828977, 380.35739117508814], [152, 624.3972203947478, -0.0013227969138966955, 659.2933324658034, 80.77769998275679], [153, 1232.005411434316, 118.2135709806191, 1270.0466096045154, 208.07529088116823], [161, 57.078849203521024, 494.75611483441406, 126.24871355195057, 607.5017421972268], [162, 488.1238288798462, 584.2326384157919, 581.7323314211591, 718.0985541690487]]\n"
          ]
        },
        {
          "output_type": "stream",
          "name": "stderr",
          "text": [
            "0: 384x640 28 persons, 2 birds, 1 backpack, 280.2ms\n",
            "Speed: 2.6ms preprocess, 280.2ms inference, 2.0ms postprocess per image at shape (1, 3, 640, 640)\n",
            "\n"
          ]
        },
        {
          "output_type": "stream",
          "name": "stdout",
          "text": [
            "[<deep_sort.deep_sort.detection.Detection object at 0x7f003c922500>, <deep_sort.deep_sort.detection.Detection object at 0x7f003548aec0>]\n",
            "<class 'list'> class\n",
            "[[5, 648.8074541035667, 390.38826606419013, 708.1799050515096, 517.4534478433328], [20, 1007.6693939022222, 63.937982814242595, 1045.5733344433922, 155.2389549655635], [36, 919.8646878810802, 13.9995953970894, 945.1292250346995, 103.01124253168737], [60, 618.0882881044599, 511.08048073287375, 678.727107373268, 632.3880868172935], [61, 1204.5864253423551, 118.89891465110983, 1240.6934801525701, 199.3185147982653], [77, 380.75164483267406, 12.89147084994115, 413.79462099699305, 82.34806474706807], [105, 710.590011981324, 119.09666317939627, 749.4979875587997, 215.75140319722925], [117, 789.2460947760203, 334.28237244790483, 834.3597018863762, 427.58676178200517], [120, 601.5021229359417, 178.9815064906377, 639.9398949763927, 278.3013506335074], [122, 799.7244270240203, 33.05970433062644, 836.4839411518951, 109.95167124184619], [125, 455.05867238687694, 14.691195222470455, 486.25665089454645, 99.76015865482941], [131, 342.9165165269786, 610.1080690635953, 402.40717848361203, 719.0499582123039], [132, 27.7904540042478, 80.93833054306754, 64.99511283338947, 164.91626074611696], [135, 684.4658068256299, 200.65826041254013, 713.4797965910109, 294.1036705468968], [142, 824.5761795207388, 193.9715465736709, 868.0474879394313, 299.6852303575393], [145, 459.5994958962634, 257.78623072296, 505.5967951943243, 374.87238841559235], [150, 133.38795551587512, 51.01710214866099, 175.79304930722034, 137.15522236928177], [152, 623.0664978506338, -0.0011797920898786174, 658.8797339037583, 82.40962631800625], [153, 1232.6839831505602, 119.75133602146752, 1270.8780220092856, 208.44439007774707], [161, 59.31409750825172, 496.44750002093747, 128.00131925818027, 608.7425325841555], [162, 489.0448121540495, 580.8354936176994, 580.106303732707, 715.4197352285698]]\n"
          ]
        },
        {
          "output_type": "stream",
          "name": "stderr",
          "text": [
            "0: 384x640 29 persons, 2 birds, 1 handbag, 206.5ms\n",
            "Speed: 14.6ms preprocess, 206.5ms inference, 1.4ms postprocess per image at shape (1, 3, 640, 640)\n",
            "\n"
          ]
        },
        {
          "output_type": "stream",
          "name": "stdout",
          "text": [
            "[<deep_sort.deep_sort.detection.Detection object at 0x7f01681662c0>, <deep_sort.deep_sort.detection.Detection object at 0x7f003548bca0>]\n",
            "<class 'list'> class\n",
            "[[5, 647.8229929087539, 392.83414463172414, 709.0402231717568, 523.8723032028239], [20, 1007.3880505290625, 62.92471862949148, 1044.534270848562, 152.62576031695158], [36, 919.8792971132261, 13.999645592555275, 945.11537123134, 103.00986628356108], [60, 617.2843549156237, 512.6542348870358, 679.6832430152801, 637.5663449038534], [61, 1204.939611418194, 119.24803427492802, 1241.2118501712578, 200.66742756870875], [77, 382.7037078827263, 12.989596774875046, 414.5815710175575, 82.14244347267851], [105, 711.7251920933671, 117.30843563163592, 750.4854966903608, 213.51624875011782], [117, 791.2916256011727, 335.5093836355858, 835.6354616366615, 427.21995526319483], [120, 601.5836056543114, 180.7730069833773, 640.3079689991575, 279.9219816396969], [122, 800.4308173049508, 31.82798287452465, 837.423069662875, 109.20677343477499], [125, 455.66242272488216, 13.171582319513881, 486.7820144992596, 98.07213727587231], [131, 341.9252484415282, 613.1550440264704, 400.7617818841215, 720.2738949290774], [132, 27.50844746603761, 81.24563323395108, 64.7384263050907, 165.28056371157132], [135, 684.243888478791, 200.30819867188168, 713.0066283026897, 293.5248069972481], [142, 824.0444237512136, 192.02294132823664, 867.3084493779955, 297.2773421244234], [145, 460.3305048378338, 255.9602934848553, 505.1423056640826, 369.5416096822396], [150, 133.2799276591149, 51.747820152631064, 175.6465449237688, 137.80783526715277], [152, 622.35661013965, -0.0010583719262911018, 658.863296235466, 83.66580066996637], [153, 1232.308377996744, 120.2871301126837, 1271.1305872958442, 207.87121811275546], [161, 61.576683276426124, 499.008224341287, 130.33933415056373, 611.4258092355429], [162, 490.25773910636957, 577.7052965192438, 577.9881198071225, 711.1497668539217]]\n"
          ]
        },
        {
          "output_type": "stream",
          "name": "stderr",
          "text": [
            "0: 384x640 31 persons, 1 handbag, 206.2ms\n",
            "Speed: 14.7ms preprocess, 206.2ms inference, 1.4ms postprocess per image at shape (1, 3, 640, 640)\n",
            "\n"
          ]
        },
        {
          "output_type": "stream",
          "name": "stdout",
          "text": [
            "[<deep_sort.deep_sort.detection.Detection object at 0x7f003548b9a0>, <deep_sort.deep_sort.detection.Detection object at 0x7f00354f5f00>]\n",
            "<class 'list'> class\n",
            "[[5, 647.6470944920043, 396.9522902434737, 710.415173121516, 532.1133732736344], [20, 1005.6692839458332, 60.592125847318705, 1043.1512031018162, 151.03664027428903], [36, 919.8921761895772, 13.999688281598246, 945.103134463084, 103.00868504048725], [60, 616.7575118731976, 519.0787539561361, 682.8942101016102, 652.5630294254777], [61, 1204.845922619259, 121.32478729100376, 1240.9347773197278, 203.12607292813243], [77, 385.8169762517377, 12.34306467511572, 416.5040472827198, 80.77355011451647], [105, 712.4201804612434, 114.69372401788482, 749.9076613646038, 207.42382278360088], [117, 791.8947507559187, 338.55091609115397, 836.884573790053, 431.6839483235147], [120, 600.9050796969677, 184.69881792461294, 640.4868440269768, 285.7595811980379], [125, 455.50633441490925, 12.651267127385523, 486.68773382324594, 97.50191059521968], [131, 341.43229586995324, 618.8628086217726, 398.31732955772566, 720.6482103733894], [132, 27.60593526891319, 81.90661798097759, 64.33310998990734, 165.13469870572504], [133, 321.2031823652671, 479.288052398433, 374.2113993114687, 585.6541606457178], [135, 684.0370046982172, 197.60607127378483, 712.9570756714692, 292.04621446443934], [142, 824.0619006347521, 188.71567789273243, 866.1743813180257, 290.489048807648], [145, 461.06235031958806, 252.00421933846047, 505.21728664279374, 363.63229437895103], [152, 622.6508746805085, 0.6504351582612813, 659.5369427805026, 85.42885368286875], [153, 1234.6205969452344, 120.44451270098426, 1274.0632341020005, 207.6120948517118], [161, 62.96868218733078, 499.56794822403367, 130.80877865774306, 610.1295267590397], [162, 492.91386015632355, 571.4330353607072, 574.9968283808976, 699.1019316553542]]\n"
          ]
        },
        {
          "output_type": "stream",
          "name": "stderr",
          "text": [
            "0: 384x640 31 persons, 206.6ms\n",
            "Speed: 13.9ms preprocess, 206.6ms inference, 1.4ms postprocess per image at shape (1, 3, 640, 640)\n",
            "\n"
          ]
        },
        {
          "output_type": "stream",
          "name": "stdout",
          "text": [
            "[<deep_sort.deep_sort.detection.Detection object at 0x7f00354f6bc0>, <deep_sort.deep_sort.detection.Detection object at 0x7f00354f5060>]\n",
            "<class 'list'> class\n",
            "[[5, 648.2938660969046, 400.41066622722826, 710.8346001245468, 535.840468022669], [20, 1004.9305153940841, 59.105260194988446, 1042.7907253541528, 150.49687835294998], [36, 919.9035908667839, 13.999725487279761, 945.0922795295595, 103.00765118751258], [60, 617.2215744334906, 523.3718065986566, 684.725504356825, 660.7255055017671], [61, 1205.1275096532033, 123.40114518646888, 1240.4687139241682, 204.02960284276895], [77, 388.05915894226, 12.776209298538582, 417.9727208367976, 80.94701204454512], [86, 1175.5401903109441, 221.0453010486008, 1226.665279314677, 325.3538387490449], [105, 712.6871788190376, 111.75178471733514, 750.3181414387793, 204.51080968507668], [117, 792.2096180751481, 341.5904139174309, 837.8713219374748, 436.5765596627993], [120, 600.7880501403522, 186.78286070425443, 641.0639928495473, 289.21202891611665], [125, 455.4219230072809, 12.502175298528712, 486.673689744314, 97.34707338510107], [131, 341.7685151377495, 623.5283174759941, 396.9733580262676, 720.6922034525765], [132, 28.16832447757581, 82.75927911337499, 64.32648408892707, 165.14385069007807], [133, 320.6894823201291, 481.2617718220923, 372.7072273248435, 585.2233184881353], [135, 684.4756468585581, 195.98312183496284, 713.0864052978978, 289.56695833202275], [142, 823.7496650167668, 185.54610894945318, 865.4256328156586, 285.3315950212622], [145, 461.46300211837064, 248.6132577556973, 505.8079747870653, 360.8932305636721], [150, 133.24501054356085, 55.60261827438108, 176.52963982373205, 143.30413526301336], [152, 623.0144790489651, 2.2036382594882795, 659.4982156381767, 86.08115587726823], [153, 1235.6361078007244, 120.4651928899171, 1275.6419164007175, 207.48067672732105], [161, 63.478571197166254, 501.2961400485865, 132.514199851654, 613.4892253841301], [162, 494.4292113009887, 567.1909015762823, 571.3913010600352, 689.1567278984938]]\n"
          ]
        },
        {
          "output_type": "stream",
          "name": "stderr",
          "text": [
            "0: 384x640 31 persons, 210.1ms\n",
            "Speed: 9.3ms preprocess, 210.1ms inference, 1.4ms postprocess per image at shape (1, 3, 640, 640)\n",
            "\n"
          ]
        },
        {
          "output_type": "stream",
          "name": "stdout",
          "text": [
            "[<deep_sort.deep_sort.detection.Detection object at 0x7f00354f5f00>, <deep_sort.deep_sort.detection.Detection object at 0x7f00354f74f0>]\n",
            "<class 'list'> class\n",
            "[[5, 649.143556355745, 403.6164210344802, 711.6511450863452, 539.7586223993554], [20, 1004.6840176391851, 57.93225102955973, 1042.6823041146567, 149.68832874004312], [36, 919.9137464485979, 13.99975812129788, 945.0826148890943, 103.0067426807336], [60, 617.4089525322803, 526.8757820210878, 684.1334268832486, 663.7779254820792], [61, 1205.3958543766466, 124.81382369998562, 1240.0877995062808, 204.33089584656335], [77, 390.06657841925545, 12.937490669940345, 419.20362526802694, 80.34740620766989], [86, 1176.05856672633, 222.1576789058377, 1226.878704063818, 324.74239676913885], [105, 712.4710291856858, 110.72173558167427, 750.095820276416, 202.839708942532], [117, 792.8945834248485, 343.97393591727814, 839.5986131971307, 441.633800715875], [120, 600.3103526299573, 188.1722197760078, 641.0561639376813, 291.76797289988576], [125, 455.3672166286895, 12.489119207976124, 486.6881244626568, 97.34365125158209], [131, 341.08210931136176, 625.0272946854158, 396.6827192809267, 720.6378699625227], [132, 28.001117609805895, 83.05236099994802, 64.03106835343127, 165.14117897033077], [133, 320.07483390898767, 483.25170673441096, 371.9864174593307, 586.4206502263111], [135, 684.6630624221211, 194.1124827986095, 713.1278168890827, 287.3576197283657], [142, 823.3761818200547, 183.1184948024058, 864.7657136940904, 281.5182705013416], [145, 461.51814463204596, 246.77349332044662, 506.13178908045995, 359.9836641776717], [150, 133.3339506040955, 56.86242026232923, 176.55547975722868, 144.1184331751674], [152, 623.2341339209072, 3.458211838435915, 659.3479299338654, 86.95543036122301], [153, 1235.4465796617264, 120.4379045882515, 1276.0950094108152, 207.4010266696252], [161, 63.61809908432248, 503.858630234648, 135.7518106087133, 621.2366985210704], [162, 495.58109817199727, 564.4305291821214, 569.4752819624395, 683.4945968233061]]\n"
          ]
        },
        {
          "output_type": "stream",
          "name": "stderr",
          "text": [
            "0: 384x640 31 persons, 1 handbag, 201.4ms\n",
            "Speed: 6.8ms preprocess, 201.4ms inference, 1.5ms postprocess per image at shape (1, 3, 640, 640)\n",
            "\n"
          ]
        },
        {
          "output_type": "stream",
          "name": "stdout",
          "text": [
            "[<deep_sort.deep_sort.detection.Detection object at 0x7f00354f7280>, <deep_sort.deep_sort.detection.Detection object at 0x7f00354f5c90>]\n",
            "<class 'list'> class\n",
            "[[5, 649.9232998694496, 406.05928437359375, 712.115661592496, 542.4385924795625], [20, 1003.7769088122126, 56.21844928446609, 1041.535964923115, 148.1166545093428], [36, 919.9228091743748, 13.999786817955851, 945.07398386248, 103.00594313430416], [60, 618.3854788555136, 528.7516693701242, 685.5891524897347, 668.0398870452696], [61, 1205.1746720990159, 124.63569728984332, 1240.2338611685118, 205.07143791791702], [77, 391.7062250667758, 13.660597172485254, 420.6227294312881, 80.78247646892252], [86, 1175.8567928011475, 223.20275586982643, 1227.315652735335, 326.60499453601767], [105, 712.1372382754082, 110.39968195379655, 749.5722622025291, 201.62821821423836], [117, 794.4925676034459, 347.4143012823384, 840.827802354368, 444.7794831949071], [120, 600.1241664242237, 189.94945310759329, 641.0495269819572, 293.97593028232035], [125, 455.221361475639, 11.859758882806162, 486.8162927380388, 97.3912677512283], [131, 340.95789990172995, 626.1086219943384, 397.1965034966377, 720.5726762859982], [132, 27.94502680861347, 83.14675094927853, 63.92999707963816, 165.1302406265246], [133, 319.58474603609324, 485.69910419617383, 371.25236790351516, 588.3824896182167], [135, 685.4719512184954, 192.80905289355252, 713.0720974066744, 283.279186044844], [142, 822.8840099242269, 180.9679492354417, 864.2358593391172, 278.8786507446741], [145, 462.3931904214887, 246.16966046787522, 506.07266972559967, 357.09886285395214], [150, 133.06996313327136, 57.28856853962025, 176.8610364502833, 145.71765968320875], [152, 623.4748497793508, 4.582828682307557, 659.0905669694724, 87.25745408643695], [153, 1234.7939149686767, 121.05896651105812, 1276.1336874160083, 208.00716241373675], [161, 63.90517679447597, 506.7105292761489, 138.58224712373325, 628.6126879574915], [162, 495.04092892503894, 560.8840965883412, 567.7548697623936, 680.1682897933082]]\n"
          ]
        },
        {
          "output_type": "stream",
          "name": "stderr",
          "text": [
            "0: 384x640 29 persons, 1 handbag, 188.3ms\n",
            "Speed: 5.8ms preprocess, 188.3ms inference, 1.5ms postprocess per image at shape (1, 3, 640, 640)\n",
            "\n"
          ]
        },
        {
          "output_type": "stream",
          "name": "stdout",
          "text": [
            "[<deep_sort.deep_sort.detection.Detection object at 0x7f00354f74f0>, <deep_sort.deep_sort.detection.Detection object at 0x7f00354f7340>]\n",
            "<class 'list'> class\n",
            "[[5, 651.5302849544568, 409.51822781348864, 713.5557361509293, 545.9528774832033], [20, 1002.6465194082598, 54.959936983861624, 1040.625195253746, 148.23458114619478], [36, 919.9309163748147, 13.99981208333395, 945.0662567391082, 103.0052389384789], [60, 618.9395340652148, 532.6186392110553, 685.9418577093319, 672.7799312003053], [61, 1205.5296009248857, 123.87784004335867, 1241.1486131115319, 205.31923310146897], [77, 394.5472615906053, 13.928659181790572, 423.43069913183626, 80.94472446220297], [86, 1175.3356207833688, 224.20645553107067, 1227.9058178743235, 329.9121516158185], [105, 711.835332665725, 109.67346006720764, 749.5319095170382, 201.25438247152368], [117, 795.6499117623922, 350.61437804795503, 841.3523103167391, 447.1896000556071], [120, 600.0513676763504, 191.22053006971356, 641.0434722649086, 295.3933086557908], [125, 455.15775786400155, 11.655611522940099, 486.87132230706834, 97.44895382594495], [131, 341.71371734732134, 629.7590584515319, 397.3168750344303, 720.5031902178426], [132, 27.7863052872974, 83.49854807157467, 63.71234330948502, 165.34774967364703], [133, 317.95060560411093, 488.03120040145717, 371.9669701530281, 595.5825443221923], [135, 685.874263293392, 191.0577782911258, 712.9618201876781, 279.80304289671705], [142, 822.6666871443784, 178.92026304176846, 864.1044554842842, 276.6749494690516], [145, 463.06456319372035, 244.70976044239669, 507.0598124276833, 356.80422518968726], [150, 133.36933728059032, 58.07611340690423, 177.2384019361137, 146.93842099539734], [152, 622.9251142124468, 4.996262390228971, 658.2708290876268, 87.34048548868566], [153, 1234.6070553193279, 121.92664812141027, 1276.0445050289518, 207.5489477465449], [161, 64.16487353611046, 510.3217757275361, 140.6883249573479, 635.8923328832955], [162, 493.7424792071178, 558.3695722161634, 566.2517028551867, 679.6971654258676]]\n"
          ]
        },
        {
          "output_type": "stream",
          "name": "stderr",
          "text": [
            "0: 384x640 27 persons, 1 skis, 212.0ms\n",
            "Speed: 11.8ms preprocess, 212.0ms inference, 1.4ms postprocess per image at shape (1, 3, 640, 640)\n",
            "\n"
          ]
        },
        {
          "output_type": "stream",
          "name": "stdout",
          "text": [
            "[<deep_sort.deep_sort.detection.Detection object at 0x7f01681662c0>, <deep_sort.deep_sort.detection.Detection object at 0x7f00354f5210>]\n",
            "<class 'list'> class\n",
            "[[5, 653.5905197342015, 413.3659704827895, 714.5756609653066, 547.8204416339474], [20, 1001.4215046081149, 53.873685695487886, 1039.1624366730894, 147.0094875428382], [36, 919.9381831337798, 13.999834341633353, 945.059324819183, 103.00461845889609], [60, 620.9353072915242, 537.2520084754741, 687.533126859858, 677.0523549388394], [61, 1207.5321246215738, 123.55860206774864, 1244.207051343407, 206.69782619276205], [77, 398.84227380896976, 14.024305947845214, 428.4054186476032, 81.00350107424947], [86, 1174.8757392402051, 225.85392959583646, 1229.0330664717526, 335.0682361508361], [105, 710.834851314779, 107.46067515606171, 749.7285216326551, 201.84325358296223], [117, 796.0190332715632, 353.051069782404, 842.8751000414715, 452.6181160628137], [120, 599.7421284252977, 192.9547852369026, 640.6619586642911, 297.1654583854103], [125, 454.7071264283681, 8.308862371393914, 487.3168862245277, 96.84881286499038], [131, 341.8884750727361, 633.6758433239515, 396.83692817851625, 719.7398595185796], [133, 315.4243337948584, 493.49192358168204, 372.15030367902483, 606.7213340987236], [135, 685.7238370181132, 187.1297938505296, 712.5528272514109, 274.578121943082], [142, 821.4051732704627, 176.24426777552156, 863.9345949402992, 276.62958442470125], [145, 463.0731068140741, 242.9093889100246, 508.3258460034384, 358.7637495241869], [150, 133.38104161539493, 59.65715080638501, 176.82761575675352, 148.01828344112255], [152, 621.7223108005281, 5.797321332642568, 656.9427057065111, 87.34457698694483], [153, 1236.333940097561, 122.88873576278984, 1278.1671274450111, 209.3477902807868], [161, 65.64578970185275, 512.8190633673416, 142.97453100126387, 639.7102108805814], [162, 491.409434616684, 554.2614285950751, 564.9311496824122, 679.6197221228791]]\n"
          ]
        },
        {
          "output_type": "stream",
          "name": "stderr",
          "text": [
            "0: 384x640 26 persons, 5 birds, 1 skis, 212.9ms\n",
            "Speed: 3.7ms preprocess, 212.9ms inference, 1.4ms postprocess per image at shape (1, 3, 640, 640)\n",
            "\n"
          ]
        },
        {
          "output_type": "stream",
          "name": "stdout",
          "text": [
            "[<deep_sort.deep_sort.detection.Detection object at 0x7f0168166e30>, <deep_sort.deep_sort.detection.Detection object at 0x7f00354f4e50>]\n",
            "<class 'list'> class\n",
            "[[5, 654.9532007586689, 415.38276223207225, 715.646592119919, 549.0483113356099], [20, 1000.1652528448902, 52.85424176430322, 1038.1386464455097, 146.59162680671218], [36, 919.9447070476332, 13.999853957090501, 945.0530959866885, 103.00407161471648], [60, 622.9596988694167, 539.5579788100191, 688.8231882757211, 677.864030338667], [61, 1208.6922393622847, 124.0676077198319, 1245.5923565921348, 207.19322076372933], [77, 401.1437551015076, 14.71709332973878, 431.42420122374807, 81.68536972186286], [86, 1174.8596474842677, 227.7411466748307, 1228.631636719546, 336.3188253882447], [105, 710.4442500407152, 106.01794824631847, 749.8117882654956, 201.4530350296002], [117, 797.2199777287613, 354.5490440122049, 843.6414282873808, 453.92109451505644], [120, 599.3831016333527, 194.20932295703426, 640.0981793175079, 297.76031907136723], [125, 455.04747077082493, 7.079153189070375, 487.6262619857599, 95.99546713669687], [131, 342.11687430360377, 637.6857754476894, 396.5447382021351, 719.4239195325831], [133, 314.5838584316612, 496.25795222355265, 371.67462722919976, 610.2148232157083], [135, 685.5420942464444, 185.07220986848316, 712.5277805160779, 272.7249422669655], [142, 821.7288917602186, 175.31486186266594, 864.417651520734, 276.03203120558805], [145, 463.3034595786888, 242.29198778524162, 509.2228086474876, 360.2159856608118], [150, 133.42753149859743, 60.21939020474129, 176.62946601735464, 148.3821608638733], [152, 620.9562010090115, 5.420977027024584, 656.7250092501599, 87.98162681696468], [153, 1237.5784776637934, 124.54348395637115, 1279.6414282230487, 211.98019382859394], [162, 490.0645706101872, 550.8596850272975, 564.2721239046258, 679.6735775846432]]\n"
          ]
        },
        {
          "output_type": "stream",
          "name": "stderr",
          "text": [
            "0: 384x640 23 persons, 4 birds, 1 skis, 219.9ms\n",
            "Speed: 8.2ms preprocess, 219.9ms inference, 1.4ms postprocess per image at shape (1, 3, 640, 640)\n",
            "\n"
          ]
        },
        {
          "output_type": "stream",
          "name": "stdout",
          "text": [
            "[<deep_sort.deep_sort.detection.Detection object at 0x7f00354f63e0>, <deep_sort.deep_sort.detection.Detection object at 0x7f00354f74f0>]\n",
            "<class 'list'> class\n",
            "[[5, 655.3256816787991, 416.0401335924903, 716.1277026364048, 549.3914531237108], [20, 999.557892836265, 52.51536613241152, 1037.2878839415732, 145.81807205771403], [36, 919.950571726768, 13.999871246459271, 945.0474913966485, 103.00358960339341], [60, 624.6533276711579, 541.6197260354281, 689.67052061262, 677.9985540161247], [61, 1209.5831526275686, 124.89434432263671, 1246.2868026887538, 206.68914890443972], [77, 402.39634637193706, 14.972123580327846, 433.3257595040794, 81.93904824619239], [86, 1174.9957131856606, 229.06579579372016, 1228.3089592846397, 336.7138318631641], [105, 710.2800936780292, 105.52157969778423, 749.8509059857672, 201.36100824994156], [117, 797.8723595768332, 356.331290493523, 843.6749218929308, 454.9483368826165], [120, 599.5788018964361, 193.9601058080397, 640.8721929032154, 298.56501296775775], [125, 455.1208452471573, 5.337283704829446, 487.80212448855286, 95.04618375398057], [131, 342.6797343343055, 640.3310959435817, 397.3880330764448, 719.283519759392], [133, 314.58224876193657, 499.0055573879865, 373.4774171538113, 617.7736905673883], [135, 685.0683930575266, 183.71290925903926, 712.2625527231786, 271.45769089265207], [142, 821.0831609224954, 174.3947896645885, 864.0861370369424, 275.90818691037504], [145, 462.7846370030983, 240.8209777191762, 508.85603030510333, 358.8833192218774], [150, 133.61671014464122, 61.055222196222246, 176.3847973643977, 148.47748618175484], [152, 620.7576239921871, 5.924472228155523, 656.5457382111533, 88.20078808554614], [153, 1237.0647462380443, 125.7983777028296, 1279.8191471710734, 214.92507062539158], [161, 73.67864573298533, 523.7781442935006, 148.15746432915637, 647.0588227588204], [162, 488.97117663345904, 548.3778793065671, 563.3416852638172, 679.7809686010851]]\n"
          ]
        },
        {
          "output_type": "stream",
          "name": "stderr",
          "text": [
            "0: 384x640 24 persons, 4 birds, 1 skis, 185.5ms\n",
            "Speed: 2.8ms preprocess, 185.5ms inference, 1.5ms postprocess per image at shape (1, 3, 640, 640)\n",
            "\n"
          ]
        },
        {
          "output_type": "stream",
          "name": "stdout",
          "text": [
            "[<deep_sort.deep_sort.detection.Detection object at 0x7f003548bca0>, <deep_sort.deep_sort.detection.Detection object at 0x7f003548b9a0>]\n",
            "<class 'list'> class\n",
            "[[5, 656.0059549820986, 417.5102540772592, 716.3654139423691, 549.4087379592966], [20, 999.1172388063562, 52.43779215374662, 1036.58491596685, 144.9090326518506], [36, 919.6739183956086, 13.999886487022948, 944.663561828364, 103.00316470529997], [54, 665.6966986995006, 13.971141890443313, 690.8638323582102, 84.93579480685136], [60, 625.6748392868011, 542.9313736197097, 690.2219477701227, 677.8910374709835], [61, 1210.457537211675, 125.18175439087702, 1247.2835264520443, 206.46184107259757], [77, 402.8600783731893, 15.06043762170573, 434.5375125071288, 82.69109515533762], [86, 1175.7209974601406, 230.17015730502868, 1228.1594732310784, 335.46581359068705], [105, 709.9249837128789, 105.38720996581878, 749.4955376995117, 201.3767813272056], [117, 798.7166813386925, 358.8918130238184, 843.0220226677461, 453.9053832849742], [120, 599.8324362000096, 195.12851798217534, 640.9854423755307, 298.80630964413433], [125, 455.98335203312917, 4.715167816439383, 487.68639363669894, 92.09304986715841], [131, 342.58960989555385, 643.1918653319492, 397.99543887279856, 719.9071143379649], [132, 27.015687748044403, 84.07631972345325, 62.98373483662216, 166.01835120441243], [133, 313.7972949154474, 501.76977702214623, 373.2523111163174, 621.6663605990217], [135, 684.4698663018962, 183.27793072203946, 711.9238109893771, 271.7369546931184], [142, 821.01917401218, 172.80500695940063, 864.4642106688245, 275.28269819821446], [145, 463.7463198681525, 239.01597992379283, 510.17244739984557, 358.43638776276555], [150, 133.5920207101707, 61.986976734842315, 176.35661537862373, 149.4022187653909], [152, 619.7370359718117, 5.440943295792195, 656.0928438421628, 88.91966555682207], [153, 1237.0900897995557, 125.58821916220255, 1280.9324385545606, 217.97472633839556], [161, 76.98806067374687, 526.2531206839892, 150.4192317985665, 648.894014457813], [162, 488.62628431391596, 545.6019063359663, 562.9561808912622, 679.2521762852036]]\n"
          ]
        },
        {
          "output_type": "stream",
          "name": "stderr",
          "text": [
            "0: 384x640 24 persons, 5 birds, 1 skis, 204.8ms\n",
            "Speed: 12.8ms preprocess, 204.8ms inference, 1.4ms postprocess per image at shape (1, 3, 640, 640)\n",
            "\n"
          ]
        },
        {
          "output_type": "stream",
          "name": "stdout",
          "text": [
            "[<deep_sort.deep_sort.detection.Detection object at 0x7f0168166e30>, <deep_sort.deep_sort.detection.Detection object at 0x7f003548b850>]\n",
            "<class 'list'> class\n",
            "[[5, 656.8137093467011, 419.29110275865196, 716.5004193308556, 549.3022049513665], [20, 997.4120438372387, 51.12995601972995, 1035.2772303091572, 144.6091599212952], [36, 919.5979357161593, 13.999899922322477, 944.4909074439875, 103.00279013479945], [54, 667.4268812669292, 14.811164796531003, 692.5683931112105, 85.82237458757461], [60, 627.4300655411143, 545.2929846162721, 690.9929369181103, 677.7150139129826], [61, 1210.7947457063574, 126.59082082317379, 1247.5961911976526, 207.01504864276694], [77, 403.74651587195984, 14.427620186827966, 436.10678127628125, 82.96804717298058], [86, 1176.334633406504, 231.19023496228246, 1227.747807542151, 333.5898265380048], [105, 709.8060274805848, 104.72687191837052, 749.3416579425326, 200.7684426264131], [117, 799.8927372403544, 361.08762876353904, 843.1769007517286, 453.3781223542471], [120, 600.0971978837574, 196.8360126411747, 640.8599683942302, 298.8223162460783], [125, 456.4499951297511, 3.8683054293280748, 487.50078464516986, 89.6720133502706], [131, 343.1831973920667, 648.2031963879014, 397.60081593021545, 720.1086603936519], [132, 26.84437902342125, 84.35084968626253, 62.77925285316607, 166.21728123455267], [135, 683.7707704377606, 181.8580208134467, 711.6167416761753, 271.2579586896095], [142, 820.9978421753691, 171.61652868988625, 864.6284537116006, 274.4600478454277], [145, 464.2636482866188, 237.0821239067251, 510.5085248211751, 356.3515572197457], [150, 134.09686209878598, 62.20088594359877, 176.6616904149676, 148.50880146454148], [152, 619.7171493765743, 5.247712210793587, 656.2118392278668, 89.1716141775623], [153, 1237.693673843101, 124.18416275525796, 1282.0255296904345, 219.09977331721205], [161, 78.93138774720967, 528.4148148974535, 151.01770148726843, 648.8562637021932], [162, 488.39028728928986, 543.356347274689, 562.314283604131, 679.1163781741866]]\n"
          ]
        },
        {
          "output_type": "stream",
          "name": "stderr",
          "text": [
            "0: 384x640 23 persons, 2 birds, 1 handbag, 1 skis, 223.1ms\n",
            "Speed: 2.6ms preprocess, 223.1ms inference, 1.4ms postprocess per image at shape (1, 3, 640, 640)\n",
            "\n"
          ]
        },
        {
          "output_type": "stream",
          "name": "stdout",
          "text": [
            "[<deep_sort.deep_sort.detection.Detection object at 0x7f00354891b0>, <deep_sort.deep_sort.detection.Detection object at 0x7f00354f5de0>]\n",
            "<class 'list'> class\n",
            "[[5, 657.8323274948004, 421.8599118994431, 717.1029507493005, 550.4933615799347], [20, 997.0145042706271, 48.70045386433544, 1034.6028497974548, 141.89779565632944], [36, 919.5961240021192, 13.999911766620315, 944.4019150569399, 103.0024599199385], [54, 671.4756326835442, 15.35587887314172, 696.6385273482421, 86.43117590503948], [60, 628.8829330924312, 551.386058321038, 689.7652050656336, 676.1822632600685], [61, 1211.4538265684057, 127.75997876392682, 1249.1173294522105, 209.85603954681721], [77, 404.2819404442435, 13.524984519463857, 437.01374994841444, 83.06522551689153], [86, 1176.704167495366, 234.19304008963334, 1228.10849830556, 336.1893177288671], [105, 708.8630538267489, 101.88490239490483, 748.8628320793421, 199.91854243076136], [117, 800.3851827129953, 363.14498318873734, 843.7876962015864, 455.1071863426427], [120, 600.2771913472353, 199.4154369723736, 640.0658828028837, 298.76103493890605], [122, 803.7753083712805, 2.455382215941775, 848.3353155275505, 99.05630782674169], [125, 456.74461063322104, 1.597545934721765, 487.30376206899655, 86.14895463172672], [131, 344.75765911639405, 654.0100630556135, 397.51574122130364, 720.1549424703766], [135, 682.8437302095716, 180.06545131294476, 711.5147177533871, 271.8059172248745], [142, 821.3700181910222, 168.60464135177, 864.9908599890554, 271.58451031970094], [145, 465.0992345320949, 232.46599162091277, 511.9563388280258, 353.6378013754436], [150, 134.14732764191052, 63.055860952679346, 176.65063578888115, 149.23906779346274], [152, 619.6049441038991, 5.163227228186479, 656.3632424502413, 89.9026391086538], [153, 1237.6875203362797, 120.37070684350282, 1283.2948337305397, 220.1372138592028], [161, 80.93598826143156, 531.3038777267675, 153.21910441399245, 652.0734297010216], [162, 489.7420957283383, 540.0131909905498, 561.3234531503921, 673.9304353757504]]\n"
          ]
        },
        {
          "output_type": "stream",
          "name": "stderr",
          "text": [
            "0: 384x640 26 persons, 1 bird, 1 handbag, 215.1ms\n",
            "Speed: 4.6ms preprocess, 215.1ms inference, 1.9ms postprocess per image at shape (1, 3, 640, 640)\n",
            "\n"
          ]
        },
        {
          "output_type": "stream",
          "name": "stdout",
          "text": [
            "[<deep_sort.deep_sort.detection.Detection object at 0x7f003548af20>, <deep_sort.deep_sort.detection.Detection object at 0x7f003548ace0>]\n",
            "<class 'list'> class\n",
            "[[5, 657.7317810140614, 424.72643267288265, 717.7504275867711, 554.8480164416433], [20, 997.1716202498454, 47.160390340318244, 1034.1119461159426, 138.92536212452626], [36, 919.6201302932246, 13.999922208581047, 944.3472517798197, 103.00216880142844], [60, 629.4414507797288, 554.200384262664, 689.8856694952823, 676.125850537246], [61, 1212.485180691433, 127.51755412969632, 1251.4844826937783, 212.20655684385542], [77, 405.93299584475295, 13.834006002057926, 437.7389519906742, 82.4390110789096], [86, 1176.5352629786032, 235.24808004954713, 1228.5333714116744, 337.77683799751327], [105, 708.6259280591738, 99.54318211463354, 748.5667213891325, 197.66697922134037], [117, 799.5872527613813, 365.82113789262587, 844.275711632424, 459.6758808234572], [120, 600.9720197176733, 200.320035737361, 640.4757412352768, 299.34408137975265], [122, 804.1595472231663, 0.2149313809046447, 849.3515494977136, 98.18668104012332], [125, 456.9626123460954, 0.12828340143501293, 487.11460048921106, 83.5534739499523], [131, 345.10604776386015, 655.8189664456927, 398.40521538632424, 719.4366072987377], [133, 313.30209457867477, 510.88276855780686, 370.70033446333116, 626.918327814668], [135, 682.47329525402, 178.7874621690872, 711.508136257448, 271.41154376136274], [142, 822.3934967053212, 166.21597803682124, 864.9230434179278, 266.60757068188246], [145, 466.0265824459665, 230.1292502606835, 511.21979025448945, 346.77251407832216], [152, 619.064918772639, 5.12318005741826, 656.2627680487145, 91.47282443818949], [153, 1238.0432199744191, 120.49445903135154, 1284.1729787200493, 221.40253560013298], [162, 491.05729628208275, 536.8943011516722, 560.2109123834756, 668.7038993973581]]\n"
          ]
        },
        {
          "output_type": "stream",
          "name": "stderr",
          "text": [
            "0: 384x640 27 persons, 1 bird, 1 handbag, 270.6ms\n",
            "Speed: 4.1ms preprocess, 270.6ms inference, 2.0ms postprocess per image at shape (1, 3, 640, 640)\n",
            "\n"
          ]
        },
        {
          "output_type": "stream",
          "name": "stdout",
          "text": [
            "[<deep_sort.deep_sort.detection.Detection object at 0x7f01681645b0>, <deep_sort.deep_sort.detection.Detection object at 0x7f013411be50>]\n",
            "<class 'list'> class\n",
            "[[5, 657.4712883558599, 428.35827460366136, 718.8273047293536, 562.3410913258076], [20, 997.1167946374509, 45.96592425574187, 1033.4497101779807, 136.52236520817254], [36, 919.5766222921575, 13.999797795445673, 944.3035580790986, 103.00563740255069], [60, 627.6790214743224, 555.7754958582136, 690.4950853818187, 681.4297040464465], [61, 1213.9900689532003, 128.05455565293676, 1253.8298368125345, 214.37478145795336], [77, 407.33052397803965, 13.291304539121235, 438.41042252135446, 82.18904444599414], [86, 1175.9497889871575, 236.9127342175172, 1229.8636669684643, 342.97106840790894], [105, 708.1704006027529, 96.72639132842158, 748.167160636489, 195.52879872930686], [117, 797.7517847319625, 367.4026416735181, 845.295695185632, 466.58453359605784], [120, 600.6400804775951, 201.26690513994973, 640.5492090423601, 302.1767657064346], [125, 457.14145517030084, -0.3704239888579295, 486.939301495093, 81.97948292013456], [131, 345.4640819466137, 659.099113315144, 398.4560662988709, 719.1863963253518], [133, 313.6238357012073, 513.2187209994077, 370.06848126578444, 627.2989296424033], [135, 681.854092897228, 177.0518753848022, 711.343151649535, 270.6640316853522], [142, 823.1533143723913, 164.06670510598096, 864.5440954369132, 261.46937338217674], [145, 466.30057014768596, 228.6713127947104, 510.31625983794856, 341.53218595539204], [152, 619.1859906436881, 5.754795985464483, 656.5523838694003, 93.35633034217581], [162, 491.62029596103446, 533.2018674755564, 558.4523940858347, 662.1769986000621]]\n"
          ]
        },
        {
          "output_type": "stream",
          "name": "stderr",
          "text": [
            "0: 384x640 26 persons, 1 bird, 1 handbag, 294.8ms\n",
            "Speed: 2.6ms preprocess, 294.8ms inference, 2.0ms postprocess per image at shape (1, 3, 640, 640)\n",
            "\n"
          ]
        },
        {
          "output_type": "stream",
          "name": "stdout",
          "text": [
            "[<deep_sort.deep_sort.detection.Detection object at 0x7f003548aec0>, <deep_sort.deep_sort.detection.Detection object at 0x7f003548bca0>]\n",
            "<class 'list'> class\n",
            "[[5, 657.334046941713, 431.6136380700883, 719.8839353340811, 569.6636009184357], [20, 997.1576799749794, 44.23786730371018, 1033.2024337876846, 134.34743981100314], [36, 919.6526097280442, 13.99992797362522, 944.3017375213249, 103.00200807382436], [60, 625.5097980301949, 558.2582694567482, 691.5605916493835, 689.9072533406254], [61, 1215.1707154931555, 128.8895868746992, 1255.3757415421342, 215.82513264547242], [77, 408.65089299916417, 12.428696870750535, 439.06632040181603, 82.09172604788219], [86, 1174.6939105685806, 237.49250502021005, 1230.0777637707247, 345.5270067693689], [105, 708.5168324056517, 95.05364332710822, 747.5043833599113, 191.4765602665941], [117, 796.4561758595886, 369.8850784290547, 845.6114677224564, 471.71397657352213], [120, 601.1549199361654, 202.23300065145864, 641.252122849119, 304.5096784862566], [125, 457.296401101221, -0.5064849100339401, 486.779113539076, 80.79062993198565], [131, 346.0044630607267, 662.1689141658304, 398.7525660072489, 719.0903736471647], [133, 313.45708426136514, 516.0013307104927, 368.7923700327084, 627.445934731985], [135, 681.6767095328346, 175.79475621869778, 711.2368178913449, 269.1185963420556], [142, 823.4066718388225, 161.34118957280933, 864.4420960401336, 257.6392941280682], [145, 467.3856363842239, 226.20594267618824, 510.98578356429766, 336.9974996369118], [152, 619.614917640397, 7.2964870389448535, 656.9366645237403, 95.3595620311024], [161, 89.31000977188143, 537.3421377592964, 156.7790181084873, 648.6956719925272], [162, 492.09111520132, 528.625135436979, 556.9100164175102, 655.1610553105171]]\n"
          ]
        },
        {
          "output_type": "stream",
          "name": "stderr",
          "text": [
            "0: 384x640 27 persons, 1 bird, 2 handbags, 302.5ms\n",
            "Speed: 2.7ms preprocess, 302.5ms inference, 2.1ms postprocess per image at shape (1, 3, 640, 640)\n",
            "\n"
          ]
        },
        {
          "output_type": "stream",
          "name": "stdout",
          "text": [
            "[<deep_sort.deep_sort.detection.Detection object at 0x7f01681645b0>, <deep_sort.deep_sort.detection.Detection object at 0x7f013411be50>]\n",
            "<class 'list'> class\n",
            "[[5, 657.9994745049934, 434.72707525784494, 720.8273375224961, 574.3201409454376], [20, 996.8468559097901, 42.976433710477096, 1032.825658607447, 132.92816800888244], [36, 919.6905902843805, 13.999945032597935, 944.2718657049941, 103.00153247477546], [60, 623.771149977636, 561.0641883769051, 692.8570502174246, 698.8922861419804], [61, 1214.6385198089456, 130.49467816314535, 1254.9218553148924, 217.64776721947976], [77, 410.27054718616273, 12.10462477904197, 440.04848973307764, 82.7090102693716], [86, 1173.8879436001837, 238.31135111767082, 1229.8128747041094, 345.78976706984076], [105, 708.52023331091, 93.15856135641286, 746.728427510081, 187.32473224382085], [117, 795.7367276579008, 374.0106356499595, 845.2587881346665, 475.5562210992387], [120, 601.486065288927, 203.86228061583535, 642.0379367963378, 308.6313792273748], [125, 457.43421909404486, -0.5109669464727418, 486.633508281505, 79.7448541191203], [131, 345.5854485551005, 665.1700787337684, 398.73489612644136, 719.7604605977474], [133, 313.6437287443054, 518.9290468911753, 368.108167811518, 628.0557574078517], [135, 681.4743904093502, 175.38096654758175, 710.6905313959106, 267.26481047184006], [142, 823.1817416023865, 159.74469123488242, 864.0596485959246, 255.65533143716823], [145, 467.62253735497757, 224.7070155744217, 510.704714341938, 332.74686923700403], [152, 619.2352086063297, 7.87966437813467, 656.9748674610698, 97.40696299097726], [161, 90.42892106014617, 539.2836066025202, 159.637549223037, 653.0376790921523], [162, 493.2294868091232, 526.3806846648355, 554.7476363991938, 647.321129438694]]\n"
          ]
        },
        {
          "output_type": "stream",
          "name": "stderr",
          "text": [
            "0: 384x640 27 persons, 1 bird, 2 handbags, 286.8ms\n",
            "Speed: 2.6ms preprocess, 286.8ms inference, 1.9ms postprocess per image at shape (1, 3, 640, 640)\n",
            "\n"
          ]
        },
        {
          "output_type": "stream",
          "name": "stdout",
          "text": [
            "[<deep_sort.deep_sort.detection.Detection object at 0x7f003548aec0>, <deep_sort.deep_sort.detection.Detection object at 0x7f01681662c0>]\n",
            "<class 'list'> class\n",
            "[[5, 659.532379048506, 438.4400253815559, 721.824926585551, 577.2922711734382], [20, 996.2043367128609, 42.55383558239551, 1031.9336974279663, 131.79240530834477], [36, 919.7226423465586, 13.99995267726149, 944.2438395371261, 103.00131934384314], [60, 623.38641289535, 565.28561190769, 693.0480417437817, 704.1916571651523], [61, 1214.5591456138345, 131.73895501314712, 1255.2064149775058, 219.61167398344747], [77, 412.82082317869316, 12.641098106842968, 441.65007180548355, 82.94118073430519], [86, 1175.692513619249, 239.22370444885615, 1231.5420853546339, 345.8133941677246], [105, 708.7050680452462, 92.51556794633596, 746.266680172766, 185.17006672119652], [117, 795.0869821270725, 378.1357805790867, 845.4567924478079, 480.19411452409025], [120, 602.1387940845171, 205.74226927488868, 642.4549469329153, 310.7971032442971], [125, 457.4541630513159, -0.471287428205315, 486.60553334493335, 79.4195886495165], [131, 345.94637510292483, 668.1529320277266, 398.9177365303318, 719.982521270332], [133, 313.94401471693743, 520.571837217501, 367.66357883893744, 627.5021220323475], [135, 681.6488963212362, 173.30374446663296, 710.2500733176958, 262.6423564193591], [142, 823.2583583899672, 157.89801046724793, 864.4292253265635, 254.3524734081447], [145, 467.1612527754132, 222.89647258706336, 510.45013082365796, 329.94552539930555], [152, 619.757510146597, 9.394165738642243, 656.9731899791045, 98.1551356520527], [161, 91.57903271435546, 543.2794961291934, 163.14990459627813, 660.4185074889956], [162, 494.86177423464966, 523.6887230786884, 554.1341781884538, 641.1639647529223]]\n"
          ]
        },
        {
          "output_type": "stream",
          "name": "stderr",
          "text": [
            "0: 384x640 25 persons, 3 birds, 1 handbag, 269.4ms\n",
            "Speed: 6.4ms preprocess, 269.4ms inference, 2.6ms postprocess per image at shape (1, 3, 640, 640)\n",
            "\n"
          ]
        },
        {
          "output_type": "stream",
          "name": "stdout",
          "text": [
            "[<deep_sort.deep_sort.detection.Detection object at 0x7f003548b9a0>, <deep_sort.deep_sort.detection.Detection object at 0x7f003548bca0>]\n",
            "<class 'list'> class\n",
            "[[5, 660.9963301873215, 442.38564759968193, 723.2505857231208, 580.9172014629801], [20, 995.8242178276749, 41.782725105092155, 1031.1238139666864, 129.4333379990876], [36, 919.751186722338, 13.999958487372304, 944.2189395209497, 103.00115735968873], [60, 622.9442921242695, 570.7276571980921, 692.7339003574748, 710.015647723776], [61, 1215.1988878304303, 132.53758735919274, 1256.0787895512067, 220.9126476755867], [77, 417.0972074328897, 13.511560273150693, 444.76227429973943, 82.3661039016398], [86, 1177.6113785680955, 240.83845466808788, 1232.9382143589419, 345.7595265258776], [105, 708.6169828635627, 91.67095761378766, 745.597214844231, 183.1057665221275], [117, 794.6776743050802, 381.58051770340205, 845.6746687030412, 483.81195163023244], [120, 602.85334650165, 208.37831870428187, 642.7963529142842, 313.5268639259533], [125, 457.53712628958556, -0.42303204105618164, 486.5154584981516, 78.68714503733], [131, 343.59758126100553, 672.5451953652147, 394.365200968484, 720.0495004863448], [133, 313.6580733527303, 523.7486616564164, 367.2637768191195, 628.5366477670956], [135, 682.4350853307576, 169.91592625665066, 710.7202521350812, 257.62587123978824], [142, 823.2694146563474, 156.62014753548175, 864.5901369344391, 253.29569636675654], [145, 465.3946677086383, 219.62613512390496, 509.92474612874116, 329.0257642737952], [152, 620.0609203590454, 11.277646893946589, 657.5277951264175, 101.02967649838934], [161, 93.63712812815018, 546.0087549953394, 165.27775369952462, 663.2611263121718], [162, 495.12121717158954, 519.4643260291857, 552.9374193715302, 634.3439750461728]]\n"
          ]
        },
        {
          "output_type": "stream",
          "name": "stderr",
          "text": [
            "0: 384x640 25 persons, 3 birds, 1 handbag, 203.0ms\n",
            "Speed: 2.7ms preprocess, 203.0ms inference, 1.4ms postprocess per image at shape (1, 3, 640, 640)\n",
            "\n"
          ]
        },
        {
          "output_type": "stream",
          "name": "stdout",
          "text": [
            "[<deep_sort.deep_sort.detection.Detection object at 0x7f00354891b0>, <deep_sort.deep_sort.detection.Detection object at 0x7f003548af20>]\n",
            "<class 'list'> class\n",
            "[[5, 661.8801356561289, 445.09395357104955, 723.4075984508919, 581.5045370245703], [20, 994.106789436241, 40.20882204965061, 1029.7778064592387, 127.94571984255181], [36, 919.7767338991246, 13.999963461361972, 944.1967897122129, 103.00101868634023], [60, 622.5108990443551, 574.0068091593439, 692.2028975167096, 713.4060305495533], [77, 419.7781477011874, 12.516422146257398, 447.4006816349947, 82.80636887131648], [86, 1177.3247106234448, 242.722145254978, 1233.1243760160621, 347.6740412306889], [105, 708.726631971605, 91.41621572857197, 745.2193490249712, 181.74416767386077], [117, 795.406189858742, 383.4508637422871, 846.1676442721968, 484.41361026921953], [120, 600.8611608062182, 209.98286688025513, 641.2279519864544, 315.81062806876764], [125, 457.5324440841452, -0.372545819741525, 486.51349583159936, 78.46973226712981], [131, 341.3406223321573, 675.2830807229836, 391.3719476093723, 720.0609893306823], [133, 313.4313636492377, 526.4747397053475, 366.6645904169036, 630.5335895035674], [135, 682.4846922779417, 168.0543724131739, 710.4831889797339, 254.5019211105356], [142, 823.1360511418397, 155.55521408206602, 864.7920691403245, 252.99278545338964], [145, 464.8455039307905, 218.48311984839245, 509.6230474186518, 328.7693482511618], [152, 621.1096812273372, 13.28043325277173, 658.1090309391911, 102.08052401511387], [162, 494.82162933982204, 515.3527281442107, 553.6020504516478, 632.6888780448255]]\n"
          ]
        },
        {
          "output_type": "stream",
          "name": "stderr",
          "text": [
            "0: 384x640 26 persons, 2 birds, 1 handbag, 202.1ms\n",
            "Speed: 11.8ms preprocess, 202.1ms inference, 1.4ms postprocess per image at shape (1, 3, 640, 640)\n",
            "\n"
          ]
        },
        {
          "output_type": "stream",
          "name": "stdout",
          "text": [
            "[<deep_sort.deep_sort.detection.Detection object at 0x7f003548bca0>, <deep_sort.deep_sort.detection.Detection object at 0x7f00354f6140>]\n",
            "<class 'list'> class\n",
            "[[5, 662.5401487669521, 447.3256061573384, 723.7381419716734, 582.2436867347801], [20, 992.2419492216061, 39.00229439583021, 1028.5620851446063, 127.4502893068852], [36, 919.7223733924542, 13.339139831843347, 944.25423125636, 103.00089744321454], [60, 622.1510392219392, 577.7583230461323, 691.5251808259343, 716.5120006253508], [77, 422.34375132631124, 13.460223809664853, 449.3294264545836, 82.31157961815848], [86, 1177.2975559792872, 244.0394316364727, 1234.4113809217006, 350.99041911990366], [105, 708.4950820464302, 91.37810113328408, 744.6978350156344, 181.31299823155825], [117, 796.7591537024041, 384.71055736883574, 847.24454318066, 484.5053030110644], [120, 601.3477028836093, 211.84827333465523, 642.0068211190837, 319.2341779194327], [125, 457.49827953503836, -0.32790472371097934, 486.5420158306237, 78.43687957641876], [131, 341.38335074803086, 678.1786982139703, 390.3733266166937, 720.0577967065723], [135, 682.3813959079587, 166.76458087410907, 710.52685808575, 253.4273983494083], [142, 822.5568436206482, 154.56419360946265, 864.7387212448899, 253.62107479220677], [145, 464.66244766040757, 217.4750529002209, 509.48150490363736, 328.11711809258736], [152, 622.0271966040159, 14.680688764535006, 658.4699213964925, 102.43165272087158], [162, 495.6910983367722, 511.9599305410016, 555.5399864002736, 632.201551468957]]\n"
          ]
        },
        {
          "output_type": "stream",
          "name": "stderr",
          "text": [
            "0: 384x640 25 persons, 2 birds, 1 handbag, 196.2ms\n",
            "Speed: 5.5ms preprocess, 196.2ms inference, 1.6ms postprocess per image at shape (1, 3, 640, 640)\n",
            "\n"
          ]
        },
        {
          "output_type": "stream",
          "name": "stdout",
          "text": [
            "[<deep_sort.deep_sort.detection.Detection object at 0x7f01681662c0>, <deep_sort.deep_sort.detection.Detection object at 0x7f003548bdc0>]\n",
            "<class 'list'> class\n",
            "[[5, 662.9549388006426, 448.71648440907046, 724.2995925610387, 583.0638412575706], [20, 991.1378647554776, 38.59388945152692, 1027.2452064205104, 125.9972178871029], [36, 919.7977470176389, 13.090825943586651, 944.181487186753, 102.34193336055873], [60, 622.0594663755585, 581.6910786837803, 690.5543128102233, 718.194574642589], [77, 424.48854868231393, 13.827792996708538, 451.38130742360045, 82.11618835320502], [86, 1177.6268152123043, 245.4252762665526, 1234.8359118907517, 352.55147810439803], [105, 708.998512616843, 90.74486553755222, 745.2626174008753, 181.2203700914101], [117, 798.3183078791793, 385.74515029688666, 848.5672634971158, 485.08569748757424], [120, 602.7392875800183, 213.1569728243799, 643.0563686699963, 321.12018037498217], [125, 458.0464982979411, -0.2884234807855037, 486.6544087147973, 77.13701755699864], [131, 341.6603505043667, 681.8456217160397, 388.4206887459593, 720.0495452874237], [133, 310.4902157690146, 533.7018886283578, 368.4298549769924, 646.9188576778818], [135, 682.6089246701648, 165.01867538395177, 710.950245840221, 251.77652718540946], [142, 822.2634971744124, 153.595440388314, 864.7962118134234, 253.92549561775144], [145, 464.5038806399957, 217.173821903438, 509.5193142475629, 328.62510528076325], [152, 622.6849250531457, 15.178560554739953, 658.9446155433359, 102.51756263631893], [161, 99.63892420023377, 558.448826459398, 174.07108275828557, 679.9430826762222], [162, 495.7072548221204, 510.1456474217018, 555.9426211859654, 632.1559730654294]]\n"
          ]
        },
        {
          "output_type": "stream",
          "name": "stderr",
          "text": [
            "0: 384x640 25 persons, 3 birds, 1 dog, 1 handbag, 195.5ms\n",
            "Speed: 2.7ms preprocess, 195.5ms inference, 1.9ms postprocess per image at shape (1, 3, 640, 640)\n",
            "\n"
          ]
        },
        {
          "output_type": "stream",
          "name": "stdout",
          "text": [
            "[<deep_sort.deep_sort.detection.Detection object at 0x7f003548ace0>, <deep_sort.deep_sort.detection.Detection object at 0x7f003548aec0>]\n",
            "<class 'list'> class\n",
            "[[5, 664.1142218269559, 450.4596926293837, 725.4389197823074, 584.5895746508749], [20, 990.0329174875468, 38.49238793239468, 1026.1763681350835, 125.51166635890479], [36, 919.8367395477219, 12.999573013128519, 944.1450192019727, 102.09183123218696], [60, 622.1076850498374, 584.3686598545848, 690.0978539059579, 719.3288274451953], [77, 425.8462641889312, 13.963718364217137, 452.77152028063057, 82.04216817909267], [105, 709.2310248971172, 90.54947230782108, 745.4409056204732, 181.24333179819314], [117, 799.7011840125524, 388.0272848516582, 848.9001035527453, 485.20532503090374], [120, 604.015163322987, 214.2518434142234, 643.3639040553529, 320.44905904088694], [125, 458.4430533855695, -0.25005130866746583, 486.50259330502894, 75.35655368014437], [131, 342.8894885639118, 685.1835737921081, 385.6886026489996, 720.1468720845718], [133, 309.9930163353551, 536.6217073538495, 368.15310381665034, 650.2683205184135], [135, 683.2197141180237, 163.7665698769503, 711.2553772330396, 249.91072265405634], [142, 822.3245224432071, 152.63439513325892, 864.650012078892, 252.79195046288615], [145, 463.9871926193207, 215.8090335945069, 509.33335275838846, 328.2336899100644], [152, 622.7637589174548, 15.995885900874804, 658.6141097079803, 102.51002510283828], [161, 102.71082451152193, 561.1894802649298, 176.68144056105928, 681.8282162231234], [162, 494.6750540640072, 508.9309872634813, 555.1701168295025, 632.2781037649041]]\n"
          ]
        },
        {
          "output_type": "stream",
          "name": "stderr",
          "text": [
            "0: 384x640 25 persons, 2 birds, 1 backpack, 195.5ms\n",
            "Speed: 18.6ms preprocess, 195.5ms inference, 1.4ms postprocess per image at shape (1, 3, 640, 640)\n",
            "\n"
          ]
        },
        {
          "output_type": "stream",
          "name": "stdout",
          "text": [
            "[<deep_sort.deep_sort.detection.Detection object at 0x7f003c922500>, <deep_sort.deep_sort.detection.Detection object at 0x7f003548bca0>]\n",
            "<class 'list'> class\n",
            "[[5, 665.276285007805, 454.32533420924943, 725.0863885860806, 584.4004126071377], [20, 989.3846325878022, 37.83081324395649, 1024.7510587523377, 122.72575951181082], [36, 919.8604884205828, 12.968689083240662, 944.123446056796, 102.00045363538399], [60, 623.0080061817544, 587.8959748933493, 689.7079640429382, 719.6129547666051], [77, 427.48057287313014, 14.01214964537212, 454.6706612919645, 82.01417988442792], [105, 711.3465521469725, 89.85470346075168, 747.4666591759004, 180.6453068930515], [117, 802.2932265382055, 391.4523938851504, 850.24825386831, 486.4736131558795], [120, 605.73241680934, 215.9243340955562, 644.2201697950998, 320.09915943242373], [125, 458.3040830660655, -0.21573307428120359, 485.38182056324365, 72.05281904168594], [135, 683.857266073147, 162.70112038805848, 711.6321733626356, 248.62830308367302], [142, 821.3256870797034, 149.6981415468094, 863.643742527299, 250.44399008287917], [145, 464.33490487896023, 214.0391146146705, 510.04084659323524, 328.1532536673411], [150, 133.48341820111034, 71.03139601326451, 179.4785666700835, 163.85537828590236], [152, 623.0378438142949, 17.597809992911465, 658.2258672994756, 102.46783154833372], [161, 104.86752914704329, 564.289022542071, 179.05590287279222, 685.2820474631013], [162, 493.8351153784259, 505.3044046467851, 554.6736955791629, 630.4712525236803]]\n"
          ]
        },
        {
          "output_type": "stream",
          "name": "stderr",
          "text": [
            "0: 384x640 26 persons, 4 birds, 1 backpack, 203.3ms\n",
            "Speed: 4.5ms preprocess, 203.3ms inference, 1.5ms postprocess per image at shape (1, 3, 640, 640)\n",
            "\n"
          ]
        },
        {
          "output_type": "stream",
          "name": "stdout",
          "text": [
            "[<deep_sort.deep_sort.detection.Detection object at 0x7f003548ace0>, <deep_sort.deep_sort.detection.Detection object at 0x7f003548bdc0>]\n",
            "<class 'list'> class\n",
            "[[5, 665.3427310733694, 456.33597815775636, 724.5825474025087, 584.2037771956027], [20, 988.3624687031867, 36.28764902565933, 1023.7366198168509, 121.07075825270235], [36, 920.1595577082893, 12.960489562218562, 944.4873510580015, 101.96945046553708], [60, 623.931922360394, 591.080110907653, 689.6458899071093, 720.2361554156481], [77, 428.9653323493679, 14.027608614771843, 457.0173215342429, 82.66611427042832], [86, 1173.4327323931693, 250.83452180107736, 1235.352407003392, 365.85974931260967], [105, 712.4591213058941, 88.96853906256253, 748.5773635937737, 179.80744461212026], [117, 803.5584226778873, 393.9689290525358, 851.7450085364708, 489.53094033472627], [120, 606.5030802162887, 217.15573378133863, 644.3951894982708, 319.89464409842503], [125, 458.395194704117, -0.18281041373747087, 484.8178243000844, 69.52854060149171], [135, 683.5787763311434, 161.70127632140623, 711.624227914442, 248.89007981883782], [142, 820.3626309577903, 146.0152398612241, 862.5401615371119, 246.97931284821536], [145, 464.38743323474347, 213.42796272156266, 509.73560827943, 327.52450286943343], [150, 133.1310258760988, 71.26115320324945, 179.23659581962156, 164.33587454527986], [152, 623.0324195158836, 18.16543549234521, 658.1710830376294, 102.41444581908421], [153, 1220.789917416236, 70.63726341136399, 1289.039884977848, 229.1958021164921], [162, 493.1115760125197, 502.7238756415197, 553.5921562805623, 628.5728190330194]]\n"
          ]
        },
        {
          "output_type": "stream",
          "name": "stderr",
          "text": [
            "0: 384x640 26 persons, 1 handbag, 181.8ms\n",
            "Speed: 11.9ms preprocess, 181.8ms inference, 1.4ms postprocess per image at shape (1, 3, 640, 640)\n",
            "\n"
          ]
        },
        {
          "output_type": "stream",
          "name": "stdout",
          "text": [
            "[<deep_sort.deep_sort.detection.Detection object at 0x7f003548b9a0>, <deep_sort.deep_sort.detection.Detection object at 0x7f01681662c0>]\n",
            "<class 'list'> class\n",
            "[[5, 665.5065840713089, 457.64467871292993, 724.873291452313, 584.7168715912862], [20, 987.3092314338511, 35.08714021310134, 1022.7710633092721, 120.51320742842464], [36, 920.2539126465624, 12.960583991255007, 944.6434288630396, 101.96116262693191], [60, 624.7716696217915, 593.4657089461228, 689.1249584234579, 719.0062679433862], [77, 431.19404406805, 14.03103603252314, 460.0513336274536, 82.25083018676139], [86, 1174.2154716041707, 253.44803360692944, 1236.114010143879, 368.0767503637064], [105, 712.8740650560125, 88.00930567561008, 748.9844515576223, 178.8764447402989], [117, 803.4362166743256, 396.8080776311949, 852.8399401634172, 495.23246861631407], [120, 607.078213260406, 218.22143723851948, 644.8095345025363, 320.4244069534181], [122, 824.798487610089, 12.781413268884748, 858.7915294646758, 86.0524690125335], [125, 458.4517863152779, -0.1562257697360394, 484.5917542782042, 67.99616580225734], [133, 306.2818909018093, 545.0451525832353, 367.0526715694391, 664.4452179496138], [135, 683.4177754732732, 160.7200134751067, 711.6750169336765, 249.048621131173], [142, 820.0886429642106, 143.3675403949319, 862.0435149068393, 243.7501664333657], [145, 464.2191633857151, 211.946150921148, 509.14932808659023, 326.02920904062415], [150, 132.60604863662445, 71.33552697872355, 178.8945527936827, 164.49517810036247], [152, 622.9681814978304, 18.34342283521005, 658.2004662132882, 102.36662898549918], [153, 1220.6453862410756, 67.8178833802471, 1287.308018747593, 229.42209710763103], [161, 108.16058730883663, 568.3919159379972, 178.93978051896357, 682.7625550261388], [162, 491.861275562137, 499.8880878409116, 552.2011276513713, 626.6389601035264]]\n"
          ]
        },
        {
          "output_type": "stream",
          "name": "stderr",
          "text": [
            "0: 384x640 26 persons, 3 birds, 1 handbag, 206.6ms\n",
            "Speed: 2.5ms preprocess, 206.6ms inference, 1.4ms postprocess per image at shape (1, 3, 640, 640)\n",
            "\n"
          ]
        },
        {
          "output_type": "stream",
          "name": "stdout",
          "text": [
            "[<deep_sort.deep_sort.detection.Detection object at 0x7f003548ba30>, <deep_sort.deep_sort.detection.Detection object at 0x7f003548aec0>]\n",
            "<class 'list'> class\n",
            "[[5, 664.6271764490804, 460.0348578843085, 725.2089585497795, 588.8388523033018], [20, 986.8765622864134, 33.35090679702639, 1022.517144407206, 119.69579022539224], [36, 920.1943661055354, 12.302528364418926, 944.7953624150241, 101.96118260286534], [60, 625.3938426236097, 597.5690024788681, 688.6162806949108, 719.7711101366505], [77, 432.53428641211775, 14.029669443153374, 462.53627582791813, 82.75267893704583], [86, 1173.9204054929005, 255.01977823190427, 1236.3040662368462, 370.1486642990574], [105, 712.4191004020408, 85.69829174152537, 749.0655746525309, 177.9088527452761], [117, 803.3811685020748, 399.1078135923036, 853.8703727602372, 500.5716035722899], [120, 607.8365450838648, 219.22755323081367, 645.7200155348635, 321.23597470161735], [122, 826.5518101341942, 12.981462187067272, 859.4061559168014, 84.21240404894246], [125, 458.6520823507789, -0.42072816799579726, 484.3031066691021, 66.45664694937395], [133, 305.57782667651594, 549.325059439034, 365.1854630477792, 666.7083387532191], [135, 683.8631961035093, 160.40389520548285, 711.8434016429632, 248.5111637873963], [142, 819.7308590528073, 141.11966239514555, 861.4689746666994, 240.6149439792886], [145, 464.813795439984, 210.12656595071473, 509.5897508143296, 324.8583639014644], [150, 132.50916032241395, 71.99524573876177, 178.66033389458426, 164.5170296078477], [152, 622.8874923690848, 18.377900840684298, 658.2570384357374, 102.3235862547414], [153, 1219.5906689010958, 64.73378434317945, 1287.8721782678642, 230.26193921434012], [161, 108.24948802489337, 571.0869937288466, 179.976989698063, 685.7889612829816], [162, 490.6168422814189, 496.2959032861365, 550.4962524247856, 623.3738134617157]]\n"
          ]
        },
        {
          "output_type": "stream",
          "name": "stderr",
          "text": [
            "0: 384x640 26 persons, 2 birds, 1 handbag, 205.5ms\n",
            "Speed: 6.5ms preprocess, 205.5ms inference, 1.4ms postprocess per image at shape (1, 3, 640, 640)\n",
            "\n"
          ]
        },
        {
          "output_type": "stream",
          "name": "stdout",
          "text": [
            "[<deep_sort.deep_sort.detection.Detection object at 0x7f01681645b0>, <deep_sort.deep_sort.detection.Detection object at 0x7f003548ace0>]\n",
            "<class 'list'> class\n",
            "[[5, 663.1199709695134, 462.1647126557846, 727.1409743755601, 598.2458223728651], [20, 986.9162055672583, 32.07636020998859, 1022.2865348973069, 118.11870088059004], [36, 920.1624272088858, 12.05768509142591, 944.8595026254559, 101.96380908534317], [60, 627.0537979585732, 600.2902551487999, 689.6913129711359, 720.6281970238803], [77, 434.5044385049868, 14.080046984837509, 464.5143703059565, 82.82319456699717], [86, 1173.8647502478373, 256.6256493140439, 1236.6420274232437, 372.47709185293], [105, 712.949733146427, 83.54812562843519, 749.0346294441066, 174.29385366058006], [117, 803.9694435349963, 401.2053779449034, 854.9093982839736, 504.47643049116135], [120, 608.3287723164069, 221.53977773733135, 646.4855079578043, 323.48210548611536], [122, 827.9379076542414, 13.114502819335485, 860.2360680431824, 83.1401120309813], [133, 305.37531259727695, 552.1173251842469, 363.8329779369894, 667.453240630797], [135, 683.9050146651872, 158.3618931172229, 712.0332115258905, 247.70707545391537], [142, 819.9226170894017, 139.68939987527062, 860.9473352888997, 236.85990278711918], [145, 464.0048443412741, 207.52169649122334, 508.8187008334444, 323.15144098251517], [150, 132.04371864628888, 72.22020660486254, 178.3405204821802, 164.48488879682628], [152, 622.6863954034478, 18.36135640653871, 658.4392559799257, 102.94852042993256], [161, 107.75224910348639, 574.6539840563908, 182.20654075147758, 693.4620288598917], [162, 490.214867443003, 493.7289040148302, 549.1501512278815, 619.5988656232712]]\n"
          ]
        },
        {
          "output_type": "stream",
          "name": "stderr",
          "text": [
            "0: 384x640 25 persons, 4 birds, 1 dog, 1 handbag, 206.4ms\n",
            "Speed: 9.5ms preprocess, 206.4ms inference, 1.4ms postprocess per image at shape (1, 3, 640, 640)\n",
            "\n"
          ]
        },
        {
          "output_type": "stream",
          "name": "stdout",
          "text": [
            "[<deep_sort.deep_sort.detection.Detection object at 0x7f003548ba30>, <deep_sort.deep_sort.detection.Detection object at 0x7f003c922500>]\n",
            "<class 'list'> class\n",
            "[[5, 662.6852870432352, 465.50036792736313, 729.6594804199652, 608.1885125477211], [20, 986.8368518969413, 29.652229107248942, 1021.7030582175335, 114.92642066224347], [36, 920.5196527663023, 11.97005798977817, 945.1710329562274, 101.96735927581014], [60, 629.6490464371575, 605.8689135307545, 690.1080602233714, 720.8589731382273], [105, 713.6459938138622, 80.78407213960125, 749.1718948409264, 169.64242026217016], [117, 805.3215427413761, 405.8345442168494, 856.7413581892948, 511.090561815246], [120, 607.7445668223572, 223.67917206689057, 648.170367521892, 331.56970846917636], [122, 829.3197807475547, 10.565822770254194, 861.5739357837925, 81.18604735761167], [133, 304.70469394044636, 555.1156694912836, 363.3144541805663, 670.7507209773612], [135, 684.4429618173748, 155.0113836600347, 712.2354428278463, 243.5078345590167], [142, 820.562755328896, 136.57066361065378, 860.8762803066091, 231.53194002213877], [145, 463.83010360919087, 203.96454598024707, 507.7385089557107, 317.9560251103468], [150, 131.419259780258, 72.28097573240777, 178.01055785756603, 164.43932417859796], [152, 621.9589754704591, 18.991777344366085, 658.4907997564828, 105.14654010033665], [153, 1222.1614505332823, 66.16229411952926, 1287.153234741117, 231.18341647501663], [161, 107.95791442289826, 577.8643282171137, 187.79500347826408, 706.035702641956], [162, 490.94418941337653, 488.25433500064383, 546.4774874418056, 607.0385929008984]]\n"
          ]
        },
        {
          "output_type": "stream",
          "name": "stderr",
          "text": [
            "0: 384x640 27 persons, 2 birds, 1 handbag, 203.3ms\n",
            "Speed: 3.7ms preprocess, 203.3ms inference, 1.8ms postprocess per image at shape (1, 3, 640, 640)\n",
            "\n"
          ]
        },
        {
          "output_type": "stream",
          "name": "stdout",
          "text": [
            "[<deep_sort.deep_sort.detection.Detection object at 0x7f00354891b0>, <deep_sort.deep_sort.detection.Detection object at 0x7f003548af20>]\n",
            "<class 'list'> class\n",
            "[[5, 662.5490241542846, 468.64958986471004, 730.5756100674895, 613.8843358963223], [20, 987.382633771332, 28.12291874428933, 1021.6356711820849, 112.45326012111175], [36, 920.6723760886817, 11.942426283803563, 945.2683919451749, 101.97094633416305], [60, 631.4745056487708, 609.8113459193472, 690.738520012114, 720.8398916530676], [105, 713.959572931147, 79.80082853848532, 749.1503192339923, 167.29323997005477], [117, 806.7816760578037, 409.47765951920763, 857.7544245378024, 514.1712805467089], [120, 607.5082835853237, 225.73884340232584, 648.7975098100076, 335.8285953514503], [122, 830.676986794085, 10.257340310648871, 862.5156745502507, 79.96857877750774], [133, 304.4479172969565, 557.2469399941479, 361.73606750190834, 669.3406860864624], [135, 685.5036559863098, 153.13147643179377, 712.7754956708621, 239.975807725167], [142, 821.1344056985046, 134.8243529565456, 861.2081874401952, 228.97750510029815], [145, 464.1667932763843, 202.68229711808598, 506.93009329694, 314.0492695014734], [150, 130.97316380081156, 72.94152911532647, 177.4412368359158, 164.3922443289519], [152, 622.0261197805189, 19.86545334745103, 658.8199058215076, 106.61191342172711], [153, 1221.3465388194031, 63.58193657967465, 1287.6654432150688, 231.97298149945684], [161, 109.10415156251747, 582.8642306485962, 190.0572537573455, 713.2908795398987], [162, 491.43321914675244, 484.98704022269504, 544.635391874351, 598.3497075453267]]\n"
          ]
        },
        {
          "output_type": "stream",
          "name": "stderr",
          "text": [
            "0: 384x640 26 persons, 1 bird, 1 handbag, 222.0ms\n",
            "Speed: 2.5ms preprocess, 222.0ms inference, 1.4ms postprocess per image at shape (1, 3, 640, 640)\n",
            "\n"
          ]
        },
        {
          "output_type": "stream",
          "name": "stdout",
          "text": [
            "[<deep_sort.deep_sort.detection.Detection object at 0x7f01681645b0>, <deep_sort.deep_sort.detection.Detection object at 0x7f003548aec0>]\n",
            "<class 'list'> class\n",
            "[[5, 662.3765278490183, 471.7285380210626, 730.3638665069997, 617.2670091486327], [20, 987.5348490307985, 26.270623211751825, 1021.7201303406565, 111.59120685259094], [36, 920.3667330975213, 11.937204469402658, 945.0033714367279, 101.97427196574172], [60, 633.3213606134284, 614.4924494832024, 691.1067523408591, 720.7587625626982], [105, 713.2812614766558, 77.48536621017558, 749.2488905532359, 166.49115598740275], [117, 808.0131598158957, 412.0839569106773, 858.0661844780731, 515.2154622583706], [120, 607.5973530648213, 229.08193322772343, 648.8209796747659, 338.7086718078691], [133, 303.84408366656413, 560.1564461554026, 361.0845690828173, 672.1558465625329], [135, 685.9890312435302, 151.16076288966855, 712.8849623575212, 236.71723985040637], [142, 821.3640790743331, 132.92131391698786, 861.9937950444161, 228.13015258651836], [145, 465.33019659612347, 200.2811708878885, 506.93521673927137, 308.6583846076163], [150, 130.4810707862302, 73.16923377331804, 176.89592846400743, 164.34586714119246], [152, 622.0476962669944, 20.832322548263342, 658.94546099429, 107.80025734236975], [161, 110.5871901843288, 587.3138941388635, 191.70415397736224, 718.5838307147476], [162, 490.9191830146921, 481.2235651035959, 544.0300113759913, 593.9957098926287]]\n"
          ]
        },
        {
          "output_type": "stream",
          "name": "stderr",
          "text": [
            "0: 384x640 25 persons, 1 bird, 217.8ms\n",
            "Speed: 2.7ms preprocess, 217.8ms inference, 1.4ms postprocess per image at shape (1, 3, 640, 640)\n",
            "\n"
          ]
        },
        {
          "output_type": "stream",
          "name": "stdout",
          "text": [
            "[<deep_sort.deep_sort.detection.Detection object at 0x7f01681662c0>, <deep_sort.deep_sort.detection.Detection object at 0x7f003548b850>]\n",
            "<class 'list'> class\n",
            "[[5, 662.5931481920945, 474.12337468296005, 730.6116268914293, 620.3801214136556], [20, 987.1298033235271, 24.304366528664296, 1021.5903809004004, 111.32323934524891], [36, 920.2390342863638, 11.939976070129177, 944.9103346611109, 101.97726483384952], [60, 635.8105163307362, 618.0706527110834, 692.8032252668545, 720.656283539692], [105, 712.5796602548927, 75.35132671442662, 749.0639405146318, 165.58655753812246], [117, 809.3877751742851, 414.28301429686826, 858.5303700981846, 516.1346540491079], [120, 607.590295920021, 230.9618445845412, 648.8324042416617, 340.37821246248427], [132, 28.290682737413512, 82.05605542377624, 66.61715613947135, 162.05858912466113], [133, 304.48754283895533, 562.2221062209018, 359.4443889147838, 668.6608719006094], [135, 686.1544079325948, 149.1582140351995, 712.9275967773559, 234.24260968004282], [142, 820.6375063006617, 131.6212838541421, 861.7795983271149, 227.8991359708436], [145, 465.99031821447943, 198.79560028777973, 506.7222715770065, 304.73031581617226], [150, 129.76043223238568, 73.8958430002776, 175.91486259894594, 164.30520429438508], [152, 621.2737897912746, 21.17468773142616, 658.452855908341, 108.87920134405925], [161, 114.32986624681568, 592.8227904309313, 192.28813606022646, 719.1576648077413], [162, 490.13566933894924, 478.62974022782925, 543.7773248649047, 592.5634036368422]]\n"
          ]
        },
        {
          "output_type": "stream",
          "name": "stderr",
          "text": [
            "0: 384x640 26 persons, 1 handbag, 174.3ms\n",
            "Speed: 11.4ms preprocess, 174.3ms inference, 1.4ms postprocess per image at shape (1, 3, 640, 640)\n",
            "\n"
          ]
        },
        {
          "output_type": "stream",
          "name": "stdout",
          "text": [
            "[<deep_sort.deep_sort.detection.Detection object at 0x7f003548ace0>, <deep_sort.deep_sort.detection.Detection object at 0x7f00354891b0>]\n",
            "<class 'list'> class\n",
            "[[5, 663.1592603604734, 476.9053814755075, 730.8463041674402, 622.741274605705], [20, 986.823025364128, 23.60960437330416, 1021.0747002234541, 111.27405654569503], [36, 920.1808508804322, 11.94526560214053, 944.8827085555304, 101.97992845447442], [60, 637.203926201717, 621.2452016429645, 693.5361296957808, 720.5633333843991], [105, 712.414660462353, 74.59789247191358, 748.8808871750942, 164.64825379365277], [117, 809.9510456223584, 415.0048445260056, 858.5942159800759, 516.3612623119303], [120, 607.3500857283404, 232.26592745731926, 649.0444946884788, 342.23851630951197], [132, 27.416667791261997, 81.98743654721964, 67.62705696981448, 161.96000102175088], [133, 303.85844422724017, 564.32055068381, 358.3580260694235, 668.8637760062009], [135, 686.1108506185593, 147.14598540678077, 713.034914917626, 232.73135720242334], [142, 819.9452436034911, 130.54622262957713, 861.4623751510393, 227.89879311986275], [145, 466.7599409165567, 196.30955741121653, 507.46599512522755, 302.7094104065361], [150, 129.60723292155726, 75.47548415182138, 175.44267851221707, 164.9311759648857], [152, 620.9888101415643, 21.937510277067958, 658.2549910036814, 109.91434315985805], [161, 117.83154619470362, 596.1175967614356, 194.26080657095747, 720.467955762965], [162, 489.44427239006865, 476.4559418918002, 543.4624633237668, 591.5154202424001]]\n"
          ]
        },
        {
          "output_type": "stream",
          "name": "stderr",
          "text": [
            "0: 384x640 25 persons, 1 motorcycle, 3 birds, 1 handbag, 208.1ms\n",
            "Speed: 2.6ms preprocess, 208.1ms inference, 1.4ms postprocess per image at shape (1, 3, 640, 640)\n",
            "\n"
          ]
        },
        {
          "output_type": "stream",
          "name": "stdout",
          "text": [
            "[<deep_sort.deep_sort.detection.Detection object at 0x7f0168166e30>, <deep_sort.deep_sort.detection.Detection object at 0x7f003548b9a0>]\n",
            "<class 'list'> class\n",
            "[[5, 663.1064695953357, 481.8043585839142, 729.8629173421197, 626.1235507289216], [20, 984.9512110830335, 22.743337027460633, 1019.3842565308967, 111.31159528609672], [36, 920.5284143971613, 11.29065570510162, 945.1617684575332, 101.32191341930289], [60, 639.1421278509317, 625.6506073965875, 694.3490365957911, 720.4809517338816], [105, 711.8191042322882, 73.71377270530755, 748.6734907519877, 165.02000375074823], [117, 810.5645038854894, 416.50164777709136, 858.8162027273729, 516.3420561391304], [120, 607.0796962583136, 234.00932248125187, 649.2792979359663, 344.83121914004374], [132, 26.265990050113142, 81.96441872900564, 68.15617992399692, 162.59401837128792], [133, 300.690314833543, 568.3670447451578, 359.6135259657693, 681.7167062974131], [135, 685.9994665604711, 145.1319706537305, 713.157981004356, 231.57675561053975], [142, 820.2211784931299, 128.2351117472442, 862.1307063358212, 227.31759556338073], [145, 466.99835171469755, 193.46184847434867, 507.7826438258009, 300.055219950399], [150, 129.3749356878921, 76.71075786326779, 175.46149216012398, 166.47609117286078], [152, 620.8698355417599, 24.176691949050166, 657.5332162533522, 110.27467764983732], [161, 121.57489687087843, 601.8604307523946, 195.07500611276714, 720.8120476232899], [162, 488.19479714144455, 472.44847815989715, 543.7167335192593, 591.2722043964225]]\n"
          ]
        },
        {
          "output_type": "stream",
          "name": "stderr",
          "text": [
            "0: 384x640 26 persons, 3 birds, 1 dog, 210.4ms\n",
            "Speed: 7.5ms preprocess, 210.4ms inference, 1.8ms postprocess per image at shape (1, 3, 640, 640)\n",
            "\n"
          ]
        },
        {
          "output_type": "stream",
          "name": "stdout",
          "text": [
            "[<deep_sort.deep_sort.detection.Detection object at 0x7f00354891b0>, <deep_sort.deep_sort.detection.Detection object at 0x7f003548ace0>]\n",
            "<class 'list'> class\n",
            "[[5, 663.5288109200758, 485.54245569853276, 729.0138173057895, 627.2674758741017], [20, 984.1352062646479, 22.46320876473557, 1018.2298566931274, 110.71453947204118], [36, 920.8821602675541, 11.047293288924593, 945.7037303370118, 101.735583570774], [60, 641.0646794294277, 629.8134620295592, 695.4048967133747, 720.4034289547542], [105, 711.6254152482866, 72.77130581691326, 748.5613964506006, 164.55102433703928], [117, 810.3777956844009, 418.9568776449438, 858.5867882313319, 516.890674149127], [120, 606.3711621151189, 235.26467512309063, 648.6401922651045, 345.73528960472686], [132, 26.389169456820724, 81.95926771032123, 69.12288111931811, 162.1716222954991], [133, 299.42979021569124, 571.7390096142684, 360.8425744539115, 690.8015938228386], [135, 685.2117534565562, 143.7778833801708, 712.6192072285273, 231.21318144625158], [142, 821.1983369729145, 126.76862247226265, 862.8321346264069, 225.8501078246772], [145, 467.635108964277, 191.14238971142765, 508.67789591286044, 298.4961870883116], [150, 130.35734682648683, 78.47165758174003, 176.40363296133552, 167.69554341936652], [152, 621.1842374707664, 25.66517773367204, 657.5657333701683, 110.3712386697608], [161, 123.6160656522728, 605.6057559370361, 196.97771543184197, 724.3324107743623], [162, 487.4200709737439, 469.73112380105573, 544.1533089997328, 591.9407398961336]]\n"
          ]
        },
        {
          "output_type": "stream",
          "name": "stderr",
          "text": [
            "0: 384x640 26 persons, 2 birds, 1 handbag, 1 kite, 279.4ms\n",
            "Speed: 2.7ms preprocess, 279.4ms inference, 1.9ms postprocess per image at shape (1, 3, 640, 640)\n",
            "\n"
          ]
        },
        {
          "output_type": "stream",
          "name": "stdout",
          "text": [
            "[<deep_sort.deep_sort.detection.Detection object at 0x7f01681662c0>, <deep_sort.deep_sort.detection.Detection object at 0x7f003548bca0>]\n",
            "<class 'list'> class\n",
            "[[5, 663.9630031493369, 488.16482829037045, 728.3925673292684, 627.5522481235676], [20, 982.9341020673771, 20.43106283236795, 1017.4126540413155, 109.87393709856886], [36, 921.0885685056518, 10.961020179575243, 945.8310120536626, 101.23604252290572], [60, 641.8952232560234, 632.4949335522771, 696.2348577395604, 720.3380406299925], [86, 1179.642646849032, 266.14858970030076, 1239.0905736415582, 376.6463063233832], [105, 711.4122225158369, 72.46596492596254, 747.9981531358013, 163.76551979775869], [117, 809.7698568185544, 421.77936398513395, 858.9769996240703, 520.3378404861347], [120, 606.6322397387157, 236.99010968829322, 648.5000379106048, 345.98826016925483], [132, 26.097993570973788, 81.2939760247657, 69.82075308590059, 162.01558094760833], [133, 298.05469520281116, 574.8889952333337, 360.96665438610523, 697.4714828560716], [135, 684.9253814426053, 143.33036659589226, 712.3946439854662, 231.1433299924276], [142, 822.3076196371308, 125.62766451726046, 863.689474483165, 224.7023975413111], [145, 467.8751046256216, 190.34890644545507, 509.00421365227714, 298.0055277892966], [150, 130.2507559033287, 79.76961156098115, 176.5924468403185, 169.45722762996377], [152, 620.7209695212042, 25.522351433377672, 657.4982026388251, 110.37519749132005], [162, 486.7409800794638, 467.49953331443464, 544.0904114699292, 591.6558432095086]]\n"
          ]
        },
        {
          "output_type": "stream",
          "name": "stderr",
          "text": [
            "0: 384x640 26 persons, 2 birds, 1 handbag, 1 kite, 284.9ms\n",
            "Speed: 9.7ms preprocess, 284.9ms inference, 1.9ms postprocess per image at shape (1, 3, 640, 640)\n",
            "\n"
          ]
        },
        {
          "output_type": "stream",
          "name": "stdout",
          "text": [
            "[<deep_sort.deep_sort.detection.Detection object at 0x7f003548aec0>, <deep_sort.deep_sort.detection.Detection object at 0x7f003548af20>]\n",
            "<class 'list'> class\n",
            "[[5, 664.2789394958114, 489.6960385436935, 727.986532348004, 626.8634142720593], [20, 982.245338387378, 19.705626808204812, 1016.7299855471151, 109.59228783245985], [36, 921.1550898881256, 10.934832840516002, 945.883910669069, 101.04819767587898], [60, 642.8368589010217, 633.969448776538, 697.8675700314132, 720.2871244514281], [86, 1179.9546301655123, 267.14718242224814, 1239.1730345724766, 377.9803005058353], [105, 711.3726678386606, 71.7431827198503, 747.7423745179464, 162.85653479787896], [117, 808.490902272845, 424.0708029181379, 860.1360637221163, 526.8415265609042], [120, 607.1727868193942, 238.23609428260826, 648.6517994710483, 345.99482197091595], [132, 25.43451757389669, 81.048779973085, 69.96269339258322, 161.96202012515178], [133, 297.11971390150563, 577.9498684562602, 360.1648748941421, 701.2303719916679], [135, 684.4594018573247, 141.9095288311791, 712.0037480738656, 230.52405875513978], [142, 823.3107500476873, 123.94713875659497, 864.0878831832129, 221.69554852956583], [145, 467.74727190780544, 188.8056339944768, 509.3324941881444, 297.91464684231164], [150, 129.77330344634174, 80.22517542066035, 176.44734383492764, 170.7522879370893], [152, 620.4330920867358, 24.777638232672054, 657.5925346012873, 110.35201517199022], [162, 486.4501051248827, 465.45504106402205, 544.1361164890133, 590.9998890722629]]\n"
          ]
        },
        {
          "output_type": "stream",
          "name": "stderr",
          "text": [
            "0: 384x640 26 persons, 2 birds, 1 handbag, 270.9ms\n",
            "Speed: 6.9ms preprocess, 270.9ms inference, 2.0ms postprocess per image at shape (1, 3, 640, 640)\n",
            "\n"
          ]
        },
        {
          "output_type": "stream",
          "name": "stdout",
          "text": [
            "[<deep_sort.deep_sort.detection.Detection object at 0x7f003548ba30>, <deep_sort.deep_sort.detection.Detection object at 0x7f00354891b0>]\n",
            "<class 'list'> class\n",
            "[[5, 665.3366683590245, 491.48496045891966, 728.2104791451757, 626.4872670508423], [20, 981.4629186103373, 17.50727594324554, 1016.3867657681576, 108.8682575752255], [36, 921.1686977595339, 10.93066504875798, 945.907967467015, 100.98103514007349], [60, 643.7092415474569, 635.7216067225831, 699.2005286361939, 720.2465359417727], [86, 1180.1585159271965, 268.1581233342268, 1239.1099453558554, 379.08961389130246], [105, 711.0007072098291, 70.85559350221376, 747.3451587896071, 162.5584309249432], [117, 807.5337540677693, 426.1691227417634, 861.0225323451482, 531.8136632217861], [120, 607.4570148681125, 239.30117821918077, 648.6139036475698, 345.92222350449083], [132, 25.034751833683377, 80.96245123525105, 69.49220841190005, 161.2834268228225], [133, 296.61029903002725, 581.6261961772593, 359.3956602227656, 704.477445376202], [135, 684.611126779188, 140.77145817218963, 712.1846317918645, 229.68660168810237], [142, 823.9366348393459, 122.05905223669106, 863.9830051412177, 217.97353946210973], [145, 468.59176011138874, 187.63288563864702, 509.8685390774047, 295.9785169893611], [150, 130.00192972365275, 80.36502492216229, 176.6504018103243, 171.21081190697544], [152, 619.9307333036093, 24.471484765957968, 657.3674469672014, 110.32020304492022], [161, 129.4644516467896, 611.6368004462652, 199.0179578060875, 721.6235233690643], [162, 486.57137496494937, 463.4771989029207, 543.9584809042078, 588.8804149551106]]\n"
          ]
        },
        {
          "output_type": "stream",
          "name": "stderr",
          "text": [
            "0: 384x640 28 persons, 1 handbag, 297.2ms\n",
            "Speed: 2.6ms preprocess, 297.2ms inference, 2.0ms postprocess per image at shape (1, 3, 640, 640)\n",
            "\n"
          ]
        },
        {
          "output_type": "stream",
          "name": "stdout",
          "text": [
            "[<deep_sort.deep_sort.detection.Detection object at 0x7f003548af20>, <deep_sort.deep_sort.detection.Detection object at 0x7f003c922500>]\n",
            "<class 'list'> class\n",
            "[[5, 671.2930328289833, 494.04369308146613, 730.728007300994, 623.5728131750542], [20, 980.6782058356004, 15.407384436769625, 1015.4832357853398, 106.66376649613542], [36, 921.2407370157299, 10.2733717162005, 945.8431540532796, 99.63783988960537], [60, 646.024638238098, 639.6333047223701, 700.3296460086439, 719.5248895059124], [86, 1181.8068717022782, 270.48018510622046, 1238.8198105637307, 377.46226059524355], [105, 710.7079113114861, 66.60973436908665, 747.3524627654919, 159.8510370678885], [117, 806.5267538960195, 430.14390485544146, 861.9665211254788, 538.8377472049668], [120, 608.3442317867742, 240.30011923581043, 648.4682102179348, 343.83507794961264], [122, 835.4894825260048, 0.1362162669903526, 867.7086814126402, 69.0002068746426], [132, 24.430863294079373, 80.2713809281335, 69.09573461479789, 160.36745040614755], [133, 295.99702612517234, 585.5416849965685, 359.5669080037065, 710.8011293501412], [135, 684.3108722855958, 138.42451146087652, 711.9552430773628, 227.44857960780303], [142, 824.8927185895843, 119.42534740481986, 863.8735848796621, 212.65478319191374], [145, 468.3146808148854, 185.94262278694603, 509.99395923873107, 295.326836430307], [150, 130.09619006463478, 81.70468891189321, 176.72888729648844, 173.3299644336646], [152, 619.673419490854, 23.67210994948529, 657.3553510142963, 110.28552683947025], [161, 132.39042047293705, 614.2516165976357, 201.04005222859237, 721.1114186541135], [162, 486.798480409344, 458.8973057299631, 543.747229841949, 584.2216993303662], [167, 892.4300304432495, 645.3462012645381, 971.8733411052303, 719.233033409169]]\n"
          ]
        },
        {
          "output_type": "stream",
          "name": "stderr",
          "text": [
            "0: 384x640 28 persons, 1 handbag, 278.2ms\n",
            "Speed: 7.2ms preprocess, 278.2ms inference, 4.6ms postprocess per image at shape (1, 3, 640, 640)\n",
            "\n"
          ]
        },
        {
          "output_type": "stream",
          "name": "stdout",
          "text": [
            "[<deep_sort.deep_sort.detection.Detection object at 0x7f00354f7280>, <deep_sort.deep_sort.detection.Detection object at 0x7f00354f53c0>]\n",
            "<class 'list'> class\n",
            "[[5, 671.8215361180434, 496.8962721523476, 730.6427697925519, 625.7487925791154], [20, 980.6834965995134, 14.656472295689532, 1014.229668766463, 102.5699659144469], [36, 921.6124253341939, 10.030407567617473, 946.1301831499128, 98.47232112423087], [60, 646.5839425743748, 643.6511069401399, 700.2034181850718, 719.9362659027308], [86, 1181.7935020299205, 271.29156629277605, 1239.3151538228217, 379.47435673228415], [105, 710.9052647109004, 64.39067230504389, 747.0529674976565, 156.8986004016104], [117, 806.0201591464846, 433.53977528933075, 862.4202321314934, 543.3864739369122], [120, 609.0115761841301, 241.2723242638291, 648.7327869395622, 343.64929427291906], [122, 835.9527675414066, -0.24505621852505044, 868.2605175891867, 67.92888197242601], [132, 24.407609204106958, 80.05661767537738, 69.04287075227833, 160.09639484584886], [133, 295.6708359005472, 588.2362054513999, 359.1116402896645, 713.7273788261905], [135, 684.2759781880992, 136.9342999219594, 711.790223047438, 225.33500909099607], [142, 825.3922166326169, 116.50888398022137, 864.3439676295013, 209.4177025095853], [145, 469.0626641592345, 184.71085069435463, 510.49255231016474, 293.8294249329823], [150, 130.52441168708316, 82.18294504601319, 177.029630808148, 174.10029121165223], [152, 620.103492418569, 24.01165458631096, 657.4896839124675, 110.25423161446761], [153, 1221.5322449395453, 60.999921558658095, 1270.0864631993556, 172.88478054088768], [161, 134.66391309342302, 617.1314784071714, 202.38197208739786, 720.9603300729768], [162, 487.01037305274684, 455.2932247723891, 543.572634627602, 580.5678652377088], [167, 886.0226811505842, 641.5136728145537, 969.8106445900821, 719.7140520946855]]\n"
          ]
        },
        {
          "output_type": "stream",
          "name": "stderr",
          "text": [
            "0: 384x640 28 persons, 1 bird, 1 handbag, 209.5ms\n",
            "Speed: 6.0ms preprocess, 209.5ms inference, 1.4ms postprocess per image at shape (1, 3, 640, 640)\n",
            "\n"
          ]
        },
        {
          "output_type": "stream",
          "name": "stdout",
          "text": [
            "[<deep_sort.deep_sort.detection.Detection object at 0x7f003548af20>, <deep_sort.deep_sort.detection.Detection object at 0x7f00354f5de0>]\n",
            "<class 'list'> class\n",
            "[[5, 671.8267687773806, 500.52384722248576, 731.423826788523, 631.8408004811888], [20, 980.7207561909089, 13.1047486763932, 1013.7864490717682, 99.72140974514139], [36, 922.0844446357454, 9.94649543205771, 946.563667618045, 98.04436370287951], [60, 647.4453980925048, 647.6911528575699, 700.0913608095728, 720.0677263421371], [86, 1182.5173193458777, 272.8768233273461, 1239.411618077363, 379.513370596806], [105, 711.2618553066158, 62.94411163119988, 746.665188841252, 153.83962950607327], [117, 806.7514837180233, 436.7112944441093, 862.941318473318, 545.6680266218731], [120, 609.012126096323, 242.91164485479783, 649.059898788079, 346.2134692631806], [122, 837.2261030739817, -0.3632011623687035, 869.3130528009112, 66.90778326597126], [133, 295.9224417873572, 590.4591527660523, 358.60559517742024, 714.6866274522616], [135, 683.4994551574662, 135.11209828966233, 711.1715446834568, 223.93185006437955], [142, 825.1309032080114, 113.50318496906735, 864.2797760480771, 206.9774982924745], [145, 469.44480055943836, 182.33278420444645, 511.22852022481914, 292.6740144832436], [150, 131.1405167250626, 82.33282596827397, 177.35361057387496, 174.35591555645084], [152, 620.8454243382782, 24.78684353975131, 658.2932510940539, 111.54554170360532], [153, 1221.425288000385, 59.87363641427543, 1268.9911410368964, 169.47999482432905], [161, 137.41583143992978, 620.7617952355668, 204.18258456562148, 720.8337612754281], [162, 487.8359256639709, 452.06602642454385, 543.4472494866415, 575.9881985201058], [167, 880.2532734827969, 638.1890447745538, 967.3137946983097, 719.8999600391336]]\n"
          ]
        },
        {
          "output_type": "stream",
          "name": "stderr",
          "text": [
            "0: 384x640 29 persons, 1 bird, 1 handbag, 181.0ms\n",
            "Speed: 11.8ms preprocess, 181.0ms inference, 1.5ms postprocess per image at shape (1, 3, 640, 640)\n",
            "\n"
          ]
        },
        {
          "output_type": "stream",
          "name": "stdout",
          "text": [
            "[<deep_sort.deep_sort.detection.Detection object at 0x7f003c922500>, <deep_sort.deep_sort.detection.Detection object at 0x7f003548bca0>]\n",
            "<class 'list'> class\n",
            "[[5, 668.7539160224943, 503.10272441537086, 731.4382233105589, 641.3106143135551], [20, 980.6985284851643, 12.579787868373366, 1013.0408122975062, 96.72227318779187], [36, 922.1620540217282, 9.25860628919969, 946.8161965673618, 97.89715737137493], [60, 648.2519719898839, 651.0378583915027, 700.1505361433988, 719.4006241540752], [86, 1182.981169015138, 274.2473595932087, 1239.644174160402, 380.44728872203655], [105, 711.36825124388, 62.463341534511464, 745.8898382644027, 151.41542994455267], [117, 807.7743001113829, 439.7929419614228, 863.0293845814394, 546.3988649301314], [120, 609.5165543421997, 244.1328698376616, 650.6497692433708, 350.44242178450304], [122, 839.3858170507647, -0.37489056438187873, 870.6297624553724, 65.90778533514245], [133, 296.12620539910876, 592.4998445410044, 357.69340984563667, 714.2261366733974], [135, 683.5530737448229, 133.1653294092117, 710.5980002902074, 219.50363773009724], [142, 824.9134529137278, 111.79288442229279, 864.3592611528215, 206.15709286697677], [145, 469.85251868929646, 179.52443531343786, 512.539798643435, 292.2993652436501], [150, 131.60746483225864, 82.3597873091746, 177.24375928446017, 173.7580955602662], [152, 620.9255267847665, 24.406495197753394, 658.7977212354018, 112.67522162686302], [161, 140.26174249928346, 625.3513707928229, 205.55138201439274, 720.7113315632009], [162, 488.63665874876875, 448.3225365527578, 542.9399813283278, 569.7301228277729], [167, 876.1360575713986, 635.0639710882615, 964.6474299713395, 718.6025738516068]]\n"
          ]
        },
        {
          "output_type": "stream",
          "name": "stderr",
          "text": [
            "0: 384x640 32 persons, 1 bird, 205.3ms\n",
            "Speed: 11.9ms preprocess, 205.3ms inference, 1.5ms postprocess per image at shape (1, 3, 640, 640)\n",
            "\n"
          ]
        },
        {
          "output_type": "stream",
          "name": "stdout",
          "text": [
            "[<deep_sort.deep_sort.detection.Detection object at 0x7f003548bdc0>, <deep_sort.deep_sort.detection.Detection object at 0x7f00354f5570>]\n",
            "<class 'list'> class\n",
            "[[5, 665.4160693995663, 505.30054094527054, 731.0046547624523, 650.6447286706273], [20, 980.2773038718766, 12.444588906328939, 1012.5615640440843, 95.67188295102628], [36, 922.1786773830011, 9.007821106701442, 946.9130081392381, 97.85419025737565], [60, 648.8436917379145, 654.8394186544901, 700.4734419588835, 719.8598909760469], [105, 711.2683084469629, 61.01227084960943, 745.0787587591044, 148.5729270001093], [117, 808.843517784749, 441.5131917779105, 863.6758547027171, 547.1933560090455], [120, 610.4830120535491, 245.8570809923627, 651.7637175702932, 352.6437804051943], [122, 840.8979220696783, -0.34862595591112466, 871.6868426408296, 65.5832978038039], [133, 296.20078332230895, 595.1357323605957, 356.7318059873243, 714.5532064921531], [135, 683.6445717054644, 130.49995745168724, 710.9867876094027, 216.55410375560854], [142, 825.0789395332357, 111.2274999625613, 864.1277828910053, 204.61646428911638], [145, 469.89735748941155, 176.5590397340151, 513.1268105529291, 290.9044239148528], [150, 131.71077592579314, 82.34109430993841, 177.27286420167326, 174.15845837694678], [152, 621.0560281103985, 24.250209146422513, 659.5411926466127, 114.39538813256317], [161, 142.73281096090676, 628.9155149385829, 207.16710730389045, 720.5973003917621], [162, 489.50780642748464, 445.7126381102269, 542.202030308946, 563.5006375561563], [167, 871.0929248189693, 632.049924065334, 962.5312083357264, 718.3510001708397], [169, 253.90749803598305, 315.98360329072847, 304.8884540264155, 421.98360329072847]]\n"
          ]
        },
        {
          "output_type": "stream",
          "name": "stderr",
          "text": [
            "0: 384x640 29 persons, 2 birds, 210.0ms\n",
            "Speed: 11.6ms preprocess, 210.0ms inference, 1.5ms postprocess per image at shape (1, 3, 640, 640)\n",
            "\n"
          ]
        },
        {
          "output_type": "stream",
          "name": "stdout",
          "text": [
            "[<deep_sort.deep_sort.detection.Detection object at 0x7f003548ba30>, <deep_sort.deep_sort.detection.Detection object at 0x7f003548aec0>]\n",
            "<class 'list'> class\n",
            "[[5, 664.8850655301593, 510.577905032858, 731.3471847785116, 658.0212621389248], [20, 979.0620282859567, 9.764414427903723, 1012.1525522838598, 94.67889854913028], [36, 922.2515777547144, 8.922201125561855, 946.8717707569472, 97.18953187515851], [60, 648.8926384109757, 660.9067415807876, 698.5532199743119, 720.0111265226841], [105, 711.1828051048606, 59.193592595181336, 744.8350598370365, 146.24909566642103], [117, 811.6882931659212, 443.38335660589485, 865.414015515261, 547.380494161911], [120, 611.618303033488, 249.09216281377581, 652.717189790748, 355.40026604656754], [122, 841.8792952749673, -0.3143365614568481, 872.2589506880926, 64.83899192212525], [133, 296.6529559940378, 599.3330226207974, 355.32272284466626, 714.5422059693958], [135, 685.1666134492344, 128.90780004240867, 711.6418490599102, 211.54333590441792], [142, 825.0103765533004, 110.43933993636689, 864.1565183195131, 204.13301235406874], [145, 471.5594054468898, 174.18606001768646, 512.3357110310035, 280.61793662897406], [150, 131.7269170126176, 82.31209376926529, 177.30292375450463, 174.28435133004115], [152, 621.5455163895778, 24.832912989412563, 660.6862593092744, 117.64212996983758], [161, 146.943999487597, 634.1662032691398, 209.74873862537544, 720.5047044898041], [162, 490.70630656843605, 440.85519208439484, 541.0728556362174, 553.2711109151245], [167, 861.3592705135991, 624.2692606446647, 960.7898961396611, 719.6003359343646], [169, 254.1599532770156, 315.80096216800933, 305.1409092582117, 421.80096216800933]]\n"
          ]
        },
        {
          "output_type": "stream",
          "name": "stderr",
          "text": [
            "0: 384x640 27 persons, 2 birds, 1 backpack, 195.1ms\n",
            "Speed: 11.8ms preprocess, 195.1ms inference, 1.4ms postprocess per image at shape (1, 3, 640, 640)\n",
            "\n"
          ]
        },
        {
          "output_type": "stream",
          "name": "stdout",
          "text": [
            "[<deep_sort.deep_sort.detection.Detection object at 0x7f003548bdc0>, <deep_sort.deep_sort.detection.Detection object at 0x7f00354891b0>]\n",
            "<class 'list'> class\n",
            "[[5, 664.8531260982245, 515.1377967749063, 731.9448396196474, 664.0099568849316], [20, 977.6589314519858, 8.81149944710942, 1011.0106990469723, 93.69930709201088], [36, 922.4657116639976, 8.899506823456981, 947.3215230346102, 97.61350504341658], [60, 647.8308839759067, 664.9377059285687, 696.7118954330018, 720.052019979341], [105, 711.9855431535054, 57.90629336013374, 745.9199587998742, 145.4554410026971], [117, 813.7631645257494, 444.6446213467452, 866.3575896543857, 546.668308428249], [120, 612.2556870099647, 250.92077895053293, 654.1619663681447, 359.68694357468075], [122, 842.0855147299136, -0.2772041449536573, 872.5567467791079, 65.2735383921985], [133, 296.23241977836994, 602.3541936965028, 354.7434617010617, 717.2506650319384], [135, 686.16765315088, 127.72410607253704, 712.146848222975, 208.40316391407492], [142, 825.2456657266414, 109.5489401051729, 864.5586028986475, 204.028486692672], [145, 472.46988539486597, 172.0415042982631, 512.3968708551176, 274.66813048671304], [150, 132.3088105743092, 82.93911752759809, 177.39416230918022, 173.64697623378996], [152, 622.1403524950091, 25.69631924999083, 661.359035081971, 119.5098356864604], [161, 149.81043884562314, 637.9475548733188, 211.8840636535499, 720.4169894075045], [162, 491.2965694191145, 437.1726770715505, 541.2045702923813, 548.2981914084061], [167, 856.1460751493671, 618.8881905115555, 959.2881193039103, 719.8497145645857]]\n"
          ]
        },
        {
          "output_type": "stream",
          "name": "stderr",
          "text": [
            "0: 384x640 27 persons, 3 birds, 1 backpack, 1 handbag, 204.8ms\n",
            "Speed: 5.1ms preprocess, 204.8ms inference, 1.6ms postprocess per image at shape (1, 3, 640, 640)\n",
            "\n"
          ]
        },
        {
          "output_type": "stream",
          "name": "stdout",
          "text": [
            "[<deep_sort.deep_sort.detection.Detection object at 0x7f003548aec0>, <deep_sort.deep_sort.detection.Detection object at 0x7f01681662c0>]\n",
            "<class 'list'> class\n",
            "[[5, 665.3772485367348, 518.7402740174534, 732.9347241910874, 668.7705914357133], [20, 975.9263082931407, 7.843010708459225, 1009.8411812426409, 93.39400417829273], [36, 922.5901901919364, 8.898551753145078, 947.4367214652349, 97.1228969457656], [60, 648.8608814097546, 669.670975563069, 696.1238132905754, 720.0577335286837], [105, 711.6935972205049, 56.81589349367038, 745.5971593406616, 144.56232293959107], [117, 815.4528083270541, 446.34624128916596, 867.0785337014482, 546.9625664408312], [120, 612.5198872203221, 252.86585142272776, 654.6487563689856, 362.5481771868319], [122, 842.5404294888481, -0.2463943056366773, 872.8926752884759, 65.46761553768539], [135, 686.4931574809951, 126.6856798643192, 712.3668253720693, 206.67264182259078], [142, 825.0886132174422, 108.61709685546757, 864.2858600627117, 203.39952425914555], [145, 473.0257628055218, 171.3418250258676, 512.8414702475407, 271.93887258788243], [150, 132.4936726402854, 83.15503020826247, 177.46037488811382, 173.37879443292638], [152, 622.4603141899914, 26.019041734266118, 661.5168833680584, 120.19575060522143], [153, 1206.9838539240368, 51.09307750579902, 1261.4871023919861, 164.63988828058075], [161, 151.49260967287975, 641.1901383464867, 213.14415231938244, 720.3489995379911], [162, 491.2151683554579, 434.60983779093385, 541.5558044489551, 546.6487817616412], [167, 853.3305187709708, 615.6320055103282, 957.1464894484334, 719.9457822208936], [170, 993.4006268762214, 663.1433240614815, 1065.8967579411765, 720.0], [171, 665.6212588217421, 34.01612747713381, 690.3626137011241, 112.0]]\n"
          ]
        },
        {
          "output_type": "stream",
          "name": "stderr",
          "text": [
            "0: 384x640 26 persons, 2 birds, 1 handbag, 215.0ms\n",
            "Speed: 3.1ms preprocess, 215.0ms inference, 1.4ms postprocess per image at shape (1, 3, 640, 640)\n",
            "\n"
          ]
        },
        {
          "output_type": "stream",
          "name": "stdout",
          "text": [
            "[<deep_sort.deep_sort.detection.Detection object at 0x7f003548bdc0>, <deep_sort.deep_sort.detection.Detection object at 0x7f003548b850>]\n",
            "<class 'list'> class\n",
            "[[5, 666.6264663126882, 521.9670314986516, 733.5622757811893, 670.4411566005521], [20, 974.6699424218482, 6.86457858853165, 1008.7381847761686, 92.01119714259335], [36, 922.5975766253284, 8.906232963058208, 947.5080878346516, 96.94765189189275], [60, 649.4820309845824, 673.1934680953037, 695.625892164165, 720.0508912393909], [86, 1184.3507040842535, 281.9433061680406, 1242.5930639084581, 391.56639085558896], [105, 712.4476518671402, 55.79926794719277, 746.6016554745287, 144.29398513315422], [117, 816.2444442605532, 448.2202500604682, 868.4596670086701, 550.3230743388284], [120, 612.7016517812388, 254.20094631439576, 655.3688496020761, 365.53381987124976], [122, 843.4012881887411, -0.21751114319704357, 873.5922220025531, 64.90959237952775], [133, 295.8503026601133, 605.5021494713832, 353.99834988327603, 718.6900632055382], [135, 686.7683811861178, 125.02562907096512, 712.9520393895475, 206.12621535859978], [142, 824.7089054508638, 107.6686207181284, 863.8315579503371, 202.57007343104328], [145, 472.51317336681893, 169.8160753239797, 513.0177271091687, 271.05158653412946], [150, 132.52731492580972, 83.21667580415007, 177.51461912999102, 173.26130695455169], [152, 622.7787997129373, 26.129369595549292, 661.3653619502724, 119.76527878359028], [153, 1203.6450156719413, 50.55577008743922, 1261.533403761277, 164.20653504918045], [161, 152.84805092403315, 643.5486393219944, 214.70652284873432, 720.2929034932988], [162, 490.917837090199, 432.4478056379845, 541.9583390611446, 546.1876923208117], [167, 851.4664758079074, 611.9257927797037, 956.0499119059455, 719.9841910040342], [170, 990.0771924313152, 658.0834534115498, 1068.3528879401324, 720.0], [171, 665.4720441630537, 34.81198816247206, 690.4813904842027, 113.53084561945707]]\n"
          ]
        },
        {
          "output_type": "stream",
          "name": "stderr",
          "text": [
            "0: 384x640 28 persons, 2 birds, 1 handbag, 207.9ms\n",
            "Speed: 7.1ms preprocess, 207.9ms inference, 1.4ms postprocess per image at shape (1, 3, 640, 640)\n",
            "\n"
          ]
        },
        {
          "output_type": "stream",
          "name": "stdout",
          "text": [
            "[<deep_sort.deep_sort.detection.Detection object at 0x7f01681662c0>, <deep_sort.deep_sort.detection.Detection object at 0x7f003548af20>]\n",
            "<class 'list'> class\n",
            "[[5, 668.2528105660141, 525.0473156735269, 733.9574886224308, 670.2428536563949], [20, 973.8601590185217, 6.545460313176598, 1008.0568958685908, 91.54398026935644], [36, 922.643888438862, 8.91565084001408, 947.4806880917155, 96.23004719425298], [60, 650.3028426054162, 676.3131088833627, 694.8256502651258, 719.3172023608648], [86, 1184.7177578532649, 283.38967311442445, 1242.997628859936, 393.08028171091206], [105, 711.3110630742558, 54.80749563243654, 745.7599115929659, 144.25164148076718], [117, 816.6381775731045, 451.48551817870106, 870.1419040496858, 556.7874060886962], [120, 613.0485357909974, 254.64995141043184, 655.9834829341671, 367.2507438064842], [122, 844.4575151117567, -0.18998080493014768, 874.3895878009059, 64.06475929053664], [133, 296.3151184698551, 609.4473004081889, 353.35632772087877, 719.6139498631267], [135, 686.4061882434561, 123.80203477750906, 712.9575092580675, 206.66112366160843], [142, 824.593741804971, 106.04993840764314, 863.6239352345816, 200.99902685870592], [145, 471.98157559265775, 167.98594089021745, 513.4032074340945, 270.1499067884106], [150, 131.9865590062873, 83.22179065501683, 177.41955104139825, 173.86517601527805], [152, 623.6855538890042, 28.12892077564637, 661.162211732011, 119.56049326091636], [153, 1202.241245773976, 54.43031951887669, 1259.8285045986352, 162.10719301837022], [161, 153.79947019102033, 645.6061786543144, 215.98353304746843, 720.2477542483948], [162, 490.69323306607953, 431.0932609031007, 542.2270551466052, 546.1571283358267], [167, 849.487796605342, 608.0366843591474, 954.5523766742954, 719.9990501031358], [170, 987.5941827303021, 653.6101580806712, 1070.5088729815225, 719.9999999999999], [171, 666.0387080833343, 36.526077351307606, 691.3853465716514, 116.22391671238302], [172, 813.2258992402355, 0.0, 833.7741007597643, 43.984077213757026]]\n"
          ]
        },
        {
          "output_type": "stream",
          "name": "stderr",
          "text": [
            "0: 384x640 30 persons, 3 birds, 209.2ms\n",
            "Speed: 2.8ms preprocess, 209.2ms inference, 1.5ms postprocess per image at shape (1, 3, 640, 640)\n",
            "\n"
          ]
        },
        {
          "output_type": "stream",
          "name": "stdout",
          "text": [
            "[<deep_sort.deep_sort.detection.Detection object at 0x7f003548b850>, <deep_sort.deep_sort.detection.Detection object at 0x7f01681645b0>]\n",
            "<class 'list'> class\n",
            "[[5, 673.8098238053688, 528.0705356110627, 737.0989053087491, 668.6675376056672], [20, 972.7045948894433, 5.146129856201391, 1006.7279349412623, 89.43236115247475], [36, 922.6209067047572, 8.92543357738574, 947.5002523290115, 95.97082355044154], [60, 652.4381112987115, 680.1153868470852, 692.9910902960632, 719.2750752208913], [105, 710.8039167775847, 54.48215830048336, 745.5176611603538, 144.28884055393115], [117, 817.5105170696768, 456.56850738221453, 871.3085225296288, 563.0755146934866], [120, 614.1980247352324, 256.0689948649026, 656.4725156799802, 367.17363656444036], [122, 847.2817980857949, -0.16544473781613434, 876.1992212906866, 61.77599611072962], [133, 296.46156171611665, 616.1446256560301, 351.13920287995086, 719.895396128387], [135, 686.417324778756, 122.07983962451848, 713.4597604478544, 206.93135742063504], [142, 824.714187827012, 102.85460661548815, 863.3780949946799, 196.50243420671956], [145, 471.03045739507775, 166.04407908076385, 512.9497663597513, 269.24467485126735], [150, 131.0809739796748, 84.5287081982699, 177.42135874681978, 176.72002705883688], [152, 624.3107195362074, 30.866005481949543, 660.7868003517116, 120.10741675651553], [153, 1201.0790498050621, 53.75941631345485, 1258.0054114436455, 160.19746241652297], [161, 156.10559641497932, 650.3321212641669, 217.05565208193434, 720.2099372972631], [162, 490.5357408371754, 428.05779662351705, 543.0658915760562, 545.6213251830453], [167, 846.8533030562872, 602.8022604515918, 952.8548870527607, 720.0045093589529], [170, 983.1815960889708, 644.7142538332537, 1075.4695505478917, 720.0], [171, 666.5001672038929, 38.50601176755553, 692.1359473866626, 119.23766915310878], [172, 813.2684543889926, 0.0, 833.7315456110073, 43.801895883960086]]\n"
          ]
        },
        {
          "output_type": "stream",
          "name": "stderr",
          "text": [
            "0: 384x640 27 persons, 4 birds, 224.7ms\n",
            "Speed: 11.8ms preprocess, 224.7ms inference, 1.4ms postprocess per image at shape (1, 3, 640, 640)\n",
            "\n"
          ]
        },
        {
          "output_type": "stream",
          "name": "stdout",
          "text": [
            "[<deep_sort.deep_sort.detection.Detection object at 0x7f01681662c0>, <deep_sort.deep_sort.detection.Detection object at 0x7f003548aec0>]\n",
            "<class 'list'> class\n",
            "[[5, 671.3545916115414, 530.4039351589478, 734.1045750723475, 667.9155631500457], [20, 971.9878685178096, 4.664634591584246, 1005.9120055089905, 88.68909729382781], [36, 922.5755384730169, 8.934144599399083, 947.5356687516847, 95.88564273027777], [105, 710.5670170482123, 53.091237599097525, 745.4753526402798, 143.69497297857393], [117, 817.7565255579108, 461.0511799777321, 871.7783495324866, 568.6666289007014], [120, 614.7526738928834, 257.8657414613056, 656.5024681271581, 367.7088068858164], [122, 849.2189181598316, -0.14140259695378532, 877.2660439590595, 59.6067550427253], [133, 296.6501894006914, 620.5103529254422, 350.2321107115758, 719.88960341521], [135, 686.6464881799449, 120.82579405589905, 714.0710418563175, 207.0947221126873], [142, 825.3289613133692, 101.04704615848115, 863.377980907604, 192.8757287057561], [145, 469.9360209310885, 164.7221930085645, 512.1747270300699, 269.6546805948508], [150, 131.0244300450957, 85.02205872369858, 177.44127674444485, 177.3653260482008], [152, 624.4684085908744, 31.869347577013727, 660.704586740512, 120.28118638434971], [161, 159.29152172898924, 653.7764386033517, 217.55739967752893, 720.5749793248535], [162, 489.4757594959066, 425.0419439118655, 543.0727479014846, 545.5245361493568], [167, 843.6151948828378, 599.5747810847669, 948.8713457368385, 720.0062828533779], [170, 981.4167153254756, 639.4644512810703, 1078.0824765144407, 720.0], [171, 666.6289024303221, 38.47333071295046, 693.1126481434583, 121.63290767479432]]\n"
          ]
        },
        {
          "output_type": "stream",
          "name": "stderr",
          "text": [
            "0: 384x640 31 persons, 4 birds, 201.3ms\n",
            "Speed: 4.3ms preprocess, 201.3ms inference, 1.5ms postprocess per image at shape (1, 3, 640, 640)\n",
            "\n"
          ]
        },
        {
          "output_type": "stream",
          "name": "stdout",
          "text": [
            "[<deep_sort.deep_sort.detection.Detection object at 0x7f003548bca0>, <deep_sort.deep_sort.detection.Detection object at 0x7f00354f5c90>]\n",
            "<class 'list'> class\n",
            "[[5, 670.0745809990053, 532.4832061524965, 732.6454893474088, 667.5192195290753], [20, 971.3499678280947, 3.863520318115441, 1005.3778815530973, 88.46148668477863], [36, 922.5251542372356, 8.941900275144448, 947.5745613855587, 95.8652732418898], [105, 710.6200544757114, 52.60892968403199, 745.3238714182739, 142.8546314755016], [117, 817.5789366796948, 463.97244904874236, 872.8208848463546, 575.273822936826], [120, 615.5602318673523, 261.13058011620643, 656.5354781392223, 368.4989697070151], [122, 849.5524337337802, -0.12102501890791828, 877.2677729204754, 58.85406489333238], [133, 296.338918046374, 623.3000235690658, 349.64261050521384, 719.8091431548074], [135, 686.8362452617949, 120.40533565751284, 714.1910793525651, 206.55962857599934], [142, 825.5215356484574, 98.43968937866367, 863.4139409377663, 189.5951861520163], [145, 468.84879978436646, 163.63068913576762, 511.2325915499153, 269.88437944358697], [152, 624.7259667779506, 33.54466431727723, 660.4601634606511, 120.31965047704222], [153, 1199.020963017162, 52.05597182310304, 1255.726242673208, 154.31872104179288], [162, 489.13755999530156, 423.3400844194209, 543.010892226699, 544.9313669411465], [167, 840.4149785814114, 596.5195899426063, 944.95939092143, 720.0065207696348], [170, 979.704556607978, 634.3327388782366, 1080.1481895793913, 720.0], [171, 667.1100745479318, 39.77656367230371, 693.6872616393866, 123.11471462490128]]\n"
          ]
        },
        {
          "output_type": "stream",
          "name": "stderr",
          "text": [
            "0: 384x640 28 persons, 2 birds, 201.9ms\n",
            "Speed: 16.6ms preprocess, 201.9ms inference, 1.4ms postprocess per image at shape (1, 3, 640, 640)\n",
            "\n"
          ]
        },
        {
          "output_type": "stream",
          "name": "stdout",
          "text": [
            "[<deep_sort.deep_sort.detection.Detection object at 0x7f003548bdc0>, <deep_sort.deep_sort.detection.Detection object at 0x7f0168166e30>]\n",
            "<class 'list'> class\n",
            "[[5, 670.4963622104854, 535.8102628568419, 732.5213213332968, 667.9370545482793], [20, 970.6268091078224, 3.6008700069313733, 1004.4003049498665, 87.75981543017285], [36, 922.3945169727095, 8.948789963969041, 947.6939884029333, 96.53058384232804], [105, 710.5977480062465, 51.81529193763565, 744.6567854222444, 140.59954699320593], [117, 818.3152105279897, 466.9462203369248, 873.6655221467707, 579.6290921597491], [120, 616.0185171766001, 263.6255614342322, 656.349699604376, 368.7208603115532], [122, 850.0432495163501, -0.10560647466292394, 877.5008100400611, 57.945254394763325], [133, 295.5648880545809, 626.8905782703762, 348.0834482810393, 719.7137665523462], [135, 686.629757400874, 119.65019844960977, 713.8427745202285, 205.75316375595975], [142, 825.3187797270452, 95.53940331434363, 863.6976700206865, 187.79064080937144], [145, 468.53790253131797, 163.28281213310623, 510.77169698993885, 270.04196280242], [150, 129.46418207957538, 88.52804339199756, 176.9132984374276, 182.314593544271], [152, 624.5341920937016, 33.471030240877, 660.6406095603011, 120.9735566148065], [153, 1198.022330103578, 51.34252584911758, 1253.931729030569, 152.16673862884437], [162, 488.94570634187346, 421.491885108607, 543.0537413093651, 544.1509835968391], [167, 832.9438696470766, 594.165548170359, 937.0817123709476, 720.0062188319334], [170, 977.8237282281507, 630.5236404999839, 1080.277606865065, 720.0], [171, 667.4365073102514, 40.89868560020865, 693.7255340459399, 123.58460916240217]]\n"
          ]
        },
        {
          "output_type": "stream",
          "name": "stderr",
          "text": [
            "0: 384x640 29 persons, 3 birds, 1 backpack, 183.1ms\n",
            "Speed: 9.5ms preprocess, 183.1ms inference, 1.7ms postprocess per image at shape (1, 3, 640, 640)\n",
            "\n"
          ]
        },
        {
          "output_type": "stream",
          "name": "stdout",
          "text": [
            "[<deep_sort.deep_sort.detection.Detection object at 0x7f00354f73d0>, <deep_sort.deep_sort.detection.Detection object at 0x7f00354f6560>]\n",
            "<class 'list'> class\n",
            "[[5, 671.1213083356233, 538.2619988446878, 732.6643567169652, 667.3222036065572], [20, 970.0085812779613, 2.218403973169643, 1003.7801377015414, 86.87954718571953], [36, 921.9481030861491, 8.954610957459977, 947.4706135133495, 96.78869584793684], [105, 711.0086469136326, 50.89979588857662, 744.6579143800134, 138.46444400138955], [117, 819.7929780054292, 470.59268635284195, 874.043180955771, 581.8252133933597], [120, 615.7139948272265, 265.15142289124196, 656.0467092086697, 370.0733018330389], [122, 850.5544937890684, -0.09162374170695742, 877.8534733835585, 56.97959449069273], [133, 295.1672227465675, 630.7734133718849, 346.9972566077222, 720.2977706605229], [135, 686.9498567023586, 118.75862017731842, 713.9588093739646, 204.17775764175943], [142, 825.8654799724376, 94.52184407284071, 863.8381653301612, 185.2092543402119], [145, 468.2923361847005, 162.55861188139818, 510.7306697518098, 270.82484494527966], [150, 128.5728523299557, 90.44320185381531, 176.11648845983214, 183.7812899324599], [152, 623.8244982982777, 32.754854872585085, 660.6734240217555, 121.85830391009226], [162, 489.1891865802258, 419.57889023520715, 542.7588986534074, 541.3194921536978], [167, 830.2944970768792, 591.4501863144335, 933.8851270822834, 720.0057245264317], [170, 977.1868352601938, 627.8884953560869, 1080.1947677714006, 720.0], [171, 667.1984133947724, 41.94831688185008, 693.3934994874598, 124.35521006388171]]\n"
          ]
        },
        {
          "output_type": "stream",
          "name": "stderr",
          "text": [
            "0: 384x640 30 persons, 2 birds, 198.4ms\n",
            "Speed: 3.7ms preprocess, 198.4ms inference, 2.1ms postprocess per image at shape (1, 3, 640, 640)\n",
            "\n"
          ]
        },
        {
          "output_type": "stream",
          "name": "stdout",
          "text": [
            "[<deep_sort.deep_sort.detection.Detection object at 0x7f013411be50>, <deep_sort.deep_sort.detection.Detection object at 0x7f00354f4310>]\n",
            "<class 'list'> class\n",
            "[[5, 669.4672105293522, 544.4289927139178, 733.9138707134016, 678.4602772148137], [20, 969.0461844621815, 1.0738354923615674, 1002.3549895565407, 84.6075194992135], [36, 921.7365907043135, 8.959943360574933, 947.423600774064, 96.89201330102759], [77, 490.131515145073, 11.019135457758999, 521.8234703143825, 80.02029817087791], [105, 710.8658036566717, 48.60461312759756, 744.298526794011, 135.71814459040402], [117, 821.1304502721907, 475.1642097113205, 874.0116957251834, 583.8232899857937], [120, 614.9673641444389, 267.64710148416964, 655.8739176949749, 373.84562886769106], [122, 850.5059516664725, -0.07924279012381774, 877.4732041306971, 55.317667346623296], [133, 294.5610353355512, 637.5093617828985, 343.6857813275646, 719.763696568408], [135, 687.0832938977785, 117.45029585085332, 714.1038168803486, 202.90925288733092], [142, 826.0058732586008, 94.2263674043898, 863.9538105801803, 184.32993314007103], [145, 467.71338969716567, 160.37032070084427, 510.55379748295644, 270.51352397771456], [150, 127.38179121173555, 93.75135901536092, 174.73518455507434, 186.26813894182465], [152, 622.6613142180814, 34.43506182894122, 660.2571024674323, 124.80183997792182], [153, 1180.2782567239854, 61.29933942864255, 1230.968605638946, 150.5922342086389], [162, 489.0987922833584, 415.664480742947, 542.1767891154078, 535.7154274665725], [167, 825.8059251542286, 587.9450252444167, 929.2780328360901, 720.0052118666409], [170, 976.6051451754968, 623.8290040272605, 1081.1209454761627, 720.0000000000001], [171, 667.0102513284736, 44.30957706276681, 692.6735099600364, 124.57935948217565]]\n"
          ]
        },
        {
          "output_type": "stream",
          "name": "stderr",
          "text": [
            "0: 384x640 30 persons, 1 bird, 281.0ms\n",
            "Speed: 9.7ms preprocess, 281.0ms inference, 1.9ms postprocess per image at shape (1, 3, 640, 640)\n",
            "\n"
          ]
        },
        {
          "output_type": "stream",
          "name": "stdout",
          "text": [
            "[<deep_sort.deep_sort.detection.Detection object at 0x7f01681662c0>, <deep_sort.deep_sort.detection.Detection object at 0x7f00354f6560>]\n",
            "<class 'list'> class\n",
            "[[5, 666.605189306851, 547.9148387639555, 735.3066251311787, 690.341826929363], [20, 968.0544281152623, 0.019087582473346743, 1001.1827031099735, 83.12938723536213], [36, 921.5373491179118, 8.964689462633729, 947.5233175253663, 97.59544583751735], [77, 490.69167934865044, 10.27294067179686, 523.3235879130872, 79.97033643722371], [105, 710.9210609349302, 47.12655069083028, 744.0629203485435, 134.08053138987242], [117, 821.5354589537344, 478.0980998768707, 873.3710671671474, 584.4282244238198], [120, 614.3907641159713, 269.8383559326176, 656.7440655633623, 379.8246744977844], [122, 850.3230400883757, -0.06773326394409551, 877.425264724621, 54.75343172206844], [133, 294.6778066641759, 641.4173480962975, 342.0167437034268, 720.6784682959961], [142, 825.493626403493, 93.51843379173243, 863.889011786315, 184.08481150664437], [145, 467.47963685341693, 158.93505623791876, 510.5086675093329, 270.4369333812325], [150, 127.05241262608283, 94.87200666648529, 174.44904171239776, 187.47283155494694], [152, 621.6417513560199, 35.708451187128304, 660.0128146230414, 127.86726049189863], [153, 1173.149550955658, 63.41265579491919, 1223.742614741141, 149.6549884755952], [162, 489.50427319628494, 412.9660969503597, 541.5226866184059, 529.7152889360212], [167, 822.064621144435, 584.7657604185174, 925.2022764943973, 720.0047353330312], [170, 976.4591257801168, 621.0769766614083, 1080.7776002264789, 720.0], [171, 666.7947736715648, 45.14736891789445, 692.5244105109465, 125.26837974369153]]\n"
          ]
        },
        {
          "output_type": "stream",
          "name": "stderr",
          "text": [
            "0: 384x640 26 persons, 1 bird, 295.8ms\n",
            "Speed: 5.5ms preprocess, 295.8ms inference, 1.8ms postprocess per image at shape (1, 3, 640, 640)\n",
            "\n"
          ]
        },
        {
          "output_type": "stream",
          "name": "stdout",
          "text": [
            "[<deep_sort.deep_sort.detection.Detection object at 0x7f00354891b0>, <deep_sort.deep_sort.detection.Detection object at 0x7f00354f53c0>]\n",
            "<class 'list'> class\n",
            "[[5, 664.648803455194, 551.7369985352962, 736.0552987994212, 699.9276146525754], [20, 967.5466665187357, -0.3367801926086855, 1000.2821196902722, 81.95934935233429], [36, 921.7181842170372, 8.968687285199103, 947.9629617588776, 97.86287141979994], [77, 492.7409635162429, 10.084474732151918, 525.409189654467, 79.85975997533585], [105, 710.8420633959367, 46.61997329706778, 743.4188718547059, 132.1965641293037], [117, 820.6405728071894, 479.070654518709, 872.7847996187613, 585.1849679342037], [120, 613.802941919181, 271.26090945841656, 658.0792098116709, 386.58663258022614], [122, 849.4455448218513, -0.05892312093742191, 877.4969235639002, 55.93793524485654], [135, 688.2731971597805, 114.9741075796961, 713.6869570738155, 194.99182461476104], [142, 825.2294510426814, 93.31210387877309, 863.932495924745, 184.0640688338537], [145, 467.863454793142, 157.78883393162207, 510.68295385040426, 269.7951479306828], [150, 125.67624919557592, 95.21897428241589, 173.7397776108952, 188.9288635402669], [152, 621.1056801788052, 37.4759036672668, 659.4155006885588, 129.00039434439543], [153, 1169.886414558219, 64.05607426305555, 1221.9335474892773, 150.0584445127406], [162, 490.2908380521465, 410.73703882556845, 540.6511964569012, 522.8988139837475], [167, 818.9644513103228, 581.715259599091, 921.6319986380887, 720.004279423901], [170, 977.2797410221932, 617.5932501530854, 1081.662325855765, 720.0], [171, 666.8658453158554, 46.08304899419187, 692.3096445443962, 124.8077956763783]]\n"
          ]
        },
        {
          "output_type": "stream",
          "name": "stderr",
          "text": [
            "0: 384x640 30 persons, 1 bird, 275.1ms\n",
            "Speed: 9.7ms preprocess, 275.1ms inference, 2.0ms postprocess per image at shape (1, 3, 640, 640)\n",
            "\n"
          ]
        },
        {
          "output_type": "stream",
          "name": "stdout",
          "text": [
            "[<deep_sort.deep_sort.detection.Detection object at 0x7f003c922500>, <deep_sort.deep_sort.detection.Detection object at 0x7f00354f4cd0>]\n",
            "<class 'list'> class\n",
            "[[5, 664.4114325058165, 555.6919053221666, 736.4632349213556, 705.4679223736932], [20, 967.1400349373138, -0.4293644261499381, 999.565568741029, 80.9056425457257], [36, 921.4572229913094, 8.972339286141, 947.7996903059021, 97.96406737092474], [105, 710.3351761135472, 45.81665121346707, 742.9956549220205, 131.5527390655389], [117, 819.5199410290415, 481.316721001316, 872.6496149309157, 588.6763668373752], [120, 613.8850687397124, 273.6884067950183, 658.913787502208, 391.04630637003845], [122, 849.526255692266, -0.052601160217644605, 877.7571588039028, 55.73072435672917], [135, 688.5141887984396, 114.60550146916724, 713.5634866593615, 193.05718581895945], [142, 825.2965020835933, 91.96932015839229, 864.4409944959215, 184.1268165836836], [145, 467.9535978052676, 156.75360362441077, 510.1622219976503, 268.2778362687337], [150, 124.48459080869674, 96.75718496585583, 173.05508863616802, 191.39706265581722], [152, 620.6180552710854, 38.781218266976154, 659.4734449912331, 131.36463941106854], [153, 1166.7334608492529, 66.302790564265, 1218.7753975629475, 150.92900047602973], [162, 490.1033576206805, 408.0125893183035, 540.142210067324, 518.4794444666888], [167, 819.3978293589474, 579.9953934831929, 920.1066010608006, 719.3632710571629], [170, 977.4865525325988, 614.4376473029592, 1081.507155898629, 720.0], [171, 666.4647053015235, 46.38251598407602, 691.9756487357911, 124.58191293742446]]\n"
          ]
        },
        {
          "output_type": "stream",
          "name": "stderr",
          "text": [
            "0: 384x640 30 persons, 1 bird, 287.5ms\n",
            "Speed: 7.3ms preprocess, 287.5ms inference, 1.9ms postprocess per image at shape (1, 3, 640, 640)\n",
            "\n"
          ]
        },
        {
          "output_type": "stream",
          "name": "stdout",
          "text": [
            "[<deep_sort.deep_sort.detection.Detection object at 0x7f003548b9a0>, <deep_sort.deep_sort.detection.Detection object at 0x7f003548aec0>]\n",
            "<class 'list'> class\n",
            "[[5, 664.2668034042111, 559.7001737482564, 736.6771837304922, 710.0471780382093], [20, 966.6015402081628, -0.4262973093700779, 999.0862590046784, 81.22829398687594], [36, 921.4227671718472, 9.635098879665023, 947.6710454111924, 98.00113263431494], [105, 709.8594318587251, 45.558772356908925, 742.4727244416481, 131.36619717642364], [117, 818.1468634673953, 484.0392514302381, 873.5193493684702, 595.8181773404045], [120, 613.6852772142178, 277.1610170499545, 658.150909234526, 393.33100776028704], [122, 849.454905451553, -0.04587351060104439, 877.9168953255488, 55.685541615819105], [135, 688.1814264772937, 113.80944067945303, 713.2597458274395, 192.428531841907], [142, 826.0198119481452, 91.5121936847899, 865.2473530435115, 184.2036952507271], [145, 468.4950490210404, 156.41815439250894, 510.1230006171862, 267.0801484993343], [150, 123.81710791797391, 97.94874518875437, 172.4060756372989, 192.25931996743043], [152, 619.5217889464564, 39.24356681381005, 659.1043104082682, 133.52865523165576], [153, 1163.945289258571, 65.71960592810265, 1216.8768069180762, 151.3092901531317], [162, 489.6280932027364, 405.7734021770977, 539.6999433603432, 515.6497100694341], [167, 819.4873679390473, 577.5195885106452, 917.291440516409, 716.5320845336395], [170, 977.8098134604487, 610.7798443968621, 1080.5695685440285, 718.732771276057], [171, 666.24637582347, 47.121030165719816, 691.9165412335533, 125.13114783526689], [174, 1243.2474642589336, 133.35506276865266, 1278.9893770972105, 245.5755074155256]]\n"
          ]
        },
        {
          "output_type": "stream",
          "name": "stderr",
          "text": [
            "0: 384x640 31 persons, 1 bird, 282.8ms\n",
            "Speed: 3.6ms preprocess, 282.8ms inference, 1.8ms postprocess per image at shape (1, 3, 640, 640)\n",
            "\n"
          ]
        },
        {
          "output_type": "stream",
          "name": "stdout",
          "text": [
            "[<deep_sort.deep_sort.detection.Detection object at 0x7f003c922500>, <deep_sort.deep_sort.detection.Detection object at 0x7f003548ba30>]\n",
            "<class 'list'> class\n",
            "[[5, 664.0668373772971, 565.0303911281271, 736.9051419475522, 716.2041301497504], [20, 965.2902504849601, -0.39676387119754253, 998.0863502207951, 82.05164368206192], [36, 921.3861240044828, 9.887596306493222, 947.6452390676351, 98.0135812422454], [77, 501.1314863595014, 12.62549768802755, 530.7130299809685, 79.9492221945325], [105, 708.379150517585, 44.84160251512814, 740.9396954551243, 130.68736340244814], [117, 818.2034965274282, 490.18984605391756, 874.5536582754152, 602.9749628702161], [120, 613.4271119688484, 281.04967312794633, 658.0088986337212, 397.37092146007876], [122, 849.0538497665451, -0.040153115705614084, 877.6527583002212, 55.694305050202914], [135, 687.8807420960221, 112.2212457829761, 713.3228029148319, 192.25274914268726], [142, 826.7068424854572, 90.07489636233808, 865.7956354344147, 182.97156450196337], [145, 469.30504227222724, 154.36701120759, 509.5121374089565, 261.38585049746393], [150, 122.25615542352843, 99.01770529877399, 170.86373723083742, 192.53362892550666], [152, 619.673116421879, 42.65515559299151, 658.4059405759575, 134.96157126659725], [153, 1161.9542250320424, 64.80687649454198, 1215.396786908637, 151.4805221769327], [162, 488.7282978107123, 403.04230192813105, 539.6027561966791, 514.0693580978963], [167, 815.1027540887652, 575.3866692421993, 904.0075253714339, 704.3988897691614], [170, 975.8763958597822, 604.3738746976246, 1081.6199393862098, 719.498353146463], [171, 666.289007039829, 48.691906540698916, 692.4362255612982, 127.97281941733138], [174, 1236.365782813393, 94.28559172704504, 1284.8909553608883, 248.39225177045532]]\n"
          ]
        },
        {
          "output_type": "stream",
          "name": "stderr",
          "text": [
            "0: 384x640 31 persons, 1 bird, 208.6ms\n",
            "Speed: 2.5ms preprocess, 208.6ms inference, 1.4ms postprocess per image at shape (1, 3, 640, 640)\n",
            "\n"
          ]
        },
        {
          "output_type": "stream",
          "name": "stdout",
          "text": [
            "[<deep_sort.deep_sort.detection.Detection object at 0x7f003548aec0>, <deep_sort.deep_sort.detection.Detection object at 0x7f00354f4670>]\n",
            "<class 'list'> class\n",
            "[[5, 664.3476815083699, 570.2088054824658, 735.9823789344958, 719.0436970833412], [20, 964.5432615419348, -0.3595676465644999, 997.3622749989468, 82.39618489175422], [36, 921.2665359288417, 9.981122904619212, 947.741439965189, 98.67834065374413], [77, 503.3135202317186, 12.767398303569756, 532.8030416542459, 79.88343928434239], [105, 707.8477013216956, 45.274093755517235, 740.356568282712, 131.1442532571636], [117, 818.3844705895704, 493.3370781564792, 875.0607034536221, 606.7718570313252], [120, 613.311820773624, 283.760940366044, 657.9583471905325, 400.1135201283117], [122, 848.9889333295257, -0.035245879888694986, 878.1077613923171, 56.38538139771384], [135, 687.7866965289754, 111.6691891307486, 713.3233673529926, 192.2409186937611], [142, 827.1598912794647, 87.60162820821087, 866.4591746975644, 181.89458948689872], [145, 470.120997600733, 152.31601206682288, 509.44748275953395, 257.27088557759384], [150, 121.58050367971846, 100.03967867211908, 170.40404030424975, 193.24735876602728], [152, 619.5127176662069, 45.25634890873166, 657.7119428928535, 135.44891677925676], [153, 1160.9133238956279, 63.10647528274098, 1215.4114664904355, 151.57636341683593], [162, 488.05944358994964, 400.79358522065786, 539.9141817317405, 513.600002022984], [167, 810.7816739279247, 572.2293518632265, 900.8655955888653, 702.9532571489729], [170, 976.4042634901787, 600.0584925464834, 1082.628027112681, 719.8004331129405], [171, 666.005987105309, 50.566416053454944, 692.2663542801259, 129.6632000759423], [174, 1233.7029188786673, 78.0358293242843, 1287.2301922675115, 250.58914876759945]]\n"
          ]
        },
        {
          "output_type": "stream",
          "name": "stderr",
          "text": [
            "0: 384x640 27 persons, 1 traffic light, 1 bird, 1 dog, 232.3ms\n",
            "Speed: 7.2ms preprocess, 232.3ms inference, 1.3ms postprocess per image at shape (1, 3, 640, 640)\n",
            "\n"
          ]
        },
        {
          "output_type": "stream",
          "name": "stdout",
          "text": [
            "[<deep_sort.deep_sort.detection.Detection object at 0x7f01681645b0>, <deep_sort.deep_sort.detection.Detection object at 0x7f00354891b0>]\n",
            "<class 'list'> class\n",
            "[[5, 664.5372391328405, 572.6966324806534, 736.2066094082551, 721.2443161936812], [20, 964.0518096555959, -0.32004602392189696, 996.7009415608208, 81.89761664901488], [36, 921.2935563704857, 10.014248538204534, 947.7059187972121, 98.26701384813362], [105, 707.8523840829394, 44.81145921374553, 740.6227444201157, 131.36177512914014], [120, 613.5332401510208, 284.7085236721335, 658.3178332204564, 401.0473528049018], [122, 848.9060674059159, -0.03128126405312415, 878.316445327108, 56.659619399466564], [135, 687.4861771000333, 111.50815986721314, 712.9220970033625, 192.2961268300404], [142, 827.7779566860859, 86.71347031682338, 866.2488765105594, 179.56262277295968], [145, 470.73694019655454, 150.27554207652423, 509.7812016525038, 254.47458137609104], [150, 120.59221540220587, 101.04428491998985, 169.6861754067336, 194.1327743736522], [152, 619.4924962134843, 46.85126543951763, 657.4286270520976, 135.57542631083822], [153, 1160.6384772941285, 61.79534732522719, 1214.196080577857, 149.64822925171896], [162, 487.76676727609663, 400.04316211936487, 540.0871413265755, 513.5358606702557], [170, 976.6163629395705, 596.5688300355948, 1082.4126698515856, 719.9243609560904], [171, 666.4165468553057, 53.22409991763791, 692.3439369586926, 130.92386138816778], [174, 1231.1269741290641, 64.41589191408059, 1289.396104916935, 252.25532011583897]]\n"
          ]
        },
        {
          "output_type": "stream",
          "name": "stderr",
          "text": [
            "0: 384x640 27 persons, 1 bird, 1 dog, 194.4ms\n",
            "Speed: 3.7ms preprocess, 194.4ms inference, 1.4ms postprocess per image at shape (1, 3, 640, 640)\n",
            "\n"
          ]
        },
        {
          "output_type": "stream",
          "name": "stdout",
          "text": [
            "[<deep_sort.deep_sort.detection.Detection object at 0x7f0168166e30>, <deep_sort.deep_sort.detection.Detection object at 0x7f003548ba30>]\n",
            "<class 'list'> class\n",
            "[[5, 665.4892764726131, 576.1342955624293, 736.0711171876679, 721.9144401531947], [20, 963.3366989494431, -0.2812468287396541, 995.7212713546149, 81.07476419327777], [36, 921.002982052869, 10.024336161148753, 947.3320231213999, 98.10682921337896], [105, 707.5824683397435, 44.66695813212116, 740.3604250657, 131.4790813218821], [120, 614.343964360284, 286.2979749676639, 659.0314440377954, 401.95077833941093], [122, 848.3053567469765, -0.027600865755029957, 877.6203916203583, 56.116553422872585], [135, 686.9440075560606, 110.82926950936036, 712.5342174040072, 192.36814383534244], [142, 828.8443308250964, 85.77644329013154, 866.6430742102677, 177.4010725482238], [145, 470.96210833115134, 148.90864998994257, 509.9074223090067, 252.84124650676944], [150, 119.36326442336505, 102.04264576928179, 168.33336011587605, 194.4231550480721], [152, 619.399879690231, 48.060853129845604, 657.4259928687376, 136.24074050383018], [153, 1162.084183439928, 61.28786454584993, 1215.1158245160236, 148.2813825578619], [162, 487.3607400135291, 398.54053461430306, 540.4636841255723, 513.6259536925643], [170, 976.1922172835242, 592.1485857078325, 1082.2007372329235, 719.9743307688392], [171, 666.5313453962356, 54.17587087250257, 692.4125044876783, 132.01721302659763]]\n"
          ]
        },
        {
          "output_type": "stream",
          "name": "stderr",
          "text": [
            "0: 384x640 30 persons, 1 bird, 1 dog, 1 handbag, 192.5ms\n",
            "Speed: 4.0ms preprocess, 192.5ms inference, 1.4ms postprocess per image at shape (1, 3, 640, 640)\n",
            "\n"
          ]
        },
        {
          "output_type": "stream",
          "name": "stdout",
          "text": [
            "[<deep_sort.deep_sort.detection.Detection object at 0x7f003c922500>, <deep_sort.deep_sort.detection.Detection object at 0x7f003548ace0>]\n",
            "<class 'list'> class\n",
            "[[5, 665.4058355176018, 578.607002778682, 735.1393002938909, 721.9802049062316], [20, 962.4136776892351, -0.24616230125153038, 994.7420794599541, 80.79300129771487], [36, 920.9870924630743, 10.68748230939655, 947.0987072641628, 98.04486360646828], [77, 509.6349106330446, 13.019435428185197, 540.2576660366379, 80.8677557078125], [86, 1185.0312415976202, 312.89216943237653, 1244.108943562917, 422.90175338311684], [105, 707.0317617307453, 43.982225725783444, 740.0742789181597, 131.55741710157236], [120, 614.8748512635613, 286.81672764292455, 659.7260163511071, 402.84643983534676], [122, 848.5377574854501, -0.07184545172453127, 877.6986571067448, 55.77586591538464], [135, 686.4865321398411, 109.2908723078784, 712.6423377177748, 192.43571811786143], [142, 829.2495710888838, 84.81462742943812, 866.1029920852113, 173.9877156772622], [145, 469.2356704113084, 147.1274483606703, 508.43568758710535, 250.97581262889523], [150, 118.72839702489384, 103.03876306752127, 167.380793167718, 194.48796384276085], [152, 618.9064203031066, 48.46155931918205, 657.234957268843, 136.4462476215618], [153, 1161.0867152467113, 62.43246556623234, 1212.526207992087, 147.80514060689825], [162, 487.3160375141361, 396.7411304121197, 541.1675215623633, 513.7474625009652], [170, 976.6440034883856, 587.9865163400963, 1082.1275958389786, 719.3613618522669], [171, 666.9749446143105, 55.147894221678825, 692.6980315785136, 133.04745569087677], [176, 806.9135777897873, 503.3878561871957, 876.2412800199995, 690.0491901278147]]\n"
          ]
        },
        {
          "output_type": "stream",
          "name": "stderr",
          "text": [
            "0: 384x640 31 persons, 3 handbags, 213.6ms\n",
            "Speed: 5.2ms preprocess, 213.6ms inference, 1.4ms postprocess per image at shape (1, 3, 640, 640)\n",
            "\n"
          ]
        },
        {
          "output_type": "stream",
          "name": "stdout",
          "text": [
            "[<deep_sort.deep_sort.detection.Detection object at 0x7f01681662c0>, <deep_sort.deep_sort.detection.Detection object at 0x7f003548af20>]\n",
            "<class 'list'> class\n",
            "[[5, 666.2266641303416, 582.0486631523295, 734.6015583346624, 721.8488393455475], [20, 960.993000042369, -0.21660619162720707, 992.8568106612562, 78.72182735496139], [36, 920.8128702555947, 10.27182998774007, 947.1823269980177, 98.68382317268794], [77, 511.8356964966026, 13.143738335145123, 542.4261916210207, 80.92171271245263], [86, 1183.824928063999, 316.31974772674835, 1245.279664393701, 430.49539361553536], [105, 706.8413481082066, 42.43267891032723, 739.9716733202476, 130.29726900739394], [120, 615.2182442850836, 289.5720917459559, 659.1700396587121, 403.09584297438516], [135, 686.4023325120281, 108.25334519974638, 712.5990908121736, 191.5316223192927], [142, 829.6843536470167, 81.16618189404139, 866.9314099061995, 171.43389930098732], [145, 470.97735606254065, 145.19136064535945, 510.144567933427, 249.02280775062627], [150, 117.0722737886451, 102.70551111254204, 166.5023722620583, 195.80060235541362], [152, 619.251682596671, 49.890328498636364, 657.3134688518322, 136.4823508935155], [153, 1160.7240415769518, 61.51596102115378, 1210.399149700296, 144.98187437364192], [162, 487.21275203663924, 394.1718327551903, 541.531909588659, 512.5608809437052], [170, 979.0190461080307, 582.0238915070885, 1084.3473756121152, 718.481609126852], [171, 667.566246846385, 57.45335350061682, 693.0398547368417, 134.71707081481352], [176, 809.355693614617, 508.0502505849245, 876.5089923327539, 688.6019914000125]]\n"
          ]
        },
        {
          "output_type": "stream",
          "name": "stderr",
          "text": [
            "0: 384x640 33 persons, 2 handbags, 208.1ms\n",
            "Speed: 3.7ms preprocess, 208.1ms inference, 2.0ms postprocess per image at shape (1, 3, 640, 640)\n",
            "\n"
          ]
        },
        {
          "output_type": "stream",
          "name": "stdout",
          "text": [
            "[<deep_sort.deep_sort.detection.Detection object at 0x7f013411be50>, <deep_sort.deep_sort.detection.Detection object at 0x7f003548b850>]\n",
            "<class 'list'> class\n",
            "[[5, 667.6223032744363, 585.1906043842096, 734.6526456109261, 721.6469883291485], [20, 960.2266223582371, -0.18698847409672936, 991.7840449413432, 77.30203357498084], [36, 920.7645897482757, 10.113322978546805, 947.1999783714299, 98.9212613630953], [86, 1182.9290956803454, 318.1207243254814, 1246.1687560399073, 436.91239304745085], [105, 705.7400479509804, 40.55460225224399, 739.0096995277789, 129.18680103055766], [120, 616.0334748026391, 292.5280966870275, 658.9138517466376, 403.08210679578184], [142, 829.9675825809303, 79.20593487303036, 867.0968799507227, 169.22282618683914], [145, 471.0449572505402, 143.86211114514936, 510.71482560035486, 249.0276207470999], [150, 116.50341279458233, 103.20935866561086, 166.17137712403408, 196.91886687821273], [152, 619.3961674492947, 51.04227523970995, 657.3472030042466, 137.1205107250343], [153, 1158.0013225952603, 59.826497362376216, 1207.671138913793, 144.64834418427236], [162, 487.5771068032613, 391.9636525915433, 541.2753148626748, 509.56116255364407], [170, 980.9715899895558, 577.2531122027581, 1084.8441924145297, 717.501859643132], [171, 667.700785211463, 58.27031682857531, 693.2499854505407, 135.96442851801038], [176, 809.5259398358783, 510.16570580569385, 875.7543501371931, 687.3592324612974]]\n"
          ]
        },
        {
          "output_type": "stream",
          "name": "stderr",
          "text": [
            "0: 384x640 31 persons, 2 handbags, 181.8ms\n",
            "Speed: 8.0ms preprocess, 181.8ms inference, 1.4ms postprocess per image at shape (1, 3, 640, 640)\n",
            "\n"
          ]
        },
        {
          "output_type": "stream",
          "name": "stdout",
          "text": [
            "[<deep_sort.deep_sort.detection.Detection object at 0x7f003548bca0>, <deep_sort.deep_sort.detection.Detection object at 0x7f003548b9a0>]\n",
            "<class 'list'> class\n",
            "[[5, 670.8300861063091, 588.2213876419106, 736.0083884400343, 720.7721642428774], [20, 960.1780935878247, -0.1625243756769308, 990.5550579224614, 74.1290213221896], [36, 920.7621216843681, 10.0509185881102, 947.1946288893715, 99.0080078656336], [77, 515.915658761162, 13.911357502373633, 547.9385396309433, 81.85844567960118], [86, 1182.8392577394384, 319.3947051506748, 1246.9002336097549, 440.57766401790917], [105, 705.2101772898883, 39.216598592180176, 738.1250265298518, 126.82144004231877], [120, 616.6419673241229, 294.8846402299994, 658.494999492721, 402.31744178347833], [142, 830.181787740393, 78.52902629930908, 867.0286560256266, 167.79694357171655], [145, 471.9270450032835, 143.41861557648912, 511.3847040841856, 248.4329189138028], [150, 116.11102898040117, 105.34130691197709, 165.62231086435438, 198.6238517796698], [152, 619.5480546507174, 52.75603898709217, 657.273671490349, 137.9908527255228], [153, 1156.4475432522308, 57.88632192378646, 1206.0279508005074, 143.89149942892408], [162, 487.79017632708593, 389.2361535619986, 541.1107865108771, 506.51618627837286], [170, 982.3446631746125, 573.5924570682349, 1084.4345215130515, 717.1148223315377], [171, 667.8572270886369, 59.190198216201594, 693.2134661491338, 136.38883168791696], [176, 810.0862843154719, 512.6396611935018, 875.2160096929107, 686.8936635361827]]\n"
          ]
        },
        {
          "output_type": "stream",
          "name": "stderr",
          "text": [
            "0: 384x640 32 persons, 1 handbag, 186.7ms\n",
            "Speed: 10.7ms preprocess, 186.7ms inference, 1.4ms postprocess per image at shape (1, 3, 640, 640)\n",
            "\n"
          ]
        },
        {
          "output_type": "stream",
          "name": "stdout",
          "text": [
            "[<deep_sort.deep_sort.detection.Detection object at 0x7f003548bdc0>, <deep_sort.deep_sort.detection.Detection object at 0x7f003548ba30>]\n",
            "<class 'list'> class\n",
            "[[5, 670.1956580196303, 591.8861686272493, 734.2740700259438, 721.0044577799326], [20, 959.103830962829, -0.1383095463023949, 989.2108663216841, 72.99367356935542], [36, 920.7757726240452, 10.025943888137121, 947.1814908000678, 99.03694332546903], [77, 518.1526206056485, 14.08802026973514, 550.1570121668524, 81.99601680448603], [86, 1182.5034219699799, 321.76345832840485, 1246.8276527374042, 443.841672877958], [105, 705.230535003819, 38.08435920401184, 737.5988910756824, 123.96730742672233], [120, 616.6964589689876, 296.3396141428766, 658.491048206881, 403.29783946234653], [135, 687.4785135394357, 102.36924115045758, 713.2415761267096, 183.68414500655302], [142, 830.1245734840711, 78.33967486878302, 867.1180267229049, 167.999991860521], [145, 472.85194324434093, 142.6531453933021, 512.3629740139513, 248.2768261984316], [150, 115.54328846642478, 106.77693654989912, 165.23094009035265, 200.55354906484467], [152, 619.8230600172643, 53.34615838498767, 657.7060657310001, 138.94841466768264], [153, 1153.6334896591625, 55.844031509016226, 1203.828882742847, 143.64268854464623], [162, 487.67864469942856, 385.65237182648934, 541.2458320200442, 504.12419708358703], [170, 984.2118364256421, 571.6513804695865, 1083.5670913511553, 716.9676623234687], [171, 667.7261010027524, 60.14790583782993, 692.7154070665044, 135.8363283217154], [178, 1199.1260760357156, 37.204000418662076, 1236.0930979678055, 120.9241320757042]]\n"
          ]
        },
        {
          "output_type": "stream",
          "name": "stderr",
          "text": [
            "0: 384x640 30 persons, 1 bird, 1 dog, 1 handbag, 186.1ms\n",
            "Speed: 3.0ms preprocess, 186.1ms inference, 1.4ms postprocess per image at shape (1, 3, 640, 640)\n",
            "\n"
          ]
        },
        {
          "output_type": "stream",
          "name": "stdout",
          "text": [
            "[<deep_sort.deep_sort.detection.Detection object at 0x7f01681662c0>, <deep_sort.deep_sort.detection.Detection object at 0x7f003548ace0>]\n",
            "<class 'list'> class\n",
            "[[5, 670.6466122049504, 595.7872703252182, 733.6040337013504, 720.9932351329772], [20, 958.8049471474359, -0.12039309156532596, 988.6990125194308, 71.95003650202403], [36, 920.7941830151777, 10.015566204899564, 947.1663592868159, 99.04409967227383], [86, 1184.0628370024117, 324.56324668505675, 1245.101906126626, 439.0927455388356], [105, 704.8373550823051, 35.70118841237527, 737.1712048354593, 121.60223001741244], [117, 824.0033334180084, 518.9795736962975, 876.9103118712364, 621.679957780977], [120, 615.7630161832994, 298.13548908481454, 658.0935911236431, 406.9413238178129], [135, 687.9096926404935, 101.71597426255474, 713.0252529726513, 180.0131410729504], [142, 830.0966764599516, 78.32030358405285, 867.1403934357235, 168.13624301331765], [145, 473.8985037419036, 142.4166856572756, 513.3375011715411, 248.27350032701904], [150, 115.29723454073255, 109.25866139240435, 164.5060775960939, 201.90040106131835], [152, 619.6428620838926, 53.521078066251384, 658.1563752415561, 141.2647974527699], [153, 1151.0584594838397, 55.747044595861055, 1201.369492065564, 144.23794186564675], [162, 489.0115047531426, 383.72486718539506, 541.2396131960195, 499.354251334644], [169, 27.595781161790345, 81.37204601385072, 67.17508768042467, 163.4107978509178], [170, 986.4047974625557, 569.7591098404185, 1082.3882278649974, 715.6353097660534], [171, 667.255909595594, 60.45313440181737, 692.2705378873682, 135.5805055979385], [176, 800.3083562311645, 540.6173208871439, 855.7244456029664, 685.0902467817999], [178, 1196.6167502507801, 36.19967493965717, 1234.550845413793, 122.31196437270518]]\n"
          ]
        },
        {
          "output_type": "stream",
          "name": "stderr",
          "text": [
            "0: 384x640 29 persons, 212.6ms\n",
            "Speed: 3.6ms preprocess, 212.6ms inference, 1.3ms postprocess per image at shape (1, 3, 640, 640)\n",
            "\n"
          ]
        },
        {
          "output_type": "stream",
          "name": "stdout",
          "text": [
            "[<deep_sort.deep_sort.detection.Detection object at 0x7f003548aec0>, <deep_sort.deep_sort.detection.Detection object at 0x7f003548b9a0>]\n",
            "<class 'list'> class\n",
            "[[5, 672.1736674409291, 601.8102385982871, 733.3402873743293, 720.8983053287735], [20, 958.111004459797, -0.10460781487272897, 987.8219142727662, 70.93992470666666], [36, 920.8967374445429, 10.671021352365507, 947.0677764527115, 99.04333878414099], [86, 1186.3926941989844, 328.2241368186868, 1243.371467134646, 433.0076016833862], [105, 704.3359972855097, 32.86374020449453, 736.732441566143, 118.77731448445199], [117, 828.2933639773144, 524.9545151456634, 883.0970991888996, 633.5566852609363], [120, 615.3010152070657, 301.37977372887656, 658.7127450247931, 413.5288292206133], [135, 688.9443566628341, 101.50867381392868, 713.4118646916035, 177.45292248626032], [142, 829.5620263698936, 77.04065466574708, 866.9939225741412, 168.24626983921468], [145, 475.02805150008334, 141.0588351128165, 513.611008718681, 244.36488343878642], [150, 113.89954009537665, 110.81923353145012, 163.60343769805522, 205.01518071863785], [152, 619.2902085851341, 54.20766922081531, 658.613384311679, 144.72975659199165], [153, 1147.9016936687906, 56.39134033163642, 1198.165504367127, 143.8399204082783], [162, 489.64606759772164, 380.44421579650884, 539.7882023082329, 490.97956139312555], [169, 24.456632772320155, 78.81879612269381, 63.71406986412115, 159.83549694572355], [170, 987.9982508710192, 565.3018644838668, 1081.1690207618174, 712.5411697237299], [171, 666.8329641663582, 61.854832936354555, 692.3500509414747, 137.4520952531658], [176, 792.3290223702048, 543.1691136697013, 846.4008525295686, 681.0405229163769], [178, 1195.3256953387984, 35.16721898126813, 1233.1068500379126, 121.33144077863687]]\n"
          ]
        },
        {
          "output_type": "stream",
          "name": "stderr",
          "text": [
            "0: 384x640 28 persons, 1 dog, 188.0ms\n",
            "Speed: 2.5ms preprocess, 188.0ms inference, 1.3ms postprocess per image at shape (1, 3, 640, 640)\n",
            "\n"
          ]
        },
        {
          "output_type": "stream",
          "name": "stdout",
          "text": [
            "[<deep_sort.deep_sort.detection.Detection object at 0x7f0168166e30>, <deep_sort.deep_sort.detection.Detection object at 0x7f003548ba30>]\n",
            "<class 'list'> class\n",
            "[[5, 672.735222710548, 607.2592545249771, 732.5421217338592, 720.7721850889286], [20, 957.5547995444063, -0.09069692331667056, 987.1973816651591, 69.94165529713487], [36, 920.9389465500935, 10.91801938450918, 947.0296709633408, 99.03970840806065], [86, 1183.8665360806497, 330.8330199861732, 1247.4890523077688, 448.53901427937666], [105, 703.8742842963029, 31.841914704467342, 736.2093834425876, 117.10391155945044], [117, 831.1415888240973, 528.804227643769, 887.2058586932685, 642.9940684816626], [120, 615.3546693696865, 303.1918036443007, 659.3672401217922, 417.2606648813029], [135, 689.3798288920316, 101.47772716946301, 713.4872204937228, 175.91104686123788], [142, 829.404187117256, 75.94236275220007, 866.883534501212, 167.6737936731106], [145, 475.41669381587826, 139.93433100407844, 513.7224352677903, 242.2718072355669], [150, 113.35643896183086, 112.67864895983149, 162.67230151427708, 206.79580761767545], [152, 619.643029980878, 55.08608283957094, 658.9548639985001, 146.66405257584015], [153, 1146.3547628021886, 55.332973010650534, 1198.1437805576845, 144.38243333872978], [162, 491.43824358839106, 377.3094736461577, 540.3833169990021, 484.5892715351604], [169, 22.7736397138057, 77.70379479572867, 62.09975911862872, 159.10832000471697], [170, 988.9051430725901, 559.830722813594, 1080.3846905680616, 710.0591494346678], [171, 666.8629815861625, 62.33747963390352, 692.8545137240294, 138.78282718330578], [176, 789.0231613712374, 540.2991059045492, 843.5566544447366, 677.7772204549494], [178, 1194.6174186551746, 33.41732688998884, 1232.2518847429392, 119.5706530410737]]\n"
          ]
        },
        {
          "output_type": "stream",
          "name": "stderr",
          "text": [
            "0: 384x640 28 persons, 1 bird, 1 dog, 178.9ms\n",
            "Speed: 2.5ms preprocess, 178.9ms inference, 1.5ms postprocess per image at shape (1, 3, 640, 640)\n",
            "\n"
          ]
        },
        {
          "output_type": "stream",
          "name": "stdout",
          "text": [
            "[<deep_sort.deep_sort.detection.Detection object at 0x7f01681662c0>, <deep_sort.deep_sort.detection.Detection object at 0x7f003548ace0>]\n",
            "<class 'list'> class\n",
            "[[5, 673.0325663934602, 611.7838800657652, 732.1435175769722, 720.6559531816704], [20, 957.1157081257729, 0.595048767037234, 986.5982220961345, 69.62071809501037], [36, 920.4948966042583, 11.00743496089887, 946.8154823937401, 99.69750753751808], [86, 1183.8930695163165, 332.40207245939774, 1249.2809796800054, 454.41165989223623], [105, 703.5602527265539, 30.847141644616975, 736.1858891569025, 116.53340036705038], [117, 831.7930779696183, 533.4111188314045, 887.8301978110744, 649.054447543045], [120, 615.3026441939973, 305.7678438652555, 659.6839427985955, 421.22209881251587], [135, 690.0811654906307, 100.16183558806051, 714.3103533814198, 174.74122882091092], [142, 829.1523059905116, 73.59608478975085, 867.0224258679087, 166.84404451805113], [145, 475.70098712285784, 138.2316520482181, 514.261141713954, 240.8871062835711], [150, 112.6104646911472, 113.9964698873176, 161.59493229332685, 208.07757335610427], [152, 620.0654767095107, 56.037566415817885, 659.4571395143639, 148.66671407632563], [153, 1144.0629670341416, 54.95154541857518, 1196.0384160580277, 143.94551285121878], [162, 491.59202488240606, 374.24103373332105, 540.4260498392046, 481.0335491478569], [169, 22.822317753848214, 77.66877341339242, 62.291144144425886, 159.25100041701444], [170, 990.6440823718536, 556.5471035635628, 1078.0292588347388, 705.2524793900172], [171, 666.9043785993829, 63.4069541848604, 692.8563624680546, 139.7359272653691], [176, 786.8720251808907, 537.0991491584654, 840.3951195915616, 671.1339943784104], [178, 1193.5319664775, 32.841445388323635, 1230.7848457208117, 118.27378208734565], [179, 1228.1922685450875, 29.983119379978262, 1270.2109907109873, 119.01688062002174]]\n"
          ]
        },
        {
          "output_type": "stream",
          "name": "stderr",
          "text": [
            "0: 384x640 29 persons, 1 bird, 1 dog, 210.8ms\n",
            "Speed: 2.5ms preprocess, 210.8ms inference, 1.5ms postprocess per image at shape (1, 3, 640, 640)\n",
            "\n"
          ]
        },
        {
          "output_type": "stream",
          "name": "stdout",
          "text": [
            "[<deep_sort.deep_sort.detection.Detection object at 0x7f01681645b0>, <deep_sort.deep_sort.detection.Detection object at 0x7f00354f4670>]\n",
            "<class 'list'> class\n",
            "[[5, 673.1186715076556, 615.2776061483471, 732.0089422194098, 720.5563203515652], [20, 956.3583084524815, 0.8527028091367868, 985.693431822441, 68.87404653772089], [36, 920.6902792033425, 11.037375592878654, 947.0348007167188, 99.94170796156516], [86, 1184.3292726614377, 334.2142775439264, 1249.559871725815, 456.62518269024906], [105, 703.5289176552797, 30.520435953598188, 736.1199608977652, 115.71028074404882], [117, 825.8640903338948, 538.3266859660429, 883.6689563723099, 653.8480773638925], [120, 615.2170407571289, 308.63789197876423, 659.8618119874948, 425.2635038763637], [135, 690.3933120394594, 99.13867197457623, 714.42205657118, 173.10334586162293], [142, 829.1343776988633, 72.09462360911138, 866.9904229303659, 165.25715458922846], [145, 476.09821089708134, 135.65358976931316, 515.4694783468125, 240.42767625455795], [150, 112.4388321304048, 115.10477054466651, 161.13177537285742, 209.16771771195386], [152, 620.8219228782009, 57.01825045543609, 659.7069023001469, 149.38181612044548], [153, 1142.5279047235358, 54.82549011045972, 1194.749459373086, 143.141473187981], [162, 491.25033071485154, 371.87152456383905, 540.8315062872066, 479.8555670996541], [169, 23.187534743623925, 78.01974835486857, 62.75021293898472, 159.7035265754873], [170, 992.5614996482478, 552.1822033259776, 1075.8422671717944, 698.1828113510014], [171, 666.5882287213839, 63.32472810671968, 694.14871822051, 144.05183775306728], [176, 783.6807243634177, 533.665229612945, 834.3782489667304, 660.480824476189], [178, 1191.6940709506362, 31.99028628049109, 1229.0338301513443, 117.84249271239426], [179, 1227.1229703162237, 29.9518755815863, 1269.1710788613768, 119.04812441841369]]\n"
          ]
        },
        {
          "output_type": "stream",
          "name": "stderr",
          "text": [
            "0: 384x640 28 persons, 1 bird, 1 dog, 216.1ms\n",
            "Speed: 2.7ms preprocess, 216.1ms inference, 1.4ms postprocess per image at shape (1, 3, 640, 640)\n",
            "\n"
          ]
        },
        {
          "output_type": "stream",
          "name": "stdout",
          "text": [
            "[<deep_sort.deep_sort.detection.Detection object at 0x7f00354f6bc0>, <deep_sort.deep_sort.detection.Detection object at 0x7f00354f42e0>]\n",
            "<class 'list'> class\n",
            "[[5, 673.9940142113895, 619.094106324742, 732.4847611892606, 720.4730273271242], [20, 954.9418887472193, 0.27545962426243875, 984.5421624424692, 68.64086054112367], [36, 920.2127357819412, 11.044812833840538, 946.3538418769668, 100.02904950753683], [86, 1185.099582773754, 335.47699356882356, 1250.354348033703, 458.64538057045723], [105, 702.8957415398843, 29.785316507605515, 736.0850670668195, 116.1193798858268], [117, 830.1018731226962, 542.0359025328521, 887.3015455529866, 656.8151867647533], [120, 615.0693502471187, 310.3081911600548, 660.6907786284908, 430.63795430915053], [142, 830.1210597560577, 70.91597284190411, 867.2939242182358, 162.06112385563839], [145, 476.5544300215635, 134.7304782563995, 515.5896730244713, 237.6758573718354], [150, 112.7693272589379, 116.79417557168001, 160.6165818275813, 209.52606403970464], [152, 621.4961388004616, 58.01023954289378, 660.0708096222355, 150.25505544328277], [153, 1141.389407514331, 54.134407365785314, 1194.3272777449072, 142.19677104728277], [162, 490.512949568772, 369.75592297781213, 540.9208401412654, 479.53589932148657], [169, 23.583718760305956, 78.4248303228027, 63.21338259483275, 160.1721967584641], [170, 995.0978947891412, 548.6992671606276, 1073.1819261516496, 688.9420634401807], [171, 666.4838805195375, 64.09182682465155, 694.4754201880442, 145.78466580463936], [176, 780.9931950896116, 530.17894309634, 830.6886138811069, 654.06017647093], [178, 1190.0493914912872, 31.03867699305019, 1227.425291220218, 117.0381733426459], [179, 1227.0249100072263, 29.952544335786286, 1268.655984676866, 118.31225466057876]]\n"
          ]
        },
        {
          "output_type": "stream",
          "name": "stderr",
          "text": [
            "0: 384x640 26 persons, 1 bird, 1 backpack, 207.1ms\n",
            "Speed: 11.9ms preprocess, 207.1ms inference, 1.6ms postprocess per image at shape (1, 3, 640, 640)\n",
            "\n"
          ]
        },
        {
          "output_type": "stream",
          "name": "stdout",
          "text": [
            "[<deep_sort.deep_sort.detection.Detection object at 0x7f00354f63e0>, <deep_sort.deep_sort.detection.Detection object at 0x7f00354f4e20>]\n",
            "<class 'list'> class\n",
            "[[5, 674.8054978810849, 624.4093094272274, 732.1441533011242, 720.3991289064971], [20, 954.1543796415664, 0.06522093595830825, 983.7765823908007, 67.91968377409748], [36, 920.4800452151176, 11.044063596628277, 946.9716731748126, 100.71675465153936], [77, 531.0053830912778, 13.10128542883713, 560.3648605705172, 80.12892428007322], [86, 1186.9984146357892, 337.84357666098254, 1250.9963107678013, 458.6460449933037], [105, 702.5182332970015, 28.88898428585304, 736.2356915510378, 116.31335779511133], [117, 832.9639477917601, 546.5946627786494, 889.3718483576007, 659.7410116433477], [120, 616.0993635520954, 312.82528019860536, 661.2104568104794, 432.5959127377412], [142, 830.9753089868649, 67.86908728929461, 867.587972631161, 156.90854006819166], [145, 477.58045127334805, 131.78658818505795, 516.7381746869538, 233.3656904955615], [150, 113.11179834578193, 118.04279711366488, 160.26286272870692, 209.6029282270342], [152, 622.2177729824217, 59.66489805319899, 660.3926477803309, 151.19379059933416], [153, 1136.9001379228212, 53.89104764723361, 1189.1162221378681, 140.53981304373795], [162, 489.96791861184596, 367.73334364101663, 541.2160313796198, 479.52744172760083], [169, 23.655851473772483, 78.78947030131684, 63.215792327452164, 160.58034893003497], [170, 998.3462522903257, 542.9034727236796, 1070.5319355047463, 674.177445541381], [171, 666.1355541864441, 66.31563014621727, 694.2481966003451, 147.70272084557052], [176, 779.547009814483, 524.049471832465, 828.8395548639712, 646.444357483218], [178, 1187.868775244893, 29.375302539786794, 1224.4535469129123, 113.39607474879708], [179, 1225.0665484685264, 29.242476602942425, 1266.1845208839477, 116.62355593714713]]\n"
          ]
        },
        {
          "output_type": "stream",
          "name": "stderr",
          "text": [
            "0: 384x640 25 persons, 1 bird, 1 backpack, 307.1ms\n",
            "Speed: 6.7ms preprocess, 307.1ms inference, 1.8ms postprocess per image at shape (1, 3, 640, 640)\n",
            "\n"
          ]
        },
        {
          "output_type": "stream",
          "name": "stdout",
          "text": [
            "[<deep_sort.deep_sort.detection.Detection object at 0x7f01681645b0>, <deep_sort.deep_sort.detection.Detection object at 0x7f003c922500>]\n",
            "<class 'list'> class\n",
            "[[5, 673.7493562288821, 628.876235848567, 730.5618131951908, 720.330695432116], [20, 953.3759498644038, -0.009789317519874885, 982.7085919883838, 67.01864259729135], [36, 920.5444407460732, 11.040840047654065, 947.2466264394427, 100.97079673295593], [77, 532.7387314559663, 12.336760252317966, 560.9295843696835, 79.31885408436918], [86, 1188.6829068589973, 339.32034080598953, 1251.5814539875514, 457.84404464579984], [105, 702.2503041512625, 27.932159119421748, 736.4427516977113, 116.42707021674386], [117, 834.950374756546, 550.8154387154096, 889.8433899151065, 660.6662725106191], [120, 616.6839937291603, 315.017919079366, 661.2171634532361, 433.8754565127619], [142, 831.1890150313377, 65.45080577831521, 867.791154586997, 154.37423608167802], [145, 477.9826785544476, 130.0766983520166, 517.1147568707617, 230.48882288099554], [150, 112.62202876049676, 118.45746783193027, 159.46650603412374, 209.5822291661305], [152, 622.5140175959233, 60.25211308940785, 660.4802164945299, 151.49786057592968], [153, 1134.8401749324908, 53.81868618244409, 1185.684744917728, 138.6097696110922], [162, 490.0273518315107, 366.40126190674005, 541.7159904445068, 479.6248299544845], [169, 23.875400238834825, 79.09846375982593, 63.37447248462067, 160.92153018108715], [170, 999.4755259626362, 537.5508430918611, 1069.608572054247, 666.7271163173781], [171, 666.5153305616657, 67.78576389266506, 694.2998029457651, 147.7253854980181], [176, 776.9178866068875, 520.5011060967665, 825.757941221583, 641.8883826800146], [178, 1186.7988617780218, 28.800989468001532, 1223.0486366409991, 112.07726920697245], [179, 1223.9652968517614, 28.298090293098532, 1265.1151334333397, 116.04623967764425], [181, 1251.3434907355304, 184.2556167891012, 1280.6742058114073, 271.63033879729977]]\n"
          ]
        },
        {
          "output_type": "stream",
          "name": "stderr",
          "text": [
            "0: 384x640 26 persons, 1 bird, 1 dog, 291.4ms\n",
            "Speed: 5.5ms preprocess, 291.4ms inference, 1.8ms postprocess per image at shape (1, 3, 640, 640)\n",
            "\n"
          ]
        },
        {
          "output_type": "stream",
          "name": "stdout",
          "text": [
            "[<deep_sort.deep_sort.detection.Detection object at 0x7f00354f4a30>, <deep_sort.deep_sort.detection.Detection object at 0x7f00354f4c10>]\n",
            "<class 'list'> class\n",
            "[[5, 673.3022107700757, 632.3323849156085, 730.0755496385715, 720.275699077229], [20, 952.9345021747515, -0.03369458077884957, 981.8640975659014, 66.04970445511358], [36, 920.5352228997697, 11.036755726625948, 947.3868669412376, 101.05958561662254], [77, 534.5923912049207, 12.264281144251242, 562.7473932482166, 79.16403258259162], [86, 1190.2414119266725, 340.4558506810574, 1252.1706722530928, 456.76765781356977], [105, 702.2524897858516, 27.607801409225864, 736.4406744364309, 115.84929347929815], [117, 836.6079809762917, 554.2359722651878, 890.355830725768, 660.8230332756829], [120, 617.5621313797565, 317.08238719038013, 661.2067656216864, 433.58922242556946], [142, 832.4105715686948, 63.9449785780581, 868.7029551771568, 152.17040066378928], [145, 478.3805783418258, 129.50055149249954, 517.6356012431476, 229.49181287290162], [150, 112.61803455041387, 118.56376422334847, 159.69632816960362, 210.19746762110282], [152, 622.2660312102495, 60.43367493725185, 660.1985273434294, 151.56587732441378], [153, 1133.881047374133, 51.134991001554084, 1184.7809014330812, 136.5822278335901], [162, 489.97690854620225, 364.673052957594, 541.9766266191931, 479.0992642257144], [169, 24.118976293095912, 79.35731129629474, 63.5649959544899, 161.20559858032578], [170, 999.326551403801, 534.4129950673317, 1069.1495055221933, 664.167691762182], [171, 666.8124039125255, 69.62395036995215, 694.1635070440345, 147.67441777999198], [176, 773.2030976466203, 517.8811353992194, 823.5924389717776, 641.8380976548349], [178, 1186.2172861496092, 27.955922194239406, 1222.162866900058, 110.29256427062981], [179, 1222.5983421468486, 27.28650831135309, 1263.7316948140774, 115.17294389924257], [181, 1250.5580020494224, 180.3228910702722, 1281.493941464151, 273.088779258613]]\n"
          ]
        },
        {
          "output_type": "stream",
          "name": "stderr",
          "text": [
            "0: 384x640 28 persons, 1 bird, 1 dog, 280.1ms\n",
            "Speed: 2.7ms preprocess, 280.1ms inference, 2.3ms postprocess per image at shape (1, 3, 640, 640)\n",
            "\n"
          ]
        },
        {
          "output_type": "stream",
          "name": "stdout",
          "text": [
            "[<deep_sort.deep_sort.detection.Detection object at 0x7f01681645b0>, <deep_sort.deep_sort.detection.Detection object at 0x7f00354891b0>]\n",
            "<class 'list'> class\n",
            "[[5, 673.304209644396, 634.7415368702129, 730.4494484581285, 720.2317937762721], [20, 952.9220840271885, -0.038787876783167974, 981.470265871949, 65.05583633640367], [36, 920.5845338396583, 11.692050225738178, 947.3878454746657, 101.08550449180521], [86, 1192.1546849590209, 342.79687166837584, 1253.018714606673, 456.26905956206923], [105, 702.396398211539, 27.52801141250596, 735.6616176050293, 113.02728081920999], [117, 837.6270067537951, 556.6813071603983, 890.723419273681, 660.7177985940298], [120, 618.6715875183013, 319.09738117634174, 661.7347898617705, 433.36317946097415], [142, 833.6470294942625, 63.44524972802417, 869.5813266896605, 150.7539174907661], [145, 479.0968588152628, 128.6788515327412, 518.5561145871291, 228.52983557432], [150, 112.40831897746281, 119.22285469222643, 159.3676902845444, 210.39237032180256], [152, 622.2333815524806, 62.44543475655391, 659.3576054925506, 151.54841803816467], [153, 1133.2867036061073, 49.49919063628733, 1183.5012711791612, 134.53821585591652], [162, 490.3955219675408, 363.44560952688573, 542.2898871818691, 478.3249514953866], [169, 24.626681452238024, 79.57491834536162, 64.13472877366598, 161.44374006309488], [170, 999.2810126982396, 533.4018162055029, 1068.95939682017, 664.0318632249116], [171, 666.8666707183214, 70.93451693464075, 694.1649048053708, 148.26851026314267], [176, 767.4604238176516, 516.2968029731519, 820.0182625150744, 642.632505175081], [178, 1186.0741169541418, 27.683892670812774, 1221.207805301275, 108.3372018169706], [179, 1222.2419380111378, 25.572771750053015, 1263.1810420370539, 113.51431786433074], [181, 1250.125064286167, 178.95244863949785, 1282.0617346263932, 274.7191746267071]]\n"
          ]
        },
        {
          "output_type": "stream",
          "name": "stderr",
          "text": [
            "0: 384x640 29 persons, 1 bird, 1 dog, 277.2ms\n",
            "Speed: 8.9ms preprocess, 277.2ms inference, 2.1ms postprocess per image at shape (1, 3, 640, 640)\n",
            "\n"
          ]
        },
        {
          "output_type": "stream",
          "name": "stdout",
          "text": [
            "[<deep_sort.deep_sort.detection.Detection object at 0x7f0168166e30>, <deep_sort.deep_sort.detection.Detection object at 0x7f003548ace0>]\n",
            "<class 'list'> class\n",
            "[[5, 672.7312042192758, 636.7977297550625, 730.4674599565273, 720.1966678795948], [20, 952.3844072553306, -0.03727833679173642, 980.5807927000778, 64.05326948222935], [36, 920.4830765764382, 11.93768760116383, 947.5084631984305, 101.74925654263518], [86, 1192.6414840931325, 343.5884707082535, 1254.853836063482, 459.34259835544935], [105, 702.1594967392724, 26.632824951663622, 735.3635974417755, 111.97997451821405], [117, 838.6175781636634, 559.4437087893264, 890.8303062471801, 660.541540817731], [120, 619.5110416837022, 320.4292425495252, 662.1549318204075, 432.5155124231548], [142, 834.4707151325542, 62.656259177370345, 870.1909083054411, 149.63456211394106], [145, 478.49799586840373, 127.76245761491224, 518.4017747378829, 228.24157847813967], [150, 112.31639381314653, 120.09029335003945, 159.2962096183728, 211.089992395249], [152, 621.6115785987982, 62.49937705422275, 658.9692747394572, 151.49404557757705], [153, 1132.2935180316297, 48.245641446721486, 1181.305546530804, 132.4801877784027], [162, 491.23564858876904, 362.4079620552427, 542.3807624855993, 476.7938265880814], [169, 24.906633482834145, 79.75924458129006, 64.46833228853308, 161.64520170236375], [170, 999.2154319306477, 531.8549706971983, 1068.927513404521, 664.1335904520362], [171, 667.2137778200915, 71.37865976200503, 694.4988564566743, 148.44905625424684], [176, 762.3071451752232, 513.7442928181961, 816.6249022672652, 641.7352558631002], [178, 1184.992821538717, 26.84512680541725, 1219.903456703461, 106.98639517904202], [179, 1221.4075934236766, 24.2892454021723, 1262.4219321593814, 112.93061226785835]]\n"
          ]
        },
        {
          "output_type": "stream",
          "name": "stderr",
          "text": [
            "0: 384x640 32 persons, 1 bird, 1 dog, 266.1ms\n",
            "Speed: 2.5ms preprocess, 266.1ms inference, 1.5ms postprocess per image at shape (1, 3, 640, 640)\n",
            "\n"
          ]
        },
        {
          "output_type": "stream",
          "name": "stdout",
          "text": [
            "[<deep_sort.deep_sort.detection.Detection object at 0x7f003548ba30>, <deep_sort.deep_sort.detection.Detection object at 0x7f00354891b0>]\n",
            "<class 'list'> class\n",
            "[[5, 672.7675175955584, 641.5036934030602, 729.5498575484833, 720.1672131191336], [20, 952.7190533299884, 0.6386451314981052, 979.7814209493416, 61.03096038674889], [36, 920.7120781599856, 11.366064370623434, 947.9459655884831, 101.99195368784979], [77, 541.8873713684131, 12.893042517320282, 571.4790896564471, 79.85407331161595], [86, 1193.0292465430123, 347.7841807892571, 1257.9196363701826, 468.99325886650274], [105, 702.6209806441288, 25.159249628459683, 734.3764659130211, 106.28081061539328], [117, 838.8602045541886, 564.354111206281, 892.2547900509508, 667.103566370316], [120, 619.9351862048815, 323.50783697500935, 662.1762388130965, 432.7803911487417], [142, 834.0718626194033, 61.752192094917426, 870.4293232876976, 149.95187210514308], [145, 478.95782508888414, 126.80720765851734, 518.9482906838011, 227.5349110911403], [150, 111.6062617194268, 120.37613491839397, 158.65406126743395, 211.3185984752132], [152, 620.6873784386074, 63.14782230795415, 658.8519026758424, 153.43249995230775], [153, 1129.0498735623726, 47.14129214839975, 1176.857197431368, 131.0882783026774], [162, 490.80866870353583, 357.4817334086821, 541.8341931360987, 472.3301403875322], [169, 25.222497120811546, 79.91660340859377, 64.56031130523223, 161.1521912552542], [170, 1000.3810492016952, 529.430228765872, 1070.3579505636899, 664.3001216489768], [171, 667.3264580138489, 72.4884540932135, 694.5620706309202, 149.4190047669374], [176, 759.2570355369849, 512.5050484377928, 812.772922010709, 638.6064316279823], [178, 1182.7514614429872, 26.795571398151125, 1216.9708069097092, 105.13076426042856], [179, 1219.597213905162, 21.160874965655303, 1261.0390912564033, 111.40290784842531]]\n"
          ]
        },
        {
          "output_type": "stream",
          "name": "stderr",
          "text": [
            "0: 384x640 28 persons, 1 bird, 1 dog, 215.7ms\n",
            "Speed: 9.2ms preprocess, 215.7ms inference, 1.6ms postprocess per image at shape (1, 3, 640, 640)\n",
            "\n"
          ]
        },
        {
          "output_type": "stream",
          "name": "stdout",
          "text": [
            "[<deep_sort.deep_sort.detection.Detection object at 0x7f013411be50>, <deep_sort.deep_sort.detection.Detection object at 0x7f003548bdc0>]\n",
            "<class 'list'> class\n",
            "[[5, 673.3804009108655, 645.7776110880703, 729.3326529251603, 720.1374745146903], [20, 952.7215296765572, 0.89381067222401, 979.0060404910747, 58.58821167118312], [36, 920.7240064864611, 10.487980615327139, 948.1852368087159, 102.0755641635017], [77, 543.977856827294, 12.902544641206674, 573.5456705071515, 79.81110232640658], [86, 1193.6744123827455, 349.89671827203426, 1258.9270596772922, 471.7788087889611], [105, 700.6959788560622, 23.370643228517004, 733.3717232061252, 106.30237698148235], [117, 838.0817245648279, 568.6939784081693, 894.2505509680342, 676.7191837512762], [120, 619.4625218483517, 325.23432212083486, 662.7859351607182, 436.154741350317], [142, 833.8712409881181, 61.46047478305854, 870.5439508262705, 150.12552116519026], [145, 478.72035699633955, 125.83673170286693, 518.8716020027961, 227.3305103194944], [150, 111.32823689379521, 121.76979615649873, 158.45642318962783, 212.6971568562878], [152, 619.6555013078699, 63.36007910093623, 658.8359883476063, 155.44683116087725], [153, 1127.1128648093752, 46.76072795213301, 1174.0816678466676, 129.95043279455493], [162, 490.7314283011032, 353.72463145219297, 541.535868119956, 468.74119092350725], [169, 25.399201230272812, 80.05816217396938, 64.7019479129234, 161.05732242837746], [170, 1001.2542279428837, 525.3534299376558, 1071.1171373709888, 661.8453654285577], [176, 756.2902795499815, 508.6880957907696, 813.4724785702617, 642.2043556878477], [178, 1181.5356575878523, 26.052529406375278, 1215.4627639566559, 103.71872714190172], [179, 1219.0525885199595, 19.361264688766198, 1260.4643236698246, 110.1962965649266]]\n"
          ]
        },
        {
          "output_type": "stream",
          "name": "stderr",
          "text": [
            "0: 384x640 30 persons, 1 bird, 205.0ms\n",
            "Speed: 5.2ms preprocess, 205.0ms inference, 1.3ms postprocess per image at shape (1, 3, 640, 640)\n",
            "\n"
          ]
        },
        {
          "output_type": "stream",
          "name": "stdout",
          "text": [
            "[<deep_sort.deep_sort.detection.Detection object at 0x7f003548bca0>, <deep_sort.deep_sort.detection.Detection object at 0x7f01681645b0>]\n",
            "<class 'list'> class\n",
            "[[5, 674.635848344688, 649.6085533906022, 727.9013175272588, 720.3815707215138], [20, 952.3901786225159, 0.947152587599696, 978.046706809191, 57.263419104675236], [36, 920.7445109783779, 10.153180624085273, 948.257184356612, 102.09913262154726], [77, 542.9811560710313, 11.395731343666768, 574.1945416140971, 79.9520107470291], [86, 1196.8640155848643, 351.23142330569624, 1257.964939939513, 464.1103203699179], [105, 701.4696317618865, 22.10716638392592, 733.6065125049699, 103.65321639877058], [117, 836.9619368852404, 573.4785078820726, 894.4738116949396, 684.1274209628742], [120, 618.8882794878425, 325.80544966537826, 664.0549384602967, 440.6507423887049], [142, 834.2907822656135, 60.74168838929695, 871.3847267232151, 150.25044594933914], [145, 478.76490785759376, 125.51788563052051, 518.6792791907515, 226.64741259575112], [150, 110.82738263159436, 122.91974677673741, 158.81235077731102, 215.1714473740808], [152, 618.8414986360109, 63.40999344539903, 659.2570629542414, 158.14278052297269], [153, 1123.5612135518522, 46.65270178888541, 1170.71562470919, 130.2404784313751], [162, 491.1532796765262, 351.7319322657275, 540.9666813676458, 464.8281770880859], [169, 25.50754670537432, 80.17599285562574, 64.84219649712875, 161.0960235333625], [170, 1002.4008807549469, 521.9573483020512, 1071.8897492717276, 659.0441546634755], [174, 1240.6353956398143, 55.84744742028812, 1276.2243967071124, 161.82411030539225], [176, 753.2537174205726, 506.3871693867595, 811.205586664436, 639.9429819460843], [178, 1181.6765877380053, 24.259773622147165, 1217.1876132902007, 106.06895009536207], [179, 1219.136230357561, 19.388686517261107, 1259.3801514139222, 107.78418289564884]]\n"
          ]
        },
        {
          "output_type": "stream",
          "name": "stderr",
          "text": [
            "0: 384x640 31 persons, 2 birds, 180.1ms\n",
            "Speed: 2.6ms preprocess, 180.1ms inference, 1.6ms postprocess per image at shape (1, 3, 640, 640)\n",
            "\n"
          ]
        },
        {
          "output_type": "stream",
          "name": "stdout",
          "text": [
            "[<deep_sort.deep_sort.detection.Detection object at 0x7f003548aec0>, <deep_sort.deep_sort.detection.Detection object at 0x7f00354f44c0>]\n",
            "<class 'list'> class\n",
            "[[36, 921.3285857349135, 10.02734236780158, 949.019787871298, 102.09995920689683], [77, 543.618486397947, 10.410752715013139, 575.996062889356, 80.64746719399193], [86, 1197.8036383911403, 353.26460926877274, 1258.736554820408, 465.82938890509234], [105, 701.6639935260916, 21.01002190968444, 733.8305219455309, 102.71492078888167], [117, 836.3423875467313, 577.7903464116062, 895.326154357199, 691.4119231228105], [120, 618.5282641923282, 329.2280199766977, 665.3124239360836, 447.5121750187643], [142, 835.2883012970673, 59.85544323203806, 872.1570857861329, 149.02726503003524], [145, 478.94487727601614, 124.1241764691143, 519.076348508645, 226.44411156038436], [150, 109.94845417086171, 123.97607972889044, 158.34845326256544, 216.72778608674895], [152, 618.5069945103794, 64.70526333981093, 659.4486125106886, 160.43691863829207], [153, 1119.5425916950596, 44.65135094727324, 1168.3386961965386, 129.72671591449614], [162, 491.8506158498452, 349.75706855210353, 540.2096735453734, 459.4595628520986], [169, 25.58467591354353, 80.27711234210258, 64.97181810265515, 161.17653389615512], [170, 1004.8474906277703, 518.8247259615772, 1073.439670622634, 655.4518662954791], [174, 1241.785990192239, 63.68591067094908, 1274.2369757087056, 154.1224617459003], [176, 752.1254778848405, 503.60097169537664, 810.5712061202772, 637.1962315138463], [178, 1179.907413410559, 24.46947919960151, 1215.6471318630217, 107.04190489652602], [179, 1219.2108752478543, 18.78868481713789, 1258.3542399608625, 104.89838209336106]]\n"
          ]
        },
        {
          "output_type": "stream",
          "name": "stderr",
          "text": [
            "0: 384x640 32 persons, 2 birds, 1 backpack, 207.3ms\n",
            "Speed: 2.8ms preprocess, 207.3ms inference, 2.2ms postprocess per image at shape (1, 3, 640, 640)\n",
            "\n"
          ]
        },
        {
          "output_type": "stream",
          "name": "stdout",
          "text": [
            "[<deep_sort.deep_sort.detection.Detection object at 0x7f00354891b0>, <deep_sort.deep_sort.detection.Detection object at 0x7f003548ace0>]\n",
            "<class 'list'> class\n",
            "[[36, 920.8545012242832, 9.982370557023032, 948.6844472072471, 102.09302514705185], [77, 543.8962704594632, 8.097220120004472, 577.2008190173676, 80.24167160395282], [105, 700.1553688177629, 19.97675269646281, 734.8493326016363, 108.40048444614565], [117, 835.9002603482709, 581.2617456910506, 896.4578423952565, 698.6123461723602], [120, 618.3092596407196, 332.4261907491056, 665.8547642295557, 452.0221255420967], [142, 836.4316364317399, 58.905401818051644, 872.9796046052908, 147.94950093819293], [145, 478.9586076441417, 122.98177923745001, 519.2585018391547, 226.4096946413501], [150, 109.58868141529081, 125.65575932473573, 158.22782694135702, 218.59657709207212], [152, 618.3836519161301, 65.82944914549324, 659.525728232248, 161.27351639857642], [153, 1114.226558258998, 43.92633434330198, 1164.173251177904, 129.56827046002888], [162, 493.1144465665203, 347.78694991984196, 539.5904237659007, 452.868852796178], [167, 752.1743915632333, 505.94454396852115, 827.4783916557602, 629.353307947127], [169, 25.645336057029976, 80.36512458358115, 65.08853175093127, 161.26511846308296], [170, 1005.6124005468785, 515.7928855224584, 1074.1673783024037, 652.874753806978], [171, 665.7814737430192, 76.99383728220238, 693.5244205511557, 154.8551301888109], [174, 1239.313319808795, 63.120262053232544, 1274.0933069684222, 155.02812175349152], [176, 751.9030419719073, 500.6324742570429, 810.35304197841, 633.607854226361], [178, 1178.9370639066315, 23.906769348358978, 1214.8056852914694, 106.75977917446949], [179, 1218.5739341509657, 17.937897593962916, 1257.3720332389903, 103.87632814242546], [186, 958.8172313209227, 666.3787314180936, 1032.9618560627305, 719.9999999999999]]\n"
          ]
        },
        {
          "output_type": "stream",
          "name": "stderr",
          "text": [
            "0: 384x640 32 persons, 1 bird, 191.8ms\n",
            "Speed: 14.7ms preprocess, 191.8ms inference, 1.4ms postprocess per image at shape (1, 3, 640, 640)\n",
            "\n"
          ]
        },
        {
          "output_type": "stream",
          "name": "stdout",
          "text": [
            "[<deep_sort.deep_sort.detection.Detection object at 0x7f01681662c0>, <deep_sort.deep_sort.detection.Detection object at 0x7f00354f5c90>]\n",
            "<class 'list'> class\n",
            "[[36, 920.5538117849833, 9.309481212876818, 948.6702887724803, 102.08398284435435], [77, 546.1471400887599, 6.574840237489674, 578.6570165673928, 79.43551906723621], [105, 699.8259783484926, 18.902775808411576, 734.6971415369982, 107.78304145681251], [117, 835.9641257461745, 587.0024269846188, 895.9688666850736, 703.82139193465], [120, 617.1822032291844, 335.53804030768094, 665.773653643255, 456.92621437949146], [135, 692.9591923363664, 79.11993272026487, 719.0087913438038, 160.88478876949682], [142, 837.3159538738774, 57.26799906909848, 873.4651183535049, 145.6044630156457], [145, 479.2900016371259, 120.61994644245712, 519.6364536154243, 225.1242740358853], [150, 108.39539363530375, 127.5718217039739, 157.29305826939935, 220.581409129816], [152, 618.141092805949, 68.85625333826137, 659.7593827156336, 164.82468316230728], [153, 1111.5526297112597, 43.07520611941685, 1161.474045228469, 128.67072738407938], [162, 493.8298773692985, 343.7881610341025, 540.4641076394963, 449.20533269526766], [167, 749.4313595584555, 503.0679953511741, 824.5163401864293, 626.1189098465708], [169, 25.032661645239674, 80.44203027160265, 64.52947646881624, 161.34965737042432], [170, 1007.7401257929032, 510.82172671168587, 1073.2231128036515, 641.4720036265271], [171, 665.2450864935449, 78.03446978876836, 693.8112862508091, 157.36172459860916], [174, 1238.8247190524344, 62.87671283561942, 1273.0546423153917, 153.3307877845154], [176, 747.2480751622204, 496.93426025785044, 803.1439878406709, 622.4188086649542], [178, 1177.6939628190119, 23.722119982340324, 1213.4712136879195, 106.02106980900322], [179, 1217.1166110545826, 16.323959015350752, 1256.9595789090972, 105.54842851457887], [186, 954.3639067041253, 659.6974108288418, 1036.9948214334354, 720.0]]\n"
          ]
        },
        {
          "output_type": "stream",
          "name": "stderr",
          "text": [
            "0: 384x640 30 persons, 193.1ms\n",
            "Speed: 10.6ms preprocess, 193.1ms inference, 1.4ms postprocess per image at shape (1, 3, 640, 640)\n",
            "\n"
          ]
        },
        {
          "output_type": "stream",
          "name": "stdout",
          "text": [
            "[<deep_sort.deep_sort.detection.Detection object at 0x7f003548b850>, <deep_sort.deep_sort.detection.Detection object at 0x7f003548aec0>]\n",
            "<class 'list'> class\n",
            "[[36, 919.4886004757096, 8.40095234751196, 947.6407548915333, 102.07528618088135], [77, 547.7296212410172, 6.012293908182052, 580.4545951925087, 79.35656999773045], [117, 836.6142773565298, 591.6871183447164, 895.0936239072238, 705.6347207522941], [120, 616.3786824520895, 339.25943688755046, 665.4430905241746, 461.3096219294757], [135, 693.9260880203894, 79.1516239678974, 719.5531844000349, 160.55045348012646], [142, 838.4167030915495, 54.706310926477435, 874.1690425593613, 142.77818002099306], [145, 479.39684617041644, 119.10941744499301, 519.778394470329, 224.67406306874602], [150, 107.37627368664192, 128.91462267628208, 156.878380700553, 222.60654220669707], [152, 618.1108986576469, 70.62823510008356, 659.7930122067885, 166.1231638725476], [153, 1109.1830153491055, 45.94172527945268, 1158.7402142632466, 128.72815552576492], [162, 493.69650349871637, 341.74644591724774, 540.4983079623628, 447.3076678174623], [169, 24.82645646082767, 80.50932062382842, 64.37260359740861, 161.4263667328276], [170, 1009.2650755735564, 506.41400471226274, 1072.0905166229045, 630.5271994878944], [171, 664.7159022844976, 79.70678311579945, 693.5978775503665, 159.5268007488768], [176, 742.0538212772368, 492.9262250791189, 796.6764724766767, 613.5678404691412], [178, 1176.556032494389, 23.05734021889306, 1212.316968819858, 105.31876556491154], [179, 1216.3256412390615, 16.40837352079747, 1255.7917317833842, 105.53814471836692], [186, 951.6948829163738, 654.639567155063, 1040.1631662770178, 720.0]]\n"
          ]
        },
        {
          "output_type": "stream",
          "name": "stderr",
          "text": [
            "0: 384x640 26 persons, 1 bird, 1 dog, 203.9ms\n",
            "Speed: 2.5ms preprocess, 203.9ms inference, 1.4ms postprocess per image at shape (1, 3, 640, 640)\n",
            "\n"
          ]
        },
        {
          "output_type": "stream",
          "name": "stdout",
          "text": [
            "[<deep_sort.deep_sort.detection.Detection object at 0x7f013411be50>, <deep_sort.deep_sort.detection.Detection object at 0x7f00354891b0>]\n",
            "<class 'list'> class\n",
            "[[36, 919.34406389119, 8.061569397508855, 947.6451760651122, 102.72341285477651], [117, 837.431892161043, 594.6211561815413, 894.8015186527064, 706.1079343735032], [120, 615.8465576308458, 341.25281420631967, 664.8701326621116, 462.8737543716899], [135, 694.2658300996752, 78.56771937771342, 719.7744067541045, 160.46433526831592], [142, 839.5150164161304, 53.79089168681055, 874.372144230113, 139.7807246577255], [145, 479.26016899485575, 118.58204324983132, 519.3329393470492, 223.88552790956612], [150, 107.09213002929107, 130.69557118481885, 156.65506689993208, 223.98353326973375], [152, 617.3783925438856, 71.26125293322036, 659.2166400664514, 166.55704044681318], [153, 1108.41194589655, 45.835486700882285, 1159.248589010085, 128.66276678985582], [162, 493.76655347701904, 340.4175785641008, 541.0460826390788, 446.72610711032513], [169, 25.151956288381026, 80.56825945500445, 64.64565624933839, 161.49460849228956], [170, 1010.3218880770668, 502.9219868098362, 1072.4829205935202, 624.6375154965776], [171, 663.9050873561486, 80.29979604409198, 693.4759779812775, 161.61503550964375], [176, 736.8604321097073, 489.52666646515894, 791.7916361764051, 608.4773428139665], [179, 1215.4176711409557, 15.496117092059237, 1254.9386149000206, 104.74980626911787], [186, 949.1826769556903, 650.2080297113073, 1042.2026369840823, 720.0000000000001]]\n"
          ]
        },
        {
          "output_type": "stream",
          "name": "stderr",
          "text": [
            "0: 384x640 26 persons, 1 bird, 1 dog, 187.4ms\n",
            "Speed: 2.5ms preprocess, 187.4ms inference, 1.4ms postprocess per image at shape (1, 3, 640, 640)\n",
            "\n"
          ]
        },
        {
          "output_type": "stream",
          "name": "stdout",
          "text": [
            "[<deep_sort.deep_sort.detection.Detection object at 0x7f003548af20>, <deep_sort.deep_sort.detection.Detection object at 0x7f01681645b0>]\n",
            "<class 'list'> class\n",
            "[[36, 919.137295973296, 8.595862266388373, 947.1489810525718, 102.96547279819282], [117, 837.9755955871924, 596.8869975845926, 894.4162439153249, 706.1057183165054], [120, 615.7228631619298, 343.2317229283793, 664.561618472437, 464.002108443297], [135, 694.5220446763606, 79.04377972194281, 719.7106867354603, 160.46731061006363], [142, 839.9163106547371, 52.16940396002797, 874.41265570555, 137.3798587037451], [145, 479.7384438865331, 117.11684386967673, 519.2690545208397, 221.64931917730075], [150, 106.10708996099575, 131.98438820563638, 156.82698937738948, 227.0942306150131], [152, 617.4486870646136, 72.11763809185928, 659.3170171868946, 166.66554010160064], [153, 1106.5259788968103, 45.13751566505919, 1158.4287176654757, 128.647270976485], [162, 493.6176441902275, 339.34866676590855, 541.4165254414916, 446.62177236291694], [169, 24.79692258869844, 81.28181332630419, 63.967759366458125, 161.55485152290302], [170, 1012.3933863136153, 499.76714121623684, 1074.9422718655342, 622.6736378185384], [171, 664.2199790534038, 80.48692337944291, 694.1225719978127, 162.3614027163506], [176, 733.0969010512573, 487.03365744953044, 789.4587408188477, 606.7853517211734], [186, 948.083018259207, 647.332923508688, 1043.1025822231604, 720.0]]\n"
          ]
        },
        {
          "output_type": "stream",
          "name": "stderr",
          "text": [
            "0: 384x640 28 persons, 1 bird, 1 dog, 213.4ms\n",
            "Speed: 15.7ms preprocess, 213.4ms inference, 1.6ms postprocess per image at shape (1, 3, 640, 640)\n",
            "\n"
          ]
        },
        {
          "output_type": "stream",
          "name": "stdout",
          "text": [
            "[<deep_sort.deep_sort.detection.Detection object at 0x7f01681662c0>, <deep_sort.deep_sort.detection.Detection object at 0x7f003548b850>]\n",
            "<class 'list'> class\n",
            "[[36, 919.1165262580035, 8.809613333003163, 946.9075072550478, 103.05081973701823], [117, 838.2965369586846, 599.5728842572281, 894.1174529282424, 706.6069006605305], [120, 615.9193049950962, 344.548152038558, 664.8561230027607, 464.97175753231727], [135, 694.5639055338672, 78.62168886853196, 719.7176853471876, 160.50783537237828], [142, 839.9382182173106, 50.2834336877946, 874.5144346497216, 135.88563828192136], [145, 480.19198412059256, 115.95017464785141, 518.9555402279669, 218.85934377201158], [150, 104.39155420573809, 133.08491909688894, 155.64578683928733, 228.87375190302186], [152, 617.1363076335713, 73.05999375215025, 659.0439647428715, 166.65149809478442], [153, 1105.4413995554744, 44.892314243279735, 1157.3392102932958, 128.0030363444959], [162, 493.2762283466632, 338.3718199357471, 541.8305592597844, 447.34601095730875], [169, 24.693351502292458, 81.57869012944704, 63.742832827507, 161.610454036171], [170, 1012.925751571893, 496.0635695122066, 1076.6911617419428, 622.766881363068], [171, 664.3168488375085, 80.51578322813296, 694.4050533419878, 162.5921214013174], [176, 730.5638431845019, 483.5316092972362, 788.6615807197235, 605.6360706130149], [178, 1167.0517617603887, 20.121063368141236, 1203.428384760964, 100.36579245741854], [179, 1213.170814169784, 16.484631280872, 1251.2680196752472, 103.02680734752363], [186, 946.8943847993268, 643.7894267383483, 1044.2044521381365, 720.0]]\n"
          ]
        },
        {
          "output_type": "stream",
          "name": "stderr",
          "text": [
            "0: 384x640 30 persons, 2 birds, 210.2ms\n",
            "Speed: 14.8ms preprocess, 210.2ms inference, 1.4ms postprocess per image at shape (1, 3, 640, 640)\n",
            "\n"
          ]
        },
        {
          "output_type": "stream",
          "name": "stdout",
          "text": [
            "[<deep_sort.deep_sort.detection.Detection object at 0x7f003548af20>, <deep_sort.deep_sort.detection.Detection object at 0x7f003548ace0>]\n",
            "<class 'list'> class\n",
            "[[36, 919.444066021685, 8.896082695601208, 947.1477498905514, 103.07630710144464], [86, 1201.208623409634, 368.9387636272745, 1265.8532553582488, 487.58700971273635], [117, 839.2312477947016, 605.096835898578, 894.4938310037768, 709.9862712087315], [120, 616.3187736738785, 347.59562893486867, 663.9802393320506, 464.57430280968003], [135, 694.2435590339726, 78.5000697338815, 718.7262970483976, 159.241958933096], [142, 840.116744245129, 48.96590099694847, 875.0102500172206, 135.38994296088939], [145, 480.65558118196265, 113.57010428811049, 517.8631265797554, 211.8768104207307], [150, 103.73656655114652, 134.32945305390405, 155.1631256891919, 230.4391857398262], [152, 617.915738573081, 74.69882831192118, 659.3790812420184, 166.5968265356069], [153, 1101.9308958166628, 43.49202922815106, 1152.257170070238, 125.13315303699792], [162, 494.1746286436162, 336.1053601859069, 543.5819324103106, 447.7033078209605], [169, 24.08007005796447, 81.13683700165717, 63.03901528625007, 160.98302184489518], [170, 1014.5574627396768, 492.8192369215034, 1079.1521109749042, 622.9295154549102], [171, 665.0191617253854, 81.80206833395314, 694.5096932550296, 162.62873637910377], [176, 728.1640484998878, 480.32749242256085, 787.4029040488019, 605.9987172973209], [178, 1166.1161718556957, 17.72420574723254, 1203.6880503145937, 99.12016830491794], [179, 1211.5072701356914, 16.6481758054339, 1248.550173618928, 100.68446461338308], [186, 944.6431816213259, 639.3295428841727, 1045.1411042843738, 720.0]]\n"
          ]
        },
        {
          "output_type": "stream",
          "name": "stderr",
          "text": [
            "0: 384x640 29 persons, 2 birds, 209.7ms\n",
            "Speed: 2.5ms preprocess, 209.7ms inference, 1.3ms postprocess per image at shape (1, 3, 640, 640)\n",
            "\n"
          ]
        },
        {
          "output_type": "stream",
          "name": "stdout",
          "text": [
            "[<deep_sort.deep_sort.detection.Detection object at 0x7f003548b9a0>, <deep_sort.deep_sort.detection.Detection object at 0x7f01681662c0>]\n",
            "<class 'list'> class\n",
            "[[36, 919.5916717248657, 8.932965342194763, 947.222760970617, 103.0795471866146], [77, 558.3062187807607, 13.176603833734177, 586.7002244387169, 78.99708961456643], [86, 1201.911575016627, 371.0864871263201, 1266.7458023558088, 490.07854219012324], [117, 837.822350627479, 608.3333084006152, 895.6874903475843, 717.8041514051466], [120, 616.7886755710599, 350.6484898226303, 663.3243005585794, 464.29770590711956], [135, 694.5369966981174, 76.51725203921926, 718.5695732931981, 156.14970387799474], [142, 839.6771880272445, 47.86049125536447, 875.0092821975906, 135.26390953653666], [145, 481.1738692113933, 112.06280646469659, 517.7616331443238, 207.96283371157858], [152, 617.8486942536438, 75.27074916824284, 659.2101580766466, 166.52937697678027], [153, 1100.395318342998, 42.98390956402746, 1149.4114918790674, 124.08110312555252], [162, 495.09437038911994, 334.66073097222113, 544.3099315989654, 446.59909893488003], [169, 24.211282281419667, 82.49795931754937, 63.309982556583535, 162.4240380533893], [170, 1014.452886067615, 490.40225258624406, 1079.4467429579554, 623.1268278505072], [171, 666.0147998046651, 83.5770885491001, 694.4877391189091, 161.92727936165588], [176, 724.6569709293817, 478.5502768910176, 784.4897568608836, 606.2473605937057], [178, 1165.4283040728305, 17.59333434983421, 1202.7958685525077, 98.03994391307373], [179, 1210.4705894030428, 16.106828997537143, 1247.3240875642396, 99.71346921919294], [186, 943.6242197341807, 637.039134471863, 1044.368376214862, 719.9999999999999]]\n"
          ]
        },
        {
          "output_type": "stream",
          "name": "stderr",
          "text": [
            "0: 384x640 28 persons, 2 birds, 217.5ms\n",
            "Speed: 2.6ms preprocess, 217.5ms inference, 1.3ms postprocess per image at shape (1, 3, 640, 640)\n",
            "\n"
          ]
        },
        {
          "output_type": "stream",
          "name": "stdout",
          "text": [
            "[<deep_sort.deep_sort.detection.Detection object at 0x7f003548ba30>, <deep_sort.deep_sort.detection.Detection object at 0x7f00354f7e20>]\n",
            "<class 'list'> class\n",
            "[[36, 920.149039191359, 8.290850406150817, 948.073511683263, 103.07493462037172], [77, 559.6281725480476, 11.669813330102656, 587.7524458349516, 78.97821855977615], [86, 1203.1663395101261, 373.83335536459435, 1266.888689230653, 490.55927800792097], [117, 838.1154238352691, 612.0576236560491, 895.9563688120178, 720.5836757682206], [120, 616.6156900034048, 352.35462823768773, 662.7561562225502, 464.76829155112574], [135, 694.8050345512557, 71.16913576997028, 719.0025139810168, 152.36871388834044], [142, 840.1414449687467, 47.49301370594277, 875.6646099813521, 135.27205132138846], [145, 481.5512116932043, 110.89218640981917, 518.1984582347494, 206.610344302439], [150, 101.95440028029863, 136.97103519803392, 151.6240680503832, 228.88900349657035], [152, 618.2845660171196, 76.10782779941624, 659.3558704223784, 166.4687094138775], [153, 1098.4068066661218, 40.817978158477544, 1147.2865189085946, 123.72360111694444], [162, 496.1858079310991, 332.22037921459645, 545.1445674789193, 444.2802446352483], [169, 23.859053940917413, 82.75777141222308, 62.94361618327668, 162.68319619269425], [170, 1014.7189848653095, 488.2996909609, 1079.8376841160837, 623.3257547811993], [171, 666.0884253321113, 84.61325098325409, 694.5186960092882, 162.8458484041687], [176, 722.2886892322533, 476.0030187554897, 782.672868805585, 606.4607915833847], [178, 1164.6203935724623, 16.917103468079624, 1201.8061675617548, 97.00986770522067], [186, 941.7048400045195, 633.7322635930295, 1043.6542131948722, 719.9999999999999]]\n"
          ]
        },
        {
          "output_type": "stream",
          "name": "stderr",
          "text": [
            "0: 384x640 31 persons, 2 birds, 212.6ms\n",
            "Speed: 3.0ms preprocess, 212.6ms inference, 1.5ms postprocess per image at shape (1, 3, 640, 640)\n",
            "\n"
          ]
        },
        {
          "output_type": "stream",
          "name": "stdout",
          "text": [
            "[<deep_sort.deep_sort.detection.Detection object at 0x7f003548b9a0>, <deep_sort.deep_sort.detection.Detection object at 0x7f003548af20>]\n",
            "<class 'list'> class\n",
            "[[36, 919.8865894837933, 6.735894994190652, 948.2120286922825, 103.06832649906647], [77, 561.6338004885649, 11.244872606233038, 589.2490172536307, 78.30250165441785], [86, 1203.9268837584589, 376.0375053439583, 1267.7050106548802, 492.86143691543793], [117, 838.8407651310837, 615.9590843837411, 895.4137101670252, 720.8026623713727], [120, 616.6370593373404, 353.56380226987875, 662.4622552922017, 464.86980250997334], [122, 918.4807612004329, 0.9941624679668166, 971.1356266586516, 103.85596889755462], [135, 695.1124814970361, 69.87076560443666, 718.9464102353747, 149.68433307898465], [142, 840.0102483806247, 47.40556520501944, 875.5321553430971, 135.328973816053], [145, 481.42513515966266, 109.17471056648395, 518.611579567389, 206.1875963794693], [150, 100.20808459679945, 137.37630026456492, 150.44845975991691, 230.00067385979804], [152, 618.9280836176782, 77.71077513935057, 659.600898440025, 167.0773719861583], [153, 1097.843164010766, 39.37417750401211, 1145.1442490762813, 121.64255133111193], [162, 497.61099092647913, 330.0540077385176, 546.4005032371095, 442.1510930317237], [169, 23.74722772287931, 82.85374359691895, 62.82074430420224, 162.78159200086867], [170, 1015.4363629198305, 486.96448421138996, 1079.9638720517703, 622.8543154977355], [174, 1239.526908884927, 78.89490968608592, 1279.3606324804718, 184.73687481784387], [176, 718.1569104201651, 473.8133944815235, 779.5368965806786, 606.6318958198125], [178, 1163.6922054521463, 17.359723975910725, 1200.1802513802154, 95.99904007787714], [186, 940.9269762866035, 630.6346208222651, 1043.3918197881758, 720.0]]\n"
          ]
        },
        {
          "output_type": "stream",
          "name": "stderr",
          "text": [
            "0: 384x640 27 persons, 1 bird, 201.4ms\n",
            "Speed: 16.0ms preprocess, 201.4ms inference, 1.5ms postprocess per image at shape (1, 3, 640, 640)\n",
            "\n"
          ]
        },
        {
          "output_type": "stream",
          "name": "stdout",
          "text": [
            "[<deep_sort.deep_sort.detection.Detection object at 0x7f003548ba30>, <deep_sort.deep_sort.detection.Detection object at 0x7f0168166e30>]\n",
            "<class 'list'> class\n",
            "[[36, 920.0821461904033, 6.152889337936735, 948.6223633871202, 103.06174215604065], [77, 564.5959009978016, 10.417747474536206, 592.7955577653566, 78.72007228774638], [117, 840.3074517784243, 620.6017744120096, 895.3245023361901, 721.3699709024089], [120, 616.2015225490449, 355.9248363953647, 662.13155114352, 467.5069200272571], [122, 921.0439146125847, 1.0369535615348298, 974.6026701178063, 105.66273767888994], [135, 695.2893107508655, 68.35271830636981, 719.121030402242, 148.16320550290067], [142, 839.9615397825119, 47.419280884652224, 875.4515117745105, 135.39740355212263], [145, 482.00487715674524, 107.92125910957131, 519.4516752678817, 206.09828668519518], [150, 99.06472386243469, 138.18297764035793, 149.29341382674397, 230.3742500568837], [152, 619.142634976806, 78.26782844885483, 660.386584102279, 169.27443587572486], [153, 1096.003421773063, 38.19195141779134, 1142.8454014564916, 121.54834514580185], [162, 498.34529441323525, 327.3346833340415, 547.3103071653418, 440.09626206996774], [169, 23.281221737697567, 82.69310692013082, 62.29405319923991, 162.49678798451959], [170, 1016.460923254257, 483.9591820029907, 1079.8562649485643, 619.5001086426507], [174, 1240.1284146858513, 82.07801178584577, 1278.9877656627273, 184.69016701356253], [176, 715.0260142749229, 471.30814286426494, 776.5735571466784, 604.4889683423585], [178, 1162.636099225387, 16.89408090550951, 1199.0632505561598, 94.99552557151044], [186, 940.1316964311993, 628.2539787891135, 1041.8864496167575, 720.0]]\n"
          ]
        },
        {
          "output_type": "stream",
          "name": "stderr",
          "text": [
            "0: 384x640 29 persons, 1 bird, 268.2ms\n",
            "Speed: 2.5ms preprocess, 268.2ms inference, 2.1ms postprocess per image at shape (1, 3, 640, 640)\n",
            "\n"
          ]
        },
        {
          "output_type": "stream",
          "name": "stdout",
          "text": [
            "[<deep_sort.deep_sort.detection.Detection object at 0x7f003548af20>, <deep_sort.deep_sort.detection.Detection object at 0x7f00354f4e50>]\n",
            "<class 'list'> class\n",
            "[[36, 919.3885828113863, 6.597509393880934, 947.5771378713486, 103.05494423510268], [77, 566.5476837776334, 10.110110701643528, 595.1382842094172, 78.21938088522708], [117, 843.2704394001771, 627.5506023148212, 895.5456129270691, 721.4285159276267], [120, 615.2167690332308, 360.0454649467879, 662.8359880128637, 476.4029055030057], [135, 696.0303687327331, 73.20951615747052, 718.1366758180959, 146.14079410085975], [142, 839.9449787752443, 46.14592459827136, 875.3941823660816, 134.14423239320035], [145, 482.81568752991086, 106.18024004583432, 520.4833150804565, 205.47245245721587], [150, 97.56369482344657, 139.10471240482102, 148.00488708736214, 231.1363885490002], [152, 619.2581469641602, 79.1016844146177, 661.2980303587321, 172.70183747633587], [153, 1093.067992260431, 37.11793315599206, 1139.7672833612787, 121.54391121664978], [162, 499.7454548223569, 322.43571056355535, 547.1538355455158, 431.4955817580302], [170, 1017.339683438448, 478.98796229151714, 1080.5828936031244, 616.341500144707], [174, 1240.1694122386916, 83.81464693886161, 1279.357677355852, 187.29508824538323], [176, 711.2022245689124, 465.86592778245114, 773.9128416575307, 602.0787943644248], [178, 1159.2236576224, 17.412694416373817, 1195.775833800698, 94.66096471047382], [181, 1130.74569743494, 36.42834987892422, 1159.1840385831474, 121.17157015883623], [186, 937.7998873866464, 623.6202244443434, 1040.7738577442742, 719.9999999999999]]\n"
          ]
        },
        {
          "output_type": "stream",
          "name": "stderr",
          "text": [
            "0: 384x640 28 persons, 1 dog, 283.5ms\n",
            "Speed: 8.5ms preprocess, 283.5ms inference, 2.4ms postprocess per image at shape (1, 3, 640, 640)\n",
            "\n"
          ]
        },
        {
          "output_type": "stream",
          "name": "stdout",
          "text": [
            "[<deep_sort.deep_sort.detection.Detection object at 0x7f01681645b0>, <deep_sort.deep_sort.detection.Detection object at 0x7f003548ba30>]\n",
            "<class 'list'> class\n",
            "[[36, 918.8997571141922, 6.121029629945902, 946.7396140653174, 102.38928916315257], [77, 567.9233524325202, 9.333594257113816, 597.2252586987012, 77.36848906202513], [117, 844.8916956799201, 633.3266732222145, 895.0544801727066, 721.2804494638236], [120, 614.9593465338759, 362.8248303011922, 663.6467233761967, 482.91872186131513], [135, 696.2852980808563, 72.36079996778788, 718.1707501362314, 144.5670338959053], [142, 840.8284987007722, 45.702690079914554, 875.7814412243908, 132.38758535199375], [145, 483.0585004814787, 105.5740908735801, 520.918283646737, 205.9559349190038], [150, 96.44603046715652, 140.07061827688696, 146.81449136570822, 231.38333543823416], [152, 619.4970493849312, 80.03807074793869, 661.4411505917793, 174.61989804122825], [153, 1089.6329806852032, 36.7414638601687, 1136.4837487601735, 122.23044116271691], [162, 501.40902734322117, 319.99980047473906, 547.2488164944891, 424.9573238958016], [169, 22.379118431162148, 83.750034728837, 61.55791775520833, 163.68176900421744], [170, 1018.4395864093028, 474.59292824975853, 1080.0426143666275, 609.9946602733631], [174, 1229.5681773375188, 60.4482825012761, 1275.7651562920082, 183.03647231660932], [176, 710.4402771957019, 463.69025638912075, 772.5518476494848, 599.3034958584087], [178, 1157.3531802218088, 16.965010563469214, 1194.589746484649, 94.57692293775008], [179, 1207.9011864412676, 8.337082865428322, 1242.8167203006697, 87.49054009337988], [181, 1124.3999232458718, 28.759340913836773, 1152.7454685337877, 113.22603505556677], [186, 936.2428380430487, 619.3582821160428, 1039.7267190106968, 720.0000000000001]]\n"
          ]
        },
        {
          "output_type": "stream",
          "name": "stderr",
          "text": [
            "0: 384x640 28 persons, 1 dog, 291.1ms\n",
            "Speed: 11.1ms preprocess, 291.1ms inference, 1.8ms postprocess per image at shape (1, 3, 640, 640)\n",
            "\n"
          ]
        },
        {
          "output_type": "stream",
          "name": "stdout",
          "text": [
            "[<deep_sort.deep_sort.detection.Detection object at 0x7f00354f44c0>, <deep_sort.deep_sort.detection.Detection object at 0x7f00354f4e50>]\n",
            "<class 'list'> class\n",
            "[[36, 918.9958046246788, 5.290730654636988, 946.8057136878184, 102.13486691220608], [77, 568.7458590225751, 8.383514723353365, 597.5578152808389, 76.39070435700535], [105, 684.5628966724234, 6.977184539123428, 734.6628181253712, 144.94310593433295], [117, 846.3178506844267, 636.554068641621, 895.3673519394082, 720.4080786173205], [120, 614.8765895079003, 365.1086348379499, 663.9489446444004, 487.28509589816724], [142, 841.143622687811, 43.585594398435084, 875.9253398605289, 129.77258169475073], [145, 483.64210241831194, 104.73857066509058, 521.8840762585415, 206.8522616340228], [150, 95.97977037616752, 141.05356871412215, 146.48548680496413, 232.10017332071914], [152, 620.2278736139476, 81.66925452557203, 661.5024244780836, 175.96466856701272], [153, 1087.3991886984556, 36.62953630488822, 1134.3620227699496, 122.51906897363834], [162, 501.3994231185537, 317.85732726416984, 546.5174758921463, 420.6265224793402], [169, 22.200070911072107, 83.9139346188937, 61.47649135712112, 163.86498423389185], [170, 1019.6710705309164, 471.06899405265756, 1078.959891574781, 602.3854735376507], [174, 1228.818700625301, 65.57441042127877, 1273.4316286890867, 181.8581577832486], [176, 709.6374112902247, 460.9854616282169, 770.7435171815889, 595.0494720024733], [178, 1156.664374590836, 17.48038370412317, 1193.5905932523353, 93.91358472888197], [179, 1205.3179003351852, 6.398012922460687, 1241.5229941443815, 88.06834494378455], [186, 935.3067439458232, 614.611042316007, 1039.6471472846358, 720.0]]\n"
          ]
        },
        {
          "output_type": "stream",
          "name": "stderr",
          "text": [
            "0: 384x640 28 persons, 1 dog, 287.1ms\n",
            "Speed: 8.1ms preprocess, 287.1ms inference, 2.2ms postprocess per image at shape (1, 3, 640, 640)\n",
            "\n"
          ]
        },
        {
          "output_type": "stream",
          "name": "stdout",
          "text": [
            "[<deep_sort.deep_sort.detection.Detection object at 0x7f01681662c0>, <deep_sort.deep_sort.detection.Detection object at 0x7f003548bca0>]\n",
            "<class 'list'> class\n",
            "[[36, 920.6154955597457, 3.671698723737478, 949.2012909525412, 102.03881769194643], [77, 569.7633841018221, 7.371715671054602, 598.1578694733073, 75.36902130772889], [105, 685.3060222769366, 5.98526448931662, 733.3563400937364, 146.43663579581283], [117, 847.3890747944175, 638.8777743103117, 896.2460400859778, 720.0065906663348], [120, 614.5818319409531, 367.1995597161604, 663.6805228022891, 490.81190663952117], [122, 919.5372918603982, 1.0290268031497334, 971.1723400239777, 105.23988759212894], [142, 841.6399786712115, 41.504373315197576, 876.2420504525552, 126.84693055548632], [145, 483.44493124996495, 103.81209892081479, 521.9905595474282, 207.23512458015648], [150, 94.9455350228901, 141.38024582568121, 145.9642497694064, 232.99756688195612], [152, 621.0508492001003, 83.56941076966791, 661.6296870315566, 177.08498157650752], [153, 1085.5092443121712, 35.96106107393116, 1132.1474707467326, 121.3388912924491], [162, 501.4708301776188, 315.1493597088228, 546.8060584926453, 417.8148264048893], [169, 21.982637543021866, 83.97037553840786, 61.611112137772366, 164.5921506157153], [170, 1021.7962655874122, 467.88859821150686, 1078.16302644408, 592.9696480656762], [174, 1226.5406631692954, 61.210032633220735, 1272.5287387396552, 181.22532372477758], [176, 709.371475032918, 457.4263729509236, 768.9182843627335, 588.2461974340664], [178, 1155.9958358014228, 15.694071786195664, 1193.763893650294, 93.70080151965331], [179, 1203.929629776438, 5.101935966095162, 1240.9833980513972, 88.8742553985507], [186, 935.3048400953267, 610.9323930338298, 1039.2752563301365, 720.0], [190, -0.25031377784119435, 216.77955535312705, 29.250313777841193, 305.3386660593811]]\n"
          ]
        },
        {
          "output_type": "stream",
          "name": "stderr",
          "text": [
            "0: 384x640 30 persons, 1 dog, 280.4ms\n",
            "Speed: 2.6ms preprocess, 280.4ms inference, 1.9ms postprocess per image at shape (1, 3, 640, 640)\n",
            "\n"
          ]
        },
        {
          "output_type": "stream",
          "name": "stdout",
          "text": [
            "[<deep_sort.deep_sort.detection.Detection object at 0x7f003548bdc0>, <deep_sort.deep_sort.detection.Detection object at 0x7f00354f7100>]\n",
            "<class 'list'> class\n",
            "[[36, 921.339904748011, 2.415798336642297, 950.6549168307635, 102.00322405855344], [77, 570.6729948048818, 7.002313158996252, 598.3883996689477, 74.9964803390402], [105, 684.2526062436444, 4.9724287319237135, 733.3671580139718, 148.54993017194488], [117, 847.6353676932772, 640.2056573632187, 897.3270170896469, 720.4804483142585], [120, 614.2862250232753, 368.5646089033851, 663.7625342399506, 494.66055317116553], [122, 921.4176150505856, 1.0619643194293005, 973.723459562814, 106.6257582072069], [142, 842.0971040050828, 40.10267457758749, 876.066572502608, 123.80564076892168], [145, 483.9672582138103, 102.85041948528709, 522.7168325825038, 206.764991948712], [150, 93.9417285202428, 142.78707450641218, 145.7859459397376, 235.94610071823246], [152, 621.2027050318857, 83.58467136821936, 661.8241112723857, 178.11924179657694], [153, 1083.5351383208015, 37.05673708281647, 1128.7926296922108, 119.59144310748731], [162, 501.40701205591967, 312.23629196730116, 547.6381976406419, 416.89249294615786], [169, 22.185651103765125, 83.99139910996483, 62.06334331337456, 164.86458489196133], [170, 1023.0048654271932, 464.16521070430906, 1078.0648544370792, 586.2484058792833], [174, 1226.9931775403809, 67.30595886511392, 1270.9139846975509, 180.3287030159671], [176, 709.1054263717709, 454.8693203826499, 766.6308444315621, 581.124845377906], [178, 1155.9611302705598, 15.047962199141125, 1193.6968055530751, 93.6444506952908], [179, 1203.1603205353663, 4.650052096955193, 1239.7827468506925, 87.2509118392566], [186, 935.3217743292054, 607.6865258252861, 1038.5134680520412, 720.0], [190, -0.3576674666702484, 217.10182470323664, 29.35766746667025, 306.3054741097099]]\n"
          ]
        },
        {
          "output_type": "stream",
          "name": "stderr",
          "text": [
            "0: 384x640 29 persons, 1 bird, 1 dog, 176.0ms\n",
            "Speed: 3.1ms preprocess, 176.0ms inference, 1.9ms postprocess per image at shape (1, 3, 640, 640)\n",
            "\n"
          ]
        },
        {
          "output_type": "stream",
          "name": "stdout",
          "text": [
            "[<deep_sort.deep_sort.detection.Detection object at 0x7f01681662c0>, <deep_sort.deep_sort.detection.Detection object at 0x7f003548ba30>]\n",
            "<class 'list'> class\n",
            "[[36, 923.1099229288754, 1.2988459098387324, 953.6332977364054, 101.9907043858911], [77, 572.1692782656039, 6.636932559349681, 599.877714170193, 74.61781970104977], [117, 849.1266100260656, 646.0023162239124, 896.942125649017, 720.5915918049958], [120, 615.2135895775652, 372.2601814890552, 664.0585414267604, 497.97757574377], [142, 842.0661115777576, 34.95084244598534, 876.8454447383651, 120.72374866480229], [145, 486.529691736379, 99.90540463016131, 524.5444368146157, 202.02606764502238], [150, 92.72920085973387, 144.59737855709804, 145.29624512682625, 239.65312650003253], [152, 622.5167133174698, 84.21173249481578, 662.5990148374535, 178.46646398611685], [153, 1079.6849804223402, 35.5029099138591, 1126.1658646490878, 120.29375369626348], [162, 501.7686782736781, 311.2336312560494, 548.1951649915351, 415.9869178934202], [169, 22.109295791924207, 83.9991866786004, 62.41764662832942, 165.62667274517173], [170, 1023.8506083288814, 459.56935057371015, 1078.9237750496166, 581.268109522819], [174, 1227.2253877247288, 74.42025676436958, 1268.3107456046548, 177.8859984661221], [176, 709.2589162400293, 450.68382414248794, 763.7366338953208, 570.5389802333094], [178, 1154.2484827436244, 12.845261011484865, 1192.1779052477336, 92.33276374185817], [179, 1201.064544557685, 4.531315183977647, 1237.9017387513252, 86.6819028228631], [186, 933.1549890785668, 600.8126395446557, 1038.5159180201217, 720.0]]\n"
          ]
        },
        {
          "output_type": "stream",
          "name": "stderr",
          "text": [
            "0: 384x640 30 persons, 1 bird, 219.9ms\n",
            "Speed: 8.2ms preprocess, 219.9ms inference, 1.4ms postprocess per image at shape (1, 3, 640, 640)\n",
            "\n"
          ]
        },
        {
          "output_type": "stream",
          "name": "stdout",
          "text": [
            "[<deep_sort.deep_sort.detection.Detection object at 0x7f003548bdc0>, <deep_sort.deep_sort.detection.Detection object at 0x7f003548bca0>]\n",
            "<class 'list'> class\n",
            "[[36, 921.9540006908145, 2.2007793932148942, 952.6592281221015, 102.64124618532892], [117, 850.8335170116186, 651.3831454516261, 896.9576165758847, 720.5406498779832], [120, 615.6115079699857, 374.2471059410999, 664.139260947538, 499.7778257481877], [142, 842.8071913427264, 32.43629257980146, 877.6805049807675, 118.97666530078592], [145, 487.5127417824259, 96.84697253892897, 525.2073422123709, 198.26666834998787], [150, 92.38647049831302, 146.55794713223236, 145.04919837354828, 242.33025341600722], [152, 623.8048077139707, 85.06841092159794, 663.4099389172193, 178.54829047720608], [153, 1078.3885266202424, 34.29257047042555, 1123.8885458913123, 117.2834280329738], [162, 502.097423785302, 310.2956766477336, 548.8419521503295, 415.76476164279484], [169, 22.213764503818062, 84.6595945180317, 62.44008138119195, 165.91260803121048], [170, 1024.1078827230326, 456.6711174111911, 1079.9152449084452, 579.6017832733028], [174, 1226.898008089709, 78.45338072814616, 1267.1397971713432, 177.575152636501], [176, 709.6896579074532, 447.9149667962925, 762.5282932125997, 564.7534894694519], [178, 1153.8028146567146, 11.376091682886099, 1191.4891821350463, 91.20339543572184], [179, 1199.0454934604156, 3.862011761833884, 1236.5215057256175, 86.51386887188588], [186, 932.9158499367203, 597.5566289285987, 1037.296278669234, 720.0]]\n"
          ]
        },
        {
          "output_type": "stream",
          "name": "stderr",
          "text": [
            "0: 384x640 29 persons, 1 bird, 197.2ms\n",
            "Speed: 13.1ms preprocess, 197.2ms inference, 1.3ms postprocess per image at shape (1, 3, 640, 640)\n",
            "\n"
          ]
        },
        {
          "output_type": "stream",
          "name": "stdout",
          "text": [
            "[<deep_sort.deep_sort.detection.Detection object at 0x7f0168166e30>, <deep_sort.deep_sort.detection.Detection object at 0x7f003548ace0>]\n",
            "<class 'list'> class\n",
            "[[36, 921.9904945200367, 2.5710102254944402, 953.0841761428075, 102.8916095279304], [117, 851.3916361117538, 655.1557798400016, 896.9296023220265, 720.4600105917079], [120, 616.5977006105757, 375.56890145400433, 664.6478460958616, 500.34204084045325], [135, 697.3035696046392, 66.0561688257294, 720.6162873887259, 142.65127462707517], [142, 843.2482526443999, 31.54514232281793, 877.816207533769, 117.72354650706066], [145, 488.6532047154613, 95.09196632628539, 525.9667344274577, 194.92150991397443], [150, 92.21476557309592, 147.92112311371613, 145.0599608928597, 244.6128512038395], [152, 624.6985433985759, 85.35269610632734, 663.9483409773956, 178.53359825958853], [153, 1076.880139650638, 33.193693842327804, 1122.9407024226803, 117.48184511231074], [162, 501.95146701146814, 308.7053511099874, 549.322972996647, 415.7763088735853], [169, 22.239874142231034, 84.91060976056248, 62.48435909596604, 166.01655570651423], [170, 1023.6442069047644, 454.3921157549019, 1080.79648669683, 579.8024528498513], [174, 1228.0658818425381, 79.185570818082, 1268.1934079150863, 176.0811163545544], [176, 708.49997281795, 445.6730325890735, 760.8937560186298, 562.1505997393026], [178, 1152.7508730428704, 9.529558447627252, 1190.2299519380401, 89.4855459820317], [179, 1196.5208560508943, 3.6442082841997276, 1234.5512343701494, 86.489309240806], [186, 932.9476149991957, 594.4920316821949, 1036.082186226238, 720.0000000000001], [190, -1.2056443613290746, 224.64973431066082, 30.205644361329075, 319.45453712779977]]\n"
          ]
        },
        {
          "output_type": "stream",
          "name": "stderr",
          "text": [
            "0: 384x640 29 persons, 1 bird, 208.0ms\n",
            "Speed: 5.2ms preprocess, 208.0ms inference, 1.6ms postprocess per image at shape (1, 3, 640, 640)\n",
            "\n"
          ]
        },
        {
          "output_type": "stream",
          "name": "stdout",
          "text": [
            "[<deep_sort.deep_sort.detection.Detection object at 0x7f003548bdc0>, <deep_sort.deep_sort.detection.Detection object at 0x7f00354f63e0>]\n",
            "<class 'list'> class\n",
            "[[36, 921.2049019814393, 4.702194520256803, 951.3899888202022, 102.32682613816985], [117, 853.0304782425189, 659.7787945047467, 897.5313186683782, 720.3880697834476], [120, 617.9121323648345, 377.29555510452093, 665.2163811549358, 499.77742547247504], [135, 697.51878315766, 65.10268087291314, 720.8395683271486, 141.7279921861882], [142, 843.8212252456306, 31.28001239430531, 878.0948309384436, 117.32161317990182], [145, 488.8357243555551, 94.49664966406505, 525.786297619506, 192.39649026758178], [150, 91.6789329177069, 149.05159164532807, 144.93389029779178, 247.39179463079915], [152, 625.2237760074842, 86.08527497494266, 663.9329636108503, 177.82876930596626], [153, 1075.8937925754672, 32.14935479358021, 1121.1770933287705, 115.60325597211212], [162, 502.0295043226627, 306.86479689213456, 549.9994121451057, 415.85994221977927], [169, 22.23558038170171, 85.0022180231343, 62.53237320545087, 166.05063811277276], [170, 1023.1276185861593, 452.3370335526609, 1081.4263284357007, 580.0151497075325], [171, 667.0057645349392, 93.06509174148559, 695.9673760641595, 173.9773037362973], [174, 1227.6955419965507, 80.25908981564149, 1267.5834641582217, 176.57562691487595], [176, 706.3117167890409, 443.61647014881436, 758.8391079946309, 561.3551739224528], [178, 1152.467483011356, 7.5434175180853345, 1189.7272005653545, 87.54644850443736], [179, 1193.43516745348, 2.935776911401703, 1232.728984779322, 87.1795844167768], [186, 932.968278196455, 592.1328243724738, 1034.3581164889622, 720.0], [190, -1.4160851992333168, 226.03808596667642, 30.416085199233315, 322.76679182399545]]\n"
          ]
        },
        {
          "output_type": "stream",
          "name": "stderr",
          "text": [
            "0: 384x640 28 persons, 1 bird, 205.7ms\n",
            "Speed: 10.5ms preprocess, 205.7ms inference, 2.1ms postprocess per image at shape (1, 3, 640, 640)\n",
            "\n"
          ]
        },
        {
          "output_type": "stream",
          "name": "stdout",
          "text": [
            "[<deep_sort.deep_sort.detection.Detection object at 0x7f003548ba30>, <deep_sort.deep_sort.detection.Detection object at 0x7f003548aec0>]\n",
            "<class 'list'> class\n",
            "[[36, 920.7165837127304, 6.863212210335497, 950.2395019672095, 102.77406088151713], [86, 1214.1130683057545, 399.02971409936083, 1280.747466377148, 522.8885030403184], [117, 854.1118598311685, 663.9865560623725, 897.8633372242404, 720.3163016047338], [120, 618.5946332313712, 379.17929224874945, 665.2394552888957, 499.4417641692314], [142, 844.652661788707, 30.581014490676807, 878.8806930991256, 116.57328395791683], [145, 489.84558011728666, 93.6722512500322, 526.729385072191, 190.18962944011446], [150, 90.97962236131914, 150.09363593815496, 144.12156539348814, 249.04688497426451], [152, 625.3879682487598, 86.98868165449466, 663.9264592493729, 178.18934079901805], [153, 1075.5469382269475, 31.121654836316637, 1120.676360047801, 114.91852066128241], [162, 501.61465236042244, 304.92863016462474, 550.0172165282436, 415.30827166517196], [169, 22.22101615963669, 85.03314801653366, 62.57848145769913, 166.05855914358335], [170, 1023.4402720337105, 451.02157987620865, 1082.4284622111552, 579.5689644543927], [171, 667.4694457118959, 94.65082134209956, 696.261715066801, 174.3077550805407], [176, 703.2666849171599, 440.95794227327656, 757.1265247812345, 561.8691754545179], [178, 1151.526569350365, 6.1685830525134975, 1188.4797431914344, 86.18740996168755], [179, 1192.6666995557032, 2.696576613578536, 1232.3972065681928, 86.81070265044883], [181, 1110.8421023689298, 28.777027302940382, 1137.6899770363725, 107.84061529935857], [186, 933.8937971304102, 590.0545458265597, 1032.7959462375197, 719.3622928118097], [190, -1.41361051917084, 227.83591804958465, 30.413610519170838, 325.2034874936596], [192, 9.700169657745462, 421.81234877167014, 74.8878914883162, 545.9305701841784]]\n"
          ]
        },
        {
          "output_type": "stream",
          "name": "stderr",
          "text": [
            "0: 384x640 29 persons, 1 umbrella, 199.4ms\n",
            "Speed: 6.0ms preprocess, 199.4ms inference, 1.5ms postprocess per image at shape (1, 3, 640, 640)\n",
            "\n"
          ]
        },
        {
          "output_type": "stream",
          "name": "stdout",
          "text": [
            "[<deep_sort.deep_sort.detection.Detection object at 0x7f01681645b0>, <deep_sort.deep_sort.detection.Detection object at 0x7f00354f5de0>]\n",
            "<class 'list'> class\n",
            "[[36, 921.1356466281117, 7.669746124771166, 950.5343699033992, 102.94027675308298], [86, 1214.9614671871745, 401.1520954776731, 1281.8597201286736, 525.4974843187231], [117, 856.5450174822398, 670.9146987031661, 897.9841495155202, 720.2561628114345], [120, 619.7368513641421, 383.7880940363092, 665.0117340879315, 499.21648936535155], [142, 844.9584171139326, 30.37455934847781, 879.1565662497305, 116.35067762715349], [145, 491.6297852478409, 91.41995922152284, 528.2983101334279, 186.1024149915491], [150, 91.159136060599, 151.75619114437066, 143.4129333108625, 249.61483029182745], [152, 624.6828536505888, 87.95706291183953, 663.3334333375503, 178.29677858825968], [153, 1073.911460522121, 29.44367709572797, 1117.5194511129198, 112.04964725125913], [162, 501.6473990547086, 301.645440811784, 550.4586612769267, 413.2008462219818], [169, 21.68448717107671, 85.04124440463428, 62.47959546271623, 166.71764456176146], [170, 1023.9905287359795, 447.3543888983678, 1083.6539796578606, 576.8912581219688], [171, 668.4750160618853, 95.85244813612614, 696.8430481799924, 174.41428881527105], [176, 699.4496115345073, 438.7360717837453, 754.0245196202303, 561.5168892078756], [178, 1148.8746175228314, 5.688778460004677, 1185.7680021641613, 85.05179179545493], [179, 1190.825049291981, 1.9795876984337255, 1229.9803500647336, 84.06107070331149], [181, 1107.4966096057642, 26.085216236644307, 1135.2079485442634, 107.08182873102893], [186, 934.7919721572474, 585.5224581517033, 1032.3295713904927, 717.8286881166358], [190, -0.8518160042351361, 229.7818220342786, 30.517813500484525, 326.0006963973428], [192, 11.220160592978438, 422.499900367218, 77.08491498560338, 547.9071991801645]]\n"
          ]
        },
        {
          "output_type": "stream",
          "name": "stderr",
          "text": [
            "0: 384x640 29 persons, 196.4ms\n",
            "Speed: 12.9ms preprocess, 196.4ms inference, 1.3ms postprocess per image at shape (1, 3, 640, 640)\n",
            "\n"
          ]
        },
        {
          "output_type": "stream",
          "name": "stdout",
          "text": [
            "[<deep_sort.deep_sort.detection.Detection object at 0x7f01681662c0>, <deep_sort.deep_sort.detection.Detection object at 0x7f003548af20>]\n",
            "<class 'list'> class\n",
            "[[36, 921.2038541455927, 5.304304333028739, 951.3938316213524, 103.00024902059748], [77, 586.0050490656233, 7.805568633815213, 611.5552994466249, 72.01891380884264], [117, 858.2682958463458, 676.6218048809964, 897.7546808957655, 720.1922301078014], [120, 619.6443884557128, 386.0837597543015, 664.753618956004, 499.69857101541146], [142, 844.9514937245864, 29.688909220148723, 879.3522198743743, 116.32243687683274], [145, 491.6445513499661, 89.97165150450292, 528.8093574759141, 184.661750268574], [150, 91.48980463014219, 153.00137389763478, 142.93667477816334, 249.75856330775306], [152, 623.655904405899, 88.94985299809065, 663.1808340268511, 180.3055403039882], [153, 1073.0916263706304, 28.843520401506133, 1115.3666019922568, 110.33412488469793], [162, 501.80124821561014, 298.5035705373028, 550.4611949015847, 409.84021036186766], [169, 20.80013374699663, 85.69976193780363, 61.819006632257675, 167.62005490225334], [170, 1024.3679792002295, 444.10129397332736, 1084.5668768491573, 574.6667983344278], [171, 668.7544856704632, 96.93065984330013, 697.1445783412686, 175.7498477186253], [176, 696.943914855578, 436.6799192725152, 752.0820988116403, 560.8483837514407], [178, 1147.3222001165998, 4.888785729974295, 1184.0560099582692, 83.33970340328105], [179, 1190.362440498338, 1.0757992994509493, 1228.9504751157817, 81.04921122236509], [181, 1103.4364770358118, 23.86058122284839, 1132.6406300081921, 106.78077301007525], [186, 937.5043646608192, 583.2220684918877, 1029.8199591202556, 712.7531727520793], [190, -0.41410757631287964, 231.78429209941896, 30.332379825957474, 326.1715834987717]]\n"
          ]
        },
        {
          "output_type": "stream",
          "name": "stderr",
          "text": [
            "0: 384x640 30 persons, 208.7ms\n",
            "Speed: 7.9ms preprocess, 208.7ms inference, 1.5ms postprocess per image at shape (1, 3, 640, 640)\n",
            "\n"
          ]
        },
        {
          "output_type": "stream",
          "name": "stdout",
          "text": [
            "[<deep_sort.deep_sort.detection.Detection object at 0x7f003548ba30>, <deep_sort.deep_sort.detection.Detection object at 0x7f00354891b0>]\n",
            "<class 'list'> class\n",
            "[[36, 920.847436071992, 4.422388642067816, 951.4338822637683, 103.67727675541212], [77, 587.8745881369077, 7.716896339257019, 613.2970558283689, 71.61333566216875], [117, 861.0520820311209, 681.4475641351739, 896.5182495170254, 720.5762709649862], [120, 619.609764628323, 388.1751816642373, 665.3151291738156, 502.4902715306134], [142, 845.8336196499139, 29.47603322741255, 879.8321044635189, 115.04027162346051], [145, 490.39424597899574, 88.15777573160699, 528.8720059731249, 184.86995118677044], [150, 91.69906483080337, 153.42268531053838, 142.7210516492761, 249.75045317596604], [152, 622.2696812012296, 89.95053260335888, 662.793489688759, 182.35183534470235], [153, 1071.4811629806093, 27.989267804289362, 1113.3624653902418, 109.73518168641644], [162, 501.8651201154464, 295.4167831277032, 550.4309135714564, 406.65299520084085], [169, 20.067808440990753, 85.94627874086746, 61.320182356103764, 167.95556678104157], [170, 1025.7332672601551, 441.00750411726943, 1085.6196755826763, 571.2987585240548], [171, 668.2797390357321, 96.63770905255474, 697.1604443720427, 176.88003756926872], [176, 695.1487058977431, 435.3415351376763, 750.3800085962337, 560.0443662022041], [178, 1146.0562475152935, 3.964619362005763, 1182.867854993232, 82.07409274852213], [179, 1188.6509437043048, 0.7709863950049112, 1226.8775396700141, 79.29759515873661], [181, 1099.9041549506355, 22.456420765979452, 1130.617959660925, 106.76222125643741], [186, 937.3329460259857, 579.2316809492636, 1030.1208799863655, 713.9981478144025], [190, 0.15126376660228402, 232.46436013283994, 30.527770768522903, 325.45167137208773], [192, 18.764756947722617, 430.4439349730348, 85.51248337380933, 556.598888217762]]\n"
          ]
        },
        {
          "output_type": "stream",
          "name": "stderr",
          "text": [
            "0: 384x640 31 persons, 200.7ms\n",
            "Speed: 4.4ms preprocess, 200.7ms inference, 1.5ms postprocess per image at shape (1, 3, 640, 640)\n",
            "\n"
          ]
        },
        {
          "output_type": "stream",
          "name": "stdout",
          "text": [
            "[<deep_sort.deep_sort.detection.Detection object at 0x7f003548aec0>, <deep_sort.deep_sort.detection.Detection object at 0x7f01681662c0>]\n",
            "<class 'list'> class\n",
            "[[36, 920.9246701793495, 3.4327937273029434, 951.8834691489121, 103.93338391681777], [77, 588.6399695448365, 7.12227006200775, 615.5124124787939, 73.45655110688293], [120, 618.8172313703637, 390.85944595197157, 666.2890397921014, 509.44360756369747], [142, 846.1477312433993, 28.78511836751948, 880.0044639930297, 113.94193869245095], [145, 490.1420339177408, 86.87107050056565, 529.3032914545244, 184.34904758271438], [150, 91.7722093082253, 154.19687975035905, 142.02536466434066, 249.03374182748198], [152, 621.3766792303802, 90.95421140670152, 663.0069782974978, 184.41280192592973], [153, 1069.4795310078434, 27.03915134913651, 1110.8418601480598, 108.88801038964911], [162, 503.20202745480975, 293.0160783415149, 551.0597531651613, 402.2260951861026], [167, 700.6708145419187, 435.0063787804408, 762.2613997530065, 558.9756796586001], [169, 19.514255459707474, 86.03413039928932, 60.76679422784993, 167.41356224571427], [170, 1027.2949221543836, 437.3157801757025, 1086.2496175154886, 566.1730828089653], [171, 668.0032782150703, 97.15468699886985, 697.2519922612572, 178.58970613492824], [174, 1208.0988121406003, 36.13892858937522, 1260.2955485347672, 163.01684191031126], [176, 693.9322125237087, 431.63985251823215, 749.7787673250789, 558.5229416099696], [178, 1144.9043090284538, 2.9926892238053497, 1181.872354324202, 80.97935241744673], [179, 1188.0811569698442, 0.6881152307267087, 1226.1569675678743, 78.69624655220785], [181, 1098.255506383532, 21.36229420113964, 1129.759041537142, 106.85382419063777], [186, 937.819199725074, 575.2275122924076, 1029.699178362407, 713.1981635876995], [190, 0.6312511062241608, 232.65025588748682, 30.995523387897414, 325.0929345048592], [192, 19.93218251983398, 432.14141069295636, 87.8415988425439, 559.8802580685251]]\n"
          ]
        },
        {
          "output_type": "stream",
          "name": "stderr",
          "text": [
            "0: 384x640 32 persons, 209.5ms\n",
            "Speed: 10.7ms preprocess, 209.5ms inference, 1.5ms postprocess per image at shape (1, 3, 640, 640)\n",
            "\n"
          ]
        },
        {
          "output_type": "stream",
          "name": "stdout",
          "text": [
            "[<deep_sort.deep_sort.detection.Detection object at 0x7f003548bca0>, <deep_sort.deep_sort.detection.Detection object at 0x7f003548af20>]\n",
            "<class 'list'> class\n",
            "[[36, 921.2358270561487, 3.0614698464691017, 952.4227530967898, 104.02629666695427], [77, 589.5628948090019, 6.993600077245276, 616.9948492267625, 73.76569552435188], [120, 618.068169236446, 393.1027816227367, 667.0952316622819, 515.2489270169424], [142, 846.794796425983, 25.915738233708545, 880.8363928128541, 111.58697958169907], [145, 490.18749246563425, 86.44338256834769, 529.9444021928248, 184.8818456484886], [150, 91.66670516025259, 154.440337985556, 141.93871778091898, 249.3733090678246], [152, 620.3654441669476, 91.95865518665096, 663.1013348075818, 186.47451349101897], [153, 1067.1036002213586, 26.053100363075444, 1108.355359346231, 108.61014001548959], [162, 503.6115072533237, 291.54349202862284, 550.0463533747672, 396.6525477352616], [167, 701.0002550944877, 429.31058665096873, 757.0298183240355, 556.0168027335714], [169, 19.23538489415062, 86.06116119465489, 60.64944508462343, 167.19796930521466], [170, 1028.6129380291136, 434.0572480715896, 1085.707745144257, 558.3892034275125], [171, 667.7128459740475, 97.32149176023101, 697.4609676145265, 180.51872355761992], [174, 1205.8682506119146, 32.858176150888966, 1258.6566428576216, 161.39102072082852], [176, 693.8559814110115, 428.35875745636963, 749.3066012715082, 555.4070632745601], [178, 1144.3136403114167, 2.6654050725359824, 1181.0922753631428, 79.94890174559853], [179, 1187.3277601958307, 0.015601134309200404, 1225.869497302138, 79.18635718860622], [181, 1098.0245443249437, 21.69641027818721, 1128.6252749196592, 104.33453018974919], [186, 939.7281478655366, 571.8532983451217, 1027.2025452431449, 707.1205942580608], [190, 0.761427701290895, 231.99417539929695, 31.20944673875636, 324.22141419354017], [192, 21.237136806104424, 434.04352714914273, 89.67827902264511, 562.2857894938783]]\n"
          ]
        },
        {
          "output_type": "stream",
          "name": "stderr",
          "text": [
            "0: 384x640 27 persons, 203.1ms\n",
            "Speed: 2.5ms preprocess, 203.1ms inference, 1.5ms postprocess per image at shape (1, 3, 640, 640)\n",
            "\n"
          ]
        },
        {
          "output_type": "stream",
          "name": "stdout",
          "text": [
            "[<deep_sort.deep_sort.detection.Detection object at 0x7f0168166e30>, <deep_sort.deep_sort.detection.Detection object at 0x7f003548ba30>]\n",
            "<class 'list'> class\n",
            "[[36, 920.508790530551, 0.9593048736197787, 952.153252366877, 104.0562648141968], [77, 590.5894642342739, 6.289234487534586, 618.7419247260514, 73.88090025665984], [120, 617.7953510137575, 397.13763011142373, 668.0293375367538, 521.9510430424151], [142, 848.4030191806415, 22.89907379154306, 881.7361104816554, 106.78596952011009], [145, 490.20680389767773, 85.67771422887768, 530.1502925715578, 185.1419493327628], [150, 90.76111249180391, 155.1551945005762, 140.81999731306382, 249.46325051302057], [152, 619.2809135950948, 92.9630247486478, 663.1823275570459, 189.18828326447465], [153, 1059.899355512612, 24.394384480797626, 1102.6570267383293, 108.5422089249311], [162, 503.7177933427919, 287.74569323662433, 549.0087476038391, 389.9669127862307], [167, 698.5140947141657, 426.0925563608585, 754.6706938692869, 553.0896926299193], [169, 18.40627427534692, 86.06591792130234, 60.02948944341941, 167.11081102352028], [170, 1029.9683088382649, 427.6149862288641, 1085.2483423852989, 546.8835765151016], [171, 668.4598550632553, 98.01228782813577, 698.6347829497607, 182.52463581517264], [174, 1203.8226404025766, 29.36511628851163, 1257.6185407326318, 160.3505496149001], [176, 692.2969965378405, 423.9196375111657, 746.2143918626042, 547.7321556398531], [178, 1141.8948096515226, 1.2530797458934302, 1179.775647367808, 80.27202837320687], [179, 1187.066868308831, -0.2129559230876339, 1225.1662799051264, 78.74103315745488], [181, 1096.2327270831918, 21.27503062765161, 1126.865743097166, 103.46842630851495], [186, 942.8157950187586, 566.7772865462113, 1022.611020032412, 692.3244801692696], [190, 1.5396762664972403, 229.03417179105355, 33.211729472878126, 323.83497289707793], [192, 22.907751487479707, 436.0079964748067, 90.97137883862095, 563.0374743298319], [194, 1204.0931829179638, 66.32965907196981, 1255.4666460362782, 159.46033976454464]]\n"
          ]
        },
        {
          "output_type": "stream",
          "name": "stderr",
          "text": [
            "0: 384x640 27 persons, 199.2ms\n",
            "Speed: 12.2ms preprocess, 199.2ms inference, 1.5ms postprocess per image at shape (1, 3, 640, 640)\n",
            "\n"
          ]
        },
        {
          "output_type": "stream",
          "name": "stdout",
          "text": [
            "[<deep_sort.deep_sort.detection.Detection object at 0x7f01681645b0>, <deep_sort.deep_sort.detection.Detection object at 0x7f003548aec0>]\n",
            "<class 'list'> class\n",
            "[[36, 920.1795067603698, 0.17305982252241137, 951.4451679157603, 102.7582584214314], [77, 591.2642333901869, 4.71382407351043, 620.3104204896067, 73.92802151764772], [120, 617.5391274650059, 399.90522301324137, 668.5277996765597, 526.3805681512004], [142, 848.8803462731854, 19.811861816773117, 882.1727090327926, 103.69035989751097], [145, 489.97742919471847, 84.78020649615848, 529.7748337863696, 184.63280244175826], [150, 90.69064168336044, 155.3835791115876, 140.8269601156046, 249.45710536231718], [152, 618.488257949778, 93.9668768068266, 662.9444469674612, 190.83283375709925], [153, 1055.748295173761, 23.14299656134623, 1099.4591243834557, 107.89162585297774], [162, 503.5806401953331, 285.0971747332161, 548.7827453605636, 386.94722749801394], [169, 17.232444338193737, 85.40139115424408, 59.35836838340649, 167.07328306505752], [170, 1031.1143764369806, 424.02705962625134, 1085.7245231638287, 540.770786025633], [171, 668.9498873286851, 100.21042228404983, 698.8731199631587, 183.90615871477803], [174, 1203.2874838826347, 30.4726310381634, 1254.8016139924857, 156.07427231637016], [176, 690.0629265976235, 421.0204263315468, 742.1879802761625, 540.2591629728661], [178, 1140.2976830861248, 0.7548944485911591, 1178.741170976831, 80.42223625567877], [179, 1186.9584905619333, -0.2721599815332638, 1224.3501626536543, 77.94889336053703], [181, 1095.2390312000623, 20.516653872123577, 1126.0678140726898, 103.21476095378671], [186, 945.3450533473996, 561.6636808908845, 1020.2110164089353, 681.2578389093507], [190, 2.3821620322585026, 227.2471560366386, 35.36422175692066, 324.31225882343864], [192, 23.861101078708593, 435.96860272936374, 92.24373246793331, 563.178774678025], [194, 1201.7943475011455, 63.23096659401438, 1254.4154507999215, 158.95766341410487]]\n"
          ]
        },
        {
          "output_type": "stream",
          "name": "stderr",
          "text": [
            "0: 384x640 28 persons, 216.8ms\n",
            "Speed: 7.6ms preprocess, 216.8ms inference, 1.5ms postprocess per image at shape (1, 3, 640, 640)\n",
            "\n"
          ]
        },
        {
          "output_type": "stream",
          "name": "stdout",
          "text": [
            "[<deep_sort.deep_sort.detection.Detection object at 0x7f013411be50>, <deep_sort.deep_sort.detection.Detection object at 0x7f00354f6bc0>]\n",
            "<class 'list'> class\n",
            "[[36, 920.305575232803, -0.11019910508614572, 951.5707114641574, 102.90974784157919], [77, 592.8342336586169, 4.12477628546371, 622.0969896456971, 73.295147379714], [120, 617.3038397712813, 401.5256877986769, 668.8425402516382, 529.2675306445364], [142, 848.9354353574663, 17.392342621050254, 882.4217892838578, 101.93937994039234], [145, 491.15856815388946, 83.1730877793288, 530.9648499289589, 183.8274178796048], [150, 90.62894907452002, 155.432430481016, 140.9026285211198, 249.42150518933445], [152, 617.9948345798736, 94.31513914903074, 663.0512614237699, 192.06708978057253], [153, 1053.3041011898931, 24.01771857703109, 1096.6653202094342, 107.01948252868432], [162, 503.7853498300708, 282.2074444661726, 549.7686776557796, 385.9475835639805], [169, 16.900430958266718, 85.14797557510032, 59.0218397401538, 166.39652698807237], [170, 1030.5551813290092, 420.15940114691296, 1086.8249008931598, 540.0669857477885], [171, 669.8819816191982, 101.02605341515383, 699.5221372057296, 183.72619677831926], [174, 1201.3554807355476, 27.332278856119608, 1253.6293298782684, 154.78572487379952], [176, 688.9382317298428, 418.051657861262, 739.8016058483057, 534.2436685035316], [178, 1139.430733346252, 0.6029248477917122, 1178.04707994549, 79.85915818820756], [179, 1187.1901250929823, -0.26993564691334626, 1223.8654057013694, 77.02251241938382], [181, 1094.4279224877912, 20.29360244635933, 1124.402276030932, 100.53295440366557], [186, 946.6650308768468, 557.9218483497378, 1018.294398947412, 673.9438300026729], [190, 3.5756443713459554, 227.19743753456495, 37.9097047206823, 325.7641988968097], [192, 24.164862771554326, 437.2178769472325, 91.91314386484159, 563.1295599548027], [194, 1199.7491535503327, 56.56794016130988, 1254.7638820513025, 157.38572798136204]]\n"
          ]
        },
        {
          "output_type": "stream",
          "name": "stderr",
          "text": [
            "0: 384x640 30 persons, 205.2ms\n",
            "Speed: 4.3ms preprocess, 205.2ms inference, 1.8ms postprocess per image at shape (1, 3, 640, 640)\n",
            "\n"
          ]
        },
        {
          "output_type": "stream",
          "name": "stdout",
          "text": [
            "[<deep_sort.deep_sort.detection.Detection object at 0x7f003548af20>, <deep_sort.deep_sort.detection.Detection object at 0x7f003548ba30>]\n",
            "<class 'list'> class\n",
            "[[36, 920.195655618712, -0.20013467508577776, 951.1184806716512, 102.31101037526409], [77, 595.5175306909227, 3.913084541497227, 624.5148085431265, 72.3967696957214], [105, 661.7501572709027, 26.877299341792067, 689.8497825423817, 110.11630111944508], [120, 616.9404907674374, 404.0115316715295, 668.570303519445, 531.556954966243], [135, 698.4065847441223, 42.383200511474016, 723.6144084553748, 128.12695871259172], [142, 848.5785356274412, 15.88402040544581, 882.197234558083, 100.68857047195091], [145, 491.9411014117506, 81.29612694954008, 531.7116537367359, 182.905800170817], [150, 90.57351906451369, 155.41712585625513, 140.99721837199192, 249.37849523201834], [152, 617.915631955083, 94.41422603942854, 663.6489122760034, 193.14343398816857], [153, 1051.7426241879934, 24.399519994835053, 1095.1427451857755, 106.0606466312523], [162, 503.23911865870423, 279.8931491582131, 550.0848171224061, 385.6724669525425], [169, 16.317136165009124, 85.0504766106553, 58.061816035610796, 165.47440111159904], [170, 1030.4868123224003, 416.8579955168286, 1087.7198452370267, 539.2590581309032], [171, 670.7069992373756, 103.28447729811958, 699.2777613651505, 182.28722775731384], [174, 1201.8621997774708, 30.228481317899664, 1252.4300441694381, 154.65903518764088], [176, 684.6067291143727, 415.0578372768596, 734.9348940050444, 528.8133566414442], [178, 1138.953376982402, 0.5830746094250117, 1177.375880519534, 78.35754135247159], [179, 1187.7935592112071, -0.2476871282279589, 1223.2529307608572, 74.71126612798304], [181, 1092.6717834372641, 19.620033524305562, 1122.7768692442805, 99.59720712830284], [186, 947.7151989748018, 554.012331018293, 1017.7256636054282, 668.708678911048], [190, 4.162231544307751, 226.51185709753156, 40.033929563502504, 326.93753605570316], [192, 25.89883130531515, 438.85091170202696, 93.81247379273745, 565.0699110863023], [194, 1200.912841877934, 59.15352521865727, 1253.8069193808458, 156.85773113725696], [195, 935.9335403561241, 665.3062711719662, 1009.1885240351195, 719.7631586438555]]\n"
          ]
        },
        {
          "output_type": "stream",
          "name": "stderr",
          "text": [
            "0: 384x640 28 persons, 301.7ms\n",
            "Speed: 2.5ms preprocess, 301.7ms inference, 2.1ms postprocess per image at shape (1, 3, 640, 640)\n",
            "\n"
          ]
        },
        {
          "output_type": "stream",
          "name": "stdout",
          "text": [
            "[<deep_sort.deep_sort.detection.Detection object at 0x7f01681662c0>, <deep_sort.deep_sort.detection.Detection object at 0x7f003548b9a0>]\n",
            "<class 'list'> class\n",
            "[[36, 920.4863995841409, -0.21563100390965673, 951.2714709546826, 102.08336866089613], [77, 598.0148695388026, 3.8482118953028177, 626.4670076694898, 71.39987756033148], [105, 661.5642251970527, 27.100165649311876, 689.0521663372587, 108.93847405475903], [120, 616.8702547641083, 405.5216206487712, 668.3840094693211, 532.3028347031731], [135, 698.8051385363, 40.18272153730961, 723.9969754969038, 127.63388464323825], [142, 848.7950512887303, 14.72020251675685, 882.3864162843753, 99.62667274536676], [145, 492.70979792642316, 79.97461637155592, 532.1484112401979, 181.93911460520184], [150, 89.8610890896882, 156.04330070535832, 140.43034201957352, 249.99815499957762], [152, 618.3386644860274, 95.07526226136166, 664.0885402231416, 193.50579879598047], [153, 1051.2199325239724, 24.573048921501595, 1094.7197614428442, 105.06976991709791], [162, 503.53575560907177, 279.7661782286019, 550.345117544529, 385.66882693951226], [169, 15.152872846662518, 85.01372223983824, 56.68617454945296, 165.1270210211734], [170, 1031.1101820562371, 415.0824285082256, 1088.681200634268, 539.1069821824017], [171, 670.9477433299517, 104.76902616122894, 699.2289370262632, 182.35812182743445], [174, 1200.8581706072093, 29.21746233417789, 1250.9440419310454, 153.82680594722103], [176, 681.0951777359776, 412.0551538285157, 732.5391259150874, 527.6435574523771], [178, 1138.3571722007132, 0.6115863266974202, 1176.3134646705378, 77.15959394722017], [179, 1188.0715188085994, -0.21734298797439067, 1222.3879658523495, 72.54320398920211], [181, 1089.1323109518778, 18.087723436506742, 1120.5597601751736, 100.6451969624519], [186, 947.5900339839775, 550.041251466602, 1017.3812819898179, 665.5886183425528], [190, 3.9296940821484228, 225.58784022819816, 41.261592321794346, 328.00188838446013], [194, 1199.4548796528054, 56.751683161352545, 1253.2284476001419, 156.08045908851415], [195, 932.6547447491898, 661.6113667684688, 1009.82093138494, 719.2520230030705]]\n"
          ]
        },
        {
          "output_type": "stream",
          "name": "stderr",
          "text": [
            "0: 384x640 29 persons, 1 dog, 283.4ms\n",
            "Speed: 12.1ms preprocess, 283.4ms inference, 2.1ms postprocess per image at shape (1, 3, 640, 640)\n",
            "\n"
          ]
        },
        {
          "output_type": "stream",
          "name": "stdout",
          "text": [
            "[<deep_sort.deep_sort.detection.Detection object at 0x7f003548bca0>, <deep_sort.deep_sort.detection.Detection object at 0x7f0168166e30>]\n",
            "<class 'list'> class\n",
            "[[36, 920.7028460470402, -0.2055792076339813, 951.2233635247674, 101.34048943239091], [77, 599.7834445153005, 3.5191655206159496, 628.2462239198508, 71.09893683868364], [105, 660.2237035318906, 27.983404561000846, 686.8800838723798, 107.35501842417366], [120, 618.0218863042815, 407.9742346564175, 668.4427862862628, 531.1449504072859], [135, 699.436721002453, 42.6510840567647, 722.9936923190039, 124.87065160835662], [142, 849.1624067509921, 13.685277654241496, 882.804134214197, 98.63320850931535], [145, 493.9243096311438, 79.52350322455409, 532.0145636344178, 178.98318100069235], [150, 88.78855393907371, 158.237358699749, 140.38696700404168, 253.51699595483208], [152, 619.4081074110725, 95.29589966627262, 665.3308041065256, 193.59135827623118], [153, 1050.515724885266, 23.33052864386771, 1093.934422677207, 102.73411224936513], [162, 503.0374570266436, 278.50191869233254, 550.3817474990857, 385.77515342149695], [169, 14.274752987236528, 85.00034741044306, 55.32190146705683, 165.00080280122285], [170, 1032.432645643202, 411.25230935892387, 1089.890242489732, 536.5618055066833], [171, 671.5345448854473, 105.27561116485057, 700.0323994685239, 183.0262762143708], [174, 1200.6124775455514, 26.257376722975586, 1249.6802147992241, 150.26296573379094], [176, 675.9348758284862, 409.7148161434064, 728.3768659054016, 527.325976773097], [178, 1137.3005429580794, -0.04657766335198943, 1175.1291929073484, 76.24379234198625], [179, 1187.5541352209857, -0.18867473217677855, 1221.4109604292448, 71.79217919071606], [181, 1086.8568148253398, 16.710046736391142, 1118.2986144481142, 99.30502473088586], [186, 945.8409184732893, 545.3833056917845, 1016.9805854297392, 664.5711066435207], [190, 3.998136391152375, 227.17958194385594, 42.17912290122818, 329.6750107391485], [195, 927.3734856463545, 654.790998669663, 1013.524474191159, 719.7547005439682], [197, 760.7409063972759, 669.9107746283939, 820.7552389461482, 719.2480726717121]]\n"
          ]
        },
        {
          "output_type": "stream",
          "name": "stderr",
          "text": [
            "0: 384x640 28 persons, 1 dog, 285.4ms\n",
            "Speed: 7.7ms preprocess, 285.4ms inference, 1.8ms postprocess per image at shape (1, 3, 640, 640)\n",
            "\n"
          ]
        },
        {
          "output_type": "stream",
          "name": "stdout",
          "text": [
            "[<deep_sort.deep_sort.detection.Detection object at 0x7f013411be50>, <deep_sort.deep_sort.detection.Detection object at 0x7f00354f6560>]\n",
            "<class 'list'> class\n",
            "[[36, 920.7958783587428, -0.18649069056009182, 951.1929725662355, 101.06292032905452], [120, 619.4338379201855, 410.1278209860927, 669.4803468957518, 531.2325320434236], [135, 700.367548668143, 41.06106805515768, 723.2280716291845, 121.18179057824253], [142, 849.0113901224611, 14.018229120488016, 882.5629219884543, 98.32312920104496], [145, 494.41137616092453, 78.75051443762757, 531.230098166291, 175.24399126447202], [150, 87.72761512930379, 159.69408516258682, 140.39715313855157, 256.7882685387901], [152, 620.2648551758754, 96.00862168464647, 666.011441849364, 193.5788453719374], [153, 1049.730856073715, 22.223888465110257, 1093.0109736121983, 101.23229497537977], [162, 502.7388391606935, 276.78614694526095, 550.4951344006788, 385.233244865419], [169, 13.131556326101844, 84.99580741388357, 53.677364176831276, 164.95813921936264], [170, 1032.8405830073548, 408.60766220937205, 1090.3973224508047, 535.7213478277426], [171, 671.6985331493876, 105.42722086397353, 700.3627685231737, 183.248435123435], [174, 1200.542342979549, 22.597008048520927, 1249.2799254204742, 147.6405824017248], [176, 673.6107365426292, 406.95874841838685, 726.7124864551786, 526.6737716824791], [179, 1186.8751480427916, -0.1655109283880094, 1220.2583511317011, 70.88900763211493], [186, 944.6802712096992, 542.4475220955252, 1017.3546636419687, 666.2732124967439], [190, 3.9671771222323393, 228.44715426534913, 43.191585288731005, 331.58713753346694], [192, 32.55845186585444, 443.9731071380155, 101.0769867803885, 570.9882701421882], [195, 923.6187201556575, 649.7307386599674, 1014.7724014917969, 719.2828631506383], [197, 757.0674718651209, 664.8353857755787, 823.2018167078404, 719.688178503157]]\n"
          ]
        },
        {
          "output_type": "stream",
          "name": "stderr",
          "text": [
            "0: 384x640 29 persons, 1 dog, 287.7ms\n",
            "Speed: 8.7ms preprocess, 287.7ms inference, 2.0ms postprocess per image at shape (1, 3, 640, 640)\n",
            "\n"
          ]
        },
        {
          "output_type": "stream",
          "name": "stdout",
          "text": [
            "[<deep_sort.deep_sort.detection.Detection object at 0x7f003548ba30>, <deep_sort.deep_sort.detection.Detection object at 0x7f0168166e30>]\n",
            "<class 'list'> class\n",
            "[[36, 920.840150757943, -0.1666428747925579, 951.1707272293955, 100.96434675951991], [86, 1227.531543238159, 438.72765106082556, 1285.6301373883864, 555.0397162555118], [120, 619.758402528145, 411.50374556401437, 669.3877823909058, 531.1712022941547], [135, 701.139255815216, 40.52818514814556, 723.5379920385135, 118.54209335240543], [142, 849.0089824399442, 14.207565332278513, 882.388025495666, 97.60881685605847], [145, 494.60682048432494, 76.50769276072882, 530.8817226396657, 171.8937334445009], [150, 87.0927397822941, 160.87138352667367, 140.00647248518024, 257.9949959412945], [152, 620.9257527164111, 96.25000274507244, 666.5878416653807, 193.53076010254546], [153, 1048.2560857943704, 21.171872639516785, 1091.3432639226357, 100.04768643134332], [162, 502.8069865131255, 274.24199629759596, 551.0037499504919, 383.78698981682896], [169, 12.429387432370891, 85.65668132430878, 52.05398707261463, 164.94679558732741], [170, 1034.046268550237, 407.0671203010776, 1090.8023206559517, 534.20489077408], [171, 672.4774689441506, 106.10986539977581, 701.0733910317599, 183.30425401941028], [174, 1200.746647230796, 20.6405854308938, 1248.9869278236602, 146.03999397126393], [176, 672.773513954922, 405.36044897624174, 726.2310197871932, 526.5419762844062], [178, 1134.0157622557113, -0.20458763065204266, 1169.7269788640663, 69.81243111464013], [179, 1185.6029345311554, -0.14420465806013993, 1218.902605012861, 70.60206781867737], [181, 1081.6107901123687, 15.68113177809392, 1113.5579189808236, 97.78558435009921], [186, 945.4660081619348, 540.1537820163554, 1015.6414224330327, 661.1788589965569], [190, 3.8649457423500913, 232.19318148824632, 42.9684695793394, 332.92991248477483], [192, 33.58082442301002, 445.8849779906978, 104.2900038319226, 576.4292311519256], [195, 920.8452805763068, 646.5835796245235, 1015.3289914929107, 719.737955139955], [197, 755.1975665548539, 661.0455515294491, 825.308017053582, 719.8736617378268]]\n"
          ]
        },
        {
          "output_type": "stream",
          "name": "stderr",
          "text": [
            "0: 384x640 29 persons, 1 dog, 199.6ms\n",
            "Speed: 4.4ms preprocess, 199.6ms inference, 2.0ms postprocess per image at shape (1, 3, 640, 640)\n",
            "\n"
          ]
        },
        {
          "output_type": "stream",
          "name": "stdout",
          "text": [
            "[<deep_sort.deep_sort.detection.Detection object at 0x7f00354f42e0>, <deep_sort.deep_sort.detection.Detection object at 0x7f00354f44c0>]\n",
            "<class 'list'> class\n",
            "[[36, 921.3282039478814, -0.14784489789594346, 951.3503252938721, 100.2725383715628], [86, 1228.382123996934, 441.60456078412153, 1286.2922816299647, 557.5386657466398], [120, 620.0086566652284, 413.92342126394414, 668.5378970253153, 530.3962923553977], [135, 701.7729719142893, 42.40115499286012, 723.2874935246439, 116.28675987509777], [142, 849.2125287190863, 13.668333698313823, 882.7586347650503, 97.39981535222856], [145, 494.9801079835193, 74.39132882715577, 531.0906913116771, 169.3819451415692], [150, 86.93876220359763, 161.9421307126862, 140.46034474979803, 259.7242741272862], [152, 622.1789734335467, 96.97459879818442, 667.1101625390494, 192.81632557013717], [153, 1047.2110434482445, 19.476771441473822, 1090.7001313502446, 99.64717004462099], [162, 502.7187776787477, 272.6941684791676, 551.3033695841807, 383.30408200441514], [169, 12.48638982533252, 85.90601229746196, 51.177325224382045, 164.28312934143594], [170, 1033.811519487206, 404.63740458263123, 1090.9410190669291, 534.4056211611177], [171, 672.2197792328126, 106.32895747244606, 701.1998241355888, 184.62963766223783], [174, 1200.6542627172562, 18.68152081283398, 1248.4843662325623, 144.83038972828928], [176, 671.9421312270161, 404.2010774568766, 725.4386521974816, 526.601053615229], [178, 1132.9296664843023, 0.4924195067208572, 1168.7989547410957, 68.83171890278882], [179, 1184.3587178636074, -0.12623556902494215, 1217.231361206828, 69.19797479390411], [181, 1082.1931660558569, 15.52061287056133, 1113.4568160737244, 95.49230676460388], [186, 945.4070631793429, 537.4797804180187, 1014.7136488775997, 658.6760843115612], [190, 3.6031490718527515, 233.61959496824858, 43.04611458009511, 333.3897611578429], [192, 35.39488491841079, 447.56931594229553, 106.45580948433965, 578.7629469039609], [195, 918.9055269293113, 642.9215226388975, 1016.4645632568908, 719.921545080302], [197, 752.720938200029, 655.7930421320294, 827.9207361455692, 719.951037564224]]\n"
          ]
        },
        {
          "output_type": "stream",
          "name": "stderr",
          "text": [
            "0: 384x640 29 persons, 284.7ms\n",
            "Speed: 8.7ms preprocess, 284.7ms inference, 1.9ms postprocess per image at shape (1, 3, 640, 640)\n",
            "\n"
          ]
        },
        {
          "output_type": "stream",
          "name": "stdout",
          "text": [
            "[<deep_sort.deep_sort.detection.Detection object at 0x7f01681662c0>, <deep_sort.deep_sort.detection.Detection object at 0x7f00354f5210>]\n",
            "<class 'list'> class\n",
            "[[36, 921.5370440814212, -0.13001045456631743, 951.3916975178735, 100.01798091311642], [120, 620.1508729585605, 416.0683955348551, 668.1490632581574, 530.6863087859161], [135, 702.7719026420245, 43.17047490246122, 723.7652837908952, 114.17454130318785], [142, 849.2688734956294, 12.846243295248222, 882.8985092183706, 96.7072733593449], [145, 495.21451652203035, 72.3238548380915, 531.0457234137491, 166.51722797839233], [150, 86.3971917237493, 162.97027891107228, 140.4880371897027, 261.6499664730602], [152, 623.5710272670486, 97.22011996064319, 668.3649454773089, 193.1734786759523], [153, 1045.8670784736903, 17.55090280276476, 1089.558475528651, 98.87322488456104], [162, 503.1753080508275, 270.87076830349656, 551.5736863245527, 381.8740951914316], [169, 12.660315534318272, 85.99681171068463, 50.75598333187146, 164.03883179591674], [170, 1035.1978812700086, 401.85567257883594, 1091.438816567236, 531.298780354885], [171, 671.9099258837208, 107.7035142304026, 701.4392806146122, 187.74345951114253], [174, 1200.4593614783437, 17.372910126398033, 1247.8777828217478, 144.42527284484788], [176, 671.1642569286894, 401.8886944900927, 725.1154472399766, 527.3757194397517], [178, 1132.6060813728636, 0.0313314106965592, 1168.4773222672984, 66.47576916769808], [179, 1183.7116511898225, -0.1088766200007143, 1216.1988226960987, 68.04791520322192], [181, 1081.048514216944, 14.811933888369616, 1112.150013254088, 94.05124500649316], [186, 944.2801368036588, 534.6239437262261, 1014.1777114284006, 659.1643647542377], [190, 3.4120786957795097, 234.790290237518, 43.12973644524105, 333.5181989606107], [195, 915.5697383510984, 639.1355117528342, 1018.0012361616671, 719.9812165660982], [197, 751.2056623822633, 651.2917596423806, 830.1489230882554, 719.982003231625]]\n"
          ]
        },
        {
          "output_type": "stream",
          "name": "stderr",
          "text": [
            "0: 384x640 32 persons, 1 bird, 281.3ms\n",
            "Speed: 5.1ms preprocess, 281.3ms inference, 1.9ms postprocess per image at shape (1, 3, 640, 640)\n",
            "\n"
          ]
        },
        {
          "output_type": "stream",
          "name": "stdout",
          "text": [
            "[<deep_sort.deep_sort.detection.Detection object at 0x7f00354f44c0>, <deep_sort.deep_sort.detection.Detection object at 0x7f00354f6560>]\n",
            "<class 'list'> class\n",
            "[[36, 922.0037321105362, -0.11453946796237346, 951.676932107308, 99.26846199916308], [120, 620.1495300166664, 420.7924594506319, 668.7162809607444, 536.76228763455], [135, 702.5935541495722, 41.44351516745252, 723.7729114205914, 112.80505327436899], [142, 849.3270053933054, 9.93360828655802, 883.5558898371702, 95.17153717880015], [145, 495.2784810333185, 69.60879559075065, 531.0240845594562, 163.52093664326873], [150, 85.02807839167698, 165.29412564037622, 139.0637926202274, 263.6479287365215], [152, 625.2658448889758, 98.61139623556043, 669.6213135923932, 194.60565677350803], [153, 1043.7861656612797, 15.537834537650859, 1087.5398217688542, 97.95941967516356], [162, 504.5895650883008, 268.28398365982105, 551.7404427454137, 376.7952735386255], [169, 12.20288499121202, 85.36295259973619, 50.508304130426, 164.61860857518394], [170, 1036.4208484884305, 396.9688047700644, 1090.8897796168246, 522.97679367568], [171, 671.6738457044622, 108.85116979886178, 702.2849574180606, 192.17413503868568], [174, 1199.376268270175, 15.65431553282491, 1246.764408909309, 144.32499905748517], [176, 669.7558825063893, 397.82998957316187, 723.6312777650083, 525.1301224183505], [178, 1132.0128664943281, 1.2405581811684314, 1167.5808408852986, 65.68160404809737], [179, 1178.636345373614, -0.09423150889028165, 1212.652476157908, 71.03516121198308], [181, 1079.6037886238946, 13.254367160162765, 1110.828373216934, 93.56755202335339], [186, 944.3845238906463, 529.7364578356242, 1010.2088312465455, 648.3387946917031], [190, 3.7848179170312477, 235.59567994168276, 43.59336784637379, 334.54931750604896], [192, 39.360323737554964, 452.6730239893535, 112.29247203746935, 588.1168159810765], [194, 1196.641347555133, 47.73482874256582, 1247.1930061052403, 144.34751740419622], [197, 748.199063291399, 645.184410523078, 832.1941042814705, 719.9946246386602]]\n"
          ]
        },
        {
          "output_type": "stream",
          "name": "stderr",
          "text": [
            "0: 384x640 30 persons, 1 bird, 297.2ms\n",
            "Speed: 8.9ms preprocess, 297.2ms inference, 2.1ms postprocess per image at shape (1, 3, 640, 640)\n",
            "\n"
          ]
        },
        {
          "output_type": "stream",
          "name": "stdout",
          "text": [
            "[<deep_sort.deep_sort.detection.Detection object at 0x7f00354f5c90>, <deep_sort.deep_sort.detection.Detection object at 0x7f00354f4cd0>]\n",
            "<class 'list'> class\n",
            "[[36, 922.1644855223419, -0.10040431320756227, 951.7939855361436, 98.99543067003708], [105, 667.7143074603388, 34.97175237860686, 694.6774992047624, 113.73440009570359], [120, 620.0188799039526, 424.44621797628525, 670.3722937851549, 544.2505267101334], [135, 702.4142886416959, 39.507310285877736, 723.8745979179413, 111.69499858863207], [142, 849.5906636837886, 6.905487809040679, 884.2019880406608, 93.32002555542574], [145, 495.72950995166474, 67.32424351080677, 531.8955819079825, 162.479731591397], [150, 84.4859686843165, 166.41382521680413, 138.67516112597707, 265.04529458541253], [152, 625.8787495635496, 100.43358357670184, 670.0898040266188, 197.10329334394834], [153, 1041.5868735580134, 14.809407577001302, 1085.6824317224605, 98.96156766224183], [162, 505.25489263787097, 266.0616351277484, 551.0018403990833, 371.60978661656804], [169, 11.88015399563384, 85.12475461287121, 50.60830108785261, 166.15776250768909], [170, 1037.9403062203949, 392.58508835037946, 1089.5680431290375, 511.2756737370023], [171, 671.714674312478, 109.9108818434103, 702.4603447363796, 193.82633444599674], [174, 1198.511708500734, 15.081602100884155, 1245.5517651015884, 143.6805578901285], [176, 668.0958111836244, 395.0575460617616, 721.718455383035, 523.688660986654], [178, 1130.6434138318536, 1.0150071375427387, 1167.1508158198142, 66.14028659375857], [179, 1177.1065949622998, -0.08570980555353458, 1211.7620913553983, 71.47484714065787], [181, 1076.9492127557348, 13.37086522765076, 1107.954249550365, 92.76877604388346], [186, 945.5689553820251, 526.0277009526562, 1008.233342810919, 639.5699444434792], [190, 3.683882820347417, 234.5275394638833, 44.36325740356399, 333.5669480906316], [192, 41.18797546943353, 454.5294907411527, 114.62746391941218, 590.9154631060093], [194, 1196.0608048660843, 47.39976099433191, 1245.249003615204, 143.6958295192651], [197, 745.5055099029393, 639.7104736485084, 833.2586576312126, 719.9996294464106]]\n"
          ]
        },
        {
          "output_type": "stream",
          "name": "stderr",
          "text": [
            "0: 384x640 34 persons, 1 bird, 289.3ms\n",
            "Speed: 2.6ms preprocess, 289.3ms inference, 2.0ms postprocess per image at shape (1, 3, 640, 640)\n",
            "\n"
          ]
        },
        {
          "output_type": "stream",
          "name": "stdout",
          "text": [
            "[<deep_sort.deep_sort.detection.Detection object at 0x7f01681662c0>, <deep_sort.deep_sort.detection.Detection object at 0x7f003548ba30>]\n",
            "<class 'list'> class\n",
            "[[36, 922.2093214869578, -0.08831510711640078, 951.8457979721062, 98.9037550362008], [105, 668.2906684818626, 36.6866567318888, 695.4249707983635, 114.00392722081216], [120, 619.7497875979536, 426.39192941789605, 670.5459336757151, 546.985683504158], [135, 702.5460030114779, 37.49198643604025, 724.3626038027335, 111.34673629696876], [142, 850.1547709950338, 5.145646818707455, 883.965034798795, 89.38080433192326], [145, 495.79182570092826, 65.86754803860981, 532.3060941911244, 162.15971945384567], [150, 82.63879237383532, 166.34269501674143, 137.08309884254385, 265.3223896632567], [152, 626.5905952163583, 101.75253330387571, 670.4078457334715, 198.6750129229342], [153, 1039.1912826851674, 13.915395353177345, 1083.3880571078219, 98.72007053676154], [162, 505.8973492834265, 263.98270504025663, 550.3135909982053, 366.41355276290284], [169, 11.520765020400002, 85.03474193965324, 50.268025725312356, 166.7416805757452], [170, 1038.9830809174973, 389.0766627184559, 1089.890080482889, 505.0150262963936], [171, 671.8458659505301, 110.28486721881599, 702.3898422878383, 193.75833724888463], [174, 1198.7891407852258, 14.954811407316939, 1245.2124666257293, 142.17052459030663], [176, 666.0263905260388, 392.13248575738913, 718.6417830468874, 519.9432947751889], [178, 1129.3547314107238, 0.2688096864491456, 1166.5177748564124, 65.6715290781135], [179, 1176.3544708084016, -0.07542719718853164, 1211.0441694826286, 70.34711625077952], [181, 1074.2762806662656, 12.79998520633589, 1105.370718775318, 91.85647956405549], [186, 946.8581862877986, 522.1199710132731, 1006.704293811139, 631.0932618924546], [190, 3.7087947717161853, 234.36723792048468, 45.24765846993658, 333.44833466350076], [194, 1195.062364810031, 45.67964502788838, 1244.437779865996, 142.34226991590924], [197, 744.3074804660503, 636.97936093768, 832.5523225899236, 720.001541273891]]\n"
          ]
        },
        {
          "output_type": "stream",
          "name": "stderr",
          "text": [
            "0: 384x640 30 persons, 1 bird, 206.2ms\n",
            "Speed: 6.1ms preprocess, 206.2ms inference, 1.7ms postprocess per image at shape (1, 3, 640, 640)\n",
            "\n"
          ]
        },
        {
          "output_type": "stream",
          "name": "stdout",
          "text": [
            "[<deep_sort.deep_sort.detection.Detection object at 0x7f003548bdc0>, <deep_sort.deep_sort.detection.Detection object at 0x7f003548b9a0>]\n",
            "<class 'list'> class\n",
            "[[36, 922.1267277603598, -0.0777529122832945, 951.9569659074565, 99.54236811491208], [105, 669.2985233237083, 37.949534932995746, 696.8961831874473, 114.76493413436943], [120, 619.3402983332196, 428.3413769008547, 672.2154717513039, 553.846800268344], [135, 702.5383732207148, 36.77557755569703, 724.5865959590494, 111.93201854955245], [142, 850.3416221445538, 3.8775172843949193, 883.8761648465602, 87.2654116723732], [145, 496.5900858579709, 64.72114785108667, 532.980126685479, 160.7919070686159], [150, 81.96640131724243, 167.34067959172052, 136.56835456818334, 266.6052523638281], [152, 626.8474113867744, 102.87934939712966, 670.5016458118118, 200.5532470497696], [153, 1038.2400521220645, 14.268657160602174, 1081.3694825608477, 96.69155479449343], [162, 506.2448089134504, 261.2866156635085, 549.9331969473285, 361.90081931036616], [169, 11.205246816630133, 85.00123684471792, 49.70249238084669, 166.96150433805792], [170, 1039.8812520691934, 385.2317588070656, 1090.7934029585867, 500.2081797718874], [171, 672.2068663673421, 110.39092762744866, 702.031432217661, 191.70365258238309], [174, 1198.7186607711578, 16.31429240567911, 1244.020498455382, 140.32362756153654], [176, 663.2571973862026, 389.8054730136175, 714.9934846576027, 516.6145291763223], [178, 1128.4941884578775, 0.0002743372433187119, 1166.0835414454832, 65.54279980864598], [179, 1175.7339208014344, -0.06527845246449004, 1210.561524133339, 69.27359374540833], [181, 1072.7236844551906, 11.294298573136665, 1103.7828422352438, 90.89649606886977], [186, 945.5555210230187, 518.1389737270976, 1005.934482254506, 628.8560313651216], [190, 4.082613772677547, 234.88929096972356, 45.70223946304655, 334.16275943752987], [197, 742.5045134785471, 632.2672567871358, 832.9574324970213, 720.002140649973], [199, 926.1031034699112, 618.3829390305268, 1002.9787630361516, 719.9999999999999]]\n"
          ]
        },
        {
          "output_type": "stream",
          "name": "stderr",
          "text": [
            "0: 384x640 31 persons, 1 bird, 211.0ms\n",
            "Speed: 14.3ms preprocess, 211.0ms inference, 1.5ms postprocess per image at shape (1, 3, 640, 640)\n",
            "\n"
          ]
        },
        {
          "output_type": "stream",
          "name": "stdout",
          "text": [
            "[<deep_sort.deep_sort.detection.Detection object at 0x7f01681662c0>, <deep_sort.deep_sort.detection.Detection object at 0x7f003548af20>]\n",
            "<class 'list'> class\n",
            "[[36, 922.1747629782865, 0.59152136880558, 951.9128824763759, 99.79073930971009], [105, 670.3391141677422, 39.039904959553766, 698.0756576369004, 115.70458498985472], [120, 618.8587891092928, 430.95680523715805, 671.8611487702742, 557.004169310836], [135, 702.6459622247404, 36.54714616151647, 724.5438812138655, 111.55004829473356], [142, 851.220681715578, 4.12518537885704, 883.6791469633804, 84.54351145360431], [145, 496.7826212155381, 63.69382603626013, 533.3203774395721, 160.3453873898829], [150, 80.83274605515953, 168.07326081613746, 134.67509804148, 265.62476543880854], [152, 627.4403031675005, 105.24727247084792, 670.0047636180282, 201.22580788963734], [153, 1035.25482981717, 14.455873513145093, 1078.7422046044258, 97.2762861641082], [162, 506.50870787963777, 258.36464189069136, 550.3157193233799, 359.0048129779092], [169, 11.204437536418645, 84.98968123983894, 49.4085392639669, 167.0395361614987], [170, 1040.2596453644717, 382.6071190937106, 1091.7027534106844, 497.26837759540604], [171, 672.3950481053273, 111.16999931483909, 702.2560897423715, 192.58193382190245], [174, 1198.3200953782527, 14.917012746732745, 1244.0194858389855, 139.0126057587804], [176, 661.6869471441394, 387.708436612886, 711.6491086607045, 510.15943633737857], [178, 1127.2284375782835, 0.5786040364267038, 1164.9493625527537, 65.53603425132349], [179, 1175.5158837358247, -0.05674418770077949, 1210.468924900659, 68.22753424952143], [181, 1071.6070565256684, 9.441896629720993, 1102.5464449079723, 89.91701600184021], [186, 944.7051838594482, 514.8040109232958, 1004.737038728396, 625.5008663489323], [192, 43.959424750820595, 460.01169560179744, 116.14086260984391, 595.5098995030306], [197, 742.6704595302505, 629.8613313896428, 832.8703985749758, 720.0022701225837], [199, 924.1397215248818, 615.4649808204977, 1002.594178922029, 719.2515612754623], [200, 1235.6408621179432, 184.106237549818, 1281.2839855933976, 300.52397845704337]]\n"
          ]
        },
        {
          "output_type": "stream",
          "name": "stderr",
          "text": [
            "0: 384x640 32 persons, 1 bird, 203.4ms\n",
            "Speed: 6.5ms preprocess, 203.4ms inference, 1.4ms postprocess per image at shape (1, 3, 640, 640)\n",
            "\n"
          ]
        },
        {
          "output_type": "stream",
          "name": "stdout",
          "text": [
            "[<deep_sort.deep_sort.detection.Detection object at 0x7f003548aec0>, <deep_sort.deep_sort.detection.Detection object at 0x7f003548ace0>]\n",
            "<class 'list'> class\n",
            "[[36, 923.0967606650604, 2.1743528268287022, 952.3098613654247, 99.22885728524963], [105, 671.0627444619607, 40.201637160550405, 698.5255270706215, 116.11594418130827], [120, 619.4647229403587, 435.1372305270027, 672.2171466132305, 560.7129607109358], [135, 701.612460464273, 34.52197413149581, 724.2601959398229, 112.11967061793247], [142, 851.8923656742513, 2.9456140185327726, 883.9128762636026, 82.25483304002776], [145, 496.79223077649743, 63.364829449674204, 532.8256454478599, 158.91871671842014], [150, 79.41302167996116, 169.693847996854, 132.59133886477716, 265.5379168437686], [152, 629.4090607001935, 108.10126073675723, 670.6859179113749, 202.09598735450027], [153, 1031.7558355371405, 13.231490908540444, 1075.6566513323698, 96.85705059853825], [162, 506.72830776083987, 256.0323199226178, 550.9903462337967, 357.37259965152066], [169, 11.06793270468457, 85.64492258187258, 48.81368629028158, 167.0633515946647], [170, 1040.9830010353087, 380.43004891766736, 1093.4146562429728, 496.3496957055796], [174, 1197.6451783479386, 13.78771286220283, 1243.277381569224, 137.24504062238194], [176, 660.3887216923778, 384.3670361808642, 707.9443491059603, 500.4662911741155], [178, 1125.5506794872294, 0.13643831976779808, 1163.8106001237734, 65.573060497423], [179, 1174.1633967125704, -0.04942390270660013, 1208.4545080585624, 66.52536940477492], [181, 1070.770024540595, 7.461969751914843, 1100.661996120242, 85.63436352555459], [186, 944.6472168835169, 510.3763025097301, 1004.0743838702932, 620.4255875667839], [190, 2.626959946816811, 240.21302116937525, 47.596967324287164, 346.0726452848379], [192, 45.8867946187376, 462.6459061377251, 115.89840470654096, 595.2327347369387], [197, 741.9327968284471, 625.896695876985, 833.0377299580063, 720.0021681365153], [199, 922.0416950423971, 613.4705901916858, 1001.8156994362387, 719.0027858240421], [200, 1233.692841880102, 177.79399882756078, 1280.9531333395196, 298.6285427800411]]\n"
          ]
        },
        {
          "output_type": "stream",
          "name": "stderr",
          "text": [
            "0: 384x640 31 persons, 1 bird, 224.0ms\n",
            "Speed: 5.6ms preprocess, 224.0ms inference, 1.5ms postprocess per image at shape (1, 3, 640, 640)\n",
            "\n"
          ]
        },
        {
          "output_type": "stream",
          "name": "stdout",
          "text": [
            "[<deep_sort.deep_sort.detection.Detection object at 0x7f01681662c0>, <deep_sort.deep_sort.detection.Detection object at 0x7f003548bca0>]\n",
            "<class 'list'> class\n",
            "[[36, 923.4963780313215, 3.4409105920062544, 952.4011038213526, 99.02185986563376], [120, 621.7032858019086, 438.60625922435577, 672.3048373582136, 558.0581652881133], [135, 701.7625189752101, 34.445570680137294, 724.2630171940681, 111.70733586470921], [142, 852.3890878666215, 1.8901821241245926, 884.398773408055, 81.48089932855802], [145, 497.290365938007, 63.30682253360797, 532.7764635046259, 157.78187815080028], [150, 78.64243249438775, 170.73417557005726, 131.76204091298536, 266.47059911389533], [152, 630.1372912572318, 109.7917482378596, 670.9135218745396, 203.04493087939272], [153, 1029.944655302127, 12.796851962013847, 1073.804316082625, 96.72291346167215], [162, 506.63477560136454, 254.5819508311225, 551.4046187605209, 356.86828229994956], [169, 10.665280257335269, 85.89447469973733, 48.31654962682037, 167.72757079245264], [170, 1041.0078472038108, 379.0730379626606, 1094.9133227447971, 497.48056009722177], [174, 1197.0346910749845, 13.42304182756422, 1242.0905598944405, 133.97941219139346], [176, 659.1391944454607, 381.8976213234379, 705.5143493785033, 494.28398827002434], [178, 1124.6072849137345, -0.02099205657650316, 1163.120574185624, 65.61406471586913], [179, 1174.0901224337447, -0.04267973917028911, 1207.3709955774254, 63.90411319326326], [181, 1069.3160716476586, 6.76006854602484, 1099.264392102845, 85.39046239983861], [186, 941.9553895479817, 506.8698867298307, 1004.5482655987946, 624.0355818981678], [190, 2.197597680322776, 242.3865957721087, 48.113178465881646, 349.2773585083637], [192, 48.044951334377195, 465.5262179567416, 115.63166600549826, 594.4665691691738], [197, 741.7716664515076, 623.1703681067124, 832.3601831531132, 720.0020271604473], [200, 1232.3802178243707, 175.2281804288492, 1280.0566955425898, 297.23649367678786]]\n"
          ]
        },
        {
          "output_type": "stream",
          "name": "stderr",
          "text": [
            "0: 384x640 32 persons, 1 bird, 184.2ms\n",
            "Speed: 2.8ms preprocess, 184.2ms inference, 2.3ms postprocess per image at shape (1, 3, 640, 640)\n"
          ]
        },
        {
          "output_type": "stream",
          "name": "stdout",
          "text": [
            "[<deep_sort.deep_sort.detection.Detection object at 0x7f003548bdc0>, <deep_sort.deep_sort.detection.Detection object at 0x7f003548b850>]\n",
            "<class 'list'> class\n",
            "[[36, 923.9835762624095, 3.9046199836709548, 952.7527047906453, 98.95142806521565], [120, 620.9618869006811, 441.13077762959307, 673.9155520341034, 566.9304538474576], [135, 701.648159022363, 32.490922236480365, 724.4273088832425, 110.2742856252585], [142, 852.0976546752156, 0.8789922049673251, 884.3680388366844, 81.25666233951142], [145, 497.50112076813787, 62.67596954670576, 532.7110523625989, 156.7528087547987], [150, 77.69291434702673, 171.16734536560637, 130.48093102040394, 265.51927226553414], [152, 631.0980223852853, 110.37179672263206, 671.6000594718081, 203.3589994306708], [153, 1029.4851939666878, 12.663238048768918, 1073.0304383487992, 96.69739466853606], [162, 506.84671755114215, 254.12089057158553, 551.9599214369105, 356.77852572314725], [169, 10.230259861130545, 85.98651298845479, 47.78695079225945, 167.97199358053075], [170, 1040.8947538240036, 378.01098460686586, 1095.551418235425, 497.3702274666725], [171, 674.1953677787374, 111.28808424900299, 705.3323449369498, 195.91000607840812], [174, 1196.4308724197283, 12.017682821236214, 1241.4184920966911, 131.47128291402896], [176, 657.247010518291, 379.7540236003641, 702.8606489744566, 490.15407210836554], [178, 1123.5198712201852, -0.0723214795196796, 1162.351721766319, 66.32085245862385], [179, 1173.9351155294328, -0.03636672891623505, 1206.5279716288242, 61.61666428183996], [181, 1068.3524830322574, 7.1993508101072266, 1097.302609237452, 83.35678701755066], [186, 941.0260234623412, 504.34364816877246, 1004.6837357577458, 624.7658370673978], [190, 2.299252303512212, 244.46684635391645, 48.68543800497051, 351.06374785597376], [192, 49.01105743694822, 467.18432563477097, 115.23917126246275, 594.7701189853599], [197, 741.3424515590372, 619.690426503072, 831.8409552400384, 720.0018526826133], [199, 916.5557838234658, 612.6352956569464, 996.9733490311222, 719.8450489737864], [200, 1232.5080958804563, 173.2959896836197, 1279.870050415054, 294.7043187944441]]\n"
          ]
        }
      ]
    },
    {
      "cell_type": "code",
      "source": [
        "# colors = [(random.randint(0, 255), random.randint(0, 255), random.randint(0, 255)) for j in range(10)]\n",
        "ret, frame = cap.read()\n",
        "detection_threshold = 0.5\n",
        "while ret:\n",
        "\n",
        "    results = model(frame)\n",
        "\n",
        "    for result in results:\n",
        "        detections = []\n",
        "        for r in result.boxes.data.tolist():\n",
        "          x1, y1, x2, y2, score, class_id = r\n",
        "          # print(r)\n",
        "          x1 = int(x1)\n",
        "          x2 = int(x2)\n",
        "          y1 = int(y1)\n",
        "          y2 = int(y2)\n",
        "          class_id = int(class_id)\n",
        "          if score > detection_threshold:\n",
        "              detections.append([x1, y1, x2, y2, score])\n",
        "\n",
        "        bboxes = np.asarray([d[:-1] for d in detections])\n",
        "        # print(bboxes.shape)\n",
        "        bboxes[:, 2:] = bboxes[:, 2:] - bboxes[:, 0:2]\n",
        "        # print(bboxes.shape)\n",
        "        scores = [d[-1] for d in detections]\n",
        "        features = encoder(frame, bboxes)\n",
        "        dets = []\n",
        "        for bbox_id, bbox in enumerate(bboxes):\n",
        "          # print(bbox,'s',scores[bbox_id],'f',features[bbox_id])\n",
        "          dets.append(Detection(bbox, scores[bbox_id], features[bbox_id]))\n",
        "          # dets.append([bbox,scores[bbox_id],features[bbox_id]])\n",
        "        print((dets[0:2]))\n",
        "        print(type(dets),\"class\")\n",
        "        \n",
        "        # print(type(dets))\n",
        " \n",
        "        tracker.predict()\n",
        "        tracker.update(dets)\n",
        "\n",
        "        result = []\n",
        "        for track in tracker.tracks:\n",
        "            if not track.is_confirmed() or track.time_since_update > 1:\n",
        "                continue\n",
        "            bbox = track.to_tlbr()\n",
        "            id = track.track_id\n",
        "\n",
        "            result.append([ id, bbox[0], bbox[1], bbox[2], bbox[3]])\n",
        "        print(result)\n",
        "\n",
        "\n",
        "      \n",
        "\n",
        "\n",
        "\n",
        "        # for track in tracker.tracks:\n",
        "        #     bbox = track.bbox\n",
        "        #     x1, y1, x2, y2 = bbox\n",
        "        #     track_id = track.track_id\n",
        "\n",
        "        #     cv2.rectangle(frame, (int(x1), int(y1)), (int(x2), int(y2)), (colors[track_id % len(colors)]), 3)\n",
        "\n",
        "    cap_out.write(frame)\n",
        "    ret, frame = cap.read()\n",
        "\n",
        "cap.release()\n",
        "cap_out.release()\n",
        "cv2.destroyAllWindows()"
      ],
      "metadata": {
        "id": "qyKcCRxsvfiH"
      },
      "execution_count": null,
      "outputs": []
    }
  ]
}